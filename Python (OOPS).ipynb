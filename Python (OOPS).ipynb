{
 "cells": [
  {
   "cell_type": "code",
   "execution_count": 14,
   "id": "3a66fe95",
   "metadata": {},
   "outputs": [],
   "source": [
    "from imp_personal import *\n",
    "c = MyFunction()"
   ]
  },
  {
   "cell_type": "markdown",
   "id": "d1594838",
   "metadata": {},
   "source": [
    "# Python (OOPS) \n",
    "By [Chandrashekhar Robbi](https://github.com/ChandrashekharRobbi)\n",
    "\n",
    "### What all we are going to discuss?\n"
   ]
  },
  {
   "cell_type": "code",
   "execution_count": 15,
   "id": "a90b3dad",
   "metadata": {},
   "outputs": [
    {
     "name": "stdout",
     "output_type": "stream",
     "text": [
      "Types of Programming\n",
      "7. [Types of Programming](#Types-of-Programming)\n",
      "#### Types of Programming\n",
      "Successfully added to the comment list\n"
     ]
    }
   ],
   "source": [
    "c.new(\"Types of Programming\")"
   ]
  },
  {
   "cell_type": "markdown",
   "id": "3f456f68",
   "metadata": {},
   "source": [
    "# Types of Programming\n",
    "\n",
    "\n",
    "\n",
    "\n",
    "\n",
    "\n",
    "1. Procedural Programming:\n",
    "\n",
    "    <p>We break the code into set of functions and these functions call each other</p>\n",
    "    \n",
    "\n",
    "    \n",
    "2. Object Oriented Programming:\n",
    "\n",
    "    <p>We break the code into set of entities and these entities talk to each other. These entities have data and methods</p>\n",
    "    \n",
    "3. Functional Programming:\n",
    "    <p>Functional Programming is the use of pure high-order functions to develop applications. </p>\n",
    "    "
   ]
  },
  {
   "cell_type": "code",
   "execution_count": 16,
   "id": "3be87ce9",
   "metadata": {},
   "outputs": [
    {
     "name": "stdout",
     "output_type": "stream",
     "text": [
      "Classes and Objects\n",
      "7. [Classes and Objects](#Classes-and-Objects)\n",
      "#### Classes and Objects\n",
      "Successfully added to the comment list\n"
     ]
    }
   ],
   "source": [
    "c.new(\"Classes and Objects\")"
   ]
  },
  {
   "cell_type": "markdown",
   "id": "d4a50b6a",
   "metadata": {},
   "source": [
    "### Classes and Objects\n",
    "\n",
    "<img src=\"https://intellipaat.com/mediaFiles/2019/03/python10.png\" width=\"650px\" height=\"600px\"  align=\"left\">\n",
    "\n",
    "#### `Classes`: \n",
    "A blueprint for objects. A class is a user-defined type that describes what a certain type of object will look like. A class description consists of a declaration and a definition.\n",
    "\n",
    "#### `Objects`:\n",
    "An encapsulation of data along with functions that act upon that data.\n",
    "\n",
    "> `self` : It is a special member which is used for references as well as accessing the data members from the current `class`\n",
    "\n",
    "\n",
    "An object consists of:\n",
    "\n",
    "* Name -- the variable name we give it\n",
    "* Member data -- the data that describes the object\n",
    "* Member functions -- behavior aspects of the object (functions related to the object itself)"
   ]
  },
  {
   "cell_type": "code",
   "execution_count": 2,
   "id": "4db12b36",
   "metadata": {},
   "outputs": [],
   "source": [
    " class MyCar:\n",
    "    def __init__(self): # use as a constructor\n",
    "        self.wheel = 4\n",
    "        self.window = 4\n",
    "\n",
    "    def Colour(self, color):\n",
    "        return f\"Your car have {self.wheel} wheels,{self.window} window having {color} color\"\n",
    "\n",
    "    def BrandName(self,brandname):\n",
    "        return f\"Your car have {self.wheel} wheels,{self.window} window of Company {brandname}\"\n",
    "\n",
    "    def Category(self, category):\n",
    "        return f\"Your car have {self.wheel} wheels,{self.window} window belongs to category {category}\""
   ]
  },
  {
   "cell_type": "markdown",
   "id": "e95c53b6",
   "metadata": {},
   "source": [
    "**Now we have successfully created the blueprint**\n",
    "\n",
    "Let's use the blueprint and make some objects(fancy cars🚗)"
   ]
  },
  {
   "cell_type": "code",
   "execution_count": 8,
   "id": "c66d3e8a",
   "metadata": {},
   "outputs": [],
   "source": [
    "a = MyCar()"
   ]
  },
  {
   "cell_type": "code",
   "execution_count": 9,
   "id": "d4b726c1",
   "metadata": {},
   "outputs": [
    {
     "name": "stdout",
     "output_type": "stream",
     "text": [
      "Your car have 4 wheels,4 window having blue color\n",
      "Your car have 4 wheels,4 window of Company Ford\n",
      "Your car have 4 wheels,4 window belongs to category Mustang\n"
     ]
    }
   ],
   "source": [
    "print(a.Colour('blue'))\n",
    "print(a.BrandName('Ford'))\n",
    "print(a.Category('Mustang'))"
   ]
  },
  {
   "cell_type": "code",
   "execution_count": 10,
   "id": "35e84d66",
   "metadata": {},
   "outputs": [],
   "source": [
    "b = MyCar()"
   ]
  },
  {
   "cell_type": "code",
   "execution_count": 11,
   "id": "45c02bb4",
   "metadata": {},
   "outputs": [
    {
     "name": "stdout",
     "output_type": "stream",
     "text": [
      "Your car have 4 wheels,4 window having red color\n",
      "Your car have 4 wheels,4 window of Company Toyota\n",
      "Your car have 4 wheels,4 window belongs to category Prius\n"
     ]
    }
   ],
   "source": [
    "print(a.Colour('red'))\n",
    "print(a.BrandName('Toyota'))\n",
    "print(a.Category('Prius'))"
   ]
  },
  {
   "cell_type": "markdown",
   "id": "4c4b1a93",
   "metadata": {},
   "source": [
    "> As above we have created 2 objects by using same class\n",
    "\n",
    "In other words we can say we can build various building by using same template / design \n",
    "\n",
    "**That's why we say `object is instance of class`**"
   ]
  },
  {
   "cell_type": "code",
   "execution_count": 17,
   "id": "4168754c",
   "metadata": {},
   "outputs": [
    {
     "name": "stdout",
     "output_type": "stream",
     "text": [
      "Encapsulation\n",
      "7. [Encapsulation](#Encapsulation)\n",
      "#### Encapsulation\n",
      "Successfully added to the comment list\n"
     ]
    }
   ],
   "source": [
    "c.new(\"Encapsulation\")"
   ]
  },
  {
   "cell_type": "markdown",
   "id": "b20ae252",
   "metadata": {},
   "source": [
    "### Encapsulation\n",
    "<img src=\"https://www.cpp.thiyagaraaj.com/cms/assets/cimages/encapsulation.png\" align=\"left\" />\n",
    "\n",
    "\n",
    "\n",
    "\n",
    "1. Encapsulation is a way to restrict the direct access to some components of an object, so users cannot access state values for all of the variables of a particular object. \n",
    "2. Encapsulation can be used to hide both \n",
    "     * `data members`: (Data members include members that are declared with any of the fundamental types, as well as other types, including pointer, reference, array types, bit fields, and user-defined types)\n",
    "     * `data functions`: (it is same as functions (A function is a block of code which only runs when it is called.)) or methods(functions) associated with an instantiated class or object.\n",
    "     \n",
    "* Encapsulation helps in consistency\n",
    "* Encapsulation is also defined as bundling of data members and data methods"
   ]
  },
  {
   "cell_type": "code",
   "execution_count": 19,
   "id": "6ca4ca6d",
   "metadata": {},
   "outputs": [
    {
     "name": "stdout",
     "output_type": "stream",
     "text": [
      "It is already in the list\n"
     ]
    }
   ],
   "source": [
    "c.new(\"Class Instance Attributes\")"
   ]
  },
  {
   "cell_type": "markdown",
   "id": "6b5d0a44",
   "metadata": {},
   "source": [
    "## Class Instance Attributes\n",
    "\n",
    "<img src=\"https://pynative.com/wp-content/uploads/2021/08/class_attributes_in_python.jpg\" align=\"left\"/>\n",
    "\n",
    "\n",
    "\n",
    "1. **Instance Attributes**: Unique to every object\n",
    "        * If any changes it stayed inside that instance(object)\n",
    "2. **Class Attributes**: Shared With all objects\n",
    "        * If any changes occur it will effect to all the objects"
   ]
  },
  {
   "cell_type": "code",
   "execution_count": 39,
   "id": "a8f575f9",
   "metadata": {},
   "outputs": [],
   "source": [
    " class MyCar:\n",
    "    repository_of = \"Chandrashekhar Robbi\" # class attribute \n",
    "    def __init__(self,wheel,window): # It is a instance variable means the below two value present \n",
    "                        # in every object has been created using this class\n",
    "        self.wheel = wheel\n",
    "        self.window = window\n",
    "\n",
    "    def Colour(self, color):\n",
    "        return f\"Your car have {self.wheel} wheels,{self.window} window having {color} color\"\n",
    "\n",
    "    def BrandName(self,brandname):\n",
    "        return f\"Your car have {self.wheel} wheels,{self.window} window of Company {brandname}\"\n",
    "\n",
    "    def Category(self, category):\n",
    "        return f\"Your car have {self.wheel} wheels,{self.window} window belongs to category {category}\""
   ]
  },
  {
   "cell_type": "code",
   "execution_count": 41,
   "id": "17dbd68a",
   "metadata": {},
   "outputs": [],
   "source": [
    "a = MyCar(4,4)"
   ]
  },
  {
   "cell_type": "code",
   "execution_count": 46,
   "id": "d2747fde",
   "metadata": {},
   "outputs": [
    {
     "name": "stdout",
     "output_type": "stream",
     "text": [
      "Chandrashekhar Robbi\n",
      "4\n",
      "4\n"
     ]
    }
   ],
   "source": [
    "print(a.repository_of)  # it is class attribute same for each object created\n",
    "print(a.wheel) # it is instance attribute different / same for specific object\n",
    "print(a.window)"
   ]
  },
  {
   "cell_type": "code",
   "execution_count": 44,
   "id": "98046ad0",
   "metadata": {},
   "outputs": [],
   "source": [
    "b = MyCar(6,6)"
   ]
  },
  {
   "cell_type": "code",
   "execution_count": 47,
   "id": "79406b16",
   "metadata": {},
   "outputs": [
    {
     "name": "stdout",
     "output_type": "stream",
     "text": [
      "Chandrashekhar Robbi\n",
      "6\n",
      "6\n"
     ]
    }
   ],
   "source": [
    "print(b.repository_of)\n",
    "print(b.wheel)\n",
    "print(b.window)"
   ]
  },
  {
   "cell_type": "code",
   "execution_count": 48,
   "id": "60e9a1fe",
   "metadata": {},
   "outputs": [],
   "source": [
    "c = MyCar(4,2)"
   ]
  },
  {
   "cell_type": "code",
   "execution_count": 50,
   "id": "9a05319d",
   "metadata": {},
   "outputs": [
    {
     "name": "stdout",
     "output_type": "stream",
     "text": [
      "Chandrashekhar Robbi\n",
      "4\n",
      "2\n"
     ]
    }
   ],
   "source": [
    "print(c.repository_of)\n",
    "print(c.wheel)\n",
    "print(c.window)"
   ]
  },
  {
   "cell_type": "code",
   "execution_count": null,
   "id": "6aeec0cb",
   "metadata": {},
   "outputs": [],
   "source": []
  },
  {
   "cell_type": "markdown",
   "id": "aafaac1b",
   "metadata": {},
   "source": [
    "# NOTE:\n",
    "* In Python every `type()` is class"
   ]
  },
  {
   "cell_type": "code",
   "execution_count": null,
   "id": "fccb6970",
   "metadata": {},
   "outputs": [],
   "source": []
  },
  {
   "cell_type": "code",
   "execution_count": null,
   "id": "05755297",
   "metadata": {},
   "outputs": [],
   "source": []
  }
 ],
 "metadata": {
  "kernelspec": {
   "display_name": "Python 3 (ipykernel)",
   "language": "python",
   "name": "python3"
  },
  "language_info": {
   "codemirror_mode": {
    "name": "ipython",
    "version": 3
   },
   "file_extension": ".py",
   "mimetype": "text/x-python",
   "name": "python",
   "nbconvert_exporter": "python",
   "pygments_lexer": "ipython3",
   "version": "3.10.8"
  }
 },
 "nbformat": 4,
 "nbformat_minor": 5
}

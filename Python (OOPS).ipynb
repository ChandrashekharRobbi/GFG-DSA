{
 "cells": [
  {
   "cell_type": "markdown",
   "id": "d1594838",
   "metadata": {},
   "source": [
    "# Python (OOPS)"
   ]
  },
  {
   "cell_type": "markdown",
   "id": "3f456f68",
   "metadata": {},
   "source": [
    "# Types of Programming\n",
    "\n",
    "\n",
    "\n",
    "\n",
    "\n",
    "\n",
    "1. Procedural Programming:\n",
    "\n",
    "    <p>We break the code into set of functions and these functions call each other</p>\n",
    "    \n",
    "\n",
    "    \n",
    "2. Object Oriented Programming:\n",
    "\n",
    "    <p>We break the code into set of entities and these entities talk to each other. These entities have data and methods</p>\n",
    "    \n",
    "3. Functional Programming:\n",
    "    <p>Functional Programming is the use of pure high-order functions to develop applications. </p>\n",
    "    "
   ]
  },
  {
   "cell_type": "markdown",
   "id": "a314e9ab",
   "metadata": {},
   "source": [
    "### Classes and Objects\n",
    "\n",
    "<img src=\"https://intellipaat.com/mediaFiles/2019/03/python10.png\" width=\"650px\" height=\"600px\"  align=\"left\">\n",
    "\n",
    "#### `Classes`: \n",
    "A blueprint for objects. A class is a user-defined type that describes what a certain type of object will look like. A class description consists of a declaration and a definition.\n",
    "\n",
    "#### `Objects`:\n",
    "An encapsulation of data along with functions that act upon that data.\n",
    "\n",
    "> `self` : It is a special member which is used for references as well as accessing the data members from the current `class`\n",
    "\n",
    "\n",
    "An object consists of:\n",
    "\n",
    "* Name -- the variable name we give it\n",
    "* Member data -- the data that describes the object\n",
    "* Member functions -- behavior aspects of the object (functions related to the object itself)"
   ]
  },
  {
   "cell_type": "code",
   "execution_count": 2,
   "id": "37475f7e",
   "metadata": {},
   "outputs": [],
   "source": [
    " class MyCar:\n",
    "    def __init__(self): # use as a constructor\n",
    "        self.wheel = 4\n",
    "        self.window = 4\n",
    "\n",
    "    def Colour(self, color):\n",
    "        return f\"Your car have {self.wheel} wheels,{self.window} window having {color} color\"\n",
    "\n",
    "    def BrandName(self,brandname):\n",
    "        return f\"Your car have {self.wheel} wheels,{self.window} window of Company {brandname}\"\n",
    "\n",
    "    def Category(self, category):\n",
    "        return f\"Your car have {self.wheel} wheels,{self.window} window belongs to category {category}\""
   ]
  },
  {
   "cell_type": "markdown",
   "id": "784a34c7",
   "metadata": {},
   "source": [
    "**Now we have successfully created the blueprint**\n",
    "\n",
    "Let's use the blueprint and make some objects(fancy cars🚗)"
   ]
  },
  {
   "cell_type": "code",
   "execution_count": 8,
   "id": "d134dd89",
   "metadata": {},
   "outputs": [],
   "source": [
    "a = MyCar()"
   ]
  },
  {
   "cell_type": "code",
   "execution_count": 9,
   "id": "7e0cbeb5",
   "metadata": {},
   "outputs": [
    {
     "name": "stdout",
     "output_type": "stream",
     "text": [
      "Your car have 4 wheels,4 window having blue color\n",
      "Your car have 4 wheels,4 window of Company Ford\n",
      "Your car have 4 wheels,4 window belongs to category Mustang\n"
     ]
    }
   ],
   "source": [
    "print(a.Colour('blue'))\n",
    "print(a.BrandName('Ford'))\n",
    "print(a.Category('Mustang'))"
   ]
  },
  {
   "cell_type": "code",
   "execution_count": 10,
   "id": "2faa1bd8",
   "metadata": {},
   "outputs": [],
   "source": [
    "b = MyCar()"
   ]
  },
  {
   "cell_type": "code",
   "execution_count": 11,
   "id": "4732214f",
   "metadata": {},
   "outputs": [
    {
     "name": "stdout",
     "output_type": "stream",
     "text": [
      "Your car have 4 wheels,4 window having red color\n",
      "Your car have 4 wheels,4 window of Company Toyota\n",
      "Your car have 4 wheels,4 window belongs to category Prius\n"
     ]
    }
   ],
   "source": [
    "print(a.Colour('red'))\n",
    "print(a.BrandName('Toyota'))\n",
    "print(a.Category('Prius'))"
   ]
  },
  {
   "cell_type": "markdown",
   "id": "3da1f852",
   "metadata": {},
   "source": [
    "> As above we have created 2 objects by using same class\n",
    "\n",
    "In other words we can say we can build various building by using same "
   ]
  },
  {
   "cell_type": "code",
   "execution_count": null,
   "id": "8dcf6deb",
   "metadata": {},
   "outputs": [],
   "source": []
  },
  {
   "cell_type": "code",
   "execution_count": null,
   "id": "1d4b13bb",
   "metadata": {},
   "outputs": [],
   "source": []
  },
  {
   "cell_type": "code",
   "execution_count": null,
   "id": "4625e7cb",
   "metadata": {},
   "outputs": [],
   "source": []
  },
  {
   "cell_type": "code",
   "execution_count": null,
   "id": "46480771",
   "metadata": {},
   "outputs": [],
   "source": []
  },
  {
   "cell_type": "code",
   "execution_count": null,
   "id": "dd090922",
   "metadata": {},
   "outputs": [],
   "source": []
  },
  {
   "cell_type": "code",
   "execution_count": null,
   "id": "1c576095",
   "metadata": {},
   "outputs": [],
   "source": []
  },
  {
   "cell_type": "code",
   "execution_count": null,
   "id": "885e52d5",
   "metadata": {},
   "outputs": [],
   "source": []
  },
  {
   "cell_type": "code",
   "execution_count": null,
   "id": "12501c1c",
   "metadata": {},
   "outputs": [],
   "source": []
  },
  {
   "cell_type": "code",
   "execution_count": null,
   "id": "f3bd69b7",
   "metadata": {},
   "outputs": [],
   "source": []
  },
  {
   "cell_type": "code",
   "execution_count": null,
   "id": "85fa73f5",
   "metadata": {},
   "outputs": [],
   "source": []
  },
  {
   "cell_type": "code",
   "execution_count": null,
   "id": "da686064",
   "metadata": {},
   "outputs": [],
   "source": []
  },
  {
   "cell_type": "code",
   "execution_count": null,
   "id": "464299ed",
   "metadata": {},
   "outputs": [],
   "source": []
  },
  {
   "cell_type": "code",
   "execution_count": null,
   "id": "2337e769",
   "metadata": {},
   "outputs": [],
   "source": []
  },
  {
   "cell_type": "markdown",
   "id": "2ecc5b35",
   "metadata": {},
   "source": [
    "# NOTE:\n",
    "* In Python every `type()` is class"
   ]
  },
  {
   "cell_type": "code",
   "execution_count": null,
   "id": "bea27d6d",
   "metadata": {},
   "outputs": [],
   "source": []
  },
  {
   "cell_type": "code",
   "execution_count": null,
   "id": "fd7bb26b",
   "metadata": {},
   "outputs": [],
   "source": []
  }
 ],
 "metadata": {
  "kernelspec": {
   "display_name": "Python 3 (ipykernel)",
   "language": "python",
   "name": "python3"
  },
  "language_info": {
   "codemirror_mode": {
    "name": "ipython",
    "version": 3
   },
   "file_extension": ".py",
   "mimetype": "text/x-python",
   "name": "python",
   "nbconvert_exporter": "python",
   "pygments_lexer": "ipython3",
   "version": "3.10.8"
  }
 },
 "nbformat": 4,
 "nbformat_minor": 5
}

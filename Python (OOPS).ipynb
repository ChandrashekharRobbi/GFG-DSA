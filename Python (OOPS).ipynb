{
 "cells": [
  {
   "cell_type": "markdown",
   "id": "2d253d1d",
   "metadata": {},
   "source": [
    "# Python (OOPS)"
   ]
  },
  {
   "cell_type": "markdown",
   "id": "4555033b",
   "metadata": {},
   "source": [
    "# Types of Programming\n",
    "\n",
    "\n",
    "\n",
    "\n",
    "\n",
    "\n",
    "1. Procedural Programming:\n",
    "    We break the code into set of functions and these functions call each other\n",
    "\n",
    "    \n",
    "2. Object Oriented Programming:\n",
    "    We break the code into set of entities and these entities talk to each other. These entities have data and methods"
   ]
  },
  {
   "cell_type": "code",
   "execution_count": null,
   "id": "1e0a366f",
   "metadata": {},
   "outputs": [],
   "source": []
  }
 ],
 "metadata": {
  "kernelspec": {
   "display_name": "Python 3 (ipykernel)",
   "language": "python",
   "name": "python3"
  },
  "language_info": {
   "codemirror_mode": {
    "name": "ipython",
    "version": 3
   },
   "file_extension": ".py",
   "mimetype": "text/x-python",
   "name": "python",
   "nbconvert_exporter": "python",
   "pygments_lexer": "ipython3",
   "version": "3.10.8"
  }
 },
 "nbformat": 4,
 "nbformat_minor": 5
}

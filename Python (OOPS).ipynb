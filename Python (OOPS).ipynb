{
 "cells": [
  {
   "cell_type": "markdown",
   "id": "d1594838",
   "metadata": {},
   "source": [
    "# Python (OOPS)"
   ]
  },
  {
   "cell_type": "markdown",
   "id": "3f456f68",
   "metadata": {},
   "source": [
    "# Types of Programming\n",
    "\n",
    "\n",
    "\n",
    "\n",
    "\n",
    "\n",
    "1. Procedural Programming:\n",
    "\n",
    "    <p>We break the code into set of functions and these functions call each other</p>\n",
    "    \n",
    "\n",
    "    \n",
    "2. Object Oriented Programming:\n",
    "\n",
    "    <p>We break the code into set of entities and these entities talk to each other. These entities have data and methods</p>\n",
    "    \n",
    "3. Functional Programming:\n",
    "    <p>Functional Programming is the use of pure high-order functions to develop applications. </p>\n",
    "    "
   ]
  },
  {
   "cell_type": "markdown",
   "id": "e5025571",
   "metadata": {},
   "source": [
    "### Classes and Objects\n",
    "\n",
    "\n",
    "\n",
    "```\n",
    " class MyCar:\n",
    "     def __init__(self):\n",
    "\n",
    "```python3"
   ]
  },
  {
   "cell_type": "code",
   "execution_count": null,
   "id": "8537e550",
   "metadata": {},
   "outputs": [],
   "source": []
  }
 ],
 "metadata": {
  "kernelspec": {
   "display_name": "Python 3 (ipykernel)",
   "language": "python",
   "name": "python3"
  },
  "language_info": {
   "codemirror_mode": {
    "name": "ipython",
    "version": 3
   },
   "file_extension": ".py",
   "mimetype": "text/x-python",
   "name": "python",
   "nbconvert_exporter": "python",
   "pygments_lexer": "ipython3",
   "version": "3.10.8"
  }
 },
 "nbformat": 4,
 "nbformat_minor": 5
}

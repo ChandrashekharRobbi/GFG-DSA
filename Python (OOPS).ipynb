{
 "cells": [
  {
   "cell_type": "code",
   "execution_count": 1,
   "id": "510e7cf8",
   "metadata": {},
   "outputs": [],
   "source": [
    "from imp_personal import *\n",
    "z = MyFunction()"
   ]
  },
  {
   "cell_type": "markdown",
   "id": "d1594838",
   "metadata": {},
   "source": [
    "# Python (OOPS) \n",
    "By [Chandrashekhar Robbi](https://github.com/ChandrashekharRobbi)\n",
    "\n",
    "### What all we are going to discuss?\n",
    "\n",
    "1. [Types of Programming](#Types-of-Programming)\n",
    "7. [Classes and Objects](#Classes-and-Objects)\n",
    "7. [Encapsulation](#Encapsulation)\n",
    "7. [Class Instance Attributes](#Class-Instance-Attributes)\n",
    "7. [Speciality of Python (Class and Instance variables) 🤩🤩](#Speciality-of-Python-(Class-and-Instance-variables)-🤩🤩)\n",
    "7. [Class Members Access](#Class-Members-Access)\n",
    "7. [Decorators](#Decorators)\n",
    "7. [Class Methods and Static Members](#Class-Methods-and-Static-Members)"
   ]
  },
  {
   "cell_type": "markdown",
   "id": "3f456f68",
   "metadata": {},
   "source": [
    "# Types of Programming\n",
    "\n",
    "\n",
    "\n",
    "\n",
    "\n",
    "\n",
    "1. Procedural Programming:\n",
    "\n",
    "    <p>We break the code into set of functions and these functions call each other</p>\n",
    "    \n",
    "\n",
    "    \n",
    "2. Object Oriented Programming:\n",
    "\n",
    "    <p>We break the code into set of entities and these entities talk to each other. These entities have data and methods</p>\n",
    "    \n",
    "3. Functional Programming:\n",
    "    <p>Functional Programming is the use of pure high-order functions to develop applications. </p>\n",
    "    "
   ]
  },
  {
   "cell_type": "markdown",
   "id": "ad433f7d",
   "metadata": {},
   "source": [
    "# NOTE:\n",
    "* In Python every `type()` is class"
   ]
  },
  {
   "cell_type": "markdown",
   "id": "50f2f7bf",
   "metadata": {},
   "source": [
    "### Classes and Objects\n",
    "\n",
    "<img src=\"https://intellipaat.com/mediaFiles/2019/03/python10.png\" width=\"650px\" height=\"600px\"  align=\"left\">\n",
    "\n",
    "#### `Classes`: \n",
    "A blueprint for objects. A class is a user-defined type that describes what a certain type of object will look like. A class description consists of a declaration and a definition.\n",
    "\n",
    "#### `Objects`:\n",
    "An encapsulation of data along with functions that act upon that data.\n",
    "\n",
    "> `self` : It is a special member which is used for references as well as accessing the data members from the current `class`\n",
    "\n",
    "\n",
    "An object consists of:\n",
    "\n",
    "* Name -- the variable name we give it\n",
    "* Member data -- the data that describes the object\n",
    "* Member functions -- behavior aspects of the object (functions related to the object itself)"
   ]
  },
  {
   "cell_type": "code",
   "execution_count": 2,
   "id": "5b5c69a6",
   "metadata": {},
   "outputs": [],
   "source": [
    " class MyCar:\n",
    "    def __init__(self): # use as a constructor\n",
    "        self.wheel = 4\n",
    "        self.window = 4\n",
    "\n",
    "    def Colour(self, color):\n",
    "        return f\"Your car have {self.wheel} wheels,{self.window} window having {color} color\"\n",
    "\n",
    "    def BrandName(self,brandname):\n",
    "        return f\"Your car have {self.wheel} wheels,{self.window} window of Company {brandname}\"\n",
    "\n",
    "    def Category(self, category):\n",
    "        return f\"Your car have {self.wheel} wheels,{self.window} window belongs to category {category}\""
   ]
  },
  {
   "cell_type": "markdown",
   "id": "a95ed4b8",
   "metadata": {},
   "source": [
    "**Now we have successfully created the blueprint**\n",
    "\n",
    "Let's use the blueprint and make some objects(fancy cars🚗)"
   ]
  },
  {
   "cell_type": "code",
   "execution_count": 3,
   "id": "6ce5ccfa",
   "metadata": {},
   "outputs": [],
   "source": [
    "a = MyCar()"
   ]
  },
  {
   "cell_type": "code",
   "execution_count": 4,
   "id": "ae83c7e3",
   "metadata": {},
   "outputs": [
    {
     "name": "stdout",
     "output_type": "stream",
     "text": [
      "Your car have 4 wheels,4 window having blue color\n",
      "Your car have 4 wheels,4 window of Company Ford\n",
      "Your car have 4 wheels,4 window belongs to category Mustang\n"
     ]
    }
   ],
   "source": [
    "print(a.Colour('blue'))\n",
    "print(a.BrandName('Ford'))\n",
    "print(a.Category('Mustang'))"
   ]
  },
  {
   "cell_type": "code",
   "execution_count": 5,
   "id": "6392607d",
   "metadata": {},
   "outputs": [],
   "source": [
    "b = MyCar()"
   ]
  },
  {
   "cell_type": "code",
   "execution_count": 6,
   "id": "971d2f2e",
   "metadata": {},
   "outputs": [
    {
     "name": "stdout",
     "output_type": "stream",
     "text": [
      "Your car have 4 wheels,4 window having red color\n",
      "Your car have 4 wheels,4 window of Company Toyota\n",
      "Your car have 4 wheels,4 window belongs to category Prius\n"
     ]
    }
   ],
   "source": [
    "print(a.Colour('red'))\n",
    "print(a.BrandName('Toyota'))\n",
    "print(a.Category('Prius'))"
   ]
  },
  {
   "cell_type": "markdown",
   "id": "f34793a6",
   "metadata": {},
   "source": [
    "> As above we have created 2 objects by using same class\n",
    "\n",
    "In other words we can say we can build various building by using same template / design \n",
    "\n",
    "**That's why we say `object is instance of class`**"
   ]
  },
  {
   "cell_type": "markdown",
   "id": "e6ecf87c",
   "metadata": {},
   "source": [
    "### Encapsulation\n",
    "<img src=\"https://www.cpp.thiyagaraaj.com/cms/assets/cimages/encapsulation.png\" align=\"left\" />\n",
    "\n",
    "\n",
    "\n",
    "\n",
    "1. Encapsulation is a way to restrict the direct access to some components of an object, so users cannot access state values for all of the variables of a particular object. \n",
    "2. Encapsulation can be used to hide both \n",
    "     * `data members`: (Data members include members that are declared with any of the fundamental types, as well as other types, including pointer, reference, array types, bit fields, and user-defined types)\n",
    "     * `data functions`: (it is same as functions (A function is a block of code which only runs when it is called.)) or methods(functions) associated with an instantiated class or object.\n",
    "     \n",
    "* Encapsulation helps in consistency\n",
    "* Encapsulation is also defined as bundling of data members and data methods"
   ]
  },
  {
   "cell_type": "markdown",
   "id": "f19dd758",
   "metadata": {},
   "source": [
    "## Class Instance Attributes\n",
    "\n",
    "<img src=\"https://pynative.com/wp-content/uploads/2021/08/class_attributes_in_python.jpg\" align=\"left\"/>\n",
    "\n",
    "\n",
    "\n",
    "1. **Instance Attributes**: Unique to every object\n",
    "        * If any changes it stayed inside that instance(object)\n",
    "2. **Class Attributes**: Shared With all objects\n",
    "        * If any changes occur it will effect to all the objects"
   ]
  },
  {
   "cell_type": "code",
   "execution_count": 7,
   "id": "68b463c9",
   "metadata": {},
   "outputs": [],
   "source": [
    " class MyCar:\n",
    "    repository_of = \"Chandrashekhar Robbi\" # class attribute \n",
    "    def __init__(self,wheel,window): # It is a instance variable means the below two value present \n",
    "                        # in every object has been created using this class\n",
    "        self.wheel = wheel\n",
    "        self.window = window\n",
    "\n",
    "    def Colour(self, color):\n",
    "        return f\"Your car have {self.wheel} wheels,{self.window} window having {color} color\"\n",
    "\n",
    "    def BrandName(self,brandname):\n",
    "        return f\"Your car have {self.wheel} wheels,{self.window} window of Company {brandname}\"\n",
    "\n",
    "    def Category(self, category):\n",
    "        return f\"Your car have {self.wheel} wheels,{self.window} window belongs to category {category}\""
   ]
  },
  {
   "cell_type": "code",
   "execution_count": 8,
   "id": "5728a975",
   "metadata": {},
   "outputs": [],
   "source": [
    "a = MyCar(4,4)"
   ]
  },
  {
   "cell_type": "code",
   "execution_count": 9,
   "id": "791412cc",
   "metadata": {},
   "outputs": [
    {
     "name": "stdout",
     "output_type": "stream",
     "text": [
      "Chandrashekhar Robbi\n",
      "4\n",
      "4\n"
     ]
    }
   ],
   "source": [
    "print(a.repository_of)  # it is class attribute same for each object created\n",
    "print(a.wheel) # it is instance attribute different / same for specific object\n",
    "print(a.window)"
   ]
  },
  {
   "cell_type": "code",
   "execution_count": 10,
   "id": "a78d4d1d",
   "metadata": {},
   "outputs": [],
   "source": [
    "b = MyCar(6,6)"
   ]
  },
  {
   "cell_type": "code",
   "execution_count": 11,
   "id": "ca411222",
   "metadata": {},
   "outputs": [
    {
     "name": "stdout",
     "output_type": "stream",
     "text": [
      "Chandrashekhar Robbi\n",
      "6\n",
      "6\n"
     ]
    }
   ],
   "source": [
    "print(b.repository_of)\n",
    "print(b.wheel)\n",
    "print(b.window)"
   ]
  },
  {
   "cell_type": "code",
   "execution_count": 12,
   "id": "f9fae3fe",
   "metadata": {},
   "outputs": [],
   "source": [
    "c = MyCar(4,2)"
   ]
  },
  {
   "cell_type": "code",
   "execution_count": 13,
   "id": "45a03bd2",
   "metadata": {},
   "outputs": [
    {
     "name": "stdout",
     "output_type": "stream",
     "text": [
      "Chandrashekhar Robbi\n",
      "4\n",
      "2\n"
     ]
    }
   ],
   "source": [
    "print(c.repository_of)\n",
    "print(c.wheel)\n",
    "print(c.window)"
   ]
  },
  {
   "cell_type": "code",
   "execution_count": 14,
   "id": "9dcb022b",
   "metadata": {},
   "outputs": [
    {
     "data": {
      "text/plain": [
       "'Chandrashekhar Robbi'"
      ]
     },
     "execution_count": 14,
     "metadata": {},
     "output_type": "execute_result"
    }
   ],
   "source": [
    "MyCar.repository_of"
   ]
  },
  {
   "cell_type": "markdown",
   "id": "48e572eb",
   "metadata": {},
   "source": [
    "## Speciality of Python (Class and Instance variables) 🤩🤩\n",
    "\n",
    "\n",
    "We can add class and instance variables after creating objects"
   ]
  },
  {
   "cell_type": "code",
   "execution_count": 15,
   "id": "92d01df5",
   "metadata": {},
   "outputs": [],
   "source": [
    " class MyCar:\n",
    "    repository_of = \"Chandrashekhar Robbi\" # class attribute \n",
    "    def __init__(self,wheel,window): # It is a instance variable means the below two value present \n",
    "                        # in every object has been created using this class\n",
    "        self.wheel = wheel\n",
    "        self.window = window\n",
    "\n",
    "    def Colour(self, color):\n",
    "        return f\"Your car have {self.wheel} wheels,{self.window} window having {color} color\"\n",
    "\n",
    "    def BrandName(self,brandname):\n",
    "        return f\"Your car have {self.wheel} wheels,{self.window} window of Company {brandname}\"\n",
    "\n",
    "    def Category(self, category):\n",
    "        return f\"Your car have {self.wheel} wheels,{self.window} window belongs to category {category}\""
   ]
  },
  {
   "cell_type": "markdown",
   "id": "b9dcb53d",
   "metadata": {},
   "source": [
    "#### Let's create instance of class `MyCar`\n",
    "\n",
    "\n",
    "\n"
   ]
  },
  {
   "cell_type": "code",
   "execution_count": 16,
   "id": "7fd116a5",
   "metadata": {},
   "outputs": [],
   "source": [
    "d = MyCar(4,5)\n",
    "e = MyCar(5,6)"
   ]
  },
  {
   "cell_type": "markdown",
   "id": "d78aaad4",
   "metadata": {},
   "source": [
    "We have created two object `d` and `e`\n",
    "\n",
    "Now let's try to add **instance variable** inside the `d` object"
   ]
  },
  {
   "cell_type": "code",
   "execution_count": 17,
   "id": "cb55db58",
   "metadata": {},
   "outputs": [],
   "source": [
    "d.numberplate = \"fansy\""
   ]
  },
  {
   "cell_type": "markdown",
   "id": "f4f49e7e",
   "metadata": {},
   "source": [
    "Now let's check the value updated or not"
   ]
  },
  {
   "cell_type": "code",
   "execution_count": 18,
   "id": "23096dc8",
   "metadata": {},
   "outputs": [
    {
     "data": {
      "text/plain": [
       "'fansy'"
      ]
     },
     "execution_count": 18,
     "metadata": {},
     "output_type": "execute_result"
    }
   ],
   "source": [
    "d.numberplate"
   ]
  },
  {
   "cell_type": "markdown",
   "id": "b670a2e3",
   "metadata": {},
   "source": [
    "It is updated now let's try to see value of `d.numberplate` from another instance i.e `e` to check that value added on entire class or specific instances"
   ]
  },
  {
   "cell_type": "code",
   "execution_count": 19,
   "id": "ad4c6411",
   "metadata": {},
   "outputs": [],
   "source": [
    "# e.numberplate"
   ]
  },
  {
   "cell_type": "markdown",
   "id": "5a9aa0d9",
   "metadata": {},
   "source": [
    "The above error shows that after declaring varibales after or before instance creation when we declare variable by using specific object then that varibale is only limited to that object only"
   ]
  },
  {
   "cell_type": "markdown",
   "id": "dcd3507e",
   "metadata": {},
   "source": [
    "#### But what if we add class variable \n",
    "\n",
    "###### Will it be effected to all Instance?"
   ]
  },
  {
   "cell_type": "code",
   "execution_count": 20,
   "id": "b1f84662",
   "metadata": {},
   "outputs": [],
   "source": [
    "MyCar.costEffective = True"
   ]
  },
  {
   "cell_type": "markdown",
   "id": "803124fb",
   "metadata": {},
   "source": [
    "we have created class varibale now let's check object by accessing them"
   ]
  },
  {
   "cell_type": "code",
   "execution_count": 21,
   "id": "e9e64b58",
   "metadata": {},
   "outputs": [
    {
     "data": {
      "text/plain": [
       "True"
      ]
     },
     "execution_count": 21,
     "metadata": {},
     "output_type": "execute_result"
    }
   ],
   "source": [
    "d.costEffective"
   ]
  },
  {
   "cell_type": "code",
   "execution_count": 22,
   "id": "525eef37",
   "metadata": {},
   "outputs": [
    {
     "data": {
      "text/plain": [
       "True"
      ]
     },
     "execution_count": 22,
     "metadata": {},
     "output_type": "execute_result"
    }
   ],
   "source": [
    "e.costEffective"
   ]
  },
  {
   "cell_type": "markdown",
   "id": "e8acae97",
   "metadata": {},
   "source": [
    "#### It worked !!!!🥳 🥳 🥳 🥳 \n",
    "\n",
    "That clearly means we can create class variables by using Class Name then that changes will be effecting to all the objects but if we create the instance varibale by using specific objects then that variable is only limited to that specific variable"
   ]
  },
  {
   "cell_type": "markdown",
   "id": "e88e16c3",
   "metadata": {},
   "source": [
    "# Note:\n",
    "\n",
    "> ### Instance attribute access instance variable if both class and instance have same name"
   ]
  },
  {
   "cell_type": "code",
   "execution_count": 23,
   "id": "7552b182",
   "metadata": {},
   "outputs": [
    {
     "name": "stdout",
     "output_type": "stream",
     "text": [
      "Successfully added to the comment list\n"
     ]
    }
   ],
   "source": [
    "z.new(\"Class Members Access\")"
   ]
  },
  {
   "cell_type": "markdown",
   "id": "94fa871e",
   "metadata": {},
   "source": [
    "### Class Members Access\n",
    "1. In Python every member is accessible everywhere unless and until we do something 🕵️"
   ]
  },
  {
   "cell_type": "code",
   "execution_count": 24,
   "id": "290ccdd4",
   "metadata": {},
   "outputs": [],
   "source": [
    "class Test:\n",
    "    def __init__(self, x, y):\n",
    "        self.x = x\n",
    "        self.y = y\n",
    "    def fun(self):\n",
    "        print(\"Hello\")"
   ]
  },
  {
   "cell_type": "code",
   "execution_count": 25,
   "id": "a0852e3f",
   "metadata": {},
   "outputs": [],
   "source": [
    "t = Test(4,5)"
   ]
  },
  {
   "cell_type": "code",
   "execution_count": 26,
   "id": "8b120324",
   "metadata": {},
   "outputs": [
    {
     "data": {
      "text/plain": [
       "4"
      ]
     },
     "execution_count": 26,
     "metadata": {},
     "output_type": "execute_result"
    }
   ],
   "source": [
    "t.x "
   ]
  },
  {
   "cell_type": "code",
   "execution_count": 27,
   "id": "0ba9fc4b",
   "metadata": {},
   "outputs": [
    {
     "name": "stdout",
     "output_type": "stream",
     "text": [
      "Hello\n"
     ]
    }
   ],
   "source": [
    "t.fun()"
   ]
  },
  {
   "cell_type": "markdown",
   "id": "775273b3",
   "metadata": {},
   "source": [
    "2. When we use `_` before a variable name , **we suggest not to use it** outside the class\n",
    "> It will still give output to the user who is accessing "
   ]
  },
  {
   "cell_type": "code",
   "execution_count": 28,
   "id": "2ac11e70",
   "metadata": {},
   "outputs": [],
   "source": [
    "class Test:\n",
    "    def __init__(self, x, y):\n",
    "        self._x = x\n",
    "        self.y = y\n",
    "    def _fun(self):\n",
    "        print(\"Hello you are calling a function which you wouldn't have to use but i am visible because i am good 😊\")"
   ]
  },
  {
   "cell_type": "code",
   "execution_count": 29,
   "id": "d6f97bdc",
   "metadata": {},
   "outputs": [],
   "source": [
    "t = Test(4,5)"
   ]
  },
  {
   "cell_type": "code",
   "execution_count": 30,
   "id": "1714e25c",
   "metadata": {},
   "outputs": [
    {
     "data": {
      "text/plain": [
       "4"
      ]
     },
     "execution_count": 30,
     "metadata": {},
     "output_type": "execute_result"
    }
   ],
   "source": [
    "t._x # suggestion to not to get the members data outside the class"
   ]
  },
  {
   "cell_type": "code",
   "execution_count": 31,
   "id": "d458ac49",
   "metadata": {},
   "outputs": [
    {
     "name": "stdout",
     "output_type": "stream",
     "text": [
      "Hello you are calling a function which you wouldn't have to use but i am visible because i am good 😊\n"
     ]
    }
   ],
   "source": [
    "t._fun() # suggestion to not to call outside the class"
   ]
  },
  {
   "cell_type": "markdown",
   "id": "a6966e39",
   "metadata": {},
   "source": [
    "3. When we use `__`(two underscore) before a member name , it becomes inaccessible 😶 only when there is no `__` two underscore at the end"
   ]
  },
  {
   "cell_type": "code",
   "execution_count": 32,
   "id": "5f93f22c",
   "metadata": {},
   "outputs": [],
   "source": [
    "class Test:\n",
    "    def __init__(self, x, y):\n",
    "        self.__x = x\n",
    "        self.y = y\n",
    "    def __fun(self):\n",
    "        print(\"Haha if you call me you will get an error 😂😂\")"
   ]
  },
  {
   "cell_type": "code",
   "execution_count": 33,
   "id": "98a780d1",
   "metadata": {},
   "outputs": [],
   "source": [
    "t = Test(4,5)"
   ]
  },
  {
   "cell_type": "code",
   "execution_count": 34,
   "id": "8421c92a",
   "metadata": {},
   "outputs": [
    {
     "data": {
      "text/plain": [
       "5"
      ]
     },
     "execution_count": 34,
     "metadata": {},
     "output_type": "execute_result"
    }
   ],
   "source": [
    "t.y"
   ]
  },
  {
   "cell_type": "code",
   "execution_count": 35,
   "id": "e6c9ec6c",
   "metadata": {},
   "outputs": [],
   "source": [
    "# t.__x"
   ]
  },
  {
   "cell_type": "code",
   "execution_count": 36,
   "id": "b798e74b",
   "metadata": {},
   "outputs": [],
   "source": [
    "# t.__fun()"
   ]
  },
  {
   "cell_type": "markdown",
   "id": "4bf926fa",
   "metadata": {},
   "source": [
    "Like i said it becomes inaccessible if we add two underscore before a member name \n",
    "\n",
    "\n",
    "But wait do you want to know? what python does internally to make it inaccessible 😁\n",
    "\n",
    "For Eg"
   ]
  },
  {
   "cell_type": "code",
   "execution_count": 37,
   "id": "443a5cfd",
   "metadata": {},
   "outputs": [],
   "source": [
    "class Test:\n",
    "    def __init__(self, x, y):\n",
    "        self.__x = x\n",
    "        self.y = y\n",
    "    def __fun(self):\n",
    "        print(\"Haha if you call me you will get an error 😂😂\\nUnless and unitl you know the secret 🫣\")"
   ]
  },
  {
   "cell_type": "code",
   "execution_count": 38,
   "id": "b772b3bb",
   "metadata": {},
   "outputs": [],
   "source": [
    "t  = Test(4,5)"
   ]
  },
  {
   "cell_type": "markdown",
   "id": "8c12acec",
   "metadata": {},
   "source": [
    "Here the \n",
    "* Class Name is `Test`\n",
    "* member name is `x` ( which is inaccessible )\n",
    "* method name is `fun` ( which is also inaccessible)\n",
    "\n",
    "\n",
    "\n",
    "**Python just changes the name of the variables which is called `mangling`** \n",
    "\n",
    "\n",
    "\n",
    "From the t.__x to t._Test__x"
   ]
  },
  {
   "cell_type": "code",
   "execution_count": 39,
   "id": "586510bb",
   "metadata": {},
   "outputs": [
    {
     "data": {
      "text/plain": [
       "4"
      ]
     },
     "execution_count": 39,
     "metadata": {},
     "output_type": "execute_result"
    }
   ],
   "source": [
    "# if we call like above mentioned\n",
    "t._Test__x"
   ]
  },
  {
   "cell_type": "code",
   "execution_count": 40,
   "id": "531f3b76",
   "metadata": {},
   "outputs": [
    {
     "name": "stdout",
     "output_type": "stream",
     "text": [
      "Haha if you call me you will get an error 😂😂\n",
      "Unless and unitl you know the secret 🫣\n"
     ]
    }
   ],
   "source": [
    "# if we try to call methods in the same way\n",
    "t._Test__fun()"
   ]
  },
  {
   "cell_type": "markdown",
   "id": "17a305d9",
   "metadata": {},
   "source": [
    "#### Private members can be accessed withing the class "
   ]
  },
  {
   "cell_type": "code",
   "execution_count": 41,
   "id": "364427a0",
   "metadata": {},
   "outputs": [],
   "source": [
    "class Test:\n",
    "    def __init__(self):\n",
    "        self.x = 10\n",
    "        self.__y = 12\n",
    "    def PrintTest(self):\n",
    "        print(self.x,self.__y)"
   ]
  },
  {
   "cell_type": "code",
   "execution_count": 42,
   "id": "e5771155",
   "metadata": {},
   "outputs": [],
   "source": [
    "p = Test()"
   ]
  },
  {
   "cell_type": "code",
   "execution_count": 43,
   "id": "6a41ef79",
   "metadata": {},
   "outputs": [
    {
     "name": "stdout",
     "output_type": "stream",
     "text": [
      "10 12\n"
     ]
    }
   ],
   "source": [
    "p.PrintTest()"
   ]
  },
  {
   "cell_type": "code",
   "execution_count": 44,
   "id": "433368c8",
   "metadata": {},
   "outputs": [
    {
     "name": "stdout",
     "output_type": "stream",
     "text": [
      "Successfully added to the comment list\n"
     ]
    }
   ],
   "source": [
    "z.new(\"Decorators\")"
   ]
  },
  {
   "cell_type": "markdown",
   "id": "e875557c",
   "metadata": {},
   "source": [
    "# Decorators\n",
    "\n",
    "<img src=\"https://www.csestack.org/wp-content/uploads/2019/09/Python-Decorators-Explained.png\" align=\"left\"/>\n",
    "\n",
    "* A decorator is a design pattern in Python that allows a user to add new functionality to an existing object without modifying its structure. \n",
    "* Decorators are usually called before the definition of a function you want to decorate.\n",
    "* We have to just understand that decorator has a function which will be added additionaly to the current function\n",
    "\n",
    "for eg\n",
    "\n",
    "```python\n",
    "def decfun(f):\n",
    "    def innerfun():\n",
    "        print(\"Welcome\")\n",
    "        f()\n",
    "    return innerfun\n",
    "def fun():\n",
    "    print(\"User\")\n",
    "```\n",
    "\n",
    "The output will be \n",
    "`Welcome\n",
    "User`\n",
    "\n",
    "that means decorator has there own property if the function uses decorator then decorator add there code along with there function code "
   ]
  },
  {
   "cell_type": "code",
   "execution_count": 45,
   "id": "14e80e6b",
   "metadata": {},
   "outputs": [],
   "source": [
    "\n",
    "def fun1():\n",
    "    print(f\"Entering fun 1\")\n",
    "    print(f\"Inside fun1\")\n",
    "\n",
    "def fun2(f):\n",
    "    print(f\"Inside fun2\")\n",
    "    print(\"Exiting fun2\")\n",
    "    f()"
   ]
  },
  {
   "cell_type": "code",
   "execution_count": 46,
   "id": "f4d9c314",
   "metadata": {},
   "outputs": [],
   "source": [
    "f = fun1"
   ]
  },
  {
   "cell_type": "code",
   "execution_count": 47,
   "id": "ff4d8176",
   "metadata": {},
   "outputs": [
    {
     "name": "stdout",
     "output_type": "stream",
     "text": [
      "Inside fun2\n",
      "Exiting fun2\n",
      "Entering fun 1\n",
      "Inside fun1\n"
     ]
    }
   ],
   "source": [
    "fun2(f)"
   ]
  },
  {
   "cell_type": "code",
   "execution_count": 48,
   "id": "c094a3ea",
   "metadata": {},
   "outputs": [],
   "source": [
    "def function2():\n",
    "    print(\"Inside fun2\")\n",
    "    \n",
    "    def function1():\n",
    "        print(\"Inside fun1\")\n",
    "        \n",
    "    function1()"
   ]
  },
  {
   "cell_type": "code",
   "execution_count": 49,
   "id": "8bdae2da",
   "metadata": {},
   "outputs": [
    {
     "name": "stdout",
     "output_type": "stream",
     "text": [
      "Inside fun2\n",
      "Inside fun1\n"
     ]
    }
   ],
   "source": [
    "function2()"
   ]
  },
  {
   "cell_type": "code",
   "execution_count": 50,
   "id": "8dca20a1",
   "metadata": {},
   "outputs": [],
   "source": [
    "# function1() "
   ]
  },
  {
   "cell_type": "markdown",
   "id": "3cc8eacc",
   "metadata": {},
   "source": [
    " it will raise an error becuase `function1()` is defined inside the `function2()` "
   ]
  },
  {
   "cell_type": "markdown",
   "id": "a6c63a8d",
   "metadata": {},
   "source": [
    "### let's see the similar way but in different approach"
   ]
  },
  {
   "cell_type": "code",
   "execution_count": 55,
   "id": "0ea77170",
   "metadata": {},
   "outputs": [],
   "source": [
    "def decfun(f):\n",
    "    def innerfun():\n",
    "        print(\"Welcome\")\n",
    "        f()\n",
    "    return innerfun\n",
    "def fun():\n",
    "    print(\"User\")\n",
    "    "
   ]
  },
  {
   "cell_type": "code",
   "execution_count": 57,
   "id": "14756edd",
   "metadata": {},
   "outputs": [
    {
     "name": "stdout",
     "output_type": "stream",
     "text": [
      "Welcome\n",
      "User\n"
     ]
    }
   ],
   "source": [
    "fun = decfun(fun)\n",
    "fun()"
   ]
  },
  {
   "cell_type": "markdown",
   "id": "63010150",
   "metadata": {},
   "source": [
    "## now the time to use actual decorator"
   ]
  },
  {
   "cell_type": "code",
   "execution_count": 60,
   "id": "9ee8f580",
   "metadata": {},
   "outputs": [],
   "source": [
    "def decfun(f):\n",
    "    def innerfun():\n",
    "        print(\"Welcome\")\n",
    "        f()\n",
    "    return innerfun\n",
    "\n",
    "@decfun   # it will add there own property as well as below function property\n",
    "def fun():\n",
    "    print(\"User\")"
   ]
  },
  {
   "cell_type": "code",
   "execution_count": 61,
   "id": "ff2b9bc6",
   "metadata": {},
   "outputs": [
    {
     "name": "stdout",
     "output_type": "stream",
     "text": [
      "Welcome\n",
      "User\n"
     ]
    }
   ],
   "source": [
    "fun()"
   ]
  },
  {
   "cell_type": "code",
   "execution_count": 62,
   "id": "cc4b65f5",
   "metadata": {},
   "outputs": [
    {
     "name": "stdout",
     "output_type": "stream",
     "text": [
      "Successfully added to the comment list\n"
     ]
    }
   ],
   "source": [
    "z.new(\"Class Methods and Static Members\")"
   ]
  },
  {
   "cell_type": "code",
   "execution_count": 64,
   "id": "357da527",
   "metadata": {},
   "outputs": [],
   "source": [
    "z.makeNullArr()"
   ]
  },
  {
   "cell_type": "markdown",
   "id": "c6aa4026",
   "metadata": {},
   "source": [
    "## Class Methods and Static Members"
   ]
  },
  {
   "cell_type": "code",
   "execution_count": 84,
   "id": "85e770d6",
   "metadata": {},
   "outputs": [],
   "source": [
    "class Employee:\n",
    "    compname = \"AI\"\n",
    "    def __init__(self, name, age):\n",
    "        self.name = name\n",
    "        self.age = age\n",
    "        \n",
    "    @classmethod\n",
    "    def setCompName(cls, cName):\n",
    "        print(cls)\n",
    "        cls.compname = cName # here we are changing the class member by using decorator function"
   ]
  },
  {
   "cell_type": "code",
   "execution_count": 85,
   "id": "9235d64f",
   "metadata": {},
   "outputs": [
    {
     "name": "stdout",
     "output_type": "stream",
     "text": [
      "<class '__main__.Employee'>\n",
      "KAIZEN\n"
     ]
    }
   ],
   "source": [
    "Employee.setCompName(\"KAIZEN\")\n",
    "print(Employee.compname)"
   ]
  },
  {
   "cell_type": "code",
   "execution_count": 86,
   "id": "d4ce9fc1",
   "metadata": {},
   "outputs": [],
   "source": [
    "e = Employee(\"Chandrashekhar\",20)"
   ]
  },
  {
   "cell_type": "code",
   "execution_count": 87,
   "id": "79111369",
   "metadata": {},
   "outputs": [
    {
     "data": {
      "text/plain": [
       "'KAIZEN'"
      ]
     },
     "execution_count": 87,
     "metadata": {},
     "output_type": "execute_result"
    }
   ],
   "source": [
    "e.compname"
   ]
  },
  {
   "cell_type": "markdown",
   "id": "7977eb33",
   "metadata": {},
   "source": [
    "**another example**"
   ]
  },
  {
   "cell_type": "code",
   "execution_count": 88,
   "id": "28d44da7",
   "metadata": {},
   "outputs": [],
   "source": [
    "from datetime import date\n",
    "class Employee:\n",
    "    def __init__(self, name, age):\n",
    "        self.name = name\n",
    "        self.age = age\n",
    "    @classmethod\n",
    "    def getfromBirthYear(cls, name, year):\n",
    "        return cls(name, date.today().year - year)\n",
    "    "
   ]
  },
  {
   "cell_type": "code",
   "execution_count": 89,
   "id": "a45d44e8",
   "metadata": {},
   "outputs": [],
   "source": [
    "e = Employee.getfromBirthYear(\"Chandrashekhar\",2002)"
   ]
  },
  {
   "cell_type": "code",
   "execution_count": 90,
   "id": "82c271d9",
   "metadata": {},
   "outputs": [
    {
     "data": {
      "text/plain": [
       "'Chandrashekhar'"
      ]
     },
     "execution_count": 90,
     "metadata": {},
     "output_type": "execute_result"
    }
   ],
   "source": [
    "e.name"
   ]
  },
  {
   "cell_type": "code",
   "execution_count": 92,
   "id": "f4b155d0",
   "metadata": {},
   "outputs": [
    {
     "data": {
      "text/plain": [
       "21"
      ]
     },
     "execution_count": 92,
     "metadata": {},
     "output_type": "execute_result"
    }
   ],
   "source": [
    "e.age"
   ]
  },
  {
   "cell_type": "code",
   "execution_count": null,
   "id": "487c3370",
   "metadata": {},
   "outputs": [],
   "source": []
  }
 ],
 "metadata": {
  "kernelspec": {
   "display_name": "Python 3 (ipykernel)",
   "language": "python",
   "name": "python3"
  },
  "language_info": {
   "codemirror_mode": {
    "name": "ipython",
    "version": 3
   },
   "file_extension": ".py",
   "mimetype": "text/x-python",
   "name": "python",
   "nbconvert_exporter": "python",
   "pygments_lexer": "ipython3",
   "version": "3.10.9"
  }
 },
 "nbformat": 4,
 "nbformat_minor": 5
}

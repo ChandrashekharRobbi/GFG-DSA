{
 "cells": [
  {
   "cell_type": "markdown",
   "id": "d1594838",
   "metadata": {},
   "source": [
    "# Python (OOPS)"
   ]
  },
  {
   "cell_type": "markdown",
   "id": "3f456f68",
   "metadata": {},
   "source": [
    "# Types of Programming\n",
    "\n",
    "\n",
    "\n",
    "\n",
    "\n",
    "\n",
    "1. Procedural Programming:\n",
    "\n",
    "    <p>We break the code into set of functions and these functions call each other</p>\n",
    "    \n",
    "\n",
    "    \n",
    "2. Object Oriented Programming:\n",
    "\n",
    "    <p>We break the code into set of entities and these entities talk to each other. These entities have data and methods</p>\n",
    "    \n",
    "3. Functional Programming:\n",
    "    <p>Functional Programming is the use of pure high-order functions to develop applications. </p>\n",
    "    "
   ]
  },
  {
   "cell_type": "markdown",
   "id": "e17ff197",
   "metadata": {},
   "source": [
    "### Classes and Objects\n",
    "\n",
    "<img src=\"https://intellipaat.com/mediaFiles/2019/03/python10.png\" width=\"650px\" height=\"600px\"  align=\"left\">\n",
    "\n",
    "#### `Classes`: \n",
    "A blueprint for objects. A class is a user-defined type that describes what a certain type of object will look like. A class description consists of a declaration and a definition.\n",
    "\n",
    "#### `Objects`:\n",
    "An encapsulation of data along with functions that act upon that data.\n",
    "\n",
    "> `self` : It is a special member which is used for references as well as accessing the data members from the current `class`\n",
    "\n",
    "\n",
    "An object consists of:\n",
    "\n",
    "* Name -- the variable name we give it\n",
    "* Member data -- the data that describes the object\n",
    "* Member functions -- behavior aspects of the object (functions related to the object itself)"
   ]
  },
  {
   "cell_type": "code",
   "execution_count": 1,
   "id": "ee85848c",
   "metadata": {},
   "outputs": [],
   "source": [
    " class MyCar:\n",
    "    def __init__(self): # use as a constructor\n",
    "        self.wheel = 4\n",
    "        self.window = 4\n",
    "\n",
    "    def Colour(self, color):\n",
    "        return f\"Your car \"\n",
    "\n",
    "    def BrandName(self):\n",
    "        pass\n",
    "\n",
    "    def Category(self):\n",
    "        pass"
   ]
  },
  {
   "cell_type": "code",
   "execution_count": null,
   "id": "bd1fe4ed",
   "metadata": {},
   "outputs": [],
   "source": []
  },
  {
   "cell_type": "code",
   "execution_count": null,
   "id": "0c4c824e",
   "metadata": {},
   "outputs": [],
   "source": []
  },
  {
   "cell_type": "code",
   "execution_count": null,
   "id": "38894cea",
   "metadata": {},
   "outputs": [],
   "source": []
  },
  {
   "cell_type": "code",
   "execution_count": null,
   "id": "cdb19cda",
   "metadata": {},
   "outputs": [],
   "source": []
  },
  {
   "cell_type": "code",
   "execution_count": null,
   "id": "7387a411",
   "metadata": {},
   "outputs": [],
   "source": []
  },
  {
   "cell_type": "code",
   "execution_count": null,
   "id": "8853f867",
   "metadata": {},
   "outputs": [],
   "source": []
  },
  {
   "cell_type": "code",
   "execution_count": null,
   "id": "956a246c",
   "metadata": {},
   "outputs": [],
   "source": []
  },
  {
   "cell_type": "code",
   "execution_count": null,
   "id": "1779b0ff",
   "metadata": {},
   "outputs": [],
   "source": []
  },
  {
   "cell_type": "code",
   "execution_count": null,
   "id": "41558901",
   "metadata": {},
   "outputs": [],
   "source": []
  },
  {
   "cell_type": "code",
   "execution_count": null,
   "id": "b34c8064",
   "metadata": {},
   "outputs": [],
   "source": []
  },
  {
   "cell_type": "code",
   "execution_count": null,
   "id": "65659807",
   "metadata": {},
   "outputs": [],
   "source": []
  },
  {
   "cell_type": "code",
   "execution_count": null,
   "id": "04fd85cb",
   "metadata": {},
   "outputs": [],
   "source": []
  },
  {
   "cell_type": "code",
   "execution_count": null,
   "id": "6109977d",
   "metadata": {},
   "outputs": [],
   "source": []
  },
  {
   "cell_type": "code",
   "execution_count": null,
   "id": "22f3e43f",
   "metadata": {},
   "outputs": [],
   "source": []
  },
  {
   "cell_type": "code",
   "execution_count": null,
   "id": "dd657e9c",
   "metadata": {},
   "outputs": [],
   "source": []
  },
  {
   "cell_type": "code",
   "execution_count": null,
   "id": "2c341929",
   "metadata": {},
   "outputs": [],
   "source": []
  },
  {
   "cell_type": "code",
   "execution_count": null,
   "id": "7ed308c7",
   "metadata": {},
   "outputs": [],
   "source": []
  },
  {
   "cell_type": "code",
   "execution_count": null,
   "id": "f48f2eeb",
   "metadata": {},
   "outputs": [],
   "source": []
  },
  {
   "cell_type": "markdown",
   "id": "799db615",
   "metadata": {},
   "source": [
    "# NOTE:\n",
    "* In Python every `type()` is class"
   ]
  },
  {
   "cell_type": "code",
   "execution_count": null,
   "id": "dd4bbbf5",
   "metadata": {},
   "outputs": [],
   "source": []
  },
  {
   "cell_type": "code",
   "execution_count": null,
   "id": "8cc2ac10",
   "metadata": {},
   "outputs": [],
   "source": []
  }
 ],
 "metadata": {
  "kernelspec": {
   "display_name": "Python 3 (ipykernel)",
   "language": "python",
   "name": "python3"
  },
  "language_info": {
   "codemirror_mode": {
    "name": "ipython",
    "version": 3
   },
   "file_extension": ".py",
   "mimetype": "text/x-python",
   "name": "python",
   "nbconvert_exporter": "python",
   "pygments_lexer": "ipython3",
   "version": "3.10.8"
  }
 },
 "nbformat": 4,
 "nbformat_minor": 5
}

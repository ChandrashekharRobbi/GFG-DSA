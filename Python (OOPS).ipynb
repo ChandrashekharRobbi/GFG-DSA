{
 "cells": [
  {
   "cell_type": "markdown",
   "id": "d1594838",
   "metadata": {},
   "source": [
    "# Python (OOPS)"
   ]
  },
  {
   "cell_type": "markdown",
   "id": "3f456f68",
   "metadata": {},
   "source": [
    "# Types of Programming\n",
    "\n",
    "\n",
    "\n",
    "\n",
    "\n",
    "\n",
    "1. Procedural Programming:\n",
    "\n",
    "    <p>We break the code into set of functions and these functions call each other</p>\n",
    "    \n",
    "\n",
    "    \n",
    "2. Object Oriented Programming:\n",
    "\n",
    "    <p>We break the code into set of entities and these entities talk to each other. These entities have data and methods</p>\n",
    "    \n",
    "3. Functional Programming:\n",
    "    <p>Functional Programming is the use of pure high-order functions to develop applications. </p>\n",
    "    "
   ]
  },
  {
   "cell_type": "markdown",
   "id": "20f0e769",
   "metadata": {},
   "source": [
    "### Classes and Objects\n",
    "\n",
    "<img src=\"https://intellipaat.com/mediaFiles/2019/03/python10.png\" width=\"650px\" height=\"600px\"  align=\"left\">\n",
    "\n",
    "#### `Classes`: \n",
    "A blueprint for objects. A class is a user-defined type that describes what a certain type of object will look like. A class description consists of a declaration and a definition.\n",
    "\n",
    "#### `Objects`:\n",
    "An encapsulation of data along with functions that act upon that data.\n",
    "\n",
    "> `self` : It is a special member which is used for references as well as accessing the data members from the current `class`\n",
    "\n",
    "\n",
    "An object consists of:\n",
    "\n",
    "* Name -- the variable name we give it\n",
    "* Member data -- the data that describes the object\n",
    "* Member functions -- behavior aspects of the object (functions related to the object itself)"
   ]
  },
  {
   "cell_type": "code",
   "execution_count": 2,
   "id": "72819c9e",
   "metadata": {},
   "outputs": [],
   "source": [
    " class MyCar:\n",
    "    def __init__(self): # use as a constructor\n",
    "        self.wheel = 4\n",
    "        self.window = 4\n",
    "\n",
    "    def Colour(self, color):\n",
    "        return f\"Your car have {self.wheel} wheels,{self.window} window having {color} color\"\n",
    "\n",
    "    def BrandName(self,brandname):\n",
    "        return f\"Your car have {self.wheel} wheels,{self.window} window of Company {brandname}\"\n",
    "\n",
    "    def Category(self, category):\n",
    "        return f\"Your car have {self.wheel} wheels,{self.window} window belongs to category {category}\""
   ]
  },
  {
   "cell_type": "code",
   "execution_count": null,
   "id": "2d7defed",
   "metadata": {},
   "outputs": [],
   "source": [
    "m ="
   ]
  },
  {
   "cell_type": "code",
   "execution_count": null,
   "id": "22f4909c",
   "metadata": {},
   "outputs": [],
   "source": []
  },
  {
   "cell_type": "code",
   "execution_count": null,
   "id": "eef993db",
   "metadata": {},
   "outputs": [],
   "source": []
  },
  {
   "cell_type": "code",
   "execution_count": null,
   "id": "5621c396",
   "metadata": {},
   "outputs": [],
   "source": []
  },
  {
   "cell_type": "code",
   "execution_count": null,
   "id": "733c3a02",
   "metadata": {},
   "outputs": [],
   "source": []
  },
  {
   "cell_type": "code",
   "execution_count": null,
   "id": "bc7f0beb",
   "metadata": {},
   "outputs": [],
   "source": []
  },
  {
   "cell_type": "code",
   "execution_count": null,
   "id": "b9229a80",
   "metadata": {},
   "outputs": [],
   "source": []
  },
  {
   "cell_type": "code",
   "execution_count": null,
   "id": "aa8dd3bb",
   "metadata": {},
   "outputs": [],
   "source": []
  },
  {
   "cell_type": "code",
   "execution_count": null,
   "id": "eb5bfd8a",
   "metadata": {},
   "outputs": [],
   "source": []
  },
  {
   "cell_type": "code",
   "execution_count": null,
   "id": "863edbc4",
   "metadata": {},
   "outputs": [],
   "source": []
  },
  {
   "cell_type": "code",
   "execution_count": null,
   "id": "71a0f507",
   "metadata": {},
   "outputs": [],
   "source": []
  },
  {
   "cell_type": "code",
   "execution_count": null,
   "id": "9622570f",
   "metadata": {},
   "outputs": [],
   "source": []
  },
  {
   "cell_type": "code",
   "execution_count": null,
   "id": "d7a9cb5c",
   "metadata": {},
   "outputs": [],
   "source": []
  },
  {
   "cell_type": "code",
   "execution_count": null,
   "id": "6a87dd9b",
   "metadata": {},
   "outputs": [],
   "source": []
  },
  {
   "cell_type": "code",
   "execution_count": null,
   "id": "f73fbcfe",
   "metadata": {},
   "outputs": [],
   "source": []
  },
  {
   "cell_type": "code",
   "execution_count": null,
   "id": "4fb314b6",
   "metadata": {},
   "outputs": [],
   "source": []
  },
  {
   "cell_type": "code",
   "execution_count": null,
   "id": "81d0d9b2",
   "metadata": {},
   "outputs": [],
   "source": []
  },
  {
   "cell_type": "code",
   "execution_count": null,
   "id": "5d0d3077",
   "metadata": {},
   "outputs": [],
   "source": []
  },
  {
   "cell_type": "markdown",
   "id": "93a288cf",
   "metadata": {},
   "source": [
    "# NOTE:\n",
    "* In Python every `type()` is class"
   ]
  },
  {
   "cell_type": "code",
   "execution_count": null,
   "id": "31668bc5",
   "metadata": {},
   "outputs": [],
   "source": []
  },
  {
   "cell_type": "code",
   "execution_count": null,
   "id": "8c176c98",
   "metadata": {},
   "outputs": [],
   "source": []
  }
 ],
 "metadata": {
  "kernelspec": {
   "display_name": "Python 3 (ipykernel)",
   "language": "python",
   "name": "python3"
  },
  "language_info": {
   "codemirror_mode": {
    "name": "ipython",
    "version": 3
   },
   "file_extension": ".py",
   "mimetype": "text/x-python",
   "name": "python",
   "nbconvert_exporter": "python",
   "pygments_lexer": "ipython3",
   "version": "3.10.8"
  }
 },
 "nbformat": 4,
 "nbformat_minor": 5
}

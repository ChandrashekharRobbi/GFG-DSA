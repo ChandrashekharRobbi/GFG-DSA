{
 "cells": [
  {
   "cell_type": "markdown",
   "id": "6866d313",
   "metadata": {},
   "source": [
    "# Python (OOPS)"
   ]
  },
  {
   "cell_type": "markdown",
   "id": "6d81a8f4",
   "metadata": {},
   "source": [
    "# Types of Programming\n",
    "\n",
    "1. Procedural Programming:\n",
    "    ```\n",
    "\n",
    "    We break the code into set of functions\n",
    "    ```"
   ]
  },
  {
   "cell_type": "code",
   "execution_count": null,
   "id": "9554139b",
   "metadata": {},
   "outputs": [],
   "source": []
  }
 ],
 "metadata": {
  "kernelspec": {
   "display_name": "Python 3 (ipykernel)",
   "language": "python",
   "name": "python3"
  },
  "language_info": {
   "codemirror_mode": {
    "name": "ipython",
    "version": 3
   },
   "file_extension": ".py",
   "mimetype": "text/x-python",
   "name": "python",
   "nbconvert_exporter": "python",
   "pygments_lexer": "ipython3",
   "version": "3.10.8"
  }
 },
 "nbformat": 4,
 "nbformat_minor": 5
}

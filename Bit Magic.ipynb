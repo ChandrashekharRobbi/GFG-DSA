{
 "cells": [
  {
   "cell_type": "code",
   "execution_count": 1,
   "id": "97768fe4-e563-468b-9821-67bed9e0b8f0",
   "metadata": {},
   "outputs": [],
   "source": [
    "from imp_personal import MyFunction\n",
    "z = MyFunction()"
   ]
  },
  {
   "cell_type": "markdown",
   "id": "c160ea94-84b1-48a2-8bd9-8038f3497863",
   "metadata": {},
   "source": [
    "# Bit Magic\n",
    "\n",
    "1. [Convert the decimal to binary representation](#Convert-the-decimal-to-binary-representation)\n",
    "1. [Convert the Binary into Decimal](#Convert-the-Binary-into-Decimal)\n",
    "1. [Bitwise Operations](#Bitwise-Operations)\n",
    "    1. [AND Operation](#AND-Operation)\n",
    "    1. [OR Operations](#OR-Operations)\n",
    "    1. [XOR Operations](#XOR-Operations)\n",
    "    1. [Left Shift Operations](#Left-Shift-Operations)\n",
    "    1. [Right Shift Operations](#Right-Shift-Operations)\n",
    "    1. [Not Operation](#Not-Operation)\n",
    "1. [Kth Bit is set or not](#Kth-Bit-is-set-or-not)"
   ]
  },
  {
   "cell_type": "markdown",
   "id": "c3866a09-00d4-4619-ac3f-f3b374430335",
   "metadata": {},
   "source": [
    "#### Convert the decimal to binary representation"
   ]
  },
  {
   "cell_type": "code",
   "execution_count": 2,
   "id": "4a6f44d9-8f2c-4132-9db9-ca530d87cafe",
   "metadata": {},
   "outputs": [
    {
     "data": {
      "text/plain": [
       "'0b1010'"
      ]
     },
     "execution_count": 2,
     "metadata": {},
     "output_type": "execute_result"
    }
   ],
   "source": [
    "bin(10)"
   ]
  },
  {
   "cell_type": "code",
   "execution_count": 3,
   "id": "35766e51-d672-41da-a712-a5cbdc6f43de",
   "metadata": {},
   "outputs": [
    {
     "name": "stdout",
     "output_type": "stream",
     "text": [
      "1\n",
      "10\n",
      "11\n",
      "100\n",
      "101\n",
      "110\n",
      "111\n",
      "1000\n",
      "1001\n"
     ]
    }
   ],
   "source": [
    "for i in range(1,10):\n",
    "    k = bin(i)\n",
    "    print(k[2:])"
   ]
  },
  {
   "cell_type": "markdown",
   "id": "b5c9f21d-08fd-4af3-9cc4-add5620cd5d8",
   "metadata": {},
   "source": [
    "#### Convert the Binary into Decimal"
   ]
  },
  {
   "cell_type": "code",
   "execution_count": 4,
   "id": "35549883-8904-42db-89bb-4ae30bc88bda",
   "metadata": {},
   "outputs": [
    {
     "data": {
      "text/plain": [
       "2"
      ]
     },
     "execution_count": 4,
     "metadata": {},
     "output_type": "execute_result"
    }
   ],
   "source": [
    "int(\"0b10\", 2)"
   ]
  },
  {
   "cell_type": "code",
   "execution_count": 5,
   "id": "136bde8f-6187-47e3-a212-b95734585473",
   "metadata": {},
   "outputs": [
    {
     "name": "stdout",
     "output_type": "stream",
     "text": [
      "For the Binary 0b10 The decimal is  2\n",
      "For the Binary 0b100 The decimal is  4\n",
      "For the Binary 0b1000 The decimal is  8\n",
      "For the Binary 0b10000 The decimal is  16\n",
      "For the Binary 0b100000 The decimal is  32\n",
      "For the Binary 0b1000000 The decimal is  64\n",
      "For the Binary 0b10000000 The decimal is  128\n",
      "For the Binary 0b100000000 The decimal is  256\n",
      "For the Binary 0b1000000000 The decimal is  512\n"
     ]
    }
   ],
   "source": [
    "k = \"0b1\"\n",
    "for _ in range(1,10):   \n",
    "    k += \"0\"\n",
    "    print(f\"For the Binary {k} The decimal is \" , end= \" \")\n",
    "    print(int(k, 2))"
   ]
  },
  {
   "cell_type": "markdown",
   "id": "bdd46a5f-b990-4c1d-9c48-ed3ccb52798d",
   "metadata": {},
   "source": [
    "#### Bitwise Operations"
   ]
  },
  {
   "cell_type": "markdown",
   "id": "d7235909-da5a-4d8c-a8af-817917f4216a",
   "metadata": {},
   "source": [
    "##### AND Operation\n",
    "\n",
    "             6 : 1 1 0\n",
    "             3 : 0 1 1\n",
    "         6 & 3 : 0 1 0 (2)"
   ]
  },
  {
   "cell_type": "code",
   "execution_count": 6,
   "id": "682e50a9-932d-4e61-8c58-3e4e479dcd64",
   "metadata": {},
   "outputs": [
    {
     "data": {
      "text/plain": [
       "2"
      ]
     },
     "execution_count": 6,
     "metadata": {},
     "output_type": "execute_result"
    }
   ],
   "source": [
    "x = 6\n",
    "y = 3\n",
    "\n",
    "x & y"
   ]
  },
  {
   "cell_type": "markdown",
   "id": "ef6e4cde-983e-4248-a54f-5ba5e0c04766",
   "metadata": {},
   "source": [
    "##### OR Operations\n",
    "\n",
    "             6 : 1 1 0\n",
    "             3 : 0 1 1\n",
    "         6 & 3 : 1 1 1 (7)"
   ]
  },
  {
   "cell_type": "code",
   "execution_count": 7,
   "id": "2609d7e9-8069-43e5-ac94-071b80b9b968",
   "metadata": {},
   "outputs": [
    {
     "data": {
      "text/plain": [
       "7"
      ]
     },
     "execution_count": 7,
     "metadata": {},
     "output_type": "execute_result"
    }
   ],
   "source": [
    "x = 6\n",
    "y = 3\n",
    "\n",
    "x | y"
   ]
  },
  {
   "cell_type": "code",
   "execution_count": 8,
   "id": "b3ad6a7c-546d-4f35-8e68-51116177d4a4",
   "metadata": {},
   "outputs": [],
   "source": [
    "z.makeNullArr()"
   ]
  },
  {
   "cell_type": "markdown",
   "id": "792a08df-5736-49a5-ba98-855e9f353e49",
   "metadata": {},
   "source": [
    "##### XOR Operations\n",
    "\n",
    "            12 : 1 1 0 0\n",
    "             6 : 0 1 1 0\n",
    "         6 & 3 : 1 0 1 0 (5)"
   ]
  },
  {
   "cell_type": "code",
   "execution_count": 9,
   "id": "8b38dc76-0391-4595-b592-d798b85c05f6",
   "metadata": {},
   "outputs": [
    {
     "data": {
      "text/plain": [
       "10"
      ]
     },
     "execution_count": 9,
     "metadata": {},
     "output_type": "execute_result"
    }
   ],
   "source": [
    "x = 12\n",
    "y = 6\n",
    "\n",
    "x ^ y"
   ]
  },
  {
   "cell_type": "markdown",
   "id": "2375c83b-e9e2-4b81-9f0b-0677b82b9308",
   "metadata": {
    "tags": []
   },
   "source": [
    "##### Left Shift Operations\n",
    "\n",
    "For x = 5\n",
    "\n",
    "```python\n",
    "print(x << 1)\n",
    "\n",
    ">> 10 \n",
    "\n",
    "print(x << 2)\n",
    "\n",
    ">> 20 \n",
    "\n",
    "print(x << 3)\n",
    "\n",
    ">> 40\n",
    "```\n",
    "\n",
    "For 10 output:\n",
    "\n",
    "it looks like 5 * $ 2 ^ 1 $\n",
    "\n",
    "For 20 output:\n",
    "\n",
    "it looks like 5 * $ 2 ^ 2 $\n",
    "\n",
    "For 40 output:\n",
    "\n",
    "it looks like 5 * $ 2 ^ 3 $\n",
    "\n",
    "> It basically appends the 0 to the right side so that numbers will shift for left side"
   ]
  },
  {
   "cell_type": "code",
   "execution_count": 10,
   "id": "f2e5d3b0-363b-4428-bc8d-0042dcaf2c9e",
   "metadata": {},
   "outputs": [],
   "source": [
    "x = 5 "
   ]
  },
  {
   "cell_type": "code",
   "execution_count": 11,
   "id": "9b0b1a58-acfe-4bc8-92de-020edf26bd00",
   "metadata": {},
   "outputs": [
    {
     "data": {
      "text/plain": [
       "(5, '101')"
      ]
     },
     "execution_count": 11,
     "metadata": {},
     "output_type": "execute_result"
    }
   ],
   "source": [
    "x , bin(5)[2:]"
   ]
  },
  {
   "cell_type": "code",
   "execution_count": 12,
   "id": "a3bbc2c0-f0db-4cf3-97b2-dca833db30bf",
   "metadata": {},
   "outputs": [
    {
     "data": {
      "text/plain": [
       "(10, '1010')"
      ]
     },
     "execution_count": 12,
     "metadata": {},
     "output_type": "execute_result"
    }
   ],
   "source": [
    "x << 1 , bin(x<<1)[2:]"
   ]
  },
  {
   "cell_type": "code",
   "execution_count": 13,
   "id": "56888f0e-d212-4baf-b5f3-8ce0edf256d8",
   "metadata": {},
   "outputs": [
    {
     "data": {
      "text/plain": [
       "(20, '10100')"
      ]
     },
     "execution_count": 13,
     "metadata": {},
     "output_type": "execute_result"
    }
   ],
   "source": [
    "x << 2 , bin(x<<2)[2:]"
   ]
  },
  {
   "cell_type": "code",
   "execution_count": 14,
   "id": "d1f2a21a-b996-488d-81ea-f71ab8288c54",
   "metadata": {},
   "outputs": [
    {
     "data": {
      "text/plain": [
       "(40, '101000')"
      ]
     },
     "execution_count": 14,
     "metadata": {},
     "output_type": "execute_result"
    }
   ],
   "source": [
    "x << 3 , bin(x<<3)[2:]"
   ]
  },
  {
   "cell_type": "markdown",
   "id": "9618b6fc-2397-4a77-971d-ac96cb64617e",
   "metadata": {},
   "source": [
    "##### Right Shift Operations\n",
    "\n",
    "For x = 5\n",
    "\n",
    "```python\n",
    "print(x >> 1)\n",
    "\n",
    ">> 2\n",
    "\n",
    "print(x >> 2)\n",
    "\n",
    ">> 1\n",
    "\n",
    "print(x >> 3)\n",
    "\n",
    ">> 0\n",
    "```\n",
    "\n",
    "For 10 output:\n",
    "\n",
    "it looks like 5 // $ 2 ^ 1 $\n",
    "\n",
    "For 20 output:\n",
    "\n",
    "it looks like 5 // $ 2 ^ 2 $\n",
    "\n",
    "For 40 output:\n",
    "\n",
    "it looks like 5 // $ 2 ^ 3 $\n",
    "\n",
    "> It basically appends the 0 to the left side so that numbers will shift for right side"
   ]
  },
  {
   "cell_type": "code",
   "execution_count": 15,
   "id": "4bfa5939-904c-4712-bd86-6e4c6b54a92a",
   "metadata": {},
   "outputs": [],
   "source": [
    "x = 5"
   ]
  },
  {
   "cell_type": "code",
   "execution_count": 16,
   "id": "9005e8a2-97f6-489e-a646-115f8d10c402",
   "metadata": {},
   "outputs": [
    {
     "data": {
      "text/plain": [
       "(5, '101')"
      ]
     },
     "execution_count": 16,
     "metadata": {},
     "output_type": "execute_result"
    }
   ],
   "source": [
    "x , bin(5)[2:]"
   ]
  },
  {
   "cell_type": "code",
   "execution_count": 17,
   "id": "2e6964a3-fa4f-42ea-866f-51ffdd5af8f0",
   "metadata": {},
   "outputs": [
    {
     "data": {
      "text/plain": [
       "(2, '10')"
      ]
     },
     "execution_count": 17,
     "metadata": {},
     "output_type": "execute_result"
    }
   ],
   "source": [
    "x >> 1 , bin(x >> 1)[2:] # 010"
   ]
  },
  {
   "cell_type": "code",
   "execution_count": 18,
   "id": "83f3345e-6ad3-4a77-999b-77766d384c8a",
   "metadata": {},
   "outputs": [
    {
     "data": {
      "text/plain": [
       "(1, '1')"
      ]
     },
     "execution_count": 18,
     "metadata": {},
     "output_type": "execute_result"
    }
   ],
   "source": [
    "x >> 2 , bin(x >> 2)[2:] # 001"
   ]
  },
  {
   "cell_type": "code",
   "execution_count": 19,
   "id": "08d77211-fc86-4f98-a616-817ff18ba7e2",
   "metadata": {},
   "outputs": [
    {
     "data": {
      "text/plain": [
       "(0, '0')"
      ]
     },
     "execution_count": 19,
     "metadata": {},
     "output_type": "execute_result"
    }
   ],
   "source": [
    "x >> 3 , bin(x >> 3)[2:] # 000"
   ]
  },
  {
   "cell_type": "markdown",
   "id": "3be9c682-e77c-48e0-9359-fd99fe989ffd",
   "metadata": {},
   "source": [
    "##### Not Operation"
   ]
  },
  {
   "cell_type": "code",
   "execution_count": 20,
   "id": "8fc4965b-d212-4512-86b1-5da8bfc1146a",
   "metadata": {},
   "outputs": [],
   "source": [
    "x = 5"
   ]
  },
  {
   "cell_type": "code",
   "execution_count": 21,
   "id": "7f8c8b6f-8e1f-4256-b8c2-840fa2901462",
   "metadata": {},
   "outputs": [
    {
     "data": {
      "text/plain": [
       "-5"
      ]
     },
     "execution_count": 21,
     "metadata": {},
     "output_type": "execute_result"
    }
   ],
   "source": [
    "~5 + 1"
   ]
  },
  {
   "cell_type": "markdown",
   "id": "61d69f78-2e4c-4c8f-8f8b-dd32dc27d264",
   "metadata": {},
   "source": [
    "> In the negation because of sign bit we get negative and we have to add 1 to 1's complement such that we will get 2's complement which is right answer"
   ]
  },
  {
   "cell_type": "code",
   "execution_count": 22,
   "id": "a650cd5e",
   "metadata": {},
   "outputs": [
    {
     "name": "stdout",
     "output_type": "stream",
     "text": [
      "Successfully added to the comment list\n"
     ]
    }
   ],
   "source": [
    "z.new(\"Kth Bit is set or not\")"
   ]
  },
  {
   "cell_type": "markdown",
   "id": "03c74c2c",
   "metadata": {},
   "source": [
    "#### Kth Bit is set or not"
   ]
  },
  {
   "cell_type": "code",
   "execution_count": 23,
   "id": "5fb06b2b",
   "metadata": {},
   "outputs": [],
   "source": [
    "n = 39\n",
    "k = 5\n"
   ]
  },
  {
   "cell_type": "code",
   "execution_count": 24,
   "id": "9057a830",
   "metadata": {},
   "outputs": [],
   "source": [
    "def isKthBitSet(n, k):\n",
    "    if n & (1 << (k)):\n",
    "        return True\n",
    "    else:\n",
    "        return False\n",
    "        "
   ]
  },
  {
   "cell_type": "code",
   "execution_count": 27,
   "id": "d9450253",
   "metadata": {},
   "outputs": [
    {
     "data": {
      "text/plain": [
       "True"
      ]
     },
     "execution_count": 27,
     "metadata": {},
     "output_type": "execute_result"
    }
   ],
   "source": [
    "isKthBitSet(n , k)"
   ]
  },
  {
   "cell_type": "code",
   "execution_count": 28,
   "id": "c2122337",
   "metadata": {},
   "outputs": [
    {
     "name": "stdout",
     "output_type": "stream",
     "text": [
      "Successfully added to the comment list\n"
     ]
    }
   ],
   "source": [
    "z.new(\"Count Set Bits\")"
   ]
  },
  {
   "cell_type": "markdown",
   "id": "fb437167",
   "metadata": {},
   "source": [
    "#### Count Set Bits"
   ]
  },
  {
   "cell_type": "markdown",
   "id": "629879b2",
   "metadata": {},
   "source": [
    "```python \n",
    "n % 2 : Gives the LSB value of the number\n",
    "\n",
    "n // 2 : Removes the LSB value\n",
    "    \n",
    "n & 1 : It will return the set bit as 0 or 1\n",
    "```\n",
    "\n",
    "The Time Complexity will be `O(No of Bits)`"
   ]
  },
  {
   "cell_type": "code",
   "execution_count": 29,
   "id": "23ba745c",
   "metadata": {},
   "outputs": [],
   "source": [
    "def CountSetBits(n):\n",
    "    res = 0\n",
    "    while n:\n",
    "        if n % 2 == 1:\n",
    "            res += 1\n",
    "        n = n // 2\n",
    "    return res"
   ]
  },
  {
   "cell_type": "code",
   "execution_count": 30,
   "id": "95685259",
   "metadata": {},
   "outputs": [
    {
     "data": {
      "text/plain": [
       "'0b100'"
      ]
     },
     "execution_count": 30,
     "metadata": {},
     "output_type": "execute_result"
    }
   ],
   "source": [
    "bin(4)"
   ]
  },
  {
   "cell_type": "code",
   "execution_count": 31,
   "id": "91d95e5e",
   "metadata": {},
   "outputs": [
    {
     "data": {
      "text/plain": [
       "1"
      ]
     },
     "execution_count": 31,
     "metadata": {},
     "output_type": "execute_result"
    }
   ],
   "source": [
    "CountSetBits(4)"
   ]
  },
  {
   "cell_type": "code",
   "execution_count": 32,
   "id": "66791a69",
   "metadata": {},
   "outputs": [
    {
     "data": {
      "text/plain": [
       "'0b10011'"
      ]
     },
     "execution_count": 32,
     "metadata": {},
     "output_type": "execute_result"
    }
   ],
   "source": [
    "bin(19)"
   ]
  },
  {
   "cell_type": "code",
   "execution_count": 33,
   "id": "3ed443cc",
   "metadata": {},
   "outputs": [
    {
     "data": {
      "text/plain": [
       "3"
      ]
     },
     "execution_count": 33,
     "metadata": {},
     "output_type": "execute_result"
    }
   ],
   "source": [
    "CountSetBits(19)"
   ]
  },
  {
   "cell_type": "code",
   "execution_count": 35,
   "id": "9bfbd7d8",
   "metadata": {},
   "outputs": [
    {
     "name": "stdout",
     "output_type": "stream",
     "text": [
      "Successfully added to the comment list\n"
     ]
    }
   ],
   "source": [
    "z.new(\"Count Bit using Brain Kernigam's Algorithm\")"
   ]
  },
  {
   "cell_type": "markdown",
   "id": "b0132a2e",
   "metadata": {},
   "source": [
    "#### Count Bit using Brain Kernigam's Algorithm"
   ]
  },
  {
   "cell_type": "markdown",
   "id": "0fee8c5a",
   "metadata": {},
   "source": [
    "<img src=\"img/Bit Magic Brain Kernigrams Algorithm.png\" />"
   ]
  },
  {
   "cell_type": "code",
   "execution_count": null,
   "id": "8f131e52",
   "metadata": {},
   "outputs": [],
   "source": []
  }
 ],
 "metadata": {
  "kernelspec": {
   "display_name": "Python 3 (ipykernel)",
   "language": "python",
   "name": "python3"
  },
  "language_info": {
   "codemirror_mode": {
    "name": "ipython",
    "version": 3
   },
   "file_extension": ".py",
   "mimetype": "text/x-python",
   "name": "python",
   "nbconvert_exporter": "python",
   "pygments_lexer": "ipython3",
   "version": "3.10.9"
  }
 },
 "nbformat": 4,
 "nbformat_minor": 5
}

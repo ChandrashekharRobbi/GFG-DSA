{
 "cells": [
  {
   "cell_type": "code",
   "execution_count": 1,
   "id": "97768fe4-e563-468b-9821-67bed9e0b8f0",
   "metadata": {},
   "outputs": [],
   "source": [
    "from imp_personal import MyFunction\n",
    "z = MyFunction()"
   ]
  },
  {
   "cell_type": "markdown",
   "id": "c160ea94-84b1-48a2-8bd9-8038f3497863",
   "metadata": {},
   "source": [
    "# Bit Magic\n",
    "\n",
    "1. [Convert the decimal to binary representation](#Convert-the-decimal-to-binary-representation)\n",
    "1. [Convert the Binary into Decimal](#Convert-the-Binary-into-Decimal)\n",
    "1. [Bitwise Operations](#Bitwise-Operations)\n",
    "    1. [AND Operation](#AND-Operation)\n",
    "    1. [OR Operations](#OR-Operations)\n",
    "    1. [XOR Operations](#XOR-Operations)\n",
    "    1. [Left Shift Operations](#Left-Shift-Operations)"
   ]
  },
  {
   "cell_type": "markdown",
   "id": "c3866a09-00d4-4619-ac3f-f3b374430335",
   "metadata": {},
   "source": [
    "#### Convert the decimal to binary representation"
   ]
  },
  {
   "cell_type": "code",
   "execution_count": 4,
   "id": "4a6f44d9-8f2c-4132-9db9-ca530d87cafe",
   "metadata": {},
   "outputs": [
    {
     "data": {
      "text/plain": [
       "'0b1010'"
      ]
     },
     "execution_count": 4,
     "metadata": {},
     "output_type": "execute_result"
    }
   ],
   "source": [
    "bin(10)"
   ]
  },
  {
   "cell_type": "code",
   "execution_count": 5,
   "id": "35766e51-d672-41da-a712-a5cbdc6f43de",
   "metadata": {},
   "outputs": [
    {
     "name": "stdout",
     "output_type": "stream",
     "text": [
      "1\n",
      "10\n",
      "11\n",
      "100\n",
      "101\n",
      "110\n",
      "111\n",
      "1000\n",
      "1001\n"
     ]
    }
   ],
   "source": [
    "for i in range(1,10):\n",
    "    k = bin(i)\n",
    "    print(k[2:])"
   ]
  },
  {
   "cell_type": "markdown",
   "id": "b5c9f21d-08fd-4af3-9cc4-add5620cd5d8",
   "metadata": {},
   "source": [
    "#### Convert the Binary into Decimal"
   ]
  },
  {
   "cell_type": "code",
   "execution_count": 9,
   "id": "35549883-8904-42db-89bb-4ae30bc88bda",
   "metadata": {},
   "outputs": [
    {
     "data": {
      "text/plain": [
       "2"
      ]
     },
     "execution_count": 9,
     "metadata": {},
     "output_type": "execute_result"
    }
   ],
   "source": [
    "int(\"0b10\", 2)"
   ]
  },
  {
   "cell_type": "code",
   "execution_count": 15,
   "id": "136bde8f-6187-47e3-a212-b95734585473",
   "metadata": {},
   "outputs": [
    {
     "name": "stdout",
     "output_type": "stream",
     "text": [
      "For the Binary 0b10 The decimal is  2\n",
      "For the Binary 0b100 The decimal is  4\n",
      "For the Binary 0b1000 The decimal is  8\n",
      "For the Binary 0b10000 The decimal is  16\n",
      "For the Binary 0b100000 The decimal is  32\n",
      "For the Binary 0b1000000 The decimal is  64\n",
      "For the Binary 0b10000000 The decimal is  128\n",
      "For the Binary 0b100000000 The decimal is  256\n",
      "For the Binary 0b1000000000 The decimal is  512\n"
     ]
    }
   ],
   "source": [
    "k = \"0b1\"\n",
    "for _ in range(1,10):   \n",
    "    k += \"0\"\n",
    "    print(f\"For the Binary {k} The decimal is \" , end= \" \")\n",
    "    print(int(k, 2))"
   ]
  },
  {
   "cell_type": "markdown",
   "id": "bdd46a5f-b990-4c1d-9c48-ed3ccb52798d",
   "metadata": {},
   "source": [
    "#### Bitwise Operations"
   ]
  },
  {
   "cell_type": "markdown",
   "id": "d7235909-da5a-4d8c-a8af-817917f4216a",
   "metadata": {},
   "source": [
    "##### AND Operation\n",
    "\n",
    "             6 : 1 1 0\n",
    "             3 : 0 1 1\n",
    "         6 & 3 : 0 1 0 (2)"
   ]
  },
  {
   "cell_type": "code",
   "execution_count": 19,
   "id": "682e50a9-932d-4e61-8c58-3e4e479dcd64",
   "metadata": {},
   "outputs": [
    {
     "data": {
      "text/plain": [
       "2"
      ]
     },
     "execution_count": 19,
     "metadata": {},
     "output_type": "execute_result"
    }
   ],
   "source": [
    "x = 6\n",
    "y = 3\n",
    "\n",
    "x & y"
   ]
  },
  {
   "cell_type": "markdown",
   "id": "ef6e4cde-983e-4248-a54f-5ba5e0c04766",
   "metadata": {},
   "source": [
    "##### OR Operations\n",
    "\n",
    "             6 : 1 1 0\n",
    "             3 : 0 1 1\n",
    "         6 & 3 : 1 1 1 (7)"
   ]
  },
  {
   "cell_type": "code",
   "execution_count": 22,
   "id": "2609d7e9-8069-43e5-ac94-071b80b9b968",
   "metadata": {},
   "outputs": [
    {
     "data": {
      "text/plain": [
       "7"
      ]
     },
     "execution_count": 22,
     "metadata": {},
     "output_type": "execute_result"
    }
   ],
   "source": [
    "x = 6\n",
    "y = 3\n",
    "\n",
    "x | y"
   ]
  },
  {
   "cell_type": "code",
   "execution_count": 26,
   "id": "b3ad6a7c-546d-4f35-8e68-51116177d4a4",
   "metadata": {},
   "outputs": [],
   "source": [
    "z.makeNullArr()"
   ]
  },
  {
   "cell_type": "markdown",
   "id": "792a08df-5736-49a5-ba98-855e9f353e49",
   "metadata": {},
   "source": [
    "##### XOR Operations\n",
    "\n",
    "            12 : 1 1 0 0\n",
    "             6 : 0 1 1 0\n",
    "         6 & 3 : 1 0 1 0 (5)"
   ]
  },
  {
   "cell_type": "code",
   "execution_count": 37,
   "id": "8b38dc76-0391-4595-b592-d798b85c05f6",
   "metadata": {},
   "outputs": [
    {
     "data": {
      "text/plain": [
       "10"
      ]
     },
     "execution_count": 37,
     "metadata": {},
     "output_type": "execute_result"
    }
   ],
   "source": [
    "x = 12\n",
    "y = 6\n",
    "\n",
    "x ^ y"
   ]
  },
  {
   "cell_type": "markdown",
   "id": "2375c83b-e9e2-4b81-9f0b-0677b82b9308",
   "metadata": {
    "tags": []
   },
   "source": [
    "##### Left Shift Operations\n",
    "\n",
    "For x = 5\n",
    "\n",
    "```python\n",
    "print(x << 1)\n",
    "\n",
    ">> 10 \n",
    "\n",
    "print(x << 2)\n",
    "\n",
    ">> 20 \n",
    "\n",
    "print(x << 3)\n",
    "\n",
    ">> 40\n",
    "```\n",
    "\n",
    "For 10 output:\n",
    "\n",
    "it looks like 5 * $ 2 ^ 1 $\n",
    "\n",
    "For 20 output:\n",
    "\n",
    "it looks like 5 * $ 2 ^ 2 $\n",
    "\n",
    "For 40 output:\n",
    "\n",
    "it looks like 5 * $ 2 ^ 3 $\n",
    "\n",
    "> It basically appends the 0 to the right side so that numbers will shift for left side"
   ]
  },
  {
   "cell_type": "code",
   "execution_count": 59,
   "id": "f2e5d3b0-363b-4428-bc8d-0042dcaf2c9e",
   "metadata": {},
   "outputs": [],
   "source": [
    "x = 5 "
   ]
  },
  {
   "cell_type": "code",
   "execution_count": 61,
   "id": "9b0b1a58-acfe-4bc8-92de-020edf26bd00",
   "metadata": {},
   "outputs": [
    {
     "data": {
      "text/plain": [
       "(5, '101')"
      ]
     },
     "execution_count": 61,
     "metadata": {},
     "output_type": "execute_result"
    }
   ],
   "source": [
    "x , bin(5)[2:] # 101"
   ]
  },
  {
   "cell_type": "code",
   "execution_count": 53,
   "id": "a3bbc2c0-f0db-4cf3-97b2-dca833db30bf",
   "metadata": {},
   "outputs": [
    {
     "data": {
      "text/plain": [
       "(10, '1010')"
      ]
     },
     "execution_count": 53,
     "metadata": {},
     "output_type": "execute_result"
    }
   ],
   "source": [
    "x << 1 , bin(x<<1)[2:] # 1010"
   ]
  },
  {
   "cell_type": "code",
   "execution_count": 54,
   "id": "56888f0e-d212-4baf-b5f3-8ce0edf256d8",
   "metadata": {},
   "outputs": [
    {
     "data": {
      "text/plain": [
       "(20, '10100')"
      ]
     },
     "execution_count": 54,
     "metadata": {},
     "output_type": "execute_result"
    }
   ],
   "source": [
    "x << 2 , bin(x<<2)[2:] # 10100"
   ]
  },
  {
   "cell_type": "code",
   "execution_count": 55,
   "id": "d1f2a21a-b996-488d-81ea-f71ab8288c54",
   "metadata": {},
   "outputs": [
    {
     "data": {
      "text/plain": [
       "(40, '101000')"
      ]
     },
     "execution_count": 55,
     "metadata": {},
     "output_type": "execute_result"
    }
   ],
   "source": [
    "x << 3 , bin(x<<3)[2:] # 101000"
   ]
  },
  {
   "cell_type": "code",
   "execution_count": null,
   "id": "b6b9eddb-19a9-4c18-98d4-85ddbc1cb450",
   "metadata": {},
   "outputs": [],
   "source": []
  }
 ],
 "metadata": {
  "kernelspec": {
   "display_name": "Python 3 (ipykernel)",
   "language": "python",
   "name": "python3"
  },
  "language_info": {
   "codemirror_mode": {
    "name": "ipython",
    "version": 3
   },
   "file_extension": ".py",
   "mimetype": "text/x-python",
   "name": "python",
   "nbconvert_exporter": "python",
   "pygments_lexer": "ipython3",
   "version": "3.10.9"
  }
 },
 "nbformat": 4,
 "nbformat_minor": 5
}

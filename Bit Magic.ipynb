{
 "cells": [
  {
   "cell_type": "code",
   "execution_count": 1,
   "id": "97768fe4-e563-468b-9821-67bed9e0b8f0",
   "metadata": {},
   "outputs": [],
   "source": [
    "from imp_personal import MyFunction\n",
    "z = MyFunction()"
   ]
  },
  {
   "cell_type": "code",
   "execution_count": 2,
   "id": "8a57c3f7-29cc-4b4a-86be-d5aa80ac1d6a",
   "metadata": {},
   "outputs": [
    {
     "name": "stdout",
     "output_type": "stream",
     "text": [
      "Successfully added to the comment list\n"
     ]
    }
   ],
   "source": [
    "z.new(\"Convert the decimal to binary representation\")"
   ]
  },
  {
   "cell_type": "markdown",
   "id": "c3866a09-00d4-4619-ac3f-f3b374430335",
   "metadata": {},
   "source": [
    "#### Convert the decimal to binary representation"
   ]
  },
  {
   "cell_type": "code",
   "execution_count": 4,
   "id": "4a6f44d9-8f2c-4132-9db9-ca530d87cafe",
   "metadata": {},
   "outputs": [
    {
     "data": {
      "text/plain": [
       "'0b1010'"
      ]
     },
     "execution_count": 4,
     "metadata": {},
     "output_type": "execute_result"
    }
   ],
   "source": [
    "bin(10)"
   ]
  },
  {
   "cell_type": "code",
   "execution_count": 5,
   "id": "35766e51-d672-41da-a712-a5cbdc6f43de",
   "metadata": {},
   "outputs": [
    {
     "name": "stdout",
     "output_type": "stream",
     "text": [
      "1\n",
      "10\n",
      "11\n",
      "100\n",
      "101\n",
      "110\n",
      "111\n",
      "1000\n",
      "1001\n"
     ]
    }
   ],
   "source": [
    "for i in range(1,10):\n",
    "    k = bin(i)\n",
    "    print(k[2:])"
   ]
  },
  {
   "cell_type": "code",
   "execution_count": 7,
   "id": "6c03e3ac-5f73-4d69-8258-ab205bfbf3a0",
   "metadata": {},
   "outputs": [
    {
     "name": "stdout",
     "output_type": "stream",
     "text": [
      "Successfully added to the comment list\n"
     ]
    }
   ],
   "source": [
    "z.new(\"Convert the Binary into Decimal\")"
   ]
  },
  {
   "cell_type": "markdown",
   "id": "b5c9f21d-08fd-4af3-9cc4-add5620cd5d8",
   "metadata": {},
   "source": [
    "#### Convert the Binary into Decimal"
   ]
  },
  {
   "cell_type": "code",
   "execution_count": 9,
   "id": "35549883-8904-42db-89bb-4ae30bc88bda",
   "metadata": {},
   "outputs": [
    {
     "data": {
      "text/plain": [
       "2"
      ]
     },
     "execution_count": 9,
     "metadata": {},
     "output_type": "execute_result"
    }
   ],
   "source": [
    "int(\"0b10\", 2)"
   ]
  },
  {
   "cell_type": "code",
   "execution_count": 15,
   "id": "136bde8f-6187-47e3-a212-b95734585473",
   "metadata": {},
   "outputs": [
    {
     "name": "stdout",
     "output_type": "stream",
     "text": [
      "For the Binary 0b10 The decimal is  2\n",
      "For the Binary 0b100 The decimal is  4\n",
      "For the Binary 0b1000 The decimal is  8\n",
      "For the Binary 0b10000 The decimal is  16\n",
      "For the Binary 0b100000 The decimal is  32\n",
      "For the Binary 0b1000000 The decimal is  64\n",
      "For the Binary 0b10000000 The decimal is  128\n",
      "For the Binary 0b100000000 The decimal is  256\n",
      "For the Binary 0b1000000000 The decimal is  512\n"
     ]
    }
   ],
   "source": [
    "k = \"0b1\"\n",
    "for _ in range(1,10):   \n",
    "    k += \"0\"\n",
    "    print(f\"For the Binary {k} The decimal is \" , end= \" \")\n",
    "    print(int(k, 2))"
   ]
  },
  {
   "cell_type": "code",
   "execution_count": 16,
   "id": "04387ff1-957a-4e5a-9bb1-8bcef0e244b0",
   "metadata": {},
   "outputs": [
    {
     "name": "stdout",
     "output_type": "stream",
     "text": [
      "Successfully added to the comment list\n"
     ]
    }
   ],
   "source": [
    "z.new(\"Bitwise Operations\")"
   ]
  },
  {
   "cell_type": "markdown",
   "id": "bdd46a5f-b990-4c1d-9c48-ed3ccb52798d",
   "metadata": {},
   "source": [
    "#### Bitwise Operations"
   ]
  },
  {
   "cell_type": "code",
   "execution_count": 17,
   "id": "e294b09b-9d0a-488d-9e74-e09c867e5887",
   "metadata": {},
   "outputs": [
    {
     "name": "stdout",
     "output_type": "stream",
     "text": [
      "Successfully added to the comment list\n"
     ]
    }
   ],
   "source": [
    "z.new(\"AND Operation\", 5)"
   ]
  },
  {
   "cell_type": "markdown",
   "id": "d7235909-da5a-4d8c-a8af-817917f4216a",
   "metadata": {},
   "source": [
    "##### AND Operation\n",
    "\n",
    "             6 : 1 1 0\n",
    "             3 : 0 1 1\n",
    "         6 & 3 : 0 1 0"
   ]
  },
  {
   "cell_type": "code",
   "execution_count": null,
   "id": "682e50a9-932d-4e61-8c58-3e4e479dcd64",
   "metadata": {},
   "outputs": [],
   "source": []
  }
 ],
 "metadata": {
  "kernelspec": {
   "display_name": "Python 3 (ipykernel)",
   "language": "python",
   "name": "python3"
  },
  "language_info": {
   "codemirror_mode": {
    "name": "ipython",
    "version": 3
   },
   "file_extension": ".py",
   "mimetype": "text/x-python",
   "name": "python",
   "nbconvert_exporter": "python",
   "pygments_lexer": "ipython3",
   "version": "3.10.9"
  }
 },
 "nbformat": 4,
 "nbformat_minor": 5
}

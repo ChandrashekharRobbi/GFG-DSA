{
 "cells": [
  {
   "cell_type": "code",
   "execution_count": 2,
   "id": "f421e371",
   "metadata": {},
   "outputs": [
    {
     "name": "stdout",
     "output_type": "stream",
     "text": [
      "Note that after executing new function your next cell will automatically converted to markdown cell :)\n"
     ]
    }
   ],
   "source": [
    "%run imp_personal.py\n",
    "z = MyFunction()"
   ]
  },
  {
   "cell_type": "markdown",
   "id": "ffab85d8",
   "metadata": {},
   "source": [
    "# Graphs\n",
    "\n",
    "### Graph Representation\n",
    "    \n",
    "    \n",
    "## 01. Adjacency Matrix\n",
    "    \n",
    "    \n",
    "### Properties of Adjacency Matrix\n",
    "> V = Vertices\n",
    "1. Space Required: $ θ(V * V) $ \n",
    "2. Operations:\n",
    "    * Check if u and v are adjacent : $θ(1)$\n",
    "    * Find all vertices adjacent to u : $θ(V)$\n",
    "    * Find Degree of u : $θ(V)$\n",
    "    * Add/Remove the Edge : $θ(1)$\n",
    "    * Add/Remove the Vertex : $θ(V ^ 2)$ \n",
    "    > if the size was static then to add the vertex we have to create new matrix and transfer all value to it which is $θ(V^2)$ operations.\n",
    "\n",
    "\n",
    "## 2. Adjacency List\n",
    "\n",
    "### Effiecient than Adjacency List \n",
    "                    \n",
    "* In Adjacency List we have to mention all the redundant data which is not necessary where as adjacency list will only contains the value which is connected to the vertex it may be used `linkedlist` or `doubly linked list` to store that values\n",
    "\n"
   ]
  },
  {
   "cell_type": "code",
   "execution_count": null,
   "id": "6b71cc21",
   "metadata": {},
   "outputs": [],
   "source": []
  }
 ],
 "metadata": {
  "kernelspec": {
   "display_name": "Python 3 (ipykernel)",
   "language": "python",
   "name": "python3"
  },
  "language_info": {
   "codemirror_mode": {
    "name": "ipython",
    "version": 3
   },
   "file_extension": ".py",
   "mimetype": "text/x-python",
   "name": "python",
   "nbconvert_exporter": "python",
   "pygments_lexer": "ipython3",
   "version": "3.10.10"
  }
 },
 "nbformat": 4,
 "nbformat_minor": 5
}

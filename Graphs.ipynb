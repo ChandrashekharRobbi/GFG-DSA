{
 "cells": [
  {
   "cell_type": "code",
   "execution_count": 2,
   "id": "f421e371",
   "metadata": {
    "tags": []
   },
   "outputs": [
    {
     "name": "stdout",
     "output_type": "stream",
     "text": [
      "Note that after executing new function your next cell will automatically converted to markdown cell :)\n"
     ]
    }
   ],
   "source": [
    "%run imp_personal.py\n",
    "z = MyFunction()"
   ]
  },
  {
   "cell_type": "markdown",
   "id": "ffab85d8",
   "metadata": {},
   "source": [
    "# Graphs\n",
    "\n",
    "### Graph Representation\n",
    "    \n",
    "    \n",
    "## 01. Adjacency Matrix\n",
    "    \n",
    "    \n",
    "### Properties of Adjacency Matrix\n",
    "> V = Vertices\n",
    "1. Space Required: $ θ(V * V) $ \n",
    "2. Operations:\n",
    "    * Check if u and v are adjacent : $θ(1)$\n",
    "    * Find all vertices adjacent to u : $θ(V)$\n",
    "    * Find Degree of u : $θ(V)$\n",
    "    * Add/Remove the Edge : $θ(1)$\n",
    "    * Add/Remove the Vertex : $θ(V ^ 2)$ \n",
    "    > if the size was static then to add the vertex we have to create new matrix and transfer all value to it which is $θ(V^2)$ operations.\n",
    "    \n",
    "    \n",
    "<img src=\"https://media.geeksforgeeks.org/wp-content/uploads/20200604170814/add-and-remove-edge-in-adjacency-matrix-representation-initial1.jpg\"/>\n",
    "\n",
    "\n",
    "## 02. Adjacency List\n",
    "\n",
    "### Effiecient than Adjacency List \n",
    "                    \n",
    "* In Adjacency List we have to mention all the redundant data which is not necessary where as adjacency list will only contains the value which is connected to the vertex it may be used `linkedlist` or `Dynamic Sized Arrays` to store that values\n",
    "### Properties of Adjacency List\n",
    "> V = Vertices &  E = Edges\n",
    "1. Space Required: $ θ(V + E) $ \n",
    "    * There are two cases:\n",
    "        1. If Undirected Graph: $θ(V + 2E)$\n",
    "        2. If Directed Graph: $θ(V + E)$\n",
    "2. Operations:\n",
    "    * Check if u and v are adjacent : $O(V)$\n",
    "    * Find all vertices adjacent to u : $θ(degree(u))$\n",
    "    * Find Degree of u : $θ(1)$\n",
    "    * Add the Edge : $θ(1)$\n",
    "    * Remove the Edge : $O(V)$ \n",
    "    \n",
    "    \n",
    "    \n",
    "<img src=\"https://storage.googleapis.com/algodailyrandomassets/curriculum/graphs/implementing-graphs-adjacencylist.png\" />"
   ]
  },
  {
   "cell_type": "code",
   "execution_count": 3,
   "id": "6b71cc21",
   "metadata": {
    "tags": []
   },
   "outputs": [
    {
     "name": "stdout",
     "output_type": "stream",
     "text": [
      "Successfully added to the comment list\n"
     ]
    }
   ],
   "source": [
    "z.new(\"Graph Adjacency List\")"
   ]
  },
  {
   "cell_type": "markdown",
   "id": "8546e1c1-675c-43a7-9406-0360d8ccbf85",
   "metadata": {},
   "source": [
    "## Graph Adjacency List\n",
    "\n",
    "<img src=\"https://media.geeksforgeeks.org/wp-content/uploads/undirectedgraph.png\" />"
   ]
  },
  {
   "cell_type": "code",
   "execution_count": 10,
   "id": "a537cf82-3667-439a-81cb-624097c7994f",
   "metadata": {
    "tags": []
   },
   "outputs": [],
   "source": [
    "def addEdge(adj, u, v):\n",
    "    adj[u].append(v)\n",
    "    adj[v].append(u)\n",
    "def printArr(adj):\n",
    "    for i in range(len(adj)):\n",
    "        print(f\"[{i}] : {adj[i]}\")\n",
    "v = 5  # vertices 5\n",
    "adj = [[] for j in range(v)]\n",
    "addEdge(adj, 0, 1)\n",
    "addEdge(adj, 0, 4)\n",
    "addEdge(adj, 1, 4)\n",
    "addEdge(adj, 1, 3)\n",
    "addEdge(adj, 1, 2)\n",
    "addEdge(adj, 4, 3)\n",
    "addEdge(adj, 3, 2)"
   ]
  },
  {
   "cell_type": "code",
   "execution_count": 11,
   "id": "8175f128-53c5-4e24-a754-a03a205629a1",
   "metadata": {
    "tags": []
   },
   "outputs": [
    {
     "name": "stdout",
     "output_type": "stream",
     "text": [
      "[0] : [1, 4]\n",
      "[1] : [0, 4, 3, 2]\n",
      "[2] : [1, 3]\n",
      "[3] : [1, 4, 2]\n",
      "[4] : [0, 1, 3]\n"
     ]
    }
   ],
   "source": [
    "printArr(adj)"
   ]
  },
  {
   "cell_type": "code",
   "execution_count": 12,
   "id": "5a65c106-f6de-40a6-94bd-53447d3f8d05",
   "metadata": {
    "tags": []
   },
   "outputs": [],
   "source": [
    "from collections import deque"
   ]
  },
  {
   "cell_type": "code",
   "execution_count": null,
   "id": "541a96d7-c744-42d8-9758-314eaead8eff",
   "metadata": {},
   "outputs": [],
   "source": [
    "def BFS(adj, s):\n",
    "    visited = [False] * len(adj)\n",
    "    q = deque()\n",
    "    q.append(s)\n",
    "    visited[s] = True\n",
    "    while q:\n",
    "        s = q.popleft()\n",
    "        print(s, end=\" \")"
   ]
  }
 ],
 "metadata": {
  "kernelspec": {
   "display_name": "Python 3 (ipykernel)",
   "language": "python",
   "name": "python3"
  },
  "language_info": {
   "codemirror_mode": {
    "name": "ipython",
    "version": 3
   },
   "file_extension": ".py",
   "mimetype": "text/x-python",
   "name": "python",
   "nbconvert_exporter": "python",
   "pygments_lexer": "ipython3",
   "version": "3.10.10"
  }
 },
 "nbformat": 4,
 "nbformat_minor": 5
}

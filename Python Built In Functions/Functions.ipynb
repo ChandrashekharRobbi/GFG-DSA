{
 "cells": [
  {
   "cell_type": "code",
   "execution_count": 1,
   "id": "938579e5-95be-45c9-bb4f-399b6cdd97aa",
   "metadata": {
    "tags": []
   },
   "outputs": [
    {
     "data": {
      "text/plain": [
       "True"
      ]
     },
     "execution_count": 1,
     "metadata": {},
     "output_type": "execute_result"
    }
   ],
   "source": [
    "all([123,345,678])"
   ]
  },
  {
   "cell_type": "code",
   "execution_count": 2,
   "id": "41eff804-6e71-4ddc-b54d-42ede6224384",
   "metadata": {
    "tags": []
   },
   "outputs": [
    {
     "data": {
      "text/plain": [
       "False"
      ]
     },
     "execution_count": 2,
     "metadata": {},
     "output_type": "execute_result"
    }
   ],
   "source": [
    "all([123,456,False])"
   ]
  },
  {
   "cell_type": "code",
   "execution_count": 3,
   "id": "2ddb5e9d-b3b7-4226-851e-22f248a2672a",
   "metadata": {
    "tags": []
   },
   "outputs": [
    {
     "data": {
      "text/plain": [
       "True"
      ]
     },
     "execution_count": 3,
     "metadata": {},
     "output_type": "execute_result"
    }
   ],
   "source": [
    "any([123,567,False])"
   ]
  },
  {
   "cell_type": "code",
   "execution_count": 4,
   "id": "08d42d66-fc8d-49ab-81cf-0084f60de1fa",
   "metadata": {
    "tags": []
   },
   "outputs": [
    {
     "data": {
      "text/plain": [
       "\"'aksdjasld'\""
      ]
     },
     "execution_count": 4,
     "metadata": {},
     "output_type": "execute_result"
    }
   ],
   "source": [
    "ascii('aksdjasld')"
   ]
  },
  {
   "cell_type": "code",
   "execution_count": 5,
   "id": "c73c9f0f-f6bc-4d2f-ac5d-33480547dbf9",
   "metadata": {
    "tags": []
   },
   "outputs": [
    {
     "data": {
      "text/plain": [
       "'0b10111'"
      ]
     },
     "execution_count": 5,
     "metadata": {},
     "output_type": "execute_result"
    }
   ],
   "source": [
    "bin(23)"
   ]
  },
  {
   "cell_type": "code",
   "execution_count": 6,
   "id": "74874a42-41a0-402b-bb60-0215609b7ba7",
   "metadata": {
    "tags": []
   },
   "outputs": [
    {
     "data": {
      "text/plain": [
       "True"
      ]
     },
     "execution_count": 6,
     "metadata": {},
     "output_type": "execute_result"
    }
   ],
   "source": [
    "bool(True)"
   ]
  },
  {
   "cell_type": "code",
   "execution_count": 8,
   "id": "7e6f60f9-9a61-45eb-9518-f1917215227c",
   "metadata": {
    "tags": []
   },
   "outputs": [
    {
     "data": {
      "text/plain": [
       "False"
      ]
     },
     "execution_count": 8,
     "metadata": {},
     "output_type": "execute_result"
    }
   ],
   "source": [
    "bool(False)"
   ]
  },
  {
   "cell_type": "code",
   "execution_count": 12,
   "id": "08fd7e09-68d8-4b6d-ac83-c710b5fc33a4",
   "metadata": {
    "tags": []
   },
   "outputs": [
    {
     "data": {
      "text/plain": [
       "bytearray(b'\\x00\\x00')"
      ]
     },
     "execution_count": 12,
     "metadata": {},
     "output_type": "execute_result"
    }
   ],
   "source": [
    "bytearray(2)"
   ]
  },
  {
   "cell_type": "code",
   "execution_count": 20,
   "id": "5bd09cd4-7c52-485a-83c3-fe71088f8968",
   "metadata": {
    "tags": []
   },
   "outputs": [
    {
     "data": {
      "text/plain": [
       "True"
      ]
     },
     "execution_count": 20,
     "metadata": {},
     "output_type": "execute_result"
    }
   ],
   "source": [
    "callable(sorted)"
   ]
  },
  {
   "cell_type": "code",
   "execution_count": 33,
   "id": "5b89f679-1a52-4aae-b41a-41a7ac3daf6f",
   "metadata": {
    "tags": []
   },
   "outputs": [
    {
     "name": "stdout",
     "output_type": "stream",
     "text": [
      "[]\n",
      "0"
     ]
    }
   ],
   "source": [
    "# import inbuilt standard input output \n",
    "from sys import stdin, stdout \n",
    "\n",
    "# suppose a function called main() and\n",
    "# all the operations are performed\n",
    "def main():\n",
    "\n",
    "    # input via readline method\n",
    "    n = stdin.readline()\n",
    "\n",
    "    # array input similar method\n",
    "    arr = [int(x) for x in stdin.readline().split()]\n",
    "    print(arr)\n",
    "    #initialize variable\n",
    "    summation = 0\n",
    "\n",
    "    # calculate sum\n",
    "    for x in arr:\n",
    "        summation += x\n",
    "\n",
    "    # could use inbuilt summation = sum(arr)\n",
    "\n",
    "    # print answer via write\n",
    "    # write method writes only\n",
    "    # string operations\n",
    "    # so we need to convert any\n",
    "    # data into string for input\n",
    "    stdout.write(str(summation))\n",
    "main()\n"
   ]
  },
  {
   "cell_type": "code",
   "execution_count": null,
   "id": "6a3795db-21a2-4fe6-8892-e7ecc5d1fe95",
   "metadata": {},
   "outputs": [],
   "source": []
  }
 ],
 "metadata": {
  "kernelspec": {
   "display_name": "Python 3 (ipykernel)",
   "language": "python",
   "name": "python3"
  },
  "language_info": {
   "codemirror_mode": {
    "name": "ipython",
    "version": 3
   },
   "file_extension": ".py",
   "mimetype": "text/x-python",
   "name": "python",
   "nbconvert_exporter": "python",
   "pygments_lexer": "ipython3",
   "version": "3.10.10"
  }
 },
 "nbformat": 4,
 "nbformat_minor": 5
}

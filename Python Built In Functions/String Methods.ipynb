{
 "cells": [
  {
   "cell_type": "code",
   "execution_count": 5,
   "id": "67a8454a-96bf-4cdd-869f-fcc7967573a4",
   "metadata": {
    "tags": []
   },
   "outputs": [],
   "source": [
    "listv = [\"Abcd\", \"abcd\", \"ABCD\"]"
   ]
  },
  {
   "cell_type": "code",
   "execution_count": 21,
   "id": "353846c2-5a8c-4062-844e-c9b931932d6f",
   "metadata": {
    "tags": []
   },
   "outputs": [
    {
     "name": "stdout",
     "output_type": "stream",
     "text": [
      "Abcd --> Abcd\n",
      "abcd --> Abcd\n",
      "ABCD --> Abcd\n"
     ]
    }
   ],
   "source": [
    "for i in listv:\n",
    "    print(f\"{i} --> {i.capitalize()}\")"
   ]
  },
  {
   "cell_type": "code",
   "execution_count": 22,
   "id": "ce92d3b5-babd-42b8-87d5-47c13673f10b",
   "metadata": {
    "tags": []
   },
   "outputs": [
    {
     "name": "stdout",
     "output_type": "stream",
     "text": [
      "Abcd --> abcd\n",
      "abcd --> abcd\n",
      "ABCD --> abcd\n"
     ]
    }
   ],
   "source": [
    "for i in listv:\n",
    "    print(f\"{i} --> {i.casefold()}\")"
   ]
  },
  {
   "cell_type": "code",
   "execution_count": 25,
   "id": "2c1d5473-2185-4321-a722-90f023989345",
   "metadata": {
    "tags": []
   },
   "outputs": [
    {
     "ename": "SyntaxError",
     "evalue": "f-string: unmatched '(' (4257571965.py, line 2)",
     "output_type": "error",
     "traceback": [
      "\u001b[1;36m  Cell \u001b[1;32mIn[25], line 2\u001b[1;36m\u001b[0m\n\u001b[1;33m    print(f\"{i} --> {i.center(10,\"*\")}\")\u001b[0m\n\u001b[1;37m                                  ^\u001b[0m\n\u001b[1;31mSyntaxError\u001b[0m\u001b[1;31m:\u001b[0m f-string: unmatched '('\n"
     ]
    }
   ],
   "source": [
    "for i in listv:\n",
    "    print(f\"{i} --> {i.center(10,\"*\")}\")"
   ]
  },
  {
   "cell_type": "code",
   "execution_count": null,
   "id": "a3b7f01e-3ec7-436e-a111-3ac980096008",
   "metadata": {},
   "outputs": [],
   "source": []
  }
 ],
 "metadata": {
  "kernelspec": {
   "display_name": "Python 3 (ipykernel)",
   "language": "python",
   "name": "python3"
  },
  "language_info": {
   "codemirror_mode": {
    "name": "ipython",
    "version": 3
   },
   "file_extension": ".py",
   "mimetype": "text/x-python",
   "name": "python",
   "nbconvert_exporter": "python",
   "pygments_lexer": "ipython3",
   "version": "3.10.10"
  }
 },
 "nbformat": 4,
 "nbformat_minor": 5
}

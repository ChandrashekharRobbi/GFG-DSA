{
 "cells": [
  {
   "cell_type": "code",
   "execution_count": 5,
   "id": "67a8454a-96bf-4cdd-869f-fcc7967573a4",
   "metadata": {
    "tags": []
   },
   "outputs": [],
   "source": [
    "listv = [\"Abcd\", \"abcd\", \"ABCD\"]"
   ]
  },
  {
   "cell_type": "code",
   "execution_count": 6,
   "id": "55f64048-291b-4158-9f8c-bbf44842ea2a",
   "metadata": {
    "tags": []
   },
   "outputs": [],
   "source": [
    "def show(fun):\n",
    "    for i in listv:\n",
    "        print(f\"{i} --> {i.fun()}\")"
   ]
  },
  {
   "cell_type": "code",
   "execution_count": 8,
   "id": "8a5f35d4-379c-4891-b883-f91a796efb0e",
   "metadata": {
    "tags": []
   },
   "outputs": [
    {
     "ename": "NameError",
     "evalue": "name 'capitalize' is not defined",
     "output_type": "error",
     "traceback": [
      "\u001b[1;31m---------------------------------------------------------------------------\u001b[0m",
      "\u001b[1;31mNameError\u001b[0m                                 Traceback (most recent call last)",
      "Cell \u001b[1;32mIn[8], line 1\u001b[0m\n\u001b[1;32m----> 1\u001b[0m show(\u001b[43mcapitalize\u001b[49m)\n",
      "\u001b[1;31mNameError\u001b[0m: name 'capitalize' is not defined"
     ]
    }
   ],
   "source": [
    "show(capitalize)"
   ]
  },
  {
   "cell_type": "code",
   "execution_count": 4,
   "id": "ce92d3b5-babd-42b8-87d5-47c13673f10b",
   "metadata": {
    "tags": []
   },
   "outputs": [
    {
     "data": {
      "text/plain": [
       "'abcs'"
      ]
     },
     "execution_count": 4,
     "metadata": {},
     "output_type": "execute_result"
    }
   ],
   "source": [
    "s.casefold()"
   ]
  },
  {
   "cell_type": "code",
   "execution_count": null,
   "id": "2c1d5473-2185-4321-a722-90f023989345",
   "metadata": {},
   "outputs": [],
   "source": []
  }
 ],
 "metadata": {
  "kernelspec": {
   "display_name": "Python 3 (ipykernel)",
   "language": "python",
   "name": "python3"
  },
  "language_info": {
   "codemirror_mode": {
    "name": "ipython",
    "version": 3
   },
   "file_extension": ".py",
   "mimetype": "text/x-python",
   "name": "python",
   "nbconvert_exporter": "python",
   "pygments_lexer": "ipython3",
   "version": "3.10.10"
  }
 },
 "nbformat": 4,
 "nbformat_minor": 5
}

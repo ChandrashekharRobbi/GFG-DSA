{
 "cells": [
  {
   "cell_type": "code",
   "execution_count": 46,
   "id": "67a8454a-96bf-4cdd-869f-fcc7967573a4",
   "metadata": {
    "tags": []
   },
   "outputs": [],
   "source": [
    "listv = [\"Abcd\", \"abcd\", \"ABCD\"]"
   ]
  },
  {
   "cell_type": "code",
   "execution_count": 37,
   "id": "353846c2-5a8c-4062-844e-c9b931932d6f",
   "metadata": {
    "tags": []
   },
   "outputs": [
    {
     "name": "stdout",
     "output_type": "stream",
     "text": [
      "Abcd --> Abcd\n",
      "abcd --> Abcd\n",
      "ABCD --> Abcd\n",
      "A\tB\t --> A\tb\t\n"
     ]
    }
   ],
   "source": [
    "for i in listv:\n",
    "    print(f\"{i} --> {i.capitalize()}\")"
   ]
  },
  {
   "cell_type": "code",
   "execution_count": 38,
   "id": "ce92d3b5-babd-42b8-87d5-47c13673f10b",
   "metadata": {
    "tags": []
   },
   "outputs": [
    {
     "name": "stdout",
     "output_type": "stream",
     "text": [
      "Abcd --> abcd\n",
      "abcd --> abcd\n",
      "ABCD --> abcd\n",
      "A\tB\t --> a\tb\t\n"
     ]
    }
   ],
   "source": [
    "for i in listv:\n",
    "    print(f\"{i} --> {i.casefold()}\")"
   ]
  },
  {
   "cell_type": "code",
   "execution_count": 39,
   "id": "2c1d5473-2185-4321-a722-90f023989345",
   "metadata": {
    "tags": []
   },
   "outputs": [
    {
     "name": "stdout",
     "output_type": "stream",
     "text": [
      "Abcd --> ***Abcd***\n",
      "abcd --> ***abcd***\n",
      "ABCD --> ***ABCD***\n",
      "A\tB\t --> ***A\tB\t***\n"
     ]
    }
   ],
   "source": [
    "for i in listv:\n",
    "    print(f\"{i} --> {i.center(10,'*')}\")"
   ]
  },
  {
   "cell_type": "code",
   "execution_count": 40,
   "id": "a3b7f01e-3ec7-436e-a111-3ac980096008",
   "metadata": {
    "tags": []
   },
   "outputs": [
    {
     "name": "stdout",
     "output_type": "stream",
     "text": [
      "Abcd --> 0\n",
      "abcd --> 1\n",
      "ABCD --> 0\n",
      "A\tB\t --> 0\n"
     ]
    }
   ],
   "source": [
    "for i in listv:\n",
    "    print(f\"{i} --> {i.count('a')}\")"
   ]
  },
  {
   "cell_type": "code",
   "execution_count": 41,
   "id": "53a6cc10-829d-4ae6-98d3-341c694ef523",
   "metadata": {
    "tags": []
   },
   "outputs": [
    {
     "name": "stdout",
     "output_type": "stream",
     "text": [
      "Abcd --> b'Abcd'\n",
      "abcd --> b'abcd'\n",
      "ABCD --> b'ABCD'\n",
      "A\tB\t --> b'A\\tB\\t'\n"
     ]
    }
   ],
   "source": [
    "for i in listv:\n",
    "    print(f\"{i} --> {i.encode()}\")"
   ]
  },
  {
   "cell_type": "code",
   "execution_count": 42,
   "id": "772a5176-ffc9-4c3f-b077-020af3aa377e",
   "metadata": {
    "tags": []
   },
   "outputs": [
    {
     "name": "stdout",
     "output_type": "stream",
     "text": [
      "Abcd --> True\n",
      "abcd --> True\n",
      "ABCD --> False\n",
      "A\tB\t --> False\n"
     ]
    }
   ],
   "source": [
    "for i in listv:\n",
    "    print(f\"{i} --> {i.endswith('d')}\")"
   ]
  },
  {
   "cell_type": "code",
   "execution_count": 48,
   "id": "557a5744-0a4b-4ad5-84de-ec68f9d9139f",
   "metadata": {
    "tags": []
   },
   "outputs": [
    {
     "name": "stdout",
     "output_type": "stream",
     "text": [
      "Abcd --> Abcd\n",
      "abcd --> abcd\n",
      "ABCD --> ABCD\n",
      "a\tb\tc --> a  b  c\n"
     ]
    }
   ],
   "source": [
    "for i in [\"Abcd\", \"abcd\", \"ABCD\", \"a\\tb\\tc\"]:\n",
    "    print(f\"{i} --> {i.expandtabs(3)}\")"
   ]
  },
  {
   "cell_type": "code",
   "execution_count": 50,
   "id": "e16af9eb-6770-4ff9-9dd7-e56262e4f846",
   "metadata": {
    "tags": []
   },
   "outputs": [
    {
     "name": "stdout",
     "output_type": "stream",
     "text": [
      "Abcd --> -1\n",
      "abcd --> 0\n",
      "ABCD --> -1\n"
     ]
    }
   ],
   "source": [
    "for i in listv:\n",
    "    print(f\"{i} --> {i.find('a')}\")"
   ]
  },
  {
   "cell_type": "code",
   "execution_count": 55,
   "id": "8b966854-3f32-446a-8534-33741f607dc8",
   "metadata": {
    "tags": []
   },
   "outputs": [
    {
     "name": "stdout",
     "output_type": "stream",
     "text": [
      "For only 49 dollars!\n"
     ]
    }
   ],
   "source": [
    "txt = \"For only {} dollars!\"\n",
    "print(txt.format(49))"
   ]
  },
  {
   "cell_type": "code",
   "execution_count": 63,
   "id": "30fed1d5-d1fa-4dc3-98c3-04b786f11713",
   "metadata": {
    "tags": []
   },
   "outputs": [
    {
     "name": "stdout",
     "output_type": "stream",
     "text": [
      "Abcd --> 1\n",
      "abcd --> 1\n"
     ]
    },
    {
     "ename": "ValueError",
     "evalue": "substring not found",
     "output_type": "error",
     "traceback": [
      "\u001b[1;31m---------------------------------------------------------------------------\u001b[0m",
      "\u001b[1;31mValueError\u001b[0m                                Traceback (most recent call last)",
      "Cell \u001b[1;32mIn[63], line 2\u001b[0m\n\u001b[0;32m      1\u001b[0m \u001b[38;5;28;01mfor\u001b[39;00m i \u001b[38;5;129;01min\u001b[39;00m listv:\n\u001b[1;32m----> 2\u001b[0m     \u001b[38;5;28mprint\u001b[39m(\u001b[38;5;124mf\u001b[39m\u001b[38;5;124m\"\u001b[39m\u001b[38;5;132;01m{\u001b[39;00mi\u001b[38;5;132;01m}\u001b[39;00m\u001b[38;5;124m --> \u001b[39m\u001b[38;5;132;01m{\u001b[39;00m\u001b[43mi\u001b[49m\u001b[38;5;241;43m.\u001b[39;49m\u001b[43mindex\u001b[49m\u001b[43m(\u001b[49m\u001b[38;5;124;43m'\u001b[39;49m\u001b[38;5;124;43mb\u001b[39;49m\u001b[38;5;124;43m'\u001b[39;49m\u001b[43m)\u001b[49m\u001b[38;5;132;01m}\u001b[39;00m\u001b[38;5;124m\"\u001b[39m) \u001b[38;5;66;03m# returns error if not present\u001b[39;00m\n",
      "\u001b[1;31mValueError\u001b[0m: substring not found"
     ]
    }
   ],
   "source": [
    "for i in listv:\n",
    "    print(f\"{i} --> {i.index('b')}\") # returns error if not present"
   ]
  },
  {
   "cell_type": "code",
   "execution_count": 67,
   "id": "5a7bcba7-41a6-4def-a6bd-1b6cf4004ef1",
   "metadata": {
    "tags": []
   },
   "outputs": [
    {
     "name": "stdout",
     "output_type": "stream",
     "text": [
      "abcd --> True\n",
      "abc123 --> True\n",
      "abc123@!# --> False\n"
     ]
    }
   ],
   "source": [
    "for i in [\"abcd\",\"abc123\", \"abc123@!#\"]:\n",
    "    print(f\"{i} --> {i.isalnum()}\")"
   ]
  },
  {
   "cell_type": "code",
   "execution_count": 68,
   "id": "de1e5038-869f-4548-be81-f8f9f880477c",
   "metadata": {
    "tags": []
   },
   "outputs": [
    {
     "name": "stdout",
     "output_type": "stream",
     "text": [
      "abcd --> True\n",
      "abc123 --> False\n",
      "abc123@!# --> False\n"
     ]
    }
   ],
   "source": [
    "for i in [\"abcd\",\"abc123\", \"abc123@!#\"]:\n",
    "    print(f\"{i} --> {i.isalpha()}\")"
   ]
  },
  {
   "cell_type": "code",
   "execution_count": 73,
   "id": "b2677e24-9767-47fd-b768-384765ca87ee",
   "metadata": {
    "tags": []
   },
   "outputs": [
    {
     "name": "stdout",
     "output_type": "stream",
     "text": [
      "abcd --> True\n",
      "abc123 --> True\n",
      "abc123@!# --> True\n",
      "ABCD --> True\n"
     ]
    }
   ],
   "source": [
    "for i in [\"abcd\",\"abc123\", \"abc123@!#\", \"ABCD\"]:\n",
    "    print(f\"{i} --> {i.isascii()}\")"
   ]
  },
  {
   "cell_type": "code",
   "execution_count": 78,
   "id": "a015a758-1233-4dd5-8aae-0d3119fedd05",
   "metadata": {
    "tags": []
   },
   "outputs": [
    {
     "name": "stdout",
     "output_type": "stream",
     "text": [
      "abcd --> False\n",
      "abc123 --> False\n",
      "abc123@!# --> False\n",
      "ABCD --> False\n",
      "123 --> True\n",
      "12.00 --> False\n"
     ]
    }
   ],
   "source": [
    "for i in [\"abcd\",\"abc123\", \"abc123@!#\", \"ABCD\",\"123\", \"12.00\"]:\n",
    "    print(f\"{i} --> {i.isdecimal()}\")"
   ]
  },
  {
   "cell_type": "code",
   "execution_count": 79,
   "id": "ad121718-6584-44af-87a5-ecfc6b4c946e",
   "metadata": {
    "tags": []
   },
   "outputs": [
    {
     "name": "stdout",
     "output_type": "stream",
     "text": [
      "abcd --> False\n",
      "abc123 --> False\n",
      "abc123@!# --> False\n",
      "ABCD --> False\n",
      "123 --> True\n",
      "12.00 --> False\n"
     ]
    }
   ],
   "source": [
    "for i in [\"abcd\",\"abc123\", \"abc123@!#\", \"ABCD\",\"123\", \"12.00\"]:\n",
    "    print(f\"{i} --> {i.isdigit()}\")"
   ]
  },
  {
   "cell_type": "markdown",
   "id": "058addcb-fe3b-4e96-a982-17fe3e281ba5",
   "metadata": {},
   "source": [
    "A string is considered a valid identifier if it only contains alphanumeric letters (a-z) and (0-9), or underscores (_). A valid identifier cannot start with a number, or contain any spaces."
   ]
  },
  {
   "cell_type": "code",
   "execution_count": 81,
   "id": "5ac6f392-f705-4789-938a-98e043c114d3",
   "metadata": {
    "tags": []
   },
   "outputs": [
    {
     "name": "stdout",
     "output_type": "stream",
     "text": [
      "abcd --> True\n",
      "abc123 --> True\n",
      "abc123@!# --> False\n",
      "ABCD --> True\n",
      "1chain --> False\n",
      "12.00 --> False\n"
     ]
    }
   ],
   "source": [
    "for i in [\"abcd\",\"abc123\", \"abc123@!#\", \"ABCD\",\"1chain\", \"12.00\"]:\n",
    "    print(f\"{i} --> {i.isidentifier()}\")"
   ]
  },
  {
   "cell_type": "code",
   "execution_count": 82,
   "id": "6fb53bb3-5de2-4898-825f-02e01df98e5c",
   "metadata": {
    "tags": []
   },
   "outputs": [
    {
     "name": "stdout",
     "output_type": "stream",
     "text": [
      "abcd --> True\n",
      "abc123 --> True\n",
      "abc123@!# --> True\n",
      "ABCD --> False\n",
      "123 --> False\n",
      "12.00 --> False\n"
     ]
    }
   ],
   "source": [
    "for i in [\"abcd\",\"abc123\", \"abc123@!#\", \"ABCD\",\"123\", \"12.00\"]:\n",
    "    print(f\"{i} --> {i.islower()}\")"
   ]
  },
  {
   "cell_type": "code",
   "execution_count": 83,
   "id": "8b470f3f-516e-4816-b056-ab286eb2e073",
   "metadata": {
    "tags": []
   },
   "outputs": [
    {
     "name": "stdout",
     "output_type": "stream",
     "text": [
      "abcd --> False\n",
      "abc123 --> False\n",
      "abc123@!# --> False\n",
      "ABCD --> False\n",
      "123 --> True\n",
      "12.00 --> False\n"
     ]
    }
   ],
   "source": [
    "for i in [\"abcd\",\"abc123\", \"abc123@!#\", \"ABCD\",\"123\", \"12.00\"]:\n",
    "    print(f\"{i} --> {i.isnumeric()}\")"
   ]
  },
  {
   "cell_type": "code",
   "execution_count": 85,
   "id": "3fdae97e-e1e0-4d41-b3e5-06efd531b85e",
   "metadata": {
    "tags": []
   },
   "outputs": [
    {
     "name": "stdout",
     "output_type": "stream",
     "text": [
      "abcd --> True\n",
      "abc123 --> True\n",
      "abc123@!# --> True\n",
      "ABCD --> True\n",
      "123 --> True\n",
      "12.00 --> True\n",
      "Hello\t\t\t\t --> False\n"
     ]
    }
   ],
   "source": [
    "for i in [\"abcd\",\"abc123\", \"abc123@!#\", \"ABCD\",\"123\", \"12.00\", \"Hello\\t\\t\\t\\t\"]:\n",
    "    print(f\"{i} --> {i.isprintable()}\")"
   ]
  },
  {
   "cell_type": "code",
   "execution_count": 89,
   "id": "fa9a4219-11a5-4985-bed9-03ac3c20a953",
   "metadata": {
    "tags": []
   },
   "outputs": [
    {
     "name": "stdout",
     "output_type": "stream",
     "text": [
      "abcd --> False\n",
      "abc123 --> False\n",
      "abc123@!# --> False\n",
      "ABCD --> False\n",
      "123 --> False\n",
      "12.00 --> False\n",
      "Hello\t\t\t\t --> False\n",
      "     --> True\n"
     ]
    }
   ],
   "source": [
    "for i in [\"abcd\",\"abc123\", \"abc123@!#\", \"ABCD\",\"123\", \"12.00\", \"Hello\\t\\t\\t\\t\",\"    \"]:\n",
    "    print(f\"{i} --> {i.isspace()}\")"
   ]
  },
  {
   "cell_type": "code",
   "execution_count": 91,
   "id": "4e5d078d-52bd-4ceb-b01f-cec20744565a",
   "metadata": {
    "tags": []
   },
   "outputs": [
    {
     "name": "stdout",
     "output_type": "stream",
     "text": [
      "abcd --> False\n",
      "abc123 --> False\n",
      "abc123@!# --> False\n",
      "Abcd --> True\n"
     ]
    }
   ],
   "source": [
    "for i in [\"abcd\",\"abc123\", \"abc123@!#\", \"Abcd\"]:\n",
    "    print(f\"{i} --> {i.istitle()}\")"
   ]
  },
  {
   "cell_type": "code",
   "execution_count": 92,
   "id": "5b3e205f-04a5-4e02-bcc8-73b0ebe34584",
   "metadata": {
    "tags": []
   },
   "outputs": [
    {
     "name": "stdout",
     "output_type": "stream",
     "text": [
      "abcd --> False\n",
      "abc123 --> False\n",
      "abc123@!# --> False\n",
      "ABCD --> True\n",
      "123 --> False\n",
      "12.00 --> False\n",
      "Hello\t\t\t\t --> False\n"
     ]
    }
   ],
   "source": [
    "for i in [\"abcd\",\"abc123\", \"abc123@!#\", \"ABCD\",\"123\", \"12.00\", \"Hello\\t\\t\\t\\t\"]:\n",
    "    print(f\"{i} --> {i.isupper()}\")"
   ]
  },
  {
   "cell_type": "code",
   "execution_count": 95,
   "id": "c23010c6-0412-47e1-bfcd-b6e6ba417430",
   "metadata": {
    "tags": []
   },
   "outputs": [
    {
     "name": "stdout",
     "output_type": "stream",
     "text": [
      "abcd --> abcd\n",
      "abc123 --> abc123\n",
      "abc123@!# --> abc123@!#\n",
      "ABCD --> ABCD\n",
      "123 --> 123\n",
      "12.00 --> 12.00\n",
      "Hello\t\t\t\t --> Hello\t\t\t\t\n"
     ]
    }
   ],
   "source": [
    "for i in [\"abcd\",\"abc123\", \"abc123@!#\", \"ABCD\",\"123\", \"12.00\", \"Hello\\t\\t\\t\\t\"]:\n",
    "    print(f\"{i} --> {''.join(i)}\")"
   ]
  },
  {
   "cell_type": "code",
   "execution_count": null,
   "id": "26d13270-e28d-49f9-a329-00104d47c306",
   "metadata": {},
   "outputs": [],
   "source": []
  }
 ],
 "metadata": {
  "kernelspec": {
   "display_name": "Python 3 (ipykernel)",
   "language": "python",
   "name": "python3"
  },
  "language_info": {
   "codemirror_mode": {
    "name": "ipython",
    "version": 3
   },
   "file_extension": ".py",
   "mimetype": "text/x-python",
   "name": "python",
   "nbconvert_exporter": "python",
   "pygments_lexer": "ipython3",
   "version": "3.10.10"
  }
 },
 "nbformat": 4,
 "nbformat_minor": 5
}

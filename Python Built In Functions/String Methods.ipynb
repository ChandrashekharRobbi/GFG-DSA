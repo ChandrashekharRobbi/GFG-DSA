{
 "cells": [
  {
   "cell_type": "code",
   "execution_count": 5,
   "id": "67a8454a-96bf-4cdd-869f-fcc7967573a4",
   "metadata": {
    "tags": []
   },
   "outputs": [],
   "source": [
    "listv = [\"Abcd\", \"abcd\", \"ABCD\"]"
   ]
  },
  {
   "cell_type": "code",
   "execution_count": 21,
   "id": "353846c2-5a8c-4062-844e-c9b931932d6f",
   "metadata": {
    "tags": []
   },
   "outputs": [
    {
     "name": "stdout",
     "output_type": "stream",
     "text": [
      "Abcd --> Abcd\n",
      "abcd --> Abcd\n",
      "ABCD --> Abcd\n"
     ]
    }
   ],
   "source": [
    "for i in listv:\n",
    "    print(f\"{i} --> {i.capitalize()}\")"
   ]
  },
  {
   "cell_type": "code",
   "execution_count": 22,
   "id": "ce92d3b5-babd-42b8-87d5-47c13673f10b",
   "metadata": {
    "tags": []
   },
   "outputs": [
    {
     "name": "stdout",
     "output_type": "stream",
     "text": [
      "Abcd --> abcd\n",
      "abcd --> abcd\n",
      "ABCD --> abcd\n"
     ]
    }
   ],
   "source": [
    "for i in listv:\n",
    "    print(f\"{i} --> {i.casefold()}\")"
   ]
  },
  {
   "cell_type": "code",
   "execution_count": 26,
   "id": "2c1d5473-2185-4321-a722-90f023989345",
   "metadata": {
    "tags": []
   },
   "outputs": [
    {
     "name": "stdout",
     "output_type": "stream",
     "text": [
      "Abcd --> ***Abcd***\n",
      "abcd --> ***abcd***\n",
      "ABCD --> ***ABCD***\n"
     ]
    }
   ],
   "source": [
    "for i in listv:\n",
    "    print(f\"{i} --> {i.center(10,'*')}\")"
   ]
  },
  {
   "cell_type": "code",
   "execution_count": 28,
   "id": "a3b7f01e-3ec7-436e-a111-3ac980096008",
   "metadata": {
    "tags": []
   },
   "outputs": [
    {
     "name": "stdout",
     "output_type": "stream",
     "text": [
      "Abcd --> 0\n",
      "abcd --> 1\n",
      "ABCD --> 0\n"
     ]
    }
   ],
   "source": [
    "for i in listv:\n",
    "    print(f\"{i} --> {i.count('a')}\")"
   ]
  },
  {
   "cell_type": "code",
   "execution_count": 30,
   "id": "53a6cc10-829d-4ae6-98d3-341c694ef523",
   "metadata": {
    "tags": []
   },
   "outputs": [
    {
     "name": "stdout",
     "output_type": "stream",
     "text": [
      "Abcd --> b'Abcd'\n",
      "abcd --> b'abcd'\n",
      "ABCD --> b'ABCD'\n"
     ]
    }
   ],
   "source": [
    "for i in listv:\n",
    "    print(f\"{i} --> {i.encode()}\")"
   ]
  },
  {
   "cell_type": "code",
   "execution_count": 33,
   "id": "772a5176-ffc9-4c3f-b077-020af3aa377e",
   "metadata": {
    "tags": []
   },
   "outputs": [
    {
     "name": "stdout",
     "output_type": "stream",
     "text": [
      "Abcd --> True\n",
      "abcd --> True\n",
      "ABCD --> False\n"
     ]
    }
   ],
   "source": [
    "for i in listv:\n",
    "    print(f\"{i} --> {i.endswith('d')}\")"
   ]
  },
  {
   "cell_type": "code",
   "execution_count": null,
   "id": "557a5744-0a4b-4ad5-84de-ec68f9d9139f",
   "metadata": {},
   "outputs": [],
   "source": []
  }
 ],
 "metadata": {
  "kernelspec": {
   "display_name": "Python 3 (ipykernel)",
   "language": "python",
   "name": "python3"
  },
  "language_info": {
   "codemirror_mode": {
    "name": "ipython",
    "version": 3
   },
   "file_extension": ".py",
   "mimetype": "text/x-python",
   "name": "python",
   "nbconvert_exporter": "python",
   "pygments_lexer": "ipython3",
   "version": "3.10.10"
  }
 },
 "nbformat": 4,
 "nbformat_minor": 5
}

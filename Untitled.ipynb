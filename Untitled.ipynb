{
 "cells": [
  {
   "cell_type": "code",
   "execution_count": 6,
   "id": "9f234b12",
   "metadata": {},
   "outputs": [],
   "source": [
    "from IPython.display import display, Javascript\n",
    "import time"
   ]
  },
  {
   "cell_type": "code",
   "execution_count": 7,
   "id": "fd96576a",
   "metadata": {},
   "outputs": [],
   "source": [
    "%run sample.py"
   ]
  },
  {
   "cell_type": "code",
   "execution_count": 8,
   "id": "48a5474a",
   "metadata": {},
   "outputs": [
    {
     "data": {
      "application/javascript": [
       "\n",
       "        var cell_index = IPython.notebook.get_selected_index();\n",
       "        var prev = cell_index - 1;\n",
       "        console.log(\"Cell deleted\");\n",
       "        IPython.notebook.kernel.execute(\"prev = \" + prev, \n",
       "                                         { iopub: { output: function(data) { console.log(data); }}});   \n",
       "    "
      ],
      "text/plain": [
       "<IPython.core.display.Javascript object>"
      ]
     },
     "metadata": {},
     "output_type": "display_data"
    },
    {
     "name": "stdout",
     "output_type": "stream",
     "text": [
      "Previous cell index: 4\n",
      "[4]\n"
     ]
    }
   ],
   "source": [
    "delete_cell()"
   ]
  },
  {
   "cell_type": "code",
   "execution_count": 9,
   "id": "281e784b",
   "metadata": {},
   "outputs": [
    {
     "data": {
      "application/javascript": [
       "\n",
       "        var cell_index = IPython.notebook.get_selected_index();\n",
       "        var prev = cell_index - 1;\n",
       "        console.log(\"Cell deleted\");\n",
       "        IPython.notebook.kernel.execute(\"prev = \" + prev, \n",
       "                                         { iopub: { output: function(data) { console.log(data); }}});   \n",
       "    "
      ],
      "text/plain": [
       "<IPython.core.display.Javascript object>"
      ]
     },
     "metadata": {},
     "output_type": "display_data"
    },
    {
     "name": "stdout",
     "output_type": "stream",
     "text": [
      "Previous cell index: 2\n",
      "[4, 2]\n"
     ]
    }
   ],
   "source": [
    "delete_cell()"
   ]
  },
  {
   "cell_type": "code",
   "execution_count": 10,
   "id": "2439341e",
   "metadata": {},
   "outputs": [
    {
     "data": {
      "application/javascript": [
       "\n",
       "        var cell_index = IPython.notebook.get_selected_index();\n",
       "        var prev = cell_index - 1;\n",
       "        console.log(\"Cell deleted\");\n",
       "        IPython.notebook.kernel.execute(\"prev = \" + prev, \n",
       "                                         { iopub: { output: function(data) { console.log(data); }}});   \n",
       "    "
      ],
      "text/plain": [
       "<IPython.core.display.Javascript object>"
      ]
     },
     "metadata": {},
     "output_type": "display_data"
    },
    {
     "name": "stdout",
     "output_type": "stream",
     "text": [
      "Previous cell index: 3\n",
      "[4, 2, 3]\n"
     ]
    }
   ],
   "source": [
    "delete_cell()"
   ]
  },
  {
   "cell_type": "code",
   "execution_count": 11,
   "id": "536adcf9",
   "metadata": {},
   "outputs": [
    {
     "data": {
      "application/javascript": [
       "\n",
       "        var cell_index = IPython.notebook.get_selected_index();\n",
       "        var prev = cell_index - 1;\n",
       "        IPython.notebook.delete_cell({z_val[1]});\n",
       "        console.log(\"Cell deleted\");\n",
       "        IPython.notebook.kernel.execute(\"prev = \" + prev, \n",
       "                                         { iopub: { output: function(data) { console.log(data); }}});   \n",
       "    "
      ],
      "text/plain": [
       "<IPython.core.display.Javascript object>"
      ]
     },
     "metadata": {},
     "output_type": "display_data"
    }
   ],
   "source": [
    "delete_all()"
   ]
  },
  {
   "cell_type": "code",
   "execution_count": null,
   "id": "79afb17e",
   "metadata": {},
   "outputs": [],
   "source": []
  }
 ],
 "metadata": {
  "kernelspec": {
   "display_name": "Python 3 (ipykernel)",
   "language": "python",
   "name": "python3"
  },
  "language_info": {
   "codemirror_mode": {
    "name": "ipython",
    "version": 3
   },
   "file_extension": ".py",
   "mimetype": "text/x-python",
   "name": "python",
   "nbconvert_exporter": "python",
   "pygments_lexer": "ipython3",
   "version": "3.10.9"
  }
 },
 "nbformat": 4,
 "nbformat_minor": 5
}

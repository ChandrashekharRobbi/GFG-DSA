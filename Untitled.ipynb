{
 "cells": [
  {
   "cell_type": "code",
   "execution_count": 10,
   "id": "9f234b12",
   "metadata": {},
   "outputs": [],
   "source": [
    "from IPython.display import display, Javascript\n",
    "import time"
   ]
  },
  {
   "cell_type": "code",
   "execution_count": 11,
   "id": "9a6f4415",
   "metadata": {},
   "outputs": [],
   "source": [
    "def delete_cell():\n",
    "    display(Javascript('''\n",
    "        var cell_index = IPython.notebook.to_markdown();\n",
    "    '''))"
   ]
  },
  {
   "cell_type": "code",
   "execution_count": 8,
   "id": "434aa67b",
   "metadata": {},
   "outputs": [
    {
     "data": {
      "application/javascript": [
       "\n",
       "        var cell_index = IPython.notebook.to_markdown();\n",
       "    "
      ],
      "text/plain": [
       "<IPython.core.display.Javascript object>"
      ]
     },
     "metadata": {},
     "output_type": "display_data"
    }
   ],
   "source": [
    "delete_cell()"
   ]
  },
  {
   "cell_type": "code",
   "execution_count": 9,
   "id": "9167db9e",
   "metadata": {},
   "outputs": [
    {
     "ename": "NameError",
     "evalue": "name 'IPython' is not defined",
     "output_type": "error",
     "traceback": [
      "\u001b[1;31m---------------------------------------------------------------------------\u001b[0m",
      "\u001b[1;31mNameError\u001b[0m                                 Traceback (most recent call last)",
      "Cell \u001b[1;32mIn[9], line 1\u001b[0m\n\u001b[1;32m----> 1\u001b[0m \u001b[43mIPython\u001b[49m\u001b[38;5;241m.\u001b[39mnotebook\u001b[38;5;241m.\u001b[39mto_markdown()\n",
      "\u001b[1;31mNameError\u001b[0m: name 'IPython' is not defined"
     ]
    }
   ],
   "source": [
    "IPython.notebook.to_markdown()"
   ]
  },
  {
   "cell_type": "code",
   "execution_count": 1,
   "id": "49ae6d19",
   "metadata": {},
   "outputs": [],
   "source": [
    "from sample import *"
   ]
  },
  {
   "cell_type": "code",
   "execution_count": 2,
   "id": "d732ca1e",
   "metadata": {},
   "outputs": [
    {
     "data": {
      "application/javascript": [
       "\n",
       "        var cell_index = IPython.notebook.get_selected_index();\n",
       "        var prev = cell_index - 1;\n",
       "    "
      ],
      "text/plain": [
       "<IPython.core.display.Javascript object>"
      ]
     },
     "metadata": {},
     "output_type": "display_data"
    },
    {
     "ename": "NameError",
     "evalue": "name 'prev' is not defined",
     "output_type": "error",
     "traceback": [
      "\u001b[1;31m---------------------------------------------------------------------------\u001b[0m",
      "\u001b[1;31mNameError\u001b[0m                                 Traceback (most recent call last)",
      "Cell \u001b[1;32mIn[2], line 1\u001b[0m\n\u001b[1;32m----> 1\u001b[0m \u001b[43mdelete_cell\u001b[49m\u001b[43m(\u001b[49m\u001b[43m)\u001b[49m\n",
      "File \u001b[1;32mC:\\GFG_DataScience\\DSA\\sample.py:25\u001b[0m, in \u001b[0;36mdelete_cell\u001b[1;34m()\u001b[0m\n\u001b[0;32m     20\u001b[0m \u001b[38;5;28;01mdef\u001b[39;00m \u001b[38;5;21mdelete_cell\u001b[39m():\n\u001b[0;32m     21\u001b[0m     display(Javascript(\u001b[38;5;124m'''\u001b[39m\n\u001b[0;32m     22\u001b[0m \u001b[38;5;124m        var cell_index = IPython.notebook.get_selected_index();\u001b[39m\n\u001b[0;32m     23\u001b[0m \u001b[38;5;124m        var prev = cell_index - 1;\u001b[39m\n\u001b[0;32m     24\u001b[0m \u001b[38;5;124m    \u001b[39m\u001b[38;5;124m'''\u001b[39m))\n\u001b[1;32m---> 25\u001b[0m     \u001b[38;5;28mprint\u001b[39m(\u001b[43mprev\u001b[49m)\n",
      "\u001b[1;31mNameError\u001b[0m: name 'prev' is not defined"
     ]
    }
   ],
   "source": [
    "delete_cell()"
   ]
  },
  {
   "cell_type": "code",
   "execution_count": 9,
   "id": "4d0ce684",
   "metadata": {},
   "outputs": [],
   "source": [
    "from IPython.display import display, Javascript\n",
    "\n",
    "def delete_cell():\n",
    "    display(Javascript('''\n",
    "        var cell_index = IPython.notebook.get_selected_index();\n",
    "        var prev = cell_index - 1;\n",
    "        IPython.notebook.delete_cell(cell_index);\n",
    "        IPython.notebook.select(prev);\n",
    "        console.log(\"Cell deleted\");\n",
    "    '''))\n",
    "    # Get the value of the 'prev' variable using the IPython.notebook.kernel.execute function\n",
    "    prev = get_js_variable('prev')\n",
    "    print(f\"Previous cell index: {prev}\")\n",
    "\n",
    "def get_js_variable(var_name):\n",
    "    js_code = f\"IPython.notebook.kernel.execute('{var_name}=' + {var_name});\"\n",
    "    display(Javascript(js_code))\n",
    "    return get_ipython().user_ns[var_name]"
   ]
  },
  {
   "cell_type": "code",
   "execution_count": null,
   "id": "1a0b8ef4",
   "metadata": {},
   "outputs": [],
   "source": []
  },
  {
   "cell_type": "code",
   "execution_count": null,
   "id": "9db38c3c",
   "metadata": {},
   "outputs": [],
   "source": []
  },
  {
   "cell_type": "code",
   "execution_count": 12,
   "id": "673a9e57",
   "metadata": {},
   "outputs": [
    {
     "data": {
      "application/javascript": [
       "\n",
       "        var cell_index = IPython.notebook.get_selected_index();\n",
       "        var prev = cell_index - 1;\n",
       "        IPython.notebook.delete_cell(cell_index);\n",
       "        IPython.notebook.select(prev);\n",
       "        console.log(\"Cell deleted\");\n",
       "    "
      ],
      "text/plain": [
       "<IPython.core.display.Javascript object>"
      ]
     },
     "metadata": {},
     "output_type": "display_data"
    },
    {
     "data": {
      "application/javascript": [
       "IPython.notebook.kernel.execute('prev=' + prev);"
      ],
      "text/plain": [
       "<IPython.core.display.Javascript object>"
      ]
     },
     "metadata": {},
     "output_type": "display_data"
    },
    {
     "ename": "KeyError",
     "evalue": "'prev'",
     "output_type": "error",
     "traceback": [
      "\u001b[1;31m---------------------------------------------------------------------------\u001b[0m",
      "\u001b[1;31mKeyError\u001b[0m                                  Traceback (most recent call last)",
      "Cell \u001b[1;32mIn[12], line 1\u001b[0m\n\u001b[1;32m----> 1\u001b[0m \u001b[43mdelete_cell\u001b[49m\u001b[43m(\u001b[49m\u001b[43m)\u001b[49m\n",
      "Cell \u001b[1;32mIn[9], line 12\u001b[0m, in \u001b[0;36mdelete_cell\u001b[1;34m()\u001b[0m\n\u001b[0;32m      4\u001b[0m display(Javascript(\u001b[38;5;124m'''\u001b[39m\n\u001b[0;32m      5\u001b[0m \u001b[38;5;124m    var cell_index = IPython.notebook.get_selected_index();\u001b[39m\n\u001b[0;32m      6\u001b[0m \u001b[38;5;124m    var prev = cell_index - 1;\u001b[39m\n\u001b[1;32m   (...)\u001b[0m\n\u001b[0;32m      9\u001b[0m \u001b[38;5;124m    console.log(\u001b[39m\u001b[38;5;124m\"\u001b[39m\u001b[38;5;124mCell deleted\u001b[39m\u001b[38;5;124m\"\u001b[39m\u001b[38;5;124m);\u001b[39m\n\u001b[0;32m     10\u001b[0m \u001b[38;5;124m\u001b[39m\u001b[38;5;124m'''\u001b[39m))\n\u001b[0;32m     11\u001b[0m \u001b[38;5;66;03m# Get the value of the 'prev' variable using the IPython.notebook.kernel.execute function\u001b[39;00m\n\u001b[1;32m---> 12\u001b[0m prev \u001b[38;5;241m=\u001b[39m \u001b[43mget_js_variable\u001b[49m\u001b[43m(\u001b[49m\u001b[38;5;124;43m'\u001b[39;49m\u001b[38;5;124;43mprev\u001b[39;49m\u001b[38;5;124;43m'\u001b[39;49m\u001b[43m)\u001b[49m\n\u001b[0;32m     13\u001b[0m \u001b[38;5;28mprint\u001b[39m(\u001b[38;5;124mf\u001b[39m\u001b[38;5;124m\"\u001b[39m\u001b[38;5;124mPrevious cell index: \u001b[39m\u001b[38;5;132;01m{\u001b[39;00mprev\u001b[38;5;132;01m}\u001b[39;00m\u001b[38;5;124m\"\u001b[39m)\n",
      "Cell \u001b[1;32mIn[9], line 18\u001b[0m, in \u001b[0;36mget_js_variable\u001b[1;34m(var_name)\u001b[0m\n\u001b[0;32m     16\u001b[0m js_code \u001b[38;5;241m=\u001b[39m \u001b[38;5;124mf\u001b[39m\u001b[38;5;124m\"\u001b[39m\u001b[38;5;124mIPython.notebook.kernel.execute(\u001b[39m\u001b[38;5;124m'\u001b[39m\u001b[38;5;132;01m{\u001b[39;00mvar_name\u001b[38;5;132;01m}\u001b[39;00m\u001b[38;5;124m=\u001b[39m\u001b[38;5;124m'\u001b[39m\u001b[38;5;124m + \u001b[39m\u001b[38;5;132;01m{\u001b[39;00mvar_name\u001b[38;5;132;01m}\u001b[39;00m\u001b[38;5;124m);\u001b[39m\u001b[38;5;124m\"\u001b[39m\n\u001b[0;32m     17\u001b[0m display(Javascript(js_code))\n\u001b[1;32m---> 18\u001b[0m \u001b[38;5;28;01mreturn\u001b[39;00m \u001b[43mget_ipython\u001b[49m\u001b[43m(\u001b[49m\u001b[43m)\u001b[49m\u001b[38;5;241;43m.\u001b[39;49m\u001b[43muser_ns\u001b[49m\u001b[43m[\u001b[49m\u001b[43mvar_name\u001b[49m\u001b[43m]\u001b[49m\n",
      "\u001b[1;31mKeyError\u001b[0m: 'prev'"
     ]
    }
   ],
   "source": []
  }
 ],
 "metadata": {
  "kernelspec": {
   "display_name": "Python 3 (ipykernel)",
   "language": "python",
   "name": "python3"
  },
  "language_info": {
   "codemirror_mode": {
    "name": "ipython",
    "version": 3
   },
   "file_extension": ".py",
   "mimetype": "text/x-python",
   "name": "python",
   "nbconvert_exporter": "python",
   "pygments_lexer": "ipython3",
   "version": "3.10.9"
  }
 },
 "nbformat": 4,
 "nbformat_minor": 5
}

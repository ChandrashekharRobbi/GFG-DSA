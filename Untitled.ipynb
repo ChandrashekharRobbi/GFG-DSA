{
 "cells": [
  {
   "cell_type": "code",
   "execution_count": 25,
   "id": "9f234b12",
   "metadata": {},
   "outputs": [],
   "source": [
    "from IPython.display import display, Javascript\n",
    "import time"
   ]
  },
  {
   "cell_type": "code",
   "execution_count": 26,
   "id": "c2ef853e",
   "metadata": {},
   "outputs": [],
   "source": [
    "%run sample.py"
   ]
  },
  {
   "cell_type": "code",
   "execution_count": 27,
   "id": "fbad229b",
   "metadata": {},
   "outputs": [],
   "source": [
    "None"
   ]
  },
  {
   "cell_type": "code",
   "execution_count": 28,
   "id": "f39d1775",
   "metadata": {},
   "outputs": [
    {
     "data": {
      "application/javascript": [
       "\n",
       "        var cell_index = IPython.notebook.get_selected_index();\n",
       "        var prev = cell_index - 1;\n",
       "        IPython.notebook.focus_cell();\n",
       "        console.log(prev);\n",
       "        IPython.notebook.kernel.execute(\"prev = \" + prev, \n",
       "                                         { iopub: { output: function(data) { console.log(data); }}});\n",
       "        console.log(prev);\n",
       "    "
      ],
      "text/plain": [
       "<IPython.core.display.Javascript object>"
      ]
     },
     "metadata": {},
     "output_type": "display_data"
    },
    {
     "name": "stdout",
     "output_type": "stream",
     "text": [
      "Previous cell index: 7\n",
      "7\n",
      "[7]\n"
     ]
    }
   ],
   "source": [
    "delete_cell()"
   ]
  },
  {
   "cell_type": "code",
   "execution_count": 29,
   "id": "41c17f70",
   "metadata": {},
   "outputs": [
    {
     "data": {
      "application/javascript": [
       "\n",
       "        var cell_index = IPython.notebook.get_selected_index();\n",
       "        var prev = cell_index - 1;\n",
       "        IPython.notebook.focus_cell();\n",
       "        console.log(prev);\n",
       "        IPython.notebook.kernel.execute(\"prev = \" + prev, \n",
       "                                         { iopub: { output: function(data) { console.log(data); }}});\n",
       "        console.log(prev);\n",
       "    "
      ],
      "text/plain": [
       "<IPython.core.display.Javascript object>"
      ]
     },
     "metadata": {},
     "output_type": "display_data"
    },
    {
     "name": "stdout",
     "output_type": "stream",
     "text": [
      "Previous cell index: 3\n",
      "3\n",
      "[7, 3]\n"
     ]
    }
   ],
   "source": [
    "delete_cell()"
   ]
  },
  {
   "cell_type": "code",
   "execution_count": 30,
   "id": "06cd0ec9",
   "metadata": {},
   "outputs": [],
   "source": [
    "pass"
   ]
  },
  {
   "cell_type": "code",
   "execution_count": 31,
   "id": "3691307a",
   "metadata": {},
   "outputs": [],
   "source": [
    "None"
   ]
  },
  {
   "cell_type": "code",
   "execution_count": 32,
   "id": "76db3f02",
   "metadata": {},
   "outputs": [
    {
     "data": {
      "application/javascript": [
       "\n",
       "        var cell_index = IPython.notebook.get_selected_index();\n",
       "        var prev = cell_index - 1;\n",
       "        IPython.notebook.focus_cell();\n",
       "        console.log(prev);\n",
       "        IPython.notebook.kernel.execute(\"prev = \" + prev, \n",
       "                                         { iopub: { output: function(data) { console.log(data); }}});\n",
       "        console.log(prev);\n",
       "    "
      ],
      "text/plain": [
       "<IPython.core.display.Javascript object>"
      ]
     },
     "metadata": {},
     "output_type": "display_data"
    },
    {
     "name": "stdout",
     "output_type": "stream",
     "text": [
      "Previous cell index: 4\n",
      "4\n",
      "[7, 3, 4]\n"
     ]
    }
   ],
   "source": [
    "delete_cell()"
   ]
  },
  {
   "cell_type": "code",
   "execution_count": 33,
   "id": "ca41116b",
   "metadata": {},
   "outputs": [
    {
     "ename": "UnboundLocalError",
     "evalue": "local variable 'z_val' referenced before assignment",
     "output_type": "error",
     "traceback": [
      "\u001b[1;31m---------------------------------------------------------------------------\u001b[0m",
      "\u001b[1;31mUnboundLocalError\u001b[0m                         Traceback (most recent call last)",
      "Cell \u001b[1;32mIn[33], line 1\u001b[0m\n\u001b[1;32m----> 1\u001b[0m \u001b[43mdelete_all\u001b[49m\u001b[43m(\u001b[49m\u001b[43m)\u001b[49m\n",
      "File \u001b[1;32mC:\\GFG_DataScience\\DSA\\sample.py:29\u001b[0m, in \u001b[0;36mdelete_all\u001b[1;34m()\u001b[0m\n\u001b[0;32m     28\u001b[0m \u001b[38;5;28;01mdef\u001b[39;00m \u001b[38;5;21mdelete_all\u001b[39m():\n\u001b[1;32m---> 29\u001b[0m     \u001b[38;5;28;01mfor\u001b[39;00m i \u001b[38;5;129;01min\u001b[39;00m \u001b[38;5;28msorted\u001b[39m(\u001b[43mz_val\u001b[49m, reverse\u001b[38;5;241m=\u001b[39m\u001b[38;5;28;01mTrue\u001b[39;00m):\n\u001b[0;32m     30\u001b[0m         display(Javascript(\u001b[38;5;124m'''\u001b[39m\n\u001b[0;32m     31\u001b[0m \u001b[38;5;124m            var cell_index = IPython.notebook.get_selected_index();\u001b[39m\n\u001b[0;32m     32\u001b[0m \u001b[38;5;124m            var prev = cell_index - 1;\u001b[39m\n\u001b[1;32m   (...)\u001b[0m\n\u001b[0;32m     36\u001b[0m \u001b[38;5;124m                                             \u001b[39m\u001b[38;5;124m{{\u001b[39m\u001b[38;5;124m iopub: \u001b[39m\u001b[38;5;124m{{\u001b[39m\u001b[38;5;124m output: function(data) \u001b[39m\u001b[38;5;124m{{\u001b[39m\u001b[38;5;124m console.log(data); }}}}}});   \u001b[39m\n\u001b[0;32m     37\u001b[0m \u001b[38;5;124m        \u001b[39m\u001b[38;5;124m'''\u001b[39m\u001b[38;5;241m.\u001b[39mformat(i)))\n\u001b[0;32m     39\u001b[0m     \u001b[38;5;28mprint\u001b[39m(\u001b[38;5;28mlen\u001b[39m(z_val), \u001b[38;5;124m\"\u001b[39m\u001b[38;5;124mcells deleted\u001b[39m\u001b[38;5;124m\"\u001b[39m)\n",
      "\u001b[1;31mUnboundLocalError\u001b[0m: local variable 'z_val' referenced before assignment"
     ]
    }
   ],
   "source": [
    "delete_all()"
   ]
  },
  {
   "cell_type": "code",
   "execution_count": null,
   "id": "4ac54706",
   "metadata": {},
   "outputs": [],
   "source": []
  }
 ],
 "metadata": {
  "kernelspec": {
   "display_name": "Python 3 (ipykernel)",
   "language": "python",
   "name": "python3"
  },
  "language_info": {
   "codemirror_mode": {
    "name": "ipython",
    "version": 3
   },
   "file_extension": ".py",
   "mimetype": "text/x-python",
   "name": "python",
   "nbconvert_exporter": "python",
   "pygments_lexer": "ipython3",
   "version": "3.10.9"
  }
 },
 "nbformat": 4,
 "nbformat_minor": 5
}

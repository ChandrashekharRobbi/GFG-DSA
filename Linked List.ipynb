{
 "cells": [
  {
   "cell_type": "code",
   "execution_count": 179,
   "id": "9fa2ee38",
   "metadata": {},
   "outputs": [],
   "source": [
    "from imp_personal import *"
   ]
  },
  {
   "cell_type": "markdown",
   "id": "4f50a075",
   "metadata": {},
   "source": [
    "# Linked List\n",
    "\n",
    "Like arrays, Linked List is a linear data structure. Unlike arrays, linked list elements are not stored at a contiguous location; the elements are linked using pointers. They include a series of connected nodes. Here, each node stores the data and the address of the next node\n",
    "\n",
    "Arrays have following limitations:\n",
    "\n",
    "* The size of the arrays is fixed: So we must know the upper limit on the number of elements in advance. Also, generally, the allocated memory is equal to the upper limit irrespective of the usage. \n",
    "* Insertion of a new element / Deletion of a existing element in an array of elements is expensive: The room has to be created for the new elements and to create room existing elements have to be shifted but in Linked list if we have the head node then we can traverse to any node through it and insert new node at the required position.\n",
    "\n",
    "\n",
    "\n",
    "1. [Traversing a linked list](#Traversing-a-linked-list)\n",
    "7. [Search in Linked List](#Search-in-Linked-List)\n",
    "7. [Sum The Nodes of Linked List](#Sum-The-Nodes-of-Linked-List)\n",
    "7. [Insert at the beginning of the Linked List](#Insert-at-the-beginning-of-the-Linked-List)\n",
    "7. [Insert At the Position](#Insert-At-the-Position)\n",
    "7. [Delete head node in Linked List](#Delete-head-node-in-Linked-List)\n",
    "7. [Delete Last Node in Linked List](#Delete-Last-Node-in-Linked-List)"
   ]
  },
  {
   "cell_type": "markdown",
   "id": "1b63a433",
   "metadata": {},
   "source": [
    "## Simple Linked List"
   ]
  },
  {
   "cell_type": "code",
   "execution_count": 180,
   "id": "a4fd0934",
   "metadata": {},
   "outputs": [],
   "source": [
    "class Node:\n",
    "    def __init__(self,k):\n",
    "        self.k = k\n",
    "        self.next = None"
   ]
  },
  {
   "cell_type": "code",
   "execution_count": 181,
   "id": "0d69a188",
   "metadata": {},
   "outputs": [],
   "source": [
    "temp1 = Node(1)\n",
    "temp2 = Node(2)\n",
    "temp3 = Node(4)"
   ]
  },
  {
   "cell_type": "code",
   "execution_count": 182,
   "id": "de38444a",
   "metadata": {},
   "outputs": [],
   "source": [
    "temp1.next = temp2\n",
    "temp2.next = temp3"
   ]
  },
  {
   "cell_type": "code",
   "execution_count": 183,
   "id": "a13aca0e",
   "metadata": {},
   "outputs": [],
   "source": [
    "head = temp1"
   ]
  },
  {
   "cell_type": "code",
   "execution_count": 184,
   "id": "4ec85959",
   "metadata": {},
   "outputs": [],
   "source": [
    "# alternate way\n",
    "\n",
    "head = Node(8)\n",
    "head.next = Node(9)\n",
    "head.next.next = Node(10)"
   ]
  },
  {
   "cell_type": "markdown",
   "id": "e33ae249",
   "metadata": {},
   "source": [
    "#### Traversing a linked list "
   ]
  },
  {
   "cell_type": "code",
   "execution_count": 185,
   "id": "e65ad48d",
   "metadata": {},
   "outputs": [],
   "source": [
    "class Node:\n",
    "    def __init__(self,k):\n",
    "        self.k = k\n",
    "        self.next = None"
   ]
  },
  {
   "cell_type": "code",
   "execution_count": 186,
   "id": "bead5b98",
   "metadata": {},
   "outputs": [],
   "source": [
    "def printList(head):\n",
    "    curr = head\n",
    "    while curr != None:\n",
    "        print(curr.k, end=\" \")\n",
    "        curr = curr.next"
   ]
  },
  {
   "cell_type": "code",
   "execution_count": 187,
   "id": "d75ce415",
   "metadata": {},
   "outputs": [
    {
     "name": "stdout",
     "output_type": "stream",
     "text": [
      "8 9 10 "
     ]
    }
   ],
   "source": [
    "printList(head)"
   ]
  },
  {
   "cell_type": "markdown",
   "id": "6b1f061e",
   "metadata": {},
   "source": [
    "#### Search in Linked List"
   ]
  },
  {
   "cell_type": "code",
   "execution_count": 188,
   "id": "6191c7f1",
   "metadata": {},
   "outputs": [],
   "source": [
    "def searchLinkedList(head, x):\n",
    "    curr = head\n",
    "    count = 0\n",
    "    while curr != None:\n",
    "        count += 1\n",
    "        if x == curr.k:\n",
    "            return count\n",
    "        curr = curr.next\n",
    "    return -1\n",
    "        \n",
    "    "
   ]
  },
  {
   "cell_type": "code",
   "execution_count": 189,
   "id": "50dc96b8",
   "metadata": {},
   "outputs": [],
   "source": [
    "head = Node(4)\n",
    "head.next = Node(7)\n",
    "head.next.next = Node(10)\n",
    "head.next.next.next = Node(18)\n",
    "head.next.next.next.next = Node(19)"
   ]
  },
  {
   "cell_type": "code",
   "execution_count": 190,
   "id": "735bfa23",
   "metadata": {},
   "outputs": [
    {
     "data": {
      "text/plain": [
       "4"
      ]
     },
     "execution_count": 190,
     "metadata": {},
     "output_type": "execute_result"
    }
   ],
   "source": [
    "searchLinkedList(head, 18)"
   ]
  },
  {
   "cell_type": "code",
   "execution_count": 191,
   "id": "759fdb56",
   "metadata": {},
   "outputs": [
    {
     "data": {
      "text/plain": [
       "-1"
      ]
     },
     "execution_count": 191,
     "metadata": {},
     "output_type": "execute_result"
    }
   ],
   "source": [
    "searchLinkedList(head,1)"
   ]
  },
  {
   "cell_type": "markdown",
   "id": "a1557444",
   "metadata": {},
   "source": [
    "#### Sum The Nodes of Linked List"
   ]
  },
  {
   "cell_type": "code",
   "execution_count": 192,
   "id": "2a29715a",
   "metadata": {},
   "outputs": [],
   "source": [
    "def sumOfElements(head):\n",
    "    #code here\n",
    "    curr = head\n",
    "    sum = 0\n",
    "    while curr != None:\n",
    "        sum += curr.data\n",
    "        curr = curr.next\n",
    "    return sum"
   ]
  },
  {
   "cell_type": "markdown",
   "id": "6a06e497",
   "metadata": {},
   "source": [
    "#### Insert at the beginning of the Linked List"
   ]
  },
  {
   "cell_type": "code",
   "execution_count": 193,
   "id": "5fb995b9",
   "metadata": {},
   "outputs": [],
   "source": [
    "def insertBeginLinkedLis(head,x):\n",
    "    temp = Node(x)\n",
    "    temp.next = head\n",
    "    printList(temp)\n",
    "    return temp\n"
   ]
  },
  {
   "cell_type": "code",
   "execution_count": 194,
   "id": "6a34272c",
   "metadata": {},
   "outputs": [],
   "source": [
    "head = Node(7)\n",
    "head.next = Node(8)\n",
    "head.next.next = Node(10)\n",
    "head.next.next.next = Node(18)"
   ]
  },
  {
   "cell_type": "code",
   "execution_count": 195,
   "id": "e03fb016",
   "metadata": {},
   "outputs": [
    {
     "name": "stdout",
     "output_type": "stream",
     "text": [
      "5 7 8 10 18 "
     ]
    }
   ],
   "source": [
    "head = insertBeginLinkedLis(head,5)"
   ]
  },
  {
   "cell_type": "code",
   "execution_count": 196,
   "id": "0c74d695",
   "metadata": {},
   "outputs": [
    {
     "name": "stdout",
     "output_type": "stream",
     "text": [
      "20 5 7 8 10 18 "
     ]
    }
   ],
   "source": [
    "head = insertBeginLinkedLis(head,20)"
   ]
  },
  {
   "cell_type": "code",
   "execution_count": 197,
   "id": "904e355b",
   "metadata": {},
   "outputs": [
    {
     "name": "stdout",
     "output_type": "stream",
     "text": [
      "insertAtTheEnd\n",
      "7. [insertAtTheEnd](#insertAtTheEnd)\n",
      "#### insertAtTheEnd\n"
     ]
    }
   ],
   "source": [
    "linuxconvertinotlink('insertAtTheEnd')"
   ]
  },
  {
   "cell_type": "markdown",
   "id": "7fe9bfa2",
   "metadata": {},
   "source": [
    "#### insertAtTheEnd"
   ]
  },
  {
   "cell_type": "code",
   "execution_count": 198,
   "id": "03795c92",
   "metadata": {},
   "outputs": [],
   "source": [
    "def insertAtTheEnd(head, x):\n",
    "    if head == None:\n",
    "        return Node(x)\n",
    "    curr = head\n",
    "    while curr.next != None:\n",
    "        curr = curr.next\n",
    "    curr.next = Node(x)\n",
    "    printList(curr)\n",
    "    return head\n",
    "            "
   ]
  },
  {
   "cell_type": "code",
   "execution_count": 199,
   "id": "1b4e9d01",
   "metadata": {},
   "outputs": [],
   "source": [
    "head = Node(7)\n",
    "head.next = Node(8)\n",
    "head.next.next = Node(10)\n",
    "head.next.next.next = Node(18)"
   ]
  },
  {
   "cell_type": "code",
   "execution_count": 200,
   "id": "ac9303b5",
   "metadata": {},
   "outputs": [
    {
     "name": "stdout",
     "output_type": "stream",
     "text": [
      "18 10 "
     ]
    },
    {
     "data": {
      "text/plain": [
       "<__main__.Node at 0x1b386c5ca30>"
      ]
     },
     "execution_count": 200,
     "metadata": {},
     "output_type": "execute_result"
    }
   ],
   "source": [
    "insertAtTheEnd(head,10)"
   ]
  },
  {
   "cell_type": "code",
   "execution_count": 201,
   "id": "de0d472b",
   "metadata": {},
   "outputs": [
    {
     "name": "stdout",
     "output_type": "stream",
     "text": [
      "Insert At the Position\n",
      "7. [Insert At the Position](#Insert-At-the-Position)\n",
      "#### Insert At the Position\n"
     ]
    }
   ],
   "source": [
    "convertinotlink('Insert At the Position')"
   ]
  },
  {
   "cell_type": "markdown",
   "id": "bfd36e37",
   "metadata": {},
   "source": [
    "#### Insert At the Position"
   ]
  },
  {
   "cell_type": "code",
   "execution_count": 202,
   "id": "521b3e41",
   "metadata": {},
   "outputs": [],
   "source": [
    "def insertAtPosition1(head, pos, x):\n",
    "    curr = head\n",
    "    count = 0\n",
    "    temp = Node(x)\n",
    "    while curr != None:\n",
    "        count += 1\n",
    "        if count == pos:\n",
    "            temp.next = curr.next\n",
    "            curr.next = temp\n",
    "            return head\n",
    "        curr = curr.next\n",
    "    "
   ]
  },
  {
   "cell_type": "code",
   "execution_count": 203,
   "id": "3d495ce0",
   "metadata": {},
   "outputs": [
    {
     "name": "stdout",
     "output_type": "stream",
     "text": [
      "7 8 10 18 10 "
     ]
    }
   ],
   "source": [
    "printList(head)"
   ]
  },
  {
   "cell_type": "code",
   "execution_count": 204,
   "id": "fac1be1a",
   "metadata": {},
   "outputs": [],
   "source": [
    "q = insertAtPosition1(head, 4, 23)"
   ]
  },
  {
   "cell_type": "code",
   "execution_count": 205,
   "id": "0b3f2f5b",
   "metadata": {},
   "outputs": [
    {
     "name": "stdout",
     "output_type": "stream",
     "text": [
      "7 8 10 18 23 10 "
     ]
    }
   ],
   "source": [
    "printList(q)"
   ]
  },
  {
   "cell_type": "code",
   "execution_count": 206,
   "id": "cb7af06f",
   "metadata": {},
   "outputs": [],
   "source": [
    "def insertAtPosition2(head, pos, x):\n",
    "    node=Node(x)\n",
    "    i=1\n",
    "    while head and i<pos:\n",
    "        i+=1\n",
    "        head=head.next\n",
    "    if head:\n",
    "        node.next=head.next\n",
    "        head.next=node\n",
    "    return head"
   ]
  },
  {
   "cell_type": "code",
   "execution_count": 207,
   "id": "1578848f",
   "metadata": {},
   "outputs": [
    {
     "name": "stdout",
     "output_type": "stream",
     "text": [
      "7 8 10 18 23 10 "
     ]
    }
   ],
   "source": [
    "printList(head)"
   ]
  },
  {
   "cell_type": "code",
   "execution_count": 208,
   "id": "16dfe308",
   "metadata": {},
   "outputs": [
    {
     "data": {
      "text/plain": [
       "<__main__.Node at 0x1b386c5d750>"
      ]
     },
     "execution_count": 208,
     "metadata": {},
     "output_type": "execute_result"
    }
   ],
   "source": [
    "insertAtPosition2(head, 6, 88)"
   ]
  },
  {
   "cell_type": "code",
   "execution_count": 209,
   "id": "718ec380",
   "metadata": {},
   "outputs": [
    {
     "name": "stdout",
     "output_type": "stream",
     "text": [
      "7 8 10 18 23 10 88 "
     ]
    }
   ],
   "source": [
    "printList(head)"
   ]
  },
  {
   "cell_type": "code",
   "execution_count": 210,
   "id": "6ea8f3fc",
   "metadata": {},
   "outputs": [
    {
     "name": "stdout",
     "output_type": "stream",
     "text": [
      "Delete head node in Linked List\n",
      "7. [Delete head node in Linked List](#Delete-head-node-in-Linked-List)\n",
      "#### Delete head node in Linked List\n"
     ]
    }
   ],
   "source": [
    "convertinotlink('Delete head node in Linked List')"
   ]
  },
  {
   "cell_type": "markdown",
   "id": "6b7411e5",
   "metadata": {},
   "source": [
    "#### Delete head node in Linked List"
   ]
  },
  {
   "cell_type": "code",
   "execution_count": 211,
   "id": "a883e09b",
   "metadata": {},
   "outputs": [],
   "source": [
    "def DeleteHeadNode(head):\n",
    "    if head == None:\n",
    "        return None\n",
    "    else:\n",
    "        printList(head.next)\n",
    "        return head.next"
   ]
  },
  {
   "cell_type": "code",
   "execution_count": 212,
   "id": "09ead892",
   "metadata": {},
   "outputs": [
    {
     "name": "stdout",
     "output_type": "stream",
     "text": [
      "7 8 10 18 23 10 88 "
     ]
    }
   ],
   "source": [
    "printList(head)"
   ]
  },
  {
   "cell_type": "code",
   "execution_count": 213,
   "id": "d647fb4d",
   "metadata": {},
   "outputs": [
    {
     "name": "stdout",
     "output_type": "stream",
     "text": [
      "8 10 18 23 10 88 "
     ]
    },
    {
     "data": {
      "text/plain": [
       "<__main__.Node at 0x1b386c5f490>"
      ]
     },
     "execution_count": 213,
     "metadata": {},
     "output_type": "execute_result"
    }
   ],
   "source": [
    "DeleteHeadNode(head)"
   ]
  },
  {
   "cell_type": "code",
   "execution_count": 214,
   "id": "5aa62605",
   "metadata": {},
   "outputs": [
    {
     "name": "stdout",
     "output_type": "stream",
     "text": [
      "Delete Last Node in Linked List\n",
      "7. [Delete Last Node in Linked List](#Delete-Last-Node-in-Linked-List)\n",
      "#### Delete Last Node in Linked List\n"
     ]
    }
   ],
   "source": [
    "convertinotlink('Delete Last Node in Linked List')"
   ]
  },
  {
   "cell_type": "markdown",
   "id": "609ff6a3",
   "metadata": {},
   "source": [
    "#### Delete Last Node in Linked List"
   ]
  },
  {
   "cell_type": "code",
   "execution_count": null,
   "id": "fefd9dad",
   "metadata": {},
   "outputs": [],
   "source": [
    "def DeleteLastNode(head):\n",
    "    if head == None:\n",
    "        return None\n",
    "    if head.next == None:\n",
    "        return None\n"
   ]
  },
  {
   "cell_type": "code",
   "execution_count": null,
   "id": "83b565ff",
   "metadata": {},
   "outputs": [],
   "source": []
  },
  {
   "cell_type": "code",
   "execution_count": null,
   "id": "1d36ded4",
   "metadata": {},
   "outputs": [],
   "source": []
  }
 ],
 "metadata": {
  "kernelspec": {
   "display_name": "Python 3 (ipykernel)",
   "language": "python",
   "name": "python3"
  },
  "language_info": {
   "codemirror_mode": {
    "name": "ipython",
    "version": 3
   },
   "file_extension": ".py",
   "mimetype": "text/x-python",
   "name": "python",
   "nbconvert_exporter": "python",
   "pygments_lexer": "ipython3",
   "version": "3.10.6"
  }
 },
 "nbformat": 4,
 "nbformat_minor": 5
}

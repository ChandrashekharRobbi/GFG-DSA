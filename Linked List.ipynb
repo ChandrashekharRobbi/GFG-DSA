{
 "cells": [
  {
   "cell_type": "code",
   "execution_count": 20,
   "id": "9fa2ee38",
   "metadata": {},
   "outputs": [],
   "source": [
    "from imp_personal import *"
   ]
  },
  {
   "cell_type": "code",
   "execution_count": 57,
   "id": "bf52f4a8",
   "metadata": {},
   "outputs": [],
   "source": [
    "c = MyFunction()"
   ]
  },
  {
   "cell_type": "markdown",
   "id": "4f50a075",
   "metadata": {},
   "source": [
    "# Linked List\n",
    "\n",
    "Like arrays, Linked List is a linear data structure. Unlike arrays, linked list elements are not stored at a contiguous location; the elements are linked using pointers. They include a series of connected nodes. Here, each node stores the data and the address of the next node\n",
    "\n",
    "Arrays have following limitations:\n",
    "\n",
    "* The size of the arrays is fixed: So we must know the upper limit on the number of elements in advance. Also, generally, the allocated memory is equal to the upper limit irrespective of the usage. \n",
    "* Insertion of a new element / Deletion of a existing element in an array of elements is expensive: The room has to be created for the new elements and to create room existing elements have to be shifted but in Linked list if we have the head node then we can traverse to any node through it and insert new node at the required position.\n",
    "\n",
    "\n",
    "\n",
    "1. [Traversing a linked list](#Traversing-a-linked-list)\n",
    "7. [Search in Linked List](#Search-in-Linked-List)\n",
    "7. [Sum The Nodes of Linked List](#Sum-The-Nodes-of-Linked-List)\n",
    "7. [Insert at the beginning of the Linked List](#Insert-at-the-beginning-of-the-Linked-List)\n",
    "7. [Insert At the Position](#Insert-At-the-Position)\n",
    "7. [Delete head node in Linked List](#Delete-head-node-in-Linked-List)\n",
    "7. [Delete Last Node in Linked List](#Delete-Last-Node-in-Linked-List)"
   ]
  },
  {
   "cell_type": "markdown",
   "id": "1b63a433",
   "metadata": {},
   "source": [
    "## Simple Linked List"
   ]
  },
  {
   "cell_type": "code",
   "execution_count": 21,
   "id": "a4fd0934",
   "metadata": {},
   "outputs": [],
   "source": [
    "class Node:\n",
    "    def __init__(self,k):\n",
    "        self.k = k\n",
    "        self.next = None"
   ]
  },
  {
   "cell_type": "code",
   "execution_count": 22,
   "id": "0d69a188",
   "metadata": {},
   "outputs": [],
   "source": [
    "temp1 = Node(1)\n",
    "temp2 = Node(2)\n",
    "temp3 = Node(4)"
   ]
  },
  {
   "cell_type": "code",
   "execution_count": 23,
   "id": "de38444a",
   "metadata": {},
   "outputs": [],
   "source": [
    "temp1.next = temp2\n",
    "temp2.next = temp3"
   ]
  },
  {
   "cell_type": "code",
   "execution_count": 24,
   "id": "a13aca0e",
   "metadata": {},
   "outputs": [],
   "source": [
    "head = temp1"
   ]
  },
  {
   "cell_type": "code",
   "execution_count": 25,
   "id": "4ec85959",
   "metadata": {},
   "outputs": [],
   "source": [
    "# alternate way\n",
    "\n",
    "head = Node(8)\n",
    "head.next = Node(9)\n",
    "head.next.next = Node(10)"
   ]
  },
  {
   "cell_type": "markdown",
   "id": "e33ae249",
   "metadata": {},
   "source": [
    "#### Traversing a linked list "
   ]
  },
  {
   "cell_type": "code",
   "execution_count": 26,
   "id": "e65ad48d",
   "metadata": {},
   "outputs": [],
   "source": [
    "class Node:\n",
    "    def __init__(self,k):\n",
    "        self.k = k\n",
    "        self.next = None"
   ]
  },
  {
   "cell_type": "code",
   "execution_count": 27,
   "id": "bead5b98",
   "metadata": {},
   "outputs": [],
   "source": [
    "def printList(head):\n",
    "    curr = head\n",
    "    while curr != None:\n",
    "        print(curr.k, end=\" \")\n",
    "        curr = curr.next"
   ]
  },
  {
   "cell_type": "code",
   "execution_count": 28,
   "id": "d75ce415",
   "metadata": {},
   "outputs": [
    {
     "name": "stdout",
     "output_type": "stream",
     "text": [
      "8 9 10 "
     ]
    }
   ],
   "source": [
    "printList(head)"
   ]
  },
  {
   "cell_type": "markdown",
   "id": "6b1f061e",
   "metadata": {},
   "source": [
    "#### Search in Linked List"
   ]
  },
  {
   "cell_type": "code",
   "execution_count": 29,
   "id": "6191c7f1",
   "metadata": {},
   "outputs": [],
   "source": [
    "def searchLinkedList(head, x):\n",
    "    curr = head\n",
    "    count = 0\n",
    "    while curr != None:\n",
    "        count += 1\n",
    "        if x == curr.k:\n",
    "            return count\n",
    "        curr = curr.next\n",
    "    return -1\n",
    "        \n",
    "    "
   ]
  },
  {
   "cell_type": "code",
   "execution_count": 30,
   "id": "50dc96b8",
   "metadata": {},
   "outputs": [],
   "source": [
    "head = Node(4)\n",
    "head.next = Node(7)\n",
    "head.next.next = Node(10)\n",
    "head.next.next.next = Node(18)\n",
    "head.next.next.next.next = Node(19)"
   ]
  },
  {
   "cell_type": "code",
   "execution_count": 31,
   "id": "735bfa23",
   "metadata": {},
   "outputs": [
    {
     "data": {
      "text/plain": [
       "4"
      ]
     },
     "execution_count": 31,
     "metadata": {},
     "output_type": "execute_result"
    }
   ],
   "source": [
    "searchLinkedList(head, 18)"
   ]
  },
  {
   "cell_type": "code",
   "execution_count": 32,
   "id": "759fdb56",
   "metadata": {},
   "outputs": [
    {
     "data": {
      "text/plain": [
       "-1"
      ]
     },
     "execution_count": 32,
     "metadata": {},
     "output_type": "execute_result"
    }
   ],
   "source": [
    "searchLinkedList(head,1)"
   ]
  },
  {
   "cell_type": "markdown",
   "id": "a1557444",
   "metadata": {},
   "source": [
    "#### Sum The Nodes of Linked List"
   ]
  },
  {
   "cell_type": "code",
   "execution_count": 33,
   "id": "2a29715a",
   "metadata": {},
   "outputs": [],
   "source": [
    "def sumOfElements(head):\n",
    "    #code here\n",
    "    curr = head\n",
    "    sum = 0\n",
    "    while curr != None:\n",
    "        sum += curr.data\n",
    "        curr = curr.next\n",
    "    return sum"
   ]
  },
  {
   "cell_type": "markdown",
   "id": "6a06e497",
   "metadata": {},
   "source": [
    "#### Insert at the beginning of the Linked List"
   ]
  },
  {
   "cell_type": "code",
   "execution_count": 34,
   "id": "5fb995b9",
   "metadata": {},
   "outputs": [],
   "source": [
    "def insertBeginLinkedLis(head,x):\n",
    "    temp = Node(x)\n",
    "    temp.next = head\n",
    "    printList(temp)\n",
    "    return temp\n"
   ]
  },
  {
   "cell_type": "code",
   "execution_count": 35,
   "id": "6a34272c",
   "metadata": {},
   "outputs": [],
   "source": [
    "head = Node(7)\n",
    "head.next = Node(8)\n",
    "head.next.next = Node(10)\n",
    "head.next.next.next = Node(18)"
   ]
  },
  {
   "cell_type": "code",
   "execution_count": 36,
   "id": "e03fb016",
   "metadata": {},
   "outputs": [
    {
     "name": "stdout",
     "output_type": "stream",
     "text": [
      "5 7 8 10 18 "
     ]
    }
   ],
   "source": [
    "head = insertBeginLinkedLis(head,5)"
   ]
  },
  {
   "cell_type": "code",
   "execution_count": 37,
   "id": "0c74d695",
   "metadata": {},
   "outputs": [
    {
     "name": "stdout",
     "output_type": "stream",
     "text": [
      "20 5 7 8 10 18 "
     ]
    }
   ],
   "source": [
    "head = insertBeginLinkedLis(head,20)"
   ]
  },
  {
   "cell_type": "markdown",
   "id": "7fe9bfa2",
   "metadata": {},
   "source": [
    "#### insertAtTheEnd"
   ]
  },
  {
   "cell_type": "code",
   "execution_count": 38,
   "id": "03795c92",
   "metadata": {},
   "outputs": [],
   "source": [
    "def insertAtTheEnd(head, x):\n",
    "    if head == None:\n",
    "        return Node(x)\n",
    "    curr = head\n",
    "    while curr.next != None:\n",
    "        curr = curr.next\n",
    "    curr.next = Node(x)\n",
    "    printList(curr)\n",
    "    return head\n",
    "            "
   ]
  },
  {
   "cell_type": "code",
   "execution_count": 39,
   "id": "1b4e9d01",
   "metadata": {},
   "outputs": [],
   "source": [
    "head = Node(7)\n",
    "head.next = Node(8)\n",
    "head.next.next = Node(10)\n",
    "head.next.next.next = Node(18)"
   ]
  },
  {
   "cell_type": "code",
   "execution_count": 40,
   "id": "ac9303b5",
   "metadata": {},
   "outputs": [
    {
     "name": "stdout",
     "output_type": "stream",
     "text": [
      "18 10 "
     ]
    },
    {
     "data": {
      "text/plain": [
       "<__main__.Node at 0x1f0d5b06530>"
      ]
     },
     "execution_count": 40,
     "metadata": {},
     "output_type": "execute_result"
    }
   ],
   "source": [
    "insertAtTheEnd(head,10)"
   ]
  },
  {
   "cell_type": "markdown",
   "id": "f87bfe4e",
   "metadata": {},
   "source": [
    "#### Insert At the Position"
   ]
  },
  {
   "cell_type": "code",
   "execution_count": 41,
   "id": "56c24081",
   "metadata": {},
   "outputs": [],
   "source": [
    "def insertAtPosition1(head, pos, x):\n",
    "    curr = head\n",
    "    count = 0\n",
    "    temp = Node(x)\n",
    "    while curr != None:\n",
    "        count += 1\n",
    "        if count == pos:\n",
    "            temp.next = curr.next\n",
    "            curr.next = temp\n",
    "            return head\n",
    "        curr = curr.next\n",
    "    "
   ]
  },
  {
   "cell_type": "code",
   "execution_count": 42,
   "id": "94b0a889",
   "metadata": {},
   "outputs": [
    {
     "name": "stdout",
     "output_type": "stream",
     "text": [
      "7 8 10 18 10 "
     ]
    }
   ],
   "source": [
    "printList(head)"
   ]
  },
  {
   "cell_type": "code",
   "execution_count": 43,
   "id": "7efba448",
   "metadata": {},
   "outputs": [],
   "source": [
    "q = insertAtPosition1(head, 4, 23)"
   ]
  },
  {
   "cell_type": "code",
   "execution_count": 44,
   "id": "dd58797e",
   "metadata": {},
   "outputs": [
    {
     "name": "stdout",
     "output_type": "stream",
     "text": [
      "7 8 10 18 23 10 "
     ]
    }
   ],
   "source": [
    "printList(q)"
   ]
  },
  {
   "cell_type": "code",
   "execution_count": 45,
   "id": "b0e015f7",
   "metadata": {},
   "outputs": [],
   "source": [
    "def insertAtPosition2(head, pos, x):\n",
    "    node=Node(x)\n",
    "    i=1\n",
    "    while head and i<pos:\n",
    "        i+=1\n",
    "        head=head.next\n",
    "    if head:\n",
    "        node.next=head.next\n",
    "        head.next=node\n",
    "    return head"
   ]
  },
  {
   "cell_type": "code",
   "execution_count": 46,
   "id": "a23ad594",
   "metadata": {},
   "outputs": [
    {
     "name": "stdout",
     "output_type": "stream",
     "text": [
      "7 8 10 18 23 10 "
     ]
    }
   ],
   "source": [
    "printList(head)"
   ]
  },
  {
   "cell_type": "code",
   "execution_count": 47,
   "id": "a7f1ff79",
   "metadata": {},
   "outputs": [
    {
     "data": {
      "text/plain": [
       "<__main__.Node at 0x1f0d5b06b00>"
      ]
     },
     "execution_count": 47,
     "metadata": {},
     "output_type": "execute_result"
    }
   ],
   "source": [
    "insertAtPosition2(head, 6, 88)"
   ]
  },
  {
   "cell_type": "code",
   "execution_count": 48,
   "id": "4b7bca58",
   "metadata": {},
   "outputs": [
    {
     "name": "stdout",
     "output_type": "stream",
     "text": [
      "7 8 10 18 23 10 88 "
     ]
    }
   ],
   "source": [
    "printList(head)"
   ]
  },
  {
   "cell_type": "markdown",
   "id": "5ef5aa83",
   "metadata": {},
   "source": [
    "#### Delete head node in Linked List"
   ]
  },
  {
   "cell_type": "code",
   "execution_count": 49,
   "id": "52d2f5ee",
   "metadata": {},
   "outputs": [],
   "source": [
    "def DeleteHeadNode(head):\n",
    "    if head == None:\n",
    "        return None\n",
    "    else:\n",
    "        printList(head.next)\n",
    "        return head.next"
   ]
  },
  {
   "cell_type": "code",
   "execution_count": 50,
   "id": "0c7de79a",
   "metadata": {},
   "outputs": [
    {
     "name": "stdout",
     "output_type": "stream",
     "text": [
      "7 8 10 18 23 10 88 "
     ]
    }
   ],
   "source": [
    "printList(head)"
   ]
  },
  {
   "cell_type": "code",
   "execution_count": 51,
   "id": "159e4281",
   "metadata": {},
   "outputs": [
    {
     "name": "stdout",
     "output_type": "stream",
     "text": [
      "8 10 18 23 10 88 "
     ]
    },
    {
     "data": {
      "text/plain": [
       "<__main__.Node at 0x1f0d6dc4f70>"
      ]
     },
     "execution_count": 51,
     "metadata": {},
     "output_type": "execute_result"
    }
   ],
   "source": [
    "DeleteHeadNode(head)"
   ]
  },
  {
   "cell_type": "markdown",
   "id": "7e9fa569",
   "metadata": {},
   "source": [
    "#### Delete Last Node in Linked List"
   ]
  },
  {
   "cell_type": "code",
   "execution_count": 52,
   "id": "013612d1",
   "metadata": {},
   "outputs": [],
   "source": [
    "def DeleteLastNode(head):\n",
    "    if head == None:\n",
    "        return None\n",
    "    if head.next == None:\n",
    "        return None\n",
    "    curr = head\n",
    "    while curr.next.next != None:    # till last second loop\n",
    "        curr = curr.next\n",
    "    curr.next = None\n",
    "    return head"
   ]
  },
  {
   "cell_type": "code",
   "execution_count": 53,
   "id": "176e42eb",
   "metadata": {},
   "outputs": [
    {
     "name": "stdout",
     "output_type": "stream",
     "text": [
      "7 8 10 18 23 10 88 "
     ]
    }
   ],
   "source": [
    "printList(head)"
   ]
  },
  {
   "cell_type": "code",
   "execution_count": 54,
   "id": "93bf5881",
   "metadata": {},
   "outputs": [],
   "source": [
    "k = DeleteLastNode(head)"
   ]
  },
  {
   "cell_type": "code",
   "execution_count": 55,
   "id": "77642b37",
   "metadata": {},
   "outputs": [
    {
     "name": "stdout",
     "output_type": "stream",
     "text": [
      "7 8 10 18 23 10 "
     ]
    }
   ],
   "source": [
    "printList(k)"
   ]
  },
  {
   "cell_type": "code",
   "execution_count": null,
   "id": "03f37049",
   "metadata": {},
   "outputs": [],
   "source": []
  },
  {
   "cell_type": "code",
   "execution_count": 56,
   "id": "ffbcb2bd",
   "metadata": {},
   "outputs": [],
   "source": []
  }
 ],
 "metadata": {
  "kernelspec": {
   "display_name": "Python 3 (ipykernel)",
   "language": "python",
   "name": "python3"
  },
  "language_info": {
   "codemirror_mode": {
    "name": "ipython",
    "version": 3
   },
   "file_extension": ".py",
   "mimetype": "text/x-python",
   "name": "python",
   "nbconvert_exporter": "python",
   "pygments_lexer": "ipython3",
   "version": "3.10.6"
  }
 },
 "nbformat": 4,
 "nbformat_minor": 5
}

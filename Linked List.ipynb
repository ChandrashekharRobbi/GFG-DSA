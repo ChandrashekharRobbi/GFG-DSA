{
 "cells": [
  {
   "cell_type": "code",
   "execution_count": 17,
   "metadata": {},
   "outputs": [],
   "source": [
    "from imp_personal import *"
   ]
  },
  {
   "cell_type": "markdown",
   "metadata": {},
   "source": [
    "# Linked List\n",
    "\n",
    "Like arrays, Linked List is a linear data structure. Unlike arrays, linked list elements are not stored at a contiguous location; the elements are linked using pointers. They include a series of connected nodes. Here, each node stores the data and the address of the next node\n",
    "\n",
    "Arrays have following limitations:\n",
    "\n",
    "* The size of the arrays is fixed: So we must know the upper limit on the number of elements in advance. Also, generally, the allocated memory is equal to the upper limit irrespective of the usage. \n",
    "* Insertion of a new element / Deletion of a existing element in an array of elements is expensive: The room has to be created for the new elements and to create room existing elements have to be shifted but in Linked list if we have the head node then we can traverse to any node through it and insert new node at the required position.\n",
    "\n",
    "\n",
    "\n",
    "1. [Traversing a linked list](#Traversing-a-linked-list)\n",
    "7. [Search in Linked List](#Search-in-Linked-List)\n",
    "7. [Sum The Nodes of Linked List](#Sum-The-Nodes-of-Linked-List)\n",
    "7. [Insert at the beginning of the Linked List](#Insert-at-the-beginning-of-the-Linked-List)"
   ]
  },
  {
   "cell_type": "markdown",
   "metadata": {},
   "source": [
    "## Simple Linked List"
   ]
  },
  {
   "cell_type": "code",
   "execution_count": 1,
   "metadata": {},
   "outputs": [],
   "source": [
    "class Node:\n",
    "    def __init__(self,k):\n",
    "        self.k = k\n",
    "        self.next = None"
   ]
  },
  {
   "cell_type": "code",
   "execution_count": 2,
   "metadata": {},
   "outputs": [],
   "source": [
    "temp1 = Node(1)\n",
    "temp2 = Node(2)\n",
    "temp3 = Node(4)"
   ]
  },
  {
   "cell_type": "code",
   "execution_count": 3,
   "metadata": {},
   "outputs": [],
   "source": [
    "temp1.next = temp2\n",
    "temp2.next = temp3"
   ]
  },
  {
   "cell_type": "code",
   "execution_count": 4,
   "metadata": {},
   "outputs": [],
   "source": [
    "head = temp1"
   ]
  },
  {
   "cell_type": "code",
   "execution_count": 5,
   "metadata": {},
   "outputs": [],
   "source": [
    "# alternate way\n",
    "\n",
    "head = Node(8)\n",
    "head.next = Node(9)\n",
    "head.next.next = Node(10)"
   ]
  },
  {
   "cell_type": "markdown",
   "metadata": {},
   "source": [
    "#### Traversing a linked list "
   ]
  },
  {
   "cell_type": "code",
   "execution_count": 6,
   "metadata": {},
   "outputs": [],
   "source": [
    "class Node:\n",
    "    def __init__(self,k):\n",
    "        self.k = k\n",
    "        self.next = None"
   ]
  },
  {
   "cell_type": "code",
   "execution_count": 7,
   "metadata": {},
   "outputs": [],
   "source": [
    "def printList(head):\n",
    "    curr = head\n",
    "    while curr != None:\n",
    "        print(curr.k, end=\" \")\n",
    "        curr = curr.next"
   ]
  },
  {
   "cell_type": "code",
   "execution_count": 8,
   "metadata": {},
   "outputs": [
    {
     "name": "stdout",
     "output_type": "stream",
     "text": [
      "8 9 10 "
     ]
    }
   ],
   "source": [
    "printList(head)"
   ]
  },
  {
   "cell_type": "markdown",
   "metadata": {},
   "source": [
    "#### Search in Linked List"
   ]
  },
  {
   "cell_type": "code",
   "execution_count": 9,
   "metadata": {},
   "outputs": [],
   "source": [
    "def searchLinkedList(head, x):\n",
    "    curr = head\n",
    "    count = 0\n",
    "    while curr != None:\n",
    "        count += 1\n",
    "        if x == curr.k:\n",
    "            return count\n",
    "        curr = curr.next\n",
    "    return -1\n",
    "        \n",
    "    "
   ]
  },
  {
   "cell_type": "code",
   "execution_count": 10,
   "metadata": {},
   "outputs": [],
   "source": [
    "head = Node(4)\n",
    "head.next = Node(7)\n",
    "head.next.next = Node(10)\n",
    "head.next.next.next = Node(18)\n",
    "head.next.next.next.next = Node(19)"
   ]
  },
  {
   "cell_type": "code",
   "execution_count": 11,
   "metadata": {},
   "outputs": [
    {
     "data": {
      "text/plain": [
       "4"
      ]
     },
     "execution_count": 11,
     "metadata": {},
     "output_type": "execute_result"
    }
   ],
   "source": [
    "searchLinkedList(head, 18)"
   ]
  },
  {
   "cell_type": "code",
   "execution_count": 12,
   "metadata": {},
   "outputs": [
    {
     "data": {
      "text/plain": [
       "-1"
      ]
     },
     "execution_count": 12,
     "metadata": {},
     "output_type": "execute_result"
    }
   ],
   "source": [
    "searchLinkedList(head,1)"
   ]
  },
  {
   "cell_type": "markdown",
   "metadata": {},
   "source": [
    "#### Sum The Nodes of Linked List"
   ]
  },
  {
   "cell_type": "code",
   "execution_count": 13,
   "metadata": {},
   "outputs": [],
   "source": [
    "def sumOfElements(head):\n",
    "    #code here\n",
    "    curr = head\n",
    "    sum = 0\n",
    "    while curr != None:\n",
    "        sum += curr.data\n",
    "        curr = curr.next\n",
    "    return sum"
   ]
  },
  {
   "cell_type": "markdown",
   "metadata": {},
   "source": [
    "#### Insert at the beginning of the Linked List"
   ]
  },
  {
   "cell_type": "code",
   "execution_count": 40,
   "metadata": {},
   "outputs": [],
   "source": [
    "def insertBeginLinkedLis(head,x):\n",
    "    temp = Node(x)\n",
    "    temp.next = head\n",
    "    printList(temp)\n",
    "    return temp\n"
   ]
  },
  {
   "cell_type": "code",
   "execution_count": 41,
   "metadata": {},
   "outputs": [],
   "source": [
    "head = Node(7)\n",
    "head.next = Node(8)\n",
    "head.next.next = Node(10)\n",
    "head.next.next.next = Node(18)"
   ]
  },
  {
   "cell_type": "code",
   "execution_count": 44,
   "metadata": {},
   "outputs": [
    {
     "name": "stdout",
     "output_type": "stream",
     "text": [
      "5 7 8 10 18 "
     ]
    }
   ],
   "source": [
    "head = insertBeginLinkedLis(head,5)"
   ]
  },
  {
   "cell_type": "code",
   "execution_count": 46,
   "metadata": {},
   "outputs": [
    {
     "name": "stdout",
     "output_type": "stream",
     "text": [
      "20 5 7 8 10 18 "
     ]
    }
   ],
   "source": [
    "head = insertBeginLinkedLis(head,20)"
   ]
  },
  {
   "cell_type": "code",
   "execution_count": 47,
   "metadata": {},
   "outputs": [
    {
     "name": "stdout",
     "output_type": "stream",
     "text": [
      "insertAtTheEnd\n",
      "7. [insertAtTheEnd](#insertAtTheEnd)\n",
      "#### insertAtTheEnd\n"
     ]
    }
   ],
   "source": [
    "linuxconvertinotlink('insertAtTheEnd')"
   ]
  },
  {
   "cell_type": "markdown",
   "metadata": {},
   "source": [
    "#### insertAtTheEnd"
   ]
  },
  {
   "cell_type": "code",
   "execution_count": 74,
   "metadata": {},
   "outputs": [],
   "source": [
    "def insertAtTheEnd(head, x):\n",
    "    if head == None:\n",
    "        return Node(x)\n",
    "    curr = head\n",
    "    while curr.next != None:\n",
    "        curr = curr.next\n",
    "    curr.next = Node(x)\n",
    "    printList(curr)\n",
    "    return head\n",
    "            "
   ]
  },
  {
   "cell_type": "code",
   "execution_count": 78,
   "metadata": {},
   "outputs": [],
   "source": [
    "head = Node(7)\n",
    "head.next = Node(8)\n",
    "head.next.next = Node(10)\n",
    "head.next.next.next = Node(18)"
   ]
  },
  {
   "cell_type": "code",
   "execution_count": 79,
   "metadata": {},
   "outputs": [
    {
     "name": "stdout",
     "output_type": "stream",
     "text": [
      "18 10 "
     ]
    },
    {
     "data": {
      "text/plain": [
       "<__main__.Node at 0x7f74743534a8>"
      ]
     },
     "execution_count": 79,
     "metadata": {},
     "output_type": "execute_result"
    }
   ],
   "source": [
    "insertAtTheEnd(head,10)"
   ]
  },
  {
   "cell_type": "code",
   "execution_count": null,
   "metadata": {},
   "outputs": [],
   "source": []
  }
 ],
 "metadata": {
  "kernelspec": {
   "display_name": "Python 3",
   "language": "python",
   "name": "python3"
  },
  "language_info": {
   "codemirror_mode": {
    "name": "ipython",
    "version": 3
   },
   "file_extension": ".py",
   "mimetype": "text/x-python",
   "name": "python",
   "nbconvert_exporter": "python",
   "pygments_lexer": "ipython3",
   "version": "3.7.3"
  }
 },
 "nbformat": 4,
 "nbformat_minor": 5
}

{
 "cells": [
  {
   "cell_type": "code",
   "execution_count": 1,
   "id": "9fa2ee38",
   "metadata": {},
   "outputs": [],
   "source": [
    "from imp_personal import *"
   ]
  },
  {
   "cell_type": "code",
   "execution_count": 2,
   "id": "bf52f4a8",
   "metadata": {},
   "outputs": [],
   "source": [
    "c = MyFunction()"
   ]
  },
  {
   "cell_type": "markdown",
   "id": "4f50a075",
   "metadata": {},
   "source": [
    "# Linked List\n",
    "\n",
    "Like arrays, Linked List is a linear data structure. Unlike arrays, linked list elements are not stored at a contiguous location; the elements are linked using pointers. They include a series of connected nodes. Here, each node stores the data and the address of the next node\n",
    "\n",
    "Arrays have following limitations:\n",
    "\n",
    "* The size of the arrays is fixed: So we must know the upper limit on the number of elements in advance. Also, generally, the allocated memory is equal to the upper limit irrespective of the usage. \n",
    "* Insertion of a new element / Deletion of a existing element in an array of elements is expensive: The room has to be created for the new elements and to create room existing elements have to be shifted but in Linked list if we have the head node then we can traverse to any node through it and insert new node at the required position.\n",
    "\n",
    "\n",
    "\n",
    "1. [Traversing a linked list](#Traversing-a-linked-list)\n",
    "7. [Iterative method for creating a Linked List](#Iterative-method-for-creating-a-Linked-List)\n",
    "7. [Search in Linked List](#Search-in-Linked-List)\n",
    "7. [Sum The Nodes of Linked List](#Sum-The-Nodes-of-Linked-List)\n",
    "7. [Insert at the beginning of the Linked List](#Insert-at-the-beginning-of-the-Linked-List)\n",
    "7. [Insert At the Position](#Insert-At-the-Position)\n",
    "7. [Delete head node in Linked List](#Delete-head-node-in-Linked-List)\n",
    "7. [Delete Last Node in Linked List](#Delete-Last-Node-in-Linked-List)\n",
    "7. [Delete a node with pointer given to it](#Delete-a-node-with-pointer-given-to-it)\n",
    "7. [Sorted Insert Linked List](#Sorted-Insert-Linked-List)\n",
    "7. [Find Middle Of Linked List](#Find-Middle-Of-Linked-List)\n",
    "7. [Nth Node from end of linkedlist](#Nth-Node-from-end-of-linkedlist)\n",
    "7. [Remove duplicates from a sorted Singly Linked List](#Remove-duplicates-from-a-sorted-Singly-Linked-List)\n",
    "7. [Reverse a Linked List (Naive Solution)](#Reverse-a-Linked-List-(Naive-Solution))\n",
    "7. [Reverse Linked List Efficient Solution](#Reverse-Linked-List-Efficient-Solution)\n",
    "7. [Recursive Reverse A Linked List (Part 1)](#Recursive-Reverse-A-Linked-List-(Part-1))\n",
    "7. [Recursive Reverse A Linked List(Part 2)](#Recursive-Reverse-A-Linked-List(Part-2))"
   ]
  },
  {
   "cell_type": "markdown",
   "id": "1b63a433",
   "metadata": {},
   "source": [
    "## Simple Linked List"
   ]
  },
  {
   "cell_type": "code",
   "execution_count": 3,
   "id": "a4fd0934",
   "metadata": {},
   "outputs": [],
   "source": [
    "class Node:\n",
    "    def __init__(self,k):\n",
    "        self.k = k\n",
    "        self.next = None"
   ]
  },
  {
   "cell_type": "code",
   "execution_count": 4,
   "id": "0d69a188",
   "metadata": {},
   "outputs": [],
   "source": [
    "temp1 = Node(1)\n",
    "temp2 = Node(2)\n",
    "temp3 = Node(4)"
   ]
  },
  {
   "cell_type": "code",
   "execution_count": 103,
   "id": "de38444a",
   "metadata": {},
   "outputs": [],
   "source": [
    "temp1.next = temp2\n",
    "temp2.next = temp3"
   ]
  },
  {
   "cell_type": "code",
   "execution_count": 104,
   "id": "a13aca0e",
   "metadata": {},
   "outputs": [],
   "source": [
    "head = temp1"
   ]
  },
  {
   "cell_type": "code",
   "execution_count": 105,
   "id": "4ec85959",
   "metadata": {},
   "outputs": [],
   "source": [
    "# alternate way\n",
    "\n",
    "head = Node(8)\n",
    "head.next = Node(9)\n",
    "head.next.next = Node(10)"
   ]
  },
  {
   "cell_type": "markdown",
   "id": "e80d7169",
   "metadata": {},
   "source": [
    "#### Iterative method for creating a Linked List"
   ]
  },
  {
   "cell_type": "code",
   "execution_count": 106,
   "id": "23ff3d9b",
   "metadata": {},
   "outputs": [],
   "source": [
    "def createNode(arr):\n",
    "    n = len(arr)\n",
    "    name = Node(arr[0])\n",
    "    curr = name\n",
    "    for i in range(1, n):\n",
    "        curr.next = Node(arr[i])\n",
    "        curr = curr.next\n",
    "    printList(name)\n",
    "    return name"
   ]
  },
  {
   "cell_type": "markdown",
   "id": "e33ae249",
   "metadata": {},
   "source": [
    "#### Traversing a linked list "
   ]
  },
  {
   "cell_type": "code",
   "execution_count": 107,
   "id": "e65ad48d",
   "metadata": {},
   "outputs": [],
   "source": [
    "class Node:\n",
    "    def __init__(self,k):\n",
    "        self.k = k\n",
    "        self.next = None"
   ]
  },
  {
   "cell_type": "code",
   "execution_count": 108,
   "id": "bead5b98",
   "metadata": {},
   "outputs": [],
   "source": [
    "def printList(head):\n",
    "    curr = head\n",
    "    while curr != None:\n",
    "        print(curr.k, end=\" \")\n",
    "        curr = curr.next"
   ]
  },
  {
   "cell_type": "code",
   "execution_count": 109,
   "id": "d75ce415",
   "metadata": {},
   "outputs": [
    {
     "name": "stdout",
     "output_type": "stream",
     "text": [
      "8 9 10 "
     ]
    }
   ],
   "source": [
    "printList(head)"
   ]
  },
  {
   "cell_type": "markdown",
   "id": "6b1f061e",
   "metadata": {},
   "source": [
    "#### Search in Linked List"
   ]
  },
  {
   "cell_type": "code",
   "execution_count": 12,
   "id": "6191c7f1",
   "metadata": {},
   "outputs": [],
   "source": [
    "def searchLinkedList(head, x):\n",
    "    curr = head\n",
    "    count = 0\n",
    "    while curr != None:\n",
    "        count += 1\n",
    "        if x == curr.k:\n",
    "            return count\n",
    "        curr = curr.next\n",
    "    return -1\n",
    "        \n",
    "    "
   ]
  },
  {
   "cell_type": "code",
   "execution_count": 13,
   "id": "50dc96b8",
   "metadata": {},
   "outputs": [],
   "source": [
    "head = Node(4)\n",
    "head.next = Node(7)\n",
    "head.next.next = Node(10)\n",
    "head.next.next.next = Node(18)\n",
    "head.next.next.next.next = Node(19)"
   ]
  },
  {
   "cell_type": "code",
   "execution_count": 14,
   "id": "735bfa23",
   "metadata": {},
   "outputs": [
    {
     "data": {
      "text/plain": [
       "4"
      ]
     },
     "execution_count": 14,
     "metadata": {},
     "output_type": "execute_result"
    }
   ],
   "source": [
    "searchLinkedList(head, 18)"
   ]
  },
  {
   "cell_type": "code",
   "execution_count": 15,
   "id": "759fdb56",
   "metadata": {},
   "outputs": [
    {
     "data": {
      "text/plain": [
       "-1"
      ]
     },
     "execution_count": 15,
     "metadata": {},
     "output_type": "execute_result"
    }
   ],
   "source": [
    "searchLinkedList(head,1)"
   ]
  },
  {
   "cell_type": "markdown",
   "id": "a1557444",
   "metadata": {},
   "source": [
    "#### Sum The Nodes of Linked List"
   ]
  },
  {
   "cell_type": "code",
   "execution_count": 16,
   "id": "2a29715a",
   "metadata": {},
   "outputs": [],
   "source": [
    "def sumOfElements(head):\n",
    "    #code here\n",
    "    curr = head\n",
    "    sum = 0\n",
    "    while curr != None:\n",
    "        sum += curr.data\n",
    "        curr = curr.next\n",
    "    return sum"
   ]
  },
  {
   "cell_type": "markdown",
   "id": "6a06e497",
   "metadata": {},
   "source": [
    "#### Insert at the beginning of the Linked List"
   ]
  },
  {
   "cell_type": "code",
   "execution_count": 17,
   "id": "5fb995b9",
   "metadata": {},
   "outputs": [],
   "source": [
    "def insertBeginLinkedLis(head,x):\n",
    "    temp = Node(x)\n",
    "    temp.next = head\n",
    "    printList(temp)\n",
    "    return temp\n"
   ]
  },
  {
   "cell_type": "code",
   "execution_count": 18,
   "id": "6a34272c",
   "metadata": {},
   "outputs": [],
   "source": [
    "head = Node(7)\n",
    "head.next = Node(8)\n",
    "head.next.next = Node(10)\n",
    "head.next.next.next = Node(18)"
   ]
  },
  {
   "cell_type": "code",
   "execution_count": 19,
   "id": "e03fb016",
   "metadata": {},
   "outputs": [
    {
     "name": "stdout",
     "output_type": "stream",
     "text": [
      "5 7 8 10 18 "
     ]
    }
   ],
   "source": [
    "head = insertBeginLinkedLis(head,5)"
   ]
  },
  {
   "cell_type": "code",
   "execution_count": 20,
   "id": "0c74d695",
   "metadata": {},
   "outputs": [
    {
     "name": "stdout",
     "output_type": "stream",
     "text": [
      "20 5 7 8 10 18 "
     ]
    }
   ],
   "source": [
    "head = insertBeginLinkedLis(head,20)"
   ]
  },
  {
   "cell_type": "markdown",
   "id": "7fe9bfa2",
   "metadata": {},
   "source": [
    "#### insertAtTheEnd"
   ]
  },
  {
   "cell_type": "code",
   "execution_count": 21,
   "id": "03795c92",
   "metadata": {},
   "outputs": [],
   "source": [
    "def insertAtTheEnd(head, x):\n",
    "    if head == None:\n",
    "        return Node(x)\n",
    "    curr = head\n",
    "    while curr.next != None:\n",
    "        curr = curr.next\n",
    "    curr.next = Node(x)\n",
    "    printList(curr)\n",
    "    return head\n",
    "            "
   ]
  },
  {
   "cell_type": "code",
   "execution_count": 22,
   "id": "1b4e9d01",
   "metadata": {},
   "outputs": [],
   "source": [
    "head = Node(7)\n",
    "head.next = Node(8)\n",
    "head.next.next = Node(10)\n",
    "head.next.next.next = Node(18)"
   ]
  },
  {
   "cell_type": "code",
   "execution_count": 23,
   "id": "ac9303b5",
   "metadata": {},
   "outputs": [
    {
     "name": "stdout",
     "output_type": "stream",
     "text": [
      "18 10 "
     ]
    },
    {
     "data": {
      "text/plain": [
       "<__main__.Node at 0x2645f163c40>"
      ]
     },
     "execution_count": 23,
     "metadata": {},
     "output_type": "execute_result"
    }
   ],
   "source": [
    "insertAtTheEnd(head,10)"
   ]
  },
  {
   "cell_type": "markdown",
   "id": "f87bfe4e",
   "metadata": {},
   "source": [
    "#### Insert At the Position"
   ]
  },
  {
   "cell_type": "code",
   "execution_count": 24,
   "id": "56c24081",
   "metadata": {},
   "outputs": [],
   "source": [
    "def insertAtPosition1(head, pos, x):\n",
    "    curr = head\n",
    "    count = 0\n",
    "    temp = Node(x)\n",
    "    while curr != None:\n",
    "        count += 1\n",
    "        if count == pos:\n",
    "            temp.next = curr.next\n",
    "            curr.next = temp\n",
    "            return head\n",
    "        curr = curr.next\n",
    "    "
   ]
  },
  {
   "cell_type": "code",
   "execution_count": 25,
   "id": "94b0a889",
   "metadata": {},
   "outputs": [
    {
     "name": "stdout",
     "output_type": "stream",
     "text": [
      "7 8 10 18 10 "
     ]
    }
   ],
   "source": [
    "printList(head)"
   ]
  },
  {
   "cell_type": "code",
   "execution_count": 26,
   "id": "7efba448",
   "metadata": {},
   "outputs": [],
   "source": [
    "q = insertAtPosition1(head, 4, 23)"
   ]
  },
  {
   "cell_type": "code",
   "execution_count": 27,
   "id": "dd58797e",
   "metadata": {},
   "outputs": [
    {
     "name": "stdout",
     "output_type": "stream",
     "text": [
      "7 8 10 18 23 10 "
     ]
    }
   ],
   "source": [
    "printList(q)"
   ]
  },
  {
   "cell_type": "code",
   "execution_count": 28,
   "id": "b0e015f7",
   "metadata": {},
   "outputs": [],
   "source": [
    "def insertAtPosition2(head, pos, x):\n",
    "    node=Node(x)\n",
    "    i=1\n",
    "    while head and i<pos:\n",
    "        i+=1\n",
    "        head=head.next\n",
    "    if head:\n",
    "        node.next=head.next\n",
    "        head.next=node\n",
    "    return head"
   ]
  },
  {
   "cell_type": "code",
   "execution_count": 29,
   "id": "a23ad594",
   "metadata": {},
   "outputs": [
    {
     "name": "stdout",
     "output_type": "stream",
     "text": [
      "7 8 10 18 23 10 "
     ]
    }
   ],
   "source": [
    "printList(head)"
   ]
  },
  {
   "cell_type": "code",
   "execution_count": 30,
   "id": "a7f1ff79",
   "metadata": {},
   "outputs": [
    {
     "data": {
      "text/plain": [
       "<__main__.Node at 0x2645f1635e0>"
      ]
     },
     "execution_count": 30,
     "metadata": {},
     "output_type": "execute_result"
    }
   ],
   "source": [
    "insertAtPosition2(head, 6, 88)"
   ]
  },
  {
   "cell_type": "code",
   "execution_count": 31,
   "id": "4b7bca58",
   "metadata": {},
   "outputs": [
    {
     "name": "stdout",
     "output_type": "stream",
     "text": [
      "7 8 10 18 23 10 88 "
     ]
    }
   ],
   "source": [
    "printList(head)"
   ]
  },
  {
   "cell_type": "markdown",
   "id": "5ef5aa83",
   "metadata": {},
   "source": [
    "#### Delete head node in Linked List"
   ]
  },
  {
   "cell_type": "code",
   "execution_count": 32,
   "id": "52d2f5ee",
   "metadata": {},
   "outputs": [],
   "source": [
    "def DeleteHeadNode(head):\n",
    "    if head == None:\n",
    "        return None\n",
    "    else:\n",
    "        printList(head.next)\n",
    "        return head.next"
   ]
  },
  {
   "cell_type": "code",
   "execution_count": 33,
   "id": "0c7de79a",
   "metadata": {},
   "outputs": [
    {
     "name": "stdout",
     "output_type": "stream",
     "text": [
      "7 8 10 18 23 10 88 "
     ]
    }
   ],
   "source": [
    "printList(head)"
   ]
  },
  {
   "cell_type": "code",
   "execution_count": 34,
   "id": "159e4281",
   "metadata": {},
   "outputs": [
    {
     "name": "stdout",
     "output_type": "stream",
     "text": [
      "8 10 18 23 10 88 "
     ]
    },
    {
     "data": {
      "text/plain": [
       "<__main__.Node at 0x2645f162f50>"
      ]
     },
     "execution_count": 34,
     "metadata": {},
     "output_type": "execute_result"
    }
   ],
   "source": [
    "DeleteHeadNode(head)"
   ]
  },
  {
   "cell_type": "markdown",
   "id": "7e9fa569",
   "metadata": {},
   "source": [
    "#### Delete Last Node in Linked List"
   ]
  },
  {
   "cell_type": "code",
   "execution_count": 35,
   "id": "013612d1",
   "metadata": {},
   "outputs": [],
   "source": [
    "def DeleteLastNode(head):\n",
    "    if head == None:\n",
    "        return None\n",
    "    if head.next == None:\n",
    "        return None\n",
    "    curr = head\n",
    "    while curr.next.next != None:    # till last second loop\n",
    "        curr = curr.next\n",
    "    curr.next = None\n",
    "    return head"
   ]
  },
  {
   "cell_type": "code",
   "execution_count": 36,
   "id": "176e42eb",
   "metadata": {},
   "outputs": [
    {
     "name": "stdout",
     "output_type": "stream",
     "text": [
      "7 8 10 18 23 10 88 "
     ]
    }
   ],
   "source": [
    "printList(head)"
   ]
  },
  {
   "cell_type": "code",
   "execution_count": 37,
   "id": "93bf5881",
   "metadata": {},
   "outputs": [],
   "source": [
    "k = DeleteLastNode(head)"
   ]
  },
  {
   "cell_type": "code",
   "execution_count": 38,
   "id": "77642b37",
   "metadata": {},
   "outputs": [
    {
     "name": "stdout",
     "output_type": "stream",
     "text": [
      "7 8 10 18 23 10 "
     ]
    }
   ],
   "source": [
    "printList(k)"
   ]
  },
  {
   "cell_type": "code",
   "execution_count": 39,
   "id": "03f37049",
   "metadata": {},
   "outputs": [
    {
     "name": "stdout",
     "output_type": "stream",
     "text": [
      "7 8 10 18 23 10 "
     ]
    }
   ],
   "source": [
    "printList(head)"
   ]
  },
  {
   "cell_type": "markdown",
   "id": "700c360c",
   "metadata": {},
   "source": [
    "#### Delete a node with pointer given to it"
   ]
  },
  {
   "cell_type": "code",
   "execution_count": 40,
   "id": "b85b61e5",
   "metadata": {},
   "outputs": [],
   "source": [
    "def DeletePointer(ptr):\n",
    "    temp = ptr.next\n",
    "    ptr.k = temp.k\n",
    "    ptr.next = temp.next\n",
    "    return ptr"
   ]
  },
  {
   "cell_type": "code",
   "execution_count": 41,
   "id": "e6b58999",
   "metadata": {},
   "outputs": [
    {
     "name": "stdout",
     "output_type": "stream",
     "text": [
      "7 8 10 18 23 10 "
     ]
    }
   ],
   "source": [
    "printList(head)"
   ]
  },
  {
   "cell_type": "code",
   "execution_count": 42,
   "id": "890b6c00",
   "metadata": {},
   "outputs": [
    {
     "data": {
      "text/plain": [
       "<__main__.Node at 0x2645f161150>"
      ]
     },
     "execution_count": 42,
     "metadata": {},
     "output_type": "execute_result"
    }
   ],
   "source": [
    "DeletePointer(head.next.next)"
   ]
  },
  {
   "cell_type": "code",
   "execution_count": 43,
   "id": "e39c7dbf",
   "metadata": {},
   "outputs": [
    {
     "name": "stdout",
     "output_type": "stream",
     "text": [
      "7 8 18 23 10 "
     ]
    }
   ],
   "source": [
    "printList(head)"
   ]
  },
  {
   "cell_type": "markdown",
   "id": "77d7cb4c",
   "metadata": {},
   "source": [
    "#### Sorted Insert Linked List"
   ]
  },
  {
   "cell_type": "code",
   "execution_count": 44,
   "id": "0c81fcf2",
   "metadata": {},
   "outputs": [],
   "source": [
    "sortedLinkedList = Node(9)\n",
    "sortedLinkedList.next = Node(12)\n",
    "sortedLinkedList.next.next = Node(15)\n",
    "sortedLinkedList.next.next.next = Node(25)\n",
    "sortedLinkedList.next.next.next.next = Node(50)"
   ]
  },
  {
   "cell_type": "code",
   "execution_count": 45,
   "id": "624401a9",
   "metadata": {},
   "outputs": [],
   "source": [
    "def SortedInsert(head, x):\n",
    "    temp = Node(x)\n",
    "    if head == None:\n",
    "        return temp\n",
    "    elif x < head.k:\n",
    "        temp.next = head\n",
    "        return temp\n",
    "    else:\n",
    "        curr = head\n",
    "        while curr.next != None and curr.next.k < x:\n",
    "            curr = curr.next\n",
    "        temp.next = curr.next\n",
    "        curr.next = temp\n",
    "        return head\n",
    "    \n",
    "        \n",
    "    "
   ]
  },
  {
   "cell_type": "code",
   "execution_count": 46,
   "id": "a3c99b5f",
   "metadata": {},
   "outputs": [
    {
     "name": "stdout",
     "output_type": "stream",
     "text": [
      "9 12 15 25 50 "
     ]
    }
   ],
   "source": [
    "printList(sortedLinkedList)"
   ]
  },
  {
   "cell_type": "code",
   "execution_count": 47,
   "id": "0bda7977",
   "metadata": {},
   "outputs": [
    {
     "name": "stdout",
     "output_type": "stream",
     "text": [
      "9 12 15 25 50 60 "
     ]
    }
   ],
   "source": [
    "printList(SortedInsert(sortedLinkedList, 60))"
   ]
  },
  {
   "cell_type": "markdown",
   "id": "6d9ab070",
   "metadata": {},
   "source": [
    "#### Find Middle Of Linked List"
   ]
  },
  {
   "cell_type": "code",
   "execution_count": 48,
   "id": "92d41aff",
   "metadata": {},
   "outputs": [],
   "source": [
    "def MiddleLinkedLIst1(head):\n",
    "    if head == None:\n",
    "        return\n",
    "    count = 0\n",
    "    curr = head\n",
    "    while curr:\n",
    "        curr = curr.next\n",
    "        count += 1\n",
    "    curr = head\n",
    "    for i in range(count//2):\n",
    "        curr = curr.next\n",
    "    return curr.k"
   ]
  },
  {
   "cell_type": "code",
   "execution_count": 49,
   "id": "3f74ab87",
   "metadata": {},
   "outputs": [
    {
     "name": "stdout",
     "output_type": "stream",
     "text": [
      "9 12 15 25 50 60 "
     ]
    }
   ],
   "source": [
    "printList(sortedLinkedList) # even number"
   ]
  },
  {
   "cell_type": "code",
   "execution_count": 50,
   "id": "9332011d",
   "metadata": {},
   "outputs": [
    {
     "data": {
      "text/plain": [
       "25"
      ]
     },
     "execution_count": 50,
     "metadata": {},
     "output_type": "execute_result"
    }
   ],
   "source": [
    "MiddleLinkedLIst1(sortedLinkedList)"
   ]
  },
  {
   "cell_type": "code",
   "execution_count": 51,
   "id": "dd55fbe8",
   "metadata": {},
   "outputs": [],
   "source": [
    "sortedLinkedList.next.next.next.next.next.next = Node(90)"
   ]
  },
  {
   "cell_type": "code",
   "execution_count": 52,
   "id": "78342a88",
   "metadata": {},
   "outputs": [
    {
     "name": "stdout",
     "output_type": "stream",
     "text": [
      "9 12 15 25 50 60 90 "
     ]
    }
   ],
   "source": [
    "printList(sortedLinkedList) # odd number"
   ]
  },
  {
   "cell_type": "code",
   "execution_count": 53,
   "id": "d27fa3ef",
   "metadata": {},
   "outputs": [
    {
     "data": {
      "text/plain": [
       "25"
      ]
     },
     "execution_count": 53,
     "metadata": {},
     "output_type": "execute_result"
    }
   ],
   "source": [
    "MiddleLinkedLIst1(sortedLinkedList)"
   ]
  },
  {
   "cell_type": "code",
   "execution_count": 54,
   "id": "6e65ab91",
   "metadata": {},
   "outputs": [],
   "source": [
    "def MiddleLinkedLIst2(head):\n",
    "    if head == None:\n",
    "        return\n",
    "    slow = head\n",
    "    fast = head\n",
    "    while fast != None and fast.next != None:\n",
    "        slow = slow.next\n",
    "        fast = fast.next.next\n",
    "    return slow.k"
   ]
  },
  {
   "cell_type": "code",
   "execution_count": 55,
   "id": "99fe176d",
   "metadata": {},
   "outputs": [
    {
     "name": "stdout",
     "output_type": "stream",
     "text": [
      "9 12 15 25 50 60 90 "
     ]
    }
   ],
   "source": [
    "printList(sortedLinkedList)"
   ]
  },
  {
   "cell_type": "code",
   "execution_count": 56,
   "id": "c4cd9db1",
   "metadata": {},
   "outputs": [
    {
     "data": {
      "text/plain": [
       "25"
      ]
     },
     "execution_count": 56,
     "metadata": {},
     "output_type": "execute_result"
    }
   ],
   "source": [
    "MiddleLinkedLIst2(sortedLinkedList)"
   ]
  },
  {
   "cell_type": "markdown",
   "id": "d201f699",
   "metadata": {},
   "source": [
    "#### Nth Node from end of linkedlist"
   ]
  },
  {
   "cell_type": "code",
   "execution_count": 58,
   "id": "d7ba9229",
   "metadata": {},
   "outputs": [],
   "source": [
    "def nthNode(head,pos):\n",
    "    curr = head\n",
    "    count = 0\n",
    "    while curr != None:\n",
    "        curr = curr.next\n",
    "        count += 1\n",
    "    if pos > count:\n",
    "        return\n",
    "    else:\n",
    "        curr = head\n",
    "        n = count - (pos + 1)\n",
    "        while n != -1:\n",
    "            curr = curr.next\n",
    "            print(n)\n",
    "            n -= 1\n",
    "        return curr.k"
   ]
  },
  {
   "cell_type": "code",
   "execution_count": 59,
   "id": "fbcd440f",
   "metadata": {},
   "outputs": [
    {
     "name": "stdout",
     "output_type": "stream",
     "text": [
      "7 8 18 23 10 "
     ]
    }
   ],
   "source": [
    "printList(head)"
   ]
  },
  {
   "cell_type": "code",
   "execution_count": 60,
   "id": "ba730ed8",
   "metadata": {},
   "outputs": [],
   "source": [
    "nthNode(head,18)"
   ]
  },
  {
   "cell_type": "code",
   "execution_count": 61,
   "id": "048231dc",
   "metadata": {},
   "outputs": [],
   "source": [
    "def nthNode2(head, pos):\n",
    "    curr = head\n",
    "    for _ in range(pos):\n",
    "        first = curr.next\n",
    "        curr = curr.next\n",
    "    second = head\n",
    "    while first != None:\n",
    "        second = second.next\n",
    "        first = first.next\n",
    "    return second.k"
   ]
  },
  {
   "cell_type": "code",
   "execution_count": 62,
   "id": "e8b49971",
   "metadata": {},
   "outputs": [
    {
     "name": "stdout",
     "output_type": "stream",
     "text": [
      "9 12 15 25 50 60 90 "
     ]
    }
   ],
   "source": [
    "printList(sortedLinkedList)"
   ]
  },
  {
   "cell_type": "code",
   "execution_count": 63,
   "id": "3a27c172",
   "metadata": {},
   "outputs": [
    {
     "data": {
      "text/plain": [
       "15"
      ]
     },
     "execution_count": 63,
     "metadata": {},
     "output_type": "execute_result"
    }
   ],
   "source": [
    "nthNode2(sortedLinkedList,5)"
   ]
  },
  {
   "cell_type": "markdown",
   "id": "913ff377",
   "metadata": {},
   "source": [
    "#### Remove duplicates from a sorted Singly Linked List"
   ]
  },
  {
   "cell_type": "code",
   "execution_count": 65,
   "id": "6d74cc4d",
   "metadata": {},
   "outputs": [
    {
     "name": "stdout",
     "output_type": "stream",
     "text": [
      "9 12 12 12 50 50 60 50 "
     ]
    }
   ],
   "source": [
    "DuplicateSortedLinkedList = createNode([9,12,12,12,50,50,60,50])"
   ]
  },
  {
   "cell_type": "code",
   "execution_count": 66,
   "id": "8d638c9c",
   "metadata": {},
   "outputs": [],
   "source": [
    "def remDuplicates(head):\n",
    "    curr = head\n",
    "    while curr!= None and curr.next != None:\n",
    "        if curr.k == curr.next.k:\n",
    "            curr.next = curr.next.next\n",
    "        else:\n",
    "            curr = curr.next\n",
    "    return head"
   ]
  },
  {
   "cell_type": "code",
   "execution_count": 67,
   "id": "56306c13",
   "metadata": {},
   "outputs": [
    {
     "name": "stdout",
     "output_type": "stream",
     "text": [
      "9 12 12 12 50 50 60 50 "
     ]
    }
   ],
   "source": [
    "printList(DuplicateSortedLinkedList)"
   ]
  },
  {
   "cell_type": "code",
   "execution_count": 68,
   "id": "22c4de24",
   "metadata": {},
   "outputs": [
    {
     "name": "stdout",
     "output_type": "stream",
     "text": [
      "9 12 50 60 50 "
     ]
    }
   ],
   "source": [
    "printList(remDuplicates(DuplicateSortedLinkedList))"
   ]
  },
  {
   "cell_type": "markdown",
   "id": "fd92d99d",
   "metadata": {},
   "source": [
    "#### Reverse a Linked List (Naive Solution)"
   ]
  },
  {
   "cell_type": "code",
   "execution_count": 71,
   "id": "61c23b5f",
   "metadata": {},
   "outputs": [],
   "source": [
    "def reverseNaive(head):\n",
    "    stack = []\n",
    "    curr = head\n",
    "    while curr != None:\n",
    "        stack.append(curr.k)\n",
    "        curr = curr.next\n",
    "    curr = head\n",
    "    while curr != None:\n",
    "        curr.k = stack.pop()\n",
    "        curr = curr.next\n",
    "    printList(head)\n",
    "    return head"
   ]
  },
  {
   "cell_type": "code",
   "execution_count": 72,
   "id": "ffb1cb38",
   "metadata": {},
   "outputs": [
    {
     "name": "stdout",
     "output_type": "stream",
     "text": [
      "10 50 60 100 "
     ]
    }
   ],
   "source": [
    "sample = createNode([10,50,60,100])"
   ]
  },
  {
   "cell_type": "code",
   "execution_count": 73,
   "id": "db1a63fa",
   "metadata": {},
   "outputs": [
    {
     "name": "stdout",
     "output_type": "stream",
     "text": [
      "10 50 60 100 "
     ]
    }
   ],
   "source": [
    "printList(sample)"
   ]
  },
  {
   "cell_type": "code",
   "execution_count": 74,
   "id": "095f9ae0",
   "metadata": {},
   "outputs": [
    {
     "name": "stdout",
     "output_type": "stream",
     "text": [
      "100 60 50 10 "
     ]
    },
    {
     "data": {
      "text/plain": [
       "<__main__.Node at 0x2645f1d2ef0>"
      ]
     },
     "execution_count": 74,
     "metadata": {},
     "output_type": "execute_result"
    }
   ],
   "source": [
    "reverseNaive(sample)"
   ]
  },
  {
   "cell_type": "markdown",
   "id": "5c80fe51",
   "metadata": {},
   "source": [
    "#### Reverse Linked List Efficient Solution"
   ]
  },
  {
   "cell_type": "code",
   "execution_count": 76,
   "id": "1c099e03",
   "metadata": {},
   "outputs": [],
   "source": [
    "def reverseLinkedList(head):\n",
    "    curr = head\n",
    "    prev = None\n",
    "    while curr != None:\n",
    "        nextl = curr.next\n",
    "        curr.next = prev\n",
    "        prev = curr\n",
    "        curr = nextl\n",
    "    printList(prev)\n",
    "    return prev"
   ]
  },
  {
   "cell_type": "code",
   "execution_count": 77,
   "id": "293b71de",
   "metadata": {},
   "outputs": [
    {
     "name": "stdout",
     "output_type": "stream",
     "text": [
      "12 10 4 1 "
     ]
    }
   ],
   "source": [
    "sample = createNode([12,10,4,1])"
   ]
  },
  {
   "cell_type": "code",
   "execution_count": 78,
   "id": "d0cfa62a",
   "metadata": {},
   "outputs": [
    {
     "name": "stdout",
     "output_type": "stream",
     "text": [
      "1 4 10 12 "
     ]
    },
    {
     "data": {
      "text/plain": [
       "<__main__.Node at 0x2645f1f0bb0>"
      ]
     },
     "execution_count": 78,
     "metadata": {},
     "output_type": "execute_result"
    }
   ],
   "source": [
    "reverseLinkedList(sample)"
   ]
  },
  {
   "cell_type": "markdown",
   "id": "6d180bb5",
   "metadata": {},
   "source": [
    "#### Recursive Reverse A Linked List (Part 1)"
   ]
  },
  {
   "cell_type": "code",
   "execution_count": 110,
   "id": "abdaaca6",
   "metadata": {},
   "outputs": [],
   "source": [
    "def RecReverseLinkedList1(head):\n",
    "    if head == None:\n",
    "        return head\n",
    "    if head.next == None:\n",
    "        return head\n",
    "    rev_head = RecReverseLinkedList1(head.next)\n",
    "    rev_tail = head.next\n",
    "    rev_tail.next = head\n",
    "    head.next = None\n",
    "    return rev_head"
   ]
  },
  {
   "cell_type": "code",
   "execution_count": 121,
   "id": "fd8b0b08",
   "metadata": {},
   "outputs": [
    {
     "name": "stdout",
     "output_type": "stream",
     "text": [
      "12 15 16 18 20 22 "
     ]
    }
   ],
   "source": [
    "l1 = createNode([12,15,16,18,20,22])"
   ]
  },
  {
   "cell_type": "code",
   "execution_count": 122,
   "id": "bc5985bd",
   "metadata": {},
   "outputs": [],
   "source": [
    "head = RecReverseLinkedList1(l1)"
   ]
  },
  {
   "cell_type": "code",
   "execution_count": 123,
   "id": "42974f3b",
   "metadata": {},
   "outputs": [
    {
     "name": "stdout",
     "output_type": "stream",
     "text": [
      "22 20 18 16 15 12 "
     ]
    }
   ],
   "source": [
    "printList(head)"
   ]
  },
  {
   "cell_type": "markdown",
   "id": "be7a1141",
   "metadata": {},
   "source": [
    "#### Recursive Reverse A Linked List(Part 2)"
   ]
  },
  {
   "cell_type": "code",
   "execution_count": 126,
   "id": "1c4b83b7",
   "metadata": {},
   "outputs": [],
   "source": [
    "def RecReverseLinkedList2(curr, prev=None):\n",
    "    if curr == None:\n",
    "        return prev\n",
    "    nextl = curr.next\n",
    "    curr.next = prev\n",
    "    return RecReverseLinkedList2(nextl, curr)"
   ]
  },
  {
   "cell_type": "code",
   "execution_count": 130,
   "id": "714f0a80",
   "metadata": {},
   "outputs": [
    {
     "name": "stdout",
     "output_type": "stream",
     "text": [
      "12 15 16 18 20 22 "
     ]
    }
   ],
   "source": [
    "l2 = createNode([12,15,16,18,20,22])"
   ]
  },
  {
   "cell_type": "code",
   "execution_count": 131,
   "id": "c95812cc",
   "metadata": {},
   "outputs": [
    {
     "name": "stdout",
     "output_type": "stream",
     "text": [
      "22 20 18 16 15 12 "
     ]
    }
   ],
   "source": [
    "printList(RecReverseLinkedList2(l2))"
   ]
  },
  {
   "cell_type": "code",
   "execution_count": null,
   "id": "6065215f",
   "metadata": {},
   "outputs": [],
   "source": []
  }
 ],
 "metadata": {
  "kernelspec": {
   "display_name": "Python 3 (ipykernel)",
   "language": "python",
   "name": "python3"
  },
  "language_info": {
   "codemirror_mode": {
    "name": "ipython",
    "version": 3
   },
   "file_extension": ".py",
   "mimetype": "text/x-python",
   "name": "python",
   "nbconvert_exporter": "python",
   "pygments_lexer": "ipython3",
   "version": "3.10.6"
  }
 },
 "nbformat": 4,
 "nbformat_minor": 5
}

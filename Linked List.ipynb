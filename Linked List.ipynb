{
 "cells": [
  {
   "cell_type": "code",
   "execution_count": 133,
   "id": "9fa2ee38",
   "metadata": {},
   "outputs": [],
   "source": [
    "from imp_personal import *"
   ]
  },
  {
   "cell_type": "code",
   "execution_count": 134,
   "id": "bf52f4a8",
   "metadata": {},
   "outputs": [],
   "source": [
    "c = MyFunction()"
   ]
  },
  {
   "cell_type": "markdown",
   "id": "4f50a075",
   "metadata": {},
   "source": [
    "# Linked List\n",
    "\n",
    "Like arrays, Linked List is a linear data structure. Unlike arrays, linked list elements are not stored at a contiguous location; the elements are linked using pointers. They include a series of connected nodes. Here, each node stores the data and the address of the next node\n",
    "\n",
    "Arrays have following limitations:\n",
    "\n",
    "* The size of the arrays is fixed: So we must know the upper limit on the number of elements in advance. Also, generally, the allocated memory is equal to the upper limit irrespective of the usage. \n",
    "* Insertion of a new element / Deletion of a existing element in an array of elements is expensive: The room has to be created for the new elements and to create room existing elements have to be shifted but in Linked list if we have the head node then we can traverse to any node through it and insert new node at the required position.\n",
    "\n",
    "\n",
    "\n",
    "1. [Traversing a linked list](#Traversing-a-linked-list)\n",
    "7. [Search in Linked List](#Search-in-Linked-List)\n",
    "7. [Sum The Nodes of Linked List](#Sum-The-Nodes-of-Linked-List)\n",
    "7. [Insert at the beginning of the Linked List](#Insert-at-the-beginning-of-the-Linked-List)\n",
    "7. [Insert At the Position](#Insert-At-the-Position)\n",
    "7. [Delete head node in Linked List](#Delete-head-node-in-Linked-List)\n",
    "7. [Delete Last Node in Linked List](#Delete-Last-Node-in-Linked-List)\n",
    "7. [Delete a node with pointer given to it](#Delete-a-node-with-pointer-given-to-it)\n",
    "7. [Sorted Insert Linked List](#Sorted-Insert-Linked-List)\n",
    "7. [Find Middle Of Linked List](#Find-Middle-Of-Linked-List)"
   ]
  },
  {
   "cell_type": "markdown",
   "id": "1b63a433",
   "metadata": {},
   "source": [
    "## Simple Linked List"
   ]
  },
  {
   "cell_type": "code",
   "execution_count": 135,
   "id": "a4fd0934",
   "metadata": {},
   "outputs": [],
   "source": [
    "class Node:\n",
    "    def __init__(self,k):\n",
    "        self.k = k\n",
    "        self.next = None"
   ]
  },
  {
   "cell_type": "code",
   "execution_count": 136,
   "id": "0d69a188",
   "metadata": {},
   "outputs": [],
   "source": [
    "temp1 = Node(1)\n",
    "temp2 = Node(2)\n",
    "temp3 = Node(4)"
   ]
  },
  {
   "cell_type": "code",
   "execution_count": 137,
   "id": "de38444a",
   "metadata": {},
   "outputs": [],
   "source": [
    "temp1.next = temp2\n",
    "temp2.next = temp3"
   ]
  },
  {
   "cell_type": "code",
   "execution_count": 138,
   "id": "a13aca0e",
   "metadata": {},
   "outputs": [],
   "source": [
    "head = temp1"
   ]
  },
  {
   "cell_type": "code",
   "execution_count": 139,
   "id": "4ec85959",
   "metadata": {},
   "outputs": [],
   "source": [
    "# alternate way\n",
    "\n",
    "head = Node(8)\n",
    "head.next = Node(9)\n",
    "head.next.next = Node(10)"
   ]
  },
  {
   "cell_type": "markdown",
   "id": "e33ae249",
   "metadata": {},
   "source": [
    "#### Traversing a linked list "
   ]
  },
  {
   "cell_type": "code",
   "execution_count": 140,
   "id": "e65ad48d",
   "metadata": {},
   "outputs": [],
   "source": [
    "class Node:\n",
    "    def __init__(self,k):\n",
    "        self.k = k\n",
    "        self.next = None"
   ]
  },
  {
   "cell_type": "code",
   "execution_count": 141,
   "id": "bead5b98",
   "metadata": {},
   "outputs": [],
   "source": [
    "def printList(head):\n",
    "    curr = head\n",
    "    while curr != None:\n",
    "        print(curr.k, end=\" \")\n",
    "        curr = curr.next"
   ]
  },
  {
   "cell_type": "code",
   "execution_count": 142,
   "id": "d75ce415",
   "metadata": {},
   "outputs": [
    {
     "name": "stdout",
     "output_type": "stream",
     "text": [
      "8 9 10 "
     ]
    }
   ],
   "source": [
    "printList(head)"
   ]
  },
  {
   "cell_type": "markdown",
   "id": "6b1f061e",
   "metadata": {},
   "source": [
    "#### Search in Linked List"
   ]
  },
  {
   "cell_type": "code",
   "execution_count": 143,
   "id": "6191c7f1",
   "metadata": {},
   "outputs": [],
   "source": [
    "def searchLinkedList(head, x):\n",
    "    curr = head\n",
    "    count = 0\n",
    "    while curr != None:\n",
    "        count += 1\n",
    "        if x == curr.k:\n",
    "            return count\n",
    "        curr = curr.next\n",
    "    return -1\n",
    "        \n",
    "    "
   ]
  },
  {
   "cell_type": "code",
   "execution_count": 144,
   "id": "50dc96b8",
   "metadata": {},
   "outputs": [],
   "source": [
    "head = Node(4)\n",
    "head.next = Node(7)\n",
    "head.next.next = Node(10)\n",
    "head.next.next.next = Node(18)\n",
    "head.next.next.next.next = Node(19)"
   ]
  },
  {
   "cell_type": "code",
   "execution_count": 145,
   "id": "735bfa23",
   "metadata": {},
   "outputs": [
    {
     "data": {
      "text/plain": [
       "4"
      ]
     },
     "execution_count": 145,
     "metadata": {},
     "output_type": "execute_result"
    }
   ],
   "source": [
    "searchLinkedList(head, 18)"
   ]
  },
  {
   "cell_type": "code",
   "execution_count": 146,
   "id": "759fdb56",
   "metadata": {},
   "outputs": [
    {
     "data": {
      "text/plain": [
       "-1"
      ]
     },
     "execution_count": 146,
     "metadata": {},
     "output_type": "execute_result"
    }
   ],
   "source": [
    "searchLinkedList(head,1)"
   ]
  },
  {
   "cell_type": "markdown",
   "id": "a1557444",
   "metadata": {},
   "source": [
    "#### Sum The Nodes of Linked List"
   ]
  },
  {
   "cell_type": "code",
   "execution_count": 147,
   "id": "2a29715a",
   "metadata": {},
   "outputs": [],
   "source": [
    "def sumOfElements(head):\n",
    "    #code here\n",
    "    curr = head\n",
    "    sum = 0\n",
    "    while curr != None:\n",
    "        sum += curr.data\n",
    "        curr = curr.next\n",
    "    return sum"
   ]
  },
  {
   "cell_type": "markdown",
   "id": "6a06e497",
   "metadata": {},
   "source": [
    "#### Insert at the beginning of the Linked List"
   ]
  },
  {
   "cell_type": "code",
   "execution_count": 148,
   "id": "5fb995b9",
   "metadata": {},
   "outputs": [],
   "source": [
    "def insertBeginLinkedLis(head,x):\n",
    "    temp = Node(x)\n",
    "    temp.next = head\n",
    "    printList(temp)\n",
    "    return temp\n"
   ]
  },
  {
   "cell_type": "code",
   "execution_count": 149,
   "id": "6a34272c",
   "metadata": {},
   "outputs": [],
   "source": [
    "head = Node(7)\n",
    "head.next = Node(8)\n",
    "head.next.next = Node(10)\n",
    "head.next.next.next = Node(18)"
   ]
  },
  {
   "cell_type": "code",
   "execution_count": 150,
   "id": "e03fb016",
   "metadata": {},
   "outputs": [
    {
     "name": "stdout",
     "output_type": "stream",
     "text": [
      "5 7 8 10 18 "
     ]
    }
   ],
   "source": [
    "head = insertBeginLinkedLis(head,5)"
   ]
  },
  {
   "cell_type": "code",
   "execution_count": 151,
   "id": "0c74d695",
   "metadata": {},
   "outputs": [
    {
     "name": "stdout",
     "output_type": "stream",
     "text": [
      "20 5 7 8 10 18 "
     ]
    }
   ],
   "source": [
    "head = insertBeginLinkedLis(head,20)"
   ]
  },
  {
   "cell_type": "markdown",
   "id": "7fe9bfa2",
   "metadata": {},
   "source": [
    "#### insertAtTheEnd"
   ]
  },
  {
   "cell_type": "code",
   "execution_count": 152,
   "id": "03795c92",
   "metadata": {},
   "outputs": [],
   "source": [
    "def insertAtTheEnd(head, x):\n",
    "    if head == None:\n",
    "        return Node(x)\n",
    "    curr = head\n",
    "    while curr.next != None:\n",
    "        curr = curr.next\n",
    "    curr.next = Node(x)\n",
    "    printList(curr)\n",
    "    return head\n",
    "            "
   ]
  },
  {
   "cell_type": "code",
   "execution_count": 153,
   "id": "1b4e9d01",
   "metadata": {},
   "outputs": [],
   "source": [
    "head = Node(7)\n",
    "head.next = Node(8)\n",
    "head.next.next = Node(10)\n",
    "head.next.next.next = Node(18)"
   ]
  },
  {
   "cell_type": "code",
   "execution_count": 154,
   "id": "ac9303b5",
   "metadata": {},
   "outputs": [
    {
     "name": "stdout",
     "output_type": "stream",
     "text": [
      "18 10 "
     ]
    },
    {
     "data": {
      "text/plain": [
       "<__main__.Node at 0x219e3f87d00>"
      ]
     },
     "execution_count": 154,
     "metadata": {},
     "output_type": "execute_result"
    }
   ],
   "source": [
    "insertAtTheEnd(head,10)"
   ]
  },
  {
   "cell_type": "markdown",
   "id": "f87bfe4e",
   "metadata": {},
   "source": [
    "#### Insert At the Position"
   ]
  },
  {
   "cell_type": "code",
   "execution_count": 155,
   "id": "56c24081",
   "metadata": {},
   "outputs": [],
   "source": [
    "def insertAtPosition1(head, pos, x):\n",
    "    curr = head\n",
    "    count = 0\n",
    "    temp = Node(x)\n",
    "    while curr != None:\n",
    "        count += 1\n",
    "        if count == pos:\n",
    "            temp.next = curr.next\n",
    "            curr.next = temp\n",
    "            return head\n",
    "        curr = curr.next\n",
    "    "
   ]
  },
  {
   "cell_type": "code",
   "execution_count": 156,
   "id": "94b0a889",
   "metadata": {},
   "outputs": [
    {
     "name": "stdout",
     "output_type": "stream",
     "text": [
      "7 8 10 18 10 "
     ]
    }
   ],
   "source": [
    "printList(head)"
   ]
  },
  {
   "cell_type": "code",
   "execution_count": 157,
   "id": "7efba448",
   "metadata": {},
   "outputs": [],
   "source": [
    "q = insertAtPosition1(head, 4, 23)"
   ]
  },
  {
   "cell_type": "code",
   "execution_count": 158,
   "id": "dd58797e",
   "metadata": {},
   "outputs": [
    {
     "name": "stdout",
     "output_type": "stream",
     "text": [
      "7 8 10 18 23 10 "
     ]
    }
   ],
   "source": [
    "printList(q)"
   ]
  },
  {
   "cell_type": "code",
   "execution_count": 159,
   "id": "b0e015f7",
   "metadata": {},
   "outputs": [],
   "source": [
    "def insertAtPosition2(head, pos, x):\n",
    "    node=Node(x)\n",
    "    i=1\n",
    "    while head and i<pos:\n",
    "        i+=1\n",
    "        head=head.next\n",
    "    if head:\n",
    "        node.next=head.next\n",
    "        head.next=node\n",
    "    return head"
   ]
  },
  {
   "cell_type": "code",
   "execution_count": 160,
   "id": "a23ad594",
   "metadata": {},
   "outputs": [
    {
     "name": "stdout",
     "output_type": "stream",
     "text": [
      "7 8 10 18 23 10 "
     ]
    }
   ],
   "source": [
    "printList(head)"
   ]
  },
  {
   "cell_type": "code",
   "execution_count": 161,
   "id": "a7f1ff79",
   "metadata": {},
   "outputs": [
    {
     "data": {
      "text/plain": [
       "<__main__.Node at 0x219e3ca5210>"
      ]
     },
     "execution_count": 161,
     "metadata": {},
     "output_type": "execute_result"
    }
   ],
   "source": [
    "insertAtPosition2(head, 6, 88)"
   ]
  },
  {
   "cell_type": "code",
   "execution_count": 162,
   "id": "4b7bca58",
   "metadata": {},
   "outputs": [
    {
     "name": "stdout",
     "output_type": "stream",
     "text": [
      "7 8 10 18 23 10 88 "
     ]
    }
   ],
   "source": [
    "printList(head)"
   ]
  },
  {
   "cell_type": "markdown",
   "id": "5ef5aa83",
   "metadata": {},
   "source": [
    "#### Delete head node in Linked List"
   ]
  },
  {
   "cell_type": "code",
   "execution_count": 163,
   "id": "52d2f5ee",
   "metadata": {},
   "outputs": [],
   "source": [
    "def DeleteHeadNode(head):\n",
    "    if head == None:\n",
    "        return None\n",
    "    else:\n",
    "        printList(head.next)\n",
    "        return head.next"
   ]
  },
  {
   "cell_type": "code",
   "execution_count": 164,
   "id": "0c7de79a",
   "metadata": {},
   "outputs": [
    {
     "name": "stdout",
     "output_type": "stream",
     "text": [
      "7 8 10 18 23 10 88 "
     ]
    }
   ],
   "source": [
    "printList(head)"
   ]
  },
  {
   "cell_type": "code",
   "execution_count": 165,
   "id": "159e4281",
   "metadata": {},
   "outputs": [
    {
     "name": "stdout",
     "output_type": "stream",
     "text": [
      "8 10 18 23 10 88 "
     ]
    },
    {
     "data": {
      "text/plain": [
       "<__main__.Node at 0x219e3f87fd0>"
      ]
     },
     "execution_count": 165,
     "metadata": {},
     "output_type": "execute_result"
    }
   ],
   "source": [
    "DeleteHeadNode(head)"
   ]
  },
  {
   "cell_type": "markdown",
   "id": "7e9fa569",
   "metadata": {},
   "source": [
    "#### Delete Last Node in Linked List"
   ]
  },
  {
   "cell_type": "code",
   "execution_count": 166,
   "id": "013612d1",
   "metadata": {},
   "outputs": [],
   "source": [
    "def DeleteLastNode(head):\n",
    "    if head == None:\n",
    "        return None\n",
    "    if head.next == None:\n",
    "        return None\n",
    "    curr = head\n",
    "    while curr.next.next != None:    # till last second loop\n",
    "        curr = curr.next\n",
    "    curr.next = None\n",
    "    return head"
   ]
  },
  {
   "cell_type": "code",
   "execution_count": 167,
   "id": "176e42eb",
   "metadata": {},
   "outputs": [
    {
     "name": "stdout",
     "output_type": "stream",
     "text": [
      "7 8 10 18 23 10 88 "
     ]
    }
   ],
   "source": [
    "printList(head)"
   ]
  },
  {
   "cell_type": "code",
   "execution_count": 168,
   "id": "93bf5881",
   "metadata": {},
   "outputs": [],
   "source": [
    "k = DeleteLastNode(head)"
   ]
  },
  {
   "cell_type": "code",
   "execution_count": 169,
   "id": "77642b37",
   "metadata": {},
   "outputs": [
    {
     "name": "stdout",
     "output_type": "stream",
     "text": [
      "7 8 10 18 23 10 "
     ]
    }
   ],
   "source": [
    "printList(k)"
   ]
  },
  {
   "cell_type": "code",
   "execution_count": 170,
   "id": "03f37049",
   "metadata": {},
   "outputs": [
    {
     "name": "stdout",
     "output_type": "stream",
     "text": [
      "7 8 10 18 23 10 "
     ]
    }
   ],
   "source": [
    "printList(head)"
   ]
  },
  {
   "cell_type": "markdown",
   "id": "700c360c",
   "metadata": {},
   "source": [
    "#### Delete a node with pointer given to it"
   ]
  },
  {
   "cell_type": "code",
   "execution_count": 172,
   "id": "b85b61e5",
   "metadata": {},
   "outputs": [],
   "source": [
    "def DeletePointer(ptr):\n",
    "    temp = ptr.next\n",
    "    ptr.k = temp.k\n",
    "    ptr.next = temp.next\n",
    "    return ptr"
   ]
  },
  {
   "cell_type": "code",
   "execution_count": 173,
   "id": "e6b58999",
   "metadata": {},
   "outputs": [
    {
     "name": "stdout",
     "output_type": "stream",
     "text": [
      "7 8 10 18 23 10 "
     ]
    }
   ],
   "source": [
    "printList(head)"
   ]
  },
  {
   "cell_type": "code",
   "execution_count": 174,
   "id": "890b6c00",
   "metadata": {},
   "outputs": [
    {
     "data": {
      "text/plain": [
       "<__main__.Node at 0x219e3f87c40>"
      ]
     },
     "execution_count": 174,
     "metadata": {},
     "output_type": "execute_result"
    }
   ],
   "source": [
    "DeletePointer(head.next.next)"
   ]
  },
  {
   "cell_type": "code",
   "execution_count": 175,
   "id": "e39c7dbf",
   "metadata": {},
   "outputs": [
    {
     "name": "stdout",
     "output_type": "stream",
     "text": [
      "7 8 18 23 10 "
     ]
    }
   ],
   "source": [
    "printList(head)"
   ]
  },
  {
   "cell_type": "markdown",
   "id": "77d7cb4c",
   "metadata": {},
   "source": [
    "#### Sorted Insert Linked List"
   ]
  },
  {
   "cell_type": "code",
   "execution_count": 176,
   "id": "0c81fcf2",
   "metadata": {},
   "outputs": [],
   "source": [
    "sortedLinkedList = Node(9)\n",
    "sortedLinkedList.next = Node(12)\n",
    "sortedLinkedList.next.next = Node(15)\n",
    "sortedLinkedList.next.next.next = Node(25)\n",
    "sortedLinkedList.next.next.next.next = Node(50)"
   ]
  },
  {
   "cell_type": "code",
   "execution_count": 177,
   "id": "624401a9",
   "metadata": {},
   "outputs": [],
   "source": [
    "def SortedInsert(head, x):\n",
    "    temp = Node(x)\n",
    "    if head == None:\n",
    "        return temp\n",
    "    elif x < head.k:\n",
    "        temp.next = head\n",
    "        return temp\n",
    "    else:\n",
    "        curr = head\n",
    "        while curr.next != None and curr.next.k < x:\n",
    "            curr = curr.next\n",
    "        temp.next = curr.next\n",
    "        curr.next = temp\n",
    "        return head\n",
    "    \n",
    "        \n",
    "    "
   ]
  },
  {
   "cell_type": "code",
   "execution_count": 178,
   "id": "a3c99b5f",
   "metadata": {},
   "outputs": [
    {
     "name": "stdout",
     "output_type": "stream",
     "text": [
      "9 12 15 25 50 "
     ]
    }
   ],
   "source": [
    "printList(sortedLinkedList)"
   ]
  },
  {
   "cell_type": "code",
   "execution_count": 179,
   "id": "0bda7977",
   "metadata": {},
   "outputs": [
    {
     "name": "stdout",
     "output_type": "stream",
     "text": [
      "9 12 15 25 50 60 "
     ]
    }
   ],
   "source": [
    "printList(SortedInsert(sortedLinkedList, 60))"
   ]
  },
  {
   "cell_type": "markdown",
   "id": "6d9ab070",
   "metadata": {},
   "source": [
    "#### Find Middle Of Linked List"
   ]
  },
  {
   "cell_type": "code",
   "execution_count": 194,
   "id": "92d41aff",
   "metadata": {},
   "outputs": [],
   "source": [
    "def MiddleLinkedLIst1(head):\n",
    "    if head == None:\n",
    "        return\n",
    "    count = 0\n",
    "    curr = head\n",
    "    while curr:\n",
    "        curr = curr.next\n",
    "        count += 1\n",
    "    curr = head\n",
    "    for i in range(count//2):\n",
    "        curr = curr.next\n",
    "    return curr.k"
   ]
  },
  {
   "cell_type": "code",
   "execution_count": 195,
   "id": "3f74ab87",
   "metadata": {},
   "outputs": [
    {
     "name": "stdout",
     "output_type": "stream",
     "text": [
      "9 12 15 25 50 60 90 "
     ]
    }
   ],
   "source": [
    "printList(sortedLinkedList) # even number"
   ]
  },
  {
   "cell_type": "code",
   "execution_count": 196,
   "id": "9332011d",
   "metadata": {},
   "outputs": [
    {
     "data": {
      "text/plain": [
       "25"
      ]
     },
     "execution_count": 196,
     "metadata": {},
     "output_type": "execute_result"
    }
   ],
   "source": [
    "MiddleLinkedLIst1(sortedLinkedList)"
   ]
  },
  {
   "cell_type": "code",
   "execution_count": 197,
   "id": "dd55fbe8",
   "metadata": {},
   "outputs": [],
   "source": [
    "sortedLinkedList.next.next.next.next.next.next = Node(90)"
   ]
  },
  {
   "cell_type": "code",
   "execution_count": 198,
   "id": "78342a88",
   "metadata": {},
   "outputs": [
    {
     "name": "stdout",
     "output_type": "stream",
     "text": [
      "9 12 15 25 50 60 90 "
     ]
    }
   ],
   "source": [
    "printList(sortedLinkedList) # odd number"
   ]
  },
  {
   "cell_type": "code",
   "execution_count": 199,
   "id": "d27fa3ef",
   "metadata": {},
   "outputs": [
    {
     "data": {
      "text/plain": [
       "25"
      ]
     },
     "execution_count": 199,
     "metadata": {},
     "output_type": "execute_result"
    }
   ],
   "source": [
    "MiddleLinkedLIst(sortedLinkedList)"
   ]
  },
  {
   "cell_type": "code",
   "execution_count": 200,
   "id": "6e65ab91",
   "metadata": {},
   "outputs": [],
   "source": [
    "def MiddleLinkedLIst2(head):\n",
    "    if head == None:\n",
    "        return\n",
    "    slow = head\n",
    "    fast = head\n",
    "    while fast != None and fast.next != None:\n",
    "        slow = slow.next\n",
    "        fast = fast.next.next\n",
    "    return slow.k"
   ]
  },
  {
   "cell_type": "code",
   "execution_count": 201,
   "id": "99fe176d",
   "metadata": {},
   "outputs": [
    {
     "name": "stdout",
     "output_type": "stream",
     "text": [
      "9 12 15 25 50 60 90 "
     ]
    }
   ],
   "source": [
    "printList(sortedLinkedList)"
   ]
  },
  {
   "cell_type": "code",
   "execution_count": 202,
   "id": "c4cd9db1",
   "metadata": {},
   "outputs": [
    {
     "data": {
      "text/plain": [
       "25"
      ]
     },
     "execution_count": 202,
     "metadata": {},
     "output_type": "execute_result"
    }
   ],
   "source": [
    "MiddleLinkedLIst2(sortedLinkedList)"
   ]
  },
  {
   "cell_type": "code",
   "execution_count": 203,
   "id": "575ba798",
   "metadata": {},
   "outputs": [
    {
     "name": "stdout",
     "output_type": "stream",
     "text": [
      "7. [Delete a node with pointer given to it](#Delete-a-node-with-pointer-given-to-it)\n",
      "7. [Sorted Insert Linked List](#Sorted-Insert-Linked-List)\n",
      "7. [Find Middle Of Linked List](#Find-Middle-Of-Linked-List)\n"
     ]
    }
   ],
   "source": [
    "c.printArr()"
   ]
  },
  {
   "cell_type": "code",
   "execution_count": null,
   "id": "b564f6f4",
   "metadata": {},
   "outputs": [],
   "source": []
  },
  {
   "cell_type": "code",
   "execution_count": null,
   "id": "9baf1b0b",
   "metadata": {},
   "outputs": [],
   "source": []
  },
  {
   "cell_type": "code",
   "execution_count": null,
   "id": "94534b36",
   "metadata": {},
   "outputs": [],
   "source": []
  },
  {
   "cell_type": "code",
   "execution_count": null,
   "id": "7cfc0495",
   "metadata": {},
   "outputs": [],
   "source": []
  },
  {
   "cell_type": "code",
   "execution_count": null,
   "id": "abdaaca6",
   "metadata": {},
   "outputs": [],
   "source": []
  },
  {
   "cell_type": "code",
   "execution_count": null,
   "id": "fd8b0b08",
   "metadata": {},
   "outputs": [],
   "source": []
  },
  {
   "cell_type": "code",
   "execution_count": null,
   "id": "bc5985bd",
   "metadata": {},
   "outputs": [],
   "source": []
  },
  {
   "cell_type": "code",
   "execution_count": null,
   "id": "1c4b83b7",
   "metadata": {},
   "outputs": [],
   "source": []
  },
  {
   "cell_type": "code",
   "execution_count": null,
   "id": "714f0a80",
   "metadata": {},
   "outputs": [],
   "source": []
  },
  {
   "cell_type": "code",
   "execution_count": null,
   "id": "6384cf11",
   "metadata": {},
   "outputs": [],
   "source": []
  }
 ],
 "metadata": {
  "kernelspec": {
   "display_name": "Python 3 (ipykernel)",
   "language": "python",
   "name": "python3"
  },
  "language_info": {
   "codemirror_mode": {
    "name": "ipython",
    "version": 3
   },
   "file_extension": ".py",
   "mimetype": "text/x-python",
   "name": "python",
   "nbconvert_exporter": "python",
   "pygments_lexer": "ipython3",
   "version": "3.10.6"
  }
 },
 "nbformat": 4,
 "nbformat_minor": 5
}

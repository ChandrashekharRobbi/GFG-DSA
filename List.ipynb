{
 "cells": [
  {
   "cell_type": "code",
   "execution_count": 1,
   "id": "edb0ee35",
   "metadata": {},
   "outputs": [],
   "source": [
    "from imp_personal import MyFunction\n",
    "z = MyFunction()"
   ]
  },
  {
   "cell_type": "markdown",
   "id": "38da89bf",
   "metadata": {},
   "source": [
    "# List\n",
    "\n",
    "**Problems**"
   ]
  },
  {
   "cell_type": "code",
   "execution_count": 2,
   "id": "58e85a9e",
   "metadata": {},
   "outputs": [
    {
     "name": "stdout",
     "output_type": "stream",
     "text": [
      "Successfully added to the comment list\n"
     ]
    }
   ],
   "source": [
    "z.new(\"Get Element at Index\")"
   ]
  },
  {
   "cell_type": "markdown",
   "id": "0089bc19",
   "metadata": {},
   "source": [
    "#### Get Element at Index"
   ]
  },
  {
   "cell_type": "code",
   "execution_count": 3,
   "id": "b9593dc2",
   "metadata": {},
   "outputs": [],
   "source": [
    "def getByIndex(arr,n,idx):\n",
    "    if idx > len(arr) - 1:\n",
    "        return -1\n",
    "    return arr[idx]\n",
    "    "
   ]
  },
  {
   "cell_type": "code",
   "execution_count": 5,
   "id": "0c6011f7",
   "metadata": {},
   "outputs": [
    {
     "name": "stdout",
     "output_type": "stream",
     "text": [
      "Successfully added to the comment list\n"
     ]
    }
   ],
   "source": [
    "z.new(\"Insert at end\")"
   ]
  },
  {
   "cell_type": "markdown",
   "id": "eaeaece6",
   "metadata": {},
   "source": [
    "#### Insert at end"
   ]
  },
  {
   "cell_type": "code",
   "execution_count": 6,
   "id": "fa31d230",
   "metadata": {},
   "outputs": [],
   "source": [
    "def insertAtEnd(arr,sizeOfArray,element):\n",
    "    return arr.append(element)"
   ]
  },
  {
   "cell_type": "code",
   "execution_count": 7,
   "id": "231a6310",
   "metadata": {},
   "outputs": [
    {
     "name": "stdout",
     "output_type": "stream",
     "text": [
      "Successfully added to the comment list\n"
     ]
    }
   ],
   "source": [
    "z.new(\"Array insert at index\")"
   ]
  },
  {
   "cell_type": "markdown",
   "id": "29c3bd03",
   "metadata": {},
   "source": [
    "#### Array insert at index"
   ]
  },
  {
   "cell_type": "code",
   "execution_count": 8,
   "id": "8a2c389e",
   "metadata": {},
   "outputs": [],
   "source": [
    "def insertAtIndex(arr, sizeOfArray, index, element):\n",
    "    return arr.insert(index, element)"
   ]
  },
  {
   "cell_type": "code",
   "execution_count": 9,
   "id": "ab36f228",
   "metadata": {},
   "outputs": [
    {
     "name": "stdout",
     "output_type": "stream",
     "text": [
      "Successfully added to the comment list\n"
     ]
    }
   ],
   "source": [
    "z.new(\"Array Update At Index\")"
   ]
  },
  {
   "cell_type": "markdown",
   "id": "d6187d81",
   "metadata": {},
   "source": [
    "#### Array Update At Index"
   ]
  },
  {
   "cell_type": "code",
   "execution_count": 13,
   "id": "4bc3ecf3",
   "metadata": {},
   "outputs": [],
   "source": [
    "z.removeLastelement()"
   ]
  },
  {
   "cell_type": "code",
   "execution_count": 14,
   "id": "cf816d53",
   "metadata": {},
   "outputs": [],
   "source": [
    "def updateArray(arr,n,idx,element):\n",
    "    if idx > len(arr):\n",
    "        return -1\n",
    "    arr[idx] = element\n",
    "    return arr"
   ]
  },
  {
   "cell_type": "code",
   "execution_count": 15,
   "id": "e8a76e0e",
   "metadata": {},
   "outputs": [
    {
     "name": "stdout",
     "output_type": "stream",
     "text": [
      "Successfully added to the comment list\n"
     ]
    }
   ],
   "source": [
    "z.new(\"Sum Element\")"
   ]
  },
  {
   "cell_type": "markdown",
   "id": "12498641",
   "metadata": {},
   "source": [
    "#### Sum Element"
   ]
  },
  {
   "cell_type": "code",
   "execution_count": 16,
   "id": "adac9fe6",
   "metadata": {},
   "outputs": [],
   "source": [
    "def sumElement(arr,n):\n",
    "    sum = 0\n",
    "    for i in arr:\n",
    "        sum += i\n",
    "    return sum"
   ]
  },
  {
   "cell_type": "code",
   "execution_count": 17,
   "id": "19223600",
   "metadata": {},
   "outputs": [
    {
     "name": "stdout",
     "output_type": "stream",
     "text": [
      "Successfully added to the comment list\n"
     ]
    }
   ],
   "source": [
    "z.new(\"Mean and Median\")"
   ]
  },
  {
   "cell_type": "markdown",
   "id": "9f34a955",
   "metadata": {},
   "source": [
    "#### Mean and Median"
   ]
  },
  {
   "cell_type": "code",
   "execution_count": 18,
   "id": "ae1636f7",
   "metadata": {},
   "outputs": [],
   "source": [
    "def median(self,A,N):\n",
    "\n",
    "    A.sort()\n",
    "    l = 0\n",
    "    h = len(A) - 1\n",
    "    mid = int((l+h)/2)\n",
    "    median = int(A[mid])\n",
    "    return A[mid]\n",
    "\n",
    "def mean(self,A,N):\n",
    "    mean = sum(A)/len(A)\n",
    "    return int(mean)"
   ]
  },
  {
   "cell_type": "code",
   "execution_count": 19,
   "id": "1aa2c0f5",
   "metadata": {},
   "outputs": [
    {
     "name": "stdout",
     "output_type": "stream",
     "text": [
      "Successfully added to the comment list\n"
     ]
    }
   ],
   "source": [
    "z.new(\"Count smaller than x\")"
   ]
  },
  {
   "cell_type": "markdown",
   "id": "c6c05bb4",
   "metadata": {},
   "source": [
    "#### Count smaller than x"
   ]
  },
  {
   "cell_type": "code",
   "execution_count": 21,
   "id": "30e9d834",
   "metadata": {},
   "outputs": [],
   "source": [
    "def smallerThanX(self,arr,n,x):\n",
    "    count = 0\n",
    "    for i in arr:\n",
    "        if i < x:\n",
    "            count += 1\n",
    "    return count"
   ]
  },
  {
   "cell_type": "code",
   "execution_count": 22,
   "id": "13889288",
   "metadata": {},
   "outputs": [
    {
     "name": "stdout",
     "output_type": "stream",
     "text": [
      "Successfully added to the comment list\n"
     ]
    }
   ],
   "source": [
    "z.new(\"Immediate Smaller Number\")"
   ]
  },
  {
   "cell_type": "markdown",
   "id": "9068b9ad",
   "metadata": {},
   "source": [
    "#### Immediate Smaller Number"
   ]
  },
  {
   "cell_type": "code",
   "execution_count": 23,
   "id": "fdbe5c72",
   "metadata": {},
   "outputs": [],
   "source": [
    "def immediateSmaller(arr,n,x):\n",
    "    ans = -1\n",
    "    diff = 10000000000\n",
    "    for i in arr:\n",
    "        if i < x and x - i < diff:\n",
    "            ans = i\n",
    "            diff = x - i\n",
    "    return ans"
   ]
  },
  {
   "cell_type": "code",
   "execution_count": 24,
   "id": "15c93174",
   "metadata": {},
   "outputs": [
    {
     "name": "stdout",
     "output_type": "stream",
     "text": [
      "Successfully added to the comment list\n"
     ]
    }
   ],
   "source": [
    "z.new(\"Count Elements Greater Than X\")"
   ]
  },
  {
   "cell_type": "code",
   "execution_count": 25,
   "id": "c6923584",
   "metadata": {},
   "outputs": [],
   "source": [
    "def greaterThanX(arr,n,x):\n",
    "    count = 0\n",
    "    for i in arr:\n",
    "        if i > x:\n",
    "            count += 1\n",
    "    return count"
   ]
  },
  {
   "cell_type": "code",
   "execution_count": 26,
   "id": "81846340",
   "metadata": {},
   "outputs": [
    {
     "name": "stdout",
     "output_type": "stream",
     "text": [
      "Successfully added to the comment list\n"
     ]
    }
   ],
   "source": [
    "z.new(\"Immediate Greater Element\")"
   ]
  },
  {
   "cell_type": "markdown",
   "id": "b324a12a",
   "metadata": {},
   "source": [
    "#### Immediate Greater Element"
   ]
  },
  {
   "cell_type": "code",
   "execution_count": null,
   "id": "9f365e19",
   "metadata": {},
   "outputs": [],
   "source": [
    "def immediateGreater(self,arr,n,x):\n",
    "    ans = -1\n",
    "    diff = 10000000\n",
    "    for i in arr:\n",
    "        if i > x and i - x < diff:\n",
    "            ans = i\n",
    "            diff = i - x\n",
    "    return ans"
   ]
  }
 ],
 "metadata": {
  "kernelspec": {
   "display_name": "Python 3 (ipykernel)",
   "language": "python",
   "name": "python3"
  },
  "language_info": {
   "codemirror_mode": {
    "name": "ipython",
    "version": 3
   },
   "file_extension": ".py",
   "mimetype": "text/x-python",
   "name": "python",
   "nbconvert_exporter": "python",
   "pygments_lexer": "ipython3",
   "version": "3.10.9"
  }
 },
 "nbformat": 4,
 "nbformat_minor": 5
}

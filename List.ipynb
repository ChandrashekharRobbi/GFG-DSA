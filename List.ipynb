{
 "cells": [
  {
   "cell_type": "code",
   "execution_count": 1,
   "id": "2c7f7b79",
   "metadata": {},
   "outputs": [],
   "source": [
    "from imp_personal import MyFunction\n",
    "z = MyFunction()"
   ]
  },
  {
   "cell_type": "markdown",
   "id": "8d26114a",
   "metadata": {},
   "source": [
    "# List\n",
    "\n",
    "**Problems**"
   ]
  },
  {
   "cell_type": "code",
   "execution_count": 2,
   "id": "648dabfa",
   "metadata": {},
   "outputs": [
    {
     "name": "stdout",
     "output_type": "stream",
     "text": [
      "Successfully added to the comment list\n"
     ]
    }
   ],
   "source": [
    "z.new(\"Get Element at Index\")"
   ]
  },
  {
   "cell_type": "markdown",
   "id": "807b92cc",
   "metadata": {},
   "source": [
    "#### Get Element at Index"
   ]
  },
  {
   "cell_type": "code",
   "execution_count": 3,
   "id": "96b710a0",
   "metadata": {},
   "outputs": [],
   "source": [
    "def getByIndex(arr,n,idx):\n",
    "    if idx > len(arr) - 1:\n",
    "        return -1\n",
    "    return arr[idx]\n",
    "    "
   ]
  },
  {
   "cell_type": "code",
   "execution_count": 5,
   "id": "6a217305",
   "metadata": {},
   "outputs": [
    {
     "name": "stdout",
     "output_type": "stream",
     "text": [
      "Successfully added to the comment list\n"
     ]
    }
   ],
   "source": [
    "z.new(\"Insert at end\")"
   ]
  },
  {
   "cell_type": "markdown",
   "id": "bb05de67",
   "metadata": {},
   "source": [
    "#### Insert at end"
   ]
  },
  {
   "cell_type": "code",
   "execution_count": 6,
   "id": "dad29d1d",
   "metadata": {},
   "outputs": [],
   "source": [
    "def insertAtEnd(arr,sizeOfArray,element):\n",
    "    return arr.append(element)"
   ]
  },
  {
   "cell_type": "code",
   "execution_count": 7,
   "id": "ffea4c58",
   "metadata": {},
   "outputs": [
    {
     "name": "stdout",
     "output_type": "stream",
     "text": [
      "Successfully added to the comment list\n"
     ]
    }
   ],
   "source": [
    "z.new(\"Array insert at index\")"
   ]
  },
  {
   "cell_type": "markdown",
   "id": "9cc79fa0",
   "metadata": {},
   "source": [
    "#### Array insert at index"
   ]
  },
  {
   "cell_type": "code",
   "execution_count": 8,
   "id": "5cb88de0",
   "metadata": {},
   "outputs": [],
   "source": [
    "def insertAtIndex(arr, sizeOfArray, index, element):\n",
    "    return arr.insert(index, element)"
   ]
  },
  {
   "cell_type": "code",
   "execution_count": 9,
   "id": "0a6a5507",
   "metadata": {},
   "outputs": [
    {
     "name": "stdout",
     "output_type": "stream",
     "text": [
      "Successfully added to the comment list\n"
     ]
    }
   ],
   "source": [
    "z.new(\"Array Update At Index\")"
   ]
  },
  {
   "cell_type": "markdown",
   "id": "b5552c4f",
   "metadata": {},
   "source": [
    "#### Array Update At Index"
   ]
  },
  {
   "cell_type": "code",
   "execution_count": 13,
   "id": "3a333d83",
   "metadata": {},
   "outputs": [],
   "source": [
    "z.removeLastelement()"
   ]
  },
  {
   "cell_type": "code",
   "execution_count": 14,
   "id": "af2ebe66",
   "metadata": {},
   "outputs": [],
   "source": [
    "def updateArray(arr,n,idx,element):\n",
    "    if idx > len(arr):\n",
    "        return -1\n",
    "    arr[idx] = element\n",
    "    return arr"
   ]
  },
  {
   "cell_type": "code",
   "execution_count": 15,
   "id": "666aaf9f",
   "metadata": {},
   "outputs": [
    {
     "name": "stdout",
     "output_type": "stream",
     "text": [
      "Successfully added to the comment list\n"
     ]
    }
   ],
   "source": [
    "z.new(\"Sum Element\")"
   ]
  },
  {
   "cell_type": "markdown",
   "id": "749f50dd",
   "metadata": {},
   "source": [
    "#### Sum Element"
   ]
  },
  {
   "cell_type": "code",
   "execution_count": 16,
   "id": "300b0353",
   "metadata": {},
   "outputs": [],
   "source": [
    "def sumElement(arr,n):\n",
    "    sum = 0\n",
    "    for i in arr:\n",
    "        sum += i\n",
    "    return sum"
   ]
  },
  {
   "cell_type": "code",
   "execution_count": 17,
   "id": "373c6409",
   "metadata": {},
   "outputs": [
    {
     "name": "stdout",
     "output_type": "stream",
     "text": [
      "Successfully added to the comment list\n"
     ]
    }
   ],
   "source": [
    "z.new(\"Mean and Median\")"
   ]
  },
  {
   "cell_type": "markdown",
   "id": "17985a4d",
   "metadata": {},
   "source": [
    "#### Mean and Median"
   ]
  },
  {
   "cell_type": "code",
   "execution_count": 18,
   "id": "d9f66263",
   "metadata": {},
   "outputs": [],
   "source": [
    "def median(self,A,N):\n",
    "\n",
    "    A.sort()\n",
    "    l = 0\n",
    "    h = len(A) - 1\n",
    "    mid = int((l+h)/2)\n",
    "    median = int(A[mid])\n",
    "    return A[mid]\n",
    "\n",
    "def mean(self,A,N):\n",
    "    mean = sum(A)/len(A)\n",
    "    return int(mean)"
   ]
  },
  {
   "cell_type": "code",
   "execution_count": 19,
   "id": "220196fd",
   "metadata": {},
   "outputs": [
    {
     "name": "stdout",
     "output_type": "stream",
     "text": [
      "Successfully added to the comment list\n"
     ]
    }
   ],
   "source": [
    "z.new(\"Count smaller than x\")"
   ]
  },
  {
   "cell_type": "markdown",
   "id": "81955d28",
   "metadata": {},
   "source": [
    "#### Count smaller than x"
   ]
  },
  {
   "cell_type": "code",
   "execution_count": 21,
   "id": "09cef505",
   "metadata": {},
   "outputs": [],
   "source": [
    "def smallerThanX(self,arr,n,x):\n",
    "    count = 0\n",
    "    for i in arr:\n",
    "        if i < x:\n",
    "            count += 1\n",
    "    return count"
   ]
  },
  {
   "cell_type": "code",
   "execution_count": 22,
   "id": "c802c0bf",
   "metadata": {},
   "outputs": [
    {
     "name": "stdout",
     "output_type": "stream",
     "text": [
      "Successfully added to the comment list\n"
     ]
    }
   ],
   "source": [
    "z.new(\"Immediate Smaller Number\")"
   ]
  },
  {
   "cell_type": "markdown",
   "id": "8fa33174",
   "metadata": {},
   "source": [
    "#### Immediate Smaller Number"
   ]
  },
  {
   "cell_type": "code",
   "execution_count": 23,
   "id": "d2a7e064",
   "metadata": {},
   "outputs": [],
   "source": [
    "def immediateSmaller(arr,n,x):\n",
    "    ans = -1\n",
    "    diff = 10000000000\n",
    "    for i in arr:\n",
    "        if i < x and x - i < diff:\n",
    "            ans = i\n",
    "            diff = x - i\n",
    "    return ans"
   ]
  },
  {
   "cell_type": "code",
   "execution_count": 24,
   "id": "88bcdcaa",
   "metadata": {},
   "outputs": [
    {
     "name": "stdout",
     "output_type": "stream",
     "text": [
      "Successfully added to the comment list\n"
     ]
    }
   ],
   "source": [
    "z.new(\"Count Elements Greater Than X\")"
   ]
  },
  {
   "cell_type": "code",
   "execution_count": 25,
   "id": "d2e3e8a0",
   "metadata": {},
   "outputs": [],
   "source": [
    "def greaterThanX(arr,n,x):\n",
    "    count = 0\n",
    "    for i in arr:\n",
    "        if i > x:\n",
    "            count += 1\n",
    "    return count"
   ]
  },
  {
   "cell_type": "code",
   "execution_count": 26,
   "id": "f173849e",
   "metadata": {},
   "outputs": [
    {
     "name": "stdout",
     "output_type": "stream",
     "text": [
      "Successfully added to the comment list\n"
     ]
    }
   ],
   "source": [
    "z.new(\"Immediate Greater Element\")"
   ]
  },
  {
   "cell_type": "markdown",
   "id": "0acfe1f4",
   "metadata": {},
   "source": [
    "#### Immediate Greater Element"
   ]
  },
  {
   "cell_type": "code",
   "execution_count": 27,
   "id": "5a8d3c48",
   "metadata": {},
   "outputs": [],
   "source": [
    "def immediateGreater(arr,n,x):\n",
    "    ans = -1\n",
    "    diff = 10000000\n",
    "    for i in arr:\n",
    "        if i > x and i - x < diff:\n",
    "            ans = i\n",
    "            diff = i - x\n",
    "    return ans"
   ]
  },
  {
   "cell_type": "code",
   "execution_count": 28,
   "id": "f94a3c82",
   "metadata": {},
   "outputs": [
    {
     "name": "stdout",
     "output_type": "stream",
     "text": [
      "Successfully added to the comment list\n"
     ]
    }
   ],
   "source": [
    "z.new(\"Who has the majority\")"
   ]
  },
  {
   "cell_type": "code",
   "execution_count": 29,
   "id": "763442ed",
   "metadata": {},
   "outputs": [],
   "source": [
    "def majorityWins(arr, n, x, y):\n",
    "    if x not in arr and y not in arr:\n",
    "        if x > y:\n",
    "            return y\n",
    "        else:\n",
    "            return x\n",
    "    elif arr.count(x) == arr.count(y):\n",
    "        if x < y:\n",
    "            return x\n",
    "        else:\n",
    "            return y\n",
    "    elif arr.count(x) > arr.count(y):\n",
    "        return x\n",
    "    else:\n",
    "        return y"
   ]
  },
  {
   "cell_type": "code",
   "execution_count": 30,
   "id": "46e52f58",
   "metadata": {},
   "outputs": [
    {
     "name": "stdout",
     "output_type": "stream",
     "text": [
      "Successfully added to the comment list\n"
     ]
    }
   ],
   "source": [
    "z.new(\"IsSorted\")"
   ]
  },
  {
   "cell_type": "markdown",
   "id": "e2e3b4a2",
   "metadata": {},
   "source": [
    "#### IsSorted"
   ]
  },
  {
   "cell_type": "code",
   "execution_count": 31,
   "id": "f36e2dd2",
   "metadata": {},
   "outputs": [],
   "source": [
    "def isSorted(self,arr,n):\n",
    "    #code here\n",
    "    l1 = sorted(arr, reverse=True)\n",
    "    # print(l1)\n",
    "    if arr == l1:\n",
    "        return 1\n",
    "    else:\n",
    "        return 0"
   ]
  },
  {
   "cell_type": "code",
   "execution_count": null,
   "id": "b68dfa72",
   "metadata": {},
   "outputs": [],
   "source": []
  }
 ],
 "metadata": {
  "kernelspec": {
   "display_name": "Python 3 (ipykernel)",
   "language": "python",
   "name": "python3"
  },
  "language_info": {
   "codemirror_mode": {
    "name": "ipython",
    "version": 3
   },
   "file_extension": ".py",
   "mimetype": "text/x-python",
   "name": "python",
   "nbconvert_exporter": "python",
   "pygments_lexer": "ipython3",
   "version": "3.10.9"
  }
 },
 "nbformat": 4,
 "nbformat_minor": 5
}

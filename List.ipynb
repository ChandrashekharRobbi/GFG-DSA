{
 "cells": [
  {
   "cell_type": "code",
   "execution_count": 1,
   "id": "95756f88",
   "metadata": {},
   "outputs": [],
   "source": [
    "from imp_personal import MyFunction\n",
    "z = MyFunction()"
   ]
  },
  {
   "cell_type": "markdown",
   "id": "a8b0a3a2",
   "metadata": {},
   "source": [
    "# List\n",
    "\n",
    "**Problems**"
   ]
  },
  {
   "cell_type": "code",
   "execution_count": 2,
   "id": "8932cbd2",
   "metadata": {},
   "outputs": [
    {
     "name": "stdout",
     "output_type": "stream",
     "text": [
      "Successfully added to the comment list\n"
     ]
    }
   ],
   "source": [
    "z.new(\"Get Element at Index\")"
   ]
  },
  {
   "cell_type": "markdown",
   "id": "12c61f0e",
   "metadata": {},
   "source": [
    "#### Get Element at Index"
   ]
  },
  {
   "cell_type": "code",
   "execution_count": 3,
   "id": "265a9105",
   "metadata": {},
   "outputs": [],
   "source": [
    "def getByIndex(arr,n,idx):\n",
    "    if idx > len(arr) - 1:\n",
    "        return -1\n",
    "    return arr[idx]\n",
    "    "
   ]
  },
  {
   "cell_type": "code",
   "execution_count": 5,
   "id": "c79d29e0",
   "metadata": {},
   "outputs": [
    {
     "name": "stdout",
     "output_type": "stream",
     "text": [
      "Successfully added to the comment list\n"
     ]
    }
   ],
   "source": [
    "z.new(\"Insert at end\")"
   ]
  },
  {
   "cell_type": "markdown",
   "id": "41b8108f",
   "metadata": {},
   "source": [
    "#### Insert at end"
   ]
  },
  {
   "cell_type": "code",
   "execution_count": 6,
   "id": "063128da",
   "metadata": {},
   "outputs": [],
   "source": [
    "def insertAtEnd(arr,sizeOfArray,element):\n",
    "    return arr.append(element)"
   ]
  },
  {
   "cell_type": "code",
   "execution_count": 7,
   "id": "976eabfd",
   "metadata": {},
   "outputs": [
    {
     "name": "stdout",
     "output_type": "stream",
     "text": [
      "Successfully added to the comment list\n"
     ]
    }
   ],
   "source": [
    "z.new(\"Array insert at index\")"
   ]
  },
  {
   "cell_type": "markdown",
   "id": "2cefe3a2",
   "metadata": {},
   "source": [
    "#### Array insert at index"
   ]
  },
  {
   "cell_type": "code",
   "execution_count": 8,
   "id": "be5dbbc5",
   "metadata": {},
   "outputs": [],
   "source": [
    "def insertAtIndex(arr, sizeOfArray, index, element):\n",
    "    return arr.insert(index, element)"
   ]
  },
  {
   "cell_type": "code",
   "execution_count": 9,
   "id": "43a4dbbb",
   "metadata": {},
   "outputs": [
    {
     "name": "stdout",
     "output_type": "stream",
     "text": [
      "Successfully added to the comment list\n"
     ]
    }
   ],
   "source": [
    "z.new(\"Array Update At Index\")"
   ]
  },
  {
   "cell_type": "markdown",
   "id": "491effe8",
   "metadata": {},
   "source": [
    "#### Array Update At Index"
   ]
  },
  {
   "cell_type": "code",
   "execution_count": 14,
   "id": "18d3e29f",
   "metadata": {},
   "outputs": [],
   "source": [
    "def updateArray(arr,n,idx,element):\n",
    "    if idx > len(arr):\n",
    "        return -1\n",
    "    arr[idx] = element\n",
    "    return arr"
   ]
  },
  {
   "cell_type": "code",
   "execution_count": 15,
   "id": "ce2a5fe0",
   "metadata": {},
   "outputs": [
    {
     "name": "stdout",
     "output_type": "stream",
     "text": [
      "Successfully added to the comment list\n"
     ]
    }
   ],
   "source": [
    "z.new(\"Sum Element\")"
   ]
  },
  {
   "cell_type": "markdown",
   "id": "4cbbe01e",
   "metadata": {},
   "source": [
    "#### Sum Element"
   ]
  },
  {
   "cell_type": "code",
   "execution_count": 16,
   "id": "5c8eff90",
   "metadata": {},
   "outputs": [],
   "source": [
    "def sumElement(arr,n):\n",
    "    sum = 0\n",
    "    for i in arr:\n",
    "        sum += i\n",
    "    return sum"
   ]
  },
  {
   "cell_type": "code",
   "execution_count": 17,
   "id": "4d8d5873",
   "metadata": {},
   "outputs": [
    {
     "name": "stdout",
     "output_type": "stream",
     "text": [
      "Successfully added to the comment list\n"
     ]
    }
   ],
   "source": [
    "z.new(\"Mean and Median\")"
   ]
  },
  {
   "cell_type": "markdown",
   "id": "6c77393f",
   "metadata": {},
   "source": [
    "#### Mean and Median"
   ]
  },
  {
   "cell_type": "code",
   "execution_count": 18,
   "id": "b0224d41",
   "metadata": {},
   "outputs": [],
   "source": [
    "def median(self,A,N):\n",
    "\n",
    "    A.sort()\n",
    "    l = 0\n",
    "    h = len(A) - 1\n",
    "    mid = int((l+h)/2)\n",
    "    median = int(A[mid])\n",
    "    return A[mid]\n",
    "\n",
    "def mean(self,A,N):\n",
    "    mean = sum(A)/len(A)\n",
    "    return int(mean)"
   ]
  },
  {
   "cell_type": "code",
   "execution_count": null,
   "id": "8ab274b0",
   "metadata": {},
   "outputs": [],
   "source": []
  }
 ],
 "metadata": {
  "kernelspec": {
   "display_name": "Python 3 (ipykernel)",
   "language": "python",
   "name": "python3"
  },
  "language_info": {
   "codemirror_mode": {
    "name": "ipython",
    "version": 3
   },
   "file_extension": ".py",
   "mimetype": "text/x-python",
   "name": "python",
   "nbconvert_exporter": "python",
   "pygments_lexer": "ipython3",
   "version": "3.10.9"
  }
 },
 "nbformat": 4,
 "nbformat_minor": 5
}

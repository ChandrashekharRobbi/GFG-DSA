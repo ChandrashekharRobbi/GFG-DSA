{
 "cells": [
  {
   "cell_type": "code",
   "execution_count": 1,
   "id": "ebbbb383",
   "metadata": {},
   "outputs": [],
   "source": [
    "from imp_personal import MyFunction\n",
    "z = MyFunction()"
   ]
  },
  {
   "cell_type": "markdown",
   "id": "9dc615aa",
   "metadata": {},
   "source": [
    "# List\n",
    "\n",
    "**Problems**\n",
    "\n",
    "1. [Get Element at Index](#Get-Element-at-Index)\n",
    "1. [Insert at end](#Insert-at-end)\n",
    "1. [Array insert at index](#Array-insert-at-index)\n",
    "1. [Array Update At Index](#Array-Update-At-Index)\n",
    "1. [Sum Element](#Sum-Element)\n",
    "1. [Mean and Median](#Mean-and-Median)\n",
    "1. [Count smaller than x](#Count-smaller-than-x)\n",
    "1. [Immediate Smaller Number](#Immediate-Smaller-Number)\n",
    "1. [Count Elements Greater Than X](#Count-Elements-Greater-Than-X)\n",
    "1. [Immediate Greater Element](#Immediate-Greater-Element)\n",
    "1. [Who has the majority](#Who-has-the-majority)\n",
    "1. [IsSorted](#IsSorted)\n",
    "1. [Rotate array](#Rotate-array)"
   ]
  },
  {
   "cell_type": "code",
   "execution_count": 2,
   "id": "896b101a",
   "metadata": {},
   "outputs": [
    {
     "name": "stdout",
     "output_type": "stream",
     "text": [
      "Successfully added to the comment list\n"
     ]
    }
   ],
   "source": [
    "z.new(\"Get Element at Index\")"
   ]
  },
  {
   "cell_type": "markdown",
   "id": "c5bc9f90",
   "metadata": {},
   "source": [
    "#### Get Element at Index"
   ]
  },
  {
   "cell_type": "code",
   "execution_count": 3,
   "id": "e0ce7065",
   "metadata": {},
   "outputs": [],
   "source": [
    "def getByIndex(arr,n,idx):\n",
    "    if idx > len(arr) - 1:\n",
    "        return -1\n",
    "    return arr[idx]\n",
    "    "
   ]
  },
  {
   "cell_type": "code",
   "execution_count": 5,
   "id": "882dd8cc",
   "metadata": {},
   "outputs": [
    {
     "name": "stdout",
     "output_type": "stream",
     "text": [
      "Successfully added to the comment list\n"
     ]
    }
   ],
   "source": [
    "z.new(\"Insert at end\")"
   ]
  },
  {
   "cell_type": "markdown",
   "id": "508bd9ac",
   "metadata": {},
   "source": [
    "#### Insert at end"
   ]
  },
  {
   "cell_type": "code",
   "execution_count": 6,
   "id": "97583e89",
   "metadata": {},
   "outputs": [],
   "source": [
    "def insertAtEnd(arr,sizeOfArray,element):\n",
    "    return arr.append(element)"
   ]
  },
  {
   "cell_type": "code",
   "execution_count": 7,
   "id": "253815f0",
   "metadata": {},
   "outputs": [
    {
     "name": "stdout",
     "output_type": "stream",
     "text": [
      "Successfully added to the comment list\n"
     ]
    }
   ],
   "source": [
    "z.new(\"Array insert at index\")"
   ]
  },
  {
   "cell_type": "markdown",
   "id": "52d4767a",
   "metadata": {},
   "source": [
    "#### Array insert at index"
   ]
  },
  {
   "cell_type": "code",
   "execution_count": 8,
   "id": "eaa9390d",
   "metadata": {},
   "outputs": [],
   "source": [
    "def insertAtIndex(arr, sizeOfArray, index, element):\n",
    "    return arr.insert(index, element)"
   ]
  },
  {
   "cell_type": "code",
   "execution_count": 9,
   "id": "f84155be",
   "metadata": {},
   "outputs": [
    {
     "name": "stdout",
     "output_type": "stream",
     "text": [
      "Successfully added to the comment list\n"
     ]
    }
   ],
   "source": [
    "z.new(\"Array Update At Index\")"
   ]
  },
  {
   "cell_type": "markdown",
   "id": "e9d320bf",
   "metadata": {},
   "source": [
    "#### Array Update At Index"
   ]
  },
  {
   "cell_type": "code",
   "execution_count": 13,
   "id": "f310faaf",
   "metadata": {},
   "outputs": [],
   "source": [
    "z.removeLastelement()"
   ]
  },
  {
   "cell_type": "code",
   "execution_count": 14,
   "id": "8edd7a10",
   "metadata": {},
   "outputs": [],
   "source": [
    "def updateArray(arr,n,idx,element):\n",
    "    if idx > len(arr):\n",
    "        return -1\n",
    "    arr[idx] = element\n",
    "    return arr"
   ]
  },
  {
   "cell_type": "code",
   "execution_count": 15,
   "id": "62d69558",
   "metadata": {},
   "outputs": [
    {
     "name": "stdout",
     "output_type": "stream",
     "text": [
      "Successfully added to the comment list\n"
     ]
    }
   ],
   "source": [
    "z.new(\"Sum Element\")"
   ]
  },
  {
   "cell_type": "markdown",
   "id": "ecf40962",
   "metadata": {},
   "source": [
    "#### Sum Element"
   ]
  },
  {
   "cell_type": "code",
   "execution_count": 16,
   "id": "96e8f9bc",
   "metadata": {},
   "outputs": [],
   "source": [
    "def sumElement(arr,n):\n",
    "    sum = 0\n",
    "    for i in arr:\n",
    "        sum += i\n",
    "    return sum"
   ]
  },
  {
   "cell_type": "code",
   "execution_count": 17,
   "id": "d7009c62",
   "metadata": {},
   "outputs": [
    {
     "name": "stdout",
     "output_type": "stream",
     "text": [
      "Successfully added to the comment list\n"
     ]
    }
   ],
   "source": [
    "z.new(\"Mean and Median\")"
   ]
  },
  {
   "cell_type": "markdown",
   "id": "2b1841f6",
   "metadata": {},
   "source": [
    "#### Mean and Median"
   ]
  },
  {
   "cell_type": "code",
   "execution_count": 18,
   "id": "f8aa2582",
   "metadata": {},
   "outputs": [],
   "source": [
    "def median(self,A,N):\n",
    "\n",
    "    A.sort()\n",
    "    l = 0\n",
    "    h = len(A) - 1\n",
    "    mid = int((l+h)/2)\n",
    "    median = int(A[mid])\n",
    "    return A[mid]\n",
    "\n",
    "def mean(self,A,N):\n",
    "    mean = sum(A)/len(A)\n",
    "    return int(mean)"
   ]
  },
  {
   "cell_type": "code",
   "execution_count": 19,
   "id": "58c3c8a9",
   "metadata": {},
   "outputs": [
    {
     "name": "stdout",
     "output_type": "stream",
     "text": [
      "Successfully added to the comment list\n"
     ]
    }
   ],
   "source": [
    "z.new(\"Count smaller than x\")"
   ]
  },
  {
   "cell_type": "markdown",
   "id": "ffe2f38d",
   "metadata": {},
   "source": [
    "#### Count smaller than x"
   ]
  },
  {
   "cell_type": "code",
   "execution_count": 21,
   "id": "145de35a",
   "metadata": {},
   "outputs": [],
   "source": [
    "def smallerThanX(self,arr,n,x):\n",
    "    count = 0\n",
    "    for i in arr:\n",
    "        if i < x:\n",
    "            count += 1\n",
    "    return count"
   ]
  },
  {
   "cell_type": "code",
   "execution_count": 22,
   "id": "2c2187c0",
   "metadata": {},
   "outputs": [
    {
     "name": "stdout",
     "output_type": "stream",
     "text": [
      "Successfully added to the comment list\n"
     ]
    }
   ],
   "source": [
    "z.new(\"Immediate Smaller Number\")"
   ]
  },
  {
   "cell_type": "markdown",
   "id": "8db35865",
   "metadata": {},
   "source": [
    "#### Immediate Smaller Number"
   ]
  },
  {
   "cell_type": "code",
   "execution_count": 23,
   "id": "193a5883",
   "metadata": {},
   "outputs": [],
   "source": [
    "def immediateSmaller(arr,n,x):\n",
    "    ans = -1\n",
    "    diff = 10000000000\n",
    "    for i in arr:\n",
    "        if i < x and x - i < diff:\n",
    "            ans = i\n",
    "            diff = x - i\n",
    "    return ans"
   ]
  },
  {
   "cell_type": "code",
   "execution_count": 24,
   "id": "ae77d521",
   "metadata": {},
   "outputs": [
    {
     "name": "stdout",
     "output_type": "stream",
     "text": [
      "Successfully added to the comment list\n"
     ]
    }
   ],
   "source": [
    "z.new(\"Count Elements Greater Than X\")"
   ]
  },
  {
   "cell_type": "code",
   "execution_count": 25,
   "id": "838fa7ff",
   "metadata": {},
   "outputs": [],
   "source": [
    "def greaterThanX(arr,n,x):\n",
    "    count = 0\n",
    "    for i in arr:\n",
    "        if i > x:\n",
    "            count += 1\n",
    "    return count"
   ]
  },
  {
   "cell_type": "code",
   "execution_count": 26,
   "id": "aba60488",
   "metadata": {},
   "outputs": [
    {
     "name": "stdout",
     "output_type": "stream",
     "text": [
      "Successfully added to the comment list\n"
     ]
    }
   ],
   "source": [
    "z.new(\"Immediate Greater Element\")"
   ]
  },
  {
   "cell_type": "markdown",
   "id": "8da8ad7f",
   "metadata": {},
   "source": [
    "#### Immediate Greater Element"
   ]
  },
  {
   "cell_type": "code",
   "execution_count": 27,
   "id": "74286b6f",
   "metadata": {},
   "outputs": [],
   "source": [
    "def immediateGreater(arr,n,x):\n",
    "    ans = -1\n",
    "    diff = 10000000\n",
    "    for i in arr:\n",
    "        if i > x and i - x < diff:\n",
    "            ans = i\n",
    "            diff = i - x\n",
    "    return ans"
   ]
  },
  {
   "cell_type": "code",
   "execution_count": 28,
   "id": "2a842788",
   "metadata": {},
   "outputs": [
    {
     "name": "stdout",
     "output_type": "stream",
     "text": [
      "Successfully added to the comment list\n"
     ]
    }
   ],
   "source": [
    "z.new(\"Who has the majority\")"
   ]
  },
  {
   "cell_type": "code",
   "execution_count": 29,
   "id": "6d1560be",
   "metadata": {},
   "outputs": [],
   "source": [
    "def majorityWins(arr, n, x, y):\n",
    "    if x not in arr and y not in arr:\n",
    "        if x > y:\n",
    "            return y\n",
    "        else:\n",
    "            return x\n",
    "    elif arr.count(x) == arr.count(y):\n",
    "        if x < y:\n",
    "            return x\n",
    "        else:\n",
    "            return y\n",
    "    elif arr.count(x) > arr.count(y):\n",
    "        return x\n",
    "    else:\n",
    "        return y"
   ]
  },
  {
   "cell_type": "code",
   "execution_count": 30,
   "id": "a6f90613",
   "metadata": {},
   "outputs": [
    {
     "name": "stdout",
     "output_type": "stream",
     "text": [
      "Successfully added to the comment list\n"
     ]
    }
   ],
   "source": [
    "z.new(\"IsSorted\")"
   ]
  },
  {
   "cell_type": "markdown",
   "id": "70b37237",
   "metadata": {},
   "source": [
    "#### IsSorted"
   ]
  },
  {
   "cell_type": "code",
   "execution_count": 31,
   "id": "43ff4df2",
   "metadata": {},
   "outputs": [],
   "source": [
    "def isSorted(self,arr,n):\n",
    "    #code here\n",
    "    l1 = sorted(arr, reverse=True)\n",
    "    # print(l1)\n",
    "    if arr == l1:\n",
    "        return 1\n",
    "    else:\n",
    "        return 0"
   ]
  },
  {
   "cell_type": "code",
   "execution_count": 32,
   "id": "ca87a82c",
   "metadata": {},
   "outputs": [
    {
     "name": "stdout",
     "output_type": "stream",
     "text": [
      "Successfully added to the comment list\n"
     ]
    }
   ],
   "source": [
    "z.new(\"Rotate array\")"
   ]
  },
  {
   "cell_type": "code",
   "execution_count": 33,
   "id": "6ccdb289",
   "metadata": {},
   "outputs": [],
   "source": [
    "def rotateArr(self,A,D,N):\n",
    "    D%=N\n",
    "    #First reversing d elements from starting index.\n",
    "    A[0:D]=reversed(A[0:D])\n",
    "\n",
    "    #Then reversing the last n-d elements.\n",
    "    A[D:N]=reversed(A[D:N])\n",
    "\n",
    "    #Finally, reversing the whole array.\n",
    "    A[0:N]=reversed(A[0:N])"
   ]
  },
  {
   "cell_type": "code",
   "execution_count": 34,
   "id": "eac07dea",
   "metadata": {},
   "outputs": [
    {
     "name": "stdout",
     "output_type": "stream",
     "text": [
      "1. [Get Element at Index](#Get-Element-at-Index)\n",
      "1. [Insert at end](#Insert-at-end)\n",
      "1. [Array insert at index](#Array-insert-at-index)\n",
      "1. [Array Update At Index](#Array-Update-At-Index)\n",
      "1. [Sum Element](#Sum-Element)\n",
      "1. [Mean and Median](#Mean-and-Median)\n",
      "1. [Count smaller than x](#Count-smaller-than-x)\n",
      "1. [Immediate Smaller Number](#Immediate-Smaller-Number)\n",
      "1. [Count Elements Greater Than X](#Count-Elements-Greater-Than-X)\n",
      "1. [Immediate Greater Element](#Immediate-Greater-Element)\n",
      "1. [Who has the majority](#Who-has-the-majority)\n",
      "1. [IsSorted](#IsSorted)\n",
      "1. [Rotate array](#Rotate-array)\n"
     ]
    }
   ],
   "source": [
    "z.printArr()"
   ]
  },
  {
   "cell_type": "code",
   "execution_count": null,
   "id": "f03eca1c",
   "metadata": {},
   "outputs": [],
   "source": []
  }
 ],
 "metadata": {
  "kernelspec": {
   "display_name": "Python 3 (ipykernel)",
   "language": "python",
   "name": "python3"
  },
  "language_info": {
   "codemirror_mode": {
    "name": "ipython",
    "version": 3
   },
   "file_extension": ".py",
   "mimetype": "text/x-python",
   "name": "python",
   "nbconvert_exporter": "python",
   "pygments_lexer": "ipython3",
   "version": "3.10.9"
  }
 },
 "nbformat": 4,
 "nbformat_minor": 5
}

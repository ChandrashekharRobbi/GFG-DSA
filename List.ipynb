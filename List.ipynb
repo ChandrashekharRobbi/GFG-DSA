{
 "cells": [
  {
   "cell_type": "code",
   "execution_count": 1,
   "id": "0cc91b7d",
   "metadata": {},
   "outputs": [],
   "source": [
    "from imp_personal import MyFunction\n",
    "z = MyFunction()"
   ]
  },
  {
   "cell_type": "markdown",
   "id": "ab49b31a",
   "metadata": {},
   "source": [
    "# List\n",
    "\n",
    "**Problems**"
   ]
  },
  {
   "cell_type": "code",
   "execution_count": 2,
   "id": "8b0593a9",
   "metadata": {},
   "outputs": [
    {
     "name": "stdout",
     "output_type": "stream",
     "text": [
      "Successfully added to the comment list\n"
     ]
    }
   ],
   "source": [
    "z.new(\"Get Element at Index\")"
   ]
  },
  {
   "cell_type": "markdown",
   "id": "97ab46f1",
   "metadata": {},
   "source": [
    "#### Get Element at Index"
   ]
  },
  {
   "cell_type": "code",
   "execution_count": 3,
   "id": "d36ed56d",
   "metadata": {},
   "outputs": [],
   "source": [
    "def getByIndex(arr,n,idx):\n",
    "    if idx > len(arr) - 1:\n",
    "        return -1\n",
    "    return arr[idx]\n",
    "    "
   ]
  },
  {
   "cell_type": "code",
   "execution_count": 5,
   "id": "ed119211",
   "metadata": {},
   "outputs": [
    {
     "name": "stdout",
     "output_type": "stream",
     "text": [
      "Successfully added to the comment list\n"
     ]
    }
   ],
   "source": [
    "z.new(\"Insert at end\")"
   ]
  },
  {
   "cell_type": "markdown",
   "id": "0ece32a7",
   "metadata": {},
   "source": [
    "#### Insert at end"
   ]
  },
  {
   "cell_type": "code",
   "execution_count": 6,
   "id": "8bb1fdf9",
   "metadata": {},
   "outputs": [],
   "source": [
    "def insertAtEnd(arr,sizeOfArray,element):\n",
    "    return arr.append(element)"
   ]
  },
  {
   "cell_type": "code",
   "execution_count": 7,
   "id": "0817f552",
   "metadata": {},
   "outputs": [
    {
     "name": "stdout",
     "output_type": "stream",
     "text": [
      "Successfully added to the comment list\n"
     ]
    }
   ],
   "source": [
    "z.new(\"Array insert at index\")"
   ]
  },
  {
   "cell_type": "markdown",
   "id": "0d1f5cde",
   "metadata": {},
   "source": [
    "#### Array insert at index"
   ]
  },
  {
   "cell_type": "code",
   "execution_count": 8,
   "id": "758b3311",
   "metadata": {},
   "outputs": [],
   "source": [
    "def insertAtIndex(arr, sizeOfArray, index, element):\n",
    "    return arr.insert(index, element)"
   ]
  },
  {
   "cell_type": "code",
   "execution_count": 9,
   "id": "80451f37",
   "metadata": {},
   "outputs": [
    {
     "name": "stdout",
     "output_type": "stream",
     "text": [
      "Successfully added to the comment list\n"
     ]
    }
   ],
   "source": [
    "z.new(\"Array Update At Index\")"
   ]
  },
  {
   "cell_type": "markdown",
   "id": "27174f1f",
   "metadata": {},
   "source": [
    "#### Array Update At Index"
   ]
  },
  {
   "cell_type": "code",
   "execution_count": 13,
   "id": "542ff4a4",
   "metadata": {},
   "outputs": [],
   "source": [
    "z.removeLastelement()"
   ]
  },
  {
   "cell_type": "code",
   "execution_count": 14,
   "id": "7d57fcef",
   "metadata": {},
   "outputs": [],
   "source": [
    "def updateArray(arr,n,idx,element):\n",
    "    if idx > len(arr):\n",
    "        return -1\n",
    "    arr[idx] = element\n",
    "    return arr"
   ]
  },
  {
   "cell_type": "code",
   "execution_count": 15,
   "id": "b5bb67d2",
   "metadata": {},
   "outputs": [
    {
     "name": "stdout",
     "output_type": "stream",
     "text": [
      "Successfully added to the comment list\n"
     ]
    }
   ],
   "source": [
    "z.new(\"Sum Element\")"
   ]
  },
  {
   "cell_type": "markdown",
   "id": "9b2796c6",
   "metadata": {},
   "source": [
    "#### Sum Element"
   ]
  },
  {
   "cell_type": "code",
   "execution_count": 16,
   "id": "f830d1e2",
   "metadata": {},
   "outputs": [],
   "source": [
    "def sumElement(arr,n):\n",
    "    sum = 0\n",
    "    for i in arr:\n",
    "        sum += i\n",
    "    return sum"
   ]
  },
  {
   "cell_type": "code",
   "execution_count": 17,
   "id": "3b514266",
   "metadata": {},
   "outputs": [
    {
     "name": "stdout",
     "output_type": "stream",
     "text": [
      "Successfully added to the comment list\n"
     ]
    }
   ],
   "source": [
    "z.new(\"Mean and Median\")"
   ]
  },
  {
   "cell_type": "markdown",
   "id": "9462af90",
   "metadata": {},
   "source": [
    "#### Mean and Median"
   ]
  },
  {
   "cell_type": "code",
   "execution_count": 18,
   "id": "9eb2c068",
   "metadata": {},
   "outputs": [],
   "source": [
    "def median(self,A,N):\n",
    "\n",
    "    A.sort()\n",
    "    l = 0\n",
    "    h = len(A) - 1\n",
    "    mid = int((l+h)/2)\n",
    "    median = int(A[mid])\n",
    "    return A[mid]\n",
    "\n",
    "def mean(self,A,N):\n",
    "    mean = sum(A)/len(A)\n",
    "    return int(mean)"
   ]
  },
  {
   "cell_type": "code",
   "execution_count": 19,
   "id": "1fae4fbc",
   "metadata": {},
   "outputs": [
    {
     "name": "stdout",
     "output_type": "stream",
     "text": [
      "Successfully added to the comment list\n"
     ]
    }
   ],
   "source": [
    "z.new(\"Count smaller than x\")"
   ]
  },
  {
   "cell_type": "markdown",
   "id": "68d97ba0",
   "metadata": {},
   "source": [
    "#### Count smaller than x"
   ]
  },
  {
   "cell_type": "code",
   "execution_count": 21,
   "id": "bc5eb613",
   "metadata": {},
   "outputs": [],
   "source": [
    "def smallerThanX(self,arr,n,x):\n",
    "    count = 0\n",
    "    for i in arr:\n",
    "        if i < x:\n",
    "            count += 1\n",
    "    return count"
   ]
  },
  {
   "cell_type": "code",
   "execution_count": 22,
   "id": "7280a7b4",
   "metadata": {},
   "outputs": [
    {
     "name": "stdout",
     "output_type": "stream",
     "text": [
      "Successfully added to the comment list\n"
     ]
    }
   ],
   "source": [
    "z.new(\"Immediate Smaller Number\")"
   ]
  },
  {
   "cell_type": "markdown",
   "id": "8463dc5e",
   "metadata": {},
   "source": [
    "#### Immediate Smaller Number"
   ]
  },
  {
   "cell_type": "code",
   "execution_count": 23,
   "id": "52afa355",
   "metadata": {},
   "outputs": [],
   "source": [
    "def immediateSmaller(arr,n,x):\n",
    "    ans = -1\n",
    "    diff = 10000000000\n",
    "    for i in arr:\n",
    "        if i < x and x - i < diff:\n",
    "            ans = i\n",
    "            diff = x - i\n",
    "    return ans"
   ]
  },
  {
   "cell_type": "code",
   "execution_count": 24,
   "id": "96706660",
   "metadata": {},
   "outputs": [
    {
     "name": "stdout",
     "output_type": "stream",
     "text": [
      "Successfully added to the comment list\n"
     ]
    }
   ],
   "source": [
    "z.new(\"Count Elements Greater Than X\")"
   ]
  },
  {
   "cell_type": "code",
   "execution_count": 25,
   "id": "2193d482",
   "metadata": {},
   "outputs": [],
   "source": [
    "def greaterThanX(arr,n,x):\n",
    "    count = 0\n",
    "    for i in arr:\n",
    "        if i > x:\n",
    "            count += 1\n",
    "    return count"
   ]
  },
  {
   "cell_type": "code",
   "execution_count": null,
   "id": "e8ee33d0",
   "metadata": {},
   "outputs": [],
   "source": [
    "z.new(\"Immediate Greater \")"
   ]
  }
 ],
 "metadata": {
  "kernelspec": {
   "display_name": "Python 3 (ipykernel)",
   "language": "python",
   "name": "python3"
  },
  "language_info": {
   "codemirror_mode": {
    "name": "ipython",
    "version": 3
   },
   "file_extension": ".py",
   "mimetype": "text/x-python",
   "name": "python",
   "nbconvert_exporter": "python",
   "pygments_lexer": "ipython3",
   "version": "3.10.9"
  }
 },
 "nbformat": 4,
 "nbformat_minor": 5
}

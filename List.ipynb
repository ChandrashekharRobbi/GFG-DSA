{
 "cells": [
  {
   "cell_type": "code",
   "execution_count": 1,
   "id": "5b6515bb",
   "metadata": {},
   "outputs": [],
   "source": [
    "from imp_personal import MyFunction\n",
    "z = MyFunction()"
   ]
  },
  {
   "cell_type": "markdown",
   "id": "6472c060",
   "metadata": {},
   "source": [
    "# List\n",
    "\n",
    "**Problems**"
   ]
  },
  {
   "cell_type": "code",
   "execution_count": 2,
   "id": "9cf9612b",
   "metadata": {},
   "outputs": [
    {
     "name": "stdout",
     "output_type": "stream",
     "text": [
      "Successfully added to the comment list\n"
     ]
    }
   ],
   "source": [
    "z.new(\"Get Element at Index\")"
   ]
  },
  {
   "cell_type": "markdown",
   "id": "c61b6e87",
   "metadata": {},
   "source": [
    "#### Get Element at Index"
   ]
  },
  {
   "cell_type": "code",
   "execution_count": 3,
   "id": "3ddf8968",
   "metadata": {},
   "outputs": [],
   "source": [
    "def getByIndex(arr,n,idx):\n",
    "    if idx > len(arr) - 1:\n",
    "        return -1\n",
    "    return arr[idx]\n",
    "    "
   ]
  },
  {
   "cell_type": "code",
   "execution_count": 5,
   "id": "833ccc03",
   "metadata": {},
   "outputs": [
    {
     "name": "stdout",
     "output_type": "stream",
     "text": [
      "Successfully added to the comment list\n"
     ]
    }
   ],
   "source": [
    "z.new(\"Insert at end\")"
   ]
  },
  {
   "cell_type": "markdown",
   "id": "6d652faf",
   "metadata": {},
   "source": [
    "#### Insert at end"
   ]
  },
  {
   "cell_type": "code",
   "execution_count": 6,
   "id": "582a01f9",
   "metadata": {},
   "outputs": [],
   "source": [
    "def insertAtEnd(arr,sizeOfArray,element):\n",
    "    return arr.append(element)"
   ]
  },
  {
   "cell_type": "code",
   "execution_count": 7,
   "id": "5378d14b",
   "metadata": {},
   "outputs": [
    {
     "name": "stdout",
     "output_type": "stream",
     "text": [
      "Successfully added to the comment list\n"
     ]
    }
   ],
   "source": [
    "z.new(\"Array insert at index\")"
   ]
  },
  {
   "cell_type": "markdown",
   "id": "3c61837c",
   "metadata": {},
   "source": [
    "#### Array insert at index"
   ]
  },
  {
   "cell_type": "code",
   "execution_count": 8,
   "id": "a222d32b",
   "metadata": {},
   "outputs": [],
   "source": [
    "def insertAtIndex(arr, sizeOfArray, index, element):\n",
    "    return arr.insert(index, element)"
   ]
  },
  {
   "cell_type": "code",
   "execution_count": 9,
   "id": "a8c5065b",
   "metadata": {},
   "outputs": [
    {
     "name": "stdout",
     "output_type": "stream",
     "text": [
      "Successfully added to the comment list\n"
     ]
    }
   ],
   "source": [
    "z.new(\"Array Update At Index\")"
   ]
  },
  {
   "cell_type": "markdown",
   "id": "fc6bb0f0",
   "metadata": {},
   "source": [
    "#### Array Update At Index"
   ]
  },
  {
   "cell_type": "code",
   "execution_count": 13,
   "id": "1bd307a0",
   "metadata": {},
   "outputs": [],
   "source": [
    "z.removeLastelement()"
   ]
  },
  {
   "cell_type": "code",
   "execution_count": 14,
   "id": "4b675498",
   "metadata": {},
   "outputs": [],
   "source": [
    "def updateArray(arr,n,idx,element):\n",
    "    if idx > len(arr):\n",
    "        return -1\n",
    "    arr[idx] = element\n",
    "    return arr"
   ]
  },
  {
   "cell_type": "code",
   "execution_count": 15,
   "id": "1ad7b977",
   "metadata": {},
   "outputs": [
    {
     "name": "stdout",
     "output_type": "stream",
     "text": [
      "Successfully added to the comment list\n"
     ]
    }
   ],
   "source": [
    "z.new(\"Sum Element\")"
   ]
  },
  {
   "cell_type": "markdown",
   "id": "ac18b8af",
   "metadata": {},
   "source": [
    "#### Sum Element"
   ]
  },
  {
   "cell_type": "code",
   "execution_count": 16,
   "id": "4fd9d549",
   "metadata": {},
   "outputs": [],
   "source": [
    "def sumElement(arr,n):\n",
    "    sum = 0\n",
    "    for i in arr:\n",
    "        sum += i\n",
    "    return sum"
   ]
  },
  {
   "cell_type": "code",
   "execution_count": 17,
   "id": "cbda276d",
   "metadata": {},
   "outputs": [
    {
     "name": "stdout",
     "output_type": "stream",
     "text": [
      "Successfully added to the comment list\n"
     ]
    }
   ],
   "source": [
    "z.new(\"Mean and Median\")"
   ]
  },
  {
   "cell_type": "markdown",
   "id": "fe3e7b23",
   "metadata": {},
   "source": [
    "#### Mean and Median"
   ]
  },
  {
   "cell_type": "code",
   "execution_count": 18,
   "id": "1f11984c",
   "metadata": {},
   "outputs": [],
   "source": [
    "def median(self,A,N):\n",
    "\n",
    "    A.sort()\n",
    "    l = 0\n",
    "    h = len(A) - 1\n",
    "    mid = int((l+h)/2)\n",
    "    median = int(A[mid])\n",
    "    return A[mid]\n",
    "\n",
    "def mean(self,A,N):\n",
    "    mean = sum(A)/len(A)\n",
    "    return int(mean)"
   ]
  },
  {
   "cell_type": "code",
   "execution_count": 19,
   "id": "9487b7a0",
   "metadata": {},
   "outputs": [
    {
     "name": "stdout",
     "output_type": "stream",
     "text": [
      "Successfully added to the comment list\n"
     ]
    }
   ],
   "source": [
    "z.new(\"Count smaller than x\")"
   ]
  },
  {
   "cell_type": "markdown",
   "id": "b2fbabd1",
   "metadata": {},
   "source": [
    "#### Count smaller than x"
   ]
  },
  {
   "cell_type": "code",
   "execution_count": 21,
   "id": "9eb675d0",
   "metadata": {},
   "outputs": [],
   "source": [
    "def smallerThanX(self,arr,n,x):\n",
    "    count = 0\n",
    "    for i in arr:\n",
    "        if i < x:\n",
    "            count += 1\n",
    "    return count"
   ]
  },
  {
   "cell_type": "code",
   "execution_count": 22,
   "id": "360d8704",
   "metadata": {},
   "outputs": [
    {
     "name": "stdout",
     "output_type": "stream",
     "text": [
      "Successfully added to the comment list\n"
     ]
    }
   ],
   "source": [
    "z.new(\"Immediate Smaller Number\")"
   ]
  },
  {
   "cell_type": "markdown",
   "id": "a384a82c",
   "metadata": {},
   "source": [
    "#### Immediate Smaller Number"
   ]
  },
  {
   "cell_type": "code",
   "execution_count": 23,
   "id": "c58af4dd",
   "metadata": {},
   "outputs": [],
   "source": [
    "def immediateSmaller(arr,n,x):\n",
    "    ans = -1\n",
    "    diff = 10000000000\n",
    "    for i in arr:\n",
    "        if i < x and x - i < diff:\n",
    "            ans = i\n",
    "            diff = x - i\n",
    "    return ans"
   ]
  },
  {
   "cell_type": "code",
   "execution_count": 24,
   "id": "a18283b2",
   "metadata": {},
   "outputs": [
    {
     "name": "stdout",
     "output_type": "stream",
     "text": [
      "Successfully added to the comment list\n"
     ]
    }
   ],
   "source": [
    "z.new(\"Count Elements Greater Than X\")"
   ]
  },
  {
   "cell_type": "code",
   "execution_count": 25,
   "id": "f91ab619",
   "metadata": {},
   "outputs": [],
   "source": [
    "def greaterThanX(arr,n,x):\n",
    "    count = 0\n",
    "    for i in arr:\n",
    "        if i > x:\n",
    "            count += 1\n",
    "    return count"
   ]
  },
  {
   "cell_type": "code",
   "execution_count": 26,
   "id": "1adeff5f",
   "metadata": {},
   "outputs": [
    {
     "name": "stdout",
     "output_type": "stream",
     "text": [
      "Successfully added to the comment list\n"
     ]
    }
   ],
   "source": [
    "z.new(\"Immediate Greater Element\")"
   ]
  },
  {
   "cell_type": "markdown",
   "id": "f0fee7c3",
   "metadata": {},
   "source": [
    "#### Immediate Greater Element"
   ]
  },
  {
   "cell_type": "code",
   "execution_count": 27,
   "id": "a4ad2444",
   "metadata": {},
   "outputs": [],
   "source": [
    "def immediateGreater(arr,n,x):\n",
    "    ans = -1\n",
    "    diff = 10000000\n",
    "    for i in arr:\n",
    "        if i > x and i - x < diff:\n",
    "            ans = i\n",
    "            diff = i - x\n",
    "    return ans"
   ]
  },
  {
   "cell_type": "code",
   "execution_count": 28,
   "id": "208a7ef5",
   "metadata": {},
   "outputs": [
    {
     "name": "stdout",
     "output_type": "stream",
     "text": [
      "Successfully added to the comment list\n"
     ]
    }
   ],
   "source": [
    "z.new(\"Who has the majority\")"
   ]
  },
  {
   "cell_type": "code",
   "execution_count": 29,
   "id": "fe2e7485",
   "metadata": {},
   "outputs": [],
   "source": [
    "def majorityWins(arr, n, x, y):\n",
    "    if x not in arr and y not in arr:\n",
    "        if x > y:\n",
    "            return y\n",
    "        else:\n",
    "            return x\n",
    "    elif arr.count(x) == arr.count(y):\n",
    "        if x < y:\n",
    "            return x\n",
    "        else:\n",
    "            return y\n",
    "    elif arr.count(x) > arr.count(y):\n",
    "        return x\n",
    "    else:\n",
    "        return y"
   ]
  },
  {
   "cell_type": "code",
   "execution_count": 30,
   "id": "e22e643e",
   "metadata": {},
   "outputs": [
    {
     "name": "stdout",
     "output_type": "stream",
     "text": [
      "Successfully added to the comment list\n"
     ]
    }
   ],
   "source": [
    "z.new(\"IsSorted\")"
   ]
  },
  {
   "cell_type": "markdown",
   "id": "73b61bb9",
   "metadata": {},
   "source": [
    "#### IsSorted"
   ]
  },
  {
   "cell_type": "code",
   "execution_count": 31,
   "id": "f043a1e0",
   "metadata": {},
   "outputs": [],
   "source": [
    "def isSorted(self,arr,n):\n",
    "    #code here\n",
    "    l1 = sorted(arr, reverse=True)\n",
    "    # print(l1)\n",
    "    if arr == l1:\n",
    "        return 1\n",
    "    else:\n",
    "        return 0"
   ]
  },
  {
   "cell_type": "code",
   "execution_count": 32,
   "id": "badbd8c0",
   "metadata": {},
   "outputs": [
    {
     "name": "stdout",
     "output_type": "stream",
     "text": [
      "Successfully added to the comment list\n"
     ]
    }
   ],
   "source": [
    "z.new(\"Rotate array\")"
   ]
  },
  {
   "cell_type": "code",
   "execution_count": null,
   "id": "c71d6b0a",
   "metadata": {},
   "outputs": [],
   "source": [
    "    def rotateArr(self,A,D,N):\n",
    "        D%=N\n",
    "        #First reversing d elements from starting index.\n",
    "        A[0:D]=reversed(A[0:D])\n",
    "        \n",
    "        #Then reversing the last n-d elements.\n",
    "        A[D:N]=reversed(A[D:N])\n",
    "        \n",
    "        #Finally, reversing the whole array.\n",
    "        A[0:N]=reversed(A[0:N])"
   ]
  }
 ],
 "metadata": {
  "kernelspec": {
   "display_name": "Python 3 (ipykernel)",
   "language": "python",
   "name": "python3"
  },
  "language_info": {
   "codemirror_mode": {
    "name": "ipython",
    "version": 3
   },
   "file_extension": ".py",
   "mimetype": "text/x-python",
   "name": "python",
   "nbconvert_exporter": "python",
   "pygments_lexer": "ipython3",
   "version": "3.10.9"
  }
 },
 "nbformat": 4,
 "nbformat_minor": 5
}

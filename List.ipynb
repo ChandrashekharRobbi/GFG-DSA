{
 "cells": [
  {
   "cell_type": "code",
   "execution_count": 1,
   "id": "184ec89e",
   "metadata": {},
   "outputs": [
    {
     "name": "stdout",
     "output_type": "stream",
     "text": [
      "I am changed!!\n"
     ]
    }
   ],
   "source": [
    "from imp_personal import MyFunction\n",
    "z = MyFunction()"
   ]
  },
  {
   "cell_type": "markdown",
   "id": "39892d94",
   "metadata": {},
   "source": [
    "# List\n",
    "\n",
    "**Problems**\n",
    "\n",
    "1. [Get Element at Index](#Get-Element-at-Index)\n",
    "1. [Insert at end](#Insert-at-end)\n",
    "1. [Array insert at index](#Array-insert-at-index)\n",
    "1. [Array Update At Index](#Array-Update-At-Index)\n",
    "1. [Sum Element](#Sum-Element)\n",
    "1. [Mean and Median](#Mean-and-Median)\n",
    "1. [Count smaller than x](#Count-smaller-than-x)\n",
    "1. [Immediate Smaller Number](#Immediate-Smaller-Number)\n",
    "1. [Count Elements Greater Than X](#Count-Elements-Greater-Than-X)\n",
    "1. [Immediate Greater Element](#Immediate-Greater-Element)\n",
    "1. [Who has the majority](#Who-has-the-majority)\n",
    "1. [IsSorted](#IsSorted)\n",
    "1. [Rotate array](#Rotate-array)"
   ]
  },
  {
   "cell_type": "markdown",
   "id": "f61db5ea",
   "metadata": {},
   "source": [
    "#### Get Element at Index"
   ]
  },
  {
   "cell_type": "code",
   "execution_count": 7,
   "id": "f9c5c23c",
   "metadata": {},
   "outputs": [],
   "source": [
    "def getByIndex(arr,n,idx):\n",
    "    if idx > len(arr) - 1:\n",
    "        return -1\n",
    "    return arr[idx]\n",
    "    "
   ]
  },
  {
   "cell_type": "markdown",
   "id": "bd7261bd",
   "metadata": {},
   "source": [
    "#### Insert at end"
   ]
  },
  {
   "cell_type": "code",
   "execution_count": 8,
   "id": "4c48c76e",
   "metadata": {},
   "outputs": [],
   "source": [
    "def insertAtEnd(arr,sizeOfArray,element):\n",
    "    return arr.append(element)"
   ]
  },
  {
   "cell_type": "markdown",
   "id": "28bb9183",
   "metadata": {},
   "source": [
    "#### Array insert at index"
   ]
  },
  {
   "cell_type": "code",
   "execution_count": 9,
   "id": "da514364",
   "metadata": {},
   "outputs": [],
   "source": [
    "def insertAtIndex(arr, sizeOfArray, index, element):\n",
    "    return arr.insert(index, element)"
   ]
  },
  {
   "cell_type": "markdown",
   "id": "c9fe62e9",
   "metadata": {},
   "source": [
    "#### Array Update At Index"
   ]
  },
  {
   "cell_type": "code",
   "execution_count": 10,
   "id": "32c50549",
   "metadata": {},
   "outputs": [],
   "source": [
    "def updateArray(arr,n,idx,element):\n",
    "    if idx > len(arr):\n",
    "        return -1\n",
    "    arr[idx] = element\n",
    "    return arr"
   ]
  },
  {
   "cell_type": "markdown",
   "id": "66974ea8",
   "metadata": {},
   "source": [
    "#### Sum Element"
   ]
  },
  {
   "cell_type": "code",
   "execution_count": 11,
   "id": "347d3f68",
   "metadata": {},
   "outputs": [],
   "source": [
    "def sumElement(arr,n):\n",
    "    sum = 0\n",
    "    for i in arr:\n",
    "        sum += i\n",
    "    return sum"
   ]
  },
  {
   "cell_type": "markdown",
   "id": "4e201761",
   "metadata": {},
   "source": [
    "#### Mean and Median"
   ]
  },
  {
   "cell_type": "code",
   "execution_count": 12,
   "id": "f4209e2d",
   "metadata": {},
   "outputs": [],
   "source": [
    "def median(self,A,N):\n",
    "\n",
    "    A.sort()\n",
    "    l = 0\n",
    "    h = len(A) - 1\n",
    "    mid = int((l+h)/2)\n",
    "    median = int(A[mid])\n",
    "    return A[mid]\n",
    "\n",
    "def mean(self,A,N):\n",
    "    mean = sum(A)/len(A)\n",
    "    return int(mean)"
   ]
  },
  {
   "cell_type": "markdown",
   "id": "f7360b66",
   "metadata": {},
   "source": [
    "#### Count smaller than x"
   ]
  },
  {
   "cell_type": "code",
   "execution_count": 13,
   "id": "403d7515",
   "metadata": {},
   "outputs": [],
   "source": [
    "def smallerThanX(self,arr,n,x):\n",
    "    count = 0\n",
    "    for i in arr:\n",
    "        if i < x:\n",
    "            count += 1\n",
    "    return count"
   ]
  },
  {
   "cell_type": "markdown",
   "id": "2e16bea3",
   "metadata": {},
   "source": [
    "#### Immediate Smaller Number"
   ]
  },
  {
   "cell_type": "code",
   "execution_count": 14,
   "id": "634b6021",
   "metadata": {},
   "outputs": [],
   "source": [
    "def immediateSmaller(arr,n,x):\n",
    "    ans = -1\n",
    "    diff = 10000000000\n",
    "    for i in arr:\n",
    "        if i < x and x - i < diff:\n",
    "            ans = i\n",
    "            diff = x - i\n",
    "    return ans"
   ]
  },
  {
   "cell_type": "code",
   "execution_count": 15,
   "id": "3a359ab4",
   "metadata": {},
   "outputs": [],
   "source": [
    "def greaterThanX(arr,n,x):\n",
    "    count = 0\n",
    "    for i in arr:\n",
    "        if i > x:\n",
    "            count += 1\n",
    "    return count"
   ]
  },
  {
   "cell_type": "markdown",
   "id": "27450e71",
   "metadata": {},
   "source": [
    "#### Immediate Greater Element"
   ]
  },
  {
   "cell_type": "code",
   "execution_count": 16,
   "id": "34b15bc5",
   "metadata": {},
   "outputs": [],
   "source": [
    "def immediateGreater(arr,n,x):\n",
    "    ans = -1\n",
    "    diff = 10000000\n",
    "    for i in arr:\n",
    "        if i > x and i - x < diff:\n",
    "            ans = i\n",
    "            diff = i - x\n",
    "    return ans"
   ]
  },
  {
   "cell_type": "code",
   "execution_count": 17,
   "id": "48c0ca4f",
   "metadata": {},
   "outputs": [],
   "source": [
    "def majorityWins(arr, n, x, y):\n",
    "    if x not in arr and y not in arr:\n",
    "        if x > y:\n",
    "            return y\n",
    "        else:\n",
    "            return x\n",
    "    elif arr.count(x) == arr.count(y):\n",
    "        if x < y:\n",
    "            return x\n",
    "        else:\n",
    "            return y\n",
    "    elif arr.count(x) > arr.count(y):\n",
    "        return x\n",
    "    else:\n",
    "        return y"
   ]
  },
  {
   "cell_type": "markdown",
   "id": "a22edd3e",
   "metadata": {},
   "source": [
    "#### IsSorted"
   ]
  },
  {
   "cell_type": "code",
   "execution_count": 18,
   "id": "8144ee8a",
   "metadata": {},
   "outputs": [],
   "source": [
    "def isSorted(self,arr,n):\n",
    "    #code here\n",
    "    l1 = sorted(arr, reverse=True)\n",
    "    # print(l1)\n",
    "    if arr == l1:\n",
    "        return 1\n",
    "    else:\n",
    "        return 0"
   ]
  },
  {
   "cell_type": "markdown",
   "id": "1ba41b90",
   "metadata": {},
   "source": [
    "#### Rotate array"
   ]
  },
  {
   "cell_type": "code",
   "execution_count": 19,
   "id": "6774a3da",
   "metadata": {},
   "outputs": [],
   "source": [
    "def rotateArr(self,A,D,N):\n",
    "    D%=N\n",
    "    #First reversing d elements from starting index.\n",
    "    A[0:D]=reversed(A[0:D])\n",
    "\n",
    "    #Then reversing the last n-d elements.\n",
    "    A[D:N]=reversed(A[D:N])\n",
    "\n",
    "    #Finally, reversing the whole array.\n",
    "    A[0:N]=reversed(A[0:N])"
   ]
  },
  {
   "cell_type": "code",
   "execution_count": 21,
   "id": "4d557d0d",
   "metadata": {},
   "outputs": [],
   "source": [
    "z.makeNullArr()"
   ]
  },
  {
   "cell_type": "markdown",
   "id": "af02fdc3",
   "metadata": {},
   "source": [
    "#### Left Rotate by d places"
   ]
  },
  {
   "cell_type": "markdown",
   "id": "a88937b8",
   "metadata": {},
   "source": [
    "##### By using Slicing"
   ]
  },
  {
   "cell_type": "code",
   "execution_count": 25,
   "id": "57b7e3d1",
   "metadata": {},
   "outputs": [],
   "source": [
    "arr = [10,20,30,40,50]"
   ]
  },
  {
   "cell_type": "code",
   "execution_count": 26,
   "id": "7c9babf8",
   "metadata": {},
   "outputs": [],
   "source": [
    "def leftRotateBySlicing(arr, d):\n",
    "    return arr[d:] + arr[:d]"
   ]
  },
  {
   "cell_type": "code",
   "execution_count": 27,
   "id": "043a9181",
   "metadata": {},
   "outputs": [
    {
     "data": {
      "text/plain": [
       "[40, 50, 10, 20, 30]"
      ]
     },
     "execution_count": 27,
     "metadata": {},
     "output_type": "execute_result"
    }
   ],
   "source": [
    "leftRotateBySlicing(arr, 3)"
   ]
  },
  {
   "cell_type": "markdown",
   "id": "289f278b",
   "metadata": {},
   "source": [
    "##### By using deque from collections library"
   ]
  },
  {
   "cell_type": "code",
   "execution_count": 3,
   "id": "744126bc",
   "metadata": {},
   "outputs": [
    {
     "name": "stderr",
     "output_type": "stream",
     "text": [
      "Traceback (most recent call last):\n",
      "  File \"C:\\GFG_DataScience\\env\\Scripts\\jupyter-nbextension-script.py\", line 10, in <module>\n",
      "    sys.exit(main())\n",
      "  File \"C:\\GFG_DataScience\\env\\lib\\site-packages\\jupyter_core\\application.py\", line 276, in launch_instance\n",
      "    return super().launch_instance(argv=argv, **kwargs)\n",
      "  File \"C:\\GFG_DataScience\\env\\lib\\site-packages\\traitlets\\config\\application.py\", line 992, in launch_instance\n",
      "    app.start()\n",
      "  File \"C:\\GFG_DataScience\\env\\lib\\site-packages\\notebook\\nbextensions.py\", line 972, in start\n",
      "    super().start()\n",
      "  File \"C:\\GFG_DataScience\\env\\lib\\site-packages\\jupyter_core\\application.py\", line 265, in start\n",
      "    self.subapp.start()\n",
      "  File \"C:\\GFG_DataScience\\env\\lib\\site-packages\\notebook\\nbextensions.py\", line 882, in start\n",
      "    self.toggle_nbextension_python(self.extra_args[0])\n",
      "  File \"C:\\GFG_DataScience\\env\\lib\\site-packages\\notebook\\nbextensions.py\", line 855, in toggle_nbextension_python\n",
      "    return toggle(module,\n",
      "  File \"C:\\GFG_DataScience\\env\\lib\\site-packages\\notebook\\nbextensions.py\", line 470, in enable_nbextension_python\n",
      "    return _set_nbextension_state_python(True, module, user, sys_prefix,\n",
      "  File \"C:\\GFG_DataScience\\env\\lib\\site-packages\\notebook\\nbextensions.py\", line 368, in _set_nbextension_state_python\n",
      "    m, nbexts = _get_nbextension_metadata(module)\n",
      "  File \"C:\\GFG_DataScience\\env\\lib\\site-packages\\notebook\\nbextensions.py\", line 1107, in _get_nbextension_metadata\n",
      "    m = import_item(module)\n",
      "  File \"C:\\GFG_DataScience\\env\\lib\\site-packages\\traitlets\\utils\\importstring.py\", line 38, in import_item\n",
      "    return __import__(parts[0])\n",
      "ModuleNotFoundError: No module named 'last_cell'\n"
     ]
    }
   ],
   "source": [
    "!jupyter nbextension enable --py last_cell"
   ]
  },
  {
   "cell_type": "code",
   "execution_count": 2,
   "id": "b5d50160",
   "metadata": {
    "scrolled": true
   },
   "outputs": [
    {
     "name": "stdout",
     "output_type": "stream",
     "text": [
      "Successfully added to the comment list\n"
     ]
    },
    {
     "data": {
      "application/javascript": [
       "\n",
       "            var cell_index = LastCell.prev_cell;\n",
       "            IPython.notebook.delete_cell(cell_index);\n",
       "        "
      ],
      "text/plain": [
       "<IPython.core.display.Javascript object>"
      ]
     },
     "metadata": {},
     "output_type": "display_data"
    }
   ],
   "source": [
    "z.new(\"he;;p\")"
   ]
  },
  {
   "cell_type": "code",
   "execution_count": null,
   "id": "83b1019a",
   "metadata": {},
   "outputs": [],
   "source": []
  }
 ],
 "metadata": {
  "kernelspec": {
   "display_name": "Python 3 (ipykernel)",
   "language": "python",
   "name": "python3"
  },
  "language_info": {
   "codemirror_mode": {
    "name": "ipython",
    "version": 3
   },
   "file_extension": ".py",
   "mimetype": "text/x-python",
   "name": "python",
   "nbconvert_exporter": "python",
   "pygments_lexer": "ipython3",
   "version": "3.10.9"
  }
 },
 "nbformat": 4,
 "nbformat_minor": 5
}

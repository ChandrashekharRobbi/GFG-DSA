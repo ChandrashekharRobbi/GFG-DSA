{
 "cells": [
  {
   "cell_type": "code",
   "execution_count": 1,
   "id": "92eb1dde",
   "metadata": {},
   "outputs": [],
   "source": [
    "from imp_personal import MyFunction\n",
    "z = MyFunction()"
   ]
  },
  {
   "cell_type": "markdown",
   "id": "efe2b158",
   "metadata": {},
   "source": [
    "# List\n",
    "\n",
    "**Problems**"
   ]
  },
  {
   "cell_type": "code",
   "execution_count": 2,
   "id": "8b964b25",
   "metadata": {},
   "outputs": [
    {
     "name": "stdout",
     "output_type": "stream",
     "text": [
      "Successfully added to the comment list\n"
     ]
    }
   ],
   "source": [
    "z.new(\"Get Element at Index\")"
   ]
  },
  {
   "cell_type": "markdown",
   "id": "863cff9c",
   "metadata": {},
   "source": [
    "#### Get Element at Index"
   ]
  },
  {
   "cell_type": "code",
   "execution_count": 3,
   "id": "a29e34eb",
   "metadata": {},
   "outputs": [],
   "source": [
    "def getByIndex(arr,n,idx):\n",
    "    if idx > len(arr) - 1:\n",
    "        return -1\n",
    "    return arr[idx]\n",
    "    "
   ]
  },
  {
   "cell_type": "code",
   "execution_count": 5,
   "id": "366610ea",
   "metadata": {},
   "outputs": [
    {
     "name": "stdout",
     "output_type": "stream",
     "text": [
      "Successfully added to the comment list\n"
     ]
    }
   ],
   "source": [
    "z.new(\"Insert at end\")"
   ]
  },
  {
   "cell_type": "markdown",
   "id": "e561c5dc",
   "metadata": {},
   "source": [
    "#### Insert at end"
   ]
  },
  {
   "cell_type": "code",
   "execution_count": 6,
   "id": "0894acb2",
   "metadata": {},
   "outputs": [],
   "source": [
    "def insertAtEnd(arr,sizeOfArray,element):\n",
    "    return arr.append(element)"
   ]
  },
  {
   "cell_type": "code",
   "execution_count": 7,
   "id": "86be327f",
   "metadata": {},
   "outputs": [
    {
     "name": "stdout",
     "output_type": "stream",
     "text": [
      "Successfully added to the comment list\n"
     ]
    }
   ],
   "source": [
    "z.new(\"Array insert at index\")"
   ]
  },
  {
   "cell_type": "markdown",
   "id": "b4fc0c30",
   "metadata": {},
   "source": [
    "#### Array insert at index"
   ]
  },
  {
   "cell_type": "code",
   "execution_count": null,
   "id": "17f58b5c",
   "metadata": {},
   "outputs": [],
   "source": [
    "def insertAtIndex(self, arr, sizeOfArray, index, element):\n",
    "    #Your code here\n",
    "    return arr.insert(index, element)"
   ]
  }
 ],
 "metadata": {
  "kernelspec": {
   "display_name": "Python 3 (ipykernel)",
   "language": "python",
   "name": "python3"
  },
  "language_info": {
   "codemirror_mode": {
    "name": "ipython",
    "version": 3
   },
   "file_extension": ".py",
   "mimetype": "text/x-python",
   "name": "python",
   "nbconvert_exporter": "python",
   "pygments_lexer": "ipython3",
   "version": "3.10.9"
  }
 },
 "nbformat": 4,
 "nbformat_minor": 5
}

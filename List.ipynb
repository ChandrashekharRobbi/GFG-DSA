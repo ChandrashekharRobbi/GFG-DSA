{
 "cells": [
  {
   "cell_type": "code",
   "execution_count": 63,
   "id": "184ec89e",
   "metadata": {},
   "outputs": [
    {
     "name": "stdout",
     "output_type": "stream",
     "text": [
      "Note that after executing new function your next cell will automatically converted to markdown cell :)\n"
     ]
    }
   ],
   "source": [
    "%run imp_personal.py\n",
    "z = MyFunction()"
   ]
  },
  {
   "cell_type": "markdown",
   "id": "39892d94",
   "metadata": {},
   "source": [
    "# List\n",
    "\n",
    "**Problems**\n",
    "\n",
    "1. [Get Element at Index](#Get-Element-at-Index)\n",
    "1. [Insert at end](#Insert-at-end)\n",
    "1. [Array insert at index](#Array-insert-at-index)\n",
    "1. [Array Update At Index](#Array-Update-At-Index)\n",
    "1. [Sum Element](#Sum-Element)\n",
    "1. [Mean and Median](#Mean-and-Median)\n",
    "1. [Count smaller than x](#Count-smaller-than-x)\n",
    "1. [Immediate Smaller Number](#Immediate-Smaller-Number)\n",
    "1. [Count Elements Greater Than X](#Count-Elements-Greater-Than-X)\n",
    "1. [Immediate Greater Element](#Immediate-Greater-Element)\n",
    "1. [Who has the majority](#Who-has-the-majority)\n",
    "1. [IsSorted](#IsSorted)\n",
    "1. [Rotate array](#Rotate-array)\n",
    "1. [Left Rotate by d places](#Left-Rotate-by-d-places)\n",
    "    1. [By using Slicing](#By-using-Slicing)\n",
    "    1. [By using deque from collections library](#By-using-deque-from-collections-library)\n",
    "    1. [Own Method](#Own-Method)"
   ]
  },
  {
   "cell_type": "markdown",
   "id": "f61db5ea",
   "metadata": {},
   "source": [
    "#### Get Element at Index"
   ]
  },
  {
   "cell_type": "code",
   "execution_count": 64,
   "id": "f9c5c23c",
   "metadata": {},
   "outputs": [],
   "source": [
    "def getByIndex(arr,n,idx):\n",
    "    if idx > len(arr) - 1:\n",
    "        return -1\n",
    "    return arr[idx]\n",
    "    "
   ]
  },
  {
   "cell_type": "markdown",
   "id": "bd7261bd",
   "metadata": {},
   "source": [
    "#### Insert at end"
   ]
  },
  {
   "cell_type": "code",
   "execution_count": 65,
   "id": "4c48c76e",
   "metadata": {},
   "outputs": [],
   "source": [
    "def insertAtEnd(arr,sizeOfArray,element):\n",
    "    return arr.append(element)"
   ]
  },
  {
   "cell_type": "markdown",
   "id": "28bb9183",
   "metadata": {},
   "source": [
    "#### Array insert at index"
   ]
  },
  {
   "cell_type": "code",
   "execution_count": 66,
   "id": "da514364",
   "metadata": {},
   "outputs": [],
   "source": [
    "def insertAtIndex(arr, sizeOfArray, index, element):\n",
    "    return arr.insert(index, element)"
   ]
  },
  {
   "cell_type": "markdown",
   "id": "c9fe62e9",
   "metadata": {},
   "source": [
    "#### Array Update At Index"
   ]
  },
  {
   "cell_type": "code",
   "execution_count": 67,
   "id": "32c50549",
   "metadata": {},
   "outputs": [],
   "source": [
    "def updateArray(arr,n,idx,element):\n",
    "    if idx > len(arr):\n",
    "        return -1\n",
    "    arr[idx] = element\n",
    "    return arr"
   ]
  },
  {
   "cell_type": "markdown",
   "id": "66974ea8",
   "metadata": {},
   "source": [
    "#### Sum Element"
   ]
  },
  {
   "cell_type": "code",
   "execution_count": 68,
   "id": "347d3f68",
   "metadata": {},
   "outputs": [],
   "source": [
    "def sumElement(arr,n):\n",
    "    sum = 0\n",
    "    for i in arr:\n",
    "        sum += i\n",
    "    return sum"
   ]
  },
  {
   "cell_type": "markdown",
   "id": "4e201761",
   "metadata": {},
   "source": [
    "#### Mean and Median"
   ]
  },
  {
   "cell_type": "code",
   "execution_count": 69,
   "id": "f4209e2d",
   "metadata": {},
   "outputs": [],
   "source": [
    "def median(self,A,N):\n",
    "\n",
    "    A.sort()\n",
    "    l = 0\n",
    "    h = len(A) - 1\n",
    "    mid = int((l+h)/2)\n",
    "    median = int(A[mid])\n",
    "    return A[mid]\n",
    "\n",
    "def mean(self,A,N):\n",
    "    mean = sum(A)/len(A)\n",
    "    return int(mean)"
   ]
  },
  {
   "cell_type": "markdown",
   "id": "f7360b66",
   "metadata": {},
   "source": [
    "#### Count smaller than x"
   ]
  },
  {
   "cell_type": "code",
   "execution_count": 70,
   "id": "403d7515",
   "metadata": {},
   "outputs": [],
   "source": [
    "def smallerThanX(self,arr,n,x):\n",
    "    count = 0\n",
    "    for i in arr:\n",
    "        if i < x:\n",
    "            count += 1\n",
    "    return count"
   ]
  },
  {
   "cell_type": "markdown",
   "id": "2e16bea3",
   "metadata": {},
   "source": [
    "#### Immediate Smaller Number"
   ]
  },
  {
   "cell_type": "code",
   "execution_count": 71,
   "id": "634b6021",
   "metadata": {},
   "outputs": [],
   "source": [
    "def immediateSmaller(arr,n,x):\n",
    "    ans = -1\n",
    "    diff = 10000000000\n",
    "    for i in arr:\n",
    "        if i < x and x - i < diff:\n",
    "            ans = i\n",
    "            diff = x - i\n",
    "    return ans"
   ]
  },
  {
   "cell_type": "code",
   "execution_count": 72,
   "id": "3a359ab4",
   "metadata": {},
   "outputs": [],
   "source": [
    "def greaterThanX(arr,n,x):\n",
    "    count = 0\n",
    "    for i in arr:\n",
    "        if i > x:\n",
    "            count += 1\n",
    "    return count"
   ]
  },
  {
   "cell_type": "markdown",
   "id": "27450e71",
   "metadata": {},
   "source": [
    "#### Immediate Greater Element"
   ]
  },
  {
   "cell_type": "code",
   "execution_count": 73,
   "id": "34b15bc5",
   "metadata": {},
   "outputs": [],
   "source": [
    "def immediateGreater(arr,n,x):\n",
    "    ans = -1\n",
    "    diff = 10000000\n",
    "    for i in arr:\n",
    "        if i > x and i - x < diff:\n",
    "            ans = i\n",
    "            diff = i - x\n",
    "    return ans"
   ]
  },
  {
   "cell_type": "code",
   "execution_count": 74,
   "id": "48c0ca4f",
   "metadata": {},
   "outputs": [],
   "source": [
    "def majorityWins(arr, n, x, y):\n",
    "    if x not in arr and y not in arr:\n",
    "        if x > y:\n",
    "            return y\n",
    "        else:\n",
    "            return x\n",
    "    elif arr.count(x) == arr.count(y):\n",
    "        if x < y:\n",
    "            return x\n",
    "        else:\n",
    "            return y\n",
    "    elif arr.count(x) > arr.count(y):\n",
    "        return x\n",
    "    else:\n",
    "        return y"
   ]
  },
  {
   "cell_type": "markdown",
   "id": "a22edd3e",
   "metadata": {},
   "source": [
    "#### IsSorted"
   ]
  },
  {
   "cell_type": "code",
   "execution_count": 75,
   "id": "8144ee8a",
   "metadata": {},
   "outputs": [],
   "source": [
    "def isSorted(self,arr,n):\n",
    "    #code here\n",
    "    l1 = sorted(arr, reverse=True)\n",
    "    # print(l1)\n",
    "    if arr == l1:\n",
    "        return 1\n",
    "    else:\n",
    "        return 0"
   ]
  },
  {
   "cell_type": "markdown",
   "id": "5dbe7055",
   "metadata": {},
   "source": [
    "#### Rotate array"
   ]
  },
  {
   "cell_type": "code",
   "execution_count": 76,
   "id": "6774a3da",
   "metadata": {},
   "outputs": [],
   "source": [
    "def rotateArr(self,A,D,N):\n",
    "    D%=N\n",
    "    #First reversing d elements from starting index.\n",
    "    A[0:D]=reversed(A[0:D])\n",
    "\n",
    "    #Then reversing the last n-d elements.\n",
    "    A[D:N]=reversed(A[D:N])\n",
    "\n",
    "    #Finally, reversing the whole array.\n",
    "    A[0:N]=reversed(A[0:N])"
   ]
  },
  {
   "cell_type": "markdown",
   "id": "6d934536",
   "metadata": {},
   "source": [
    "#### Left Rotate by d places"
   ]
  },
  {
   "cell_type": "markdown",
   "id": "e3e02312",
   "metadata": {},
   "source": [
    "##### By using Slicing"
   ]
  },
  {
   "cell_type": "code",
   "execution_count": 77,
   "id": "733a0222",
   "metadata": {},
   "outputs": [],
   "source": [
    "arr = [10,20,30,40,50]"
   ]
  },
  {
   "cell_type": "code",
   "execution_count": 78,
   "id": "0f704e0f",
   "metadata": {},
   "outputs": [],
   "source": [
    "def leftRotateBySlicing(arr, d):\n",
    "    return arr[d:] + arr[:d]"
   ]
  },
  {
   "cell_type": "code",
   "execution_count": 79,
   "id": "ad777e37",
   "metadata": {},
   "outputs": [
    {
     "data": {
      "text/plain": [
       "[40, 50, 10, 20, 30]"
      ]
     },
     "execution_count": 79,
     "metadata": {},
     "output_type": "execute_result"
    }
   ],
   "source": [
    "leftRotateBySlicing(arr, 3)"
   ]
  },
  {
   "cell_type": "markdown",
   "id": "0b682771",
   "metadata": {},
   "source": [
    "##### By using deque from collections library"
   ]
  },
  {
   "cell_type": "code",
   "execution_count": 80,
   "id": "0c83a75f",
   "metadata": {},
   "outputs": [],
   "source": [
    "from collections import deque"
   ]
  },
  {
   "cell_type": "code",
   "execution_count": 81,
   "id": "567e17a7",
   "metadata": {},
   "outputs": [
    {
     "data": {
      "text/plain": [
       "[30, 40, 50, 10, 20]"
      ]
     },
     "execution_count": 81,
     "metadata": {},
     "output_type": "execute_result"
    }
   ],
   "source": [
    "l = [10,20,30,40,50]\n",
    "d = 2\n",
    "dq = deque(l)\n",
    "dq.rotate(-d)\n",
    "l = list(dq)\n",
    "l"
   ]
  },
  {
   "cell_type": "markdown",
   "id": "165d19e6",
   "metadata": {},
   "source": [
    "##### Own Method"
   ]
  },
  {
   "cell_type": "code",
   "execution_count": 87,
   "id": "cad823e4",
   "metadata": {},
   "outputs": [],
   "source": [
    "def reverse(arr, s, e):\n",
    "    while s<e:\n",
    "        arr[s] , arr[e] = arr[e], arr[s]\n",
    "        s += 1\n",
    "        e -= 1\n",
    "        \n",
    "        \n",
    "def leftRotateByReverse(arr, d):\n",
    "    n = len(arr)\n",
    "    reverse(arr, 0 , d-1)\n",
    "    reverse(arr, d, n -1)\n",
    "    reverse(arr, 0, n -1)\n",
    "    return arr"
   ]
  },
  {
   "cell_type": "code",
   "execution_count": 90,
   "id": "72d411fb",
   "metadata": {},
   "outputs": [],
   "source": [
    "arr = [10,20,30,40,50,60]"
   ]
  },
  {
   "cell_type": "code",
   "execution_count": 91,
   "id": "e16f08ac",
   "metadata": {},
   "outputs": [
    {
     "data": {
      "text/plain": [
       "[40, 50, 60, 10, 20, 30]"
      ]
     },
     "execution_count": 91,
     "metadata": {},
     "output_type": "execute_result"
    }
   ],
   "source": [
    "leftRotateByReverse(arr, 3)"
   ]
  }
 ],
 "metadata": {
  "kernelspec": {
   "display_name": "Python 3 (ipykernel)",
   "language": "python",
   "name": "python3"
  },
  "language_info": {
   "codemirror_mode": {
    "name": "ipython",
    "version": 3
   },
   "file_extension": ".py",
   "mimetype": "text/x-python",
   "name": "python",
   "nbconvert_exporter": "python",
   "pygments_lexer": "ipython3",
   "version": "3.10.9"
  }
 },
 "nbformat": 4,
 "nbformat_minor": 5
}

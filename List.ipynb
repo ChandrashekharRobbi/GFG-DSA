{
 "cells": [
  {
   "cell_type": "code",
   "execution_count": 1,
   "id": "6bfddf1b",
   "metadata": {},
   "outputs": [],
   "source": [
    "from imp_personal import MyFunction\n",
    "z = MyFunction()"
   ]
  },
  {
   "cell_type": "markdown",
   "id": "325fbaff",
   "metadata": {},
   "source": [
    "# List\n",
    "\n",
    "**Problems**\n",
    "\n",
    "1. [Get Element at Index](#Get-Element-at-Index)\n",
    "1. [Insert at end](#Insert-at-end)\n",
    "1. [Array insert at index](#Array-insert-at-index)\n",
    "1. [Array Update At Index](#Array-Update-At-Index)\n",
    "1. [Sum Element](#Sum-Element)\n",
    "1. [Mean and Median](#Mean-and-Median)\n",
    "1. [Count smaller than x](#Count-smaller-than-x)\n",
    "1. [Immediate Smaller Number](#Immediate-Smaller-Number)\n",
    "1. [Count Elements Greater Than X](#Count-Elements-Greater-Than-X)\n",
    "1. [Immediate Greater Element](#Immediate-Greater-Element)\n",
    "1. [Who has the majority](#Who-has-the-majority)\n",
    "1. [IsSorted](#IsSorted)\n",
    "1. [Rotate array](#Rotate-array)"
   ]
  },
  {
   "cell_type": "code",
   "execution_count": 2,
   "id": "d71bef43",
   "metadata": {},
   "outputs": [
    {
     "name": "stdout",
     "output_type": "stream",
     "text": [
      "Successfully added to the comment list\n"
     ]
    }
   ],
   "source": [
    "z.new(\"Get Element at Index\")"
   ]
  },
  {
   "cell_type": "markdown",
   "id": "989aa7a3",
   "metadata": {},
   "source": [
    "#### Get Element at Index"
   ]
  },
  {
   "cell_type": "code",
   "execution_count": 3,
   "id": "25d46cb5",
   "metadata": {},
   "outputs": [],
   "source": [
    "def getByIndex(arr,n,idx):\n",
    "    if idx > len(arr) - 1:\n",
    "        return -1\n",
    "    return arr[idx]\n",
    "    "
   ]
  },
  {
   "cell_type": "code",
   "execution_count": 5,
   "id": "7d32c684",
   "metadata": {},
   "outputs": [
    {
     "name": "stdout",
     "output_type": "stream",
     "text": [
      "Successfully added to the comment list\n"
     ]
    }
   ],
   "source": [
    "z.new(\"Insert at end\")"
   ]
  },
  {
   "cell_type": "markdown",
   "id": "fd6a85da",
   "metadata": {},
   "source": [
    "#### Insert at end"
   ]
  },
  {
   "cell_type": "code",
   "execution_count": 6,
   "id": "ac484922",
   "metadata": {},
   "outputs": [],
   "source": [
    "def insertAtEnd(arr,sizeOfArray,element):\n",
    "    return arr.append(element)"
   ]
  },
  {
   "cell_type": "code",
   "execution_count": 7,
   "id": "1e36837a",
   "metadata": {},
   "outputs": [
    {
     "name": "stdout",
     "output_type": "stream",
     "text": [
      "Successfully added to the comment list\n"
     ]
    }
   ],
   "source": [
    "z.new(\"Array insert at index\")"
   ]
  },
  {
   "cell_type": "markdown",
   "id": "c04e531b",
   "metadata": {},
   "source": [
    "#### Array insert at index"
   ]
  },
  {
   "cell_type": "code",
   "execution_count": 8,
   "id": "50c6eaef",
   "metadata": {},
   "outputs": [],
   "source": [
    "def insertAtIndex(arr, sizeOfArray, index, element):\n",
    "    return arr.insert(index, element)"
   ]
  },
  {
   "cell_type": "code",
   "execution_count": 9,
   "id": "de7c1ff9",
   "metadata": {},
   "outputs": [
    {
     "name": "stdout",
     "output_type": "stream",
     "text": [
      "Successfully added to the comment list\n"
     ]
    }
   ],
   "source": [
    "z.new(\"Array Update At Index\")"
   ]
  },
  {
   "cell_type": "markdown",
   "id": "b394cc76",
   "metadata": {},
   "source": [
    "#### Array Update At Index"
   ]
  },
  {
   "cell_type": "code",
   "execution_count": 13,
   "id": "6f77d514",
   "metadata": {},
   "outputs": [],
   "source": [
    "z.removeLastelement()"
   ]
  },
  {
   "cell_type": "code",
   "execution_count": 14,
   "id": "3534ab93",
   "metadata": {},
   "outputs": [],
   "source": [
    "def updateArray(arr,n,idx,element):\n",
    "    if idx > len(arr):\n",
    "        return -1\n",
    "    arr[idx] = element\n",
    "    return arr"
   ]
  },
  {
   "cell_type": "code",
   "execution_count": 15,
   "id": "e7aa35a3",
   "metadata": {},
   "outputs": [
    {
     "name": "stdout",
     "output_type": "stream",
     "text": [
      "Successfully added to the comment list\n"
     ]
    }
   ],
   "source": [
    "z.new(\"Sum Element\")"
   ]
  },
  {
   "cell_type": "markdown",
   "id": "c525073e",
   "metadata": {},
   "source": [
    "#### Sum Element"
   ]
  },
  {
   "cell_type": "code",
   "execution_count": 16,
   "id": "ea82c477",
   "metadata": {},
   "outputs": [],
   "source": [
    "def sumElement(arr,n):\n",
    "    sum = 0\n",
    "    for i in arr:\n",
    "        sum += i\n",
    "    return sum"
   ]
  },
  {
   "cell_type": "code",
   "execution_count": 17,
   "id": "d4598dc3",
   "metadata": {},
   "outputs": [
    {
     "name": "stdout",
     "output_type": "stream",
     "text": [
      "Successfully added to the comment list\n"
     ]
    }
   ],
   "source": [
    "z.new(\"Mean and Median\")"
   ]
  },
  {
   "cell_type": "markdown",
   "id": "079773ba",
   "metadata": {},
   "source": [
    "#### Mean and Median"
   ]
  },
  {
   "cell_type": "code",
   "execution_count": 18,
   "id": "f7104f06",
   "metadata": {},
   "outputs": [],
   "source": [
    "def median(self,A,N):\n",
    "\n",
    "    A.sort()\n",
    "    l = 0\n",
    "    h = len(A) - 1\n",
    "    mid = int((l+h)/2)\n",
    "    median = int(A[mid])\n",
    "    return A[mid]\n",
    "\n",
    "def mean(self,A,N):\n",
    "    mean = sum(A)/len(A)\n",
    "    return int(mean)"
   ]
  },
  {
   "cell_type": "code",
   "execution_count": 19,
   "id": "3d151bb2",
   "metadata": {},
   "outputs": [
    {
     "name": "stdout",
     "output_type": "stream",
     "text": [
      "Successfully added to the comment list\n"
     ]
    }
   ],
   "source": [
    "z.new(\"Count smaller than x\")"
   ]
  },
  {
   "cell_type": "markdown",
   "id": "1f6b102a",
   "metadata": {},
   "source": [
    "#### Count smaller than x"
   ]
  },
  {
   "cell_type": "code",
   "execution_count": 21,
   "id": "bc1a49fd",
   "metadata": {},
   "outputs": [],
   "source": [
    "def smallerThanX(self,arr,n,x):\n",
    "    count = 0\n",
    "    for i in arr:\n",
    "        if i < x:\n",
    "            count += 1\n",
    "    return count"
   ]
  },
  {
   "cell_type": "code",
   "execution_count": 22,
   "id": "9990098c",
   "metadata": {},
   "outputs": [
    {
     "name": "stdout",
     "output_type": "stream",
     "text": [
      "Successfully added to the comment list\n"
     ]
    }
   ],
   "source": [
    "z.new(\"Immediate Smaller Number\")"
   ]
  },
  {
   "cell_type": "markdown",
   "id": "66f6dfbc",
   "metadata": {},
   "source": [
    "#### Immediate Smaller Number"
   ]
  },
  {
   "cell_type": "code",
   "execution_count": 23,
   "id": "84968fca",
   "metadata": {},
   "outputs": [],
   "source": [
    "def immediateSmaller(arr,n,x):\n",
    "    ans = -1\n",
    "    diff = 10000000000\n",
    "    for i in arr:\n",
    "        if i < x and x - i < diff:\n",
    "            ans = i\n",
    "            diff = x - i\n",
    "    return ans"
   ]
  },
  {
   "cell_type": "code",
   "execution_count": 24,
   "id": "42c187aa",
   "metadata": {},
   "outputs": [
    {
     "name": "stdout",
     "output_type": "stream",
     "text": [
      "Successfully added to the comment list\n"
     ]
    }
   ],
   "source": [
    "z.new(\"Count Elements Greater Than X\")"
   ]
  },
  {
   "cell_type": "code",
   "execution_count": 25,
   "id": "e6beeaa4",
   "metadata": {},
   "outputs": [],
   "source": [
    "def greaterThanX(arr,n,x):\n",
    "    count = 0\n",
    "    for i in arr:\n",
    "        if i > x:\n",
    "            count += 1\n",
    "    return count"
   ]
  },
  {
   "cell_type": "code",
   "execution_count": 26,
   "id": "c0d2852f",
   "metadata": {},
   "outputs": [
    {
     "name": "stdout",
     "output_type": "stream",
     "text": [
      "Successfully added to the comment list\n"
     ]
    }
   ],
   "source": [
    "z.new(\"Immediate Greater Element\")"
   ]
  },
  {
   "cell_type": "markdown",
   "id": "e6497168",
   "metadata": {},
   "source": [
    "#### Immediate Greater Element"
   ]
  },
  {
   "cell_type": "code",
   "execution_count": 27,
   "id": "16016f6e",
   "metadata": {},
   "outputs": [],
   "source": [
    "def immediateGreater(arr,n,x):\n",
    "    ans = -1\n",
    "    diff = 10000000\n",
    "    for i in arr:\n",
    "        if i > x and i - x < diff:\n",
    "            ans = i\n",
    "            diff = i - x\n",
    "    return ans"
   ]
  },
  {
   "cell_type": "code",
   "execution_count": 28,
   "id": "b87af35c",
   "metadata": {},
   "outputs": [
    {
     "name": "stdout",
     "output_type": "stream",
     "text": [
      "Successfully added to the comment list\n"
     ]
    }
   ],
   "source": [
    "z.new(\"Who has the majority\")"
   ]
  },
  {
   "cell_type": "code",
   "execution_count": 29,
   "id": "3dfcb9c4",
   "metadata": {},
   "outputs": [],
   "source": [
    "def majorityWins(arr, n, x, y):\n",
    "    if x not in arr and y not in arr:\n",
    "        if x > y:\n",
    "            return y\n",
    "        else:\n",
    "            return x\n",
    "    elif arr.count(x) == arr.count(y):\n",
    "        if x < y:\n",
    "            return x\n",
    "        else:\n",
    "            return y\n",
    "    elif arr.count(x) > arr.count(y):\n",
    "        return x\n",
    "    else:\n",
    "        return y"
   ]
  },
  {
   "cell_type": "code",
   "execution_count": 30,
   "id": "30bab4a4",
   "metadata": {},
   "outputs": [
    {
     "name": "stdout",
     "output_type": "stream",
     "text": [
      "Successfully added to the comment list\n"
     ]
    }
   ],
   "source": [
    "z.new(\"IsSorted\")"
   ]
  },
  {
   "cell_type": "markdown",
   "id": "54e1897e",
   "metadata": {},
   "source": [
    "#### IsSorted"
   ]
  },
  {
   "cell_type": "code",
   "execution_count": 31,
   "id": "741bd0d1",
   "metadata": {},
   "outputs": [],
   "source": [
    "def isSorted(self,arr,n):\n",
    "    #code here\n",
    "    l1 = sorted(arr, reverse=True)\n",
    "    # print(l1)\n",
    "    if arr == l1:\n",
    "        return 1\n",
    "    else:\n",
    "        return 0"
   ]
  },
  {
   "cell_type": "code",
   "execution_count": 32,
   "id": "7ab26636",
   "metadata": {
    "scrolled": true
   },
   "outputs": [
    {
     "name": "stdout",
     "output_type": "stream",
     "text": [
      "Successfully added to the comment list\n"
     ]
    }
   ],
   "source": [
    "z.new(\"Rotate array\")"
   ]
  },
  {
   "cell_type": "code",
   "execution_count": 33,
   "id": "d8fe2602",
   "metadata": {},
   "outputs": [],
   "source": [
    "def rotateArr(self,A,D,N):\n",
    "    D%=N\n",
    "    #First reversing d elements from starting index.\n",
    "    A[0:D]=reversed(A[0:D])\n",
    "\n",
    "    #Then reversing the last n-d elements.\n",
    "    A[D:N]=reversed(A[D:N])\n",
    "\n",
    "    #Finally, reversing the whole array.\n",
    "    A[0:N]=reversed(A[0:N])"
   ]
  },
  {
   "cell_type": "code",
   "execution_count": null,
   "id": "c32b12eb",
   "metadata": {},
   "outputs": [],
   "source": []
  }
 ],
 "metadata": {
  "kernelspec": {
   "display_name": "Python 3 (ipykernel)",
   "language": "python",
   "name": "python3"
  },
  "language_info": {
   "codemirror_mode": {
    "name": "ipython",
    "version": 3
   },
   "file_extension": ".py",
   "mimetype": "text/x-python",
   "name": "python",
   "nbconvert_exporter": "python",
   "pygments_lexer": "ipython3",
   "version": "3.10.9"
  }
 },
 "nbformat": 4,
 "nbformat_minor": 5
}

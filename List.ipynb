{
 "cells": [
  {
   "cell_type": "code",
   "execution_count": 1,
   "id": "ad6e66f3",
   "metadata": {},
   "outputs": [],
   "source": [
    "from imp_personal import MyFunction\n",
    "z = MyFunction()"
   ]
  },
  {
   "cell_type": "markdown",
   "id": "9b83f857",
   "metadata": {},
   "source": [
    "# List\n",
    "\n",
    "**Problems**"
   ]
  },
  {
   "cell_type": "code",
   "execution_count": null,
   "id": "daefc7ad",
   "metadata": {},
   "outputs": [],
   "source": []
  }
 ],
 "metadata": {
  "kernelspec": {
   "display_name": "Python 3 (ipykernel)",
   "language": "python",
   "name": "python3"
  },
  "language_info": {
   "codemirror_mode": {
    "name": "ipython",
    "version": 3
   },
   "file_extension": ".py",
   "mimetype": "text/x-python",
   "name": "python",
   "nbconvert_exporter": "python",
   "pygments_lexer": "ipython3",
   "version": "3.10.9"
  }
 },
 "nbformat": 4,
 "nbformat_minor": 5
}

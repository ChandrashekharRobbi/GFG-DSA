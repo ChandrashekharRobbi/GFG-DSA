{
 "cells": [
  {
   "cell_type": "code",
   "execution_count": 2,
   "id": "0cb8e909",
   "metadata": {},
   "outputs": [],
   "source": [
    "from imp_personal import MyFunction\n",
    "c = MyFunction()"
   ]
  },
  {
   "cell_type": "markdown",
   "id": "45d3d4df",
   "metadata": {},
   "source": [
    "# Queue\n",
    "\n",
    "\n",
    "* The operations are done in `FIFO(First In First Out)` manner\n",
    "\n",
    "* Starting head of Queue is called **Front**\n",
    "\n",
    "* Ending Tail of Queue is called **Rear**\n",
    "\n",
    "* `dequeue()` -> Elements from **Front** will be removed\n",
    "\n",
    "* `enqueue()` -> Elements at **Rear** can be inserted\n",
    "\n",
    "\n",
    "Queue in Python can be implemented by using four methods\n",
    "\n",
    "1. Using List\n",
    "2. Using Collections.deque\n",
    "3. Using queue.Queue\n",
    "4. Our own implementation\n",
    "\n",
    "\n",
    "**Problems**\n",
    "\n",
    "1. [Using List : implementing Queue](#Using-List-:-implementing-Queue)\n",
    "7. [Using Collections Module: Implementing Queue](#Using-Collections-Module:-Implementing-Queue)\n",
    "7. [Implementation of Queue using Array](#Implementation-of-Queue-using-Array)"
   ]
  },
  {
   "cell_type": "markdown",
   "id": "8ae2105f",
   "metadata": {},
   "source": [
    "#### Using List : implementing Queue\n",
    "\n",
    "Here, \n",
    "* `append()` works like enqueue operation\n",
    "* `pop(0)` works like dequeue operation"
   ]
  },
  {
   "cell_type": "code",
   "execution_count": 4,
   "id": "80b9b691",
   "metadata": {},
   "outputs": [
    {
     "data": {
      "text/plain": [
       "[10, 20, 30]"
      ]
     },
     "execution_count": 4,
     "metadata": {},
     "output_type": "execute_result"
    }
   ],
   "source": [
    "q = [] \n",
    "q.append(10)\n",
    "q.append(20)\n",
    "q.append(30)\n",
    "q"
   ]
  },
  {
   "cell_type": "code",
   "execution_count": 5,
   "id": "eafc3678",
   "metadata": {},
   "outputs": [
    {
     "data": {
      "text/plain": [
       "[20, 30]"
      ]
     },
     "execution_count": 5,
     "metadata": {},
     "output_type": "execute_result"
    }
   ],
   "source": [
    "q.pop(0)\n",
    "q"
   ]
  },
  {
   "cell_type": "markdown",
   "id": "40056cb6",
   "metadata": {},
   "source": [
    "#### Using Collections Module: Implementing Queue"
   ]
  },
  {
   "cell_type": "code",
   "execution_count": 7,
   "id": "ae61ce76",
   "metadata": {},
   "outputs": [
    {
     "data": {
      "text/plain": [
       "deque([10, 20, 30])"
      ]
     },
     "execution_count": 7,
     "metadata": {},
     "output_type": "execute_result"
    }
   ],
   "source": [
    "from collections import deque\n",
    "\n",
    "q = deque()\n",
    "q.append(10)\n",
    "q.append(20)\n",
    "q.append(30)\n",
    "q\n"
   ]
  },
  {
   "cell_type": "code",
   "execution_count": 8,
   "id": "63aac99d",
   "metadata": {},
   "outputs": [
    {
     "data": {
      "text/plain": [
       "10"
      ]
     },
     "execution_count": 8,
     "metadata": {},
     "output_type": "execute_result"
    }
   ],
   "source": [
    "q.popleft()"
   ]
  },
  {
   "cell_type": "code",
   "execution_count": 9,
   "id": "0c1f830a",
   "metadata": {},
   "outputs": [
    {
     "data": {
      "text/plain": [
       "deque([20, 30])"
      ]
     },
     "execution_count": 9,
     "metadata": {},
     "output_type": "execute_result"
    }
   ],
   "source": [
    "q"
   ]
  },
  {
   "cell_type": "markdown",
   "id": "3f2a00e0",
   "metadata": {},
   "source": [
    "#### Implementation of Queue using Array"
   ]
  },
  {
   "cell_type": "code",
   "execution_count": 11,
   "id": "c48f2ab2",
   "metadata": {},
   "outputs": [],
   "source": [
    "class Queue:\n",
    "    def __init__(self, cap):\n",
    "        self.a = [None] * cap\n",
    "        self.cap = cap\n",
    "        self.size = 0\n",
    "    def isFUll(self):\n",
    "        return self.size == self.cap\n",
    "    def isEmpty(self):\n",
    "        return self.size == 0\n",
    "    def enqueue(self, x):\n",
    "        if (self.isFUll()):\n",
    "            return \n",
    "        self.size += 1\n",
    "        self.a[self.size - 1] = x\n",
    "    def dequeue(self):\n",
    "        if (self.isEmpty()):\n",
    "            return None\n",
    "        res = self.a[0]\n",
    "        for i in range(self.size - 1):\n",
    "            self.a[i] = self.a[i + 1]\n",
    "        self.size += 1\n",
    "        return res"
   ]
  },
  {
   "cell_type": "code",
   "execution_count": 12,
   "id": "5f1daad9",
   "metadata": {},
   "outputs": [
    {
     "data": {
      "text/plain": [
       "False"
      ]
     },
     "execution_count": 12,
     "metadata": {},
     "output_type": "execute_result"
    }
   ],
   "source": [
    "q = Queue(5)\n",
    "q.enqueue(10)\n",
    "q.enqueue(20)\n",
    "q.isFUll()"
   ]
  },
  {
   "cell_type": "code",
   "execution_count": 13,
   "id": "110fc7a4",
   "metadata": {},
   "outputs": [
    {
     "data": {
      "text/plain": [
       "[10, 20, None, None, None]"
      ]
     },
     "execution_count": 13,
     "metadata": {},
     "output_type": "execute_result"
    }
   ],
   "source": [
    "q.a"
   ]
  },
  {
   "cell_type": "code",
   "execution_count": 14,
   "id": "0b7cb8b4",
   "metadata": {},
   "outputs": [
    {
     "data": {
      "text/plain": [
       "10"
      ]
     },
     "execution_count": 14,
     "metadata": {},
     "output_type": "execute_result"
    }
   ],
   "source": [
    "q.dequeue()"
   ]
  },
  {
   "cell_type": "code",
   "execution_count": 15,
   "id": "0eecc406",
   "metadata": {},
   "outputs": [
    {
     "data": {
      "text/plain": [
       "[20, 20, None, None, None]"
      ]
     },
     "execution_count": 15,
     "metadata": {},
     "output_type": "execute_result"
    }
   ],
   "source": [
    "q.a"
   ]
  },
  {
   "cell_type": "code",
   "execution_count": 16,
   "id": "5de18f06",
   "metadata": {},
   "outputs": [
    {
     "data": {
      "text/plain": [
       "20"
      ]
     },
     "execution_count": 16,
     "metadata": {},
     "output_type": "execute_result"
    }
   ],
   "source": [
    "q.dequeue()"
   ]
  },
  {
   "cell_type": "code",
   "execution_count": 18,
   "id": "c93ebdc0",
   "metadata": {},
   "outputs": [
    {
     "data": {
      "text/plain": [
       "[20, None, None, None, None]"
      ]
     },
     "execution_count": 18,
     "metadata": {},
     "output_type": "execute_result"
    }
   ],
   "source": [
    "q.a"
   ]
  },
  {
   "cell_type": "code",
   "execution_count": 19,
   "id": "911d9f2f",
   "metadata": {},
   "outputs": [
    {
     "name": "stdout",
     "output_type": "stream",
     "text": [
      "7. [Using List : implementing Queue](#Using-List-:-implementing-Queue)\n",
      "7. [Using Collections Module: Implementing Queue](#Using-Collections-Module:-Implementing-Queue)\n",
      "7. [Implementation of Queue using Array](#Implementation-of-Queue-using-Array)\n"
     ]
    }
   ],
   "source": [
    "c.printArr()"
   ]
  },
  {
   "cell_type": "code",
   "execution_count": 20,
   "id": "9f1f5b58",
   "metadata": {},
   "outputs": [],
   "source": [
    "c.makeNullArr()"
   ]
  },
  {
   "cell_type": "code",
   "execution_count": 21,
   "id": "4aa657c5",
   "metadata": {},
   "outputs": [
    {
     "name": "stdout",
     "output_type": "stream",
     "text": [
      "Implementation of queue using Array (Efficient Solution)\n",
      "7. [Implementation of queue using Array (Efficient Solution)](#Implementation-of-queue-using-Array-(Efficient-Solution))\n",
      "#### Implementation of queue using Array (Efficient Solution)\n",
      "Successfully added to the comment list\n"
     ]
    }
   ],
   "source": [
    "c.new(\"Implementation of queue using Array (Efficient Solution)\")"
   ]
  },
  {
   "cell_type": "markdown",
   "id": "aea8a8e1",
   "metadata": {},
   "source": [
    "#### Implementation of queue using Array (Efficient Solution)"
   ]
  },
  {
   "cell_type": "code",
   "execution_count": 95,
   "id": "3912b638",
   "metadata": {},
   "outputs": [],
   "source": [
    "class Queue:\n",
    "    def __init__(self, cap):\n",
    "        self.cap = cap\n",
    "        self.a = [None]*cap\n",
    "        self.front = 0\n",
    "        self.size = 0\n",
    "    \n",
    "    def isEmpty(self):\n",
    "        if self.size == 0:\n",
    "            return True\n",
    "        else:\n",
    "            return False\n",
    "\n",
    "    def isFull(self):\n",
    "        if self.size == self.cap:\n",
    "            return True\n",
    "        else:\n",
    "            return False\n",
    "    \n",
    "    def getFront(self):\n",
    "        if self.isEmpty():\n",
    "            return -1\n",
    "        return self.front\n",
    "    \n",
    "    def getRear(self):\n",
    "        if self.isEmpty():\n",
    "            return -1\n",
    "        else:\n",
    "            return (self.front + (self.size - 1)) % self.cap\n",
    "    \n",
    "    def enque(self, x):\n",
    "        if self.isFull():\n",
    "            return -1\n",
    "        rear = self.getRear()\n",
    "        rear = (rear + 1) % self.cap\n",
    "        self.a[rear] = x\n",
    "        self.size += 1\n",
    "    \n",
    "    def deque(self):\n",
    "        if self.isEmpty():\n",
    "            return -1\n",
    "        else:\n",
    "            res = self.a[self.front]\n",
    "            self.front = (self.front + 1) % self.cap\n",
    "            self.size -= 1\n",
    "        return res"
   ]
  },
  {
   "cell_type": "code",
   "execution_count": 96,
   "id": "47976a69",
   "metadata": {},
   "outputs": [],
   "source": [
    "q = Queue(5)"
   ]
  },
  {
   "cell_type": "code",
   "execution_count": 97,
   "id": "9637dfdb",
   "metadata": {},
   "outputs": [
    {
     "data": {
      "text/plain": [
       "True"
      ]
     },
     "execution_count": 97,
     "metadata": {},
     "output_type": "execute_result"
    }
   ],
   "source": [
    "q.isEmpty()"
   ]
  },
  {
   "cell_type": "code",
   "execution_count": 98,
   "id": "6501a48a",
   "metadata": {},
   "outputs": [
    {
     "data": {
      "text/plain": [
       "False"
      ]
     },
     "execution_count": 98,
     "metadata": {},
     "output_type": "execute_result"
    }
   ],
   "source": [
    "q.isFull()"
   ]
  },
  {
   "cell_type": "code",
   "execution_count": 99,
   "id": "f22486cb",
   "metadata": {},
   "outputs": [],
   "source": [
    "q.enque(10)\n",
    "q.enque(20)\n",
    "q.enque(30)\n",
    "q.enque(40)"
   ]
  },
  {
   "cell_type": "code",
   "execution_count": 100,
   "id": "b9d7b568",
   "metadata": {},
   "outputs": [
    {
     "data": {
      "text/plain": [
       "[10, 20, 30, 40, None]"
      ]
     },
     "execution_count": 100,
     "metadata": {},
     "output_type": "execute_result"
    }
   ],
   "source": [
    "q.a"
   ]
  },
  {
   "cell_type": "code",
   "execution_count": 101,
   "id": "a7bc7a0e",
   "metadata": {},
   "outputs": [
    {
     "data": {
      "text/plain": [
       "10"
      ]
     },
     "execution_count": 101,
     "metadata": {},
     "output_type": "execute_result"
    }
   ],
   "source": [
    "q.deque()"
   ]
  },
  {
   "cell_type": "code",
   "execution_count": 102,
   "id": "e5cb5f21",
   "metadata": {},
   "outputs": [
    {
     "data": {
      "text/plain": [
       "[10, 20, 30, 40, None]"
      ]
     },
     "execution_count": 102,
     "metadata": {},
     "output_type": "execute_result"
    }
   ],
   "source": [
    "q.a"
   ]
  },
  {
   "cell_type": "code",
   "execution_count": 103,
   "id": "3b0aae72",
   "metadata": {},
   "outputs": [
    {
     "data": {
      "text/plain": [
       "3"
      ]
     },
     "execution_count": 103,
     "metadata": {},
     "output_type": "execute_result"
    }
   ],
   "source": [
    "q.getRear()"
   ]
  },
  {
   "cell_type": "code",
   "execution_count": 104,
   "id": "a2d9bf7b",
   "metadata": {},
   "outputs": [
    {
     "data": {
      "text/plain": [
       "1"
      ]
     },
     "execution_count": 104,
     "metadata": {},
     "output_type": "execute_result"
    }
   ],
   "source": [
    "q.getFront()"
   ]
  }
 ],
 "metadata": {
  "kernelspec": {
   "display_name": "Python 3 (ipykernel)",
   "language": "python",
   "name": "python3"
  },
  "language_info": {
   "codemirror_mode": {
    "name": "ipython",
    "version": 3
   },
   "file_extension": ".py",
   "mimetype": "text/x-python",
   "name": "python",
   "nbconvert_exporter": "python",
   "pygments_lexer": "ipython3",
   "version": "3.10.6"
  }
 },
 "nbformat": 4,
 "nbformat_minor": 5
}

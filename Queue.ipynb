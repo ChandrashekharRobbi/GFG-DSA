{
 "cells": [
  {
   "cell_type": "code",
   "execution_count": 1,
   "id": "0cb8e909",
   "metadata": {},
   "outputs": [],
   "source": [
    "from imp_personal import MyFunction\n",
    "c = MyFunction()"
   ]
  },
  {
   "cell_type": "markdown",
   "id": "45d3d4df",
   "metadata": {},
   "source": [
    "# Queue\n",
    "\n",
    "\n",
    "* The operations are done in `FIFO(First In First Out)` manner\n",
    "\n",
    "* Starting head of Queue is called **Front**\n",
    "\n",
    "* Ending Tail of Queue is called **Rear**\n",
    "\n",
    "* `dequeue()` -> Elements from **Front** will be removed\n",
    "\n",
    "* `enqueue()` -> Elements at **Rear** can be inserted\n",
    "\n",
    "\n",
    "Queue in Python can be implemented by using four methods\n",
    "\n",
    "1. Using List\n",
    "2. Using Collections.deque\n",
    "3. Using queue.Queue\n",
    "4. Our own implementation"
   ]
  },
  {
   "cell_type": "code",
   "execution_count": 2,
   "id": "45b4023d",
   "metadata": {},
   "outputs": [
    {
     "name": "stdout",
     "output_type": "stream",
     "text": [
      "Using List : implementing Queue\n",
      "7. [Using List : implementing Queue](#Using-List-:-implementing-Queue)\n",
      "#### Using List : implementing Queue\n",
      "Successfully added to the comment list\n"
     ]
    }
   ],
   "source": [
    "c.new(\"Using List : implementing Queue\")"
   ]
  },
  {
   "cell_type": "markdown",
   "id": "567b2860",
   "metadata": {},
   "source": [
    "#### Using List : implementing Queue"
   ]
  },
  {
   "cell_type": "code",
   "execution_count": null,
   "id": "63e7098d",
   "metadata": {},
   "outputs": [],
   "source": []
  }
 ],
 "metadata": {
  "kernelspec": {
   "display_name": "Python 3 (ipykernel)",
   "language": "python",
   "name": "python3"
  },
  "language_info": {
   "codemirror_mode": {
    "name": "ipython",
    "version": 3
   },
   "file_extension": ".py",
   "mimetype": "text/x-python",
   "name": "python",
   "nbconvert_exporter": "python",
   "pygments_lexer": "ipython3",
   "version": "3.10.6"
  }
 },
 "nbformat": 4,
 "nbformat_minor": 5
}

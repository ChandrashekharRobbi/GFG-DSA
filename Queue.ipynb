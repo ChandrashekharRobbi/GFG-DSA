{
 "cells": [
  {
   "cell_type": "code",
   "execution_count": 1,
   "id": "85202a75",
   "metadata": {},
   "outputs": [],
   "source": [
    "from imp_personal import MyFunction\n",
    "c = MyFunction()"
   ]
  },
  {
   "cell_type": "markdown",
   "id": "2e2a1aca",
   "metadata": {},
   "source": [
    "# Queue\n",
    "\n",
    "\n",
    "* The operations are done in `FIFO(First In First Out)` manner\n",
    "\n",
    "* Starting head of Queue is called Front\n",
    "\n",
    "* Ending Tail of Queue is called Rear\n",
    "\n",
    "* Front elements can be removed by using `dequeue()` operations\n",
    "\n",
    "* Rear elements can be added by using `enqueue()` operations"
   ]
  },
  {
   "cell_type": "code",
   "execution_count": null,
   "id": "d6bffc17",
   "metadata": {},
   "outputs": [],
   "source": []
  }
 ],
 "metadata": {
  "kernelspec": {
   "display_name": "Python 3 (ipykernel)",
   "language": "python",
   "name": "python3"
  },
  "language_info": {
   "codemirror_mode": {
    "name": "ipython",
    "version": 3
   },
   "file_extension": ".py",
   "mimetype": "text/x-python",
   "name": "python",
   "nbconvert_exporter": "python",
   "pygments_lexer": "ipython3",
   "version": "3.10.8"
  }
 },
 "nbformat": 4,
 "nbformat_minor": 5
}

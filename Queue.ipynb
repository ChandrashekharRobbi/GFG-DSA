{
 "cells": [
  {
   "cell_type": "code",
   "execution_count": 1,
   "id": "0cb8e909",
   "metadata": {},
   "outputs": [],
   "source": [
    "from imp_personal import MyFunction\n",
    "c = MyFunction()"
   ]
  },
  {
   "cell_type": "markdown",
   "id": "45d3d4df",
   "metadata": {},
   "source": [
    "# Queue\n",
    "\n",
    "\n",
    "* The operations are done in `FIFO(First In First Out)` manner\n",
    "\n",
    "* Starting head of Queue is called **Front**\n",
    "\n",
    "* Ending Tail of Queue is called **Rear**\n",
    "\n",
    "* `dequeue()` -> Elements from **Front** will be removed\n",
    "\n",
    "* `enqueue()` -> Elements at **Rear** can be inserted\n",
    "\n",
    "\n",
    "Queue in Python can be implemented by using four methods\n",
    "\n",
    "1. Using List\n",
    "2. Using Collections.deque\n",
    "3. Using queue.Queue\n",
    "4. Our own implementation"
   ]
  },
  {
   "cell_type": "code",
   "execution_count": 2,
   "id": "45b4023d",
   "metadata": {},
   "outputs": [
    {
     "name": "stdout",
     "output_type": "stream",
     "text": [
      "Using List : implementing Queue\n",
      "7. [Using List : implementing Queue](#Using-List-:-implementing-Queue)\n",
      "#### Using List : implementing Queue\n",
      "Successfully added to the comment list\n"
     ]
    }
   ],
   "source": [
    "c.new(\"Using List : implementing Queue\")"
   ]
  },
  {
   "cell_type": "markdown",
   "id": "6ea7a6b2",
   "metadata": {},
   "source": [
    "#### Using List : implementing Queue\n",
    "\n",
    "Here, \n",
    "* `append()` works like enqueue operation\n",
    "* `pop(0)` works like dequeue operation"
   ]
  },
  {
   "cell_type": "code",
   "execution_count": 7,
   "id": "35f19096",
   "metadata": {},
   "outputs": [
    {
     "data": {
      "text/plain": [
       "[10, 20, 30]"
      ]
     },
     "execution_count": 7,
     "metadata": {},
     "output_type": "execute_result"
    }
   ],
   "source": [
    "q = [] \n",
    "q.append(10)\n",
    "q.append(20)\n",
    "q.append(30)\n",
    "q"
   ]
  },
  {
   "cell_type": "code",
   "execution_count": 9,
   "id": "bfbb3392",
   "metadata": {},
   "outputs": [
    {
     "data": {
      "text/plain": [
       "[30]"
      ]
     },
     "execution_count": 9,
     "metadata": {},
     "output_type": "execute_result"
    }
   ],
   "source": [
    "q.pop(0)\n",
    "q"
   ]
  },
  {
   "cell_type": "code",
   "execution_count": 10,
   "id": "f8cba72d",
   "metadata": {},
   "outputs": [
    {
     "name": "stdout",
     "output_type": "stream",
     "text": [
      "Using Collections Module: Implementing Queue\n",
      "7. [Using Collections Module: Implementing Queue](#Using-Collections-Module:-Implementing-Queue)\n",
      "#### Using Collections Module: Implementing Queue\n",
      "Successfully added to the comment list\n"
     ]
    }
   ],
   "source": [
    "c.new(\"Using Collections Module: Implementing Queue\")"
   ]
  },
  {
   "cell_type": "markdown",
   "id": "d9d132ca",
   "metadata": {},
   "source": [
    "#### Using Collections Module: Implementing Queue"
   ]
  },
  {
   "cell_type": "code",
   "execution_count": 12,
   "id": "374f15a6",
   "metadata": {},
   "outputs": [
    {
     "data": {
      "text/plain": [
       "deque([10, 20, 30])"
      ]
     },
     "execution_count": 12,
     "metadata": {},
     "output_type": "execute_result"
    }
   ],
   "source": [
    "from collections import deque\n",
    "\n",
    "q = deque()\n",
    "q.append(10)\n",
    "q.append(20)\n",
    "q.append(30)\n",
    "q\n"
   ]
  },
  {
   "cell_type": "code",
   "execution_count": 13,
   "id": "dee4302e",
   "metadata": {},
   "outputs": [
    {
     "data": {
      "text/plain": [
       "10"
      ]
     },
     "execution_count": 13,
     "metadata": {},
     "output_type": "execute_result"
    }
   ],
   "source": [
    "q.popleft()"
   ]
  },
  {
   "cell_type": "code",
   "execution_count": 14,
   "id": "99994bf0",
   "metadata": {},
   "outputs": [
    {
     "data": {
      "text/plain": [
       "deque([20, 30])"
      ]
     },
     "execution_count": 14,
     "metadata": {},
     "output_type": "execute_result"
    }
   ],
   "source": [
    "q"
   ]
  },
  {
   "cell_type": "code",
   "execution_count": 15,
   "id": "19e79ef0",
   "metadata": {},
   "outputs": [
    {
     "name": "stdout",
     "output_type": "stream",
     "text": [
      "Implementation of Queue using Array\n",
      "7. [Implementation of Queue using Array](#Implementation-of-Queue-using-Array)\n",
      "#### Implementation of Queue using Array\n",
      "Successfully added to the comment list\n"
     ]
    }
   ],
   "source": [
    "c.new(\"Implementation of Queue using Array\")"
   ]
  },
  {
   "cell_type": "markdown",
   "id": "24dbe6aa",
   "metadata": {},
   "source": [
    "#### Implementation of Queue using Array"
   ]
  },
  {
   "cell_type": "code",
   "execution_count": 30,
   "id": "ba37fb81",
   "metadata": {},
   "outputs": [],
   "source": [
    "class Queue:\n",
    "    def __init__(self, cap):\n",
    "        self.a = [None] * cap\n",
    "        self.cap = cap\n",
    "        self.size = 0\n",
    "    def isFUll(self):\n",
    "        return self.size == self.cap\n",
    "    def isEmpty(self):\n",
    "        return self.size == 0\n",
    "    def enqueue(self, x):\n",
    "        if (self.isFUll()):\n",
    "            return \n",
    "        self.size += 1\n",
    "        self.a[self.size - 1] = x\n",
    "    def dequeue(self):\n",
    "        if (self.isEmpty()):\n",
    "            return None\n",
    "        res = self.a[0]\n",
    "        for i in range(self.size - 1):\n",
    "            self.a[i] = self.a[i + 1]\n",
    "        self.size -= 1\n",
    "        return res"
   ]
  },
  {
   "cell_type": "code",
   "execution_count": 37,
   "id": "cd51f955",
   "metadata": {},
   "outputs": [
    {
     "data": {
      "text/plain": [
       "False"
      ]
     },
     "execution_count": 37,
     "metadata": {},
     "output_type": "execute_result"
    }
   ],
   "source": [
    "q = Queue(5)\n",
    "q.enqueue(10)\n",
    "q.enqueue(20)\n",
    "q.isFUll()"
   ]
  },
  {
   "cell_type": "code",
   "execution_count": 38,
   "id": "2221dff4",
   "metadata": {},
   "outputs": [
    {
     "data": {
      "text/plain": [
       "[10, 20, None, None, None]"
      ]
     },
     "execution_count": 38,
     "metadata": {},
     "output_type": "execute_result"
    }
   ],
   "source": [
    "q.a"
   ]
  },
  {
   "cell_type": "code",
   "execution_count": 39,
   "id": "71f12a36",
   "metadata": {},
   "outputs": [
    {
     "data": {
      "text/plain": [
       "10"
      ]
     },
     "execution_count": 39,
     "metadata": {},
     "output_type": "execute_result"
    }
   ],
   "source": [
    "q.dequeue()"
   ]
  },
  {
   "cell_type": "code",
   "execution_count": 40,
   "id": "d7b250be",
   "metadata": {},
   "outputs": [
    {
     "data": {
      "text/plain": [
       "[20, 20, None, None, None]"
      ]
     },
     "execution_count": 40,
     "metadata": {},
     "output_type": "execute_result"
    }
   ],
   "source": [
    "q.a"
   ]
  },
  {
   "cell_type": "code",
   "execution_count": null,
   "id": "ea42c3fd",
   "metadata": {},
   "outputs": [],
   "source": []
  }
 ],
 "metadata": {
  "kernelspec": {
   "display_name": "Python 3 (ipykernel)",
   "language": "python",
   "name": "python3"
  },
  "language_info": {
   "codemirror_mode": {
    "name": "ipython",
    "version": 3
   },
   "file_extension": ".py",
   "mimetype": "text/x-python",
   "name": "python",
   "nbconvert_exporter": "python",
   "pygments_lexer": "ipython3",
   "version": "3.10.6"
  }
 },
 "nbformat": 4,
 "nbformat_minor": 5
}

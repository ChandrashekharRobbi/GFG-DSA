{
 "cells": [
  {
   "cell_type": "code",
   "execution_count": 1,
   "id": "0cb8e909",
   "metadata": {},
   "outputs": [],
   "source": [
    "from imp_personal import MyFunction\n",
    "c = MyFunction()"
   ]
  },
  {
   "cell_type": "markdown",
   "id": "45d3d4df",
   "metadata": {},
   "source": [
    "# Queue\n",
    "\n",
    "\n",
    "* The operations are done in `FIFO(First In First Out)` manner\n",
    "\n",
    "* Starting head of Queue is called **Front**\n",
    "\n",
    "* Ending Tail of Queue is called **Rear**\n",
    "\n",
    "* `dequeue()` -> Elements from **Front** will be removed\n",
    "\n",
    "* `enqueue()` -> Elements at **Rear** can be inserted\n",
    "\n",
    "\n",
    "Queue in Python can be implemented by using four methods\n",
    "\n",
    "1. Using List\n",
    "2. Using Collections.deque\n",
    "3. Using queue.Queue\n",
    "4. Our own implementation"
   ]
  },
  {
   "cell_type": "code",
   "execution_count": 2,
   "id": "45b4023d",
   "metadata": {},
   "outputs": [
    {
     "name": "stdout",
     "output_type": "stream",
     "text": [
      "Using List : implementing Queue\n",
      "7. [Using List : implementing Queue](#Using-List-:-implementing-Queue)\n",
      "#### Using List : implementing Queue\n",
      "Successfully added to the comment list\n"
     ]
    }
   ],
   "source": [
    "c.new(\"Using List : implementing Queue\")"
   ]
  },
  {
   "cell_type": "markdown",
   "id": "79a4f9be",
   "metadata": {},
   "source": [
    "#### Using List : implementing Queue\n",
    "\n",
    "Here, \n",
    "* `append()` works like enqueue operation\n",
    "* `pop(0)` works like dequeue operation"
   ]
  },
  {
   "cell_type": "code",
   "execution_count": 7,
   "id": "30347ef3",
   "metadata": {},
   "outputs": [
    {
     "data": {
      "text/plain": [
       "[10, 20, 30]"
      ]
     },
     "execution_count": 7,
     "metadata": {},
     "output_type": "execute_result"
    }
   ],
   "source": [
    "q = [] \n",
    "q.append(10)\n",
    "q.append(20)\n",
    "q.append(30)\n",
    "q"
   ]
  },
  {
   "cell_type": "code",
   "execution_count": 9,
   "id": "e9e047fb",
   "metadata": {},
   "outputs": [
    {
     "data": {
      "text/plain": [
       "[30]"
      ]
     },
     "execution_count": 9,
     "metadata": {},
     "output_type": "execute_result"
    }
   ],
   "source": [
    "q.pop(0)\n",
    "q"
   ]
  },
  {
   "cell_type": "code",
   "execution_count": 10,
   "id": "1df4004f",
   "metadata": {},
   "outputs": [
    {
     "name": "stdout",
     "output_type": "stream",
     "text": [
      "Using Collections Module: Implementing Queue\n",
      "7. [Using Collections Module: Implementing Queue](#Using-Collections-Module:-Implementing-Queue)\n",
      "#### Using Collections Module: Implementing Queue\n",
      "Successfully added to the comment list\n"
     ]
    }
   ],
   "source": [
    "c.new(\"Using Collections Module: Implementing Queue\")"
   ]
  },
  {
   "cell_type": "markdown",
   "id": "5550c44c",
   "metadata": {},
   "source": [
    "#### Using Collections Module: Implementing Queue"
   ]
  },
  {
   "cell_type": "code",
   "execution_count": 12,
   "id": "86be7673",
   "metadata": {},
   "outputs": [
    {
     "data": {
      "text/plain": [
       "deque([10, 20, 30])"
      ]
     },
     "execution_count": 12,
     "metadata": {},
     "output_type": "execute_result"
    }
   ],
   "source": [
    "from collections import deque\n",
    "\n",
    "q = deque()\n",
    "q.append(10)\n",
    "q.append(20)\n",
    "q.append(30)\n",
    "q\n"
   ]
  },
  {
   "cell_type": "code",
   "execution_count": 13,
   "id": "e4a688f3",
   "metadata": {},
   "outputs": [
    {
     "data": {
      "text/plain": [
       "10"
      ]
     },
     "execution_count": 13,
     "metadata": {},
     "output_type": "execute_result"
    }
   ],
   "source": [
    "q.popleft()"
   ]
  },
  {
   "cell_type": "code",
   "execution_count": 14,
   "id": "1a3c3234",
   "metadata": {},
   "outputs": [
    {
     "data": {
      "text/plain": [
       "deque([20, 30])"
      ]
     },
     "execution_count": 14,
     "metadata": {},
     "output_type": "execute_result"
    }
   ],
   "source": [
    "q"
   ]
  },
  {
   "cell_type": "code",
   "execution_count": 15,
   "id": "3c849d9b",
   "metadata": {},
   "outputs": [
    {
     "name": "stdout",
     "output_type": "stream",
     "text": [
      "Implementation of Queue using Array\n",
      "7. [Implementation of Queue using Array](#Implementation-of-Queue-using-Array)\n",
      "#### Implementation of Queue using Array\n",
      "Successfully added to the comment list\n"
     ]
    }
   ],
   "source": [
    "c.new(\"Implementation of Queue using Array\")"
   ]
  },
  {
   "cell_type": "markdown",
   "id": "fbc48cfa",
   "metadata": {},
   "source": [
    "#### Implementation of Queue using Array"
   ]
  },
  {
   "cell_type": "code",
   "execution_count": 24,
   "id": "b6242c8f",
   "metadata": {},
   "outputs": [],
   "source": [
    "class Queue:\n",
    "    def __init__(self, cap):\n",
    "        self.a = [None] * cap\n",
    "        self.cap = cap\n",
    "        self.size = 0\n",
    "    def isFUll(self):\n",
    "        return self.size == self.cap\n",
    "    def isEmpty(self):\n",
    "        return self.size == 0\n",
    "    def enqueue(self, x):\n",
    "        if (self.isFull()):\n",
    "            return \n",
    "        self.size += 1\n",
    "        self.a[self.size - 1] = x\n",
    "    def dequeue(self):\n",
    "        if (self.isEmpty()):\n",
    "            return None\n",
    "        res = self.a[0]\n",
    "        for i in range(self.size - 1):\n",
    "            self.a[i] = self.a[i + 1]\n",
    "        self.size -= 1\n",
    "        return res"
   ]
  },
  {
   "cell_type": "code",
   "execution_count": 25,
   "id": "bb60614c",
   "metadata": {},
   "outputs": [
    {
     "ename": "AttributeError",
     "evalue": "'Queue' object has no attribute 'isFull'",
     "output_type": "error",
     "traceback": [
      "\u001b[1;31m---------------------------------------------------------------------------\u001b[0m",
      "\u001b[1;31mAttributeError\u001b[0m                            Traceback (most recent call last)",
      "Cell \u001b[1;32mIn [25], line 2\u001b[0m\n\u001b[0;32m      1\u001b[0m q \u001b[38;5;241m=\u001b[39m Queue(\u001b[38;5;241m5\u001b[39m)\n\u001b[1;32m----> 2\u001b[0m \u001b[43mq\u001b[49m\u001b[38;5;241;43m.\u001b[39;49m\u001b[43menqueue\u001b[49m\u001b[43m(\u001b[49m\u001b[38;5;241;43m10\u001b[39;49m\u001b[43m)\u001b[49m\n\u001b[0;32m      3\u001b[0m q\u001b[38;5;241m.\u001b[39menqueue(\u001b[38;5;241m20\u001b[39m)\n",
      "Cell \u001b[1;32mIn [24], line 11\u001b[0m, in \u001b[0;36mQueue.enqueue\u001b[1;34m(self, x)\u001b[0m\n\u001b[0;32m     10\u001b[0m \u001b[38;5;28;01mdef\u001b[39;00m \u001b[38;5;21menqueue\u001b[39m(\u001b[38;5;28mself\u001b[39m, x):\n\u001b[1;32m---> 11\u001b[0m     \u001b[38;5;28;01mif\u001b[39;00m (\u001b[38;5;28;43mself\u001b[39;49m\u001b[38;5;241;43m.\u001b[39;49m\u001b[43misFull\u001b[49m()):\n\u001b[0;32m     12\u001b[0m         \u001b[38;5;28;01mreturn\u001b[39;00m \n\u001b[0;32m     13\u001b[0m     \u001b[38;5;28mself\u001b[39m\u001b[38;5;241m.\u001b[39msize \u001b[38;5;241m+\u001b[39m\u001b[38;5;241m=\u001b[39m \u001b[38;5;241m1\u001b[39m\n",
      "\u001b[1;31mAttributeError\u001b[0m: 'Queue' object has no attribute 'isFull'"
     ]
    }
   ],
   "source": [
    "q = Queue(5)\n",
    "q.enqueue(10)\n",
    "q.enqueue(20)"
   ]
  },
  {
   "cell_type": "code",
   "execution_count": 18,
   "id": "66d6cabd",
   "metadata": {},
   "outputs": [
    {
     "data": {
      "text/plain": [
       "<__main__.Queue at 0x14a555fb7c0>"
      ]
     },
     "execution_count": 18,
     "metadata": {},
     "output_type": "execute_result"
    }
   ],
   "source": []
  },
  {
   "cell_type": "code",
   "execution_count": null,
   "id": "1236285b",
   "metadata": {},
   "outputs": [],
   "source": []
  }
 ],
 "metadata": {
  "kernelspec": {
   "display_name": "Python 3 (ipykernel)",
   "language": "python",
   "name": "python3"
  },
  "language_info": {
   "codemirror_mode": {
    "name": "ipython",
    "version": 3
   },
   "file_extension": ".py",
   "mimetype": "text/x-python",
   "name": "python",
   "nbconvert_exporter": "python",
   "pygments_lexer": "ipython3",
   "version": "3.10.6"
  }
 },
 "nbformat": 4,
 "nbformat_minor": 5
}

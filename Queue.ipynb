{
 "cells": [
  {
   "cell_type": "code",
   "execution_count": null,
   "id": "3eda07c6",
   "metadata": {},
   "outputs": [],
   "source": [
    "from imp_personal import "
   ]
  },
  {
   "cell_type": "markdown",
   "id": "ceae2a87",
   "metadata": {},
   "source": [
    "# Queue\n"
   ]
  },
  {
   "cell_type": "code",
   "execution_count": null,
   "id": "3fed7db1",
   "metadata": {},
   "outputs": [],
   "source": []
  }
 ],
 "metadata": {
  "kernelspec": {
   "display_name": "Python 3 (ipykernel)",
   "language": "python",
   "name": "python3"
  },
  "language_info": {
   "codemirror_mode": {
    "name": "ipython",
    "version": 3
   },
   "file_extension": ".py",
   "mimetype": "text/x-python",
   "name": "python",
   "nbconvert_exporter": "python",
   "pygments_lexer": "ipython3",
   "version": "3.10.8"
  }
 },
 "nbformat": 4,
 "nbformat_minor": 5
}

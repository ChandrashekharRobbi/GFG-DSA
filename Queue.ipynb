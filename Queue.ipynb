{
 "cells": [
  {
   "cell_type": "code",
   "execution_count": 1,
   "id": "0cb8e909",
   "metadata": {},
   "outputs": [],
   "source": [
    "from imp_personal import MyFunction\n",
    "c = MyFunction()"
   ]
  },
  {
   "cell_type": "markdown",
   "id": "45d3d4df",
   "metadata": {},
   "source": [
    "# Queue\n",
    "\n",
    "\n",
    "* The operations are done in `FIFO(First In First Out)` manner\n",
    "\n",
    "* Starting head of Queue is called **Front**\n",
    "\n",
    "* Ending Tail of Queue is called **Rear**\n",
    "\n",
    "* `dequeue()` -> Elements from **Front** will be removed\n",
    "\n",
    "* `enqueue()` -> Elements at **Rear** can be inserted\n",
    "\n",
    "\n",
    "Queue in Python can be implemented by using four methods\n",
    "\n",
    "1. Using List\n",
    "2. Using Collections.deque\n",
    "3. Using queue.Queue\n",
    "4. Our own implementation"
   ]
  },
  {
   "cell_type": "code",
   "execution_count": 2,
   "id": "45b4023d",
   "metadata": {},
   "outputs": [
    {
     "name": "stdout",
     "output_type": "stream",
     "text": [
      "Using List : implementing Queue\n",
      "7. [Using List : implementing Queue](#Using-List-:-implementing-Queue)\n",
      "#### Using List : implementing Queue\n",
      "Successfully added to the comment list\n"
     ]
    }
   ],
   "source": [
    "c.new(\"Using List : implementing Queue\")"
   ]
  },
  {
   "cell_type": "markdown",
   "id": "553ce390",
   "metadata": {},
   "source": [
    "#### Using List : implementing Queue\n",
    "\n",
    "Here, \n",
    "* `append()` works like enqueue operation\n",
    "* `pop(0)` works like dequeue operation"
   ]
  },
  {
   "cell_type": "code",
   "execution_count": 7,
   "id": "db6b1828",
   "metadata": {},
   "outputs": [
    {
     "data": {
      "text/plain": [
       "[10, 20, 30]"
      ]
     },
     "execution_count": 7,
     "metadata": {},
     "output_type": "execute_result"
    }
   ],
   "source": [
    "q = [] \n",
    "q.append(10)\n",
    "q.append(20)\n",
    "q.append(30)\n",
    "q"
   ]
  },
  {
   "cell_type": "code",
   "execution_count": 9,
   "id": "a297bcf7",
   "metadata": {},
   "outputs": [
    {
     "data": {
      "text/plain": [
       "[30]"
      ]
     },
     "execution_count": 9,
     "metadata": {},
     "output_type": "execute_result"
    }
   ],
   "source": [
    "q.pop(0)\n",
    "q"
   ]
  },
  {
   "cell_type": "code",
   "execution_count": 10,
   "id": "cc7b9330",
   "metadata": {},
   "outputs": [
    {
     "name": "stdout",
     "output_type": "stream",
     "text": [
      "Using Collections Module: Implementing Queue\n",
      "7. [Using Collections Module: Implementing Queue](#Using-Collections-Module:-Implementing-Queue)\n",
      "#### Using Collections Module: Implementing Queue\n",
      "Successfully added to the comment list\n"
     ]
    }
   ],
   "source": [
    "c.new(\"Using Collections Module: Implementing Queue\")"
   ]
  },
  {
   "cell_type": "markdown",
   "id": "9ac5dae4",
   "metadata": {},
   "source": [
    "#### Using Collections Module: Implementing Queue"
   ]
  },
  {
   "cell_type": "code",
   "execution_count": 12,
   "id": "49ed9075",
   "metadata": {},
   "outputs": [
    {
     "data": {
      "text/plain": [
       "deque([10, 20, 30])"
      ]
     },
     "execution_count": 12,
     "metadata": {},
     "output_type": "execute_result"
    }
   ],
   "source": [
    "from collections import deque\n",
    "\n",
    "q = deque()\n",
    "q.append(10)\n",
    "q.append(20)\n",
    "q.append(30)\n",
    "q\n"
   ]
  },
  {
   "cell_type": "code",
   "execution_count": 13,
   "id": "cbab8b4e",
   "metadata": {},
   "outputs": [
    {
     "data": {
      "text/plain": [
       "10"
      ]
     },
     "execution_count": 13,
     "metadata": {},
     "output_type": "execute_result"
    }
   ],
   "source": [
    "q.popleft()"
   ]
  },
  {
   "cell_type": "code",
   "execution_count": 14,
   "id": "e6e0e675",
   "metadata": {},
   "outputs": [
    {
     "data": {
      "text/plain": [
       "deque([20, 30])"
      ]
     },
     "execution_count": 14,
     "metadata": {},
     "output_type": "execute_result"
    }
   ],
   "source": [
    "q"
   ]
  },
  {
   "cell_type": "code",
   "execution_count": 15,
   "id": "2976df96",
   "metadata": {},
   "outputs": [
    {
     "name": "stdout",
     "output_type": "stream",
     "text": [
      "Implementation of Queue using Array\n",
      "7. [Implementation of Queue using Array](#Implementation-of-Queue-using-Array)\n",
      "#### Implementation of Queue using Array\n",
      "Successfully added to the comment list\n"
     ]
    }
   ],
   "source": [
    "c.new(\"Implementation of Queue using Array\")"
   ]
  },
  {
   "cell_type": "markdown",
   "id": "a137510a",
   "metadata": {},
   "source": [
    "#### Implementation of Queue using Array"
   ]
  },
  {
   "cell_type": "code",
   "execution_count": null,
   "id": "7b133564",
   "metadata": {},
   "outputs": [],
   "source": []
  }
 ],
 "metadata": {
  "kernelspec": {
   "display_name": "Python 3 (ipykernel)",
   "language": "python",
   "name": "python3"
  },
  "language_info": {
   "codemirror_mode": {
    "name": "ipython",
    "version": 3
   },
   "file_extension": ".py",
   "mimetype": "text/x-python",
   "name": "python",
   "nbconvert_exporter": "python",
   "pygments_lexer": "ipython3",
   "version": "3.10.6"
  }
 },
 "nbformat": 4,
 "nbformat_minor": 5
}

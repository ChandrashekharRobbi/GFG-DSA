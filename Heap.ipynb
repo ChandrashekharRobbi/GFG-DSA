{
 "cells": [
  {
   "cell_type": "code",
   "execution_count": 1,
   "id": "1951e04b",
   "metadata": {},
   "outputs": [],
   "source": [
    "from imp_personal import MyFunction\n",
    "z = MyFunction()"
   ]
  },
  {
   "cell_type": "markdown",
   "id": "5a321c34",
   "metadata": {},
   "source": [
    "# Binary Heap\n",
    "\n",
    "* Used in Heap Sort\n",
    "* Used to implement priority Queue\n",
    "* There are two types:\n",
    "    1. Min Heap\n",
    "    2. Max Heap"
   ]
  },
  {
   "cell_type": "code",
   "execution_count": null,
   "id": "4a0cacf2",
   "metadata": {},
   "outputs": [],
   "source": []
  }
 ],
 "metadata": {
  "kernelspec": {
   "display_name": "Python 3 (ipykernel)",
   "language": "python",
   "name": "python3"
  },
  "language_info": {
   "codemirror_mode": {
    "name": "ipython",
    "version": 3
   },
   "file_extension": ".py",
   "mimetype": "text/x-python",
   "name": "python",
   "nbconvert_exporter": "python",
   "pygments_lexer": "ipython3",
   "version": "3.10.9"
  }
 },
 "nbformat": 4,
 "nbformat_minor": 5
}

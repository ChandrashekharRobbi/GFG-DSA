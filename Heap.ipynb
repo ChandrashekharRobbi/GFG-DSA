{
 "cells": [
  {
   "cell_type": "code",
   "execution_count": 1,
   "id": "ac527d1d",
   "metadata": {},
   "outputs": [
    {
     "name": "stdout",
     "output_type": "stream",
     "text": [
      "Note that after executing new function your next cell will automatically converted to markdown cell :)\n"
     ]
    }
   ],
   "source": [
    "from imp_personal import MyFunction\n",
    "z = MyFunction()"
   ]
  },
  {
   "cell_type": "markdown",
   "id": "b1eac0a5",
   "metadata": {},
   "source": [
    "# Binary Heap\n",
    "\n",
    "* Used in Heap Sort\n",
    "* Used to implement priority Queue\n",
    "* There are two types:\n",
    "    1. Min Heap -> Higher Priority item is assigned lowest value.\n",
    "    2. Max Heap -> Higher Priority item is assigned highest value.\n",
    "* Binary Heap is a complete Binary Tree\n",
    "\n",
    "* The node can be calculated using forumla\n",
    "\n",
    "1. $ left(i) = 2i + 1 $\n",
    "2. $ right(i) = 2i + 2 $\n",
    "3. $ parent(i) =  \\frac{i -1}{2} $ or $ parent(i) =  \\frac{i}{2} $\n",
    "\n",
    "\n",
    "                  \n",
    "According to above given formula let's solve it:\n",
    "\n",
    "1. Parent(8) = $\\frac{8 - 1}{2}$ = 3.5 ~ 3\n",
    "2. left(2) = 2(2) + 1 = 5\n",
    "3. right(2) = 2(2) + 2 = 6\n",
    "\n",
    "\n",
    "\n",
    "**Problems**\n",
    "\n",
    "1. [Heap Sort](#Heap-Sort)\n",
    "1. [Heapq Library](#Heapq-Library)\n",
    "1. [Sort K sorted Array](#Sort-K-sorted-Array)\n",
    "1. [Purchase Maximum Items](#Purchase-Maximum-Items)\n",
    "1. [Kth Largest Elements](#Kth-Largest-Elements)\n",
    "1. [Kth Largest Element](#Kth-Largest-Element)\n",
    "1. [Kth Smallest Element](#Kth-Smallest-Element)\n",
    "1. [Kth Closest Element](#Kth-Closest-Element)\n",
    "1. [Merge k sorted arrays](#Merge-k-sorted-arrays)"
   ]
  },
  {
   "cell_type": "markdown",
   "id": "6141b0ab",
   "metadata": {},
   "source": [
    "## Min Heap\n",
    "\n",
    "* Complete Binary Tree\n",
    "* Every Node has value smaller than its descendants."
   ]
  },
  {
   "cell_type": "code",
   "execution_count": 2,
   "id": "8f7e6b26",
   "metadata": {},
   "outputs": [],
   "source": [
    "import math\n",
    "class MinHeap:\n",
    "    def __init__(self, l=[]):\n",
    "        self.arr = l\n",
    "        i = (len(l) - 2)//2\n",
    "        while i >= 0:\n",
    "            self.minHeapify(i)\n",
    "            i -= 1\n",
    "    def parent(self, i):\n",
    "        return (i - 1)//2\n",
    "    def lchild(self, i):\n",
    "        return (2*i + 1)\n",
    "    def rchild(self, i):\n",
    "        return (2*i + 2)\n",
    "    def insert(self, x):\n",
    "        # perlocate up\n",
    "        self.arr.append(x)\n",
    "        i = len(self.arr) - 1\n",
    "        while i>0 and arr[self.parent(i)] > arr[i]:\n",
    "            p = self.parent(i)\n",
    "            self.arr[i] , self.arr[p] = self.arr[p] , self.arr[i]\n",
    "            i = p\n",
    "    def minHeapify(self, i):\n",
    "        arr = self.arr\n",
    "        lt = self.lchild(i)\n",
    "        rt = self.rchild(i)\n",
    "        smallest = i\n",
    "        n = len(arr)\n",
    "        if lt<n and arr[lt] < arr[smallest]:\n",
    "            smallest = lt\n",
    "        if rt<n and arr[rt] < arr[smallest]:\n",
    "            smallest = rt\n",
    "        if smallest != i:\n",
    "            arr[smallest] , arr[i] = arr[i] , arr[smallest]\n",
    "            self.minHeapify(smallest)\n",
    "    def extractMin(self):\n",
    "        arr = self.arr\n",
    "        n = len(arr)\n",
    "        if n == 0:\n",
    "            return math.inf\n",
    "        res = arr[0]\n",
    "        arr[0] = arr[n - 1] # instead of swapping we assign the values\n",
    "        arr.pop()\n",
    "        self.minHeapify(0)\n",
    "        return res\n",
    "    def decreaseKey(self, i , x):\n",
    "        arr = self.arr\n",
    "        arr[i] = x\n",
    "        while i != 0 and arr[self.parent(i) > arr[i]]:\n",
    "            p = self.parent(i)\n",
    "            arr[i] , arr[p] = arr[p] , arr[i]\n",
    "            i = p\n",
    "    def delete(self, i):\n",
    "        n = len(self.arr)\n",
    "        if i >= n:\n",
    "            return \n",
    "        else:\n",
    "            self.decreaseKey(i, -math.inf)\n",
    "            self.extractMin()"
   ]
  },
  {
   "cell_type": "markdown",
   "id": "e85d88c5-48c9-4422-a181-fe01dec1479b",
   "metadata": {},
   "source": [
    "#### Heap Sort\n",
    "\n",
    "* Can be seen as an optimization over Selection Sort\n",
    "* Two Steps:\n",
    "    1. Build a Max Heap\n",
    "    2. Repeatedly swap root with the last node, reduce heap size by 1 and heapify\n",
    "* It is not stable\n",
    "* It used in Hybrid Algorithms like `IntroSort`\n",
    "* Time Complexity : $ O(n logn) $\n",
    "* Auxilary Space : $ O(n) $"
   ]
  },
  {
   "cell_type": "code",
   "execution_count": 3,
   "id": "6aad2f60-f31b-430f-8eb4-82b296016294",
   "metadata": {},
   "outputs": [],
   "source": [
    "def heapify(arr, n, i):\n",
    "    largest = i # Initialize largest as root\n",
    "    l = 2 * i + 1 # left = 2*i + 1\n",
    "    r = 2 * i + 2 # right = 2*i + 2\n",
    "    if l < n and arr[i] < arr[l]:\n",
    "        largest = l\n",
    "    if r < n and arr[largest] < arr[r]:\n",
    "        largest = r\n",
    "    if largest != i:\n",
    "        (arr[i], arr[largest]) = (arr[largest], arr[i]) # swap\n",
    "        heapify(arr, n, largest)\n",
    "    return arr"
   ]
  },
  {
   "cell_type": "code",
   "execution_count": 4,
   "id": "16410793-2ff0-4c9d-90cb-6ea662c56509",
   "metadata": {},
   "outputs": [],
   "source": [
    "def heapSort(arr):\n",
    "    n = len(arr)\n",
    "    for i in range(n // 2 - 1, -1, -1):\n",
    "        heapify(arr, n, i)\n",
    "    for i in range(n - 1, 0, -1):\n",
    "        (arr[i], arr[0]) = (arr[0], arr[i]) # swap\n",
    "        heapify(arr, i, 0)"
   ]
  },
  {
   "cell_type": "markdown",
   "id": "d83074ea-3108-4e6b-9e18-b6d1e9c68bf5",
   "metadata": {},
   "source": [
    "#### Heapq Library"
   ]
  },
  {
   "cell_type": "code",
   "execution_count": 5,
   "id": "8a5e4710-e140-4822-a00f-01d46b95bfec",
   "metadata": {},
   "outputs": [
    {
     "name": "stdout",
     "output_type": "stream",
     "text": [
      "[1, 4, 5, 30, 20]\n",
      "After Push [1, 4, 3, 30, 20, 5]\n",
      "1\n",
      "After Pop [3, 4, 5, 30, 20]\n",
      "N largest element is  [30, 20]\n",
      "N smallest element is  [3, 4]\n",
      "3\n",
      "After Replace  [-1, 4, 5, 30, 20]\n"
     ]
    }
   ],
   "source": [
    "import heapq\n",
    "\n",
    "pq = [5, 20, 1, 30, 4]\n",
    "\n",
    "heapq.heapify(pq)  # [1,4,5,30,20]\n",
    "print(pq)\n",
    "\n",
    "# push \n",
    "heapq.heappush(pq, 3)  # 1,4,3,30,20,5\n",
    "print(\"After Push\", end=\" \")\n",
    "print(pq)\n",
    "\n",
    "# pop\n",
    "print(heapq.heappop(pq))  # [3,4,5,30,20]\n",
    "print(\"After Pop\", end=\" \")\n",
    "print(pq)\n",
    "\n",
    "# n largest\n",
    "print(\"N largest element is \", end=\" \")\n",
    "print(heapq.nlargest(2, pq))\n",
    "\n",
    "# n smallest\n",
    "print(\"N smallest element is \", end=\" \")\n",
    "print(heapq.nsmallest(2, pq))\n",
    "\n",
    "# replace\n",
    "print(heapq.heapreplace(pq,-1))\n",
    "print(\"After Replace \", end=\" \")\n",
    "print(pq)"
   ]
  },
  {
   "cell_type": "code",
   "execution_count": 6,
   "id": "54ce586a-ef2e-4737-aabd-05e671c767d3",
   "metadata": {},
   "outputs": [],
   "source": [
    "arr = [12,50,30]"
   ]
  },
  {
   "cell_type": "code",
   "execution_count": 7,
   "id": "6074f5f8-2f9a-4c62-bfd8-ab2b06070c91",
   "metadata": {},
   "outputs": [
    {
     "data": {
      "text/plain": [
       "[50, 12, 30]"
      ]
     },
     "execution_count": 7,
     "metadata": {},
     "output_type": "execute_result"
    }
   ],
   "source": [
    "heapify(arr, len(arr), 0)"
   ]
  },
  {
   "cell_type": "code",
   "execution_count": 8,
   "id": "81990fa3-d8bc-47e9-b58f-568167a0a702",
   "metadata": {},
   "outputs": [
    {
     "name": "stdout",
     "output_type": "stream",
     "text": [
      "Successfully added to the comment list\n"
     ]
    }
   ],
   "source": [
    "z.new(\"Sort K sorted Array\")"
   ]
  },
  {
   "cell_type": "markdown",
   "id": "a9fd0538-f487-47ac-9c76-7c5fa4c3d1cb",
   "metadata": {},
   "source": [
    "## Sort K sorted Array"
   ]
  },
  {
   "cell_type": "code",
   "execution_count": 17,
   "id": "b29c4f3c-07ca-4e4f-b7c3-958f008c2497",
   "metadata": {},
   "outputs": [
    {
     "name": "stdout",
     "output_type": "stream",
     "text": [
      "Array is \n",
      "[9, 8, 7, 18, 19, 17]\n",
      "The following Sorted Array is \n",
      "[7, 8, 9, 17, 18, 19]\n"
     ]
    }
   ],
   "source": [
    "import heapq\n",
    "def sortk(arr, k):\n",
    "    n = len(arr)\n",
    "    pq = arr[:k + 1] # STORE THE VALUE IN `pq`\n",
    "    heapq.heapify(pq)\n",
    "    index = 0 # to get the position to place in the array\n",
    "    \n",
    "    for i in range(k + 1, n):\n",
    "        arr[index] = heapq.heappop(pq)\n",
    "        index += 1\n",
    "        heapq.heappush(pq, arr[i])\n",
    "    \n",
    "    # empty the pq\n",
    "    while pq:\n",
    "        arr[index] = heapq.heappop(pq)\n",
    "        index += 1\n",
    "        \n",
    "if __name__ == \"__main__\":\n",
    "    k = 2\n",
    "    arr = [9,8,7,18,19,17]\n",
    "    print(f\"Array is \\n{arr}\")\n",
    "    \n",
    "    sortk(arr, k)\n",
    "    print(f\"The following Sorted Array is \\n{arr}\")"
   ]
  },
  {
   "cell_type": "code",
   "execution_count": 18,
   "id": "a5b56f9d-2983-4113-8cab-c42284679c86",
   "metadata": {
    "tags": []
   },
   "outputs": [
    {
     "name": "stdout",
     "output_type": "stream",
     "text": [
      "Successfully added to the comment list\n"
     ]
    }
   ],
   "source": [
    "z.new(\"Purchase Maximum Items\")"
   ]
  },
  {
   "cell_type": "markdown",
   "id": "6f01d903-250e-455e-afe4-2c3ae2a3dd91",
   "metadata": {},
   "source": [
    "## Purchase Maximum Items"
   ]
  },
  {
   "cell_type": "code",
   "execution_count": 25,
   "id": "649c0ef9-037f-49f8-a855-46b1fadfda8c",
   "metadata": {
    "tags": []
   },
   "outputs": [],
   "source": [
    "def purchaseItem(arr, sumV):\n",
    "    heapq.heapify(arr)\n",
    "    print(arr)\n",
    "    num = 0\n",
    "    count = 0\n",
    "    i = 0\n",
    "    while arr:\n",
    "        val = heapq.heappop(arr)\n",
    "        if num + val > sumV:\n",
    "            return count\n",
    "        else:\n",
    "            num += val\n",
    "            count += 1\n",
    "        i += 1"
   ]
  },
  {
   "cell_type": "code",
   "execution_count": 27,
   "id": "7516680d-79ff-40d1-9fc5-5cc725b9b962",
   "metadata": {
    "tags": []
   },
   "outputs": [
    {
     "name": "stdout",
     "output_type": "stream",
     "text": [
      "[5, 10, 20, 30, 100]\n"
     ]
    },
    {
     "data": {
      "text/plain": [
       "3"
      ]
     },
     "execution_count": 27,
     "metadata": {},
     "output_type": "execute_result"
    }
   ],
   "source": [
    "purchaseItem([20,10,5,30,100], 35)"
   ]
  },
  {
   "cell_type": "code",
   "execution_count": 33,
   "id": "269ac1cc-cc88-4e63-9c90-7aab1de7c8c0",
   "metadata": {
    "tags": []
   },
   "outputs": [
    {
     "name": "stdout",
     "output_type": "stream",
     "text": [
      "Successfully added to the comment list\n"
     ]
    }
   ],
   "source": [
    "z.new(\"Kth Largest Elements\")"
   ]
  },
  {
   "cell_type": "markdown",
   "id": "84f8a8c5-2acc-439e-a619-41965ba553a9",
   "metadata": {},
   "source": [
    "## Kth Largest Elements\n",
    "\n",
    "* We can use the `Max Heap` property to check but it takes Time Complexity as \n",
    "    * $O(n + k logn)$\n",
    "* But if we use `Min Heap` property to check it takes Time Complexity as\n",
    "    * $O(k + (n -k) log k)$\n",
    "    * The Process is:\n",
    "        1. Add `k` elements in heap   --> $O(k)$\n",
    "        2. Follow the for loop        --> $O((n-k) logk)$\n",
    "            1. Compare if the `curr_element` is smaller than heap value then ignore it \n",
    "            2. Else replace with `top` value\n",
    "        3. Print the contents of heap value --> $O(n)$ (which is not necessary to consider)"
   ]
  },
  {
   "cell_type": "code",
   "execution_count": 30,
   "id": "69a84dcf-6dd5-403a-92a3-9ec9f4e75072",
   "metadata": {
    "tags": []
   },
   "outputs": [],
   "source": [
    "def kthLargestElements(arr,k):\n",
    "    heap = []\n",
    "    for i in arr:\n",
    "        heapq.heappush(heap, i)\n",
    "        if len(heapq) > k: \n",
    "            heapq.heappop(heap) # it removes smallest among the heap and largest remains there only\n",
    "    arr = [] # store the values\n",
    "    while heap:\n",
    "        arr.append(heapq.heappop(heap))\n",
    "    return arr[::-1]"
   ]
  },
  {
   "cell_type": "code",
   "execution_count": 34,
   "id": "5df5255d-788b-4e15-a78b-03ac586a8c9f",
   "metadata": {
    "tags": []
   },
   "outputs": [
    {
     "name": "stdout",
     "output_type": "stream",
     "text": [
      "Successfully added to the comment list\n"
     ]
    }
   ],
   "source": [
    "z.new(\"Kth Largest Element\")"
   ]
  },
  {
   "cell_type": "markdown",
   "id": "ad2da333-725a-4e7e-afcf-c1cac69d02ae",
   "metadata": {
    "tags": []
   },
   "source": [
    "## Kth Largest Element"
   ]
  },
  {
   "cell_type": "code",
   "execution_count": 36,
   "id": "d149f053-7c5e-4e56-bcbe-a7b0bbb2e4b8",
   "metadata": {
    "tags": []
   },
   "outputs": [],
   "source": [
    "def kthLargestElement(arr, k):\n",
    "    heap = []\n",
    "    for i in arr:\n",
    "        heapq.heappush(heap, i)\n",
    "        if len(heapq) > k:\n",
    "            heapq.heappop(heap)\n",
    "    return heapq.heappop(heap)"
   ]
  },
  {
   "cell_type": "code",
   "execution_count": 37,
   "id": "6f9b3187-60a8-4b66-8c0d-48f67d160fc9",
   "metadata": {
    "tags": []
   },
   "outputs": [
    {
     "name": "stdout",
     "output_type": "stream",
     "text": [
      "Successfully added to the comment list\n"
     ]
    }
   ],
   "source": [
    "z.new(\"Kth Smallest Element\")"
   ]
  },
  {
   "cell_type": "code",
   "execution_count": 38,
   "id": "65eeb172-c29d-43d1-a2ec-d2fc9d87b24f",
   "metadata": {
    "tags": []
   },
   "outputs": [],
   "source": [
    "def kth_smallest(arr, k):\n",
    "    # use max heap\n",
    "    heap = []\n",
    "    for i in arr:\n",
    "        heapq.heappush(heap, -i)\n",
    "        if len(heap) > k:\n",
    "            heapq.heappop(heap)\n",
    "    return -heapq.heappop(heap)"
   ]
  },
  {
   "cell_type": "code",
   "execution_count": 39,
   "id": "0191d58d-587a-4959-a594-93a96e161928",
   "metadata": {
    "tags": []
   },
   "outputs": [
    {
     "name": "stdout",
     "output_type": "stream",
     "text": [
      "Successfully added to the comment list\n"
     ]
    }
   ],
   "source": [
    "z.new(\"Kth Closest Element\")"
   ]
  },
  {
   "cell_type": "markdown",
   "id": "bbccc15b-190d-4c03-8a05-1e14a88fe1d7",
   "metadata": {},
   "source": [
    "## Kth Closest Element"
   ]
  },
  {
   "cell_type": "code",
   "execution_count": 40,
   "id": "f254d5b6-8c48-4700-ad2c-0f9ab4e08633",
   "metadata": {
    "tags": []
   },
   "outputs": [],
   "source": [
    "import heapq as hq"
   ]
  },
  {
   "cell_type": "code",
   "execution_count": 41,
   "id": "dcafb12f-c4ae-4f2d-8e03-efc0882be251",
   "metadata": {
    "tags": []
   },
   "outputs": [],
   "source": [
    "def kthclosestElement(arr,x,k):\n",
    "    heap = []\n",
    "    for i in range(len(arr)):\n",
    "        hq.heappush(heap, (-(abs(arr[i] - x)), i)) # appending as (value, index)\n",
    "    for i in range(k, n):\n",
    "        curr = -abs(arr[i] - x)\n",
    "        p, pi = heap[0]\n",
    "        if curr > p: # inversely we are using negative sign logically we have to check p > curr\n",
    "            hq.heappop(heap)\n",
    "            hq.heappush(heap, (curr, i))\n",
    "    while heap:\n",
    "        p, pi = hq.heappop(heap)\n",
    "        print(arr[pi]) # if we print p which is a difference that's why we use index to print 🧠"
   ]
  },
  {
   "cell_type": "code",
   "execution_count": 42,
   "id": "492280ca-0fb1-45a6-b76a-508bebe69824",
   "metadata": {
    "tags": []
   },
   "outputs": [
    {
     "name": "stdout",
     "output_type": "stream",
     "text": [
      "Successfully added to the comment list\n"
     ]
    }
   ],
   "source": [
    "z.new(\"Merge k sorted arrays\")"
   ]
  },
  {
   "cell_type": "markdown",
   "id": "33036756-da80-4d3d-8b7f-0d25892352dd",
   "metadata": {},
   "source": [
    "## Merge k sorted arrays"
   ]
  },
  {
   "cell_type": "code",
   "execution_count": 47,
   "id": "8379457b-577c-4c59-afad-588dfcb2a984",
   "metadata": {
    "tags": []
   },
   "outputs": [],
   "source": [
    "def mergeK(arr):\n",
    "    h = []\n",
    "    res = []\n",
    "    for i in range(len(arr)):\n",
    "        hq.heappush(h, (arr[i][0],i, 0)) # appending (arr value, array position, value posiion)\n",
    "    while h:\n",
    "        val, ap, vp = hq.heappop(h)\n",
    "        res.append(val)\n",
    "        if vp + 1 < len(arr[ap]):\n",
    "            hq.heappush(h, (arr[ap][vp + 1], ap, vp + 1))\n",
    "    return res"
   ]
  },
  {
   "cell_type": "code",
   "execution_count": 46,
   "id": "c878b9ca-240d-4b87-b504-14c5363b220e",
   "metadata": {
    "tags": []
   },
   "outputs": [
    {
     "name": "stdout",
     "output_type": "stream",
     "text": [
      "0\n",
      "1\n",
      "2\n",
      "3\n",
      "4\n",
      "5\n",
      "6\n"
     ]
    },
    {
     "data": {
      "application/javascript": [
       "\n",
       "            var cell_index = IPython.notebook.get_selected_index();\n",
       "            var prev = cell_index - 1;\n",
       "            IPython.notebook.delete_cell(prev);\n",
       "        "
      ],
      "text/plain": [
       "<IPython.core.display.Javascript object>"
      ]
     },
     "metadata": {},
     "output_type": "display_data"
    }
   ],
   "source": [
    "z.printArr()"
   ]
  },
  {
   "cell_type": "code",
   "execution_count": null,
   "id": "032ce027-5379-468a-a0fc-d1ef4a36b8c0",
   "metadata": {},
   "outputs": [],
   "source": []
  }
 ],
 "metadata": {
  "kernelspec": {
   "display_name": "Python 3 (ipykernel)",
   "language": "python",
   "name": "python3"
  },
  "language_info": {
   "codemirror_mode": {
    "name": "ipython",
    "version": 3
   },
   "file_extension": ".py",
   "mimetype": "text/x-python",
   "name": "python",
   "nbconvert_exporter": "python",
   "pygments_lexer": "ipython3",
   "version": "3.10.10"
  }
 },
 "nbformat": 4,
 "nbformat_minor": 5
}

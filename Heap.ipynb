{
 "cells": [
  {
   "cell_type": "code",
   "execution_count": 3,
   "id": "ac527d1d",
   "metadata": {},
   "outputs": [],
   "source": [
    "from imp_personal import MyFunction\n",
    "z = MyFunction()"
   ]
  },
  {
   "cell_type": "markdown",
   "id": "b1eac0a5",
   "metadata": {},
   "source": [
    "# Binary Heap\n",
    "\n",
    "* Used in Heap Sort\n",
    "* Used to implement priority Queue\n",
    "* There are two types:\n",
    "    1. Min Heap -> Higher Priority item is assigned lowest value.\n",
    "    2. Max Heap -> Higher Priority item is assigned highest value.\n",
    "* Binary Heap is a complete Binary Tree\n",
    "\n",
    "* The node can be calculated using forumla\n",
    "\n",
    "1. $ left(i) = 2i + 1 $\n",
    "2. $ right(i) = 2i + 2 $\n",
    "3. $ parent(i) =  \\frac{i -1}{2} $\n",
    "\n",
    "\n",
    "                  \n",
    "According to above given formula let's solve it:\n",
    "\n",
    "1. Parent(8) = $\\frac{8 - 1}{2}$ = 3.5 ~ 3\n",
    "2. left(2) = 2(2) + 1 = 5\n",
    "3. right(2) = 2(2) + 2 = 6\n"
   ]
  },
  {
   "cell_type": "markdown",
   "id": "6141b0ab",
   "metadata": {},
   "source": [
    "## Min Heap\n",
    "\n",
    "* Complete Binary Tree\n",
    "* Every Node has value smaller than its descendants."
   ]
  },
  {
   "cell_type": "code",
   "execution_count": 8,
   "id": "8f7e6b26",
   "metadata": {},
   "outputs": [],
   "source": [
    "import math\n",
    "class MinHeap:\n",
    "    def __init__(self, l=[]):\n",
    "        self.arr = l\n",
    "        i = (len(l) - 2)//2\n",
    "        while i >= 0:\n",
    "            self.minHeapify(i)\n",
    "            i -= 1\n",
    "    def parent(self, i):\n",
    "        return (i - 1)//2\n",
    "    def lchild(self, i):\n",
    "        return (2*i + 1)\n",
    "    def rchild(self, i):\n",
    "        return (2*i + 2)\n",
    "    def insert(self, x):\n",
    "        self.arr.append(x)\n",
    "        i = len(self.arr) - 1\n",
    "        while i>0 and arr[self.parent(i)] > arr[i]:\n",
    "            p = self.parent(i)\n",
    "            self.arr[i] , self.arr[p] = self.arr[p] , self.arr[i]\n",
    "            i = p\n",
    "    def minHeapify(self, i):\n",
    "        arr = self.arr\n",
    "        lt = self.lchild(i)\n",
    "        rt = self.rchild(i)\n",
    "        smallest = i\n",
    "        n = len(arr)\n",
    "        if lt<n and arr[lt] < arr[smallest]:\n",
    "            smallest = lt\n",
    "        if rt<n and arr[rt] < arr[smallest]:\n",
    "            smallest = rt\n",
    "        if smallest != i:\n",
    "            arr[smallest] , arr[i] = arr[i] , arr[smallest]\n",
    "            self.minHeapify(smallest)\n",
    "    def extractMin(self):\n",
    "        arr = self.arr\n",
    "        n = len(arr)\n",
    "        if n == 0:\n",
    "            return math.inf\n",
    "        res = arr[0]\n",
    "        arr[0] = arr[n - 1] # instead of swapping we assign the values\n",
    "        arr.pop()\n",
    "        self.minHeapify(0)\n",
    "        return res\n",
    "    def decreaseKey(self, i , x):\n",
    "        arr = self.arr\n",
    "        arr[i] = x\n",
    "        while i != 0 and arr[self.parent(i) > arr[i]]:\n",
    "            p = self.parent(i)\n",
    "            arr[i] , arr[p] = arr[p] , arr[i]\n",
    "            i = p\n",
    "    def delete(self, i):\n",
    "        n = len(self.arr)\n",
    "        if i >= n:\n",
    "            return \n",
    "        else:\n",
    "            self.decreaseKey(i, -math.inf)\n",
    "            self.extractMin()"
   ]
  },
  {
   "cell_type": "code",
   "execution_count": 9,
   "id": "f3c541ea-8461-415b-988b-cc3161b1d386",
   "metadata": {},
   "outputs": [
    {
     "name": "stdout",
     "output_type": "stream",
     "text": [
      "Successfully added to the comment list\n"
     ]
    }
   ],
   "source": [
    "z.new(\"Heap Sort\")"
   ]
  },
  {
   "cell_type": "markdown",
   "id": "e85d88c5-48c9-4422-a181-fe01dec1479b",
   "metadata": {},
   "source": [
    "#### Heap Sort\n",
    "\n",
    "* Can be seen as an optimization over Selection Sort\n",
    "* Two Steps:\n",
    "    1. Build a Max Heap\n",
    "    2. Repeatedly swap root with the last node, reduce heap size by 1 and heapify\n",
    "* It is not stable\n",
    "* It used in Hybrid Algorithms like `IntroSort`"
   ]
  },
  {
   "cell_type": "code",
   "execution_count": null,
   "id": "e3fa7a8d-b595-47a7-a042-9a782482b590",
   "metadata": {},
   "outputs": [],
   "source": []
  }
 ],
 "metadata": {
  "kernelspec": {
   "display_name": "Python 3 (ipykernel)",
   "language": "python",
   "name": "python3"
  },
  "language_info": {
   "codemirror_mode": {
    "name": "ipython",
    "version": 3
   },
   "file_extension": ".py",
   "mimetype": "text/x-python",
   "name": "python",
   "nbconvert_exporter": "python",
   "pygments_lexer": "ipython3",
   "version": "3.10.9"
  }
 },
 "nbformat": 4,
 "nbformat_minor": 5
}

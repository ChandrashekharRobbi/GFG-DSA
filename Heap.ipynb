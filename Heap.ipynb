{
 "cells": [
  {
   "cell_type": "code",
   "execution_count": 3,
   "id": "ac527d1d",
   "metadata": {},
   "outputs": [],
   "source": [
    "from imp_personal import MyFunction\n",
    "z = MyFunction()"
   ]
  },
  {
   "cell_type": "markdown",
   "id": "b1eac0a5",
   "metadata": {},
   "source": [
    "# Binary Heap\n",
    "\n",
    "* Used in Heap Sort\n",
    "* Used to implement priority Queue\n",
    "* There are two types:\n",
    "    1. Min Heap -> Higher Priority item is assigned lowest value.\n",
    "    2. Max Heap -> Higher Priority item is assigned highest value.\n",
    "* Binary Heap is a complete Binary Tree\n",
    "\n",
    "* The node can be calculated using forumla\n",
    "\n",
    "1. $ left(i) = 2i + 1 $\n",
    "2. $ right(i) = 2i + 2 $\n",
    "3. $ parent(i) =  \\frac{i -1}{2} $\n",
    "\n",
    "\n",
    "For Eg:\n",
    "\n",
    "<img src=\"img/Heap BST TREE.png\"/>\n",
    "                  \n",
    "According to above given formula let's solve it:\n",
    "\n",
    "1. Parent(8) = $\\frac{8 - 1}{2}$ = 3.5 ~ 3\n",
    "2. left(2) = 2(2) + 1 = 5\n",
    "3. right(2) = 2(2) + 2 = 6\n"
   ]
  },
  {
   "cell_type": "markdown",
   "id": "6141b0ab",
   "metadata": {},
   "source": [
    "## Min Heap\n",
    "\n",
    "* Complete Binary Tree\n",
    "* Every Node has value smaller than its descendants."
   ]
  },
  {
   "cell_type": "code",
   "execution_count": 6,
   "id": "8f7e6b26",
   "metadata": {},
   "outputs": [],
   "source": [
    "import math\n",
    "class MinHeap:\n",
    "    def __init__(self):\n",
    "        self.arr = []\n",
    "    def parent(self, i):\n",
    "        return (i - 1)//2\n",
    "    def lchild(self, i):\n",
    "        return (2*i + 1)\n",
    "    def rchild(self, i):\n",
    "        return (2*i + 2)\n",
    "    def insert(self, x):\n",
    "        self.arr.append(x)\n",
    "        i = len(self.arr) - 1\n",
    "        while i>0 and arr[self.parent(i)] > arr[i]:\n",
    "            p = self.parent(i)\n",
    "            self.arr[i] , self.arr[p] = self.arr[p] , self.arr[i]\n",
    "            i = p\n",
    "    def minHeapify(self, i):\n",
    "        arr = self.arr\n",
    "        lt = self.lchild(i)\n",
    "        rt = self.rchild(i)\n",
    "        smallest = i\n",
    "        n = len(arr)\n",
    "        if lt<n and arr[lt] < arr[smallest]:\n",
    "            smallest = lt\n",
    "        if rt<n and arr[rt] < arr[smallest]:\n",
    "            smallest = rt\n",
    "        if smallest != i:\n",
    "            arr[smallest] , arr[i] = arr[i] , arr[smallest]\n",
    "            self.minHeapify(smallest)\n",
    "    def extractMin(self):\n",
    "        arr = self.arr\n",
    "        n = len(arr)\n",
    "        if n == 0:\n",
    "            return math.inf\n",
    "        res = arr[0]\n",
    "        arr[0] = arr[n - 1] # instead of swapping we assign the values\n",
    "        arr.pop()\n",
    "        self.minHeapify(0)\n",
    "        return res\n",
    "    def decreaseKey(self, i , x):\n",
    "        arr = self.arr\n",
    "        arr[i] = x\n",
    "        while i != 0 and arr[self.parent(i) > arr[i]]:\n",
    "            p = self.parent(i)\n",
    "            arr[i] , arr[p] = arr[p] , arr[i]\n",
    "            i = p\n",
    "    def delete(self, i):\n",
    "        pass"
   ]
  },
  {
   "cell_type": "code",
   "execution_count": null,
   "id": "f3c541ea-8461-415b-988b-cc3161b1d386",
   "metadata": {},
   "outputs": [],
   "source": []
  },
  {
   "cell_type": "code",
   "execution_count": null,
   "id": "10230154-bd24-47be-a5c6-e850832cba48",
   "metadata": {},
   "outputs": [],
   "source": []
  }
 ],
 "metadata": {
  "kernelspec": {
   "display_name": "Python 3 (ipykernel)",
   "language": "python",
   "name": "python3"
  },
  "language_info": {
   "codemirror_mode": {
    "name": "ipython",
    "version": 3
   },
   "file_extension": ".py",
   "mimetype": "text/x-python",
   "name": "python",
   "nbconvert_exporter": "python",
   "pygments_lexer": "ipython3",
   "version": "3.10.9"
  }
 },
 "nbformat": 4,
 "nbformat_minor": 5
}

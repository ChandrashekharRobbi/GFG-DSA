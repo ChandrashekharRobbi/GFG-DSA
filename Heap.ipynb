{
 "cells": [
  {
   "cell_type": "code",
   "execution_count": 1,
   "id": "0cf9136c",
   "metadata": {},
   "outputs": [],
   "source": [
    "from imp_personal import MyFunction\n",
    "z = MyFunction()"
   ]
  },
  {
   "cell_type": "markdown",
   "id": "d2667e27",
   "metadata": {},
   "source": [
    "# Binary Heap\n",
    "\n",
    "* Used in Heap Sort\n",
    "* Used to implement priority Queue\n",
    "* There are two types:\n",
    "    1. Min Heap -> Higher Priority item is assigned lowest value.\n",
    "    2. Max Heap -> Higher Priority item is assigned highest value.\n",
    "* Binary Heap is a complete Binary Tree\n",
    "\n",
    "* The node can be calculated using forumla\n",
    "\n",
    "1. $ left(i) = 2i + 1 $\n",
    "\n",
    "\n",
    "2. $ right(i) = 2i + 2 $\n",
    "3. $ parent(i) = [i-1/2] $"
   ]
  },
  {
   "cell_type": "code",
   "execution_count": 6,
   "id": "cc27a153",
   "metadata": {},
   "outputs": [],
   "source": [
    "def fun(n):\n",
    "    if n == 0:\n",
    "        return\n",
    "    print(n)\n",
    "    fun(n-1)\n",
    "    print(n)\n",
    "    "
   ]
  },
  {
   "cell_type": "code",
   "execution_count": 7,
   "id": "3748b2da",
   "metadata": {},
   "outputs": [
    {
     "name": "stdout",
     "output_type": "stream",
     "text": [
      "3\n",
      "2\n",
      "1\n",
      "1\n",
      "2\n",
      "3\n"
     ]
    }
   ],
   "source": [
    "fun(3)"
   ]
  },
  {
   "cell_type": "code",
   "execution_count": null,
   "id": "9a9760f7",
   "metadata": {},
   "outputs": [],
   "source": []
  }
 ],
 "metadata": {
  "kernelspec": {
   "display_name": "Python 3 (ipykernel)",
   "language": "python",
   "name": "python3"
  },
  "language_info": {
   "codemirror_mode": {
    "name": "ipython",
    "version": 3
   },
   "file_extension": ".py",
   "mimetype": "text/x-python",
   "name": "python",
   "nbconvert_exporter": "python",
   "pygments_lexer": "ipython3",
   "version": "3.10.9"
  }
 },
 "nbformat": 4,
 "nbformat_minor": 5
}

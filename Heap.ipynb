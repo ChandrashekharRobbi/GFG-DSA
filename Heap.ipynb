{
 "cells": [
  {
   "cell_type": "code",
   "execution_count": 1,
   "id": "ac527d1d",
   "metadata": {},
   "outputs": [],
   "source": [
    "from imp_personal import MyFunction\n",
    "z = MyFunction()"
   ]
  },
  {
   "cell_type": "markdown",
   "id": "b1eac0a5",
   "metadata": {},
   "source": [
    "# Binary Heap\n",
    "\n",
    "* Used in Heap Sort\n",
    "* Used to implement priority Queue\n",
    "* There are two types:\n",
    "    1. Min Heap -> Higher Priority item is assigned lowest value.\n",
    "    2. Max Heap -> Higher Priority item is assigned highest value.\n",
    "* Binary Heap is a complete Binary Tree\n",
    "\n",
    "* The node can be calculated using forumla\n",
    "\n",
    "1. $ left(i) = 2i + 1 $\n",
    "2. $ right(i) = 2i + 2 $\n",
    "3. $ parent(i) =  \\frac{i -1}{2} $\n",
    "\n",
    "\n",
    "                  \n",
    "According to above given formula let's solve it:\n",
    "\n",
    "1. Parent(8) = $\\frac{8 - 1}{2}$ = 3.5 ~ 3\n",
    "2. left(2) = 2(2) + 1 = 5\n",
    "3. right(2) = 2(2) + 2 = 6\n",
    "\n",
    "\n",
    "\n",
    "**Problems**\n",
    "\n",
    "1. [Heap Sort](#Heap-Sort)\n",
    "1. [Heapq Library](#Heapq-Library)"
   ]
  },
  {
   "cell_type": "markdown",
   "id": "6141b0ab",
   "metadata": {},
   "source": [
    "## Min Heap\n",
    "\n",
    "* Complete Binary Tree\n",
    "* Every Node has value smaller than its descendants."
   ]
  },
  {
   "cell_type": "code",
   "execution_count": 2,
   "id": "8f7e6b26",
   "metadata": {},
   "outputs": [],
   "source": [
    "import math\n",
    "class MinHeap:\n",
    "    def __init__(self, l=[]):\n",
    "        self.arr = l\n",
    "        i = (len(l) - 2)//2\n",
    "        while i >= 0:\n",
    "            self.minHeapify(i)\n",
    "            i -= 1\n",
    "    def parent(self, i):\n",
    "        return (i - 1)//2\n",
    "    def lchild(self, i):\n",
    "        return (2*i + 1)\n",
    "    def rchild(self, i):\n",
    "        return (2*i + 2)\n",
    "    def insert(self, x):\n",
    "        self.arr.append(x)\n",
    "        i = len(self.arr) - 1\n",
    "        while i>0 and arr[self.parent(i)] > arr[i]:\n",
    "            p = self.parent(i)\n",
    "            self.arr[i] , self.arr[p] = self.arr[p] , self.arr[i]\n",
    "            i = p\n",
    "    def minHeapify(self, i):\n",
    "        arr = self.arr\n",
    "        lt = self.lchild(i)\n",
    "        rt = self.rchild(i)\n",
    "        smallest = i\n",
    "        n = len(arr)\n",
    "        if lt<n and arr[lt] < arr[smallest]:\n",
    "            smallest = lt\n",
    "        if rt<n and arr[rt] < arr[smallest]:\n",
    "            smallest = rt\n",
    "        if smallest != i:\n",
    "            arr[smallest] , arr[i] = arr[i] , arr[smallest]\n",
    "            self.minHeapify(smallest)\n",
    "    def extractMin(self):\n",
    "        arr = self.arr\n",
    "        n = len(arr)\n",
    "        if n == 0:\n",
    "            return math.inf\n",
    "        res = arr[0]\n",
    "        arr[0] = arr[n - 1] # instead of swapping we assign the values\n",
    "        arr.pop()\n",
    "        self.minHeapify(0)\n",
    "        return res\n",
    "    def decreaseKey(self, i , x):\n",
    "        arr = self.arr\n",
    "        arr[i] = x\n",
    "        while i != 0 and arr[self.parent(i) > arr[i]]:\n",
    "            p = self.parent(i)\n",
    "            arr[i] , arr[p] = arr[p] , arr[i]\n",
    "            i = p\n",
    "    def delete(self, i):\n",
    "        n = len(self.arr)\n",
    "        if i >= n:\n",
    "            return \n",
    "        else:\n",
    "            self.decreaseKey(i, -math.inf)\n",
    "            self.extractMin()"
   ]
  },
  {
   "cell_type": "markdown",
   "id": "e85d88c5-48c9-4422-a181-fe01dec1479b",
   "metadata": {},
   "source": [
    "#### Heap Sort\n",
    "\n",
    "* Can be seen as an optimization over Selection Sort\n",
    "* Two Steps:\n",
    "    1. Build a Max Heap\n",
    "    2. Repeatedly swap root with the last node, reduce heap size by 1 and heapify\n",
    "* It is not stable\n",
    "* It used in Hybrid Algorithms like `IntroSort`\n",
    "* Time Complexity : $ O(n logn) $\n",
    "* Auxilary Space : $ O(n) $"
   ]
  },
  {
   "cell_type": "code",
   "execution_count": 11,
   "id": "6aad2f60-f31b-430f-8eb4-82b296016294",
   "metadata": {},
   "outputs": [],
   "source": [
    "def heapify(arr, n, i):\n",
    "    largest = i # Initialize largest as root\n",
    "    l = 2 * i + 1 # left = 2*i + 1\n",
    "    r = 2 * i + 2 # right = 2*i + 2\n",
    "    if l < n and arr[i] < arr[l]:\n",
    "        largest = l\n",
    "    if r < n and arr[largest] < arr[r]:\n",
    "        largest = r\n",
    "    if largest != i:\n",
    "        (arr[i], arr[largest]) = (arr[largest], arr[i]) # swap\n",
    "        heapify(arr, n, largest)\n",
    "    return arr"
   ]
  },
  {
   "cell_type": "code",
   "execution_count": 12,
   "id": "16410793-2ff0-4c9d-90cb-6ea662c56509",
   "metadata": {},
   "outputs": [],
   "source": [
    "def heapSort(arr):\n",
    "    n = len(arr)\n",
    "    for i in range(n // 2 - 1, -1, -1):\n",
    "        heapify(arr, n, i)\n",
    "    for i in range(n - 1, 0, -1):\n",
    "        (arr[i], arr[0]) = (arr[0], arr[i]) # swap\n",
    "        heapify(arr, i, 0)"
   ]
  },
  {
   "cell_type": "markdown",
   "id": "d83074ea-3108-4e6b-9e18-b6d1e9c68bf5",
   "metadata": {},
   "source": [
    "#### Heapq Library"
   ]
  },
  {
   "cell_type": "code",
   "execution_count": 13,
   "id": "857ebd47-922e-4703-8257-a90baf9ef534",
   "metadata": {},
   "outputs": [],
   "source": [
    "z.makeNullArr()"
   ]
  },
  {
   "cell_type": "code",
   "execution_count": 14,
   "id": "8a5e4710-e140-4822-a00f-01d46b95bfec",
   "metadata": {},
   "outputs": [
    {
     "name": "stdout",
     "output_type": "stream",
     "text": [
      "[1, 4, 5, 30, 20]\n",
      "After Push [1, 4, 3, 30, 20, 5]\n",
      "1\n",
      "After Pop [3, 4, 5, 30, 20]\n",
      "N largest element is  [30, 20]\n",
      "N smallest element is  [3, 4]\n",
      "3\n",
      "After Replace  [-1, 4, 5, 30, 20]\n"
     ]
    }
   ],
   "source": [
    "import heapq\n",
    "\n",
    "pq = [5, 20, 1, 30, 4]\n",
    "\n",
    "heapq.heapify(pq)  # [1,4,5,30,20]\n",
    "print(pq)\n",
    "\n",
    "# push \n",
    "heapq.heappush(pq, 3)  # 1,4,3,30,20,5\n",
    "print(\"After Push\", end=\" \")\n",
    "print(pq)\n",
    "\n",
    "# pop\n",
    "print(heapq.heappop(pq))  # [3,4,5,30,20]\n",
    "print(\"After Pop\", end=\" \")\n",
    "print(pq)\n",
    "\n",
    "# n largest\n",
    "print(\"N largest element is \", end=\" \")\n",
    "print(heapq.nlargest(2, pq))\n",
    "\n",
    "# n smallest\n",
    "print(\"N smallest element is \", end=\" \")\n",
    "print(heapq.nsmallest(2, pq))\n",
    "\n",
    "# replace\n",
    "print(heapq.heapreplace(pq,-1))\n",
    "print(\"After Replace \", end=\" \")\n",
    "print(pq)"
   ]
  },
  {
   "cell_type": "code",
   "execution_count": 15,
   "id": "54ce586a-ef2e-4737-aabd-05e671c767d3",
   "metadata": {},
   "outputs": [],
   "source": [
    "arr = [12,50,30]"
   ]
  },
  {
   "cell_type": "code",
   "execution_count": 16,
   "id": "6074f5f8-2f9a-4c62-bfd8-ab2b06070c91",
   "metadata": {},
   "outputs": [
    {
     "data": {
      "text/plain": [
       "[50, 12, 30]"
      ]
     },
     "execution_count": 16,
     "metadata": {},
     "output_type": "execute_result"
    }
   ],
   "source": [
    "heapify(arr, len(arr), 0)"
   ]
  },
  {
   "cell_type": "code",
   "execution_count": null,
   "id": "81990fa3-d8bc-47e9-b58f-568167a0a702",
   "metadata": {},
   "outputs": [],
   "source": []
  }
 ],
 "metadata": {
  "kernelspec": {
   "display_name": "Python 3 (ipykernel)",
   "language": "python",
   "name": "python3"
  },
  "language_info": {
   "codemirror_mode": {
    "name": "ipython",
    "version": 3
   },
   "file_extension": ".py",
   "mimetype": "text/x-python",
   "name": "python",
   "nbconvert_exporter": "python",
   "pygments_lexer": "ipython3",
   "version": "3.10.9"
  }
 },
 "nbformat": 4,
 "nbformat_minor": 5
}

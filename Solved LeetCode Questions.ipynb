{
 "cells": [
  {
   "cell_type": "code",
   "execution_count": 4,
   "id": "b06d951d",
   "metadata": {},
   "outputs": [
    {
     "name": "stdout",
     "output_type": "stream",
     "text": [
      "Note that after executing new function your next cell will automatically converted to markdown cell :)\n"
     ]
    }
   ],
   "source": [
    "%run leetcode_function.py\n",
    "z = LeetFunction()"
   ]
  },
  {
   "cell_type": "markdown",
   "id": "4ec1a6b3",
   "metadata": {},
   "source": [
    "# LeetCode Problems \n",
    "\n",
    "### Data Structures 1\n",
    "\n"
   ]
  },
  {
   "cell_type": "code",
   "execution_count": 5,
   "id": "82a7497b",
   "metadata": {},
   "outputs": [
    {
     "name": "stdout",
     "output_type": "stream",
     "text": [
      "Successfully added to the comment list\n",
      "Here is the link https://leetcode.com/problems/contains-duplicate\n",
      "All the best Chandrashekhar\n"
     ]
    }
   ],
   "source": [
    "z.new(\"217.Contains Duplicate\")"
   ]
  },
  {
   "cell_type": "markdown",
   "id": "4f4c5c1a",
   "metadata": {},
   "source": [
    "## 217.Contains Duplicate\n",
    "\n",
    "* Approach : Used Hashing\n",
    "* Time Complexity : $ O(N + N) $ = O(N)"
   ]
  },
  {
   "cell_type": "code",
   "execution_count": 7,
   "id": "b307481b",
   "metadata": {},
   "outputs": [],
   "source": [
    "class Solution:\n",
    "    def containsDuplicate(self, nums: list[int]) -> bool:\n",
    "        hash = {}\n",
    "        for i in nums:\n",
    "            if i not in hash:\n",
    "                hash[i] = 1\n",
    "            else:\n",
    "                hash[i] += 1\n",
    "        for i in nums:\n",
    "            if hash[i] > 1:\n",
    "                return True\n",
    "        return False"
   ]
  },
  {
   "cell_type": "code",
   "execution_count": 13,
   "id": "927dcd54",
   "metadata": {},
   "outputs": [],
   "source": [
    "arr= [\"asddnknsdjn\",\"nksdfnsjdnjkljf\",\"nksdnksndfks\"]"
   ]
  },
  {
   "cell_type": "code",
   "execution_count": 14,
   "id": "5c1b5586",
   "metadata": {},
   "outputs": [
    {
     "name": "stdout",
     "output_type": "stream",
     "text": [
      "0\n",
      "1\n",
      "2\n",
      "asddnknsdjn\n",
      "nksdfnsjdnjkljf\n",
      "nksdnksndfks\n"
     ]
    }
   ],
   "source": [
    "sum = \"\"\n",
    "for i in range(len(arr)):\n",
    "    if i != len(arr) - 1:\n",
    "        sum += arr[i] + \"\\n\"\n",
    "    else:\n",
    "        sum += arr[i]\n",
    "    print(i) \n",
    "pypc.c"
   ]
  },
  {
   "cell_type": "code",
   "execution_count": null,
   "id": "7495871f",
   "metadata": {},
   "outputs": [],
   "source": []
  }
 ],
 "metadata": {
  "kernelspec": {
   "display_name": "Python 3 (ipykernel)",
   "language": "python",
   "name": "python3"
  },
  "language_info": {
   "codemirror_mode": {
    "name": "ipython",
    "version": 3
   },
   "file_extension": ".py",
   "mimetype": "text/x-python",
   "name": "python",
   "nbconvert_exporter": "python",
   "pygments_lexer": "ipython3",
   "version": "3.10.9"
  }
 },
 "nbformat": 4,
 "nbformat_minor": 5
}

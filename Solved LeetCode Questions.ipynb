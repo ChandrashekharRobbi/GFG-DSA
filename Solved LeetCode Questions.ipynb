{
 "cells": [
  {
   "cell_type": "code",
   "execution_count": 11,
   "id": "5b2bf65b",
   "metadata": {},
   "outputs": [
    {
     "name": "stdout",
     "output_type": "stream",
     "text": [
      "Note that after executing new function your next cell will automatically converted to markdown cell :)\n"
     ]
    }
   ],
   "source": [
    "%run leetcode_function.py\n",
    "z = LeetFunction()"
   ]
  },
  {
   "cell_type": "markdown",
   "id": "06f1b11e",
   "metadata": {},
   "source": [
    "**LeetCode Problems**\n",
    "\n",
    "# Data Structures 1\n",
    "* ✅ [217.Contains Duplicate](#217.Contains-Duplicate)    [(link)](https://leetcode.com/problems/duplicate)\n",
    "* ✅ [235. Lowest Common Ancestor of a Binary Search Tree](#235.-Lowest-Common-Ancestor-of-a-Binary-Search-Tree)    [(link)](https://leetcode.com/problems/lowest-common-ancestor-of-a-binary-search-tree)\n"
   ]
  },
  {
   "cell_type": "markdown",
   "id": "80f88c49",
   "metadata": {},
   "source": [
    "# 217.Contains Duplicate"
   ]
  },
  {
   "cell_type": "code",
   "execution_count": 12,
   "id": "82f60d53",
   "metadata": {},
   "outputs": [
    {
     "name": "stdout",
     "output_type": "stream",
     "text": [
      "https://leetcode.com/problems/duplicate\n",
      "Successfully added to the comment list\n"
     ]
    }
   ],
   "source": [
    "z.new(\"217.Contains Duplicate\")"
   ]
  },
  {
   "cell_type": "markdown",
   "id": "5e2870f2",
   "metadata": {},
   "source": [
    "## 217.Contains Duplicate"
   ]
  },
  {
   "cell_type": "code",
   "execution_count": 34,
   "id": "dc7c5cea",
   "metadata": {},
   "outputs": [],
   "source": [
    "h = 2\n",
    "s = \"235. Lowest Common Ancestor of a Binary Search Tree\""
   ]
  },
  {
   "cell_type": "code",
   "execution_count": 38,
   "id": "93aecf93",
   "metadata": {},
   "outputs": [
    {
     "name": "stdout",
     "output_type": "stream",
     "text": [
      "* ✅ [235. Lowest Common Ancestor of a Binary Search Tree](#235.-Lowest-Common-Ancestor-of-a-Binary-Search-Tree)    [(link)](https://leetcode.com/problems/lowest-common-ancestor-of-a-binary-search-tree)\n"
     ]
    }
   ],
   "source": [
    "hash = \"#\"*h\n",
    "link = \"https://leetcode.com/problems/\"\n",
    "# print(s)\n",
    "text = \"-\".join(s.split(\".\")[1:][0].split()).lower()\n",
    "leet_link =link + text\n",
    "leet_link\n",
    "comment = f\"* ✅ [{s}](#{s.replace(' ','-')})    [(link)]({leet_link})\"\n",
    "markdown = f\"{hash} {s}\"\n",
    "print(comment)"
   ]
  },
  {
   "cell_type": "code",
   "execution_count": 36,
   "id": "68456140",
   "metadata": {},
   "outputs": [
    {
     "data": {
      "text/plain": [
       "'https://leetcode.com/problems/lowest-common-ancestor-of-a-binary-search-tree'"
      ]
     },
     "execution_count": 36,
     "metadata": {},
     "output_type": "execute_result"
    }
   ],
   "source": [
    "hash = \"#\"*h\n",
    "link = \"https://leetcode.com/problems/\"\n",
    "# print(s)\n",
    "text = \"-\".join(s.split(\".\")[1:][0].split()).lower()\n",
    "leet_link =link + text\n",
    "leet_link"
   ]
  },
  {
   "cell_type": "code",
   "execution_count": 39,
   "id": "1c0e11db",
   "metadata": {},
   "outputs": [
    {
     "name": "stdout",
     "output_type": "stream",
     "text": [
      "* ✅ [Example Link](#Example-Link) [<a href='https://www.example.com' style='color:red'>link</a>]\n"
     ]
    }
   ],
   "source": [
    "s = \"Example Link\"\n",
    "leet_link = \"https://www.example.com\"\n",
    "comment = f\"* ✅ [{s}](#{s.replace(' ','-')}) [<a href='{leet_link}' style='color:red'>link</a>]\"\n",
    "print(comment)"
   ]
  },
  {
   "cell_type": "markdown",
   "id": "8d6aa4c1",
   "metadata": {},
   "source": [
    "* ✅ [Example Link](#Example-Link) [<a href='https://www.example.com' style='color:red'>link</a>]"
   ]
  },
  {
   "cell_type": "code",
   "execution_count": 40,
   "id": "956ed865",
   "metadata": {},
   "outputs": [
    {
     "name": "stdout",
     "output_type": "stream",
     "text": [
      "* ✅ [Two Sum](#Two-Sum)    [(link)](\u001b[34mhttps://leetcode.com/problems/two-sum/\u001b[0m)\n"
     ]
    }
   ],
   "source": [
    "link_color = \"\\033[34m\"  # blue color\n",
    "reset_color = \"\\033[0m\"  # reset color\n",
    "\n",
    "leet_link = \"https://leetcode.com/problems/two-sum/\"\n",
    "s = \"Two Sum\"\n",
    "\n",
    "comment = f\"* ✅ [{s}](#{s.replace(' ','-')})    [(link)]({link_color}{leet_link}{reset_color})\"\n",
    "print(comment)\n"
   ]
  },
  {
   "cell_type": "markdown",
   "id": "522a6a57",
   "metadata": {},
   "source": []
  },
  {
   "cell_type": "code",
   "execution_count": null,
   "id": "4158cda8",
   "metadata": {},
   "outputs": [],
   "source": []
  }
 ],
 "metadata": {
  "kernelspec": {
   "display_name": "Python 3 (ipykernel)",
   "language": "python",
   "name": "python3"
  },
  "language_info": {
   "codemirror_mode": {
    "name": "ipython",
    "version": 3
   },
   "file_extension": ".py",
   "mimetype": "text/x-python",
   "name": "python",
   "nbconvert_exporter": "python",
   "pygments_lexer": "ipython3",
   "version": "3.10.9"
  }
 },
 "nbformat": 4,
 "nbformat_minor": 5
}

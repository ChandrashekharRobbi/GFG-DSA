{
 "cells": [
  {
   "cell_type": "code",
   "execution_count": 1,
   "id": "8136a622",
   "metadata": {},
   "outputs": [
    {
     "name": "stdout",
     "output_type": "stream",
     "text": [
      "Note that after executing new function your next cell will automatically converted to markdown cell :)\n"
     ]
    }
   ],
   "source": [
    "%run leetcode_function.py\n",
    "z = LeetFunction()"
   ]
  },
  {
   "cell_type": "markdown",
   "id": "ba0c4686",
   "metadata": {},
   "source": [
    "# LeetCode Problems \n",
    "\n",
    "### Data Structures 1\n",
    "\n",
    "* ✅ [217.Contains Duplicate](#217.Contains-Duplicate)           [<a href='https://leetcode.com/problems/contains-duplicate' style='color:black'>Link</a>]\n",
    "* ✅ [53. Maximum Subarray](#53.-Maximum-Subarray)           [<a href='https://leetcode.com/problems/maximum-subarray' style='color:black'>Link</a>]"
   ]
  },
  {
   "cell_type": "code",
   "execution_count": 2,
   "id": "cd73835a",
   "metadata": {},
   "outputs": [
    {
     "name": "stdout",
     "output_type": "stream",
     "text": [
      "Successfully added to the comment list\n",
      "Here is the link https://leetcode.com/problems/contains-duplicate\n",
      "All the best Chandrashekhar\n"
     ]
    }
   ],
   "source": [
    "z.new(\"217.Contains Duplicate\")"
   ]
  },
  {
   "cell_type": "markdown",
   "id": "4cb4a31c",
   "metadata": {},
   "source": [
    "## 217.Contains Duplicate\n",
    "\n",
    "* Approach : Used Hashing\n",
    "* Time Complexity : $ O(N + N) $ = O(N)"
   ]
  },
  {
   "cell_type": "code",
   "execution_count": 3,
   "id": "d4ba1b42",
   "metadata": {},
   "outputs": [],
   "source": [
    "class Solution:\n",
    "    def containsDuplicate(self, nums: list[int]) -> bool:\n",
    "        hash = {}\n",
    "        for i in nums:\n",
    "            if i not in hash:\n",
    "                hash[i] = 1\n",
    "            else:\n",
    "                hash[i] += 1\n",
    "        for i in nums:\n",
    "            if hash[i] > 1:\n",
    "                return True\n",
    "        return False"
   ]
  },
  {
   "cell_type": "code",
   "execution_count": 6,
   "id": "21f5dc7a",
   "metadata": {},
   "outputs": [
    {
     "name": "stdout",
     "output_type": "stream",
     "text": [
      "Successfully added to the comment list\n",
      "Here is the link https://leetcode.com/problems/maximum-subarray\n",
      "All the best Chandrashekhar\n"
     ]
    }
   ],
   "source": [
    "z.new(\"53. Maximum Subarray\")"
   ]
  },
  {
   "cell_type": "markdown",
   "id": "001324af",
   "metadata": {},
   "source": [
    "## 53. Maximum Subarray\n",
    "\n",
    "* Approach : Used two variables as a reference and iterate it by handling negative values\n",
    "* TIme Complexity : $ O(N) $ "
   ]
  },
  {
   "cell_type": "code",
   "execution_count": 7,
   "id": "3faae412",
   "metadata": {},
   "outputs": [],
   "source": [
    "class Solution:\n",
    "    def maxSubArray(self, nums: list[int]) -> int:\n",
    "        maximum = nums[0]\n",
    "        currmax = 0\n",
    "        for i in nums:\n",
    "            if currmax < 0:\n",
    "                currmax = 0\n",
    "            currmax += i\n",
    "            maximum = max(maximum, currmax)\n",
    "        return maximum"
   ]
  },
  {
   "cell_type": "code",
   "execution_count": 9,
   "id": "665f287e",
   "metadata": {},
   "outputs": [
    {
     "name": "stdout",
     "output_type": "stream",
     "text": [
      "Successfully added to the comment list\n",
      "Here is the link https://leetcode.com/problems/two-sum\n",
      "All the best Chandrashekhar\n"
     ]
    }
   ],
   "source": [
    "z.new(\"1. Two Sum\")"
   ]
  },
  {
   "cell_type": "markdown",
   "id": "7a31d206",
   "metadata": {},
   "source": [
    "## 1. Two Sum\n",
    "\n",
    "* Approach : simply iterate through every element by using 2 for loops but second loop starts with `i + 1`\n",
    "* Time Complexity"
   ]
  },
  {
   "cell_type": "code",
   "execution_count": null,
   "id": "94e63abc",
   "metadata": {},
   "outputs": [],
   "source": [
    "class Solution:\n",
    "    def twoSum(self, nums: List[int], target: int) -> List[int]:\n",
    "        sum = []\n",
    "        for i in range(len(nums)):\n",
    "            for j in range(i+1, len(nums)):\n",
    "                if nums[i] + nums[j] == target:\n",
    "                    sum.append(i)\n",
    "                    sum.append(j)\n",
    "                    return sum"
   ]
  }
 ],
 "metadata": {
  "kernelspec": {
   "display_name": "Python 3 (ipykernel)",
   "language": "python",
   "name": "python3"
  },
  "language_info": {
   "codemirror_mode": {
    "name": "ipython",
    "version": 3
   },
   "file_extension": ".py",
   "mimetype": "text/x-python",
   "name": "python",
   "nbconvert_exporter": "python",
   "pygments_lexer": "ipython3",
   "version": "3.10.9"
  }
 },
 "nbformat": 4,
 "nbformat_minor": 5
}

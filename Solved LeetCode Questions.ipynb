{
 "cells": [
  {
   "cell_type": "code",
   "execution_count": 2,
   "id": "c1ab149f",
   "metadata": {},
   "outputs": [
    {
     "name": "stdout",
     "output_type": "stream",
     "text": [
      "Note that after executing new function your next cell will automatically converted to markdown cell :)\n"
     ]
    }
   ],
   "source": [
    "%run imp_personal.py\n",
    "z = MyFunction()"
   ]
  },
  {
   "cell_type": "markdown",
   "id": "4aed0c1e",
   "metadata": {},
   "source": [
    "**LeetCode Problems**\n",
    "\n",
    "# Data Structures 1\n",
    "- [ ] Oracle\n",
    "- [ ] MySQL\n",
    "- [ ] Microsoft SQL Server\n",
    "- [ ] PostgreSQL\n",
    "- [ ] Redis\n",
    "- [ ] Elasticsearch\n",
    "- [ ] SQLite\n",
    "- [ ] MariaDB\n",
    "- [ ] Solr\n",
    "- [ ] Neo4j\n",
    "- [ ] HBase\n",
    "- [ ] Couchbase"
   ]
  },
  {
   "cell_type": "code",
   "execution_count": null,
   "id": "8dfb9b3f",
   "metadata": {},
   "outputs": [],
   "source": [
    "z.new(\"\")"
   ]
  }
 ],
 "metadata": {
  "kernelspec": {
   "display_name": "Python 3 (ipykernel)",
   "language": "python",
   "name": "python3"
  },
  "language_info": {
   "codemirror_mode": {
    "name": "ipython",
    "version": 3
   },
   "file_extension": ".py",
   "mimetype": "text/x-python",
   "name": "python",
   "nbconvert_exporter": "python",
   "pygments_lexer": "ipython3",
   "version": "3.10.9"
  }
 },
 "nbformat": 4,
 "nbformat_minor": 5
}

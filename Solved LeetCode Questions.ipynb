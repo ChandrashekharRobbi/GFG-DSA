{
 "cells": [
  {
   "cell_type": "code",
   "execution_count": 11,
   "id": "3639211a",
   "metadata": {},
   "outputs": [
    {
     "name": "stdout",
     "output_type": "stream",
     "text": [
      "Note that after executing new function your next cell will automatically converted to markdown cell :)\n"
     ]
    }
   ],
   "source": [
    "%run leetcode_function.py\n",
    "z = LeetFunction()"
   ]
  },
  {
   "cell_type": "markdown",
   "id": "4a3aa34f",
   "metadata": {},
   "source": [
    "**LeetCode Problems**\n",
    "\n",
    "# Data Structures 1\n",
    "* ✅ [217.Contains Duplicate](#217.Contains-Duplicate)    [(link)](https://leetcode.com/problems/duplicate)\n",
    "* ✅ [235. Lowest Common Ancestor of a Binary Search Tree](#235.-Lowest-Common-Ancestor-of-a-Binary-Search-Tree)    [(link)](https://leetcode.com/problems/lowest-common-ancestor-of-a-binary-search-tree)\n"
   ]
  },
  {
   "cell_type": "markdown",
   "id": "db704e64",
   "metadata": {},
   "source": [
    "# 217.Contains Duplicate"
   ]
  },
  {
   "cell_type": "code",
   "execution_count": 12,
   "id": "bc90b02a",
   "metadata": {},
   "outputs": [
    {
     "name": "stdout",
     "output_type": "stream",
     "text": [
      "https://leetcode.com/problems/duplicate\n",
      "Successfully added to the comment list\n"
     ]
    }
   ],
   "source": [
    "z.new(\"217.Contains Duplicate\")"
   ]
  },
  {
   "cell_type": "markdown",
   "id": "9b6901f9",
   "metadata": {},
   "source": [
    "## 217.Contains Duplicate"
   ]
  },
  {
   "cell_type": "code",
   "execution_count": 48,
   "id": "7e4f56f4",
   "metadata": {},
   "outputs": [],
   "source": [
    "h = 2\n",
    "s = \"235. Lowest Common Ancestor of a Binary Search Tree\""
   ]
  },
  {
   "cell_type": "code",
   "execution_count": 49,
   "id": "3768f6c5",
   "metadata": {},
   "outputs": [
    {
     "name": "stdout",
     "output_type": "stream",
     "text": [
      "None\n"
     ]
    }
   ],
   "source": [
    "hash = \"#\"*h\n",
    "link = \"https://leetcode.com/problems/\"\n",
    "# print(s)\n",
    "text = \"-\".join(s.split(\".\")[1:][0].split()).lower()\n",
    "leet_link =link + text\n",
    "leet_link\n",
    "comment = f\"* ✅ [{s}](#{s.replace(' ','-')})           [<a href='{leet_link}' style='color:black'>Link</a>]\"\n",
    "markdown = f\"{hash} {s}\""
   ]
  },
  {
   "cell_type": "markdown",
   "id": "d8d8657f",
   "metadata": {},
   "source": [
    "* ✅ [235. Lowest Common Ancestor of a Binary Search Tree](#235.-Lowest-Common-Ancestor-of-a-Binary-Search-Tree)           [<a href='https://leetcode.com/problems/lowest-common-ancestor-of-a-binary-search-tree' style='color:black'>link</a>]"
   ]
  },
  {
   "cell_type": "code",
   "execution_count": 36,
   "id": "ebde68e4",
   "metadata": {},
   "outputs": [
    {
     "data": {
      "text/plain": [
       "'https://leetcode.com/problems/lowest-common-ancestor-of-a-binary-search-tree'"
      ]
     },
     "execution_count": 36,
     "metadata": {},
     "output_type": "execute_result"
    }
   ],
   "source": [
    "hash = \"#\"*h\n",
    "link = \"https://leetcode.com/problems/\"\n",
    "# print(s)\n",
    "text = \"-\".join(s.split(\".\")[1:][0].split()).lower()\n",
    "leet_link =link + text\n",
    "leet_link"
   ]
  },
  {
   "cell_type": "code",
   "execution_count": 46,
   "id": "eb37d459",
   "metadata": {},
   "outputs": [
    {
     "name": "stdout",
     "output_type": "stream",
     "text": [
      "* ✅ [Example Link](#Example-Link)           [<a href='https://www.example.com' style='color:green'>link</a>]\n"
     ]
    }
   ],
   "source": [
    "s = \"Example Link\"\n",
    "leet_link = \"https://www.example.com\"\n",
    "comment = f\"* ✅ [{s}](#{s.replace(' ','-')})           [<a href='{leet_link}' style='color:green'>link</a>]\"\n",
    "print(comment)"
   ]
  },
  {
   "cell_type": "markdown",
   "id": "bd943058",
   "metadata": {},
   "source": [
    "* ✅ [Example Link](#Example-Link) [<a href='https://www.example.com' style='color:green'>link</a>]\n",
    "* ✅ [Example Link](#Example-Link)           [<a href='https://www.example.com' style='color:green'>link</a>]"
   ]
  },
  {
   "cell_type": "code",
   "execution_count": 50,
   "id": "02188f0d",
   "metadata": {},
   "outputs": [],
   "source": [
    "arr = [\"dkjsnkjnask\",\"sdakjnksndk\",\"dbadahak\"]"
   ]
  },
  {
   "cell_type": "code",
   "execution_count": 63,
   "id": "2508857b",
   "metadata": {},
   "outputs": [
    {
     "name": "stdout",
     "output_type": "stream",
     "text": [
      "dkjsnkjnask\n",
      "sdakjnksndk\n",
      "dbadahak\n"
     ]
    },
    {
     "ename": "PyperclipException",
     "evalue": "only str, int, float, and bool values can be copied to the clipboard, not NoneType",
     "output_type": "error",
     "traceback": [
      "\u001b[1;31m---------------------------------------------------------------------------\u001b[0m",
      "\u001b[1;31mPyperclipException\u001b[0m                        Traceback (most recent call last)",
      "Cell \u001b[1;32mIn[63], line 7\u001b[0m\n\u001b[0;32m      5\u001b[0m     \u001b[38;5;28;01melse\u001b[39;00m:\n\u001b[0;32m      6\u001b[0m         \u001b[38;5;28msum\u001b[39m \u001b[38;5;241m=\u001b[39m \u001b[38;5;28msum\u001b[39m \u001b[38;5;241m+\u001b[39m  arr[i]\n\u001b[1;32m----> 7\u001b[0m \u001b[43mpypc\u001b[49m\u001b[38;5;241;43m.\u001b[39;49m\u001b[43mcopy\u001b[49m\u001b[43m(\u001b[49m\u001b[38;5;28;43mprint\u001b[39;49m\u001b[43m(\u001b[49m\u001b[38;5;28;43msum\u001b[39;49m\u001b[43m)\u001b[49m\u001b[43m)\u001b[49m\n",
      "File \u001b[1;32mC:\\GFG_DataScience\\env\\lib\\site-packages\\pyperclip\\__init__.py:463\u001b[0m, in \u001b[0;36minit_windows_clipboard.<locals>.copy_windows\u001b[1;34m(text)\u001b[0m\n\u001b[0;32m    459\u001b[0m \u001b[38;5;28;01mdef\u001b[39;00m \u001b[38;5;21mcopy_windows\u001b[39m(text):\n\u001b[0;32m    460\u001b[0m     \u001b[38;5;66;03m# This function is heavily based on\u001b[39;00m\n\u001b[0;32m    461\u001b[0m     \u001b[38;5;66;03m# http://msdn.com/ms649016#_win32_Copying_Information_to_the_Clipboard\u001b[39;00m\n\u001b[1;32m--> 463\u001b[0m     text \u001b[38;5;241m=\u001b[39m \u001b[43m_stringifyText\u001b[49m\u001b[43m(\u001b[49m\u001b[43mtext\u001b[49m\u001b[43m)\u001b[49m \u001b[38;5;66;03m# Converts non-str values to str.\u001b[39;00m\n\u001b[0;32m    465\u001b[0m     \u001b[38;5;28;01mwith\u001b[39;00m window() \u001b[38;5;28;01mas\u001b[39;00m hwnd:\n\u001b[0;32m    466\u001b[0m         \u001b[38;5;66;03m# http://msdn.com/ms649048\u001b[39;00m\n\u001b[0;32m    467\u001b[0m         \u001b[38;5;66;03m# If an application calls OpenClipboard with hwnd set to NULL,\u001b[39;00m\n\u001b[0;32m    468\u001b[0m         \u001b[38;5;66;03m# EmptyClipboard sets the clipboard owner to NULL;\u001b[39;00m\n\u001b[0;32m    469\u001b[0m         \u001b[38;5;66;03m# this causes SetClipboardData to fail.\u001b[39;00m\n\u001b[0;32m    470\u001b[0m         \u001b[38;5;66;03m# => We need a valid hwnd to copy something.\u001b[39;00m\n\u001b[0;32m    471\u001b[0m         \u001b[38;5;28;01mwith\u001b[39;00m clipboard(hwnd):\n",
      "File \u001b[1;32mC:\\GFG_DataScience\\env\\lib\\site-packages\\pyperclip\\__init__.py:111\u001b[0m, in \u001b[0;36m_stringifyText\u001b[1;34m(text)\u001b[0m\n\u001b[0;32m    109\u001b[0m     acceptedTypes \u001b[38;5;241m=\u001b[39m (\u001b[38;5;28mstr\u001b[39m, \u001b[38;5;28mint\u001b[39m, \u001b[38;5;28mfloat\u001b[39m, \u001b[38;5;28mbool\u001b[39m)\n\u001b[0;32m    110\u001b[0m \u001b[38;5;28;01mif\u001b[39;00m \u001b[38;5;129;01mnot\u001b[39;00m \u001b[38;5;28misinstance\u001b[39m(text, acceptedTypes):\n\u001b[1;32m--> 111\u001b[0m     \u001b[38;5;28;01mraise\u001b[39;00m PyperclipException(\u001b[38;5;124m'\u001b[39m\u001b[38;5;124monly str, int, float, and bool values can be copied to the clipboard, not \u001b[39m\u001b[38;5;132;01m%s\u001b[39;00m\u001b[38;5;124m'\u001b[39m \u001b[38;5;241m%\u001b[39m (text\u001b[38;5;241m.\u001b[39m\u001b[38;5;18m__class__\u001b[39m\u001b[38;5;241m.\u001b[39m\u001b[38;5;18m__name__\u001b[39m))\n\u001b[0;32m    112\u001b[0m \u001b[38;5;28;01mreturn\u001b[39;00m STR_OR_UNICODE(text)\n",
      "\u001b[1;31mPyperclipException\u001b[0m: only str, int, float, and bool values can be copied to the clipboard, not NoneType"
     ]
    }
   ],
   "source": [
    "sum = \"\"\n",
    "for i in range(len(arr)):\n",
    "    if i != len(arr) - 1:\n",
    "        sum = sum +  arr[i] + \"\\n\"\n",
    "    else:\n",
    "        sum = sum +  arr[i]\n",
    "pypc.copy(print(sum))"
   ]
  },
  {
   "cell_type": "code",
   "execution_count": null,
   "id": "c4e06c58",
   "metadata": {},
   "outputs": [],
   "source": []
  }
 ],
 "metadata": {
  "kernelspec": {
   "display_name": "Python 3 (ipykernel)",
   "language": "python",
   "name": "python3"
  },
  "language_info": {
   "codemirror_mode": {
    "name": "ipython",
    "version": 3
   },
   "file_extension": ".py",
   "mimetype": "text/x-python",
   "name": "python",
   "nbconvert_exporter": "python",
   "pygments_lexer": "ipython3",
   "version": "3.10.9"
  }
 },
 "nbformat": 4,
 "nbformat_minor": 5
}

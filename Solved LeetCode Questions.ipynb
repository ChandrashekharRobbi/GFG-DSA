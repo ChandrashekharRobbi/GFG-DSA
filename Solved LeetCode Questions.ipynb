{
 "cells": [
  {
   "cell_type": "code",
   "execution_count": 11,
   "id": "c24a73f0",
   "metadata": {},
   "outputs": [
    {
     "name": "stdout",
     "output_type": "stream",
     "text": [
      "Note that after executing new function your next cell will automatically converted to markdown cell :)\n"
     ]
    }
   ],
   "source": [
    "%run leetcode_function.py\n",
    "z = LeetFunction()"
   ]
  },
  {
   "cell_type": "markdown",
   "id": "70e90df6",
   "metadata": {},
   "source": [
    "**LeetCode Problems**\n",
    "\n",
    "# Data Structures 1\n",
    "* ✅ [217.Contains Duplicate](#217.Contains-Duplicate)    [(link)](https://leetcode.com/problems/duplicate)\n",
    "* ✅ [235. Lowest Common Ancestor of a Binary Search Tree](#235.-Lowest-Common-Ancestor-of-a-Binary-Search-Tree)    [(link)](https://leetcode.com/problems/lowest-common-ancestor-of-a-binary-search-tree)\n"
   ]
  },
  {
   "cell_type": "markdown",
   "id": "bf371eb8",
   "metadata": {},
   "source": [
    "# 217.Contains Duplicate"
   ]
  },
  {
   "cell_type": "code",
   "execution_count": 12,
   "id": "50271ee4",
   "metadata": {},
   "outputs": [
    {
     "name": "stdout",
     "output_type": "stream",
     "text": [
      "https://leetcode.com/problems/duplicate\n",
      "Successfully added to the comment list\n"
     ]
    }
   ],
   "source": [
    "z.new(\"217.Contains Duplicate\")"
   ]
  },
  {
   "cell_type": "markdown",
   "id": "676fee39",
   "metadata": {},
   "source": [
    "## 217.Contains Duplicate"
   ]
  },
  {
   "cell_type": "code",
   "execution_count": 34,
   "id": "35567900",
   "metadata": {},
   "outputs": [],
   "source": [
    "h = 2\n",
    "s = \"235. Lowest Common Ancestor of a Binary Search Tree\""
   ]
  },
  {
   "cell_type": "code",
   "execution_count": 38,
   "id": "480ac7d1",
   "metadata": {},
   "outputs": [
    {
     "name": "stdout",
     "output_type": "stream",
     "text": [
      "* ✅ [235. Lowest Common Ancestor of a Binary Search Tree](#235.-Lowest-Common-Ancestor-of-a-Binary-Search-Tree)    [(link)](https://leetcode.com/problems/lowest-common-ancestor-of-a-binary-search-tree)\n"
     ]
    }
   ],
   "source": [
    "hash = \"#\"*h\n",
    "link = \"https://leetcode.com/problems/\"\n",
    "# print(s)\n",
    "text = \"-\".join(s.split(\".\")[1:][0].split()).lower()\n",
    "leet_link =link + text\n",
    "leet_link\n",
    "comment = f\"* ✅ [{s}](#{s.replace(' ','-')})    [(link)]({leet_link})\"\n",
    "markdown = f\"{hash} {s}\"\n",
    "print(comment)"
   ]
  },
  {
   "cell_type": "code",
   "execution_count": 36,
   "id": "21d71e7e",
   "metadata": {},
   "outputs": [
    {
     "data": {
      "text/plain": [
       "'https://leetcode.com/problems/lowest-common-ancestor-of-a-binary-search-tree'"
      ]
     },
     "execution_count": 36,
     "metadata": {},
     "output_type": "execute_result"
    }
   ],
   "source": [
    "hash = \"#\"*h\n",
    "link = \"https://leetcode.com/problems/\"\n",
    "# print(s)\n",
    "text = \"-\".join(s.split(\".\")[1:][0].split()).lower()\n",
    "leet_link =link + text\n",
    "leet_link"
   ]
  },
  {
   "cell_type": "code",
   "execution_count": null,
   "id": "a64cd48c",
   "metadata": {},
   "outputs": [],
   "source": []
  }
 ],
 "metadata": {
  "kernelspec": {
   "display_name": "Python 3 (ipykernel)",
   "language": "python",
   "name": "python3"
  },
  "language_info": {
   "codemirror_mode": {
    "name": "ipython",
    "version": 3
   },
   "file_extension": ".py",
   "mimetype": "text/x-python",
   "name": "python",
   "nbconvert_exporter": "python",
   "pygments_lexer": "ipython3",
   "version": "3.10.9"
  }
 },
 "nbformat": 4,
 "nbformat_minor": 5
}

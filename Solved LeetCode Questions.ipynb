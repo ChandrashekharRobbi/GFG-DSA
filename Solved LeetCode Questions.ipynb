{
 "cells": [
  {
   "cell_type": "code",
   "execution_count": 11,
   "id": "657e8836",
   "metadata": {},
   "outputs": [
    {
     "name": "stdout",
     "output_type": "stream",
     "text": [
      "Note that after executing new function your next cell will automatically converted to markdown cell :)\n"
     ]
    }
   ],
   "source": [
    "%run leetcode_function.py\n",
    "z = LeetFunction()"
   ]
  },
  {
   "cell_type": "markdown",
   "id": "4e73328f",
   "metadata": {},
   "source": [
    "**LeetCode Problems**\n",
    "\n",
    "# Data Structures 1\n",
    "* ✅ [217.Contains Duplicate](#217.Contains-Duplicate)    [(link)](https://leetcode.com/problems/duplicate)\n",
    "* ✅ [235. Lowest Common Ancestor of a Binary Search Tree](#235.-Lowest-Common-Ancestor-of-a-Binary-Search-Tree)    [(link)](https://leetcode.com/problems/lowest-common-ancestor-of-a-binary-search-tree)\n"
   ]
  },
  {
   "cell_type": "markdown",
   "id": "9f1aefbf",
   "metadata": {},
   "source": [
    "# 217.Contains Duplicate"
   ]
  },
  {
   "cell_type": "code",
   "execution_count": 12,
   "id": "c7a12608",
   "metadata": {},
   "outputs": [
    {
     "name": "stdout",
     "output_type": "stream",
     "text": [
      "https://leetcode.com/problems/duplicate\n",
      "Successfully added to the comment list\n"
     ]
    }
   ],
   "source": [
    "z.new(\"217.Contains Duplicate\")"
   ]
  },
  {
   "cell_type": "markdown",
   "id": "1422e321",
   "metadata": {},
   "source": [
    "## 217.Contains Duplicate"
   ]
  },
  {
   "cell_type": "code",
   "execution_count": 34,
   "id": "02383828",
   "metadata": {},
   "outputs": [],
   "source": [
    "h = 2\n",
    "s = \"235. Lowest Common Ancestor of a Binary Search Tree\""
   ]
  },
  {
   "cell_type": "code",
   "execution_count": 38,
   "id": "785f0c09",
   "metadata": {},
   "outputs": [
    {
     "name": "stdout",
     "output_type": "stream",
     "text": [
      "* ✅ [235. Lowest Common Ancestor of a Binary Search Tree](#235.-Lowest-Common-Ancestor-of-a-Binary-Search-Tree)    [(link)](https://leetcode.com/problems/lowest-common-ancestor-of-a-binary-search-tree)\n"
     ]
    }
   ],
   "source": [
    "hash = \"#\"*h\n",
    "link = \"https://leetcode.com/problems/\"\n",
    "# print(s)\n",
    "text = \"-\".join(s.split(\".\")[1:][0].split()).lower()\n",
    "leet_link =link + text\n",
    "leet_link\n",
    "comment = f\"* ✅ [{s}](#{s.replace(' ','-')})    [(link)]({leet_link})\"\n",
    "markdown = f\"{hash} {s}\"\n",
    "print(comment)"
   ]
  },
  {
   "cell_type": "code",
   "execution_count": 36,
   "id": "160e7a82",
   "metadata": {},
   "outputs": [
    {
     "data": {
      "text/plain": [
       "'https://leetcode.com/problems/lowest-common-ancestor-of-a-binary-search-tree'"
      ]
     },
     "execution_count": 36,
     "metadata": {},
     "output_type": "execute_result"
    }
   ],
   "source": [
    "hash = \"#\"*h\n",
    "link = \"https://leetcode.com/problems/\"\n",
    "# print(s)\n",
    "text = \"-\".join(s.split(\".\")[1:][0].split()).lower()\n",
    "leet_link =link + text\n",
    "leet_link"
   ]
  },
  {
   "cell_type": "code",
   "execution_count": 46,
   "id": "2def336d",
   "metadata": {},
   "outputs": [
    {
     "name": "stdout",
     "output_type": "stream",
     "text": [
      "* ✅ [Example Link](#Example-Link)           [<a href='https://www.example.com' style='color:green'>link</a>]\n"
     ]
    }
   ],
   "source": [
    "s = \"Example Link\"\n",
    "leet_link = \"https://www.example.com\"\n",
    "comment = f\"* ✅ [{s}](#{s.replace(' ','-')})           [<a href='{leet_link}' style='color:green'>link</a>]\"\n",
    "print(comment)"
   ]
  },
  {
   "cell_type": "markdown",
   "id": "34ad0ec2",
   "metadata": {},
   "source": [
    "* ✅ [Example Link](#Example-Link) [<a href='https://www.example.com' style='color:green'>link</a>]\n",
    "* ✅ [Example Link](#Example-Link)           [<a href='https://www.example.com' style='color:green'>link</a>]"
   ]
  },
  {
   "cell_type": "code",
   "execution_count": null,
   "id": "ace08d2f",
   "metadata": {},
   "outputs": [],
   "source": []
  }
 ],
 "metadata": {
  "kernelspec": {
   "display_name": "Python 3 (ipykernel)",
   "language": "python",
   "name": "python3"
  },
  "language_info": {
   "codemirror_mode": {
    "name": "ipython",
    "version": 3
   },
   "file_extension": ".py",
   "mimetype": "text/x-python",
   "name": "python",
   "nbconvert_exporter": "python",
   "pygments_lexer": "ipython3",
   "version": "3.10.9"
  }
 },
 "nbformat": 4,
 "nbformat_minor": 5
}

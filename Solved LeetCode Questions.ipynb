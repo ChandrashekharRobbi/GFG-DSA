{
 "cells": [
  {
   "cell_type": "code",
   "execution_count": 15,
   "id": "acc3d302",
   "metadata": {},
   "outputs": [
    {
     "name": "stdout",
     "output_type": "stream",
     "text": [
      "Note this function is especially created for my leet code solving purposes \n",
      "It takes name of the problem and return leetcode link and it has features like create array which has markdown, comment and delete after executing and many more :)\n"
     ]
    }
   ],
   "source": [
    "%run leetcode_function.py\n",
    "z = LeetFunction()"
   ]
  },
  {
   "cell_type": "markdown",
   "id": "e5913b59",
   "metadata": {},
   "source": [
    "# LeetCode Problems \n",
    "\n",
    "### Data Structures 1\n",
    "\n",
    "* ✅ [217.Contains Duplicate](#217.Contains-Duplicate)           [<a href='https://leetcode.com/problems/contains-duplicate' style='color:black'>Link</a>]\n",
    "* ✅ [53. Maximum Subarray](#53.-Maximum-Subarray)           [<a href='https://leetcode.com/problems/maximum-subarray' style='color:black'>Link</a>]\n",
    "* ✅ [1. Two Sum](#1.-Two-Sum)           [<a href='https://leetcode.com/problems/two-sum' style='color:black'>Link</a>]\n",
    "* ✅ [88. Merge Sorted Array](#88.-Merge-Sorted-Array)           [<a href='https://leetcode.com/problems/merge-sorted-array' style='color:black'>Link</a>]"
   ]
  },
  {
   "cell_type": "code",
   "execution_count": 23,
   "id": "bfafcf76",
   "metadata": {},
   "outputs": [
    {
     "name": "stdout",
     "output_type": "stream",
     "text": [
      "Successfully added to the comment list\n",
      "Here is the link https://leetcode.com/problems/contains-duplicate\n",
      "All the best Chandrashekhar\n"
     ]
    }
   ],
   "source": [
    "z.new(\"217.Contains Duplicate\")"
   ]
  },
  {
   "cell_type": "markdown",
   "id": "39071819",
   "metadata": {},
   "source": [
    "## 217.Contains Duplicate\n",
    "\n",
    "* Approach : Used Hashing\n",
    "* Time Complexity : $ O(N + N) $ = O(N)"
   ]
  },
  {
   "cell_type": "code",
   "execution_count": 3,
   "id": "963e1b2d",
   "metadata": {},
   "outputs": [],
   "source": [
    "class Solution:\n",
    "    def containsDuplicate(self, nums: list[int]) -> bool:\n",
    "        hash = {}\n",
    "        for i in nums:\n",
    "            if i not in hash:\n",
    "                hash[i] = 1\n",
    "            else:\n",
    "                hash[i] += 1\n",
    "        for i in nums:\n",
    "            if hash[i] > 1:\n",
    "                return True\n",
    "        return False"
   ]
  },
  {
   "cell_type": "code",
   "execution_count": 6,
   "id": "594b0bec",
   "metadata": {},
   "outputs": [
    {
     "name": "stdout",
     "output_type": "stream",
     "text": [
      "Successfully added to the comment list\n",
      "Here is the link https://leetcode.com/problems/maximum-subarray\n",
      "All the best Chandrashekhar\n"
     ]
    }
   ],
   "source": [
    "z.new(\"53. Maximum Subarray\")"
   ]
  },
  {
   "cell_type": "markdown",
   "id": "cdb964e6",
   "metadata": {},
   "source": [
    "## 53. Maximum Subarray\n",
    "\n",
    "* Approach : Used two variables as a reference and iterate it by handling negative values\n",
    "* TIme Complexity : $ O(N) $ "
   ]
  },
  {
   "cell_type": "code",
   "execution_count": 7,
   "id": "91925367",
   "metadata": {},
   "outputs": [],
   "source": [
    "class Solution:\n",
    "    def maxSubArray(self, nums: list[int]) -> int:\n",
    "        maximum = nums[0]\n",
    "        currmax = 0\n",
    "        for i in nums:\n",
    "            if currmax < 0:\n",
    "                currmax = 0\n",
    "            currmax += i\n",
    "            maximum = max(maximum, currmax)\n",
    "        return maximum"
   ]
  },
  {
   "cell_type": "code",
   "execution_count": 9,
   "id": "73eafaf5",
   "metadata": {},
   "outputs": [
    {
     "name": "stdout",
     "output_type": "stream",
     "text": [
      "Successfully added to the comment list\n",
      "Here is the link https://leetcode.com/problems/two-sum\n",
      "All the best Chandrashekhar\n"
     ]
    }
   ],
   "source": [
    "z.new(\"1. Two Sum\")"
   ]
  },
  {
   "cell_type": "markdown",
   "id": "26c2b9f5",
   "metadata": {},
   "source": [
    "## 1. Two Sum\n",
    "\n",
    "* Approach : simply iterate through every element by using 2 for loops but the second loop starts with `i + 1`\n",
    "* Time Complexity : $ O(N^2) $"
   ]
  },
  {
   "cell_type": "code",
   "execution_count": 12,
   "id": "ea8a122d",
   "metadata": {},
   "outputs": [],
   "source": [
    "class Solution:\n",
    "    def twoSum(self, nums: list[int], target: int) -> list[int]:\n",
    "        sum = []\n",
    "        for i in range(len(nums)):\n",
    "            for j in range(i+1, len(nums)):\n",
    "                if nums[i] + nums[j] == target:\n",
    "                    sum.append(i)\n",
    "                    sum.append(j)\n",
    "                    return sum"
   ]
  },
  {
   "cell_type": "code",
   "execution_count": 16,
   "id": "e336751f",
   "metadata": {},
   "outputs": [
    {
     "name": "stdout",
     "output_type": "stream",
     "text": [
      "Successfully added to the comment list\n",
      "Here is the link https://leetcode.com/problems/merge-sorted-array\n",
      "All the best Chandrashekhar\n"
     ]
    }
   ],
   "source": [
    "z.new(\"88. Merge Sorted Array\")"
   ]
  },
  {
   "cell_type": "markdown",
   "id": "5fe8ac6c",
   "metadata": {},
   "source": [
    "## 88. Merge Sorted Array"
   ]
  },
  {
   "cell_type": "code",
   "execution_count": 19,
   "id": "cdd877e3",
   "metadata": {},
   "outputs": [],
   "source": [
    "class Solution:\n",
    "    def merge(self, nums1: list[int], m: int, nums2: list[int], n: int) -> None:\n",
    "        \"\"\"\n",
    "        Do not return anything, modify nums1 in-place instead.\n",
    "        \"\"\"\n",
    "        last = m + n -1 # it takes the last element of nums1\n",
    "        while m > 0 and n > 0:\n",
    "            if nums1[m - 1] > nums2[n - 1]:\n",
    "                nums1[last] = nums1[m - 1]\n",
    "                m -= 1\n",
    "            else:\n",
    "                nums1[last] = nums2[n - 1]\n",
    "                n -= 1\n",
    "            last -= 1\n",
    "        while n > 0:\n",
    "            nums1[last] = nums2[n - 1]\n",
    "            last , n = last - 1, n - 1"
   ]
  },
  {
   "cell_type": "code",
   "execution_count": 22,
   "id": "bf3d5a1a",
   "metadata": {},
   "outputs": [],
   "source": [
    "z.delete = True"
   ]
  },
  {
   "cell_type": "code",
   "execution_count": null,
   "id": "666d0be8",
   "metadata": {},
   "outputs": [],
   "source": []
  }
 ],
 "metadata": {
  "kernelspec": {
   "display_name": "Python 3 (ipykernel)",
   "language": "python",
   "name": "python3"
  },
  "language_info": {
   "codemirror_mode": {
    "name": "ipython",
    "version": 3
   },
   "file_extension": ".py",
   "mimetype": "text/x-python",
   "name": "python",
   "nbconvert_exporter": "python",
   "pygments_lexer": "ipython3",
   "version": "3.10.9"
  }
 },
 "nbformat": 4,
 "nbformat_minor": 5
}

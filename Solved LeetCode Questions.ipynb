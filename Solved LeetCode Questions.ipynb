{
 "cells": [
  {
   "cell_type": "code",
   "execution_count": 82,
   "id": "f90aa445",
   "metadata": {},
   "outputs": [
    {
     "name": "stdout",
     "output_type": "stream",
     "text": [
      "Note that after executing new function your next cell will automatically converted to markdown cell :)\n"
     ]
    }
   ],
   "source": [
    "%run leetcode_function.py\n",
    "z = LeetFunction()"
   ]
  },
  {
   "cell_type": "markdown",
   "id": "bf3d583c",
   "metadata": {},
   "source": [
    "**LeetCode Problems**\n",
    "\n",
    "# Data Structures 1\n",
    "* ✅ [217.Contains Duplicate](#217.Contains-Duplicate)    [(link)](https://leetcode.com/problems/duplicate)\n",
    "* ✅ [235. Lowest Common Ancestor of a Binary Search Tree](#235.-Lowest-Common-Ancestor-of-a-Binary-Search-Tree)    [(link)](https://leetcode.com/problems/lowest-common-ancestor-of-a-binary-search-tree)\n"
   ]
  },
  {
   "cell_type": "markdown",
   "id": "89222e51",
   "metadata": {},
   "source": [
    "# 217.Contains Duplicate"
   ]
  },
  {
   "cell_type": "code",
   "execution_count": 83,
   "id": "cf635b11",
   "metadata": {},
   "outputs": [
    {
     "name": "stdout",
     "output_type": "stream",
     "text": [
      "Successfully added to the comment list\n"
     ]
    }
   ],
   "source": [
    "z.new(\"217.Contains Duplicate\")"
   ]
  },
  {
   "cell_type": "markdown",
   "id": "b03d0007",
   "metadata": {},
   "source": [
    "## 217.Contains Duplicate"
   ]
  },
  {
   "cell_type": "code",
   "execution_count": 84,
   "id": "df47a21e",
   "metadata": {},
   "outputs": [],
   "source": [
    "h = 2\n",
    "s = \"235. Lowest Common Ancestor of a Binary Search Tree\""
   ]
  },
  {
   "cell_type": "code",
   "execution_count": 85,
   "id": "e32a6a4e",
   "metadata": {},
   "outputs": [],
   "source": [
    "hash = \"#\"*h\n",
    "link = \"https://leetcode.com/problems/\"\n",
    "# print(s)\n",
    "text = \"-\".join(s.split(\".\")[1:][0].split()).lower()\n",
    "leet_link =link + text\n",
    "leet_link\n",
    "comment = f\"* ✅ [{s}](#{s.replace(' ','-')})           [<a href='{leet_link}' style='color:black'>Link</a>]\"\n",
    "markdown = f\"{hash} {s}\""
   ]
  },
  {
   "cell_type": "markdown",
   "id": "6f1e08d4",
   "metadata": {},
   "source": [
    "* ✅ [235. Lowest Common Ancestor of a Binary Search Tree](#235.-Lowest-Common-Ancestor-of-a-Binary-Search-Tree)           [<a href='https://leetcode.com/problems/lowest-common-ancestor-of-a-binary-search-tree' style='color:black'>link</a>]"
   ]
  },
  {
   "cell_type": "code",
   "execution_count": 86,
   "id": "51d860ae",
   "metadata": {},
   "outputs": [
    {
     "data": {
      "text/plain": [
       "'https://leetcode.com/problems/lowest-common-ancestor-of-a-binary-search-tree'"
      ]
     },
     "execution_count": 86,
     "metadata": {},
     "output_type": "execute_result"
    }
   ],
   "source": [
    "hash = \"#\"*h\n",
    "link = \"https://leetcode.com/problems/\"\n",
    "# print(s)\n",
    "text = \"-\".join(s.split(\".\")[1:][0].split()).lower()\n",
    "leet_link =link + text\n",
    "leet_link"
   ]
  },
  {
   "cell_type": "code",
   "execution_count": 87,
   "id": "c7970fb3",
   "metadata": {},
   "outputs": [
    {
     "name": "stdout",
     "output_type": "stream",
     "text": [
      "* ✅ [Example Link](#Example-Link)           [<a href='https://www.example.com' style='color:green'>link</a>]\n"
     ]
    }
   ],
   "source": [
    "s = \"Example Link\"\n",
    "leet_link = \"https://www.example.com\"\n",
    "comment = f\"* ✅ [{s}](#{s.replace(' ','-')})           [<a href='{leet_link}' style='color:green'>link</a>]\"\n",
    "print(comment)"
   ]
  },
  {
   "cell_type": "markdown",
   "id": "f9d2c3c3",
   "metadata": {},
   "source": [
    "* ✅ [Example Link](#Example-Link) [<a href='https://www.example.com' style='color:green'>link</a>]\n",
    "* ✅ [Example Link](#Example-Link)           [<a href='https://www.example.com' style='color:green'>link</a>]"
   ]
  },
  {
   "cell_type": "code",
   "execution_count": 88,
   "id": "fecb9ed5",
   "metadata": {},
   "outputs": [
    {
     "ename": "IndexError",
     "evalue": "list index out of range",
     "output_type": "error",
     "traceback": [
      "\u001b[1;31m---------------------------------------------------------------------------\u001b[0m",
      "\u001b[1;31mIndexError\u001b[0m                                Traceback (most recent call last)",
      "Cell \u001b[1;32mIn[88], line 1\u001b[0m\n\u001b[1;32m----> 1\u001b[0m \u001b[43mz\u001b[49m\u001b[38;5;241;43m.\u001b[39;49m\u001b[43mnew\u001b[49m\u001b[43m(\u001b[49m\u001b[38;5;124;43m\"\u001b[39;49m\u001b[38;5;124;43mshudfsdfh\u001b[39;49m\u001b[38;5;124;43m\"\u001b[39;49m\u001b[43m)\u001b[49m\n",
      "File \u001b[1;32mC:\\GFG_DataScience\\DSA\\leetcode_function.py:46\u001b[0m, in \u001b[0;36mLeetFunction.new\u001b[1;34m(self, s, h)\u001b[0m\n\u001b[0;32m     44\u001b[0m link \u001b[38;5;241m=\u001b[39m \u001b[38;5;124m\"\u001b[39m\u001b[38;5;124mhttps://leetcode.com/problems/\u001b[39m\u001b[38;5;124m\"\u001b[39m\n\u001b[0;32m     45\u001b[0m \u001b[38;5;66;03m# print(s)\u001b[39;00m\n\u001b[1;32m---> 46\u001b[0m text \u001b[38;5;241m=\u001b[39m \u001b[38;5;124m\"\u001b[39m\u001b[38;5;124m-\u001b[39m\u001b[38;5;124m\"\u001b[39m\u001b[38;5;241m.\u001b[39mjoin(\u001b[43ms\u001b[49m\u001b[38;5;241;43m.\u001b[39;49m\u001b[43msplit\u001b[49m\u001b[43m(\u001b[49m\u001b[38;5;124;43m\"\u001b[39;49m\u001b[38;5;124;43m.\u001b[39;49m\u001b[38;5;124;43m\"\u001b[39;49m\u001b[43m)\u001b[49m\u001b[43m[\u001b[49m\u001b[38;5;241;43m1\u001b[39;49m\u001b[43m:\u001b[49m\u001b[43m]\u001b[49m\u001b[43m[\u001b[49m\u001b[38;5;241;43m0\u001b[39;49m\u001b[43m]\u001b[49m\u001b[38;5;241m.\u001b[39msplit())\u001b[38;5;241m.\u001b[39mlower()\n\u001b[0;32m     47\u001b[0m leet_link \u001b[38;5;241m=\u001b[39mlink \u001b[38;5;241m+\u001b[39m text\n\u001b[0;32m     48\u001b[0m leet_link\n",
      "\u001b[1;31mIndexError\u001b[0m: list index out of range"
     ]
    }
   ],
   "source": [
    "z.new(\"shudfsdfh\")"
   ]
  },
  {
   "cell_type": "code",
   "execution_count": 89,
   "id": "2064b125",
   "metadata": {},
   "outputs": [
    {
     "ename": "IndexError",
     "evalue": "list index out of range",
     "output_type": "error",
     "traceback": [
      "\u001b[1;31m---------------------------------------------------------------------------\u001b[0m",
      "\u001b[1;31mIndexError\u001b[0m                                Traceback (most recent call last)",
      "Cell \u001b[1;32mIn[89], line 1\u001b[0m\n\u001b[1;32m----> 1\u001b[0m \u001b[43mz\u001b[49m\u001b[38;5;241;43m.\u001b[39;49m\u001b[43mnew\u001b[49m\u001b[43m(\u001b[49m\u001b[38;5;124;43m\"\u001b[39;49m\u001b[38;5;124;43majsdhbbdaskj\u001b[39;49m\u001b[38;5;124;43m\"\u001b[39;49m\u001b[43m)\u001b[49m\n",
      "File \u001b[1;32mC:\\GFG_DataScience\\DSA\\leetcode_function.py:46\u001b[0m, in \u001b[0;36mLeetFunction.new\u001b[1;34m(self, s, h)\u001b[0m\n\u001b[0;32m     44\u001b[0m link \u001b[38;5;241m=\u001b[39m \u001b[38;5;124m\"\u001b[39m\u001b[38;5;124mhttps://leetcode.com/problems/\u001b[39m\u001b[38;5;124m\"\u001b[39m\n\u001b[0;32m     45\u001b[0m \u001b[38;5;66;03m# print(s)\u001b[39;00m\n\u001b[1;32m---> 46\u001b[0m text \u001b[38;5;241m=\u001b[39m \u001b[38;5;124m\"\u001b[39m\u001b[38;5;124m-\u001b[39m\u001b[38;5;124m\"\u001b[39m\u001b[38;5;241m.\u001b[39mjoin(\u001b[43ms\u001b[49m\u001b[38;5;241;43m.\u001b[39;49m\u001b[43msplit\u001b[49m\u001b[43m(\u001b[49m\u001b[38;5;124;43m\"\u001b[39;49m\u001b[38;5;124;43m.\u001b[39;49m\u001b[38;5;124;43m\"\u001b[39;49m\u001b[43m)\u001b[49m\u001b[43m[\u001b[49m\u001b[38;5;241;43m1\u001b[39;49m\u001b[43m:\u001b[49m\u001b[43m]\u001b[49m\u001b[43m[\u001b[49m\u001b[38;5;241;43m0\u001b[39;49m\u001b[43m]\u001b[49m\u001b[38;5;241m.\u001b[39msplit())\u001b[38;5;241m.\u001b[39mlower()\n\u001b[0;32m     47\u001b[0m leet_link \u001b[38;5;241m=\u001b[39mlink \u001b[38;5;241m+\u001b[39m text\n\u001b[0;32m     48\u001b[0m leet_link\n",
      "\u001b[1;31mIndexError\u001b[0m: list index out of range"
     ]
    }
   ],
   "source": [
    "z.new(\"ajsdhbbdaskj\")"
   ]
  },
  {
   "cell_type": "code",
   "execution_count": 90,
   "id": "0fc58ec4",
   "metadata": {},
   "outputs": [
    {
     "ename": "IndexError",
     "evalue": "list index out of range",
     "output_type": "error",
     "traceback": [
      "\u001b[1;31m---------------------------------------------------------------------------\u001b[0m",
      "\u001b[1;31mIndexError\u001b[0m                                Traceback (most recent call last)",
      "Cell \u001b[1;32mIn[90], line 1\u001b[0m\n\u001b[1;32m----> 1\u001b[0m \u001b[43mz\u001b[49m\u001b[38;5;241;43m.\u001b[39;49m\u001b[43mnew\u001b[49m\u001b[43m(\u001b[49m\u001b[38;5;124;43m\"\u001b[39;49m\u001b[38;5;124;43mkjnsdjkn ajskjdnkadsj\u001b[39;49m\u001b[38;5;124;43m\"\u001b[39;49m\u001b[43m)\u001b[49m\n",
      "File \u001b[1;32mC:\\GFG_DataScience\\DSA\\leetcode_function.py:46\u001b[0m, in \u001b[0;36mLeetFunction.new\u001b[1;34m(self, s, h)\u001b[0m\n\u001b[0;32m     44\u001b[0m link \u001b[38;5;241m=\u001b[39m \u001b[38;5;124m\"\u001b[39m\u001b[38;5;124mhttps://leetcode.com/problems/\u001b[39m\u001b[38;5;124m\"\u001b[39m\n\u001b[0;32m     45\u001b[0m \u001b[38;5;66;03m# print(s)\u001b[39;00m\n\u001b[1;32m---> 46\u001b[0m text \u001b[38;5;241m=\u001b[39m \u001b[38;5;124m\"\u001b[39m\u001b[38;5;124m-\u001b[39m\u001b[38;5;124m\"\u001b[39m\u001b[38;5;241m.\u001b[39mjoin(\u001b[43ms\u001b[49m\u001b[38;5;241;43m.\u001b[39;49m\u001b[43msplit\u001b[49m\u001b[43m(\u001b[49m\u001b[38;5;124;43m\"\u001b[39;49m\u001b[38;5;124;43m.\u001b[39;49m\u001b[38;5;124;43m\"\u001b[39;49m\u001b[43m)\u001b[49m\u001b[43m[\u001b[49m\u001b[38;5;241;43m1\u001b[39;49m\u001b[43m:\u001b[49m\u001b[43m]\u001b[49m\u001b[43m[\u001b[49m\u001b[38;5;241;43m0\u001b[39;49m\u001b[43m]\u001b[49m\u001b[38;5;241m.\u001b[39msplit())\u001b[38;5;241m.\u001b[39mlower()\n\u001b[0;32m     47\u001b[0m leet_link \u001b[38;5;241m=\u001b[39mlink \u001b[38;5;241m+\u001b[39m text\n\u001b[0;32m     48\u001b[0m leet_link\n",
      "\u001b[1;31mIndexError\u001b[0m: list index out of range"
     ]
    }
   ],
   "source": [
    "z.new(\"kjnsdjkn ajskjdnkadsj\")"
   ]
  },
  {
   "cell_type": "code",
   "execution_count": 91,
   "id": "3f02f19b",
   "metadata": {},
   "outputs": [
    {
     "data": {
      "text/plain": [
       "[\"* ✅ [217.Contains Duplicate](#217.Contains-Duplicate)           [<a href='https://leetcode.com/problems/contains-duplicate' style='color:black'>Link</a>]\"]"
      ]
     },
     "execution_count": 91,
     "metadata": {},
     "output_type": "execute_result"
    }
   ],
   "source": [
    "z.arr"
   ]
  },
  {
   "cell_type": "code",
   "execution_count": 92,
   "id": "07af460e",
   "metadata": {},
   "outputs": [],
   "source": [
    "arr = z.arr"
   ]
  },
  {
   "cell_type": "code",
   "execution_count": 93,
   "id": "5952d37b",
   "metadata": {
    "scrolled": true
   },
   "outputs": [],
   "source": [
    "sum = \"\"\n",
    "for i in range(len(arr)):\n",
    "    if i != len(arr) - 1:\n",
    "        sum +=  arr[i] + \"\\n\"\n",
    "        print(sum)\n",
    "\n",
    "    else:\n",
    "        sum += arr[i]\n",
    "pypc.copy(sum)"
   ]
  },
  {
   "cell_type": "markdown",
   "id": "b423de9b",
   "metadata": {},
   "source": [
    "* ✅ [217.Contains Duplicate](#217.Contains-Duplicate)    [(link)](https://leetcode.com/problems/duplicate)\n",
    "* ✅ [shudfsdfh](#shudfsdfh)    [(link)](https://leetcode.com/problems/)\n",
    "* ✅ [ajsdhbbdaskj](#ajsdhbbdaskj)    [(link)](https://leetcode.com/problems/)\n",
    "* ✅ [kjnsdjkn ajskjdnkadsj](#kjnsdjkn-ajskjdnkadsj)    [(link)](https://leetcode.com/problems/ajskjdnkadsj)"
   ]
  },
  {
   "cell_type": "markdown",
   "id": "67f88191",
   "metadata": {},
   "source": [
    "* ✅ [217.Contains Duplicate](#217.Contains-Duplicate)           [<a href='https://leetcode.com/problems/contains-duplicate' style='color:black'>Link</a>]`"
   ]
  },
  {
   "cell_type": "code",
   "execution_count": null,
   "id": "d3a1a01d",
   "metadata": {},
   "outputs": [],
   "source": []
  },
  {
   "cell_type": "code",
   "execution_count": null,
   "id": "638ad1dd",
   "metadata": {},
   "outputs": [],
   "source": []
  },
  {
   "cell_type": "code",
   "execution_count": null,
   "id": "76e91769",
   "metadata": {},
   "outputs": [],
   "source": []
  }
 ],
 "metadata": {
  "kernelspec": {
   "display_name": "Python 3 (ipykernel)",
   "language": "python",
   "name": "python3"
  },
  "language_info": {
   "codemirror_mode": {
    "name": "ipython",
    "version": 3
   },
   "file_extension": ".py",
   "mimetype": "text/x-python",
   "name": "python",
   "nbconvert_exporter": "python",
   "pygments_lexer": "ipython3",
   "version": "3.10.9"
  }
 },
 "nbformat": 4,
 "nbformat_minor": 5
}

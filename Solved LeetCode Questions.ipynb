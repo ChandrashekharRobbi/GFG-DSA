{
 "cells": [
  {
   "cell_type": "code",
   "execution_count": 4,
   "id": "5cadd7f5",
   "metadata": {},
   "outputs": [
    {
     "ename": "NameError",
     "evalue": "name 'leetFunction' is not defined",
     "output_type": "error",
     "traceback": [
      "\u001b[1;31m---------------------------------------------------------------------------\u001b[0m",
      "\u001b[1;31mNameError\u001b[0m                                 Traceback (most recent call last)",
      "Cell \u001b[1;32mIn[4], line 2\u001b[0m\n\u001b[0;32m      1\u001b[0m get_ipython()\u001b[38;5;241m.\u001b[39mrun_line_magic(\u001b[38;5;124m'\u001b[39m\u001b[38;5;124mrun\u001b[39m\u001b[38;5;124m'\u001b[39m, \u001b[38;5;124m'\u001b[39m\u001b[38;5;124mleetcode_function.py\u001b[39m\u001b[38;5;124m'\u001b[39m)\n\u001b[1;32m----> 2\u001b[0m z \u001b[38;5;241m=\u001b[39m \u001b[43mleetFunction\u001b[49m()\n",
      "\u001b[1;31mNameError\u001b[0m: name 'leetFunction' is not defined"
     ]
    }
   ],
   "source": [
    "%run leetcode_function.py\n",
    "z = leetFunction()"
   ]
  },
  {
   "cell_type": "markdown",
   "id": "5518ae27",
   "metadata": {},
   "source": [
    "**LeetCode Problems**\n",
    "\n",
    "# Data Structures 1\n",
    "* ✅ [217.Contains Duplicate](#217.Contains-Duplicate)      [(link)](https://leetcode.com/problems/can-place-flowers/)"
   ]
  },
  {
   "cell_type": "markdown",
   "id": "051f7cb3",
   "metadata": {},
   "source": [
    "# 217.Contains Duplicate"
   ]
  },
  {
   "cell_type": "code",
   "execution_count": null,
   "id": "cbfc734e",
   "metadata": {},
   "outputs": [],
   "source": []
  }
 ],
 "metadata": {
  "kernelspec": {
   "display_name": "Python 3 (ipykernel)",
   "language": "python",
   "name": "python3"
  },
  "language_info": {
   "codemirror_mode": {
    "name": "ipython",
    "version": 3
   },
   "file_extension": ".py",
   "mimetype": "text/x-python",
   "name": "python",
   "nbconvert_exporter": "python",
   "pygments_lexer": "ipython3",
   "version": "3.10.9"
  }
 },
 "nbformat": 4,
 "nbformat_minor": 5
}

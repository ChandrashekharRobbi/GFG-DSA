{
 "cells": [
  {
   "cell_type": "code",
   "execution_count": 11,
   "id": "2ca13c0f",
   "metadata": {},
   "outputs": [
    {
     "name": "stdout",
     "output_type": "stream",
     "text": [
      "Note that after executing new function your next cell will automatically converted to markdown cell :)\n"
     ]
    }
   ],
   "source": [
    "%run leetcode_function.py\n",
    "z = LeetFunction()"
   ]
  },
  {
   "cell_type": "markdown",
   "id": "246cdb03",
   "metadata": {},
   "source": [
    "**LeetCode Problems**\n",
    "\n",
    "# Data Structures 1\n",
    "* ✅ [217.Contains Duplicate](#217.Contains-Duplicate)    [(link)](https://leetcode.com/problems/duplicate)\n",
    "* ✅ [235. Lowest Common Ancestor of a Binary Search Tree](#235.-Lowest-Common-Ancestor-of-a-Binary-Search-Tree)    [(link)](https://leetcode.com/problems/lowest-common-ancestor-of-a-binary-search-tree)\n"
   ]
  },
  {
   "cell_type": "markdown",
   "id": "8c793618",
   "metadata": {},
   "source": [
    "# 217.Contains Duplicate"
   ]
  },
  {
   "cell_type": "code",
   "execution_count": 12,
   "id": "8bf6f84a",
   "metadata": {},
   "outputs": [
    {
     "name": "stdout",
     "output_type": "stream",
     "text": [
      "https://leetcode.com/problems/duplicate\n",
      "Successfully added to the comment list\n"
     ]
    }
   ],
   "source": [
    "z.new(\"217.Contains Duplicate\")"
   ]
  },
  {
   "cell_type": "markdown",
   "id": "2318c667",
   "metadata": {},
   "source": [
    "## 217.Contains Duplicate"
   ]
  },
  {
   "cell_type": "code",
   "execution_count": 48,
   "id": "6ee10c71",
   "metadata": {},
   "outputs": [],
   "source": [
    "h = 2\n",
    "s = \"235. Lowest Common Ancestor of a Binary Search Tree\""
   ]
  },
  {
   "cell_type": "code",
   "execution_count": 49,
   "id": "6b16dd97",
   "metadata": {},
   "outputs": [
    {
     "name": "stdout",
     "output_type": "stream",
     "text": [
      "None\n"
     ]
    }
   ],
   "source": [
    "hash = \"#\"*h\n",
    "link = \"https://leetcode.com/problems/\"\n",
    "# print(s)\n",
    "text = \"-\".join(s.split(\".\")[1:][0].split()).lower()\n",
    "leet_link =link + text\n",
    "leet_link\n",
    "comment = f\"* ✅ [{s}](#{s.replace(' ','-')})           [<a href='{leet_link}' style='color:black'>Link</a>]\"\n",
    "markdown = f\"{hash} {s}\""
   ]
  },
  {
   "cell_type": "markdown",
   "id": "18e62635",
   "metadata": {},
   "source": [
    "* ✅ [235. Lowest Common Ancestor of a Binary Search Tree](#235.-Lowest-Common-Ancestor-of-a-Binary-Search-Tree)           [<a href='https://leetcode.com/problems/lowest-common-ancestor-of-a-binary-search-tree' style='color:black'>link</a>]"
   ]
  },
  {
   "cell_type": "code",
   "execution_count": 36,
   "id": "298f6ca4",
   "metadata": {},
   "outputs": [
    {
     "data": {
      "text/plain": [
       "'https://leetcode.com/problems/lowest-common-ancestor-of-a-binary-search-tree'"
      ]
     },
     "execution_count": 36,
     "metadata": {},
     "output_type": "execute_result"
    }
   ],
   "source": [
    "hash = \"#\"*h\n",
    "link = \"https://leetcode.com/problems/\"\n",
    "# print(s)\n",
    "text = \"-\".join(s.split(\".\")[1:][0].split()).lower()\n",
    "leet_link =link + text\n",
    "leet_link"
   ]
  },
  {
   "cell_type": "code",
   "execution_count": 46,
   "id": "8cae1f10",
   "metadata": {},
   "outputs": [
    {
     "name": "stdout",
     "output_type": "stream",
     "text": [
      "* ✅ [Example Link](#Example-Link)           [<a href='https://www.example.com' style='color:green'>link</a>]\n"
     ]
    }
   ],
   "source": [
    "s = \"Example Link\"\n",
    "leet_link = \"https://www.example.com\"\n",
    "comment = f\"* ✅ [{s}](#{s.replace(' ','-')})           [<a href='{leet_link}' style='color:green'>link</a>]\"\n",
    "print(comment)"
   ]
  },
  {
   "cell_type": "markdown",
   "id": "f6525556",
   "metadata": {},
   "source": [
    "* ✅ [Example Link](#Example-Link) [<a href='https://www.example.com' style='color:green'>link</a>]\n",
    "* ✅ [Example Link](#Example-Link)           [<a href='https://www.example.com' style='color:green'>link</a>]"
   ]
  },
  {
   "cell_type": "code",
   "execution_count": 76,
   "id": "13f3bfe4",
   "metadata": {},
   "outputs": [
    {
     "name": "stdout",
     "output_type": "stream",
     "text": [
      "https://leetcode.com/problems/\n",
      "Successfully added to the comment list\n"
     ]
    }
   ],
   "source": [
    "z.new(\"shudfsdfh\")"
   ]
  },
  {
   "cell_type": "code",
   "execution_count": null,
   "id": "caef32ae",
   "metadata": {},
   "outputs": [],
   "source": []
  },
  {
   "cell_type": "code",
   "execution_count": 75,
   "id": "f04957d9",
   "metadata": {
    "scrolled": true
   },
   "outputs": [
    {
     "name": "stdout",
     "output_type": "stream",
     "text": [
      "dkjsnkjnask\n",
      "\n",
      "dkjsnkjnask\n",
      "sdakjnksndk\n",
      "\n"
     ]
    }
   ],
   "source": [
    "sum = \"\"\n",
    "for i in range(len(arr)):\n",
    "    if i != len(arr) - 1:\n",
    "        sum +=  arr[i] + \"\\n\"\n",
    "        print(sum)\n",
    "\n",
    "    else:\n",
    "        sum += arr[i]\n",
    "pypc.copy(sum)"
   ]
  },
  {
   "cell_type": "code",
   "execution_count": null,
   "id": "de1ec460",
   "metadata": {},
   "outputs": [],
   "source": []
  }
 ],
 "metadata": {
  "kernelspec": {
   "display_name": "Python 3 (ipykernel)",
   "language": "python",
   "name": "python3"
  },
  "language_info": {
   "codemirror_mode": {
    "name": "ipython",
    "version": 3
   },
   "file_extension": ".py",
   "mimetype": "text/x-python",
   "name": "python",
   "nbconvert_exporter": "python",
   "pygments_lexer": "ipython3",
   "version": "3.10.9"
  }
 },
 "nbformat": 4,
 "nbformat_minor": 5
}

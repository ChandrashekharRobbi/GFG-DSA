{
 "cells": [
  {
   "cell_type": "code",
   "execution_count": 1,
   "id": "9911ca28",
   "metadata": {},
   "outputs": [
    {
     "name": "stdout",
     "output_type": "stream",
     "text": [
      "Note this function is especially created for my leet code solving purposes \n",
      "It takes name of the problem and return leetcode link and it has features like create array which has markdown, comment and delete after executing and many more :)\n"
     ]
    }
   ],
   "source": [
    "%run leetcode_function.py\n",
    "z = LeetFunction()"
   ]
  },
  {
   "cell_type": "markdown",
   "id": "2e3e5824",
   "metadata": {},
   "source": [
    "# LeetCode Problems \n",
    "\n",
    "### Data Structures 1\n",
    "\n",
    "* ✅ [217.Contains Duplicate](#217.Contains-Duplicate)           [<a href='https://leetcode.com/problems/contains-duplicate' style='color:black'>Link</a>]\n",
    "* ✅ [53. Maximum Subarray](#53.-Maximum-Subarray)           [<a href='https://leetcode.com/problems/maximum-subarray' style='color:black'>Link</a>]\n",
    "* ✅ [1. Two Sum](#1.-Two-Sum)           [<a href='https://leetcode.com/problems/two-sum' style='color:black'>Link</a>]\n",
    "* ✅ [88. Merge Sorted Array](#88.-Merge-Sorted-Array)           [<a href='https://leetcode.com/problems/merge-sorted-array' style='color:black'>Link</a>]\n",
    "* ✅ [350. Intersection of Two Arrays II](#350.-Intersection-of-Two-Arrays-II)           [<a href='https://leetcode.com/problems/intersection-of-two-arrays-ii' style='color:black'>Link</a>]\n",
    "* ✅ [121. Best Time to Buy and Sell Stock](#121.-Best-Time-to-Buy-and-Sell-Stock)           [<a href='https://leetcode.com/problems/best-time-to-buy-and-sell-stock' style='color:black'>Link</a>]\n",
    "* ✅ [566. Reshape the Matrix](#566.-Reshape-the-Matrix)           [<a href='https://leetcode.com/problems/reshape-the-matrix' style='color:black'>Link</a>]\n",
    "* ✅ [566. Reshape the Matrix](#566.-Reshape-the-Matrix)           [<a href='https://leetcode.com/problems/reshape-the-matrix' style='color:black'>Link</a>]\n",
    "* ✅ [118. Pascal's Triangle](#118.-Pascal's-Triangle)           [<a href='https://leetcode.com/problems/pascals-triangle' style='color:black'>Link</a>]\n",
    "* ✅ [383. Ransom Note](#383.-Ransom-Note)           [<a href='https://leetcode.com/problems/ransom-note' style='color:black'>Link</a>]"
   ]
  },
  {
   "cell_type": "markdown",
   "id": "c9005635",
   "metadata": {},
   "source": [
    "> Refering this sheet : https://docs.google.com/spreadsheets/d/1mmrEpl82epOBfeSdbCnOkd0P3yGEEFF-x110dkSNZhI/edit?usp=sharing"
   ]
  },
  {
   "cell_type": "markdown",
   "id": "9ac74e7b",
   "metadata": {},
   "source": [
    "## 217.Contains Duplicate\n",
    "\n",
    "* Approach : Used Hashing\n",
    "* Time Complexity : $ O(N + N) $ = O(N)"
   ]
  },
  {
   "cell_type": "code",
   "execution_count": 2,
   "id": "c529d132",
   "metadata": {},
   "outputs": [],
   "source": [
    "class Solution:\n",
    "    def containsDuplicate(self, nums: list[int]) -> bool:\n",
    "        hash = {}\n",
    "        for i in nums:\n",
    "            if i not in hash:\n",
    "                hash[i] = 1\n",
    "            else:\n",
    "                hash[i] += 1\n",
    "        for i in nums:\n",
    "            if hash[i] > 1:\n",
    "                return True\n",
    "        return False"
   ]
  },
  {
   "cell_type": "markdown",
   "id": "1c8fa602",
   "metadata": {},
   "source": [
    "## 53. Maximum Subarray\n",
    "\n",
    "* Approach : Used two variables as a reference and iterate it by handling negative values\n",
    "* TIme Complexity : $ O(N) $ "
   ]
  },
  {
   "cell_type": "code",
   "execution_count": 3,
   "id": "8167f409",
   "metadata": {},
   "outputs": [],
   "source": [
    "class Solution:\n",
    "    def maxSubArray(self, nums: list[int]) -> int:\n",
    "        maximum = nums[0]\n",
    "        currmax = 0\n",
    "        for i in nums:\n",
    "            if currmax < 0:\n",
    "                currmax = 0\n",
    "            currmax += i\n",
    "            maximum = max(maximum, currmax)\n",
    "        return maximum"
   ]
  },
  {
   "cell_type": "markdown",
   "id": "4b0bea4b",
   "metadata": {},
   "source": [
    "## 1. Two Sum\n",
    "\n",
    "* Approach : simply iterate through every element by using 2 for loops but the second loop starts with `i + 1`\n",
    "* Time Complexity : $ O(N^2) $"
   ]
  },
  {
   "cell_type": "code",
   "execution_count": 4,
   "id": "ecbee6f5",
   "metadata": {},
   "outputs": [],
   "source": [
    "class Solution:\n",
    "    def twoSum(self, nums: list[int], target: int) -> list[int]:\n",
    "        sum = []\n",
    "        for i in range(len(nums)):\n",
    "            for j in range(i+1, len(nums)):\n",
    "                if nums[i] + nums[j] == target:\n",
    "                    sum.append(i)\n",
    "                    sum.append(j)\n",
    "                    return sum"
   ]
  },
  {
   "cell_type": "markdown",
   "id": "5d304819",
   "metadata": {},
   "source": [
    "## 88. Merge Sorted Array\n",
    "\n",
    "* Approach : add elements in the reverse order such that it will be eassy to add the nums2 in nums1\n",
    "* Time Complextity : $ O(m * n)  $"
   ]
  },
  {
   "cell_type": "code",
   "execution_count": 5,
   "id": "82296420",
   "metadata": {},
   "outputs": [],
   "source": [
    "class Solution:\n",
    "    def merge(self, nums1: list[int], m: int, nums2: list[int], n: int) -> None:\n",
    "        \"\"\"\n",
    "        Do not return anything, modify nums1 in-place instead.\n",
    "        \"\"\"\n",
    "        last = m + n -1 # it takes the last element of nums1\n",
    "        while m > 0 and n > 0:\n",
    "            if nums1[m - 1] > nums2[n - 1]:\n",
    "                nums1[last] = nums1[m - 1]\n",
    "                m -= 1\n",
    "            else:\n",
    "                nums1[last] = nums2[n - 1]\n",
    "                n -= 1\n",
    "            last -= 1\n",
    "        while n > 0:\n",
    "            nums1[last] = nums2[n - 1]\n",
    "            last , n = last - 1, n - 1"
   ]
  },
  {
   "cell_type": "markdown",
   "id": "c8813a50",
   "metadata": {},
   "source": [
    "## 350. Intersection of Two Arrays II\n",
    "\n",
    "* Approach : i have used `hashing` for storing the count of repeating values and then by using `array` append the repeating values\n",
    "* Time Complexity : $ O(a + b) $"
   ]
  },
  {
   "cell_type": "code",
   "execution_count": 6,
   "id": "6bc49ff8",
   "metadata": {},
   "outputs": [],
   "source": [
    "class Solution:\n",
    "    def intersect(self, nums1: list[int], nums2: list[int]) -> list[int]:\n",
    "        hash = {}\n",
    "        for i in nums1:\n",
    "            if i not in hash:\n",
    "                hash[i] = 1\n",
    "            else:\n",
    "                hash[i] += 1\n",
    "        \n",
    "        arr = []\n",
    "        for i in nums2:\n",
    "            if i in hash:\n",
    "                hash[i] -= 1\n",
    "                if hash[i] >= 0:\n",
    "                    arr.append(i)\n",
    "\n",
    "        return arr"
   ]
  },
  {
   "cell_type": "markdown",
   "id": "7780a389",
   "metadata": {},
   "source": [
    "## 121. Best Time to Buy and Sell Stock\n",
    "\n",
    "* Approach : if the `l < r` then we take profit and compare with previous profit if not then we increase the pointer\n",
    "* Time Complexity : $ O(N) $"
   ]
  },
  {
   "cell_type": "code",
   "execution_count": 7,
   "id": "bed644a0",
   "metadata": {},
   "outputs": [],
   "source": [
    "class Solution:\n",
    "    def maxProfit(self, prices: list[int]) -> int:\n",
    "        # l is for left(buying)\n",
    "        # r is for right(selling)\n",
    "        l , r = 0 , 1\n",
    "        maxP = 0\n",
    "        while r < len(prices):\n",
    "            if prices[l] < prices[r]:\n",
    "                profit = prices[r] - prices[l]\n",
    "                maxP = max(maxP, profit)\n",
    "            else:\n",
    "                l = r\n",
    "            r += 1\n",
    "        return maxP"
   ]
  },
  {
   "cell_type": "markdown",
   "id": "aa3f21f7",
   "metadata": {},
   "source": [
    "## 566. Reshape the Matrix\n",
    "\n",
    "Approach : used simple 2 for loops\n",
    "1 is for row\n",
    "2 is for putting values in every column\n",
    "\n",
    "Time Complexity : $ O(N^2) $"
   ]
  },
  {
   "cell_type": "code",
   "execution_count": 8,
   "id": "c5af6f1a",
   "metadata": {},
   "outputs": [],
   "source": [
    "class Solution:\n",
    "    def matrixReshape(self, mat: list[list[int]], r: int, c: int) -> list[list[int]]:\n",
    "        # get the m x n value from the matrix\n",
    "        m = len(mat)\n",
    "        n = len(mat[0])\n",
    "        # if the m x n and r x c is not equal then we return the matrix\n",
    "        if m * n != r * c:\n",
    "            return mat\n",
    "\n",
    "        # initialize the available varibales\n",
    "        row = []\n",
    "        col = 0\n",
    "        res = []\n",
    "\n",
    "        # two for loops one is for rows and another to iterate every column\n",
    "        for i in range(len(mat)):\n",
    "            for j in range(len(mat[0])):\n",
    "                # append the values in first row\n",
    "                row.append(mat[i][j])\n",
    "                # we have to iterate the every column\n",
    "                col += 1\n",
    "                # if the column is equal to the c given then we reset all the values\n",
    "                if col == c:\n",
    "                    # append the first row in the res\n",
    "                    res.append(row)\n",
    "                    # reset the row and col\n",
    "                    row = []\n",
    "                    col = 0\n",
    "        return res\n",
    "\n",
    "        "
   ]
  },
  {
   "cell_type": "markdown",
   "id": "c9527761",
   "metadata": {},
   "source": [
    "## 118. Pascal's Triangle\n",
    "\n",
    "* Approach : added temp array with [0] append on prev row on end as well as front\n",
    "* Time Complexity : $ O(N^2) $"
   ]
  },
  {
   "cell_type": "code",
   "execution_count": 9,
   "id": "cb5abc38",
   "metadata": {},
   "outputs": [],
   "source": [
    "class Solution:\n",
    "    def generate(self, numRows: int) -> list[list[int]]:\n",
    "        # we have to take base case as \n",
    "        res = [[1]]\n",
    "        # we have to take numRows - 1 bcz we have already return one case above\n",
    "        for i in range(numRows - 1):\n",
    "            # temporary array to store the previous value by\n",
    "            # appending 0 at end as well as start\n",
    "            temp = [0] + res[-1] + [0]\n",
    "            # initialize row variable\n",
    "            row = []\n",
    "            # we have to run 2nd loop +1 value of previous row\n",
    "            for j in range(len(res[-1]) + 1):\n",
    "                # add the value above it from temp array\n",
    "                row.append(temp[j] + temp[j + 1])\n",
    "            # append every row in res \n",
    "            res.append(row)\n",
    "        return res"
   ]
  },
  {
   "cell_type": "markdown",
   "id": "a2856f50",
   "metadata": {},
   "source": [
    "## 383. Ransom Note\n",
    "\n",
    "* Approach : Used hashing for storing the all values and another for loop to check the `RansomNote`\n",
    "* Time Complexity : $ O(M + N) $"
   ]
  },
  {
   "cell_type": "code",
   "execution_count": 10,
   "id": "73456ff1",
   "metadata": {},
   "outputs": [],
   "source": [
    "class Solution:\n",
    "    def canConstruct(self, ransomNote: str, magazine: str) -> bool:\n",
    "        # used hashing to store the values \n",
    "        hashing = {}\n",
    "        # loop for inserting value in hashtable\n",
    "        for i in magazine:\n",
    "            if i not in hashing:\n",
    "                hashing[i] = 1\n",
    "            else:\n",
    "                hashing[i] += 1\n",
    "\n",
    "        # flag variable initialization\n",
    "        ransom = False\n",
    "\n",
    "        # loop for finding and reducing one number if it is present \n",
    "        # and if not then changing the value to False \n",
    "        # and break the loop\n",
    "        for i in ransomNote:\n",
    "            if i in hashing and hashing[i] > 0:\n",
    "                hashing[i] -= 1\n",
    "                ransom = True\n",
    "            else:\n",
    "                ransom = False\n",
    "                break\n",
    "        return ransom\n",
    "\n",
    "        # as two loop both having differnt input so \n",
    "        # T.C : O(M + R)"
   ]
  },
  {
   "cell_type": "code",
   "execution_count": null,
   "id": "20b7730d",
   "metadata": {},
   "outputs": [],
   "source": []
  },
  {
   "cell_type": "code",
   "execution_count": null,
   "id": "3ae04fbd",
   "metadata": {},
   "outputs": [],
   "source": []
  },
  {
   "cell_type": "code",
   "execution_count": null,
   "id": "7a2997a5",
   "metadata": {},
   "outputs": [],
   "source": []
  },
  {
   "cell_type": "code",
   "execution_count": null,
   "id": "783fa746",
   "metadata": {},
   "outputs": [],
   "source": []
  },
  {
   "cell_type": "code",
   "execution_count": null,
   "id": "2096dbaf",
   "metadata": {},
   "outputs": [],
   "source": []
  },
  {
   "cell_type": "code",
   "execution_count": null,
   "id": "44125911",
   "metadata": {},
   "outputs": [],
   "source": []
  },
  {
   "cell_type": "code",
   "execution_count": null,
   "id": "0216ab8f",
   "metadata": {},
   "outputs": [],
   "source": []
  },
  {
   "cell_type": "code",
   "execution_count": null,
   "id": "db46a1d3",
   "metadata": {},
   "outputs": [],
   "source": []
  },
  {
   "cell_type": "code",
   "execution_count": null,
   "id": "1e22503e",
   "metadata": {},
   "outputs": [],
   "source": []
  }
 ],
 "metadata": {
  "kernelspec": {
   "display_name": "Python 3 (ipykernel)",
   "language": "python",
   "name": "python3"
  },
  "language_info": {
   "codemirror_mode": {
    "name": "ipython",
    "version": 3
   },
   "file_extension": ".py",
   "mimetype": "text/x-python",
   "name": "python",
   "nbconvert_exporter": "python",
   "pygments_lexer": "ipython3",
   "version": "3.10.9"
  }
 },
 "nbformat": 4,
 "nbformat_minor": 5
}

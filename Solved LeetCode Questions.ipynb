{
 "cells": [
  {
   "cell_type": "code",
   "execution_count": 7,
   "id": "24ade9eb",
   "metadata": {},
   "outputs": [
    {
     "name": "stdout",
     "output_type": "stream",
     "text": [
      "Note that after executing new function your next cell will automatically converted to markdown cell :)\n"
     ]
    }
   ],
   "source": [
    "%run leetcode_function.py\n",
    "z = LeetFunction()"
   ]
  },
  {
   "cell_type": "markdown",
   "id": "9c9e6d5d",
   "metadata": {},
   "source": [
    "**LeetCode Problems**\n",
    "\n",
    "# Data Structures 1\n",
    "* ✅ [217.Contains Duplicate](#217.Contains-Duplicate)    [(link)](https://leetcode.com/problems/duplicate)\n"
   ]
  },
  {
   "cell_type": "markdown",
   "id": "21e29667",
   "metadata": {},
   "source": [
    "# 217.Contains Duplicate"
   ]
  },
  {
   "cell_type": "code",
   "execution_count": 8,
   "id": "8824c541",
   "metadata": {},
   "outputs": [
    {
     "name": "stdout",
     "output_type": "stream",
     "text": [
      "Successfully added to the comment list\n"
     ]
    }
   ],
   "source": [
    "z.new(\"217.Contains Duplicate\")"
   ]
  },
  {
   "cell_type": "markdown",
   "id": "7e202586",
   "metadata": {},
   "source": [
    "## 217.Contains Duplicate"
   ]
  },
  {
   "cell_type": "code",
   "execution_count": null,
   "id": "29b64e51",
   "metadata": {},
   "outputs": [],
   "source": []
  }
 ],
 "metadata": {
  "kernelspec": {
   "display_name": "Python 3 (ipykernel)",
   "language": "python",
   "name": "python3"
  },
  "language_info": {
   "codemirror_mode": {
    "name": "ipython",
    "version": 3
   },
   "file_extension": ".py",
   "mimetype": "text/x-python",
   "name": "python",
   "nbconvert_exporter": "python",
   "pygments_lexer": "ipython3",
   "version": "3.10.9"
  }
 },
 "nbformat": 4,
 "nbformat_minor": 5
}

{
 "cells": [
  {
   "cell_type": "code",
   "execution_count": 2,
   "id": "53200f3c",
   "metadata": {},
   "outputs": [
    {
     "name": "stdout",
     "output_type": "stream",
     "text": [
      "Note that after executing new function your next cell will automatically converted to markdown cell :)\n"
     ]
    }
   ],
   "source": [
    "%run imp_personal.py\n",
    "z = MyFunction()"
   ]
  },
  {
   "cell_type": "markdown",
   "id": "b907554e",
   "metadata": {},
   "source": [
    "**LeetCode Problems**\n",
    "\n",
    "# Data Structures 1\n",
    "- [ ] 217. Contains Duplicate\n",
    "- [ ] 53. Maximum Subarray\n",
    "- [ ] 1. Two Sum\n",
    "- [ ] 88. Merge Sorted Array\n",
    "- [ ] 350. Intersection of Two Arrays II\n",
    "- [ ] 121. Best Time to Buy and Sell Stock\n",
    "- [ ] 566. Reshape the Matrix\n",
    "- [ ] 118. Pascal's Triangle\n",
    "- [ ] 36. Valid Sudoku\n",
    "- [ ] 74. Search a 2D Matrix\n",
    "- [ ] 387. First Unique Character in a String\n",
    "- [ ] 383. Ransom Note\n",
    "- [ ] 242. Valid Anagram\n",
    "- [ ] 141. Linked List Cycle\n",
    "- [ ] 21. Merge Two Sorted Lists\n",
    "- [ ] 203. Remove Linked List Elements\n",
    "- [ ] 206. Reverse Linked List\n",
    "- [ ] 83. Remove Duplicates from Sorted List\n",
    "- [ ] 20. Valid Parentheses\n",
    "- [ ] 232. Implement Queue using Stacks\n",
    "- [ ] 144. Binary Tree Preorder Traversal\n",
    "- [ ] 94. Binary Tree Inorder Traversal\n",
    "- [ ] 145. Binary Tree Postorder Traversal\n",
    "- [ ] 102. Binary Tree Level Order Traversal\n",
    "- [ ] 104. Maximum Depth of Binary Tree\n",
    "- [ ] 101. Symmetric Tree\n",
    "- [ ] 226. Invert Binary Tree\n",
    "- [ ] 112. Path Sum\n",
    "- [ ] 700. Search in a Binary Search Tree\n",
    "- [ ] 701. Insert into a Binary Search Tree\n",
    "- [ ] 98. Validate Binary Search Tree\n",
    "- [ ] 653. Two Sum IV - Input is a BST\n",
    "- [ ] 235. Lowest Common Ancestor of a Binary Search Tree"
   ]
  },
  {
   "cell_type": "markdown",
   "id": "9f85e0f1",
   "metadata": {},
   "source": [
    "# COntains"
   ]
  },
  {
   "cell_type": "code",
   "execution_count": null,
   "id": "40e53b1d",
   "metadata": {},
   "outputs": [],
   "source": []
  }
 ],
 "metadata": {
  "kernelspec": {
   "display_name": "Python 3 (ipykernel)",
   "language": "python",
   "name": "python3"
  },
  "language_info": {
   "codemirror_mode": {
    "name": "ipython",
    "version": 3
   },
   "file_extension": ".py",
   "mimetype": "text/x-python",
   "name": "python",
   "nbconvert_exporter": "python",
   "pygments_lexer": "ipython3",
   "version": "3.10.9"
  }
 },
 "nbformat": 4,
 "nbformat_minor": 5
}

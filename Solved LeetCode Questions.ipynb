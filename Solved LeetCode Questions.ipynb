{
 "cells": [
  {
   "cell_type": "code",
   "execution_count": 4,
   "id": "69561458",
   "metadata": {},
   "outputs": [
    {
     "name": "stdout",
     "output_type": "stream",
     "text": [
      "Note that after executing new function your next cell will automatically converted to markdown cell :)\n"
     ]
    }
   ],
   "source": [
    "%run leetcode_function.py\n",
    "z = LeetFunction()"
   ]
  },
  {
   "cell_type": "markdown",
   "id": "5439704c",
   "metadata": {},
   "source": [
    "**LeetCode Problems**\n",
    "\n",
    "# Data Structures 1\n"
   ]
  },
  {
   "cell_type": "code",
   "execution_count": 5,
   "id": "643ee52a",
   "metadata": {},
   "outputs": [
    {
     "name": "stdout",
     "output_type": "stream",
     "text": [
      "Successfully added to the comment list\n",
      "Here is the link https://leetcode.com/problems/contains-duplicate\n",
      "All the best Chandrashekhar\n"
     ]
    }
   ],
   "source": [
    "z.new(\"217.Contains Duplicate\")"
   ]
  },
  {
   "cell_type": "markdown",
   "id": "786783fa",
   "metadata": {},
   "source": [
    "## 217.Contains Duplicate\n",
    "\n",
    "* Approach : Used Hashing\n",
    "* Time Complexity : $ O(N + N) $ = O(N)"
   ]
  },
  {
   "cell_type": "code",
   "execution_count": 7,
   "id": "bb241e54",
   "metadata": {},
   "outputs": [],
   "source": [
    "class Solution:\n",
    "    def containsDuplicate(self, nums: list[int]) -> bool:\n",
    "        hash = {}\n",
    "        for i in nums:\n",
    "            if i not in hash:\n",
    "                hash[i] = 1\n",
    "            else:\n",
    "                hash[i] += 1\n",
    "        for i in nums:\n",
    "            if hash[i] > 1:\n",
    "                return True\n",
    "        return False"
   ]
  },
  {
   "cell_type": "code",
   "execution_count": null,
   "id": "7e83e9af",
   "metadata": {},
   "outputs": [],
   "source": []
  }
 ],
 "metadata": {
  "kernelspec": {
   "display_name": "Python 3 (ipykernel)",
   "language": "python",
   "name": "python3"
  },
  "language_info": {
   "codemirror_mode": {
    "name": "ipython",
    "version": 3
   },
   "file_extension": ".py",
   "mimetype": "text/x-python",
   "name": "python",
   "nbconvert_exporter": "python",
   "pygments_lexer": "ipython3",
   "version": "3.10.9"
  }
 },
 "nbformat": 4,
 "nbformat_minor": 5
}

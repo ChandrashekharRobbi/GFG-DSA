{
 "cells": [
  {
   "cell_type": "code",
   "execution_count": 11,
   "id": "5dfec4b9",
   "metadata": {},
   "outputs": [
    {
     "name": "stdout",
     "output_type": "stream",
     "text": [
      "Note that after executing new function your next cell will automatically converted to markdown cell :)\n"
     ]
    }
   ],
   "source": [
    "%run leetcode_function.py\n",
    "z = LeetFunction()"
   ]
  },
  {
   "cell_type": "markdown",
   "id": "0ba23bbf",
   "metadata": {},
   "source": [
    "**LeetCode Problems**\n",
    "\n",
    "# Data Structures 1\n",
    "* ✅ [217.Contains Duplicate](#217.Contains-Duplicate)    [(link)](https://leetcode.com/problems/duplicate)\n"
   ]
  },
  {
   "cell_type": "markdown",
   "id": "adbbe36a",
   "metadata": {},
   "source": [
    "# 217.Contains Duplicate"
   ]
  },
  {
   "cell_type": "code",
   "execution_count": 12,
   "id": "58e894e5",
   "metadata": {},
   "outputs": [
    {
     "name": "stdout",
     "output_type": "stream",
     "text": [
      "https://leetcode.com/problems/duplicate\n",
      "Successfully added to the comment list\n"
     ]
    }
   ],
   "source": [
    "z.new(\"217.Contains Duplicate\")"
   ]
  },
  {
   "cell_type": "markdown",
   "id": "0fb40ef8",
   "metadata": {},
   "source": [
    "## 217.Contains Duplicate"
   ]
  },
  {
   "cell_type": "code",
   "execution_count": 14,
   "id": "84eaea10",
   "metadata": {},
   "outputs": [],
   "source": [
    "h = 2\n",
    "s = \"217.Contains Duplicate\""
   ]
  },
  {
   "cell_type": "code",
   "execution_count": 26,
   "id": "1c975bb7",
   "metadata": {},
   "outputs": [
    {
     "name": "stdout",
     "output_type": "stream",
     "text": [
      "217.Contains Duplicate\n",
      "contains duplicate\n",
      "https://leetcode.com/problems/contains duplicate\n"
     ]
    }
   ],
   "source": [
    "hash = \"#\"*h\n",
    "link = \"https://leetcode.com/problems/\"\n",
    "print(s)\n",
    "text = (\"-\").join(s.split(\".\")[1:]).lower()\n",
    "print(text)\n",
    "leet_link =link + text\n",
    "print(leet_link)\n",
    "comment = f\"* ✅ [{s}](#{s.replace(' ','-')})    [(link)]({leet_link})\"\n",
    "markdown = f\"{hash} {s}\""
   ]
  },
  {
   "cell_type": "code",
   "execution_count": 32,
   "id": "c87e2e21",
   "metadata": {},
   "outputs": [
    {
     "data": {
      "text/plain": [
       "'contains-duplicate'"
      ]
     },
     "execution_count": 32,
     "metadata": {},
     "output_type": "execute_result"
    }
   ],
   "source": [
    "hash = \"#\"*h\n",
    "link = \"https://leetcode.com/problems/\"\n",
    "# print(s)\n",
    "\"-\".join(s.split(\".\")[1:][0].split()).lower()"
   ]
  },
  {
   "cell_type": "code",
   "execution_count": null,
   "id": "e61a3630",
   "metadata": {},
   "outputs": [],
   "source": []
  }
 ],
 "metadata": {
  "kernelspec": {
   "display_name": "Python 3 (ipykernel)",
   "language": "python",
   "name": "python3"
  },
  "language_info": {
   "codemirror_mode": {
    "name": "ipython",
    "version": 3
   },
   "file_extension": ".py",
   "mimetype": "text/x-python",
   "name": "python",
   "nbconvert_exporter": "python",
   "pygments_lexer": "ipython3",
   "version": "3.10.9"
  }
 },
 "nbformat": 4,
 "nbformat_minor": 5
}

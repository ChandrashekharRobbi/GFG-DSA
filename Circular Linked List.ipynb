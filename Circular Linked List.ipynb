{
 "cells": [
  {
   "cell_type": "code",
   "execution_count": 19,
   "id": "635daa76",
   "metadata": {},
   "outputs": [],
   "source": [
    "from imp_personal import *"
   ]
  },
  {
   "cell_type": "code",
   "execution_count": 21,
   "id": "00407548",
   "metadata": {},
   "outputs": [],
   "source": [
    "c = MyFunction()"
   ]
  },
  {
   "cell_type": "markdown",
   "id": "ce54540e",
   "metadata": {},
   "source": [
    "# Circular Linked List\n",
    "\n",
    "\n",
    "A circular linked list is a type of linked list in which the first and the last nodes are also connected to each other to form a circle."
   ]
  },
  {
   "cell_type": "code",
   "execution_count": 4,
   "id": "7efeac64",
   "metadata": {},
   "outputs": [],
   "source": [
    "class Node:\n",
    "    def __init__(self,key):\n",
    "        self.key = key\n",
    "        self.next = None"
   ]
  },
  {
   "cell_type": "code",
   "execution_count": 16,
   "id": "d8d33ec9",
   "metadata": {},
   "outputs": [],
   "source": [
    "head = Node(10)\n",
    "head.next = Node(12)\n",
    "head.next.next = Node(15)\n",
    "head.next.next.next = Node(20)\n",
    "head.next.next.next.next = Node(21)\n",
    "head.next.next.next.next.next = head"
   ]
  },
  {
   "cell_type": "markdown",
   "id": "2dd80a74",
   "metadata": {},
   "source": [
    "#### Print the Circular Linked List"
   ]
  },
  {
   "cell_type": "code",
   "execution_count": 17,
   "id": "19cd5bac",
   "metadata": {},
   "outputs": [],
   "source": [
    "def printList(head):\n",
    "    curr = head\n",
    "    while curr.next != head:\n",
    "        print(curr.key, end = \" \")\n",
    "        curr = curr.next\n",
    "    print(curr.key)"
   ]
  },
  {
   "cell_type": "code",
   "execution_count": 18,
   "id": "4270de68",
   "metadata": {},
   "outputs": [
    {
     "name": "stdout",
     "output_type": "stream",
     "text": [
      "10 12 15 20 21\n"
     ]
    }
   ],
   "source": [
    "printList(head)"
   ]
  },
  {
   "cell_type": "code",
   "execution_count": 22,
   "id": "ca323a79",
   "metadata": {},
   "outputs": [
    {
     "name": "stdout",
     "output_type": "stream",
     "text": [
      "Print the Circular Linked List\n",
      "7. [Print the Circular Linked List](#Print-the-Circular-Linked-List)\n",
      "#### Print the Circular Linked List\n",
      "Successfully added to the comment list\n"
     ]
    }
   ],
   "source": [
    "c.new('Print the Circular Linked List')"
   ]
  },
  {
   "cell_type": "code",
   "execution_count": 23,
   "id": "61d5410a",
   "metadata": {},
   "outputs": [
    {
     "name": "stdout",
     "output_type": "stream",
     "text": [
      "Circular Linked List Head Insert\n",
      "7. [Circular Linked List Head Insert](#Circular-Linked-List-Head-Insert)\n",
      "#### Circular Linked List Head Insert\n",
      "Successfully added to the comment list\n"
     ]
    }
   ],
   "source": [
    "c.new('Circular Linked List Head Insert')"
   ]
  },
  {
   "cell_type": "markdown",
   "id": "0692e758",
   "metadata": {},
   "source": [
    "#### Circular Linked List Head Insert"
   ]
  },
  {
   "cell_type": "code",
   "execution_count": 24,
   "id": "f2df7e55",
   "metadata": {},
   "outputs": [],
   "source": [
    "def insertInHead(head,x):\n",
    "    #code here\n",
    "    curr = head\n",
    "    while curr.next != head:\n",
    "        curr = curr.next\n",
    "    temp = Node(x)\n",
    "    temp.next = head\n",
    "    curr.next = temp\n",
    "    return temp"
   ]
  },
  {
   "cell_type": "code",
   "execution_count": 25,
   "id": "422bf765",
   "metadata": {},
   "outputs": [
    {
     "name": "stdout",
     "output_type": "stream",
     "text": [
      "Circular Linked List Tail Insert\n",
      "7. [Circular Linked List Tail Insert](#Circular-Linked-List-Tail-Insert)\n",
      "#### Circular Linked List Tail Insert\n",
      "Successfully added to the comment list\n"
     ]
    }
   ],
   "source": [
    "c.new('Circular Linked List Tail Insert')"
   ]
  },
  {
   "cell_type": "markdown",
   "id": "cc3e2d4e",
   "metadata": {},
   "source": [
    "#### Circular Linked List Tail Insert"
   ]
  },
  {
   "cell_type": "code",
   "execution_count": 26,
   "id": "5a076753",
   "metadata": {},
   "outputs": [],
   "source": [
    "def insertInTail(head,x):\n",
    "    #code here\n",
    "    curr = head\n",
    "    while curr.next != head:\n",
    "        curr = curr.next\n",
    "    temp = Node(x)\n",
    "    temp.next = head\n",
    "    curr.next = temp\n",
    "    return head"
   ]
  },
  {
   "cell_type": "code",
   "execution_count": 27,
   "id": "2bae1d55",
   "metadata": {},
   "outputs": [
    {
     "name": "stdout",
     "output_type": "stream",
     "text": [
      "Delete Head of Circular Linked List\n",
      "7. [Delete Head of Circular Linked List](#Delete-Head-of-Circular-Linked-List)\n",
      "#### Delete Head of Circular Linked List\n",
      "Successfully added to the comment list\n"
     ]
    }
   ],
   "source": [
    "c.new('Delete Head of Circular Linked List')"
   ]
  },
  {
   "cell_type": "markdown",
   "id": "659ca7d6",
   "metadata": {},
   "source": [
    "#### Delete Head of Circular Linked List"
   ]
  },
  {
   "cell_type": "code",
   "execution_count": 28,
   "id": "f4e9cace",
   "metadata": {},
   "outputs": [],
   "source": [
    "def deleteHead(head):\n",
    "    #code here\n",
    "    curr = head\n",
    "    while curr.next != head:\n",
    "        curr = curr.next\n",
    "    curr.next = head.next\n",
    "    return head.next"
   ]
  },
  {
   "cell_type": "code",
   "execution_count": 29,
   "id": "5f71e8ef",
   "metadata": {},
   "outputs": [
    {
     "name": "stdout",
     "output_type": "stream",
     "text": [
      "Display Circular Linked List\n",
      "7. [Display Circular Linked List](#Display-Circular-Linked-List)\n",
      "#### Display Circular Linked List\n",
      "Successfully added to the comment list\n"
     ]
    }
   ],
   "source": [
    "c.new('Display Circular Linked List')"
   ]
  },
  {
   "cell_type": "markdown",
   "id": "4b80e9f9",
   "metadata": {},
   "source": [
    "#### Display Circular Linked List"
   ]
  },
  {
   "cell_type": "code",
   "execution_count": 30,
   "id": "af1d2fe5",
   "metadata": {},
   "outputs": [],
   "source": [
    "def displayList(head):\n",
    "    #code here\n",
    "    curr = head\n",
    "    arr = []\n",
    "    while curr.next != head:\n",
    "        arr.append(curr.data)\n",
    "        curr = curr.next\n",
    "    arr.append(curr.data)\n",
    "    return arr"
   ]
  },
  {
   "cell_type": "code",
   "execution_count": null,
   "id": "95e099d8",
   "metadata": {},
   "outputs": [],
   "source": []
  }
 ],
 "metadata": {
  "kernelspec": {
   "display_name": "Python 3 (ipykernel)",
   "language": "python",
   "name": "python3"
  },
  "language_info": {
   "codemirror_mode": {
    "name": "ipython",
    "version": 3
   },
   "file_extension": ".py",
   "mimetype": "text/x-python",
   "name": "python",
   "nbconvert_exporter": "python",
   "pygments_lexer": "ipython3",
   "version": "3.10.6"
  }
 },
 "nbformat": 4,
 "nbformat_minor": 5
}

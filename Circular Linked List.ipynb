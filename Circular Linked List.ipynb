{
 "cells": [
  {
   "cell_type": "code",
   "execution_count": 19,
   "id": "5bcd522b",
   "metadata": {},
   "outputs": [],
   "source": [
    "from imp_personal import *"
   ]
  },
  {
   "cell_type": "code",
   "execution_count": 21,
   "id": "8892915a",
   "metadata": {},
   "outputs": [],
   "source": [
    "c = MyFunction()"
   ]
  },
  {
   "cell_type": "markdown",
   "id": "81de6a60",
   "metadata": {},
   "source": [
    "# Circular Linked List\n",
    "\n",
    "\n",
    "A circular linked list is a type of linked list in which the first and the last nodes are also connected to each other to form a circle."
   ]
  },
  {
   "cell_type": "code",
   "execution_count": 4,
   "id": "14195e71",
   "metadata": {},
   "outputs": [],
   "source": [
    "class Node:\n",
    "    def __init__(self,key):\n",
    "        self.key = key\n",
    "        self.next = None"
   ]
  },
  {
   "cell_type": "code",
   "execution_count": 16,
   "id": "a945a6ee",
   "metadata": {},
   "outputs": [],
   "source": [
    "head = Node(10)\n",
    "head.next = Node(12)\n",
    "head.next.next = Node(15)\n",
    "head.next.next.next = Node(20)\n",
    "head.next.next.next.next = Node(21)\n",
    "head.next.next.next.next.next = head"
   ]
  },
  {
   "cell_type": "markdown",
   "id": "1b3bf0bd",
   "metadata": {},
   "source": [
    "#### Print the Circular Linked List"
   ]
  },
  {
   "cell_type": "code",
   "execution_count": 17,
   "id": "bd791a56",
   "metadata": {},
   "outputs": [],
   "source": [
    "def printList(head):\n",
    "    curr = head\n",
    "    while curr.next != head:\n",
    "        print(curr.key, end = \" \")\n",
    "        curr = curr.next\n",
    "    print(curr.key)"
   ]
  },
  {
   "cell_type": "code",
   "execution_count": 18,
   "id": "71395d45",
   "metadata": {},
   "outputs": [
    {
     "name": "stdout",
     "output_type": "stream",
     "text": [
      "10 12 15 20 21\n"
     ]
    }
   ],
   "source": [
    "printList(head)"
   ]
  },
  {
   "cell_type": "code",
   "execution_count": 22,
   "id": "0175f5d8",
   "metadata": {},
   "outputs": [
    {
     "name": "stdout",
     "output_type": "stream",
     "text": [
      "Print the Circular Linked List\n",
      "7. [Print the Circular Linked List](#Print-the-Circular-Linked-List)\n",
      "#### Print the Circular Linked List\n",
      "Successfully added to the comment list\n"
     ]
    }
   ],
   "source": [
    "c.new('Print the Circular Linked List')"
   ]
  },
  {
   "cell_type": "code",
   "execution_count": 23,
   "id": "790cea3b",
   "metadata": {},
   "outputs": [
    {
     "name": "stdout",
     "output_type": "stream",
     "text": [
      "Circular Linked List Head Insert\n",
      "7. [Circular Linked List Head Insert](#Circular-Linked-List-Head-Insert)\n",
      "#### Circular Linked List Head Insert\n",
      "Successfully added to the comment list\n"
     ]
    }
   ],
   "source": [
    "c.new('Circular Linked List Head Insert')"
   ]
  },
  {
   "cell_type": "markdown",
   "id": "5bcb7915",
   "metadata": {},
   "source": [
    "#### Circular Linked List Head Insert"
   ]
  },
  {
   "cell_type": "code",
   "execution_count": 24,
   "id": "f8fa60b7",
   "metadata": {},
   "outputs": [],
   "source": [
    "def insertInHead(head,x):\n",
    "    #code here\n",
    "    curr = head\n",
    "    while curr.next != head:\n",
    "        curr = curr.next\n",
    "    temp = Node(x)\n",
    "    temp.next = head\n",
    "    curr.next = temp\n",
    "    return temp"
   ]
  },
  {
   "cell_type": "code",
   "execution_count": 25,
   "id": "4c40ec19",
   "metadata": {},
   "outputs": [
    {
     "name": "stdout",
     "output_type": "stream",
     "text": [
      "Circular Linked List Tail Insert\n",
      "7. [Circular Linked List Tail Insert](#Circular-Linked-List-Tail-Insert)\n",
      "#### Circular Linked List Tail Insert\n",
      "Successfully added to the comment list\n"
     ]
    }
   ],
   "source": [
    "c.new('Circular Linked List Tail Insert')"
   ]
  },
  {
   "cell_type": "markdown",
   "id": "74f1673e",
   "metadata": {},
   "source": [
    "#### Circular Linked List Tail Insert"
   ]
  },
  {
   "cell_type": "code",
   "execution_count": 26,
   "id": "a3927441",
   "metadata": {},
   "outputs": [],
   "source": [
    "def insertInTail(head,x):\n",
    "    #code here\n",
    "    curr = head\n",
    "    while curr.next != head:\n",
    "        curr = curr.next\n",
    "    temp = Node(x)\n",
    "    temp.next = head\n",
    "    curr.next = temp\n",
    "    return head"
   ]
  },
  {
   "cell_type": "code",
   "execution_count": 27,
   "id": "4df0c380",
   "metadata": {},
   "outputs": [
    {
     "name": "stdout",
     "output_type": "stream",
     "text": [
      "Delete Head of Circular Linked List\n",
      "7. [Delete Head of Circular Linked List](#Delete-Head-of-Circular-Linked-List)\n",
      "#### Delete Head of Circular Linked List\n",
      "Successfully added to the comment list\n"
     ]
    }
   ],
   "source": [
    "c.new('Delete Head of Circular Linked List')"
   ]
  },
  {
   "cell_type": "markdown",
   "id": "9b241633",
   "metadata": {},
   "source": [
    "#### Delete Head of Circular Linked List"
   ]
  },
  {
   "cell_type": "code",
   "execution_count": 28,
   "id": "c763036c",
   "metadata": {},
   "outputs": [],
   "source": [
    "def deleteHead(head):\n",
    "    #code here\n",
    "    curr = head\n",
    "    while curr.next != head:\n",
    "        curr = curr.next\n",
    "    curr.next = head.next\n",
    "    return head.next"
   ]
  },
  {
   "cell_type": "code",
   "execution_count": null,
   "id": "68ebb84b",
   "metadata": {},
   "outputs": [],
   "source": []
  }
 ],
 "metadata": {
  "kernelspec": {
   "display_name": "Python 3 (ipykernel)",
   "language": "python",
   "name": "python3"
  },
  "language_info": {
   "codemirror_mode": {
    "name": "ipython",
    "version": 3
   },
   "file_extension": ".py",
   "mimetype": "text/x-python",
   "name": "python",
   "nbconvert_exporter": "python",
   "pygments_lexer": "ipython3",
   "version": "3.10.6"
  }
 },
 "nbformat": 4,
 "nbformat_minor": 5
}

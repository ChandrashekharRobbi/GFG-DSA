{
 "cells": [
  {
   "cell_type": "markdown",
   "id": "ce54540e",
   "metadata": {},
   "source": [
    "# Circular Linked List\n",
    "\n",
    "\n",
    "A circular linked list is a type of linked list in which the first and the last nodes are also connected to each other to form a circle.\n",
    "\n",
    "\n",
    "**Advantages**\n",
    "\n",
    "1. We can traverse through entire list from any node\n",
    "2. Implementations of algorithms like Round Robin\n",
    "3. We can insert at the beginning and end by just maintaining one tail reference / pointer\n",
    "\n",
    "**Disadvantages**\n",
    "\n",
    "1. Implementations of operations become complex\n",
    "\n",
    "\n",
    "**Problems**\n",
    "\n",
    "1. [Print the Circular Linked List](#Print-the-Circular-Linked-List)\n",
    "7. [Circular Linked List Head Insert](#Circular-Linked-List-Head-Insert)\n",
    "7. [Circular Linked List Tail Insert](#Circular-Linked-List-Tail-Insert)\n",
    "7. [Delete Head of Circular Linked List](#Delete-Head-of-Circular-Linked-List)\n",
    "7. [Display Circular Linked List](#Display-Circular-Linked-List)\n",
    "7. [Circular Linked List Delete at Position](#Circular-Linked-List-Delete-at-Position)\n",
    "7. [Delete Tail of Circular Linked List](#Delete-Tail-of-Circular-Linked-List)\n",
    "7. [Check If Circular Linked List](#Check-If-Circular-Linked-List)\n",
    "7. [Find Middle of Circular Doubly Linked List](#Find-Middle-of-Circular-Doubly-Linked-List)\n",
    "7. [Delete node in Doubly Linked List](#Delete-node-in-Doubly-Linked-List)"
   ]
  },
  {
   "cell_type": "code",
   "execution_count": 3,
   "id": "7efeac64",
   "metadata": {},
   "outputs": [],
   "source": [
    "class Node:\n",
    "    def __init__(self,key):\n",
    "        self.key = key\n",
    "        self.next = None"
   ]
  },
  {
   "cell_type": "code",
   "execution_count": 4,
   "id": "d8d33ec9",
   "metadata": {},
   "outputs": [],
   "source": [
    "head = Node(10)\n",
    "head.next = Node(12)\n",
    "head.next.next = Node(15)\n",
    "head.next.next.next = Node(20)\n",
    "head.next.next.next.next = Node(21)\n",
    "head.next.next.next.next.next = head"
   ]
  },
  {
   "cell_type": "markdown",
   "id": "2dd80a74",
   "metadata": {},
   "source": [
    "#### Print the Circular Linked List"
   ]
  },
  {
   "cell_type": "code",
   "execution_count": 5,
   "id": "19cd5bac",
   "metadata": {},
   "outputs": [],
   "source": [
    "def printList(head):\n",
    "    curr = head\n",
    "    while curr.next != head:\n",
    "        print(curr.key, end = \" \")\n",
    "        curr = curr.next\n",
    "    print(curr.key)"
   ]
  },
  {
   "cell_type": "code",
   "execution_count": 6,
   "id": "4270de68",
   "metadata": {},
   "outputs": [
    {
     "name": "stdout",
     "output_type": "stream",
     "text": [
      "10 12 15 20 21\n"
     ]
    }
   ],
   "source": [
    "printList(head)"
   ]
  },
  {
   "cell_type": "markdown",
   "id": "0692e758",
   "metadata": {},
   "source": [
    "#### Circular Linked List Head Insert"
   ]
  },
  {
   "cell_type": "code",
   "execution_count": 9,
   "id": "f2df7e55",
   "metadata": {},
   "outputs": [],
   "source": [
    "def insertInHead(head,x):\n",
    "    #code here\n",
    "    curr = head\n",
    "    while curr.next != head:\n",
    "        curr = curr.next\n",
    "    temp = Node(x)\n",
    "    temp.next = head\n",
    "    curr.next = temp\n",
    "    return temp"
   ]
  },
  {
   "cell_type": "markdown",
   "id": "cc3e2d4e",
   "metadata": {},
   "source": [
    "#### Circular Linked List Tail Insert"
   ]
  },
  {
   "cell_type": "code",
   "execution_count": 11,
   "id": "5a076753",
   "metadata": {},
   "outputs": [],
   "source": [
    "def insertInTail(head,x):\n",
    "    #code here\n",
    "    curr = head\n",
    "    while curr.next != head:\n",
    "        curr = curr.next\n",
    "    temp = Node(x)\n",
    "    temp.next = head\n",
    "    curr.next = temp\n",
    "    return head"
   ]
  },
  {
   "cell_type": "markdown",
   "id": "659ca7d6",
   "metadata": {},
   "source": [
    "#### Delete Head of Circular Linked List"
   ]
  },
  {
   "cell_type": "code",
   "execution_count": 13,
   "id": "f4e9cace",
   "metadata": {},
   "outputs": [],
   "source": [
    "def deleteHead(head):\n",
    "    #code here\n",
    "    curr = head\n",
    "    while curr.next != head:\n",
    "        curr = curr.next\n",
    "    curr.next = head.next\n",
    "    return head.next"
   ]
  },
  {
   "cell_type": "markdown",
   "id": "4b80e9f9",
   "metadata": {},
   "source": [
    "#### Display Circular Linked List"
   ]
  },
  {
   "cell_type": "code",
   "execution_count": 15,
   "id": "af1d2fe5",
   "metadata": {},
   "outputs": [],
   "source": [
    "def displayList(head):\n",
    "    #code here\n",
    "    curr = head\n",
    "    arr = []\n",
    "    while curr.next != head:\n",
    "        arr.append(curr.data)\n",
    "        curr = curr.next\n",
    "    arr.append(curr.data)\n",
    "    return arr"
   ]
  },
  {
   "cell_type": "markdown",
   "id": "b2e3c5ef",
   "metadata": {},
   "source": [
    "#### Circular Linked List Delete at Position"
   ]
  },
  {
   "cell_type": "code",
   "execution_count": 17,
   "id": "884bc8fd",
   "metadata": {},
   "outputs": [],
   "source": [
    "def deleteAtPosition(head,pos):\n",
    "    #code here\n",
    "    if head == None:\n",
    "        return\n",
    "    elif pos == 1:\n",
    "        curr = head\n",
    "        while curr.next != head:\n",
    "            curr = curr.next\n",
    "        curr.next = head.next\n",
    "        return head.next\n",
    "    else:\n",
    "        curr = head\n",
    "        for _ in range(pos - 2):\n",
    "            curr = curr.next\n",
    "        curr.next = curr.next.next\n",
    "        return head"
   ]
  },
  {
   "cell_type": "markdown",
   "id": "f59813e8",
   "metadata": {},
   "source": [
    "#### Delete Tail of Circular Linked List"
   ]
  },
  {
   "cell_type": "code",
   "execution_count": 19,
   "id": "4f08f086",
   "metadata": {},
   "outputs": [],
   "source": [
    "def deleteTail(head):\n",
    "    #code here\n",
    "    curr = head\n",
    "    while curr.next.next != head:\n",
    "        curr = curr.next\n",
    "    curr.next = curr.next.next\n",
    "    return head"
   ]
  },
  {
   "cell_type": "markdown",
   "id": "b3b2e85a",
   "metadata": {},
   "source": [
    "#### Check If Circular Linked List"
   ]
  },
  {
   "cell_type": "code",
   "execution_count": 1,
   "id": "8249114a",
   "metadata": {},
   "outputs": [],
   "source": [
    "def isCircular(head):\n",
    "    # Code here\n",
    "    curr = head\n",
    "    curr = curr.next\n",
    "    while curr != None:\n",
    "        if curr == head:\n",
    "            return 1\n",
    "        curr = curr.next\n",
    "    return 0"
   ]
  },
  {
   "cell_type": "markdown",
   "id": "0209fa7b",
   "metadata": {},
   "source": [
    "#### Find Middle of Circular Doubly Linked List"
   ]
  },
  {
   "cell_type": "code",
   "execution_count": 5,
   "id": "60fc3502",
   "metadata": {},
   "outputs": [],
   "source": [
    "def findMiddle(self, head):\n",
    "    #code here\n",
    "    slow = head\n",
    "    fast = head\n",
    "    while fast.next != head:\n",
    "        slow = slow.next\n",
    "        fast = fast.next.next\n",
    "        return slow.data"
   ]
  },
  {
   "cell_type": "markdown",
   "id": "49c04c40",
   "metadata": {},
   "source": [
    "#### Delete node in Doubly Linked List"
   ]
  },
  {
   "cell_type": "code",
   "execution_count": 7,
   "id": "e0cd5b7f",
   "metadata": {},
   "outputs": [],
   "source": [
    "def deleteNode(self,head, x):\n",
    "        # Code here\n",
    "        if head == None:\n",
    "            return None\n",
    "        elif head.next == None:\n",
    "            return None\n",
    "        elif x == 1:\n",
    "            head = head.next\n",
    "            head.prev = None\n",
    "            return head\n",
    "        else:\n",
    "            curr = head\n",
    "            count = 1\n",
    "            while count != x-1:\n",
    "                curr = curr.next\n",
    "                count += 1\n",
    "            curr.next = curr.next.next\n",
    "            return head"
   ]
  }
 ],
 "metadata": {
  "kernelspec": {
   "display_name": "Python 3 (ipykernel)",
   "language": "python",
   "name": "python3"
  },
  "language_info": {
   "codemirror_mode": {
    "name": "ipython",
    "version": 3
   },
   "file_extension": ".py",
   "mimetype": "text/x-python",
   "name": "python",
   "nbconvert_exporter": "python",
   "pygments_lexer": "ipython3",
   "version": "3.10.6"
  }
 },
 "nbformat": 4,
 "nbformat_minor": 5
}

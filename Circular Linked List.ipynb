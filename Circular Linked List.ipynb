{
 "cells": [
  {
   "cell_type": "markdown",
   "id": "f1f30f27",
   "metadata": {},
   "source": [
    "# Circular Linked List\n",
    "\n",
    "\n",
    "A circular linked list is a type of linked list in which the first and the last nodes are also connected to each other to form a circle."
   ]
  },
  {
   "cell_type": "code",
   "execution_count": 4,
   "id": "1fa2c14f",
   "metadata": {},
   "outputs": [],
   "source": [
    "class Node:\n",
    "    def __init__(self,key):\n",
    "        self.key = key\n",
    "        self.next = None"
   ]
  },
  {
   "cell_type": "code",
   "execution_count": 5,
   "id": "09329760",
   "metadata": {},
   "outputs": [],
   "source": [
    "head = Node(10)\n",
    "head.next = Node(12)\n",
    "head.next.next = Node(15)\n",
    "head.next.next.next = Node(20)\n",
    "head.next.next.next.next = head"
   ]
  },
  {
   "cell_type": "code",
   "execution_count": null,
   "id": "2371c6a9",
   "metadata": {},
   "outputs": [],
   "source": []
  }
 ],
 "metadata": {
  "kernelspec": {
   "display_name": "Python 3 (ipykernel)",
   "language": "python",
   "name": "python3"
  },
  "language_info": {
   "codemirror_mode": {
    "name": "ipython",
    "version": 3
   },
   "file_extension": ".py",
   "mimetype": "text/x-python",
   "name": "python",
   "nbconvert_exporter": "python",
   "pygments_lexer": "ipython3",
   "version": "3.10.6"
  }
 },
 "nbformat": 4,
 "nbformat_minor": 5
}

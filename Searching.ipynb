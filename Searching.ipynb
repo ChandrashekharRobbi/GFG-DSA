{
 "cells": [
  {
   "cell_type": "markdown",
   "metadata": {
    "id": "jEK5Asp9P4XV"
   },
   "source": [
    "# Searching \n",
    "\n",
    "Make the below links workable??\n",
    "[Click Me](https://nbviewer.org/github/ChandrashekharRobbi/GFG-DSA/blob/main/Searching.ipynb?flush_cache=true)\n",
    "\n",
    "\n",
    "1. [Binary Search](#Binary-search)\n",
    "2. [Recursive Binary Search](#Recursive-Binary-Search)\n",
    "\n",
    "\n",
    "*Some Problems*\n",
    "\n",
    "1. [Index of First Occurrence in a Sorted Array](#Index-of-First-Occurrence-in-a-Sorted-Array)\n",
    "2. [Index of last occurence in a sorted array](#Index-of-last-occurence-in-a-sorted-array)\n",
    "3. [Count Occurrences in a Sorted Array](#Count-Occurrences-in-a-Sorted-Array)"
   ]
  },
  {
   "cell_type": "markdown",
   "metadata": {
    "id": "KN3PGbCXPYbN"
   },
   "source": [
    "# **Binary search**\n",
    "#### Naive Base - O(n)"
   ]
  },
  {
   "cell_type": "code",
   "execution_count": 1,
   "metadata": {
    "id": "Ak5lxWngQS7a"
   },
   "outputs": [],
   "source": [
    "def bSearch_naive(list,x):\n",
    "  count = 0\n",
    "  for i in list:\n",
    "    if i == x:\n",
    "      return count\n",
    "    count += 1\n",
    "  return -1"
   ]
  },
  {
   "cell_type": "code",
   "execution_count": 2,
   "metadata": {
    "colab": {
     "base_uri": "https://localhost:8080/"
    },
    "id": "8x-3Rms0QwrH",
    "outputId": "b3447588-18c5-48f3-dd9f-15c99100ff83"
   },
   "outputs": [
    {
     "data": {
      "text/plain": [
       "-1"
      ]
     },
     "execution_count": 2,
     "metadata": {},
     "output_type": "execute_result"
    }
   ],
   "source": [
    "bSearch_naive([10,20,30,40,50,60],11)"
   ]
  },
  {
   "cell_type": "markdown",
   "metadata": {
    "id": "Wv5rDFSHQ_Yf"
   },
   "source": [
    "#### log(n) method"
   ]
  },
  {
   "cell_type": "code",
   "execution_count": 3,
   "metadata": {
    "id": "WPY8W9eJRMfv"
   },
   "outputs": [],
   "source": [
    "def bSearch_log(list,x):\n",
    "  l = 0\n",
    "  h = len(list) - 1\n",
    "  while l <= h:\n",
    "    mid = (l + h)//2\n",
    "    if list[mid] == x:\n",
    "      return mid\n",
    "    elif list[mid] < x:\n",
    "      l = mid + 1\n",
    "    else:\n",
    "      h = mid - 1\n",
    "  return -1"
   ]
  },
  {
   "cell_type": "code",
   "execution_count": 4,
   "metadata": {
    "colab": {
     "base_uri": "https://localhost:8080/"
    },
    "id": "Qa0CpGqURtc8",
    "outputId": "2334b4bd-3efe-48a4-e936-b6a32ca875f9"
   },
   "outputs": [
    {
     "data": {
      "text/plain": [
       "-1"
      ]
     },
     "execution_count": 4,
     "metadata": {},
     "output_type": "execute_result"
    }
   ],
   "source": [
    "bSearch_log([10,20,30,40,50,60],25)"
   ]
  },
  {
   "cell_type": "markdown",
   "metadata": {
    "id": "b4shDxI5Rypb"
   },
   "source": [
    "# **Recursive Binary Search**"
   ]
  },
  {
   "cell_type": "code",
   "execution_count": 5,
   "metadata": {
    "id": "f1XgXTyRXDgW"
   },
   "outputs": [],
   "source": [
    "l = [10,20,30,40,50,60]"
   ]
  },
  {
   "cell_type": "markdown",
   "metadata": {
    "id": "UU2D_Pq8XW-e"
   },
   "source": [
    "#### Without wrapper function"
   ]
  },
  {
   "cell_type": "code",
   "execution_count": 6,
   "metadata": {
    "id": "s_8qNC5kVh8L"
   },
   "outputs": [],
   "source": [
    "def rec_binary_search_log(list, x, low, high):\n",
    "  if low > high:\n",
    "    return -1\n",
    "  mid = (low + high)//2\n",
    "  if list[mid] == x:\n",
    "    return mid\n",
    "  elif list[mid] > x:\n",
    "    return rec_binary_search_log(list,x,low,mid-1)\n",
    "  else:\n",
    "    return rec_binary_search_log(list,x,mid+1,high)\n",
    "    "
   ]
  },
  {
   "cell_type": "code",
   "execution_count": 7,
   "metadata": {
    "colab": {
     "base_uri": "https://localhost:8080/"
    },
    "id": "C5bnrXkpXAAe",
    "outputId": "14f4a52b-40be-4be0-a613-c5b2d85a6a08"
   },
   "outputs": [
    {
     "data": {
      "text/plain": [
       "3"
      ]
     },
     "execution_count": 7,
     "metadata": {},
     "output_type": "execute_result"
    }
   ],
   "source": [
    "rec_binary_search_log(l,40,0,len(l)-1)"
   ]
  },
  {
   "cell_type": "code",
   "execution_count": 8,
   "metadata": {
    "colab": {
     "base_uri": "https://localhost:8080/"
    },
    "id": "zX9MJrCqXKvk",
    "outputId": "33700b14-6a6f-4c64-99eb-2de8b988f05a"
   },
   "outputs": [
    {
     "data": {
      "text/plain": [
       "-1"
      ]
     },
     "execution_count": 8,
     "metadata": {},
     "output_type": "execute_result"
    }
   ],
   "source": [
    "rec_binary_search_log(l,15,0,len(l)-1)"
   ]
  },
  {
   "cell_type": "markdown",
   "metadata": {
    "id": "2PXQ2wQEXRcb"
   },
   "source": [
    "#### Let's try with wrapper function"
   ]
  },
  {
   "cell_type": "code",
   "execution_count": 9,
   "metadata": {
    "id": "Ik7ZGihqXerO"
   },
   "outputs": [],
   "source": [
    "def rec_binary_search_log_wrap(list,x):\n",
    "  return rec_binary_search_log(list,x,0,len(list)-1)"
   ]
  },
  {
   "cell_type": "code",
   "execution_count": 10,
   "metadata": {
    "colab": {
     "base_uri": "https://localhost:8080/"
    },
    "id": "SLH6LgeeXqMX",
    "outputId": "d86061fe-4894-41c8-b244-f21308354b71"
   },
   "outputs": [
    {
     "data": {
      "text/plain": [
       "3"
      ]
     },
     "execution_count": 10,
     "metadata": {},
     "output_type": "execute_result"
    }
   ],
   "source": [
    "rec_binary_search_log_wrap(l,40)"
   ]
  },
  {
   "cell_type": "markdown",
   "metadata": {
    "id": "nJTlqBjwXs_u"
   },
   "source": [
    "#### Index of First Occurrence in a Sorted Array"
   ]
  },
  {
   "cell_type": "markdown",
   "metadata": {
    "id": "OQSPtE7DZ2az"
   },
   "source": [
    "#### naive approach - O(n)"
   ]
  },
  {
   "cell_type": "code",
   "execution_count": 11,
   "metadata": {
    "id": "PKwnakL2aUXr"
   },
   "outputs": [],
   "source": [
    "l = [10,10,10,20,20,30,40]"
   ]
  },
  {
   "cell_type": "code",
   "execution_count": 12,
   "metadata": {
    "id": "mhPF7-dRZ6Q2"
   },
   "outputs": [],
   "source": [
    "def naive_first_occur(list,x):\n",
    "  for i in range(0,len(list)):\n",
    "    if list[i] == x:\n",
    "      return i\n",
    "  return -1"
   ]
  },
  {
   "cell_type": "code",
   "execution_count": 13,
   "metadata": {
    "colab": {
     "base_uri": "https://localhost:8080/"
    },
    "id": "lFC82AQkaIwo",
    "outputId": "95c54a77-a73f-4fb8-fa8f-3c55fe51eb06"
   },
   "outputs": [
    {
     "data": {
      "text/plain": [
       "6"
      ]
     },
     "execution_count": 13,
     "metadata": {},
     "output_type": "execute_result"
    }
   ],
   "source": [
    "naive_first_occur(l,40)"
   ]
  },
  {
   "cell_type": "markdown",
   "metadata": {
    "id": "WwgPrznYaLVf"
   },
   "source": [
    "#### Recursive approach\n",
    "\n",
    "It takes O(log(n)) time \n",
    "auxillary space O(log(n))"
   ]
  },
  {
   "cell_type": "code",
   "execution_count": 14,
   "metadata": {
    "id": "I2RQu_erdohg"
   },
   "outputs": [],
   "source": [
    "def rec_first_occur(list,x,low,high):\n",
    "  if low > high:\n",
    "    return -1\n",
    "  mid = (low + high)//2\n",
    "  if list[mid] < x:\n",
    "    low = mid + 1\n",
    "    return rec_first_occur(l,x,low,high)\n",
    "  elif list[mid] > x:\n",
    "    high = mid - 1\n",
    "    return rec_first_occur(l,x,low,high)\n",
    "  else:\n",
    "    if mid == 0 or list[mid - 1] != list[mid]:\n",
    "      return mid\n",
    "    else:\n",
    "      return rec_first_occur(list,x,low,mid-1)"
   ]
  },
  {
   "cell_type": "code",
   "execution_count": 15,
   "metadata": {
    "colab": {
     "base_uri": "https://localhost:8080/"
    },
    "id": "-XEBjwp_ezwI",
    "outputId": "277e49e2-da29-4b86-c489-3e42317fb27c"
   },
   "outputs": [
    {
     "data": {
      "text/plain": [
       "[10, 10, 10, 20, 20, 30, 40]"
      ]
     },
     "execution_count": 15,
     "metadata": {},
     "output_type": "execute_result"
    }
   ],
   "source": [
    "l"
   ]
  },
  {
   "cell_type": "code",
   "execution_count": 16,
   "metadata": {
    "colab": {
     "base_uri": "https://localhost:8080/"
    },
    "id": "B1ZwQD_ke07M",
    "outputId": "af861ad6-7aa7-49e8-a741-160eb607e9f9"
   },
   "outputs": [
    {
     "data": {
      "text/plain": [
       "3"
      ]
     },
     "execution_count": 16,
     "metadata": {},
     "output_type": "execute_result"
    }
   ],
   "source": [
    "rec_first_occur(l,20,0,len(l)-1)"
   ]
  },
  {
   "cell_type": "code",
   "execution_count": 17,
   "metadata": {
    "colab": {
     "base_uri": "https://localhost:8080/"
    },
    "id": "M5OWrgM7e60N",
    "outputId": "d85c441d-1cd7-4513-c950-49e0d19f2ef2"
   },
   "outputs": [
    {
     "data": {
      "text/plain": [
       "0"
      ]
     },
     "execution_count": 17,
     "metadata": {},
     "output_type": "execute_result"
    }
   ],
   "source": [
    "rec_first_occur(l,10,0,len(l)-1)"
   ]
  },
  {
   "cell_type": "markdown",
   "metadata": {
    "id": "Bq6Aw9EafBnG"
   },
   "source": [
    "#### Lets try with normal approach\n",
    "\n",
    "Which takes O(n) time and O(1) space"
   ]
  },
  {
   "cell_type": "code",
   "execution_count": 18,
   "metadata": {
    "id": "nHPqorZxgRIq"
   },
   "outputs": [],
   "source": [
    "def normal_first_occur(list,x):\n",
    "  low = 0\n",
    "  high = len(list) - 1\n",
    "  while low <= high:\n",
    "    mid = (low + high) // 2\n",
    "    if list[mid] > x:\n",
    "      high = mid - 1\n",
    "    elif list[mid] < x:\n",
    "      low = mid + 1\n",
    "    else:\n",
    "      if mid == 0 or list[mid - 1] != list[mid]:\n",
    "        return mid\n",
    "      else:\n",
    "        high = mid - 1\n",
    "  return -1"
   ]
  },
  {
   "cell_type": "code",
   "execution_count": 19,
   "metadata": {
    "colab": {
     "base_uri": "https://localhost:8080/"
    },
    "id": "nolHRrV6iPra",
    "outputId": "e20a80ef-9872-4c7d-b536-e87da2d071cd"
   },
   "outputs": [
    {
     "data": {
      "text/plain": [
       "3"
      ]
     },
     "execution_count": 19,
     "metadata": {},
     "output_type": "execute_result"
    }
   ],
   "source": [
    "normal_first_occur(l,20)"
   ]
  },
  {
   "cell_type": "code",
   "execution_count": 20,
   "metadata": {
    "colab": {
     "base_uri": "https://localhost:8080/"
    },
    "id": "Z1A0AGDuiSLY",
    "outputId": "9dbae63c-ede3-4355-a0f5-0da29e699a2b"
   },
   "outputs": [
    {
     "data": {
      "text/plain": [
       "0"
      ]
     },
     "execution_count": 20,
     "metadata": {},
     "output_type": "execute_result"
    }
   ],
   "source": [
    "normal_first_occur(l,10)"
   ]
  },
  {
   "cell_type": "markdown",
   "metadata": {
    "id": "_scGLPd8jpgY"
   },
   "source": [
    "#### Index of last occurence in a sorted array"
   ]
  },
  {
   "cell_type": "markdown",
   "metadata": {
    "id": "VLd8f9jClryN"
   },
   "source": [
    "#### naive approach"
   ]
  },
  {
   "cell_type": "code",
   "execution_count": 21,
   "metadata": {
    "colab": {
     "base_uri": "https://localhost:8080/"
    },
    "id": "-BdJejXflxnd",
    "outputId": "e7b7ddcf-a6ba-434f-b9a0-365b19066339"
   },
   "outputs": [
    {
     "data": {
      "text/plain": [
       "[10, 10, 10, 20, 20, 30, 40]"
      ]
     },
     "execution_count": 21,
     "metadata": {},
     "output_type": "execute_result"
    }
   ],
   "source": [
    "l"
   ]
  },
  {
   "cell_type": "code",
   "execution_count": 22,
   "metadata": {
    "id": "7BGxhzyBl10Q"
   },
   "outputs": [],
   "source": [
    "def naive_last_occur(list,x):\n",
    "  count = 0\n",
    "  for i in reversed(l):\n",
    "    if i == x:\n",
    "      n = (len(list) - 1) - count\n",
    "      return n\n",
    "    count += 1\n",
    "  return -1"
   ]
  },
  {
   "cell_type": "code",
   "execution_count": 23,
   "metadata": {
    "colab": {
     "base_uri": "https://localhost:8080/"
    },
    "id": "U_jUi1zHl_zR",
    "outputId": "df24920e-9327-4eef-82cf-7ef5a945f16e"
   },
   "outputs": [
    {
     "data": {
      "text/plain": [
       "2"
      ]
     },
     "execution_count": 23,
     "metadata": {},
     "output_type": "execute_result"
    }
   ],
   "source": [
    "naive_last_occur(l,10)"
   ]
  },
  {
   "cell_type": "markdown",
   "metadata": {
    "id": "UNSHOv4EmCrQ"
   },
   "source": [
    "#### recursive approach"
   ]
  },
  {
   "cell_type": "code",
   "execution_count": 24,
   "metadata": {
    "id": "t6sb_AFWmKi5"
   },
   "outputs": [],
   "source": [
    "def rec_last_occur(list,x,low,high):\n",
    "  if low > high:\n",
    "    return -1\n",
    "  mid = (low + high) // 2\n",
    "  if list[mid] > x:\n",
    "    high = mid - 1\n",
    "    return rec_last_occur(list,x,low,high)\n",
    "  elif list[mid] < x:\n",
    "    low = mid + 1\n",
    "    return rec_last_occur(list,x,low,high)\n",
    "  else:\n",
    "    if mid == -1 or list[mid + 1] != list[mid]:\n",
    "      return mid\n",
    "    else:\n",
    "      return rec_last_occur(list,x,mid + 1,high)\n"
   ]
  },
  {
   "cell_type": "code",
   "execution_count": 25,
   "metadata": {
    "colab": {
     "base_uri": "https://localhost:8080/"
    },
    "id": "cNLHWjSCnyFa",
    "outputId": "6d56c3ce-3597-457d-dfa9-f36a01e16d07"
   },
   "outputs": [
    {
     "data": {
      "text/plain": [
       "4"
      ]
     },
     "execution_count": 25,
     "metadata": {},
     "output_type": "execute_result"
    }
   ],
   "source": [
    "rec_last_occur(l,20,0,len(l)-1)"
   ]
  },
  {
   "cell_type": "code",
   "execution_count": 26,
   "metadata": {
    "colab": {
     "base_uri": "https://localhost:8080/"
    },
    "id": "9httombrn2gI",
    "outputId": "4ee7019e-29f4-4e04-d2d4-1996fa96abbb"
   },
   "outputs": [
    {
     "data": {
      "text/plain": [
       "[10, 10, 10, 20, 20, 30, 40]"
      ]
     },
     "execution_count": 26,
     "metadata": {},
     "output_type": "execute_result"
    }
   ],
   "source": [
    "l"
   ]
  },
  {
   "cell_type": "code",
   "execution_count": 27,
   "metadata": {
    "colab": {
     "base_uri": "https://localhost:8080/"
    },
    "id": "Ag5CABSkn3Rx",
    "outputId": "72a0d275-d7f7-419e-b735-97127a120114"
   },
   "outputs": [
    {
     "data": {
      "text/plain": [
       "2"
      ]
     },
     "execution_count": 27,
     "metadata": {},
     "output_type": "execute_result"
    }
   ],
   "source": [
    "rec_last_occur(l,10,0,len(l)-1)"
   ]
  },
  {
   "cell_type": "markdown",
   "metadata": {
    "id": "nq_94sVZn8oo"
   },
   "source": [
    "#### Count Occurrences in a Sorted Array"
   ]
  },
  {
   "cell_type": "markdown",
   "metadata": {
    "id": "rvJgKN2KoRo2"
   },
   "source": [
    "#### naive approach"
   ]
  },
  {
   "cell_type": "code",
   "execution_count": 28,
   "metadata": {
    "id": "Tt9STNF1oTcG"
   },
   "outputs": [],
   "source": [
    "def naive_count_occur(list,x):\n",
    "  count = 0\n",
    "  for i in l:\n",
    "    if i == x:\n",
    "      count += 1\n",
    "  return count"
   ]
  },
  {
   "cell_type": "code",
   "execution_count": 29,
   "metadata": {
    "colab": {
     "base_uri": "https://localhost:8080/"
    },
    "id": "6n3hotShodvq",
    "outputId": "739bfa7b-8d37-4f59-d7d8-494ff1f44df7"
   },
   "outputs": [
    {
     "data": {
      "text/plain": [
       "3"
      ]
     },
     "execution_count": 29,
     "metadata": {},
     "output_type": "execute_result"
    }
   ],
   "source": [
    "naive_count_occur(l,10)"
   ]
  },
  {
   "cell_type": "code",
   "execution_count": 30,
   "metadata": {
    "colab": {
     "base_uri": "https://localhost:8080/"
    },
    "id": "vRbL_Mh0ogMi",
    "outputId": "2ee3c3d9-97b8-4336-847b-576ae8de2ab6"
   },
   "outputs": [
    {
     "data": {
      "text/plain": [
       "1"
      ]
     },
     "execution_count": 30,
     "metadata": {},
     "output_type": "execute_result"
    }
   ],
   "source": [
    "naive_count_occur(l,30)"
   ]
  },
  {
   "cell_type": "markdown",
   "metadata": {
    "id": "x1Q0hLyPokCz"
   },
   "source": [
    "#### Well this is a combination of both first and last occcurence"
   ]
  },
  {
   "cell_type": "code",
   "execution_count": 31,
   "metadata": {
    "id": "SdrN98CoonLX"
   },
   "outputs": [],
   "source": [
    "def Count_occur(list,x):\n",
    "  first = naive_first_occur(list,x)\n",
    "  if first == -1:\n",
    "    return 0\n",
    "  else:\n",
    "    return naive_last_occur(list,x) - first + 1"
   ]
  },
  {
   "cell_type": "code",
   "execution_count": 32,
   "metadata": {
    "colab": {
     "base_uri": "https://localhost:8080/"
    },
    "id": "zlFuqFEGp0G0",
    "outputId": "b9bcc475-5421-4796-f35d-21593c20c277"
   },
   "outputs": [
    {
     "data": {
      "text/plain": [
       "3"
      ]
     },
     "execution_count": 32,
     "metadata": {},
     "output_type": "execute_result"
    }
   ],
   "source": [
    "Count_occur(l,10)"
   ]
  },
  {
   "cell_type": "code",
   "execution_count": 33,
   "metadata": {
    "colab": {
     "base_uri": "https://localhost:8080/"
    },
    "id": "gqnKeH2cp3BM",
    "outputId": "a17c2a16-7027-4623-bbc7-9cf405cacc9a"
   },
   "outputs": [
    {
     "data": {
      "text/plain": [
       "2"
      ]
     },
     "execution_count": 33,
     "metadata": {},
     "output_type": "execute_result"
    }
   ],
   "source": [
    "Count_occur(l,20)"
   ]
  },
  {
   "cell_type": "code",
   "execution_count": 34,
   "metadata": {
    "id": "nqvJwPaNp7nT"
   },
   "outputs": [],
   "source": [
    "def CountOccurComplete(list,x,low,high):\n",
    "  def first_occur(list,x,low,high):\n",
    "    while low <= high:\n",
    "      mid = (low + high) // 2\n",
    "      if list[mid] < x:\n",
    "        low = mid + 1\n",
    "      elif list[mid] > x:\n",
    "        high = mid - 1\n",
    "      else:\n",
    "        if mid == 0 or list[mid - 1] != list[mid]:\n",
    "          return mid\n",
    "        else:\n",
    "          high = mid - 1\n",
    "  return -1\n",
    "  def last_occur(list,x,low,high):\n",
    "    while low <= high:\n",
    "      mid = (low + high) // 2\n",
    "      if list[mid] > x:\n",
    "        high = mid - 1\n",
    "      elif list[mid] < x:\n",
    "        low = mid + 1\n",
    "      else:\n",
    "        if mid == -1 or list[mid + 1] != list[mid]:\n",
    "          return mid\n",
    "        else:\n",
    "          low = mid + 1\n",
    "  return -1\n",
    "  first = first_occur(l,10,0,len(l)-1)\n",
    "  if first == -1:\n",
    "    return 0\n",
    "  else:\n",
    "    return last_occur(l,10,0,len(l)-1) - first + 1"
   ]
  },
  {
   "cell_type": "code",
   "execution_count": 35,
   "metadata": {
    "colab": {
     "base_uri": "https://localhost:8080/"
    },
    "id": "At1g_5OyrbMt",
    "outputId": "fd61e992-22a4-4bcb-dd46-1f7490c35141"
   },
   "outputs": [
    {
     "data": {
      "text/plain": [
       "-1"
      ]
     },
     "execution_count": 35,
     "metadata": {},
     "output_type": "execute_result"
    }
   ],
   "source": [
    "CountOccurComplete(l,10,0,len(l)-1)"
   ]
  },
  {
   "cell_type": "code",
   "execution_count": null,
   "metadata": {
    "id": "AZHiyoUErdqz"
   },
   "outputs": [],
   "source": []
  }
 ],
 "metadata": {
  "colab": {
   "provenance": []
  },
  "kernelspec": {
   "display_name": "Python 3 (ipykernel)",
   "language": "python",
   "name": "python3"
  },
  "language_info": {
   "codemirror_mode": {
    "name": "ipython",
    "version": 3
   },
   "file_extension": ".py",
   "mimetype": "text/x-python",
   "name": "python",
   "nbconvert_exporter": "python",
   "pygments_lexer": "ipython3",
   "version": "3.10.10"
  }
 },
 "nbformat": 4,
 "nbformat_minor": 1
}

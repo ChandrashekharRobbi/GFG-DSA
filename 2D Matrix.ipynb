{
 "cells": [
  {
   "cell_type": "markdown",
   "id": "6b72f4a5",
   "metadata": {},
   "source": [
    "# 2D Matrix\n",
    "\n",
    "1. Jacket array: where each row doesnt have same no of columns\n",
    "\n",
    "\n",
    "**Problems**\n",
    "\n",
    "\n",
    "\n"
   ]
  },
  {
   "cell_type": "code",
   "execution_count": 17,
   "id": "8324f20f",
   "metadata": {},
   "outputs": [
    {
     "name": "stdout",
     "output_type": "stream",
     "text": [
      "Note that after executing new function your next cell will automatically converted to markdown cell :)\n"
     ]
    }
   ],
   "source": [
    "%run imp_personal.py\n",
    "z = MyFunction()"
   ]
  },
  {
   "cell_type": "code",
   "execution_count": 25,
   "id": "273d1144",
   "metadata": {},
   "outputs": [
    {
     "name": "stdout",
     "output_type": "stream",
     "text": [
      "Successfully added to the comment list\n"
     ]
    }
   ],
   "source": [
    "z.new(\"Traversing a 2D Matrix ( Naive Solution)\")"
   ]
  },
  {
   "cell_type": "markdown",
   "id": "c3edcd7c",
   "metadata": {},
   "source": [
    "#### Traversing a 2D Matrix ( Naive Solution)"
   ]
  },
  {
   "cell_type": "code",
   "execution_count": 26,
   "id": "60adfa0f",
   "metadata": {},
   "outputs": [],
   "source": [
    "arr = [[1,2,3],[4,5,6,7,8]]"
   ]
  },
  {
   "cell_type": "code",
   "execution_count": 27,
   "id": "32f7a3d0",
   "metadata": {},
   "outputs": [
    {
     "name": "stdout",
     "output_type": "stream",
     "text": [
      "|1|2|3|\n",
      "|4|5|6|7|8|\n",
      "Number of rows 2\n",
      "Number of Columns in 1st Row 3\n",
      "Number of COlumns in 2nd Row 5\n"
     ]
    }
   ],
   "source": [
    "for r in arr:\n",
    "    print(\"|\",end=\"\")\n",
    "    for c in r:\n",
    "        print(c, end=\"|\")\n",
    "#         print()\n",
    "    print()\n",
    "    \n",
    "print(\"Number of rows\", len(arr))\n",
    "print(\"Number of Columns in 1st Row\", len(arr[0]))\n",
    "print(\"Number of COlumns in 2nd Row\", len(arr[1]))"
   ]
  },
  {
   "cell_type": "code",
   "execution_count": 29,
   "id": "58d0bec0",
   "metadata": {},
   "outputs": [
    {
     "name": "stdout",
     "output_type": "stream",
     "text": [
      "Successfully added to the comment list\n"
     ]
    }
   ],
   "source": [
    "z.new(\"Traversing a 2D Matrix ( Improve Solution)\")"
   ]
  },
  {
   "cell_type": "markdown",
   "id": "92f07514",
   "metadata": {},
   "source": [
    "#### Traversing a 2D Matrix ( Improve Solution)"
   ]
  },
  {
   "cell_type": "code",
   "execution_count": 31,
   "id": "6f282c17",
   "metadata": {},
   "outputs": [
    {
     "name": "stdout",
     "output_type": "stream",
     "text": [
      "1 2 3 4 5 6 7 8 "
     ]
    }
   ],
   "source": [
    "for i in range(len(arr)):\n",
    "    for j in range(len(arr[i])):\n",
    "        print(arr[i][j], end=\" \")"
   ]
  },
  {
   "cell_type": "code",
   "execution_count": null,
   "id": "14b452d8",
   "metadata": {},
   "outputs": [],
   "source": []
  }
 ],
 "metadata": {
  "kernelspec": {
   "display_name": "Python 3 (ipykernel)",
   "language": "python",
   "name": "python3"
  },
  "language_info": {
   "codemirror_mode": {
    "name": "ipython",
    "version": 3
   },
   "file_extension": ".py",
   "mimetype": "text/x-python",
   "name": "python",
   "nbconvert_exporter": "python",
   "pygments_lexer": "ipython3",
   "version": "3.10.10"
  }
 },
 "nbformat": 4,
 "nbformat_minor": 5
}

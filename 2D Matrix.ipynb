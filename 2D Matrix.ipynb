{
 "cells": [
  {
   "cell_type": "markdown",
   "id": "6b72f4a5",
   "metadata": {},
   "source": [
    "# 2D Matrix\n",
    "\n",
    "1. Jacket array: where each row doesnt have same no of columns\n",
    "\n",
    "Make the below links Workable??\n",
    "[Click Me](https://nbviewer.org/github/ChandrashekharRobbi/GFG-DSA/blob/main/2D%20Matrix.ipynb?flush_cache=True)\n",
    "\n",
    "\n",
    "**Problems**\n",
    "\n",
    "1. [Traversing a 2D Matrix ( Naive Solution)](#Traversing-a-2D-Matrix-(-Naive-Solution))\n",
    "1. [Traversing a 2D Matrix ( Improve Solution)](#Traversing-a-2D-Matrix-(-Improve-Solution))\n",
    "1. [Not Recommended to use this code to create User Dimension 2D array ❌](#Not-Recommended-to-use-this-code-to-create-User-Dimension-2D-array-❌)\n",
    "1. [A logical and perfect way to Create 2D arrays ✅](#A-logical-and-perfect-way-to-Create-2D-arrays-✅)\n",
    "1. [Add 2D array as an argument](#Add-2D-array-as-an-argument)\n",
    "\n",
    "\n",
    "\n"
   ]
  },
  {
   "cell_type": "code",
   "execution_count": 1,
   "id": "8324f20f",
   "metadata": {},
   "outputs": [
    {
     "name": "stdout",
     "output_type": "stream",
     "text": [
      "Note that after executing new function your next cell will automatically converted to markdown cell :)\n"
     ]
    }
   ],
   "source": [
    "%run imp_personal.py\n",
    "z = MyFunction()"
   ]
  },
  {
   "cell_type": "markdown",
   "id": "87fc6417",
   "metadata": {},
   "source": [
    "#### Traversing a 2D Matrix ( Naive Solution)"
   ]
  },
  {
   "cell_type": "code",
   "execution_count": 2,
   "id": "14948801",
   "metadata": {},
   "outputs": [],
   "source": [
    "arr = [[1,2,3],[4,5,6,7,8]]"
   ]
  },
  {
   "cell_type": "code",
   "execution_count": 3,
   "id": "de793c7c",
   "metadata": {},
   "outputs": [
    {
     "name": "stdout",
     "output_type": "stream",
     "text": [
      "|1|2|3|\n",
      "|4|5|6|7|8|\n",
      "Number of rows 2\n",
      "Number of Columns in 1st Row 3\n",
      "Number of COlumns in 2nd Row 5\n"
     ]
    }
   ],
   "source": [
    "for r in arr:\n",
    "    print(\"|\",end=\"\")\n",
    "    for c in r:\n",
    "        print(c, end=\"|\")\n",
    "#         print()\n",
    "    print()\n",
    "    \n",
    "print(\"Number of rows\", len(arr))\n",
    "print(\"Number of Columns in 1st Row\", len(arr[0]))\n",
    "print(\"Number of COlumns in 2nd Row\", len(arr[1]))"
   ]
  },
  {
   "cell_type": "markdown",
   "id": "239f5b9f",
   "metadata": {},
   "source": [
    "#### Traversing a 2D Matrix ( Improve Solution)"
   ]
  },
  {
   "cell_type": "code",
   "execution_count": 4,
   "id": "96f74970",
   "metadata": {},
   "outputs": [
    {
     "name": "stdout",
     "output_type": "stream",
     "text": [
      "1 2 3 \n",
      "4 5 6 7 8 \n"
     ]
    }
   ],
   "source": [
    "for i in range(len(arr)):\n",
    "    for j in range(len(arr[i])):\n",
    "        print(arr[i][j], end=\" \")\n",
    "    print()"
   ]
  },
  {
   "cell_type": "markdown",
   "id": "5b0c4f1f",
   "metadata": {},
   "source": [
    "#### Not Recommended to use this code to create User Dimension 2D array ❌\n",
    "\n",
    "when we updated only `[0][0]` index then the expected output will be:\n",
    "```python\n",
    "[[1, 0, 0, 0], [0, 0, 0, 0], [0, 0, 0, 0]]\n",
    "```\n",
    "But what we will get is \n",
    "```python\n",
    "[[1, 0, 0, 0], [1, 0, 0, 0], [1, 0, 0, 0]]\n",
    "```\n",
    "\n",
    "It is becuase python saves all array in same location"
   ]
  },
  {
   "cell_type": "code",
   "execution_count": 5,
   "id": "8dea517c",
   "metadata": {},
   "outputs": [
    {
     "name": "stdout",
     "output_type": "stream",
     "text": [
      "[[1, 0, 0, 0], [1, 0, 0, 0], [1, 0, 0, 0]]\n"
     ]
    }
   ],
   "source": [
    "rows = 3\n",
    "cols = 4\n",
    "arr = [[0] * cols] * rows\n",
    "arr[0][0] = 1\n",
    "print(arr)"
   ]
  },
  {
   "cell_type": "code",
   "execution_count": 6,
   "id": "bfc7ee5d",
   "metadata": {},
   "outputs": [
    {
     "name": "stdout",
     "output_type": "stream",
     "text": [
      "The address space for arr[0][0] is 2155490836720\n",
      "The address space for arr[1][0] is 2155490836720\n",
      "The address space for arr[2][0] is 2155490836720\n",
      "--------------------------------------------------------------------------------\n",
      "Same address for all the values which are inside an array\n"
     ]
    }
   ],
   "source": [
    "print(f\"The address space for arr[0][0] is {id(arr[0][0])}\\\n",
    "\\nThe address space for arr[1][0] is {id(arr[1][0])}\\\n",
    "\\nThe address space for arr[2][0] is {id(arr[2][0])}\")\n",
    "print(\"-\"*80)\n",
    "print(\"Same address for all the values which are inside an array\")"
   ]
  },
  {
   "cell_type": "markdown",
   "id": "482578db",
   "metadata": {},
   "source": [
    "#### A logical and perfect way to Create 2D arrays ✅"
   ]
  },
  {
   "cell_type": "code",
   "execution_count": 8,
   "id": "6617f66d",
   "metadata": {},
   "outputs": [],
   "source": [
    "arr = [[0 for j in range(cols)] for i in range(rows)]"
   ]
  },
  {
   "cell_type": "code",
   "execution_count": 9,
   "id": "85109887",
   "metadata": {},
   "outputs": [
    {
     "data": {
      "text/plain": [
       "[[0, 0, 0, 0], [0, 0, 0, 0], [0, 0, 0, 0]]"
      ]
     },
     "execution_count": 9,
     "metadata": {},
     "output_type": "execute_result"
    }
   ],
   "source": [
    "arr"
   ]
  },
  {
   "cell_type": "code",
   "execution_count": 10,
   "id": "34e0c72c",
   "metadata": {},
   "outputs": [],
   "source": [
    "arr[0][0] = 1"
   ]
  },
  {
   "cell_type": "code",
   "execution_count": 11,
   "id": "6b1831e6",
   "metadata": {},
   "outputs": [
    {
     "data": {
      "text/plain": [
       "[[1, 0, 0, 0], [0, 0, 0, 0], [0, 0, 0, 0]]"
      ]
     },
     "execution_count": 11,
     "metadata": {},
     "output_type": "execute_result"
    }
   ],
   "source": [
    "arr"
   ]
  },
  {
   "cell_type": "markdown",
   "id": "96f11223",
   "metadata": {},
   "source": [
    "#### see only one value updated as all the values are stored in diff location"
   ]
  },
  {
   "cell_type": "code",
   "execution_count": 12,
   "id": "376c8154",
   "metadata": {},
   "outputs": [
    {
     "name": "stdout",
     "output_type": "stream",
     "text": [
      "The address space for arr[0][0] is 2155490836720\n",
      "The address space for arr[1][0] is 2155490836688\n",
      "The address space for arr[2][0] is 2155490836688\n"
     ]
    }
   ],
   "source": [
    "print(f\"The address space for arr[0][0] is {id(arr[0][0])}\\\n",
    "\\nThe address space for arr[1][0] is {id(arr[1][0])}\\\n",
    "\\nThe address space for arr[2][0] is {id(arr[2][0])}\")"
   ]
  },
  {
   "cell_type": "markdown",
   "id": "95bb8b57",
   "metadata": {},
   "source": [
    "#### Add 2D array as an argument"
   ]
  },
  {
   "cell_type": "code",
   "execution_count": 14,
   "id": "f63ea50d",
   "metadata": {},
   "outputs": [
    {
     "name": "stdout",
     "output_type": "stream",
     "text": [
      "10 8 \n",
      "2 4 \n",
      "5 7 \n"
     ]
    }
   ],
   "source": [
    "def printMatrix(mat):\n",
    "    for i in range(len(mat)): # rows\n",
    "        for j in range(len(mat[0])):\n",
    "            print(mat[i][j], end=\" \")\n",
    "        print()\n",
    "\n",
    "if __name__ == '__main__':\n",
    "    mat = [[10,8],\n",
    "          [2,4],\n",
    "          [5,7]]\n",
    "    printMatrix(mat)"
   ]
  },
  {
   "cell_type": "code",
   "execution_count": 19,
   "id": "9395d385",
   "metadata": {},
   "outputs": [
    {
     "data": {
      "text/plain": [
       "[[10, 8], [2, 4], [5, 7]]"
      ]
     },
     "execution_count": 19,
     "metadata": {},
     "output_type": "execute_result"
    }
   ],
   "source": [
    "mat"
   ]
  },
  {
   "cell_type": "code",
   "execution_count": 20,
   "id": "a1ca5fdc",
   "metadata": {},
   "outputs": [
    {
     "name": "stdout",
     "output_type": "stream",
     "text": [
      "Successfully added to the comment list\n"
     ]
    }
   ],
   "source": [
    "z.new(\"Matrix in Snake Pattern\")"
   ]
  },
  {
   "cell_type": "markdown",
   "id": "5bcd1081",
   "metadata": {},
   "source": [
    "#### Matrix in Snake Pattern"
   ]
  },
  {
   "cell_type": "code",
   "execution_count": 21,
   "id": "950e7ded",
   "metadata": {},
   "outputs": [],
   "source": [
    "def mat_snake(mat):\n",
    "    r= len(mat)\n",
    "    c= len(mat[0])\n",
    "    for i in range(r):\n",
    "        if i % 2== 0:\n",
    "            for j in range(c):\n",
    "                print(mat[i][j], end = \" \")\n",
    "        else:\n",
    "            for j in range(c-1, -1, -1):\n",
    "                print(mat[i][j],end= \" \")\n",
    "            "
   ]
  },
  {
   "cell_type": "code",
   "execution_count": 22,
   "id": "1a6863db",
   "metadata": {},
   "outputs": [
    {
     "name": "stdout",
     "output_type": "stream",
     "text": [
      "10 8 4 2 5 7 "
     ]
    }
   ],
   "source": [
    "mat_snake(mat)"
   ]
  },
  {
   "cell_type": "code",
   "execution_count": 23,
   "id": "1e19d45f",
   "metadata": {},
   "outputs": [
    {
     "name": "stdout",
     "output_type": "stream",
     "text": [
      "Successfully added to the comment list\n"
     ]
    }
   ],
   "source": [
    "z.new(\"Boundary Traversal\")"
   ]
  },
  {
   "cell_type": "markdown",
   "id": "b371c152",
   "metadata": {},
   "source": [
    "#### Boundary Traversal"
   ]
  },
  {
   "cell_type": "code",
   "execution_count": null,
   "id": "0c035c49",
   "metadata": {},
   "outputs": [],
   "source": [
    "def boundary_traversal(mat):\n",
    "    # lenght of no of rows and columns\n",
    "    r = len(mat)\n",
    "    c = len(mat[0])\n",
    "    # corner cases\n",
    "    if r == 1:\n",
    "        for i in range(c):\n",
    "            print(mat[r][c], end= \" \")\n",
    "    if c == 1:\n",
    "        for i in range(r):\n",
    "            print(mat[r][c], end = \" \")\n",
    "    else:\n",
    "        # first row\n",
    "        for i  in range(c):\n",
    "            print(mat[r][i], end =\" \")\n",
    "        # along column\n",
    "        for i in range(1, r):\n",
    "            "
   ]
  }
 ],
 "metadata": {
  "kernelspec": {
   "display_name": "Python 3 (ipykernel)",
   "language": "python",
   "name": "python3"
  },
  "language_info": {
   "codemirror_mode": {
    "name": "ipython",
    "version": 3
   },
   "file_extension": ".py",
   "mimetype": "text/x-python",
   "name": "python",
   "nbconvert_exporter": "python",
   "pygments_lexer": "ipython3",
   "version": "3.10.10"
  }
 },
 "nbformat": 4,
 "nbformat_minor": 5
}

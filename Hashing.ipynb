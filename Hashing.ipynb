{
 "cells": [
  {
   "cell_type": "markdown",
   "metadata": {},
   "source": [
    "# Hashing\n",
    "\n",
    "Hashing is a technique or process of mapping keys, and values into the hash table by using a hash function. It is done for faster access to elements. The efficiency of mapping depends on the efficiency of the hash function used.\n",
    "\n",
    "* Search\n",
    "* Insert\n",
    "* Delete\n",
    "> All operations are done in O(1) on average in hashing\n",
    "\n",
    "*Not Useful for*\n",
    "1. Finding closest value (AVL Tree Data Structure used)\n",
    "2. Sorted Data (AVL Tree Data Structure used)\n",
    "3. Prefix Searching (Trie Data Structure used )\n",
    "\n",
    "*Collision Handling*\n",
    "\n",
    "1. Chaining\n",
    "    * [Implementation of Chaining](#Implementation-of-Chaining)\n",
    "2. Open Addressing \n",
    "    1. Linear Probing\n",
    "        * [Implementation of Linear Probing](#Implementation-of-Linear-Probing)\n",
    "    2. Quadratic Probing\n",
    "    3. Double Hashing\n",
    "    \n",
    "    \n",
    "**Problems**\n",
    "\n",
    "1. [Frequencies of Array Elements](#Frequencies-of-Array-Elements)"
   ]
  },
  {
   "cell_type": "markdown",
   "metadata": {},
   "source": [
    "# Collision Handling"
   ]
  },
  {
   "cell_type": "markdown",
   "metadata": {},
   "source": [
    "## Chaining\n",
    "\n",
    "\n",
    "* It creates a link in the same index of an array"
   ]
  },
  {
   "cell_type": "markdown",
   "metadata": {},
   "source": [
    "#### Implementation of Chaining"
   ]
  },
  {
   "cell_type": "code",
   "execution_count": 1,
   "metadata": {},
   "outputs": [],
   "source": [
    "class MyHash:\n",
    "    def __init__(self,b):\n",
    "        self.BUCKET = b\n",
    "        self.table = [[] for x in range(b)]\n",
    "        \n",
    "    def hashFunction(self,x):\n",
    "        i = x % self.BUCKET\n",
    "        return i\n",
    "    \n",
    "    def insert(self, x):\n",
    "        i = self.hashFunction(x)\n",
    "        self.table[i].append(x)\n",
    "        print(self.table)\n",
    "        \n",
    "    def remove(self,x):\n",
    "        i = self.hashFunction(x)\n",
    "        \n",
    "        if x in self.table[i]:\n",
    "            self.table[i].remove(x)\n",
    "            print(self.table)\n",
    "        else:\n",
    "            print(\"Item is not present in Hash Table\")\n",
    "            \n",
    "    def search(self,x):\n",
    "        i = self.hashFunction(x)\n",
    "        return x in self.table[i]"
   ]
  },
  {
   "cell_type": "code",
   "execution_count": 2,
   "metadata": {},
   "outputs": [],
   "source": [
    "h = MyHash(7)"
   ]
  },
  {
   "cell_type": "code",
   "execution_count": 3,
   "metadata": {},
   "outputs": [
    {
     "name": "stdout",
     "output_type": "stream",
     "text": [
      "[[70], [], [], [], [], [], []]\n"
     ]
    }
   ],
   "source": [
    "h.insert(70)"
   ]
  },
  {
   "cell_type": "code",
   "execution_count": 4,
   "metadata": {},
   "outputs": [
    {
     "name": "stdout",
     "output_type": "stream",
     "text": [
      "[[70], [71], [], [], [], [], []]\n"
     ]
    }
   ],
   "source": [
    "h.insert(71)"
   ]
  },
  {
   "cell_type": "code",
   "execution_count": 5,
   "metadata": {},
   "outputs": [
    {
     "name": "stdout",
     "output_type": "stream",
     "text": [
      "[[70], [71], [9], [], [], [], []]\n"
     ]
    }
   ],
   "source": [
    "h.insert(9)"
   ]
  },
  {
   "cell_type": "code",
   "execution_count": 6,
   "metadata": {},
   "outputs": [
    {
     "name": "stdout",
     "output_type": "stream",
     "text": [
      "[[70, 56], [71], [9], [], [], [], []]\n"
     ]
    }
   ],
   "source": [
    "h.insert(56)"
   ]
  },
  {
   "cell_type": "code",
   "execution_count": 7,
   "metadata": {},
   "outputs": [
    {
     "name": "stdout",
     "output_type": "stream",
     "text": [
      "[[70, 56], [71], [9, 72], [], [], [], []]\n"
     ]
    }
   ],
   "source": [
    "h.insert(72)"
   ]
  },
  {
   "cell_type": "code",
   "execution_count": 8,
   "metadata": {},
   "outputs": [
    {
     "name": "stdout",
     "output_type": "stream",
     "text": [
      "Item is not present in Hash Table\n"
     ]
    }
   ],
   "source": [
    "h.remove(23)"
   ]
  },
  {
   "cell_type": "code",
   "execution_count": 9,
   "metadata": {},
   "outputs": [
    {
     "name": "stdout",
     "output_type": "stream",
     "text": [
      "[[70], [71], [9, 72], [], [], [], []]\n"
     ]
    }
   ],
   "source": [
    "h.remove(56)"
   ]
  },
  {
   "cell_type": "code",
   "execution_count": 10,
   "metadata": {},
   "outputs": [
    {
     "data": {
      "text/plain": [
       "True"
      ]
     },
     "execution_count": 10,
     "metadata": {},
     "output_type": "execute_result"
    }
   ],
   "source": [
    "h.search(72)"
   ]
  },
  {
   "cell_type": "code",
   "execution_count": 11,
   "metadata": {},
   "outputs": [
    {
     "name": "stdout",
     "output_type": "stream",
     "text": [
      "Item is not present in Hash Table\n"
     ]
    }
   ],
   "source": [
    "h.remove(56)"
   ]
  },
  {
   "cell_type": "code",
   "execution_count": 12,
   "metadata": {},
   "outputs": [
    {
     "name": "stdout",
     "output_type": "stream",
     "text": [
      "[[], [71], [9, 72], [], [], [], []]\n"
     ]
    }
   ],
   "source": [
    "h.remove(70)"
   ]
  },
  {
   "cell_type": "markdown",
   "metadata": {},
   "source": [
    "## Open Addressing\n",
    "\n",
    "* No. of slots in Hash Table >= No of values to be inserted in Hash Table\n",
    "* Cache Friendly"
   ]
  },
  {
   "cell_type": "markdown",
   "metadata": {},
   "source": [
    "### Linear Probing\n",
    "\n",
    "* Linearly search for next empty slots when there is a collision.\n",
    "```python\n",
    "hash(key) = key % 7\n",
    "hash(key,i) = ((hash(key) + i) % 7)\n",
    "```\n",
    "* Insert Operation:\n",
    "```bash\n",
    "if !collisionOccur:\n",
    "    append the number/item\n",
    "else:\n",
    "    linearly iterate index and append to next empty slot\n",
    "```\n",
    "* In search function we stop searching when one of the three cases occur\n",
    "    1. Empty SLots\n",
    "    2. Key Found\n",
    "    3. Once we have completed traversing the entire hash table.\n",
    "* In delete Operation\n",
    "    * After Deletion:\n",
    "        1. Simply making Slot Empty => which results to empty slots and when searching it will stop in empty slot and does not iterate further\n",
    "        \n",
    "        To reduce this problem we should mark deleted slots as `deleted`\n",
    "        \n",
    "**Problem With Linear Probing**\n",
    "\n",
    "\n",
    "    1. Clustering\n",
    "    \n",
    "To handle **Clustering problem with linear probing** we use \n",
    "\n",
    "\n",
    "1.  Quadratic Probing\n"
   ]
  },
  {
   "cell_type": "markdown",
   "metadata": {},
   "source": [
    "#### Implementation of Linear Probing"
   ]
  },
  {
   "cell_type": "code",
   "execution_count": null,
   "metadata": {},
   "outputs": [],
   "source": [
    "class MyHashLinearProbig:\n",
    "    def __init__(self, c):\n",
    "        self.cap = c\n",
    "        self.table = [-1]*c\n",
    "        self.size = 0\n",
    "        \n",
    "    def hash(self, x):\n",
    "        return x % self.cap\n",
    "    \n",
    "    def insert(self,key):\n",
    "        if self.size == self.cap:\n",
    "            return False           # when table is full\n",
    "        if self.search == True:\n",
    "            return False    # when key is already present\n",
    "        t = self.table\n",
    "        i = self.hash(key)\n",
    "        while t[i] not in (-1,-2):\n",
    "            i + (i + 1) % self.cap\n",
    "        t[i] = x\n",
    "        self.size += 1\n",
    "        return True\n",
    "                \n",
    "    def search(self, key):\n",
    "        h = self.hash(key)\n",
    "        t = self.table\n",
    "        i = h\n",
    "        while i != -1:\n",
    "            if t[i] == key:\n",
    "                return True     # key found\n",
    "            i = (i + 1) % self.cap\n",
    "            if i == h:\n",
    "                return False    # Traversed entire table\n",
    "        return False  # Empty Slot\n",
    "    \n",
    "    def remove(self,key):\n",
    "        h = self.hash(key)\n",
    "        t = self.table\n",
    "        i = h\n",
    "        while t[i] != 1:\n",
    "            if t[i] == key:\n",
    "                t[i] = -2        # we mark as deleted by inserting -2\n",
    "                return True\n",
    "            i = (i + 1) % self.cap\n",
    "            if i == h:\n",
    "                return False     # Traversed entire table\n",
    "        return False             # Key not found"
   ]
  },
  {
   "cell_type": "code",
   "execution_count": null,
   "metadata": {},
   "outputs": [],
   "source": []
  },
  {
   "cell_type": "code",
   "execution_count": null,
   "metadata": {},
   "outputs": [],
   "source": []
  },
  {
   "cell_type": "code",
   "execution_count": null,
   "metadata": {},
   "outputs": [],
   "source": []
  },
  {
   "cell_type": "code",
   "execution_count": null,
   "metadata": {},
   "outputs": [],
   "source": []
  },
  {
   "cell_type": "markdown",
   "metadata": {},
   "source": [
    "### Quadratic Probing\n",
    "\n",
    "*The function of quadratic probing will be* :  \n",
    "```python\n",
    "hash(key,i) = ((hash(key) + i**2) % m)\n",
    "```\n",
    "\n",
    "*Condition for quadratic probing to give best results*\n",
    "\n",
    "```python\n",
    "if loadFactor < 0.5 and m is prime:\n",
    "    then only quadratic probing will give good result\n",
    "else:\n",
    "    it can form Secondary Clustering\n",
    "```\n",
    "**Problems with Quadratic Probing**:\n",
    "1. Secondary Clustering\n",
    "\n",
    "To handle **Secondary Clustering problem with quadratic probing** we use \n",
    "\n",
    "\n",
    "Double Hashing"
   ]
  },
  {
   "cell_type": "code",
   "execution_count": null,
   "metadata": {},
   "outputs": [],
   "source": []
  },
  {
   "cell_type": "code",
   "execution_count": null,
   "metadata": {},
   "outputs": [],
   "source": []
  },
  {
   "cell_type": "code",
   "execution_count": null,
   "metadata": {},
   "outputs": [],
   "source": []
  },
  {
   "cell_type": "code",
   "execution_count": null,
   "metadata": {},
   "outputs": [],
   "source": []
  },
  {
   "cell_type": "code",
   "execution_count": null,
   "metadata": {},
   "outputs": [],
   "source": []
  },
  {
   "cell_type": "markdown",
   "metadata": {},
   "source": [
    "### Double Hashing\n",
    "\n",
    "1. Double Hashing is generalized version of Linear Probing\n",
    "\n",
    "2. *The function of double hashing will be* :  \n",
    "```python\n",
    "hash1(key) = key % m\n",
    "hash2(key) = (m-1) - (key % (m-1))\n",
    "hash(key,i) = ((hash1(key) + i*hash2(key)) % m)\n",
    "```\n",
    "3. If hash2(key) is relatively prime to m , then it always find a free slot if there is one.\n",
    "4. Distributes keys more uniformly than linear probing and quadratic probing\n",
    "5. It creates **No clustering**\n",
    "\n",
    "6. Agorithm for double hashing\n",
    "\n",
    "```python\n",
    "def DoubleHashing(table,key):\n",
    "    if table is full:\n",
    "        return error\n",
    "    probe = hash1(key)\n",
    "    offset = hash2(key) #in linear probing offset = 1\n",
    "    while (table[probe] is occupied):\n",
    "        probe = (probe + offset ) % m\n",
    "    table[probe] = key\n",
    "```"
   ]
  },
  {
   "cell_type": "code",
   "execution_count": null,
   "metadata": {},
   "outputs": [],
   "source": []
  },
  {
   "cell_type": "code",
   "execution_count": null,
   "metadata": {},
   "outputs": [],
   "source": []
  },
  {
   "cell_type": "code",
   "execution_count": null,
   "metadata": {},
   "outputs": [],
   "source": []
  },
  {
   "cell_type": "markdown",
   "metadata": {},
   "source": [
    "# Problems"
   ]
  },
  {
   "cell_type": "markdown",
   "metadata": {},
   "source": [
    "#### Frequencies of Array Elements"
   ]
  },
  {
   "cell_type": "code",
   "execution_count": 13,
   "metadata": {},
   "outputs": [],
   "source": [
    "def FreqArrElementUsingHash(arr):\n",
    "    hash = {}\n",
    "    for i in arr:\n",
    "        if i not in hash.keys():\n",
    "            hash[i] = 1\n",
    "        else:\n",
    "            hash[i] += 1\n",
    "    for i in hash.keys():\n",
    "        print(i,hash[i])"
   ]
  },
  {
   "cell_type": "code",
   "execution_count": 14,
   "metadata": {},
   "outputs": [],
   "source": [
    "arr1 = [10,12,10,15,10,20,12,12]"
   ]
  },
  {
   "cell_type": "code",
   "execution_count": 15,
   "metadata": {},
   "outputs": [
    {
     "name": "stdout",
     "output_type": "stream",
     "text": [
      "10 3\n",
      "12 3\n",
      "15 1\n",
      "20 1\n"
     ]
    }
   ],
   "source": [
    "FreqArrElementUsingHash(arr1)"
   ]
  },
  {
   "cell_type": "code",
   "execution_count": 16,
   "metadata": {},
   "outputs": [],
   "source": [
    "arr2 = [10,10,10,10]"
   ]
  },
  {
   "cell_type": "code",
   "execution_count": 17,
   "metadata": {},
   "outputs": [
    {
     "name": "stdout",
     "output_type": "stream",
     "text": [
      "10 4\n"
     ]
    }
   ],
   "source": [
    "FreqArrElementUsingHash(arr2)"
   ]
  },
  {
   "cell_type": "code",
   "execution_count": 18,
   "metadata": {},
   "outputs": [],
   "source": [
    "arr3 = [10,20]"
   ]
  },
  {
   "cell_type": "code",
   "execution_count": 19,
   "metadata": {},
   "outputs": [
    {
     "name": "stdout",
     "output_type": "stream",
     "text": [
      "10 1\n",
      "20 1\n"
     ]
    }
   ],
   "source": [
    "FreqArrElementUsingHash(arr3)"
   ]
  },
  {
   "cell_type": "code",
   "execution_count": null,
   "metadata": {},
   "outputs": [],
   "source": []
  },
  {
   "cell_type": "code",
   "execution_count": null,
   "metadata": {},
   "outputs": [],
   "source": []
  },
  {
   "cell_type": "code",
   "execution_count": null,
   "metadata": {},
   "outputs": [],
   "source": []
  },
  {
   "cell_type": "code",
   "execution_count": null,
   "metadata": {},
   "outputs": [],
   "source": []
  },
  {
   "cell_type": "code",
   "execution_count": null,
   "metadata": {},
   "outputs": [],
   "source": []
  },
  {
   "cell_type": "code",
   "execution_count": null,
   "metadata": {},
   "outputs": [],
   "source": []
  },
  {
   "cell_type": "code",
   "execution_count": null,
   "metadata": {},
   "outputs": [],
   "source": []
  },
  {
   "cell_type": "code",
   "execution_count": null,
   "metadata": {},
   "outputs": [],
   "source": []
  },
  {
   "cell_type": "code",
   "execution_count": null,
   "metadata": {},
   "outputs": [],
   "source": []
  },
  {
   "cell_type": "code",
   "execution_count": null,
   "metadata": {},
   "outputs": [],
   "source": []
  },
  {
   "cell_type": "code",
   "execution_count": null,
   "metadata": {},
   "outputs": [],
   "source": []
  },
  {
   "cell_type": "code",
   "execution_count": null,
   "metadata": {},
   "outputs": [],
   "source": []
  },
  {
   "cell_type": "code",
   "execution_count": null,
   "metadata": {},
   "outputs": [],
   "source": []
  },
  {
   "cell_type": "code",
   "execution_count": null,
   "metadata": {},
   "outputs": [],
   "source": []
  },
  {
   "cell_type": "code",
   "execution_count": null,
   "metadata": {},
   "outputs": [],
   "source": []
  },
  {
   "cell_type": "code",
   "execution_count": null,
   "metadata": {},
   "outputs": [],
   "source": []
  },
  {
   "cell_type": "code",
   "execution_count": null,
   "metadata": {},
   "outputs": [],
   "source": []
  },
  {
   "cell_type": "code",
   "execution_count": null,
   "metadata": {},
   "outputs": [],
   "source": []
  },
  {
   "cell_type": "code",
   "execution_count": null,
   "metadata": {},
   "outputs": [],
   "source": []
  },
  {
   "cell_type": "code",
   "execution_count": null,
   "metadata": {},
   "outputs": [],
   "source": []
  },
  {
   "cell_type": "code",
   "execution_count": null,
   "metadata": {},
   "outputs": [],
   "source": []
  },
  {
   "cell_type": "code",
   "execution_count": null,
   "metadata": {},
   "outputs": [],
   "source": []
  },
  {
   "cell_type": "code",
   "execution_count": null,
   "metadata": {},
   "outputs": [],
   "source": []
  },
  {
   "cell_type": "code",
   "execution_count": null,
   "metadata": {},
   "outputs": [],
   "source": []
  },
  {
   "cell_type": "code",
   "execution_count": null,
   "metadata": {},
   "outputs": [],
   "source": []
  },
  {
   "cell_type": "code",
   "execution_count": null,
   "metadata": {},
   "outputs": [],
   "source": []
  },
  {
   "cell_type": "code",
   "execution_count": 20,
   "metadata": {},
   "outputs": [],
   "source": [
    "def convertinotlink(s):\n",
    "    print(s)\n",
    "    print(f\"[{s}](#{s.replace(' ','-')})\")"
   ]
  },
  {
   "cell_type": "code",
   "execution_count": 21,
   "metadata": {},
   "outputs": [
    {
     "name": "stdout",
     "output_type": "stream",
     "text": [
      "Frequencies of Array Elements\n",
      "[Frequencies of Array Elements](#Frequencies-of-Array-Elements)\n"
     ]
    }
   ],
   "source": [
    "convertinotlink('Frequencies of Array Elements')"
   ]
  },
  {
   "cell_type": "code",
   "execution_count": null,
   "metadata": {},
   "outputs": [],
   "source": []
  }
 ],
 "metadata": {
  "kernelspec": {
   "display_name": "Python 3",
   "language": "python",
   "name": "python3"
  },
  "language_info": {
   "codemirror_mode": {
    "name": "ipython",
    "version": 3
   },
   "file_extension": ".py",
   "mimetype": "text/x-python",
   "name": "python",
   "nbconvert_exporter": "python",
   "pygments_lexer": "ipython3",
   "version": "3.7.3"
  }
 },
 "nbformat": 4,
 "nbformat_minor": 5
}

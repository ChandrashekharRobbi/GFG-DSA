{
 "cells": [
  {
   "cell_type": "markdown",
   "id": "8bd00c39",
   "metadata": {},
   "source": [
    "# Hashing\n",
    "\n",
    "Hashing is a technique or process of mapping keys, and values into the hash table by using a hash function. It is done for faster access to elements. The efficiency of mapping depends on the efficiency of the hash function used.\n",
    "\n",
    "* Search\n",
    "* Insert\n",
    "* Delete\n",
    "> All operations are done in O(1) on average in hashing\n",
    "\n",
    "*Not Useful for*\n",
    "1. Finding closest value (AVL Tree Data Structure used)\n",
    "2. Sorted Data (AVL Tree Data Structure used)\n",
    "3. Prefix Searching (Trie Data Structure used )\n",
    "\n",
    "\n",
    "1. [Implementation of Chaining](#Implementation-of-Chaining)"
   ]
  },
  {
   "cell_type": "markdown",
   "id": "e256edee",
   "metadata": {},
   "source": [
    "### Implementation of Chaining"
   ]
  },
  {
   "cell_type": "code",
   "execution_count": 1,
   "id": "37e33b0e",
   "metadata": {},
   "outputs": [],
   "source": [
    "class MyHash:\n",
    "    def __init__(self,b):\n",
    "        self.BUCKET = b\n",
    "        self.table = [[] for x in range(b)]\n",
    "        \n",
    "    def hashFunction(self,x):\n",
    "        i = x % self.BUCKET\n",
    "        return i\n",
    "    \n",
    "    def insert(self, x):\n",
    "        i = self.hashFunction(x)\n",
    "        self.table[i].append(x)\n",
    "        print(self.table)\n",
    "        \n",
    "    def remove(self,x):\n",
    "        i = self.hashFunction(x)\n",
    "        \n",
    "        if x in self.table[i]:\n",
    "            self.table[i].remove(x)\n",
    "            print(self.table)\n",
    "        else:\n",
    "            print(\"Item is not present in Hash Table\")\n",
    "            \n",
    "    def search(self,x):\n",
    "        i = self.hashFunction(x)\n",
    "        return x in self.table[i]"
   ]
  },
  {
   "cell_type": "code",
   "execution_count": 2,
   "id": "3c99c3ca",
   "metadata": {},
   "outputs": [],
   "source": [
    "h = MyHash(7)"
   ]
  },
  {
   "cell_type": "code",
   "execution_count": 3,
   "id": "fd1333bb",
   "metadata": {},
   "outputs": [
    {
     "name": "stdout",
     "output_type": "stream",
     "text": [
      "[[70], [], [], [], [], [], []]\n"
     ]
    }
   ],
   "source": [
    "h.insert(70)"
   ]
  },
  {
   "cell_type": "code",
   "execution_count": 4,
   "id": "13ca9435",
   "metadata": {},
   "outputs": [
    {
     "name": "stdout",
     "output_type": "stream",
     "text": [
      "[[70], [71], [], [], [], [], []]\n"
     ]
    }
   ],
   "source": [
    "h.insert(71)"
   ]
  },
  {
   "cell_type": "code",
   "execution_count": 5,
   "id": "cc4aca79",
   "metadata": {},
   "outputs": [
    {
     "name": "stdout",
     "output_type": "stream",
     "text": [
      "[[70], [71], [9], [], [], [], []]\n"
     ]
    }
   ],
   "source": [
    "h.insert(9)"
   ]
  },
  {
   "cell_type": "code",
   "execution_count": 6,
   "id": "8a6377b4",
   "metadata": {},
   "outputs": [
    {
     "name": "stdout",
     "output_type": "stream",
     "text": [
      "[[70, 56], [71], [9], [], [], [], []]\n"
     ]
    }
   ],
   "source": [
    "h.insert(56)"
   ]
  },
  {
   "cell_type": "code",
   "execution_count": 7,
   "id": "67d932ba",
   "metadata": {},
   "outputs": [
    {
     "name": "stdout",
     "output_type": "stream",
     "text": [
      "[[70, 56], [71], [9, 72], [], [], [], []]\n"
     ]
    }
   ],
   "source": [
    "h.insert(72)"
   ]
  },
  {
   "cell_type": "code",
   "execution_count": 8,
   "id": "bfe761b8",
   "metadata": {},
   "outputs": [
    {
     "name": "stdout",
     "output_type": "stream",
     "text": [
      "Item is not present in Hash Table\n"
     ]
    }
   ],
   "source": [
    "h.remove(23)"
   ]
  },
  {
   "cell_type": "code",
   "execution_count": 9,
   "id": "048f33da",
   "metadata": {},
   "outputs": [
    {
     "name": "stdout",
     "output_type": "stream",
     "text": [
      "[[70], [71], [9, 72], [], [], [], []]\n"
     ]
    }
   ],
   "source": [
    "h.remove(56)"
   ]
  },
  {
   "cell_type": "code",
   "execution_count": 10,
   "id": "39637d21",
   "metadata": {},
   "outputs": [
    {
     "data": {
      "text/plain": [
       "True"
      ]
     },
     "execution_count": 10,
     "metadata": {},
     "output_type": "execute_result"
    }
   ],
   "source": [
    "h.search(72)"
   ]
  },
  {
   "cell_type": "code",
   "execution_count": 11,
   "id": "dc175cf7",
   "metadata": {},
   "outputs": [
    {
     "name": "stdout",
     "output_type": "stream",
     "text": [
      "Item is not present in Hash Table\n"
     ]
    }
   ],
   "source": [
    "h.remove(56)"
   ]
  },
  {
   "cell_type": "code",
   "execution_count": 12,
   "id": "2a0d3d7c",
   "metadata": {},
   "outputs": [
    {
     "name": "stdout",
     "output_type": "stream",
     "text": [
      "[[], [71], [9, 72], [], [], [], []]\n"
     ]
    }
   ],
   "source": [
    "h.remove(70)"
   ]
  },
  {
   "cell_type": "code",
   "execution_count": null,
   "id": "5de68580",
   "metadata": {},
   "outputs": [],
   "source": []
  }
 ],
 "metadata": {
  "kernelspec": {
   "display_name": "Python 3 (ipykernel)",
   "language": "python",
   "name": "python3"
  },
  "language_info": {
   "codemirror_mode": {
    "name": "ipython",
    "version": 3
   },
   "file_extension": ".py",
   "mimetype": "text/x-python",
   "name": "python",
   "nbconvert_exporter": "python",
   "pygments_lexer": "ipython3",
   "version": "3.10.6"
  }
 },
 "nbformat": 4,
 "nbformat_minor": 5
}

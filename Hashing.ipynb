{
 "cells": [
  {
   "cell_type": "markdown",
   "id": "8bd00c39",
   "metadata": {},
   "source": [
    "# Hashing\n",
    "\n",
    "Hashing is a technique or process of mapping keys, and values into the hash table by using a hash function. It is done for faster access to elements. The efficiency of mapping depends on the efficiency of the hash function used.\n",
    "\n",
    "* Search\n",
    "* Insert\n",
    "* Delete\n",
    "> All operations are done in O(1) on average in hashing\n",
    "\n",
    "*Not Useful for*\n",
    "1. Finding closest value (AVL Tree Data Structure used)\n",
    "2. Sorted Data (AVL Tree Data Structure used)\n",
    "3. Prefix Searching (Trie Data Structure used )\n",
    "\n",
    "*Collision Handling*\n",
    "\n",
    "1. Chaining\n",
    "    * [Implementation of Chaining](#Implementation-of-Chaining)\n",
    "2. Open Addressing \n",
    "    1. Linear Probing\n",
    "    2. Quadratic Probing\n",
    "    3.Double Hashing\n",
    "    \n",
    "    \n",
    "**Problems**\n",
    "\n",
    "1. [Frequencies of Array Elements](#Frequencies-of-Array-Elements)"
   ]
  },
  {
   "cell_type": "markdown",
   "id": "fbc4fd2c",
   "metadata": {},
   "source": [
    "# Collision Handling"
   ]
  },
  {
   "cell_type": "markdown",
   "id": "ded3b014",
   "metadata": {},
   "source": [
    "## Chaining\n",
    "\n",
    "\n",
    "* It creates a link in the same index of an array"
   ]
  },
  {
   "cell_type": "markdown",
   "id": "e256edee",
   "metadata": {},
   "source": [
    "#### Implementation of Chaining"
   ]
  },
  {
   "cell_type": "code",
   "execution_count": 1,
   "id": "37e33b0e",
   "metadata": {},
   "outputs": [],
   "source": [
    "class MyHash:\n",
    "    def __init__(self,b):\n",
    "        self.BUCKET = b\n",
    "        self.table = [[] for x in range(b)]\n",
    "        \n",
    "    def hashFunction(self,x):\n",
    "        i = x % self.BUCKET\n",
    "        return i\n",
    "    \n",
    "    def insert(self, x):\n",
    "        i = self.hashFunction(x)\n",
    "        self.table[i].append(x)\n",
    "        print(self.table)\n",
    "        \n",
    "    def remove(self,x):\n",
    "        i = self.hashFunction(x)\n",
    "        \n",
    "        if x in self.table[i]:\n",
    "            self.table[i].remove(x)\n",
    "            print(self.table)\n",
    "        else:\n",
    "            print(\"Item is not present in Hash Table\")\n",
    "            \n",
    "    def search(self,x):\n",
    "        i = self.hashFunction(x)\n",
    "        return x in self.table[i]"
   ]
  },
  {
   "cell_type": "code",
   "execution_count": 2,
   "id": "3c99c3ca",
   "metadata": {},
   "outputs": [],
   "source": [
    "h = MyHash(7)"
   ]
  },
  {
   "cell_type": "code",
   "execution_count": 3,
   "id": "fd1333bb",
   "metadata": {},
   "outputs": [
    {
     "name": "stdout",
     "output_type": "stream",
     "text": [
      "[[70], [], [], [], [], [], []]\n"
     ]
    }
   ],
   "source": [
    "h.insert(70)"
   ]
  },
  {
   "cell_type": "code",
   "execution_count": 4,
   "id": "13ca9435",
   "metadata": {},
   "outputs": [
    {
     "name": "stdout",
     "output_type": "stream",
     "text": [
      "[[70], [71], [], [], [], [], []]\n"
     ]
    }
   ],
   "source": [
    "h.insert(71)"
   ]
  },
  {
   "cell_type": "code",
   "execution_count": 5,
   "id": "cc4aca79",
   "metadata": {},
   "outputs": [
    {
     "name": "stdout",
     "output_type": "stream",
     "text": [
      "[[70], [71], [9], [], [], [], []]\n"
     ]
    }
   ],
   "source": [
    "h.insert(9)"
   ]
  },
  {
   "cell_type": "code",
   "execution_count": 6,
   "id": "8a6377b4",
   "metadata": {},
   "outputs": [
    {
     "name": "stdout",
     "output_type": "stream",
     "text": [
      "[[70, 56], [71], [9], [], [], [], []]\n"
     ]
    }
   ],
   "source": [
    "h.insert(56)"
   ]
  },
  {
   "cell_type": "code",
   "execution_count": 7,
   "id": "67d932ba",
   "metadata": {},
   "outputs": [
    {
     "name": "stdout",
     "output_type": "stream",
     "text": [
      "[[70, 56], [71], [9, 72], [], [], [], []]\n"
     ]
    }
   ],
   "source": [
    "h.insert(72)"
   ]
  },
  {
   "cell_type": "code",
   "execution_count": 8,
   "id": "bfe761b8",
   "metadata": {},
   "outputs": [
    {
     "name": "stdout",
     "output_type": "stream",
     "text": [
      "Item is not present in Hash Table\n"
     ]
    }
   ],
   "source": [
    "h.remove(23)"
   ]
  },
  {
   "cell_type": "code",
   "execution_count": 9,
   "id": "048f33da",
   "metadata": {},
   "outputs": [
    {
     "name": "stdout",
     "output_type": "stream",
     "text": [
      "[[70], [71], [9, 72], [], [], [], []]\n"
     ]
    }
   ],
   "source": [
    "h.remove(56)"
   ]
  },
  {
   "cell_type": "code",
   "execution_count": 10,
   "id": "39637d21",
   "metadata": {},
   "outputs": [
    {
     "data": {
      "text/plain": [
       "True"
      ]
     },
     "execution_count": 10,
     "metadata": {},
     "output_type": "execute_result"
    }
   ],
   "source": [
    "h.search(72)"
   ]
  },
  {
   "cell_type": "code",
   "execution_count": 11,
   "id": "dc175cf7",
   "metadata": {},
   "outputs": [
    {
     "name": "stdout",
     "output_type": "stream",
     "text": [
      "Item is not present in Hash Table\n"
     ]
    }
   ],
   "source": [
    "h.remove(56)"
   ]
  },
  {
   "cell_type": "code",
   "execution_count": 12,
   "id": "2a0d3d7c",
   "metadata": {},
   "outputs": [
    {
     "name": "stdout",
     "output_type": "stream",
     "text": [
      "[[], [71], [9, 72], [], [], [], []]\n"
     ]
    }
   ],
   "source": [
    "h.remove(70)"
   ]
  },
  {
   "cell_type": "markdown",
   "id": "6696b8ba",
   "metadata": {},
   "source": [
    "## Open Addressing\n",
    "\n",
    "* No. of slots in Hash Table >= No of values to be inserted in Hash Table\n",
    "* Cache Friendly"
   ]
  },
  {
   "cell_type": "markdown",
   "id": "9e216d56",
   "metadata": {},
   "source": [
    "### Linear Probing\n",
    "\n",
    "* Linearly search for next empty slots when there is a collision.\n",
    "```python\n",
    "hash(key) = key % 7\n",
    "hash(key,i) = ((hash(key) + i) % 7)\n",
    "```\n",
    "* Insert Operation:\n",
    "```bash\n",
    "if !collisionOccur:\n",
    "    append the number/item\n",
    "else:\n",
    "    linearly iterate index and append to next empty slot\n",
    "```\n",
    "* In search function we stop searching when one of the three cases occur\n",
    "    1. Empty SLots\n",
    "    2. Key Found\n",
    "    3. Once we have completed traversing the entire hash table.\n",
    "* In delete Operation\n",
    "    * After Deletion:\n",
    "        1. Simply making Slot Empty => which results to empty slots and when searching it will stop in empty slot and does not iterate further\n",
    "        \n",
    "        To reduce this problem we should mark deleted slots as `deleted`\n",
    "        \n",
    "**Problem With Linear Probing**\n",
    "\n",
    "\n",
    "    1. Clustering\n",
    "    \n",
    "To handle **Clustering problem with linear probing** we use \n",
    "\n",
    "\n",
    "1.  Quadratic Probing\n"
   ]
  },
  {
   "cell_type": "code",
   "execution_count": null,
   "id": "c13372fe",
   "metadata": {},
   "outputs": [],
   "source": []
  },
  {
   "cell_type": "code",
   "execution_count": null,
   "id": "4f47c6d3",
   "metadata": {},
   "outputs": [],
   "source": []
  },
  {
   "cell_type": "code",
   "execution_count": null,
   "id": "e84aeb16",
   "metadata": {},
   "outputs": [],
   "source": []
  },
  {
   "cell_type": "code",
   "execution_count": null,
   "id": "be17ee23",
   "metadata": {},
   "outputs": [],
   "source": []
  },
  {
   "cell_type": "code",
   "execution_count": null,
   "id": "27975ffb",
   "metadata": {},
   "outputs": [],
   "source": []
  },
  {
   "cell_type": "code",
   "execution_count": null,
   "id": "301d3abc",
   "metadata": {},
   "outputs": [],
   "source": []
  },
  {
   "cell_type": "code",
   "execution_count": null,
   "id": "31614119",
   "metadata": {},
   "outputs": [],
   "source": []
  },
  {
   "cell_type": "markdown",
   "id": "a4c8d796",
   "metadata": {},
   "source": [
    "### Quadratic Probing\n",
    "\n",
    "*The function of quadratic probing will be* :  \n",
    "```python\n",
    "hash(key,i) = ((hash(key) + i**2) % m)\n",
    "```\n",
    "\n",
    "*Condition for quadratic probing to give best results*\n",
    "\n",
    "```python\n",
    "if loadFactor < 0.5 and m is prime:\n",
    "    then only quadratic probing will give good result\n",
    "else:\n",
    "    it can form Secondary Clustering\n",
    "```\n",
    "**Problems with Quadratic Probing**:\n",
    "1. Secondary Clustering\n",
    "\n",
    "To handle **Secondary Clustering problem with quadratic probing** we use \n",
    "\n",
    "\n",
    "Double Hashing"
   ]
  },
  {
   "cell_type": "code",
   "execution_count": null,
   "id": "bc2ca70b",
   "metadata": {},
   "outputs": [],
   "source": []
  },
  {
   "cell_type": "code",
   "execution_count": null,
   "id": "a1407f03",
   "metadata": {},
   "outputs": [],
   "source": []
  },
  {
   "cell_type": "code",
   "execution_count": null,
   "id": "c5f813cd",
   "metadata": {},
   "outputs": [],
   "source": []
  },
  {
   "cell_type": "code",
   "execution_count": null,
   "id": "5cd0ccfe",
   "metadata": {},
   "outputs": [],
   "source": []
  },
  {
   "cell_type": "code",
   "execution_count": null,
   "id": "0bbd76e0",
   "metadata": {},
   "outputs": [],
   "source": []
  },
  {
   "cell_type": "markdown",
   "id": "08ee26ee",
   "metadata": {},
   "source": [
    "### Double Hashing\n",
    "\n",
    "1. Double Hashing is generalized version of Linear Probing\n",
    "\n",
    "2. *The function of double hashing will be* :  \n",
    "```python\n",
    "hash1(key) = key % m\n",
    "hash2(key) = (m-1) - (key % (m-1))\n",
    "hash(key,i) = ((hash1(key) + i*hash2(key)) % m)\n",
    "```\n",
    "3. If hash2(key) is relatively prime to m , then it always find a free slot if there is one.\n",
    "4. Distributes keys more uniformly than linear probing and quadratic probing\n",
    "5. It creates **No clustering**\n",
    "\n",
    "6. Agorithm for double hashing\n",
    "\n",
    "```python\n",
    "def DoubleHashing(table,key):\n",
    "    if table is full:\n",
    "        return error\n",
    "    probe = hash1(key)\n",
    "    offset = hash2(key) #in linear probing offset = 1\n",
    "    while (table[probe] is occupied):\n",
    "        probe = (probe + offset ) % m\n",
    "    table[probe] = key\n",
    "```"
   ]
  },
  {
   "cell_type": "code",
   "execution_count": null,
   "id": "86884a04",
   "metadata": {},
   "outputs": [],
   "source": []
  },
  {
   "cell_type": "code",
   "execution_count": null,
   "id": "25b215c4",
   "metadata": {},
   "outputs": [],
   "source": []
  },
  {
   "cell_type": "code",
   "execution_count": null,
   "id": "6619878d",
   "metadata": {},
   "outputs": [],
   "source": []
  },
  {
   "cell_type": "markdown",
   "id": "4f6308d5",
   "metadata": {},
   "source": [
    "# Problems"
   ]
  },
  {
   "cell_type": "markdown",
   "id": "7f7a95aa",
   "metadata": {},
   "source": [
    "#### Frequencies of Array Elements"
   ]
  },
  {
   "cell_type": "code",
   "execution_count": 22,
   "id": "a028263d",
   "metadata": {},
   "outputs": [],
   "source": [
    "def FreqArrElementUsingHash(arr):\n",
    "    hash = {}\n",
    "    for i in arr:\n",
    "        if i not in hash.keys():\n",
    "            hash[i] = 1\n",
    "        else:\n",
    "            hash[i] += 1\n",
    "    for i in hash.keys():\n",
    "        print(i,hash[i])"
   ]
  },
  {
   "cell_type": "code",
   "execution_count": 23,
   "id": "18c08d77",
   "metadata": {},
   "outputs": [],
   "source": [
    "arr1 = [10,12,10,15,10,20,12,12]"
   ]
  },
  {
   "cell_type": "code",
   "execution_count": 24,
   "id": "61c1cb5f",
   "metadata": {},
   "outputs": [
    {
     "name": "stdout",
     "output_type": "stream",
     "text": [
      "10 3\n",
      "12 3\n",
      "15 1\n",
      "20 1\n"
     ]
    }
   ],
   "source": [
    "FreqArrElementUsingHash(arr1)"
   ]
  },
  {
   "cell_type": "code",
   "execution_count": 25,
   "id": "064ab831",
   "metadata": {},
   "outputs": [],
   "source": [
    "arr2 = [10,10,10,10]"
   ]
  },
  {
   "cell_type": "code",
   "execution_count": 26,
   "id": "90d75cf5",
   "metadata": {},
   "outputs": [
    {
     "name": "stdout",
     "output_type": "stream",
     "text": [
      "10 4\n"
     ]
    }
   ],
   "source": [
    "FreqArrElementUsingHash(arr2)"
   ]
  },
  {
   "cell_type": "code",
   "execution_count": 27,
   "id": "299c8471",
   "metadata": {},
   "outputs": [],
   "source": [
    "arr3 = [10,20]"
   ]
  },
  {
   "cell_type": "code",
   "execution_count": 28,
   "id": "da6fcc28",
   "metadata": {},
   "outputs": [
    {
     "name": "stdout",
     "output_type": "stream",
     "text": [
      "10 1\n",
      "20 1\n"
     ]
    }
   ],
   "source": [
    "FreqArrElementUsingHash(arr3)"
   ]
  },
  {
   "cell_type": "code",
   "execution_count": 35,
   "id": "a7efa390",
   "metadata": {},
   "outputs": [],
   "source": [
    "def convertinotlink(s):\n",
    "    print(s)\n",
    "    print(f\"[{s}](#{s.replace(' ','-')})\")"
   ]
  },
  {
   "cell_type": "code",
   "execution_count": 36,
   "id": "865f8367",
   "metadata": {},
   "outputs": [
    {
     "name": "stdout",
     "output_type": "stream",
     "text": [
      "Frequencies of Array Elements\n",
      "[Frequencies of Array Elements](#Frequencies-of-Array-Elements)\n"
     ]
    }
   ],
   "source": [
    "convertinotlink('Frequencies of Array Elements')"
   ]
  },
  {
   "cell_type": "code",
   "execution_count": null,
   "id": "68d40fa9",
   "metadata": {},
   "outputs": [],
   "source": []
  }
 ],
 "metadata": {
  "kernelspec": {
   "display_name": "Python 3 (ipykernel)",
   "language": "python",
   "name": "python3"
  },
  "language_info": {
   "codemirror_mode": {
    "name": "ipython",
    "version": 3
   },
   "file_extension": ".py",
   "mimetype": "text/x-python",
   "name": "python",
   "nbconvert_exporter": "python",
   "pygments_lexer": "ipython3",
   "version": "3.10.6"
  }
 },
 "nbformat": 4,
 "nbformat_minor": 5
}

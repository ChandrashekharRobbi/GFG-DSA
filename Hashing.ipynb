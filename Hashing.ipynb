{
 "cells": [
  {
   "cell_type": "markdown",
   "id": "63dd8d25",
   "metadata": {},
   "source": [
    "# Hashing\n",
    "\n",
    "Hashing is a technique or process of mapping keys, and values into the hash table by using a hash function. It is done for faster access to elements. The efficiency of mapping depends on the efficiency of the hash function used.\n",
    "\n",
    "* Search\n",
    "* Insert\n",
    "* Delete\n",
    "> All operations are done in O(1) on average in hashing\n",
    "\n",
    "*Not Useful for*\n",
    "1. Finding closest value (AVL Tree Data Structure used)\n",
    "2. Sorted Data (AVL Tree Data Structure used)\n",
    "3. Prefix Searching (Trie Data Structure used )"
   ]
  },
  {
   "cell_type": "code",
   "execution_count": null,
   "id": "73d45647",
   "metadata": {},
   "outputs": [],
   "source": []
  }
 ],
 "metadata": {
  "kernelspec": {
   "display_name": "Python 3 (ipykernel)",
   "language": "python",
   "name": "python3"
  },
  "language_info": {
   "codemirror_mode": {
    "name": "ipython",
    "version": 3
   },
   "file_extension": ".py",
   "mimetype": "text/x-python",
   "name": "python",
   "nbconvert_exporter": "python",
   "pygments_lexer": "ipython3",
   "version": "3.10.6"
  }
 },
 "nbformat": 4,
 "nbformat_minor": 5
}

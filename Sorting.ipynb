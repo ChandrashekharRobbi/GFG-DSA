{
 "cells": [
  {
   "cell_type": "markdown",
   "id": "f9f2fd93",
   "metadata": {
    "id": "f9f2fd93"
   },
   "source": [
    "# Sorting\n",
    "\n",
    "* Some useful functions in python related to sorting\n",
    "\n",
    "1. [sort()](#1-.sort()) :- it works only for list , sorts in place\n",
    "2. [sorted()](#2-.sorted()) :- it works in any iterable , returns a new list with sorted items\n",
    "> Both use *TimSort* ( it is an hybrid of merge and insertion sort) and they are stable ( if both numbers are same then there original orders are reatained ).\n",
    "\n",
    "\n",
    "*Some Famous Sorting Techniques*\n",
    "\n",
    "1. [Bubble Sort](#Bubble-Sort)\n",
    "2. [Selection Sort](#Selection-Sort)\n",
    "3. [Insertion Sort](#Insertion-Sort)\n",
    "4. [Merge Sort](#Merge-Sort)\n",
    "5. [Quick Sort](#Quick-Sort)\n",
    "\n",
    "\n",
    "\n",
    "\n",
    "*Problems*\n",
    "1. [Merge Two arrays and sor them](#merge-two-arrays-and-sort-them)\n",
    "2. [Merge Two Sorted arrays](#Merge-two-sub-arrays)\n",
    "3. [Union of Two Sorted Array](#Union-of-Two-Sorted-Array)\n",
    "4. [Intersection of Two Sorted Array](#intersection-of-two-sorted-arrays)\n",
    "5. [Count Inversion in array](#count-inversion-in-array)\n",
    "6. [Partition given array](#Partition-a-Given-Array)\n",
    "7. [Hoare's Partition](#Hoare's-Partition)\n",
    "8. [Lomuto Partition](#Lomuto-Partition)"
   ]
  },
  {
   "cell_type": "markdown",
   "id": "a841862d",
   "metadata": {
    "id": "a841862d"
   },
   "source": [
    "### 1 .sort()"
   ]
  },
  {
   "cell_type": "markdown",
   "id": "d5e03efd",
   "metadata": {
    "id": "d5e03efd"
   },
   "source": [
    "#### in ascending order"
   ]
  },
  {
   "cell_type": "code",
   "execution_count": 87,
   "id": "d0c8a10f",
   "metadata": {
    "id": "d0c8a10f"
   },
   "outputs": [],
   "source": [
    "l1 = [2,5,6,74,9]"
   ]
  },
  {
   "cell_type": "code",
   "execution_count": 88,
   "id": "fc430003",
   "metadata": {
    "colab": {
     "base_uri": "https://localhost:8080/"
    },
    "id": "fc430003",
    "outputId": "1ef0e49d-86c2-467b-dd7e-f9c920ef58f3"
   },
   "outputs": [
    {
     "data": {
      "text/plain": [
       "[2, 5, 6, 74, 9]"
      ]
     },
     "execution_count": 88,
     "metadata": {},
     "output_type": "execute_result"
    }
   ],
   "source": [
    "l1"
   ]
  },
  {
   "cell_type": "code",
   "execution_count": 89,
   "id": "e5506c05",
   "metadata": {
    "id": "e5506c05"
   },
   "outputs": [],
   "source": [
    "l1.sort()"
   ]
  },
  {
   "cell_type": "code",
   "execution_count": 90,
   "id": "d3b0f83d",
   "metadata": {
    "colab": {
     "base_uri": "https://localhost:8080/"
    },
    "id": "d3b0f83d",
    "outputId": "6e19400b-72ec-4b44-ba5b-58cdf8f3bb37"
   },
   "outputs": [
    {
     "data": {
      "text/plain": [
       "[2, 5, 6, 9, 74]"
      ]
     },
     "execution_count": 90,
     "metadata": {},
     "output_type": "execute_result"
    }
   ],
   "source": [
    "l1"
   ]
  },
  {
   "cell_type": "markdown",
   "id": "f93cf11a",
   "metadata": {
    "id": "f93cf11a"
   },
   "source": [
    "#### in descending order"
   ]
  },
  {
   "cell_type": "code",
   "execution_count": 91,
   "id": "075fa64a",
   "metadata": {
    "id": "075fa64a"
   },
   "outputs": [],
   "source": [
    "l2 = [5,2,4,7]"
   ]
  },
  {
   "cell_type": "code",
   "execution_count": 92,
   "id": "c925e6ed",
   "metadata": {
    "id": "c925e6ed"
   },
   "outputs": [],
   "source": [
    "l2.sort(reverse=True)"
   ]
  },
  {
   "cell_type": "code",
   "execution_count": 93,
   "id": "e0429dc0",
   "metadata": {
    "colab": {
     "base_uri": "https://localhost:8080/"
    },
    "id": "e0429dc0",
    "outputId": "8d03ad76-ccff-4ba1-8cb0-1d0596f0e1e3"
   },
   "outputs": [
    {
     "data": {
      "text/plain": [
       "[7, 5, 4, 2]"
      ]
     },
     "execution_count": 93,
     "metadata": {},
     "output_type": "execute_result"
    }
   ],
   "source": [
    "l2"
   ]
  },
  {
   "cell_type": "markdown",
   "id": "93bf6cad",
   "metadata": {
    "id": "93bf6cad"
   },
   "source": [
    "#### by using `key` or we can say by using functions"
   ]
  },
  {
   "cell_type": "code",
   "execution_count": 94,
   "id": "3e146015",
   "metadata": {
    "id": "3e146015"
   },
   "outputs": [],
   "source": [
    "l3 = [\"hello\" , \"hi\" , \"hey\"]"
   ]
  },
  {
   "cell_type": "code",
   "execution_count": 95,
   "id": "8000ba2d",
   "metadata": {
    "id": "8000ba2d"
   },
   "outputs": [],
   "source": [
    "def myFunc(s):\n",
    "    return len(s)"
   ]
  },
  {
   "cell_type": "code",
   "execution_count": 96,
   "id": "ff828dd8",
   "metadata": {
    "colab": {
     "base_uri": "https://localhost:8080/"
    },
    "id": "ff828dd8",
    "outputId": "e15c75f9-807c-4bd9-f99d-24b4fc44b592"
   },
   "outputs": [
    {
     "data": {
      "text/plain": [
       "['hello', 'hi', 'hey']"
      ]
     },
     "execution_count": 96,
     "metadata": {},
     "output_type": "execute_result"
    }
   ],
   "source": [
    "l3"
   ]
  },
  {
   "cell_type": "code",
   "execution_count": 97,
   "id": "4427f7a9",
   "metadata": {
    "id": "4427f7a9"
   },
   "outputs": [],
   "source": [
    "l3.sort(key=myFunc)"
   ]
  },
  {
   "cell_type": "code",
   "execution_count": 98,
   "id": "99d1548d",
   "metadata": {
    "colab": {
     "base_uri": "https://localhost:8080/"
    },
    "id": "99d1548d",
    "outputId": "3889baf1-1144-4c8a-9472-072bd66c6179"
   },
   "outputs": [
    {
     "data": {
      "text/plain": [
       "['hi', 'hey', 'hello']"
      ]
     },
     "execution_count": 98,
     "metadata": {},
     "output_type": "execute_result"
    }
   ],
   "source": [
    "l3"
   ]
  },
  {
   "cell_type": "markdown",
   "id": "9a52a2c4",
   "metadata": {
    "id": "9a52a2c4"
   },
   "source": [
    "#### use the `key` parameter and `reverse` parameter also"
   ]
  },
  {
   "cell_type": "code",
   "execution_count": 99,
   "id": "d5de43e7",
   "metadata": {
    "id": "d5de43e7"
   },
   "outputs": [],
   "source": [
    "l4 = [\"Hello\" , \"Hi\" , \"Hey\"]"
   ]
  },
  {
   "cell_type": "code",
   "execution_count": 100,
   "id": "5a132a15",
   "metadata": {
    "colab": {
     "base_uri": "https://localhost:8080/"
    },
    "id": "5a132a15",
    "outputId": "037fc435-0b7a-40a1-c78c-4242101ca20e"
   },
   "outputs": [
    {
     "data": {
      "text/plain": [
       "['Hello', 'Hi', 'Hey']"
      ]
     },
     "execution_count": 100,
     "metadata": {},
     "output_type": "execute_result"
    }
   ],
   "source": [
    "l4"
   ]
  },
  {
   "cell_type": "code",
   "execution_count": 101,
   "id": "69235969",
   "metadata": {
    "id": "69235969"
   },
   "outputs": [],
   "source": [
    "l4.sort(key=myFunc, reverse=True)"
   ]
  },
  {
   "cell_type": "code",
   "execution_count": 102,
   "id": "3e9a1139",
   "metadata": {
    "colab": {
     "base_uri": "https://localhost:8080/"
    },
    "id": "3e9a1139",
    "outputId": "357acb61-5a93-4cc9-da8a-4394ca83fd17"
   },
   "outputs": [
    {
     "data": {
      "text/plain": [
       "['Hello', 'Hey', 'Hi']"
      ]
     },
     "execution_count": 102,
     "metadata": {},
     "output_type": "execute_result"
    }
   ],
   "source": [
    "l4"
   ]
  },
  {
   "cell_type": "markdown",
   "id": "4faf5740",
   "metadata": {
    "id": "4faf5740"
   },
   "source": [
    "### 2. .sorted()"
   ]
  },
  {
   "cell_type": "code",
   "execution_count": 103,
   "id": "97359d6f",
   "metadata": {
    "id": "97359d6f"
   },
   "outputs": [],
   "source": [
    "l5 = [-10,2,-4,100]"
   ]
  },
  {
   "cell_type": "code",
   "execution_count": 104,
   "id": "51b9adc3",
   "metadata": {
    "id": "51b9adc3"
   },
   "outputs": [],
   "source": [
    "ls = sorted(l5,key=abs,reverse=True)"
   ]
  },
  {
   "cell_type": "code",
   "execution_count": 105,
   "id": "fabbc97c",
   "metadata": {
    "colab": {
     "base_uri": "https://localhost:8080/"
    },
    "id": "fabbc97c",
    "outputId": "308731a3-83e2-4b60-996a-c9e1277db304"
   },
   "outputs": [
    {
     "data": {
      "text/plain": [
       "[100, -10, -4, 2]"
      ]
     },
     "execution_count": 105,
     "metadata": {},
     "output_type": "execute_result"
    }
   ],
   "source": [
    "ls"
   ]
  },
  {
   "cell_type": "markdown",
   "id": "d75f5c4d",
   "metadata": {
    "id": "d75f5c4d"
   },
   "source": [
    "#### let's try with all iterable"
   ]
  },
  {
   "cell_type": "code",
   "execution_count": 106,
   "id": "6a0ba613",
   "metadata": {
    "id": "6a0ba613"
   },
   "outputs": [],
   "source": [
    "t = (2,45,3,66) # tuple"
   ]
  },
  {
   "cell_type": "code",
   "execution_count": 107,
   "id": "3f11174a",
   "metadata": {
    "colab": {
     "base_uri": "https://localhost:8080/"
    },
    "id": "3f11174a",
    "outputId": "97403d9f-b454-4c11-a564-ed5e34d3895f"
   },
   "outputs": [
    {
     "name": "stdout",
     "output_type": "stream",
     "text": [
      "[2, 3, 45, 66]\n"
     ]
    }
   ],
   "source": [
    "print(sorted(t))"
   ]
  },
  {
   "cell_type": "code",
   "execution_count": 108,
   "id": "b1acb0bf",
   "metadata": {
    "id": "b1acb0bf"
   },
   "outputs": [],
   "source": [
    "s = {\"hel\",\"oo\",\"how\",\"are\",\"you\"} # set"
   ]
  },
  {
   "cell_type": "code",
   "execution_count": 109,
   "id": "828821cb",
   "metadata": {
    "colab": {
     "base_uri": "https://localhost:8080/"
    },
    "id": "828821cb",
    "outputId": "9d2e96cc-a202-443e-92e0-e4b2712bcfd8"
   },
   "outputs": [
    {
     "name": "stdout",
     "output_type": "stream",
     "text": [
      "['are', 'hel', 'how', 'oo', 'you']\n"
     ]
    }
   ],
   "source": [
    "print(sorted(s))"
   ]
  },
  {
   "cell_type": "code",
   "execution_count": 110,
   "id": "74339822",
   "metadata": {
    "id": "74339822"
   },
   "outputs": [],
   "source": [
    "dic = {10:\"Hello\",1:\"How\"} # dictionary"
   ]
  },
  {
   "cell_type": "code",
   "execution_count": 111,
   "id": "e4c35395",
   "metadata": {
    "colab": {
     "base_uri": "https://localhost:8080/"
    },
    "id": "e4c35395",
    "outputId": "86dc4916-0de9-4433-8858-0ec06e92451c"
   },
   "outputs": [
    {
     "name": "stdout",
     "output_type": "stream",
     "text": [
      "[1, 10]\n"
     ]
    }
   ],
   "source": [
    "print(sorted(dic))"
   ]
  },
  {
   "cell_type": "code",
   "execution_count": 112,
   "id": "416180bf",
   "metadata": {
    "id": "416180bf"
   },
   "outputs": [],
   "source": [
    "ls = [(4,5),(3,2),(6,5)] # list of tuples"
   ]
  },
  {
   "cell_type": "code",
   "execution_count": 113,
   "id": "52fcebed",
   "metadata": {
    "colab": {
     "base_uri": "https://localhost:8080/"
    },
    "id": "52fcebed",
    "outputId": "f9ed4ab9-c383-44ee-9d77-0406bbf625b4"
   },
   "outputs": [
    {
     "name": "stdout",
     "output_type": "stream",
     "text": [
      "[(3, 2), (4, 5), (6, 5)]\n"
     ]
    }
   ],
   "source": [
    "print(sorted(ls))"
   ]
  },
  {
   "cell_type": "markdown",
   "id": "1ed37550",
   "metadata": {
    "id": "1ed37550"
   },
   "source": [
    "## Bubble Sort\n",
    "\n",
    "\n",
    "* We have to push the greatest number to the right most side \n",
    "* It is in-place sorting algorithm\n",
    "* It is stable\n",
    "* It is mainly used in academices and not have many practical applications\n"
   ]
  },
  {
   "cell_type": "markdown",
   "id": "c444dc82",
   "metadata": {
    "id": "c444dc82"
   },
   "source": [
    "##### The below code takes O(n^2) time complexity"
   ]
  },
  {
   "cell_type": "code",
   "execution_count": 114,
   "id": "02e33f55",
   "metadata": {
    "id": "02e33f55"
   },
   "outputs": [],
   "source": [
    "def naiveBubbleSort(list):\n",
    "    n = len(list)\n",
    "    for i in range(n-1):\n",
    "        for j in range(n-i-1):\n",
    "            if list[j] > list[j+1]:\n",
    "                list[j], list[j+1] = list[j+1], list[j]\n",
    "    return list"
   ]
  },
  {
   "cell_type": "code",
   "execution_count": 115,
   "id": "4d849f9a",
   "metadata": {
    "id": "4d849f9a"
   },
   "outputs": [],
   "source": [
    "l7 = [10,6,1,8,12]"
   ]
  },
  {
   "cell_type": "code",
   "execution_count": 116,
   "id": "cfb67851",
   "metadata": {
    "colab": {
     "base_uri": "https://localhost:8080/"
    },
    "id": "cfb67851",
    "outputId": "ac6ce5e2-d6ec-453c-e0e1-be7122a35894"
   },
   "outputs": [
    {
     "data": {
      "text/plain": [
       "[1, 6, 8, 10, 12]"
      ]
     },
     "execution_count": 116,
     "metadata": {},
     "output_type": "execute_result"
    }
   ],
   "source": [
    "naiveBubbleSort(l7)"
   ]
  },
  {
   "cell_type": "markdown",
   "id": "5b6af0db",
   "metadata": {
    "id": "5b6af0db"
   },
   "source": [
    "#### what if we pass sorted array ?\n",
    "\n",
    "\n",
    "Let's modify the code a little\n",
    "\n",
    "\n",
    "The below code takes O(n) time because it is only takes one pass"
   ]
  },
  {
   "cell_type": "code",
   "execution_count": 117,
   "id": "c07b3d2c",
   "metadata": {
    "id": "c07b3d2c"
   },
   "outputs": [],
   "source": [
    "def sortedBubbleSort(list):\n",
    "    n = len(list)\n",
    "    swapped = False\n",
    "    for i in range(n - 1):\n",
    "        for j in range(n - i - 1):\n",
    "            if list[j] > list[j+1]:\n",
    "                list[j] , list[j+1] = list[j+1] , list[j]\n",
    "                swapped = True\n",
    "        if swapped == False:\n",
    "            return \"The array is sorted\"\n",
    "    return list"
   ]
  },
  {
   "cell_type": "code",
   "execution_count": 118,
   "id": "aee5858d",
   "metadata": {
    "id": "aee5858d"
   },
   "outputs": [],
   "source": [
    "l8 = [5,6,7,8,9]"
   ]
  },
  {
   "cell_type": "code",
   "execution_count": 119,
   "id": "afd9fb10",
   "metadata": {
    "colab": {
     "base_uri": "https://localhost:8080/",
     "height": 35
    },
    "id": "afd9fb10",
    "outputId": "2c6bd591-3291-4411-a27b-c2b8c521045d"
   },
   "outputs": [
    {
     "data": {
      "text/plain": [
       "'The array is sorted'"
      ]
     },
     "execution_count": 119,
     "metadata": {},
     "output_type": "execute_result"
    }
   ],
   "source": [
    "sortedBubbleSort(l8)"
   ]
  },
  {
   "cell_type": "markdown",
   "id": "10fa15b8",
   "metadata": {
    "id": "10fa15b8"
   },
   "source": [
    "## Selection Sort\n",
    "\n",
    "* Does less memory writes compared to `quicksort` and `mergesort`\n",
    "* `CycleSort` does optimal memory writes\n",
    "* It is based on basic idea of `HeapSort`\n",
    "* It is not stable\n",
    "* It is in-place sorting algorithm\n"
   ]
  },
  {
   "cell_type": "markdown",
   "id": "c694bab2",
   "metadata": {
    "id": "c694bab2"
   },
   "source": [
    "#### O(n^2) \n",
    "\n",
    "It gives same space and time complexity in all the cases ( worst, best and average)"
   ]
  },
  {
   "cell_type": "code",
   "execution_count": 120,
   "id": "3af705b1",
   "metadata": {
    "id": "3af705b1"
   },
   "outputs": [],
   "source": [
    "def naiveSelectSort(list):\n",
    "    n = len(list)\n",
    "    for i in range(n-1):\n",
    "        min_index = i\n",
    "        for j in range(i+1,n):\n",
    "            if list[j] < list[min_index]:\n",
    "                min_index = j\n",
    "        list[min_index],list[i] = list[i], list[min_index]\n",
    "    return list"
   ]
  },
  {
   "cell_type": "code",
   "execution_count": 121,
   "id": "d35b1d20",
   "metadata": {
    "id": "d35b1d20"
   },
   "outputs": [],
   "source": [
    "l9 = [12,15,13,16,4]"
   ]
  },
  {
   "cell_type": "code",
   "execution_count": 122,
   "id": "5c400f27",
   "metadata": {
    "colab": {
     "base_uri": "https://localhost:8080/"
    },
    "id": "5c400f27",
    "outputId": "bbd0f2c4-85b0-457e-c85b-4387c85b18c3"
   },
   "outputs": [
    {
     "data": {
      "text/plain": [
       "[4, 12, 13, 15, 16]"
      ]
     },
     "execution_count": 122,
     "metadata": {},
     "output_type": "execute_result"
    }
   ],
   "source": [
    "naiveSelectSort(l9)"
   ]
  },
  {
   "cell_type": "markdown",
   "id": "9425c06d",
   "metadata": {
    "id": "9425c06d"
   },
   "source": [
    "## Insertion Sort\n",
    "\n",
    "\n",
    "* O(n^2) for worst case\n",
    "* O(n) for best case\n",
    "* It is in-place\n",
    "* It is stable\n",
    "* Used in practice for small arrays ( `Timsort` and `Inrosort` both uses `insertion sort` for small array inputs)"
   ]
  },
  {
   "cell_type": "code",
   "execution_count": 123,
   "id": "e6160d41",
   "metadata": {
    "id": "e6160d41"
   },
   "outputs": [],
   "source": [
    "def insertionSort(list):\n",
    "    for i in range(1,len(list)):\n",
    "        j = i\n",
    "        while list[j - 1] > list[j] and j > 0:\n",
    "            list[j] , list[j - 1] = list[j - 1] , list[j]\n",
    "            j -= 1\n",
    "    return list"
   ]
  },
  {
   "cell_type": "code",
   "execution_count": 124,
   "id": "ee74a0fb",
   "metadata": {
    "id": "ee74a0fb"
   },
   "outputs": [],
   "source": [
    "l10 = [20,5,40,60,10,30]"
   ]
  },
  {
   "cell_type": "code",
   "execution_count": 125,
   "id": "57551faf",
   "metadata": {
    "colab": {
     "base_uri": "https://localhost:8080/"
    },
    "id": "57551faf",
    "outputId": "cfac763e-6e32-45c3-a5b0-4afaf9dbcede"
   },
   "outputs": [
    {
     "data": {
      "text/plain": [
       "[5, 10, 20, 30, 40, 60]"
      ]
     },
     "execution_count": 125,
     "metadata": {},
     "output_type": "execute_result"
    }
   ],
   "source": [
    "insertionSort(l10)"
   ]
  },
  {
   "cell_type": "markdown",
   "id": "2973fd4d",
   "metadata": {
    "id": "2973fd4d"
   },
   "source": [
    "#### merge two arrays and sort them"
   ]
  },
  {
   "cell_type": "code",
   "execution_count": 126,
   "id": "e9335be8",
   "metadata": {
    "id": "e9335be8"
   },
   "outputs": [],
   "source": [
    "def merge2sort(list1,list2):\n",
    "    l = list1 + list2\n",
    "    # let's apply insertion sort\n",
    "    for i in range(len(l)):\n",
    "        j = i\n",
    "        while l[j-1] > l[j] and j> 0:\n",
    "            l[j-1],l[j] = l[j] , l[j-1]\n",
    "            j -= 1\n",
    "    return l"
   ]
  },
  {
   "cell_type": "code",
   "execution_count": 127,
   "id": "5ede557d",
   "metadata": {
    "colab": {
     "base_uri": "https://localhost:8080/"
    },
    "id": "5ede557d",
    "outputId": "c2ccaa11-22fa-470e-af78-372075446fb0"
   },
   "outputs": [
    {
     "data": {
      "text/plain": [
       "[5, 6, 6, 10, 15, 20, 30]"
      ]
     },
     "execution_count": 127,
     "metadata": {},
     "output_type": "execute_result"
    }
   ],
   "source": [
    "merge2sort([10,15,20],[5,6,6,30])"
   ]
  },
  {
   "cell_type": "markdown",
   "id": "05c1e83f",
   "metadata": {
    "id": "05c1e83f"
   },
   "source": [
    "#### merge two sorted arrays"
   ]
  },
  {
   "cell_type": "code",
   "execution_count": 128,
   "id": "ad2f031f",
   "metadata": {
    "id": "ad2f031f"
   },
   "outputs": [],
   "source": [
    "def merge2SortedArray(list1,list2):\n",
    "    res = []\n",
    "    m = len(list1)\n",
    "    n = len(list2)\n",
    "    i = 0\n",
    "    j = 0\n",
    "    while i<m and  j<n:\n",
    "        if list1[i] <list2[j]:\n",
    "            res.append(list1[i])\n",
    "            i += 1\n",
    "        else:\n",
    "            res.append(list2[j])\n",
    "            j += 1\n",
    "    while i<m:\n",
    "        res.append(list1[i])\n",
    "        i += 1\n",
    "    while j<n:\n",
    "        res.append(list2[j])\n",
    "        j += 1\n",
    "    return res"
   ]
  },
  {
   "cell_type": "code",
   "execution_count": 129,
   "id": "172e0b56",
   "metadata": {
    "colab": {
     "base_uri": "https://localhost:8080/"
    },
    "id": "172e0b56",
    "outputId": "56406ec1-4618-48b5-ff5b-12fe74b5706f"
   },
   "outputs": [
    {
     "data": {
      "text/plain": [
       "[5, 6, 6, 10, 15, 30, 40]"
      ]
     },
     "execution_count": 129,
     "metadata": {},
     "output_type": "execute_result"
    }
   ],
   "source": [
    "merge2SortedArray([10,15],[5,6,6,30,40])"
   ]
  },
  {
   "cell_type": "markdown",
   "id": "c743a5e2",
   "metadata": {
    "id": "c743a5e2"
   },
   "source": [
    "#### Merge two sub arrays"
   ]
  },
  {
   "cell_type": "code",
   "execution_count": 130,
   "id": "dc543c20",
   "metadata": {
    "id": "dc543c20"
   },
   "outputs": [],
   "source": [
    "def merge2SubArrays(a,low,mid,high):\n",
    "    l1 = a[low:mid + 1]\n",
    "    l2 = a[mid + 1:high +1]\n",
    "    a = len(l1)\n",
    "    b = len(l2)\n",
    "    i = 0\n",
    "    j = 0\n",
    "    res = []\n",
    "    while i<a and j<b:\n",
    "        if l1[i] < l2[j]:\n",
    "            res.append(l1[i])\n",
    "            i += 1\n",
    "        else:\n",
    "            res.append(l2[j])\n",
    "            j += 1\n",
    "    while i<a:\n",
    "        res.append(l1[i])\n",
    "        i += 1\n",
    "    while j<b:\n",
    "        res.append(l2[j])\n",
    "        j += 1\n",
    "    return res\n",
    "                        "
   ]
  },
  {
   "cell_type": "code",
   "execution_count": 131,
   "id": "36ccb228",
   "metadata": {
    "id": "36ccb228"
   },
   "outputs": [],
   "source": [
    "a = [10,15,20,11,13]"
   ]
  },
  {
   "cell_type": "code",
   "execution_count": 132,
   "id": "ec5a9521",
   "metadata": {
    "id": "ec5a9521"
   },
   "outputs": [],
   "source": [
    "a = [5,8,12,14,7]"
   ]
  },
  {
   "cell_type": "code",
   "execution_count": 133,
   "id": "fb95b062",
   "metadata": {
    "colab": {
     "base_uri": "https://localhost:8080/"
    },
    "id": "fb95b062",
    "outputId": "61a539e4-9b1f-49b4-f506-d7b7b5e124ae"
   },
   "outputs": [
    {
     "data": {
      "text/plain": [
       "[5, 7, 8, 12, 14]"
      ]
     },
     "execution_count": 133,
     "metadata": {},
     "output_type": "execute_result"
    }
   ],
   "source": [
    "merge2SubArrays(a,0,3,4)"
   ]
  },
  {
   "cell_type": "code",
   "execution_count": 134,
   "id": "e2971ef6",
   "metadata": {
    "id": "e2971ef6"
   },
   "outputs": [],
   "source": [
    "def merge(a,l,m,h):\n",
    "    left = a[l:m+1]\n",
    "    right = a[m+1:h+1]\n",
    "    i = j = 0\n",
    "    k = l\n",
    "    while i < len(left) and j < len(right):\n",
    "        if left[i] < right[j]:\n",
    "            a[k] = left[i]\n",
    "            k += 1\n",
    "            i += 1\n",
    "        else:\n",
    "            a[k] = right[j]\n",
    "            j += 1\n",
    "            k += 1\n",
    "    while i<len(left):\n",
    "        a[k] = left[i]\n",
    "        i += 1\n",
    "        k += 1\n",
    "    while j<len(right):\n",
    "        a[k] = right[j]\n",
    "        j += 1\n",
    "        k += 1\n",
    "    return a"
   ]
  },
  {
   "cell_type": "code",
   "execution_count": 135,
   "id": "fe3030bd",
   "metadata": {
    "id": "fe3030bd"
   },
   "outputs": [],
   "source": [
    "arr = [5,10,30,40,1,2,3]"
   ]
  },
  {
   "cell_type": "code",
   "execution_count": 136,
   "id": "0de17ba4",
   "metadata": {
    "colab": {
     "base_uri": "https://localhost:8080/"
    },
    "id": "0de17ba4",
    "outputId": "394ead18-39b2-488a-90bb-1712d39fcdf5"
   },
   "outputs": [
    {
     "data": {
      "text/plain": [
       "[1, 2, 3, 5, 10, 30, 40]"
      ]
     },
     "execution_count": 136,
     "metadata": {},
     "output_type": "execute_result"
    }
   ],
   "source": [
    "merge(arr,0,3,len(arr) - 1)"
   ]
  },
  {
   "cell_type": "markdown",
   "id": "06dd1b51",
   "metadata": {
    "id": "06dd1b51"
   },
   "source": [
    "## Merge Sort\n",
    "\n",
    "* Divide and conquer algorithm (Divide, Conquer and merge)\n",
    "* Stable Sorting Algortihm\n",
    "* It is not in-place sorting algorithm"
   ]
  },
  {
   "cell_type": "code",
   "execution_count": 137,
   "id": "3494e1db",
   "metadata": {
    "id": "3494e1db"
   },
   "outputs": [],
   "source": [
    "def mergeSort(list,l, r):\n",
    "    if r > l:\n",
    "        m = (l + r) // 2\n",
    "        mergeSort(list,l, m )\n",
    "        mergeSort(list,m + 1, r)\n",
    "        merge(list,l,m,r)\n",
    "    print(list)"
   ]
  },
  {
   "cell_type": "code",
   "execution_count": 138,
   "id": "e0cb0508",
   "metadata": {
    "id": "e0cb0508"
   },
   "outputs": [],
   "source": [
    "arr = [10, 5, 30, 15, 7]"
   ]
  },
  {
   "cell_type": "code",
   "execution_count": 139,
   "id": "719f16a7",
   "metadata": {
    "colab": {
     "base_uri": "https://localhost:8080/"
    },
    "id": "719f16a7",
    "outputId": "0a07415e-d3a8-40bd-9ce0-92fab47c8a1c"
   },
   "outputs": [
    {
     "name": "stdout",
     "output_type": "stream",
     "text": [
      "[10, 5, 30, 15, 7]\n",
      "[10, 5, 30, 15, 7]\n",
      "[5, 10, 30, 15, 7]\n",
      "[5, 10, 30, 15, 7]\n",
      "[5, 10, 30, 15, 7]\n",
      "[5, 10, 30, 15, 7]\n",
      "[5, 10, 30, 15, 7]\n",
      "[5, 10, 30, 7, 15]\n",
      "[5, 7, 10, 15, 30]\n"
     ]
    }
   ],
   "source": [
    "mergeSort(arr,0,4)"
   ]
  },
  {
   "cell_type": "code",
   "execution_count": 140,
   "id": "32ed6af6",
   "metadata": {
    "colab": {
     "base_uri": "https://localhost:8080/"
    },
    "id": "32ed6af6",
    "outputId": "70fa152e-c309-4333-af9c-122c80bdd77e"
   },
   "outputs": [
    {
     "name": "stdout",
     "output_type": "stream",
     "text": [
      "[5, 7, 10, 15, 30]\n"
     ]
    }
   ],
   "source": [
    "print(arr)"
   ]
  },
  {
   "cell_type": "code",
   "execution_count": 141,
   "id": "3079dedf",
   "metadata": {
    "id": "3079dedf"
   },
   "outputs": [],
   "source": [
    "def mergeSort(list,l, r):\n",
    "    if r > l:\n",
    "        m = (l + r) // 2\n",
    "        mergeSort(list,l, m )\n",
    "        mergeSort(list,m + 1, r)\n",
    "        left = list[l:m+1]\n",
    "        right = list[m+1:r+1]\n",
    "        i = j = 0\n",
    "        k = l\n",
    "        while i < len(left) and j < len(right):\n",
    "            if left[i] < right[j]:\n",
    "                list[k] = left[i]\n",
    "                k += 1\n",
    "                i += 1\n",
    "            else:\n",
    "                list[k] = right[j]\n",
    "                j += 1\n",
    "                k += 1\n",
    "        while i<len(left):\n",
    "            list[k] = left[i]\n",
    "            i += 1\n",
    "            k += 1\n",
    "        while j<len(right):\n",
    "            list[k] = right[j]\n",
    "            j += 1\n",
    "            k += 1\n",
    "    print(list)"
   ]
  },
  {
   "cell_type": "code",
   "execution_count": 142,
   "id": "7a03f559",
   "metadata": {
    "id": "7a03f559"
   },
   "outputs": [],
   "source": [
    "arr = [10, 5, 30, 15, 7]"
   ]
  },
  {
   "cell_type": "code",
   "execution_count": 143,
   "id": "20b1878b",
   "metadata": {
    "colab": {
     "base_uri": "https://localhost:8080/"
    },
    "id": "20b1878b",
    "outputId": "eab3b3b4-c7b8-4806-ab4a-cacaaa47d6a9"
   },
   "outputs": [
    {
     "name": "stdout",
     "output_type": "stream",
     "text": [
      "[10, 5, 30, 15, 7]\n",
      "[10, 5, 30, 15, 7]\n",
      "[5, 10, 30, 15, 7]\n",
      "[5, 10, 30, 15, 7]\n",
      "[5, 10, 30, 15, 7]\n",
      "[5, 10, 30, 15, 7]\n",
      "[5, 10, 30, 15, 7]\n",
      "[5, 10, 30, 7, 15]\n",
      "[5, 7, 10, 15, 30]\n"
     ]
    }
   ],
   "source": [
    "mergeSort(arr,0,4)"
   ]
  },
  {
   "cell_type": "markdown",
   "id": "7886a033",
   "metadata": {
    "id": "7886a033"
   },
   "source": [
    "#### Union of Two Sorted Array"
   ]
  },
  {
   "cell_type": "markdown",
   "id": "23a3f7e5",
   "metadata": {
    "id": "23a3f7e5"
   },
   "source": [
    "#### naive approach"
   ]
  },
  {
   "cell_type": "code",
   "execution_count": 144,
   "id": "1db21995",
   "metadata": {
    "id": "1db21995"
   },
   "outputs": [],
   "source": [
    "a = [3,5,8]\n",
    "b = [2,8,9,10,15]\n",
    "\n",
    "c = a + b\n"
   ]
  },
  {
   "cell_type": "code",
   "execution_count": 145,
   "id": "73432abc",
   "metadata": {
    "colab": {
     "base_uri": "https://localhost:8080/"
    },
    "id": "73432abc",
    "outputId": "faa049b4-ccbe-4386-c13f-adadcc417e3d"
   },
   "outputs": [
    {
     "data": {
      "text/plain": [
       "[3, 5, 8, 2, 8, 9, 10, 15]"
      ]
     },
     "execution_count": 145,
     "metadata": {},
     "output_type": "execute_result"
    }
   ],
   "source": [
    "c"
   ]
  },
  {
   "cell_type": "code",
   "execution_count": 146,
   "id": "7d23947a",
   "metadata": {
    "id": "7d23947a"
   },
   "outputs": [],
   "source": [
    "def unionOfSortedArray(list,l,r):\n",
    "    if r > l:\n",
    "        m = (l + r) // 2\n",
    "        unionOfSortedArray(list,l,m)\n",
    "        unionOfSortedArray(list,m+1,r)\n",
    "        left = list[l:m+1]\n",
    "        right = list[m+1:r+1]\n",
    "        i = j = 0\n",
    "        k = l\n",
    "        while i < len(left) and j< len(right):\n",
    "            if left[i] < right[j]:\n",
    "                list[k] = left[i]\n",
    "                i += 1\n",
    "                k += 1\n",
    "            else:\n",
    "                list[k] = right[j]\n",
    "                j += 1\n",
    "                k += 1\n",
    "        while i < len(left):\n",
    "            list[k] = left[i]\n",
    "            k += 1\n",
    "            i += 1\n",
    "        while j < len(right):\n",
    "            list[k] = right[j]\n",
    "            k += 1\n",
    "            j += 1\n",
    "    print(list)\n",
    "    # print distinct elements\n",
    "    for i in range(0,len(list)):\n",
    "        if (i == 0 or list[i] != list[i - 1]):\n",
    "            print(list[i],end=\" \")"
   ]
  },
  {
   "cell_type": "code",
   "execution_count": 147,
   "id": "65e9c032",
   "metadata": {
    "colab": {
     "base_uri": "https://localhost:8080/"
    },
    "id": "65e9c032",
    "outputId": "3f42b5df-02a9-47ef-fe57-7a74aa24a9d8"
   },
   "outputs": [
    {
     "name": "stdout",
     "output_type": "stream",
     "text": [
      "[3, 5, 8, 2, 8, 9, 10, 15]\n",
      "3 5 8 2 8 9 10 15 [3, 5, 8, 2, 8, 9, 10, 15]\n",
      "3 5 8 2 8 9 10 15 [3, 5, 8, 2, 8, 9, 10, 15]\n",
      "3 5 8 2 8 9 10 15 [3, 5, 8, 2, 8, 9, 10, 15]\n",
      "3 5 8 2 8 9 10 15 [3, 5, 8, 2, 8, 9, 10, 15]\n",
      "3 5 8 2 8 9 10 15 [3, 5, 2, 8, 8, 9, 10, 15]\n",
      "3 5 2 8 9 10 15 [2, 3, 5, 8, 8, 9, 10, 15]\n",
      "2 3 5 8 9 10 15 [2, 3, 5, 8, 8, 9, 10, 15]\n",
      "2 3 5 8 9 10 15 [2, 3, 5, 8, 8, 9, 10, 15]\n",
      "2 3 5 8 9 10 15 [2, 3, 5, 8, 8, 9, 10, 15]\n",
      "2 3 5 8 9 10 15 [2, 3, 5, 8, 8, 9, 10, 15]\n",
      "2 3 5 8 9 10 15 [2, 3, 5, 8, 8, 9, 10, 15]\n",
      "2 3 5 8 9 10 15 [2, 3, 5, 8, 8, 9, 10, 15]\n",
      "2 3 5 8 9 10 15 [2, 3, 5, 8, 8, 9, 10, 15]\n",
      "2 3 5 8 9 10 15 [2, 3, 5, 8, 8, 9, 10, 15]\n",
      "2 3 5 8 9 10 15 "
     ]
    }
   ],
   "source": [
    "unionOfSortedArray(c,0,len(c)-1)"
   ]
  },
  {
   "cell_type": "markdown",
   "id": "3e9a7112",
   "metadata": {
    "id": "3e9a7112"
   },
   "source": [
    "#### Efficient solution"
   ]
  },
  {
   "cell_type": "code",
   "execution_count": 148,
   "id": "c61231f6",
   "metadata": {
    "id": "c61231f6"
   },
   "outputs": [],
   "source": [
    "def EfficientUnionOfTwoSortedArray(a,b):\n",
    "    i = j = 0\n",
    "    while i < len(a) and j<len(b):\n",
    "        if i>0 and a[i] == a[i - 1]:\n",
    "            i += 1\n",
    "        elif j>0 and b[j] == b[j - 1]:\n",
    "            j += 1\n",
    "        elif a[i] < b[j]:\n",
    "            print(a[i],end=\" \")\n",
    "            i += 1\n",
    "        elif a[i] > b[j]:\n",
    "            print(b[j],end=\" \")\n",
    "            j += 1\n",
    "        else:\n",
    "            a[i] == b[j]\n",
    "            print(a[i],end=\" \")\n",
    "            i += 1\n",
    "            j += 1\n",
    "    while i<len(a):\n",
    "        print(a[i], end=\" \")\n",
    "        i += 1\n",
    "    while j<len(b):\n",
    "        print(b[j],end=\" \")\n",
    "        j += 1\n",
    "       "
   ]
  },
  {
   "cell_type": "code",
   "execution_count": 149,
   "id": "adda0a94",
   "metadata": {
    "id": "adda0a94"
   },
   "outputs": [],
   "source": [
    "a = [3,5,8]\n",
    "b = [2,8,9,10,15]"
   ]
  },
  {
   "cell_type": "code",
   "execution_count": 150,
   "id": "0b6a3e48",
   "metadata": {
    "colab": {
     "base_uri": "https://localhost:8080/"
    },
    "id": "0b6a3e48",
    "outputId": "1431c6a9-7d1a-440a-eb0e-004ff7ccbdf3"
   },
   "outputs": [
    {
     "name": "stdout",
     "output_type": "stream",
     "text": [
      "2 3 5 8 9 10 15 "
     ]
    }
   ],
   "source": [
    "EfficientUnionOfTwoSortedArray(a,b)"
   ]
  },
  {
   "cell_type": "markdown",
   "id": "c1e9bbb6",
   "metadata": {
    "id": "c1e9bbb6"
   },
   "source": [
    "#### intersection of two sorted arrays"
   ]
  },
  {
   "cell_type": "code",
   "execution_count": 151,
   "id": "Xioso3C-8QEC",
   "metadata": {
    "id": "Xioso3C-8QEC"
   },
   "outputs": [],
   "source": [
    "def intersectionTwoSorted(a,b,m,n):\n",
    "  for i in range(m):\n",
    "    if i>0 and a[i-1] == a[i]:\n",
    "      continue\n",
    "    for j in range(n):\n",
    "      if a[i] == b[j]:\n",
    "        print(a[i],end=\" \")\n",
    "        break"
   ]
  },
  {
   "cell_type": "code",
   "execution_count": 152,
   "id": "HFVf5_PW8kZR",
   "metadata": {
    "id": "HFVf5_PW8kZR"
   },
   "outputs": [],
   "source": [
    "a = [1,20,20,40,60]\n",
    "b = [2,20,20]\n",
    "m = len(a)\n",
    "n = len(b)"
   ]
  },
  {
   "cell_type": "code",
   "execution_count": 153,
   "id": "MJBbu-Yt82Do",
   "metadata": {
    "colab": {
     "base_uri": "https://localhost:8080/"
    },
    "id": "MJBbu-Yt82Do",
    "outputId": "431d2290-25d4-4347-d9fd-7fe5125b0a93"
   },
   "outputs": [
    {
     "name": "stdout",
     "output_type": "stream",
     "text": [
      "20 "
     ]
    }
   ],
   "source": [
    "intersectionTwoSorted(a,b,m,n)"
   ]
  },
  {
   "cell_type": "markdown",
   "id": "ODR9cIJW85LP",
   "metadata": {
    "id": "ODR9cIJW85LP"
   },
   "source": [
    "#### count inversion in array"
   ]
  },
  {
   "cell_type": "code",
   "execution_count": 154,
   "id": "FG-ydyoA9IWB",
   "metadata": {
    "id": "FG-ydyoA9IWB"
   },
   "outputs": [],
   "source": [
    "def countInversion(list,l,r):\n",
    "  def merge(list,l,m,r):\n",
    "    left = list[l:m+1]\n",
    "    right = list[m+1:r+1]\n",
    "    i = j = 0\n",
    "    k = l\n",
    "    res = 0\n",
    "    while i<len(left) and j<len(right):\n",
    "      if left[i] <= right[j]:\n",
    "        list[k] = left[i]\n",
    "        i += 1\n",
    "      else:\n",
    "        list[k] = right[j]\n",
    "        res += len(left) - i\n",
    "        j += 1\n",
    "      k += 1\n",
    "    while i<len(left):\n",
    "      list[k] = left[i]\n",
    "      i += 1\n",
    "      k += 1\n",
    "    while j<len(right):\n",
    "      list[k] = right[j]\n",
    "      j += 1\n",
    "      k += 1\n",
    "    return res\n",
    "\n",
    "  res = 0\n",
    "  if r>l:\n",
    "    m = (l + r)//2\n",
    "    res += countInversion(list,l,m)\n",
    "    res += countInversion(list,m+1,r)\n",
    "    res += merge(list,l,m,r)\n",
    "  print(list)\n",
    "  return res"
   ]
  },
  {
   "cell_type": "code",
   "execution_count": 155,
   "id": "3GYFmXKrjCXh",
   "metadata": {
    "id": "3GYFmXKrjCXh"
   },
   "outputs": [],
   "source": [
    "arr = [2,1,3,6,5]"
   ]
  },
  {
   "cell_type": "code",
   "execution_count": 156,
   "id": "hErICH9vjIw8",
   "metadata": {
    "colab": {
     "base_uri": "https://localhost:8080/"
    },
    "id": "hErICH9vjIw8",
    "outputId": "8639c1fb-a4d1-4ffd-b496-470084400af6"
   },
   "outputs": [
    {
     "name": "stdout",
     "output_type": "stream",
     "text": [
      "[2, 1, 3, 6, 5]\n",
      "[2, 1, 3, 6, 5]\n",
      "[1, 2, 3, 6, 5]\n",
      "[1, 2, 3, 6, 5]\n",
      "[1, 2, 3, 6, 5]\n",
      "[1, 2, 3, 6, 5]\n",
      "[1, 2, 3, 6, 5]\n",
      "[1, 2, 3, 5, 6]\n",
      "[1, 2, 3, 5, 6]\n"
     ]
    },
    {
     "data": {
      "text/plain": [
       "2"
      ]
     },
     "execution_count": 156,
     "metadata": {},
     "output_type": "execute_result"
    }
   ],
   "source": [
    "countInversion(arr,0,len(arr)-1)"
   ]
  },
  {
   "cell_type": "markdown",
   "id": "NoBLMqS1jM9z",
   "metadata": {
    "id": "NoBLMqS1jM9z"
   },
   "source": [
    "#### Partition a Given Array"
   ]
  },
  {
   "cell_type": "code",
   "execution_count": 157,
   "id": "Y2tKCW7vjYmf",
   "metadata": {
    "id": "Y2tKCW7vjYmf"
   },
   "outputs": [],
   "source": [
    "arr = [3,8,6,12,10,7,4]\n",
    "p = 5"
   ]
  },
  {
   "cell_type": "code",
   "execution_count": 158,
   "id": "mA8dwP9ljhWL",
   "metadata": {
    "id": "mA8dwP9ljhWL"
   },
   "outputs": [],
   "source": [
    "def PartitionArray(arr,a):\n",
    "  n = len(arr)\n",
    "  arr[a],arr[n-1] = arr[n-1],arr[a]\n",
    "  temp = []\n",
    "  for x in arr:\n",
    "    if x<=arr[n-1]:\n",
    "      temp.append(x)\n",
    "  for x in arr:\n",
    "    if x>arr[n-1]:\n",
    "      temp.append(x)\n",
    "  for i in range(len(arr)):\n",
    "    arr[i] = temp[i]\n",
    "\n",
    "  return arr\n"
   ]
  },
  {
   "cell_type": "code",
   "execution_count": 159,
   "id": "26ANSPHokv71",
   "metadata": {
    "colab": {
     "base_uri": "https://localhost:8080/"
    },
    "id": "26ANSPHokv71",
    "outputId": "4ffe8822-66fa-4e0d-c0b6-095093ede382"
   },
   "outputs": [
    {
     "data": {
      "text/plain": [
       "[3, 6, 4, 7, 8, 12, 10]"
      ]
     },
     "execution_count": 159,
     "metadata": {},
     "output_type": "execute_result"
    }
   ],
   "source": [
    "PartitionArray(arr,p)"
   ]
  },
  {
   "cell_type": "markdown",
   "id": "exT5stwvky5E",
   "metadata": {
    "id": "exT5stwvky5E"
   },
   "source": [
    "#### Hoare's Partition\n",
    "\n",
    "\n",
    "It is not stable"
   ]
  },
  {
   "cell_type": "code",
   "execution_count": 160,
   "id": "uArdpLCeDxws",
   "metadata": {
    "id": "uArdpLCeDxws"
   },
   "outputs": [],
   "source": [
    "def HoarePartition(arr,l,h):\n",
    "  pivot = arr[l]\n",
    "  i = l - 1\n",
    "  j = h + 1\n",
    "  while True:\n",
    "    i += 1\n",
    "    while arr[i] < pivot:\n",
    "      i += 1\n",
    "    j -= 1\n",
    "    while arr[j] > pivot:\n",
    "      j -= 1\n",
    "    if i>= j:\n",
    "      return j, arr\n",
    "    arr[i], arr[j] = arr[j], arr[i]"
   ]
  },
  {
   "cell_type": "code",
   "execution_count": 161,
   "id": "bukxVF5uDzBS",
   "metadata": {
    "id": "bukxVF5uDzBS"
   },
   "outputs": [],
   "source": [
    "arr = [5,3,8,4,2,7,1,10]"
   ]
  },
  {
   "cell_type": "code",
   "execution_count": 162,
   "id": "dimcVgL4GxuH",
   "metadata": {
    "colab": {
     "base_uri": "https://localhost:8080/"
    },
    "id": "dimcVgL4GxuH",
    "outputId": "41eb2f44-04a6-48e2-b799-e3f210a17fd2"
   },
   "outputs": [
    {
     "data": {
      "text/plain": [
       "(3, [1, 3, 2, 4, 8, 7, 5, 10])"
      ]
     },
     "execution_count": 162,
     "metadata": {},
     "output_type": "execute_result"
    }
   ],
   "source": [
    "HoarePartition(arr,0,len(arr)-1)"
   ]
  },
  {
   "cell_type": "markdown",
   "id": "cc9c4b02",
   "metadata": {},
   "source": [
    "#### Lomuto Partition"
   ]
  },
  {
   "cell_type": "code",
   "execution_count": 163,
   "id": "e7wYaKkdHmH7",
   "metadata": {
    "id": "e7wYaKkdHmH7"
   },
   "outputs": [],
   "source": [
    "def LomutoPartition(arr,l,h):\n",
    "  pivot = arr[h]\n",
    "  i = l - 1\n",
    "  for j in range(l,h):\n",
    "    if arr[j] < pivot:\n",
    "      i += 1\n",
    "      arr[i] , arr[j] = arr[j], arr[i]\n",
    "  i += 1\n",
    "  arr[i] , arr[h] = arr[h] , arr[i]\n",
    "  return i, arr"
   ]
  },
  {
   "cell_type": "code",
   "execution_count": 164,
   "id": "L3BoIidJOJ2R",
   "metadata": {
    "id": "L3BoIidJOJ2R"
   },
   "outputs": [],
   "source": [
    "arr = [10,80,30,90,40,50,70]"
   ]
  },
  {
   "cell_type": "code",
   "execution_count": 165,
   "id": "WPFec8WXOGwx",
   "metadata": {
    "colab": {
     "base_uri": "https://localhost:8080/"
    },
    "id": "WPFec8WXOGwx",
    "outputId": "a396ea17-f6ba-4e6e-8ae5-b415131e61f7"
   },
   "outputs": [
    {
     "data": {
      "text/plain": [
       "(4, [10, 30, 40, 50, 70, 90, 80])"
      ]
     },
     "execution_count": 165,
     "metadata": {},
     "output_type": "execute_result"
    }
   ],
   "source": [
    "LomutoPartition(arr,0,len(arr)-1)"
   ]
  },
  {
   "cell_type": "code",
   "execution_count": 166,
   "id": "fEBA5yCSOxJb",
   "metadata": {
    "id": "fEBA5yCSOxJb"
   },
   "outputs": [],
   "source": [
    "arr = [10,80,30,90,40,50,70]"
   ]
  },
  {
   "cell_type": "markdown",
   "id": "qy0OQoHHO2OP",
   "metadata": {
    "id": "qy0OQoHHO2OP"
   },
   "source": [
    "## Quick Sort\n",
    "\n",
    "\n",
    "\n",
    "\n",
    "*   Divide and Conquer Method\n",
    "*   Worst Case Time - O(n^2)\n",
    "*   It is in-place\n",
    "* Cache Friendly\n",
    "* Partiton is the key function\n",
    "\n",
    "\n",
    "\n"
   ]
  },
  {
   "cell_type": "markdown",
   "id": "M08LAUIBPxtE",
   "metadata": {
    "id": "M08LAUIBPxtE"
   },
   "source": [
    "#### Using Hoare's Partition\n",
    "\n",
    "\n",
    "Hoare is most efficient but it is not stable"
   ]
  },
  {
   "cell_type": "code",
   "execution_count": 1,
   "id": "V12R7MQqSobr",
   "metadata": {
    "id": "V12R7MQqSobr"
   },
   "outputs": [],
   "source": [
    "def QuickSortHoarePartition(arr,l,h):\n",
    "  def HoarePartition(arr,l,h):\n",
    "    pivot = arr[l]\n",
    "    i = l -1\n",
    "    j = h + 1\n",
    "    while True:\n",
    "      i += 1\n",
    "      while arr[i]<pivot:\n",
    "        i += 1\n",
    "      j -= 1\n",
    "      while arr[j] > pivot:\n",
    "        j -= 1\n",
    "      if i >= j:\n",
    "        return j\n",
    "      arr[i], arr[j] = arr[j] , arr[i]\n",
    "  if l < h:\n",
    "    p = HoarePartition(arr,l,h)\n",
    "    QuickSortHoarePartition(arr,l,p)\n",
    "    QuickSortHoarePartition(arr,p+1,h)\n",
    "  return arr"
   ]
  },
  {
   "cell_type": "code",
   "execution_count": 2,
   "id": "F1uCfaHITvxy",
   "metadata": {
    "id": "F1uCfaHITvxy"
   },
   "outputs": [],
   "source": [
    "arr = [5,3,8,4,2,7,1,10]"
   ]
  },
  {
   "cell_type": "code",
   "execution_count": 3,
   "id": "HLEWIm9zSsAd",
   "metadata": {
    "colab": {
     "base_uri": "https://localhost:8080/"
    },
    "id": "HLEWIm9zSsAd",
    "outputId": "b38837cd-3897-4865-f0d0-88d74d6494f3"
   },
   "outputs": [
    {
     "data": {
      "text/plain": [
       "[1, 2, 3, 4, 5, 7, 8, 10]"
      ]
     },
     "execution_count": 3,
     "metadata": {},
     "output_type": "execute_result"
    }
   ],
   "source": [
    "QuickSortHoarePartition(arr,0,len(arr)-1)"
   ]
  },
  {
   "cell_type": "markdown",
   "id": "e813a3b7",
   "metadata": {
    "colab": {
     "base_uri": "https://localhost:8080/"
    },
    "id": "ecfsIPYTTbh1",
    "outputId": "4d1422c9-7f22-40df-d97b-af444c19a995"
   },
   "source": [
    "#### Using Lomuto Partition"
   ]
  },
  {
   "cell_type": "code",
   "execution_count": 1,
   "id": "5jCJUSVqTyit",
   "metadata": {
    "id": "5jCJUSVqTyit"
   },
   "outputs": [],
   "source": [
    "def QuickSortLomutoPartition(list,l,h):\n",
    "    def LomutoPartition(list,l,h):\n",
    "        pivot = list[h]\n",
    "        i = l - 1\n",
    "        for j in range(l,h):\n",
    "            if list[j] <= pivot:\n",
    "                i += 1\n",
    "                # swapping of elements\n",
    "                list[i] , list[j] = list[j] , list[i]\n",
    "        i += 1\n",
    "        list[i], list[h] = list[h] , list[i]\n",
    "        return i\n",
    "    if l < h:\n",
    "        p = LomutoPartition(list,l,h)\n",
    "        QuickSortLomutoPartition(list,l,p-1)\n",
    "        QuickSortLomutoPartition(list,p+1,h)\n",
    "    return list"
   ]
  },
  {
   "cell_type": "code",
   "execution_count": 2,
   "id": "b3b84a5b",
   "metadata": {},
   "outputs": [],
   "source": [
    "arr = [8,4,7,9,3,10,5]"
   ]
  },
  {
   "cell_type": "code",
   "execution_count": 3,
   "id": "b27de1cd",
   "metadata": {},
   "outputs": [
    {
     "data": {
      "text/plain": [
       "[3, 4, 5, 7, 8, 9, 10]"
      ]
     },
     "execution_count": 3,
     "metadata": {},
     "output_type": "execute_result"
    }
   ],
   "source": [
    "QuickSortLomutoPartition(arr,0,len(arr)-1)"
   ]
  },
  {
   "cell_type": "code",
   "execution_count": null,
   "id": "26027ebd",
   "metadata": {},
   "outputs": [],
   "source": []
  }
 ],
 "metadata": {
  "colab": {
   "provenance": []
  },
  "kernelspec": {
   "display_name": "Python 3 (ipykernel)",
   "language": "python",
   "name": "python3"
  },
  "language_info": {
   "codemirror_mode": {
    "name": "ipython",
    "version": 3
   },
   "file_extension": ".py",
   "mimetype": "text/x-python",
   "name": "python",
   "nbconvert_exporter": "python",
   "pygments_lexer": "ipython3",
   "version": "3.10.6"
  }
 },
 "nbformat": 4,
 "nbformat_minor": 5
}

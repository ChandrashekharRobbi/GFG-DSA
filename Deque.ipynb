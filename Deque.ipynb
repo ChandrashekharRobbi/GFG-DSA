{
 "cells": [
  {
   "cell_type": "code",
   "execution_count": 1,
   "id": "4e7f59dd",
   "metadata": {},
   "outputs": [],
   "source": [
    "from imp_personal import MyFunction\n",
    "c = MyFunction()"
   ]
  },
  {
   "cell_type": "markdown",
   "id": "b88eae81",
   "metadata": {},
   "source": [
    "# Deque"
   ]
  },
  {
   "cell_type": "code",
   "execution_count": 2,
   "id": "272e54c4",
   "metadata": {},
   "outputs": [
    {
     "name": "stdout",
     "output_type": "stream",
     "text": [
      "Implementation of Deque by using Collection Module\n",
      "7. [Implementation of Deque by using Collection Module](#Implementation-of-Deque-by-using-Collection-Module)\n",
      "#### Implementation of Deque by using Collection Module\n",
      "Successfully added to the comment list\n"
     ]
    }
   ],
   "source": [
    "c.new(\"Implementation of Deque by using Collection Module\")"
   ]
  },
  {
   "cell_type": "markdown",
   "id": "d8bc6571",
   "metadata": {},
   "source": [
    "#### Implementation of Deque by using Collection Module"
   ]
  },
  {
   "cell_type": "code",
   "execution_count": 3,
   "id": "9d60a2c8",
   "metadata": {},
   "outputs": [
    {
     "data": {
      "text/plain": [
       "deque([10])"
      ]
     },
     "execution_count": 3,
     "metadata": {},
     "output_type": "execute_result"
    }
   ],
   "source": [
    "from collections import deque\n",
    "d = deque()\n",
    "d.append(10)\n",
    "d.append(20)\n",
    "d.appendleft(30)\n",
    "d.pop()\n",
    "d.popleft()\n",
    "d"
   ]
  },
  {
   "cell_type": "code",
   "execution_count": 4,
   "id": "0bdbbc04",
   "metadata": {},
   "outputs": [
    {
     "name": "stdout",
     "output_type": "stream",
     "text": [
      "Deque implementation using List\n",
      "7. [Deque implementation using List](#Deque-implementation-using-List)\n",
      "#### Deque implementation using List\n",
      "Successfully added to the comment list\n"
     ]
    }
   ],
   "source": [
    "c.new(\"Deque implementation using List\")"
   ]
  },
  {
   "cell_type": "markdown",
   "id": "f716c6ba",
   "metadata": {},
   "source": [
    "#### Deque implementation using List"
   ]
  },
  {
   "cell_type": "code",
   "execution_count": 5,
   "id": "b8c58fe3",
   "metadata": {},
   "outputs": [],
   "source": [
    "class List_deque:\n",
    "    def __init__(self):\n",
    "        self.arr = []\n",
    "        self.size = 0\n",
    "    def insertFront(self,x):\n",
    "        self.arr.insert(0,x)\n",
    "        self.size += 1\n",
    "    def insertRear(self, x):\n",
    "        self.arr.append(x)\n",
    "        self.size += 1\n",
    "    def deleteFront(self):\n",
    "        self.size -= 1\n",
    "        return self.arr.pop(0)\n",
    "    def deleteRear(self):\n",
    "        self.size -= 1\n",
    "        return self.arr.pop()\n",
    "    def getFront(self):\n",
    "        return self.arr[0]\n",
    "    def getRear(self):\n",
    "        return self.arr[len(self.arr) - 1]\n",
    "    def size(self):\n",
    "        return self.size\n",
    "    def isEmpty(self):\n",
    "        if self.size == 0:\n",
    "            return \"True\"\n",
    "        else:\n",
    "            return \"False\""
   ]
  },
  {
   "cell_type": "code",
   "execution_count": 6,
   "id": "ab4a4480",
   "metadata": {},
   "outputs": [],
   "source": [
    "d = List_deque()"
   ]
  },
  {
   "cell_type": "code",
   "execution_count": 7,
   "id": "eccf2cc5",
   "metadata": {},
   "outputs": [],
   "source": [
    "d.insertFront(10)"
   ]
  },
  {
   "cell_type": "code",
   "execution_count": 8,
   "id": "3f7899cc",
   "metadata": {},
   "outputs": [
    {
     "data": {
      "text/plain": [
       "[10]"
      ]
     },
     "execution_count": 8,
     "metadata": {},
     "output_type": "execute_result"
    }
   ],
   "source": [
    "d.arr"
   ]
  },
  {
   "cell_type": "code",
   "execution_count": 9,
   "id": "16a82263",
   "metadata": {},
   "outputs": [
    {
     "data": {
      "text/plain": [
       "(None, [10, 30])"
      ]
     },
     "execution_count": 9,
     "metadata": {},
     "output_type": "execute_result"
    }
   ],
   "source": [
    "d.insertRear(30), d.arr"
   ]
  },
  {
   "cell_type": "code",
   "execution_count": 10,
   "id": "2fa59dcd",
   "metadata": {},
   "outputs": [
    {
     "data": {
      "text/plain": [
       "(10, [10, 30])"
      ]
     },
     "execution_count": 10,
     "metadata": {},
     "output_type": "execute_result"
    }
   ],
   "source": [
    "d.getFront(), d.arr"
   ]
  },
  {
   "cell_type": "code",
   "execution_count": 11,
   "id": "8357a66e",
   "metadata": {},
   "outputs": [
    {
     "data": {
      "text/plain": [
       "(30, [10, 30])"
      ]
     },
     "execution_count": 11,
     "metadata": {},
     "output_type": "execute_result"
    }
   ],
   "source": [
    "d.getRear(), d.arr"
   ]
  },
  {
   "cell_type": "code",
   "execution_count": 12,
   "id": "c4a3bf30",
   "metadata": {},
   "outputs": [
    {
     "data": {
      "text/plain": [
       "(10, [30])"
      ]
     },
     "execution_count": 12,
     "metadata": {},
     "output_type": "execute_result"
    }
   ],
   "source": [
    "d.deleteFront() , d.arr"
   ]
  },
  {
   "cell_type": "code",
   "execution_count": 13,
   "id": "8bad7731",
   "metadata": {},
   "outputs": [
    {
     "data": {
      "text/plain": [
       "(30, [])"
      ]
     },
     "execution_count": 13,
     "metadata": {},
     "output_type": "execute_result"
    }
   ],
   "source": [
    "d.deleteRear(), d.arr"
   ]
  },
  {
   "cell_type": "code",
   "execution_count": 14,
   "id": "77019df5",
   "metadata": {},
   "outputs": [
    {
     "data": {
      "text/plain": [
       "'True'"
      ]
     },
     "execution_count": 14,
     "metadata": {},
     "output_type": "execute_result"
    }
   ],
   "source": [
    "d.isEmpty()"
   ]
  },
  {
   "cell_type": "code",
   "execution_count": null,
   "id": "051b8d89",
   "metadata": {},
   "outputs": [],
   "source": []
  },
  {
   "cell_type": "code",
   "execution_count": null,
   "id": "afaa5bd4",
   "metadata": {},
   "outputs": [],
   "source": []
  },
  {
   "cell_type": "code",
   "execution_count": null,
   "id": "cb692b23",
   "metadata": {},
   "outputs": [],
   "source": []
  },
  {
   "cell_type": "code",
   "execution_count": null,
   "id": "cb03ffc8",
   "metadata": {},
   "outputs": [],
   "source": []
  },
  {
   "cell_type": "code",
   "execution_count": null,
   "id": "8da13e30",
   "metadata": {},
   "outputs": [],
   "source": []
  },
  {
   "cell_type": "code",
   "execution_count": null,
   "id": "7ad66e8e",
   "metadata": {},
   "outputs": [],
   "source": []
  },
  {
   "cell_type": "code",
   "execution_count": null,
   "id": "a0e48447",
   "metadata": {},
   "outputs": [],
   "source": []
  },
  {
   "cell_type": "code",
   "execution_count": null,
   "id": "c72a14c9",
   "metadata": {},
   "outputs": [],
   "source": []
  },
  {
   "cell_type": "code",
   "execution_count": null,
   "id": "1666faaf",
   "metadata": {},
   "outputs": [],
   "source": []
  },
  {
   "cell_type": "code",
   "execution_count": null,
   "id": "53fc27cf",
   "metadata": {},
   "outputs": [],
   "source": []
  },
  {
   "cell_type": "code",
   "execution_count": null,
   "id": "75443ba4",
   "metadata": {},
   "outputs": [],
   "source": []
  },
  {
   "cell_type": "code",
   "execution_count": null,
   "id": "3b8355ce",
   "metadata": {},
   "outputs": [],
   "source": []
  },
  {
   "cell_type": "code",
   "execution_count": null,
   "id": "c90c839d",
   "metadata": {},
   "outputs": [],
   "source": []
  },
  {
   "cell_type": "code",
   "execution_count": null,
   "id": "42a5d131",
   "metadata": {},
   "outputs": [],
   "source": []
  },
  {
   "cell_type": "code",
   "execution_count": null,
   "id": "5095a228",
   "metadata": {},
   "outputs": [],
   "source": []
  },
  {
   "cell_type": "code",
   "execution_count": null,
   "id": "0620ae54",
   "metadata": {},
   "outputs": [],
   "source": []
  },
  {
   "cell_type": "code",
   "execution_count": null,
   "id": "352a057a",
   "metadata": {},
   "outputs": [],
   "source": []
  },
  {
   "cell_type": "code",
   "execution_count": null,
   "id": "cb0ff2b8",
   "metadata": {},
   "outputs": [],
   "source": []
  },
  {
   "cell_type": "code",
   "execution_count": null,
   "id": "f2a9e2f6",
   "metadata": {},
   "outputs": [],
   "source": []
  },
  {
   "cell_type": "code",
   "execution_count": null,
   "id": "30b09323",
   "metadata": {},
   "outputs": [],
   "source": []
  },
  {
   "cell_type": "code",
   "execution_count": null,
   "id": "7f55ce03",
   "metadata": {},
   "outputs": [],
   "source": []
  },
  {
   "cell_type": "code",
   "execution_count": null,
   "id": "350f0402",
   "metadata": {},
   "outputs": [],
   "source": []
  },
  {
   "cell_type": "code",
   "execution_count": null,
   "id": "68a33d8f",
   "metadata": {},
   "outputs": [],
   "source": []
  },
  {
   "cell_type": "code",
   "execution_count": null,
   "id": "25202cb9",
   "metadata": {},
   "outputs": [],
   "source": []
  },
  {
   "cell_type": "code",
   "execution_count": null,
   "id": "a7e2f125",
   "metadata": {},
   "outputs": [],
   "source": []
  },
  {
   "cell_type": "code",
   "execution_count": null,
   "id": "769c02cb",
   "metadata": {},
   "outputs": [],
   "source": []
  },
  {
   "cell_type": "code",
   "execution_count": null,
   "id": "d7e5b4d9",
   "metadata": {},
   "outputs": [],
   "source": []
  },
  {
   "cell_type": "code",
   "execution_count": null,
   "id": "d1a4deeb",
   "metadata": {},
   "outputs": [],
   "source": []
  },
  {
   "cell_type": "code",
   "execution_count": null,
   "id": "31774818",
   "metadata": {},
   "outputs": [],
   "source": []
  },
  {
   "cell_type": "code",
   "execution_count": null,
   "id": "73f1536e",
   "metadata": {},
   "outputs": [],
   "source": []
  },
  {
   "cell_type": "code",
   "execution_count": null,
   "id": "fb06cd69",
   "metadata": {},
   "outputs": [],
   "source": []
  },
  {
   "cell_type": "code",
   "execution_count": null,
   "id": "1ad34888",
   "metadata": {},
   "outputs": [],
   "source": []
  },
  {
   "cell_type": "code",
   "execution_count": null,
   "id": "93db9a3a",
   "metadata": {},
   "outputs": [],
   "source": []
  },
  {
   "cell_type": "code",
   "execution_count": null,
   "id": "ce23a3dc",
   "metadata": {},
   "outputs": [],
   "source": []
  },
  {
   "cell_type": "code",
   "execution_count": null,
   "id": "173f7051",
   "metadata": {},
   "outputs": [],
   "source": []
  },
  {
   "cell_type": "code",
   "execution_count": null,
   "id": "dc90c7b6",
   "metadata": {},
   "outputs": [],
   "source": []
  },
  {
   "cell_type": "code",
   "execution_count": null,
   "id": "fcbf0d5b",
   "metadata": {},
   "outputs": [],
   "source": []
  }
 ],
 "metadata": {
  "kernelspec": {
   "display_name": "Python 3 (ipykernel)",
   "language": "python",
   "name": "python3"
  },
  "language_info": {
   "codemirror_mode": {
    "name": "ipython",
    "version": 3
   },
   "file_extension": ".py",
   "mimetype": "text/x-python",
   "name": "python",
   "nbconvert_exporter": "python",
   "pygments_lexer": "ipython3",
   "version": "3.10.6"
  }
 },
 "nbformat": 4,
 "nbformat_minor": 5
}

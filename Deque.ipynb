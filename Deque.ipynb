{
 "cells": [
  {
   "cell_type": "code",
   "execution_count": 32,
   "id": "4e7f59dd",
   "metadata": {},
   "outputs": [],
   "source": [
    "from imp_personal import MyFunction\n",
    "z = MyFunction()"
   ]
  },
  {
   "cell_type": "markdown",
   "id": "b88eae81",
   "metadata": {},
   "source": [
    "# Deque\n",
    "\n",
    "\n",
    "**Problems**\n",
    "\n",
    "1. [Implementation of Deque by using Collection Module](#Implementation-of-Deque-by-using-Collection-Module)\n",
    "7. [Deque implementation using List](#Deque-implementation-using-List)\n",
    "7. [Deque implementation using Linked List](#Deque-implementation-using-Linked-List)"
   ]
  },
  {
   "cell_type": "markdown",
   "id": "d8bc6571",
   "metadata": {},
   "source": [
    "#### Implementation of Deque by using Collection Module"
   ]
  },
  {
   "cell_type": "code",
   "execution_count": 106,
   "id": "9d60a2c8",
   "metadata": {},
   "outputs": [
    {
     "data": {
      "text/plain": [
       "10"
      ]
     },
     "execution_count": 106,
     "metadata": {},
     "output_type": "execute_result"
    }
   ],
   "source": [
    "from collections import deque\n",
    "d = deque()\n",
    "d.append(10)\n",
    "d.append(20)\n",
    "d.appendleft(30)\n",
    "d.pop()\n",
    "d.popleft()\n",
    "d.pop()"
   ]
  },
  {
   "cell_type": "code",
   "execution_count": 107,
   "id": "65ca748e",
   "metadata": {},
   "outputs": [],
   "source": [
    "deq = deque()\n",
    "#Function to erase the element from specified position X in deque.\n",
    "def eraseAt(deq,x):\n",
    "    #code here\n",
    "    del deq[x]\n",
    "            \n",
    "    \n",
    "#Function to erase the elements in range start (inclusive), end (exclusive).\n",
    "def eraseInRange(deq,s,e):\n",
    "    #code here\n",
    "    sz = e - s\n",
    "    while sz != 0:\n",
    "        del deq[s]\n",
    "        sz -= 1\n",
    "        \n",
    "\n",
    "#Function to erase all the elements in the deque.   \n",
    "def eraseAll(deq):\n",
    "    #code here\n",
    "    deq.clear()"
   ]
  },
  {
   "cell_type": "markdown",
   "id": "f716c6ba",
   "metadata": {},
   "source": [
    "#### Deque implementation using List"
   ]
  },
  {
   "cell_type": "code",
   "execution_count": 36,
   "id": "b8c58fe3",
   "metadata": {},
   "outputs": [],
   "source": [
    "class List_deque:\n",
    "    def __init__(self):\n",
    "        self.arr = []\n",
    "        self.size = 0\n",
    "    def insertFront(self,x):\n",
    "        self.arr.insert(0,x)\n",
    "        self.size += 1\n",
    "    def insertRear(self, x):\n",
    "        self.arr.append(x)\n",
    "        self.size += 1\n",
    "    def deleteFront(self):\n",
    "        self.size -= 1\n",
    "        return self.arr.pop(0)\n",
    "    def deleteRear(self):\n",
    "        self.size -= 1\n",
    "        return self.arr.pop()\n",
    "    def getFront(self):\n",
    "        return self.arr[0]\n",
    "    def getRear(self):\n",
    "        return self.arr[len(self.arr) - 1]\n",
    "    def size(self):\n",
    "        return self.size\n",
    "    def isEmpty(self):\n",
    "        if self.size == 0:\n",
    "            return \"True\"\n",
    "        else:\n",
    "            return \"False\""
   ]
  },
  {
   "cell_type": "code",
   "execution_count": 37,
   "id": "ab4a4480",
   "metadata": {},
   "outputs": [],
   "source": [
    "d = List_deque()"
   ]
  },
  {
   "cell_type": "code",
   "execution_count": 38,
   "id": "eccf2cc5",
   "metadata": {},
   "outputs": [],
   "source": [
    "d.insertFront(10)"
   ]
  },
  {
   "cell_type": "code",
   "execution_count": 39,
   "id": "3f7899cc",
   "metadata": {},
   "outputs": [
    {
     "data": {
      "text/plain": [
       "[10]"
      ]
     },
     "execution_count": 39,
     "metadata": {},
     "output_type": "execute_result"
    }
   ],
   "source": [
    "d.arr"
   ]
  },
  {
   "cell_type": "code",
   "execution_count": 40,
   "id": "16a82263",
   "metadata": {},
   "outputs": [
    {
     "data": {
      "text/plain": [
       "(None, [10, 30])"
      ]
     },
     "execution_count": 40,
     "metadata": {},
     "output_type": "execute_result"
    }
   ],
   "source": [
    "d.insertRear(30), d.arr"
   ]
  },
  {
   "cell_type": "code",
   "execution_count": 41,
   "id": "2fa59dcd",
   "metadata": {},
   "outputs": [
    {
     "data": {
      "text/plain": [
       "(10, [10, 30])"
      ]
     },
     "execution_count": 41,
     "metadata": {},
     "output_type": "execute_result"
    }
   ],
   "source": [
    "d.getFront(), d.arr"
   ]
  },
  {
   "cell_type": "code",
   "execution_count": 42,
   "id": "8357a66e",
   "metadata": {},
   "outputs": [
    {
     "data": {
      "text/plain": [
       "(30, [10, 30])"
      ]
     },
     "execution_count": 42,
     "metadata": {},
     "output_type": "execute_result"
    }
   ],
   "source": [
    "d.getRear(), d.arr"
   ]
  },
  {
   "cell_type": "code",
   "execution_count": 43,
   "id": "c4a3bf30",
   "metadata": {},
   "outputs": [
    {
     "data": {
      "text/plain": [
       "(10, [30])"
      ]
     },
     "execution_count": 43,
     "metadata": {},
     "output_type": "execute_result"
    }
   ],
   "source": [
    "d.deleteFront() , d.arr"
   ]
  },
  {
   "cell_type": "code",
   "execution_count": 44,
   "id": "8bad7731",
   "metadata": {},
   "outputs": [
    {
     "data": {
      "text/plain": [
       "(30, [])"
      ]
     },
     "execution_count": 44,
     "metadata": {},
     "output_type": "execute_result"
    }
   ],
   "source": [
    "d.deleteRear(), d.arr"
   ]
  },
  {
   "cell_type": "code",
   "execution_count": 45,
   "id": "77019df5",
   "metadata": {},
   "outputs": [
    {
     "data": {
      "text/plain": [
       "'True'"
      ]
     },
     "execution_count": 45,
     "metadata": {},
     "output_type": "execute_result"
    }
   ],
   "source": [
    "d.isEmpty()"
   ]
  },
  {
   "cell_type": "markdown",
   "id": "b55079c9",
   "metadata": {},
   "source": [
    "#### Deque implementation using Linked List"
   ]
  },
  {
   "cell_type": "code",
   "execution_count": 49,
   "id": "358765a0",
   "metadata": {},
   "outputs": [],
   "source": [
    "class Node:\n",
    "    def __init__(self, key):\n",
    "        self.key = key\n",
    "        self.next = None\n",
    "        self.prev = None"
   ]
  },
  {
   "cell_type": "code",
   "execution_count": 94,
   "id": "c621eb6a",
   "metadata": {},
   "outputs": [],
   "source": [
    "class MyDeque:\n",
    "    \n",
    "    def __init__(self):\n",
    "        self.rear = None\n",
    "        self.front = None\n",
    "        self.sz = 0\n",
    "        \n",
    "    def size(self):\n",
    "        return self.sz\n",
    "    \n",
    "    def isEmpty(self):\n",
    "        return self.sz == 0\n",
    "    \n",
    "    def getFront(self):\n",
    "        return self.front.key\n",
    "    \n",
    "    def getRear(self):\n",
    "        return self.rear.key\n",
    "    \n",
    "    def getQueue(self):\n",
    "        if self.sz != 0:\n",
    "            curr = self.front\n",
    "            while curr != None:\n",
    "                print(curr.key, end=\" \")\n",
    "                curr = curr.next\n",
    "        else:\n",
    "            return 0\n",
    "    \n",
    "    def insertRear(self,x):\n",
    "        temp = Node(x)\n",
    "        if self.rear == None:\n",
    "            self.front = temp\n",
    "        else:\n",
    "            self.rear.next = temp\n",
    "            temp.prev = self.rear\n",
    "        self.rear = temp\n",
    "        self.sz += 1\n",
    "        \n",
    "    def insertFront(self, x):\n",
    "        temp = Node(x)\n",
    "        if self.front == None:\n",
    "            self.front = temp\n",
    "            self.rear = temp\n",
    "        else:\n",
    "            self.front.prev = temp\n",
    "            temp.next = self.front\n",
    "        self.front = temp\n",
    "        self.sz += 1\n",
    "    \n",
    "    def deleteFront(self):\n",
    "        if self.front == None:\n",
    "            return None\n",
    "        else:\n",
    "            res = self.front.key\n",
    "            self.front = self.front.next\n",
    "            if self.front == None:\n",
    "                self.rear = None\n",
    "            else:\n",
    "                self.front.prev = None\n",
    "            self.sz -= 1\n",
    "        return res\n",
    "    \n",
    "    def deleteRear(self):\n",
    "        if self.rear == None:\n",
    "            return None\n",
    "        else:\n",
    "            res = self.rear.key\n",
    "            self.rear = self.rear.prev\n",
    "            if self.rear == None:\n",
    "                self.front = None\n",
    "            else:\n",
    "                self.rear.next = None\n",
    "            self.sz -= 1\n",
    "        return res"
   ]
  },
  {
   "cell_type": "code",
   "execution_count": 95,
   "id": "b820a2a2",
   "metadata": {},
   "outputs": [],
   "source": [
    "q = MyDeque()"
   ]
  },
  {
   "cell_type": "code",
   "execution_count": 96,
   "id": "2374e8c3",
   "metadata": {},
   "outputs": [],
   "source": [
    "q.insertFront(20)"
   ]
  },
  {
   "cell_type": "code",
   "execution_count": 97,
   "id": "60485dab",
   "metadata": {},
   "outputs": [],
   "source": [
    "q.insertRear(90)"
   ]
  },
  {
   "cell_type": "code",
   "execution_count": 98,
   "id": "1bd0de04",
   "metadata": {},
   "outputs": [],
   "source": [
    "q.insertFront(30)"
   ]
  },
  {
   "cell_type": "code",
   "execution_count": 99,
   "id": "12c8df33",
   "metadata": {},
   "outputs": [
    {
     "name": "stdout",
     "output_type": "stream",
     "text": [
      "30 20 90 "
     ]
    }
   ],
   "source": [
    "q.getQueue()"
   ]
  },
  {
   "cell_type": "code",
   "execution_count": 100,
   "id": "040a5968",
   "metadata": {},
   "outputs": [
    {
     "data": {
      "text/plain": [
       "30"
      ]
     },
     "execution_count": 100,
     "metadata": {},
     "output_type": "execute_result"
    }
   ],
   "source": [
    "q.deleteFront()"
   ]
  },
  {
   "cell_type": "code",
   "execution_count": 101,
   "id": "d4190c4c",
   "metadata": {},
   "outputs": [
    {
     "data": {
      "text/plain": [
       "90"
      ]
     },
     "execution_count": 101,
     "metadata": {},
     "output_type": "execute_result"
    }
   ],
   "source": [
    "q.deleteRear()"
   ]
  },
  {
   "cell_type": "code",
   "execution_count": 102,
   "id": "bd6dfd2e",
   "metadata": {},
   "outputs": [
    {
     "name": "stdout",
     "output_type": "stream",
     "text": [
      "20 "
     ]
    }
   ],
   "source": [
    "q.getQueue()"
   ]
  },
  {
   "cell_type": "code",
   "execution_count": 103,
   "id": "82c61a1e",
   "metadata": {},
   "outputs": [
    {
     "data": {
      "text/plain": [
       "(20, 20)"
      ]
     },
     "execution_count": 103,
     "metadata": {},
     "output_type": "execute_result"
    }
   ],
   "source": [
    "q.getFront(), q.getRear()"
   ]
  }
 ],
 "metadata": {
  "kernelspec": {
   "display_name": "Python 3 (ipykernel)",
   "language": "python",
   "name": "python3"
  },
  "language_info": {
   "codemirror_mode": {
    "name": "ipython",
    "version": 3
   },
   "file_extension": ".py",
   "mimetype": "text/x-python",
   "name": "python",
   "nbconvert_exporter": "python",
   "pygments_lexer": "ipython3",
   "version": "3.10.9"
  }
 },
 "nbformat": 4,
 "nbformat_minor": 5
}

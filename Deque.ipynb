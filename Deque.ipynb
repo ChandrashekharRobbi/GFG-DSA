{
 "cells": [
  {
   "cell_type": "code",
   "execution_count": 13,
   "id": "4e7f59dd",
   "metadata": {},
   "outputs": [],
   "source": [
    "from imp_personal import MyFunction\n",
    "c = MyFunction()"
   ]
  },
  {
   "cell_type": "markdown",
   "id": "b88eae81",
   "metadata": {},
   "source": [
    "# Deque"
   ]
  },
  {
   "cell_type": "code",
   "execution_count": 16,
   "id": "272e54c4",
   "metadata": {},
   "outputs": [
    {
     "name": "stdout",
     "output_type": "stream",
     "text": [
      "Implementation of Deque by using Collection Module\n",
      "7. [Implementation of Deque by using Collection Module](#Implementation-of-Deque-by-using-Collection-Module)\n",
      "#### Implementation of Deque by using Collection Module\n",
      "Successfully added to the comment list\n"
     ]
    }
   ],
   "source": [
    "c.new(\"Implementation of Deque by using Collection Module\")"
   ]
  },
  {
   "cell_type": "markdown",
   "id": "d8bc6571",
   "metadata": {},
   "source": [
    "#### Implementation of Deque by using Collection Module"
   ]
  },
  {
   "cell_type": "code",
   "execution_count": 15,
   "id": "9d60a2c8",
   "metadata": {},
   "outputs": [
    {
     "data": {
      "text/plain": [
       "deque([10])"
      ]
     },
     "execution_count": 15,
     "metadata": {},
     "output_type": "execute_result"
    }
   ],
   "source": [
    "from collections import deque\n",
    "d = deque()\n",
    "d.append(10)\n",
    "d.append(20)\n",
    "d.appendleft(30)\n",
    "d.pop()\n",
    "d.popleft()\n",
    "d"
   ]
  },
  {
   "cell_type": "code",
   "execution_count": 17,
   "id": "0bdbbc04",
   "metadata": {},
   "outputs": [
    {
     "name": "stdout",
     "output_type": "stream",
     "text": [
      "Deque implementation using List\n",
      "7. [Deque implementation using List](#Deque-implementation-using-List)\n",
      "#### Deque implementation using List\n",
      "Successfully added to the comment list\n"
     ]
    }
   ],
   "source": [
    "c.new(\"Deque implementation using List\")"
   ]
  },
  {
   "cell_type": "markdown",
   "id": "f716c6ba",
   "metadata": {},
   "source": [
    "#### Deque implementation using List"
   ]
  },
  {
   "cell_type": "code",
   "execution_count": 32,
   "id": "b8c58fe3",
   "metadata": {},
   "outputs": [],
   "source": [
    "class List_deque:\n",
    "    def __init__(self):\n",
    "        self.arr = []\n",
    "        self.size = 0\n",
    "    def insertFront(self,x):\n",
    "        self.arr.insert(0,x)\n",
    "        self.size += 1\n",
    "    def insertRear(self, x):\n",
    "        self.arr.append(x)\n",
    "        self.size += 1\n",
    "    def deleteFront(self):\n",
    "        self.size -= 1\n",
    "        return self.arr.pop(0)\n",
    "    def deleteRear(self):\n",
    "        self.size -= 1\n",
    "        return self.arr.pop()\n",
    "    def getFront(self):\n",
    "        return self.arr[0]\n",
    "    def getRear(self):\n",
    "        return self.arr[len(self.arr) - 1]\n",
    "    def size(self):\n",
    "        return self.size\n",
    "    def isEmpty(self):\n",
    "        if self.size == 0:\n",
    "            return \"True\"\n",
    "        else:\n",
    "            return \"False\""
   ]
  },
  {
   "cell_type": "code",
   "execution_count": 33,
   "id": "ab4a4480",
   "metadata": {},
   "outputs": [],
   "source": [
    "d = List_deque()"
   ]
  },
  {
   "cell_type": "code",
   "execution_count": 34,
   "id": "eccf2cc5",
   "metadata": {},
   "outputs": [],
   "source": [
    "d.insertFront(10)"
   ]
  },
  {
   "cell_type": "code",
   "execution_count": 35,
   "id": "3f7899cc",
   "metadata": {},
   "outputs": [
    {
     "data": {
      "text/plain": [
       "[10]"
      ]
     },
     "execution_count": 35,
     "metadata": {},
     "output_type": "execute_result"
    }
   ],
   "source": [
    "d.arr"
   ]
  },
  {
   "cell_type": "code",
   "execution_count": 36,
   "id": "16a82263",
   "metadata": {},
   "outputs": [
    {
     "data": {
      "text/plain": [
       "(None, [10, 30])"
      ]
     },
     "execution_count": 36,
     "metadata": {},
     "output_type": "execute_result"
    }
   ],
   "source": [
    "d.insertRear(30), d.arr"
   ]
  },
  {
   "cell_type": "code",
   "execution_count": 37,
   "id": "2fa59dcd",
   "metadata": {},
   "outputs": [
    {
     "data": {
      "text/plain": [
       "(10, [10, 30])"
      ]
     },
     "execution_count": 37,
     "metadata": {},
     "output_type": "execute_result"
    }
   ],
   "source": [
    "d.getFront(), d.arr"
   ]
  },
  {
   "cell_type": "code",
   "execution_count": 38,
   "id": "8357a66e",
   "metadata": {},
   "outputs": [
    {
     "data": {
      "text/plain": [
       "(30, [10, 30])"
      ]
     },
     "execution_count": 38,
     "metadata": {},
     "output_type": "execute_result"
    }
   ],
   "source": [
    "d.getRear(), d.arr"
   ]
  },
  {
   "cell_type": "code",
   "execution_count": 39,
   "id": "c4a3bf30",
   "metadata": {},
   "outputs": [
    {
     "data": {
      "text/plain": [
       "(10, [30])"
      ]
     },
     "execution_count": 39,
     "metadata": {},
     "output_type": "execute_result"
    }
   ],
   "source": [
    "d.deleteFront() , d.arr"
   ]
  },
  {
   "cell_type": "code",
   "execution_count": 40,
   "id": "8bad7731",
   "metadata": {},
   "outputs": [
    {
     "data": {
      "text/plain": [
       "(30, [])"
      ]
     },
     "execution_count": 40,
     "metadata": {},
     "output_type": "execute_result"
    }
   ],
   "source": [
    "d.deleteRear(), d.arr"
   ]
  },
  {
   "cell_type": "code",
   "execution_count": 41,
   "id": "77019df5",
   "metadata": {},
   "outputs": [
    {
     "data": {
      "text/plain": [
       "'True'"
      ]
     },
     "execution_count": 41,
     "metadata": {},
     "output_type": "execute_result"
    }
   ],
   "source": [
    "d.isEmpty()"
   ]
  },
  {
   "cell_type": "code",
   "execution_count": null,
   "id": "051b8d89",
   "metadata": {},
   "outputs": [],
   "source": []
  }
 ],
 "metadata": {
  "kernelspec": {
   "display_name": "Python 3 (ipykernel)",
   "language": "python",
   "name": "python3"
  },
  "language_info": {
   "codemirror_mode": {
    "name": "ipython",
    "version": 3
   },
   "file_extension": ".py",
   "mimetype": "text/x-python",
   "name": "python",
   "nbconvert_exporter": "python",
   "pygments_lexer": "ipython3",
   "version": "3.10.8"
  }
 },
 "nbformat": 4,
 "nbformat_minor": 5
}

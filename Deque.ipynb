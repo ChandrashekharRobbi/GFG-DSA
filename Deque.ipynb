{
 "cells": [
  {
<<<<<<< HEAD
   "cell_type": "code",
   "execution_count": null,
   "id": "f980c749",
=======
   "cell_type": "markdown",
   "id": "3f1d4afb",
   "metadata": {},
   "source": [
    "# Deque"
   ]
  },
  {
   "cell_type": "code",
   "execution_count": null,
   "id": "2b3102eb",
>>>>>>> 43396953cdc8a5188ae73544e9dd9d9835d1ba54
   "metadata": {},
   "outputs": [],
   "source": []
  }
 ],
 "metadata": {
  "kernelspec": {
   "display_name": "Python 3 (ipykernel)",
   "language": "python",
   "name": "python3"
  },
  "language_info": {
   "codemirror_mode": {
    "name": "ipython",
    "version": 3
   },
   "file_extension": ".py",
   "mimetype": "text/x-python",
   "name": "python",
   "nbconvert_exporter": "python",
   "pygments_lexer": "ipython3",
<<<<<<< HEAD
   "version": "3.10.8"
=======
   "version": "3.10.6"
>>>>>>> 43396953cdc8a5188ae73544e9dd9d9835d1ba54
  }
 },
 "nbformat": 4,
 "nbformat_minor": 5
}

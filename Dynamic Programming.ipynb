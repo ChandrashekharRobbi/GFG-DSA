{
 "cells": [
  {
   "cell_type": "markdown",
   "id": "5c73d782",
   "metadata": {},
   "source": [
    "# Dynamic Programming\n",
    "\n",
    "* It is an optimization over plain recursion\n",
    "* The idea is to reuse the solution of subproblem when there are overlapping subproblem\n",
    "\n",
    "There are two ways to solve Dynamic Programming\n",
    "\n",
    "1. Memorization (Top Down)\n",
    "2. Tabulation (Bottom Up)"
   ]
  },
  {
   "cell_type": "code",
   "execution_count": null,
   "id": "0f192e50",
   "metadata": {},
   "outputs": [],
   "source": []
  }
 ],
 "metadata": {
  "kernelspec": {
   "display_name": "Python 3 (ipykernel)",
   "language": "python",
   "name": "python3"
  },
  "language_info": {
   "codemirror_mode": {
    "name": "ipython",
    "version": 3
   },
   "file_extension": ".py",
   "mimetype": "text/x-python",
   "name": "python",
   "nbconvert_exporter": "python",
   "pygments_lexer": "ipython3",
   "version": "3.10.10"
  }
 },
 "nbformat": 4,
 "nbformat_minor": 5
}

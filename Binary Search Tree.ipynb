{
 "cells": [
  {
   "cell_type": "markdown",
   "id": "bd249f72",
   "metadata": {},
   "source": [
    "# Binary Search Tree \n",
    "\n",
    "Time complexity as compared to other data structures\n",
    "\n",
    "| Operations | Array(Unsorted) | Array (Sorted) | LinkedList | BST(Balanced) | Hash Table |\n",
    "| ------     | ------          | -------------- | ---------- | ------------- | ---------- |\n",
    "| Search | O(n) | O(log n) | O(n) | O(log n) | O(1) |\n",
    "| Insert | O(1) | O(n) | O(1) | O(log n) | O(1) |\n",
    "| Delete | O(n) | O(n) | O(n) | O(log n) | O(1) |\n",
    "| Find Closest | O(n) | O(log n) | O(n) | O(log n) | O(n) |\n",
    "| Sorted Traversal | O(nlogn) | O(n) | O(n logn) | O(n) | O(nlogn) |\n"
   ]
  },
  {
   "cell_type": "markdown",
   "id": "7c6777ba",
   "metadata": {},
   "source": [
    "# Binary Search Tree\n",
    "\n",
    "* For every node data in left side are smaller and data in right side are greater\n",
    "* All data are typically considered as distinct\n",
    "* Like LinkedList it is a linked data structure\n",
    "\n",
    "\n",
    "             50\n",
    "           /    \\\n",
    "          30    70\n",
    "         /  \\   /  \\\n",
    "        10  40 60  80\n",
    "        \n",
    "        \n",
    "**Problems**\n",
    "\n",
    "Make the below links workable??[Click Me](https://nbviewer.org/github/ChandrashekharRobbi/GFG-DSA/blob/main/Binary%20Search%20Tree.ipynb)\n",
    "\n",
    "\n",
    "1. [Search Element in Binary Search Tree](#Search-Element-in-Binary-Search-Tree)\n",
    "1. [Insert Elements in Binary Search Tree](#Insert-Elements-in-Binary-Search-Tree)\n",
    "1. [Deletion in Binary Search Tree](#Deletion-in-Binary-Search-Tree)\n",
    "1. [BST Floor](#BST-Floor)\n",
    "1. [BST Ceiling](#BST-Ceiling)\n",
    "1. [Inorder in BST](#Inorder-in-BST)\n",
    "1. [Pre Order in BST](#Pre-Order-in-BST)\n",
    "1. [Post Order in BST](#Post-Order-in-BST)\n",
    "1. [Minimum Value in BST](#Minimum-Value-in-BST)\n",
    "1. [Insertion in Binary Search Tree (Iterative Way)](#Insertion-in-Binary-Search-Tree-(Iterative-Way))\n",
    "1. [Ceiling on the left side of the array](#Ceiling-on-the-left-side-of-the-array)\n",
    "1. [Find Kth Smallest in BST](#Find-Kth-Smallest-in-BST)\n",
    "1. [Chek BST](#Chek-BST)\n",
    "1. [Fix BST with Two Nodes Swapped](#Fix-BST-with-Two-Nodes-Swapped)\n",
    "\n",
    "\n",
    "**Theory**\n",
    "1. [Self Balancing BST](#Self-Balancing-BST)\n",
    "1. [AVL Tree](#AVL-Tree)\n",
    "1. [Red Black Tree](#Red-Black-Tree)"
   ]
  },
  {
   "cell_type": "code",
   "execution_count": 1,
   "id": "82eedb14",
   "metadata": {},
   "outputs": [
    {
     "name": "stdout",
     "output_type": "stream",
     "text": [
      "Note that after executing new function your next cell will automatically converted to markdown cell :)\n"
     ]
    }
   ],
   "source": [
    "%run imp_personal.py\n",
    "z = MyFunction()"
   ]
  },
  {
   "cell_type": "code",
   "execution_count": 2,
   "id": "5055c2f1",
   "metadata": {},
   "outputs": [],
   "source": [
    "class Node:\n",
    "    def __init__(self,key):\n",
    "        self.key = key\n",
    "        self.left = None\n",
    "        self.right = None"
   ]
  },
  {
   "cell_type": "code",
   "execution_count": 3,
   "id": "4b274329",
   "metadata": {},
   "outputs": [],
   "source": [
    "root = Node(50)\n",
    "root.left = Node(30)\n",
    "root.right = Node(70)\n",
    "root.left.left = Node(10)\n",
    "root.left.right = Node(40)\n",
    "root.right.left = Node(60)\n",
    "root.right.right = Node(80)"
   ]
  },
  {
   "cell_type": "markdown",
   "id": "9cb96dc8",
   "metadata": {},
   "source": [
    "## Search Element in Binary Search Tree"
   ]
  },
  {
   "cell_type": "markdown",
   "id": "36af1fa3-cd29-4d21-8c0f-19abbd6070ba",
   "metadata": {},
   "source": [
    "### Recursive Solution"
   ]
  },
  {
   "cell_type": "code",
   "execution_count": 4,
   "id": "4984d5f3",
   "metadata": {},
   "outputs": [],
   "source": [
    "def searchBST(root,x):\n",
    "    if root is None:\n",
    "        return False\n",
    "    elif root.key == x:\n",
    "        return x\n",
    "    elif root.key > x:\n",
    "        return searchBST(root.left, x)\n",
    "    else:\n",
    "        return searchBST(root.right, x)\n",
    "        "
   ]
  },
  {
   "cell_type": "code",
   "execution_count": 5,
   "id": "b082ba4e",
   "metadata": {},
   "outputs": [
    {
     "name": "stdout",
     "output_type": "stream",
     "text": [
      "70\n"
     ]
    }
   ],
   "source": [
    "print(searchBST(root, 70))"
   ]
  },
  {
   "cell_type": "markdown",
   "id": "52aca180-f58f-4932-a2ed-09ae7b968b05",
   "metadata": {},
   "source": [
    "### Iterative Solution"
   ]
  },
  {
   "cell_type": "code",
   "execution_count": 6,
   "id": "76a82ae9-3909-42e1-8904-4cd97e35cb4b",
   "metadata": {},
   "outputs": [],
   "source": [
    "def searchBST(root, key):\n",
    "    while root != None:\n",
    "        if root.key == key:\n",
    "            return root.key\n",
    "        elif root.key > key:\n",
    "            root = root.left\n",
    "        else:\n",
    "            root = root.right\n",
    "    return -1"
   ]
  },
  {
   "cell_type": "code",
   "execution_count": 7,
   "id": "e44a19d5-7a8d-4b5e-b26f-15cf225ad3bb",
   "metadata": {},
   "outputs": [
    {
     "data": {
      "text/plain": [
       "70"
      ]
     },
     "execution_count": 7,
     "metadata": {},
     "output_type": "execute_result"
    }
   ],
   "source": [
    "searchBST(root, 70)"
   ]
  },
  {
   "cell_type": "markdown",
   "id": "926ca2a0",
   "metadata": {},
   "source": [
    "#### Insert Elements in Binary Search Tree"
   ]
  },
  {
   "cell_type": "markdown",
   "id": "6cbe7747",
   "metadata": {},
   "source": [
    "The root taken as\n",
    "\n",
    "        10\n",
    "       /  \\\n",
    "      5   20\n",
    "          / \\\n",
    "         15 30\n",
    "\n",
    "Let's see the flow of procedure\n",
    "\n",
    "```python\n",
    "    insertBST(10, 7)\n",
    "    The root is 10\n",
    "        - insertBST(5, 7)\n",
    "        The root is 5\n",
    "            - insertBST(None, 7)\n",
    "            - return Node(7)\n",
    "        link that node to root.right as the root is 5 now so right of 5 node we will insert 7\n",
    "```"
   ]
  },
  {
   "cell_type": "markdown",
   "id": "1ac3bc03",
   "metadata": {},
   "source": [
    "###### Recursive Solution"
   ]
  },
  {
   "cell_type": "code",
   "execution_count": 8,
   "id": "e3483512",
   "metadata": {},
   "outputs": [],
   "source": [
    "root = Node(10)\n",
    "root.left = Node(5)\n",
    "root.right = Node(20)\n",
    "root.right.left = Node(18)\n",
    "root.right.right = Node(30)"
   ]
  },
  {
   "cell_type": "markdown",
   "id": "ec04938f-6873-4abf-948e-b66b517112e7",
   "metadata": {},
   "source": [
    "<img src=\"img/BST Insert.gif\" />"
   ]
  },
  {
   "cell_type": "code",
   "execution_count": 9,
   "id": "94582e2e",
   "metadata": {},
   "outputs": [],
   "source": [
    "def insertBST(root, key):\n",
    "    if root == None:\n",
    "        return Node(key)\n",
    "    elif root.key == key:\n",
    "        return root\n",
    "    elif root.key > key:\n",
    "        if insertBST(root.left, key) != None:\n",
    "            root.left = insertBST(root.left , key)\n",
    "    else:\n",
    "        if insertBST(root.right, key) != None:\n",
    "            root.right = insertBST(root.right, key)"
   ]
  },
  {
   "cell_type": "code",
   "execution_count": 10,
   "id": "0f4ac608",
   "metadata": {},
   "outputs": [],
   "source": [
    "insertBST(root, 7)"
   ]
  },
  {
   "cell_type": "code",
   "execution_count": 11,
   "id": "ea5dd417",
   "metadata": {},
   "outputs": [
    {
     "data": {
      "text/plain": [
       "7"
      ]
     },
     "execution_count": 11,
     "metadata": {},
     "output_type": "execute_result"
    }
   ],
   "source": [
    "root.left.right.key"
   ]
  },
  {
   "cell_type": "code",
   "execution_count": 12,
   "id": "f3bbc903-1d9d-4963-9e15-12016e3bfa0e",
   "metadata": {
    "tags": []
   },
   "outputs": [],
   "source": [
    "def insertBST2(root, key):\n",
    "    if root is None:\n",
    "        return Node(key)\n",
    "    if root.key == key:\n",
    "        return root\n",
    "    elif root.key > key:\n",
    "        root.left = insertBST2(root.left, key)\n",
    "    else:\n",
    "        root.right = insertBST2(root.right, key)\n",
    "    return root"
   ]
  },
  {
   "cell_type": "code",
   "execution_count": 13,
   "id": "d08121df-0fda-4979-9483-b8591857bc30",
   "metadata": {
    "tags": []
   },
   "outputs": [
    {
     "data": {
      "text/plain": [
       "<__main__.Node at 0x13b2759a260>"
      ]
     },
     "execution_count": 13,
     "metadata": {},
     "output_type": "execute_result"
    }
   ],
   "source": [
    "insertBST2(root, 1)"
   ]
  },
  {
   "cell_type": "code",
   "execution_count": 14,
   "id": "46193a7c-0457-4147-a3c8-a18dfbcb4493",
   "metadata": {
    "tags": []
   },
   "outputs": [
    {
     "data": {
      "text/plain": [
       "1"
      ]
     },
     "execution_count": 14,
     "metadata": {},
     "output_type": "execute_result"
    }
   ],
   "source": [
    "root.left.left.key"
   ]
  },
  {
   "cell_type": "code",
   "execution_count": 15,
   "id": "09299ff7-cfae-4e5b-8457-d081da1f4379",
   "metadata": {
    "tags": []
   },
   "outputs": [
    {
     "name": "stdout",
     "output_type": "stream",
     "text": [
      "Successfully added to the comment list\n"
     ]
    }
   ],
   "source": [
    "z.new(\"Insertion in Binary Search Tree (Iterative Way)\")"
   ]
  },
  {
   "cell_type": "markdown",
   "id": "679573d1-42ec-4f28-b176-e0a4105e9a0b",
   "metadata": {},
   "source": [
    "## Insertion in Binary Search Tree (Iterative Way)"
   ]
  },
  {
   "cell_type": "code",
   "execution_count": 16,
   "id": "6aed9aa4-ecab-4300-bba5-9d15b5e82739",
   "metadata": {
    "tags": []
   },
   "outputs": [],
   "source": [
    "def iterativeInsert(root, key):\n",
    "    newNode = Node(key)\n",
    "    curr = root\n",
    "    parent = Node(None)\n",
    "    while curr != None:\n",
    "        parent = curr\n",
    "        if curr.key < key:\n",
    "            curr = curr.right\n",
    "        else:\n",
    "            curr = curr.left\n",
    "    if parent == None:\n",
    "        return Node(key)\n",
    "    if parent.key > key:\n",
    "        parent.left = newNode\n",
    "    else:\n",
    "        parent.right = newNode\n",
    "    return root"
   ]
  },
  {
   "cell_type": "code",
   "execution_count": 17,
   "id": "8390585e-c0c7-462b-a7dc-925cc18aa6eb",
   "metadata": {
    "tags": []
   },
   "outputs": [
    {
     "data": {
      "text/plain": [
       "<__main__.Node at 0x13b2759a260>"
      ]
     },
     "execution_count": 17,
     "metadata": {},
     "output_type": "execute_result"
    }
   ],
   "source": [
    "iterativeInsert(root, 17)"
   ]
  },
  {
   "cell_type": "code",
   "execution_count": 18,
   "id": "538806db-c99b-4f0e-99b4-620e97ec0a9c",
   "metadata": {
    "tags": []
   },
   "outputs": [
    {
     "data": {
      "text/plain": [
       "17"
      ]
     },
     "execution_count": 18,
     "metadata": {},
     "output_type": "execute_result"
    }
   ],
   "source": [
    "root.right.left.left.key"
   ]
  },
  {
   "cell_type": "markdown",
   "id": "eab284e2",
   "metadata": {},
   "source": [
    "### Iterative Solution"
   ]
  },
  {
   "cell_type": "code",
   "execution_count": 19,
   "id": "fbbaf8ad",
   "metadata": {},
   "outputs": [],
   "source": [
    "root = Node(10)\n",
    "root.left = Node(5)\n",
    "root.right = Node(20)\n",
    "root.right.left = Node(15)\n",
    "root.right.right = Node(30)"
   ]
  },
  {
   "cell_type": "code",
   "execution_count": 20,
   "id": "e3e93743",
   "metadata": {},
   "outputs": [],
   "source": [
    "def insertBST(root, x):\n",
    "    if root == None:\n",
    "        return Node(key)\n",
    "    parent = None\n",
    "    curr = root\n",
    "    while curr != None:\n",
    "        parent = curr\n",
    "        if curr.key == x:\n",
    "            return root\n",
    "        elif curr.key > x:\n",
    "            if curr.left != None:\n",
    "                curr = curr.left\n",
    "        else:\n",
    "            if curr.right != None:\n",
    "                curr = curr.right\n",
    "    if parent.key > x:\n",
    "        parent.left = Node(x)\n",
    "    else:\n",
    "        parent.right = Node(x)"
   ]
  },
  {
   "cell_type": "code",
   "execution_count": 21,
   "id": "7bd56340",
   "metadata": {},
   "outputs": [
    {
     "data": {
      "text/plain": [
       "<__main__.Node at 0x13b27549a50>"
      ]
     },
     "execution_count": 21,
     "metadata": {},
     "output_type": "execute_result"
    }
   ],
   "source": [
    "insertBST(root, 30)"
   ]
  },
  {
   "cell_type": "code",
   "execution_count": 22,
   "id": "17042808",
   "metadata": {},
   "outputs": [
    {
     "data": {
      "text/plain": [
       "5"
      ]
     },
     "execution_count": 22,
     "metadata": {},
     "output_type": "execute_result"
    }
   ],
   "source": [
    "root.left.key"
   ]
  },
  {
   "cell_type": "code",
   "execution_count": 23,
   "id": "82a7698e",
   "metadata": {},
   "outputs": [
    {
     "data": {
      "text/plain": [
       "20"
      ]
     },
     "execution_count": 23,
     "metadata": {},
     "output_type": "execute_result"
    }
   ],
   "source": [
    "root.right.key"
   ]
  },
  {
   "cell_type": "code",
   "execution_count": 24,
   "id": "3a4de392",
   "metadata": {},
   "outputs": [
    {
     "data": {
      "text/plain": [
       "30"
      ]
     },
     "execution_count": 24,
     "metadata": {},
     "output_type": "execute_result"
    }
   ],
   "source": [
    "root.right.right.key"
   ]
  },
  {
   "cell_type": "markdown",
   "id": "b10c1edb",
   "metadata": {},
   "source": [
    "#### Deletion in Binary Search Tree"
   ]
  },
  {
   "cell_type": "code",
   "execution_count": 25,
   "id": "9a0743e9",
   "metadata": {},
   "outputs": [],
   "source": [
    "def getSucc(curr, key):\n",
    "    while curr.left != None:\n",
    "        curr = curr.left\n",
    "    return curr.key\n",
    "\n",
    "def DeleteBST(root, key):\n",
    "    if root == None:\n",
    "        return \n",
    "    if root.key > key:\n",
    "        root.left = DeleteBST(root.left, key)\n",
    "        if root.left == None and root.right == None:\n",
    "            return None\n",
    "    elif root.key < key:\n",
    "        root.right = DeleteBST(root.right, key)\n",
    "    else:\n",
    "        if root.left == None:\n",
    "            return root.right\n",
    "        elif root.right == None:\n",
    "            return root.left\n",
    "        else:\n",
    "            succ = getSucc(root.right, key) # inorder successor to replace the deleted root node\n",
    "            root.key = succ\n",
    "            root.right = DeleteBST(root.right, key)\n",
    "    return root\n",
    "        "
   ]
  },
  {
   "cell_type": "markdown",
   "id": "2471e8ca",
   "metadata": {},
   "source": [
    "        10\n",
    "       /  \\\n",
    "      5   20\n",
    "          / \\\n",
    "         15 30"
   ]
  },
  {
   "cell_type": "code",
   "execution_count": 26,
   "id": "050185a2",
   "metadata": {},
   "outputs": [],
   "source": [
    "root = Node(10)\n",
    "root.left = Node(5)\n",
    "root.right = Node(20)\n",
    "root.right.left = Node(15)\n",
    "root.right.right = Node(30)"
   ]
  },
  {
   "cell_type": "code",
   "execution_count": 27,
   "id": "ca40c821",
   "metadata": {},
   "outputs": [
    {
     "data": {
      "text/plain": [
       "<__main__.Node at 0x13b2754b850>"
      ]
     },
     "execution_count": 27,
     "metadata": {},
     "output_type": "execute_result"
    }
   ],
   "source": [
    "DeleteBST(root, 20)"
   ]
  },
  {
   "cell_type": "code",
   "execution_count": 28,
   "id": "173e9e8e",
   "metadata": {},
   "outputs": [
    {
     "data": {
      "text/plain": [
       "5"
      ]
     },
     "execution_count": 28,
     "metadata": {},
     "output_type": "execute_result"
    }
   ],
   "source": [
    "root.left.key"
   ]
  },
  {
   "cell_type": "code",
   "execution_count": 29,
   "id": "7174b111",
   "metadata": {},
   "outputs": [
    {
     "data": {
      "text/plain": [
       "30"
      ]
     },
     "execution_count": 29,
     "metadata": {},
     "output_type": "execute_result"
    }
   ],
   "source": [
    "root.right.key"
   ]
  },
  {
   "cell_type": "code",
   "execution_count": 30,
   "id": "613792d2",
   "metadata": {},
   "outputs": [
    {
     "data": {
      "text/plain": [
       "15"
      ]
     },
     "execution_count": 30,
     "metadata": {},
     "output_type": "execute_result"
    }
   ],
   "source": [
    "root.right.left.key"
   ]
  },
  {
   "cell_type": "code",
   "execution_count": 31,
   "id": "a1ed74e2",
   "metadata": {},
   "outputs": [],
   "source": [
    "root = Node(10)\n",
    "root.left = Node(5)\n",
    "root.left.left = Node(2)\n",
    "root.right = Node(20)\n",
    "root.right.left = Node(18)\n",
    "root.right.right = Node(100)"
   ]
  },
  {
   "cell_type": "markdown",
   "id": "8a413c64",
   "metadata": {},
   "source": [
    "        10\n",
    "       /  \\\n",
    "      5   20\n",
    "     /   /  \\\n",
    "    2   18  100"
   ]
  },
  {
   "cell_type": "code",
   "execution_count": 32,
   "id": "79d0c80b",
   "metadata": {},
   "outputs": [
    {
     "data": {
      "text/plain": [
       "<__main__.Node at 0x13b27453af0>"
      ]
     },
     "execution_count": 32,
     "metadata": {},
     "output_type": "execute_result"
    }
   ],
   "source": [
    "DeleteBST(root, 10)"
   ]
  },
  {
   "cell_type": "code",
   "execution_count": 33,
   "id": "e2a7930b",
   "metadata": {},
   "outputs": [
    {
     "data": {
      "text/plain": [
       "18"
      ]
     },
     "execution_count": 33,
     "metadata": {},
     "output_type": "execute_result"
    }
   ],
   "source": [
    "root.key"
   ]
  },
  {
   "cell_type": "code",
   "execution_count": 34,
   "id": "335502b6",
   "metadata": {},
   "outputs": [
    {
     "data": {
      "text/plain": [
       "5"
      ]
     },
     "execution_count": 34,
     "metadata": {},
     "output_type": "execute_result"
    }
   ],
   "source": [
    "root.left.key"
   ]
  },
  {
   "cell_type": "code",
   "execution_count": 35,
   "id": "473fb8e5",
   "metadata": {},
   "outputs": [
    {
     "data": {
      "text/plain": [
       "20"
      ]
     },
     "execution_count": 35,
     "metadata": {},
     "output_type": "execute_result"
    }
   ],
   "source": [
    "root.right.key"
   ]
  },
  {
   "cell_type": "code",
   "execution_count": 36,
   "id": "067db7dc",
   "metadata": {},
   "outputs": [
    {
     "data": {
      "text/plain": [
       "\"\\nAttributeError                            Traceback (most recent call last)\\nCell In[353], line 2\\n      1 # it will throw error because the node is deleted we have selected as the inorder successor\\n----> 2 root.right.left.key\\n\\nAttributeError: 'NoneType' object has no attribute 'key'\\n\""
      ]
     },
     "execution_count": 36,
     "metadata": {},
     "output_type": "execute_result"
    }
   ],
   "source": [
    "#it will throw error because the node is deleted we have selected as the inorder successor\n",
    "#root.right.left.key \n",
    "'''\n",
    "AttributeError                            Traceback (most recent call last)\n",
    "Cell In[353], line 2\n",
    "      1 # it will throw error because the node is deleted we have selected as the inorder successor\n",
    "----> 2 root.right.left.key\n",
    "\n",
    "AttributeError: 'NoneType' object has no attribute 'key'\n",
    "'''"
   ]
  },
  {
   "cell_type": "markdown",
   "id": "73eab89f-1f52-4375-90d3-565e2d14f59d",
   "metadata": {},
   "source": [
    "#### BST Floor\n",
    "\n",
    "Floor values are always equal to or smaller than values"
   ]
  },
  {
   "cell_type": "code",
   "execution_count": 37,
   "id": "8647e54e-f878-4511-b0d4-5ac5c304e768",
   "metadata": {},
   "outputs": [],
   "source": [
    "def BSTFloor(root, x):\n",
    "    res = None\n",
    "    while root != None:\n",
    "        if root.key == x:\n",
    "            return root.key\n",
    "        elif root.key > x:\n",
    "            root = root.left\n",
    "        else:\n",
    "            res = root\n",
    "            root = root.right\n",
    "    if res != None:\n",
    "        return res.key\n",
    "    else:\n",
    "        return res"
   ]
  },
  {
   "cell_type": "markdown",
   "id": "b508e7be-d09a-4f8c-a643-bc4e0d8029b9",
   "metadata": {},
   "source": [
    "             100\n",
    "           /     \\\n",
    "         50       120\n",
    "        /  \\    /    \\\n",
    "       40  60 110    140\n",
    "              /  \\\n",
    "            90   130\n"
   ]
  },
  {
   "cell_type": "code",
   "execution_count": 38,
   "id": "9a387588-b606-43f7-bec5-a3d1dcd602f2",
   "metadata": {},
   "outputs": [],
   "source": [
    "root = Node(100)\n",
    "root.left= Node(50)\n",
    "root.right = Node(120)\n",
    "root.left.left = Node(40)\n",
    "root.left.right = Node(60)\n",
    "root.right = Node(120)\n",
    "root.right.left = Node(110)\n",
    "root.right.right = Node(140)\n",
    "root.right.left.left = Node(90)\n",
    "root.right.left.right = Node(130)"
   ]
  },
  {
   "cell_type": "markdown",
   "id": "26a37d40-3862-4c4b-8342-093cad76efa0",
   "metadata": {},
   "source": [
    "<img src=\"img/Floor for x = 60 BST.gif\" />"
   ]
  },
  {
   "cell_type": "code",
   "execution_count": 39,
   "id": "8cc22a55-029a-40c2-b0ac-12cac82bb1c2",
   "metadata": {},
   "outputs": [
    {
     "data": {
      "text/plain": [
       "60"
      ]
     },
     "execution_count": 39,
     "metadata": {},
     "output_type": "execute_result"
    }
   ],
   "source": [
    "BSTFloor(root, 60)"
   ]
  },
  {
   "cell_type": "markdown",
   "id": "a379f6ae-4c7d-4bf6-a0ee-057a486ac010",
   "metadata": {},
   "source": [
    "<img src=\"img/Floor for x = 100.gif\" />"
   ]
  },
  {
   "cell_type": "code",
   "execution_count": 40,
   "id": "b4568f48-31be-4af9-9aed-52ba51bbbc49",
   "metadata": {},
   "outputs": [
    {
     "data": {
      "text/plain": [
       "100"
      ]
     },
     "execution_count": 40,
     "metadata": {},
     "output_type": "execute_result"
    }
   ],
   "source": [
    "BSTFloor(root, 100)"
   ]
  },
  {
   "cell_type": "code",
   "execution_count": 41,
   "id": "291cddf6-64a9-481a-b481-19b4af06e324",
   "metadata": {},
   "outputs": [],
   "source": [
    "BSTFloor(root, 30)"
   ]
  },
  {
   "cell_type": "markdown",
   "id": "a10cb12b-e305-4c81-9f9b-90f5580a4e6f",
   "metadata": {},
   "source": [
    "#### BST Ceiling\n",
    "\n",
    "Ceil values are always equal to or greater than values\n"
   ]
  },
  {
   "cell_type": "code",
   "execution_count": 42,
   "id": "128eb292-ade7-45a6-9d45-7eb3b6b3886f",
   "metadata": {},
   "outputs": [
    {
     "data": {
      "text/plain": [
       "<__main__.Node at 0x13b2754a080>"
      ]
     },
     "execution_count": 42,
     "metadata": {},
     "output_type": "execute_result"
    }
   ],
   "source": [
    "root"
   ]
  },
  {
   "cell_type": "code",
   "execution_count": 43,
   "id": "57a57704-ce00-4c45-a3ed-d4ee7672bf43",
   "metadata": {},
   "outputs": [],
   "source": [
    "def BSTCeil(root, x):\n",
    "    res = None\n",
    "    while root != None:\n",
    "        if root.key == x:\n",
    "            return root.key\n",
    "        elif root.key < x:\n",
    "            root = root.right\n",
    "        else:\n",
    "            res = root\n",
    "            root = root.left\n",
    "    \n",
    "    return res.key if res != None else res\n",
    "        "
   ]
  },
  {
   "cell_type": "markdown",
   "id": "41a617a2-75a0-441a-aacb-94c573d2c19e",
   "metadata": {},
   "source": [
    "<img src=\"img/Ceil Value for x = 60.gif\" />"
   ]
  },
  {
   "cell_type": "code",
   "execution_count": 44,
   "id": "3344e9d1-1820-4a00-bb43-56c09a9257a2",
   "metadata": {},
   "outputs": [
    {
     "data": {
      "text/plain": [
       "60"
      ]
     },
     "execution_count": 44,
     "metadata": {},
     "output_type": "execute_result"
    }
   ],
   "source": [
    "BSTCeil(root, 60)"
   ]
  },
  {
   "cell_type": "code",
   "execution_count": 45,
   "id": "9f65ea0c-5c09-412e-b315-2c99143bcc56",
   "metadata": {},
   "outputs": [
    {
     "data": {
      "text/plain": [
       "140"
      ]
     },
     "execution_count": 45,
     "metadata": {},
     "output_type": "execute_result"
    }
   ],
   "source": [
    "BSTCeil(root, 130)"
   ]
  },
  {
   "cell_type": "markdown",
   "id": "c8963c6b",
   "metadata": {},
   "source": [
    "#### Inorder in BST"
   ]
  },
  {
   "cell_type": "code",
   "execution_count": 46,
   "id": "2ee41999",
   "metadata": {},
   "outputs": [],
   "source": [
    "def InOrderHelper(root, arr):\n",
    "    if root != None:\n",
    "        InOrderHelper(root.left, arr)\n",
    "        arr.append(root.val)\n",
    "        InOrderHelper(root.right, arr)\n",
    "\n",
    "    return arr\n",
    "    \n",
    "def InOrder(root):\n",
    "    arr = []\n",
    "    InOrderHelper(root, arr)\n",
    "    return arr"
   ]
  },
  {
   "cell_type": "markdown",
   "id": "f914c99b",
   "metadata": {},
   "source": [
    "#### Pre Order in BST"
   ]
  },
  {
   "cell_type": "code",
   "execution_count": 47,
   "id": "a63c5241",
   "metadata": {},
   "outputs": [],
   "source": [
    "def appenValue(root, arr):\n",
    "    if root != None:\n",
    "        arr.append(root.val)\n",
    "        appenValue(root.left, arr)\n",
    "        appenValue(root.right, arr)\n",
    "    return arr\n",
    "    \n",
    "def preOrder(root):\n",
    "    arr = []\n",
    "    appenValue(root, arr)\n",
    "    return arr"
   ]
  },
  {
   "cell_type": "markdown",
   "id": "2b33419c",
   "metadata": {},
   "source": [
    "#### Post Order in BST"
   ]
  },
  {
   "cell_type": "code",
   "execution_count": 48,
   "id": "14e10197",
   "metadata": {},
   "outputs": [],
   "source": [
    "def hel(root, arr):\n",
    "    if root != None:\n",
    "        hel(root.left, arr)\n",
    "        hel(root.right, arr)\n",
    "        arr.append(root.val)\n",
    "    return arr\n",
    "    \n",
    "def postOrder(root):\n",
    "    arr = []\n",
    "    hel(root, arr)\n",
    "    return arr"
   ]
  },
  {
   "cell_type": "markdown",
   "id": "42a8687e",
   "metadata": {},
   "source": [
    "#### Minimum Value in BST"
   ]
  },
  {
   "cell_type": "code",
   "execution_count": 49,
   "id": "cf8efca7",
   "metadata": {},
   "outputs": [],
   "source": [
    "def minValue(root):\n",
    "    if root is None:\n",
    "        return -1\n",
    "        \n",
    "    while root.left != None:\n",
    "        root = root.left\n",
    "    return root.data"
   ]
  },
  {
   "cell_type": "markdown",
   "id": "a56a1860-9d96-4e2d-8a75-5945fa7fbed7",
   "metadata": {},
   "source": [
    "#### Self Balancing BST\n",
    "\n",
    "     |- AVL Tree\n",
    "     |- Red Black Tree"
   ]
  },
  {
   "cell_type": "markdown",
   "id": "986108b2-76cf-4dd2-8225-49bf22ed318f",
   "metadata": {},
   "source": [
    "##### AVL Tree\n",
    "\n",
    "**AVL Tree Stands for Adelson-Velsky and Landis**\n",
    "* It is a BST\n",
    "* It is balanced\n",
    "* Balance Factor shoul be less than or equal to 1\n",
    "> Balance Factor = | lh - rh |\n",
    "* Search Functions is similar to BST\n",
    "* Insert and Delete operations are complex as compared to BST because operations are performed to balance the Tree."
   ]
  },
  {
   "cell_type": "markdown",
   "id": "fdacb2fa-a1c2-4473-8948-f69afd4c0c72",
   "metadata": {},
   "source": [
    "##### Red Black Tree\n",
    "\n",
    "* Every node is either red or black\n",
    "* Root is alway black\n",
    "* No two Consecutive roots\n",
    "* Number of black nodes from every node to all of its descendant leaves should be same\n",
    "\n",
    "\n",
    "**Red Black Tree is less strict than AVL Tree**"
   ]
  },
  {
   "cell_type": "markdown",
   "id": "a406fb06-e9a4-4131-92b2-9f486b915430",
   "metadata": {},
   "source": [
    "#### Applications Of BST\n",
    "\n",
    "* To maintain sorted stream of the data\n",
    "* To implement doubly ended priority queue\n",
    "* To solve problem like\n",
    "    * Count smaller/greater in stream\n",
    "    * Floor / Ceiling / Greater / Smaller in stream"
   ]
  },
  {
   "cell_type": "markdown",
   "id": "f46723a8",
   "metadata": {},
   "source": [
    "## Ceiling on the left side of the array"
   ]
  },
  {
   "cell_type": "code",
   "execution_count": 50,
   "id": "fa696756",
   "metadata": {},
   "outputs": [],
   "source": [
    "import sys\n",
    "# The Time Complexity is O(N^2)\n",
    "def ceiling_on_left_side(arr):\n",
    "    n = len(arr)\n",
    "    # the first value is always -1 as there are no elements on t\n",
    "    print(-1, end=\" \")\n",
    "    for i in range(1, n):\n",
    "        diff = sys.maxsize # it returns the maximum size\n",
    "        for j in range(i):\n",
    "            if arr[j] >= arr[i]:\n",
    "                diff = min(diff, arr[j] - arr[i])\n",
    "        # we will get the minimum difference from above for loop\n",
    "        # if diff value remains same then we just print -1\n",
    "        if diff == sys.maxsize:\n",
    "            print(-1, end =\" \")\n",
    "        else:\n",
    "            print(arr[i] + diff, end=\" \")"
   ]
  },
  {
   "cell_type": "code",
   "execution_count": 51,
   "id": "6f84fa13",
   "metadata": {},
   "outputs": [
    {
     "name": "stdout",
     "output_type": "stream",
     "text": [
      "-1 -1 -1 -1 3 15 14 2 "
     ]
    }
   ],
   "source": [
    "arr = [2,3,4,15,3,14,12,1]\n",
    "\n",
    "ceiling_on_left_side(arr)"
   ]
  },
  {
   "cell_type": "code",
   "execution_count": 52,
   "id": "52eeefa9",
   "metadata": {},
   "outputs": [],
   "source": [
    "# The Time Complexity is O(N)\n",
    "# Improved Version\n",
    "def printLeftCeil(arr):\n",
    "    n = len(arr)\n",
    "    # the first value always remain -1 as there are no value on left\n",
    "    print(-1, end=\" \")\n",
    "    # create a new set\n",
    "    s = set()\n",
    "    s.add(arr[0])\n",
    "    for i in range(1, n):\n",
    "        # create an array which stores the value which is greater than current value\n",
    "        it = [x for x in s if x >= arr[i]]\n",
    "        \n",
    "        if len(it) == 0:\n",
    "            print(-1, end=\" \")\n",
    "        else:\n",
    "            print(min(it), end=\" \")\n",
    "        s.add(arr[i])"
   ]
  },
  {
   "cell_type": "code",
   "execution_count": 53,
   "id": "35b2e027",
   "metadata": {},
   "outputs": [
    {
     "name": "stdout",
     "output_type": "stream",
     "text": [
      "-1 -1 -1 -1 3 15 14 2 "
     ]
    }
   ],
   "source": [
    "printLeftCeil(arr)"
   ]
  },
  {
   "cell_type": "markdown",
   "id": "81d51406",
   "metadata": {},
   "source": [
    "## Find Kth Smallest in BST"
   ]
  },
  {
   "cell_type": "markdown",
   "id": "fd09f26e",
   "metadata": {},
   "source": [
    "             100\n",
    "           /     \\\n",
    "         50       120\n",
    "        /  \\    /    \\\n",
    "       40  60 110    140\n",
    "              /  \\\n",
    "            90   130\n"
   ]
  },
  {
   "cell_type": "code",
   "execution_count": 54,
   "id": "1d74f418",
   "metadata": {},
   "outputs": [],
   "source": [
    "def inorderHelper(root):\n",
    "    arr = []\n",
    "    inorder(root, arr)\n",
    "    return arr\n",
    "def inorder(root, arr):\n",
    "    if root != None:\n",
    "        inorder(root.left, arr)\n",
    "        arr.append(root.key)\n",
    "        inorder(root.right, arr)\n",
    "def kth_smallest(root, k):\n",
    "    arr = inorderHelper(root)\n",
    "    print(arr)\n",
    "    return arr[k]"
   ]
  },
  {
   "cell_type": "code",
   "execution_count": 55,
   "id": "1aabeb5a",
   "metadata": {},
   "outputs": [
    {
     "name": "stdout",
     "output_type": "stream",
     "text": [
      "[40, 50, 60, 100, 90, 110, 130, 120, 140]\n"
     ]
    },
    {
     "data": {
      "text/plain": [
       "40"
      ]
     },
     "execution_count": 55,
     "metadata": {},
     "output_type": "execute_result"
    }
   ],
   "source": [
    "kth_smallest(root, 0)"
   ]
  },
  {
   "cell_type": "markdown",
   "id": "bf9c52ed",
   "metadata": {},
   "source": [
    "## Chek BST"
   ]
  },
  {
   "cell_type": "code",
   "execution_count": 56,
   "id": "56a504dc",
   "metadata": {},
   "outputs": [],
   "source": [
    "root = Node(50)\n",
    "root.left = Node(30)\n",
    "root.right = Node(70)\n",
    "root.left.left = Node(10)\n",
    "root.left.right = Node(40)\n",
    "root.right.left = Node(60)\n",
    "root.right.right = Node(80)"
   ]
  },
  {
   "cell_type": "code",
   "execution_count": 57,
   "id": "f72be737",
   "metadata": {},
   "outputs": [],
   "source": [
    "def isBST(root):\n",
    "    def valid(root, left, right):\n",
    "        if root is None:\n",
    "            return True\n",
    "        if not (root.key > left and root.key < right):\n",
    "            return False\n",
    "        return valid(root.left, left, root.key) and valid(root.right, root.key, right)\n",
    "    return valid(root, float(\"-inf\"), float(\"inf\"))"
   ]
  },
  {
   "cell_type": "code",
   "execution_count": 58,
   "id": "242d31e3",
   "metadata": {},
   "outputs": [
    {
     "data": {
      "text/plain": [
       "True"
      ]
     },
     "execution_count": 58,
     "metadata": {},
     "output_type": "execute_result"
    }
   ],
   "source": [
    "isBST(root)"
   ]
  },
  {
   "cell_type": "markdown",
   "id": "94672cd4",
   "metadata": {
    "tags": []
   },
   "source": [
    "## Fix BST with Two Nodes Swapped"
   ]
  },
  {
   "cell_type": "code",
   "execution_count": 66,
   "id": "8befdf3e",
   "metadata": {},
   "outputs": [],
   "source": [
    "first = None\n",
    "second = None\n",
    "prev = None\n",
    "def fixBST(root, first, second, prev):\n",
    "    if root is None:\n",
    "        return True\n",
    "    fixBST(root.left,first, second, prev)\n",
    "    if prev != None and root.key < prev.key:\n",
    "        if first == None:\n",
    "            first = prev\n",
    "        second = root\n",
    "    prev = root\n",
    "    fixBST(root.right, first, second, prev)"
   ]
  },
  {
   "cell_type": "code",
   "execution_count": 67,
   "id": "7eee7f4a-b6dc-4ee6-8ad5-5c67177570ef",
   "metadata": {},
   "outputs": [
    {
     "name": "stdout",
     "output_type": "stream",
     "text": [
      "Successfully added to the comment list\n"
     ]
    }
   ],
   "source": [
    "z.new(\"Floor Value in BST\")"
   ]
  },
  {
   "cell_type": "markdown",
   "id": "e8b39d84-faa1-4fc6-9095-01679942a179",
   "metadata": {},
   "source": [
    "# Floor and Ceil Value in BST\n",
    "\n",
    "* `Floor` : It is the value it should be immediate lower than key or we can say that it should be smaller than key but maximum over all numbers\n",
    "* `Ceil` : It is the value it should be immediate greater than key or we can say that it should be greater than keybut minimum over all numbers\n",
    "\n",
    "For Eg:\n",
    "                \n",
    "                10\n",
    "               /  \\\n",
    "             8    30\n",
    "            / \\  / \\\n",
    "           7  9 15 35\n",
    "and the `key` is 31\n",
    "\n",
    "So, \n",
    "* the Floor value will be 30 i.e smaller than 31 or maximum number below `key`\n",
    "* the Ceil value will be 35 i.e greater than 31 or minimum number above `key`"
   ]
  },
  {
   "cell_type": "markdown",
   "id": "da9dee1d-96a8-4a39-9f1f-77552ebb4688",
   "metadata": {
    "tags": []
   },
   "source": [
    "## Floor Value in BST"
   ]
  },
  {
   "cell_type": "code",
   "execution_count": 69,
   "id": "a4f0ef1a-691e-48d3-85ce-51bc95da3a8e",
   "metadata": {
    "tags": []
   },
   "outputs": [],
   "source": [
    "def floor(root, x):\n",
    "    ans = float(\"-inf\")\n",
    "    while root:\n",
    "        if root.key == x:\n",
    "            return root.key\n",
    "        if root.key > x:\n",
    "            root = root.left\n",
    "        else:\n",
    "            ans = root.key\n",
    "            root = root.right\n",
    "    return ans"
   ]
  },
  {
   "cell_type": "code",
   "execution_count": null,
   "id": "942fd7e9-3967-41ed-85fd-f11879aadfec",
   "metadata": {},
   "outputs": [],
   "source": []
  }
 ],
 "metadata": {
  "kernelspec": {
   "display_name": "Python 3 (ipykernel)",
   "language": "python",
   "name": "python3"
  },
  "language_info": {
   "codemirror_mode": {
    "name": "ipython",
    "version": 3
   },
   "file_extension": ".py",
   "mimetype": "text/x-python",
   "name": "python",
   "nbconvert_exporter": "python",
   "pygments_lexer": "ipython3",
   "version": "3.10.10"
  }
 },
 "nbformat": 4,
 "nbformat_minor": 5
}

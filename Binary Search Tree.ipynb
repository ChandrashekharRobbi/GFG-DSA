{
 "cells": [
  {
   "cell_type": "code",
   "execution_count": 3,
   "id": "01f10545",
   "metadata": {},
   "outputs": [],
   "source": [
    "from imp_personal import MyFunction\n",
    "z = MyFunction()"
   ]
  },
  {
   "cell_type": "markdown",
   "id": "2bfb3aaf",
   "metadata": {},
   "source": [
    "# Binary Search Tree \n",
    "\n",
    "Time complexity as compared to other data structures\n",
    "\n",
    "| Operations | Array(Unsorted) | Array (Sorted) | LinkedList | BST(Balanced) | Hash Table |\n",
    "| ------     | ------          | -------------- | ---------- | ------------- | ---------- |\n",
    "| Search | O(n) | O(log n) | O(n) | O(log n) | O(1) |\n",
    "| Insert | O(1) | O(n) | O(1) | O(log n) | O(1) |\n",
    "| Delete | O(n) | O(n) | O(n) | O(log n) | O(1) |\n",
    "| Find Closest | O(n) | O(log n) | O(n) | O(log n) | O(n) |\n",
    "| Sorted Traversal | O(nlogn) | O(n) | O(n logn) | O(n) | O(nlogn) |\n"
   ]
  },
  {
   "cell_type": "markdown",
   "id": "7c6777ba",
   "metadata": {},
   "source": [
    "# Binary Search Tree\n",
    "\n",
    "* For every node keys in left side are smaller and keys in right side are greater\n",
    "* All keys are typically considered as distinct\n",
    "* Like LinkedList it is a linked data structure\n",
    "\n",
    "\n",
    "             50\n",
    "           /    \\\n",
    "          30    70\n",
    "         /  \\   /  \\\n",
    "        10  40 60  80"
   ]
  },
  {
   "cell_type": "code",
   "execution_count": 8,
   "id": "5055c2f1",
   "metadata": {},
   "outputs": [],
   "source": [
    "class Node:\n",
    "    def __init__(self,data):\n",
    "        self.data = data\n",
    "        self.left = None\n",
    "        self.right = None"
   ]
  },
  {
   "cell_type": "code",
   "execution_count": null,
   "id": "599c8ecb",
   "metadata": {},
   "outputs": [],
   "source": [
    "root = Node(50)\n",
    "root.left = Node(30)\n",
    "root.right = Node(70)\n",
    "root.left.left = Node(10)\n",
    "root.left.right = Node(40)\n",
    "root.right.left = Node(60)\n",
    "root.right.righ"
   ]
  }
 ],
 "metadata": {
  "kernelspec": {
   "display_name": "Python 3 (ipykernel)",
   "language": "python",
   "name": "python3"
  },
  "language_info": {
   "codemirror_mode": {
    "name": "ipython",
    "version": 3
   },
   "file_extension": ".py",
   "mimetype": "text/x-python",
   "name": "python",
   "nbconvert_exporter": "python",
   "pygments_lexer": "ipython3",
   "version": "3.10.8"
  }
 },
 "nbformat": 4,
 "nbformat_minor": 5
}

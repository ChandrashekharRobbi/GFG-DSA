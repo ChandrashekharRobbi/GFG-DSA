{
 "cells": [
  {
   "cell_type": "code",
   "execution_count": 1,
   "id": "e9ac36fe",
   "metadata": {},
   "outputs": [],
   "source": [
    "from imp_personal import MyFunction\n",
    "z = MyFunction()"
   ]
  },
  {
   "cell_type": "markdown",
   "id": "bd249f72",
   "metadata": {},
   "source": [
    "# Binary Search Tree \n",
    "\n",
    "Time complexity as compared to other data structures\n",
    "\n",
    "| Operations | Array(Unsorted) | Array (Sorted) | LinkedList | BST(Balanced) | Hash Table |\n",
    "| ------     | ------          | -------------- | ---------- | ------------- | ---------- |\n",
    "| Search | O(n) | O(log n) | O(n) | O(log n) | O(1) |\n",
    "| Insert | O(1) | O(n) | O(1) | O(log n) | O(1) |\n",
    "| Delete | O(n) | O(n) | O(n) | O(log n) | O(1) |\n",
    "| Find Closest | O(n) | O(log n) | O(n) | O(log n) | O(n) |\n",
    "| Sorted Traversal | O(nlogn) | O(n) | O(n logn) | O(n) | O(nlogn) |\n"
   ]
  },
  {
   "cell_type": "markdown",
   "id": "7c6777ba",
   "metadata": {},
   "source": [
    "# Binary Search Tree\n",
    "\n",
    "* For every node keys in left side are smaller and keys in right side are greater\n",
    "* All keys are typically considered as distinct\n",
    "* Like LinkedList it is a linked data structure\n",
    "\n",
    "\n",
    "             50\n",
    "           /    \\\n",
    "          30    70\n",
    "         /  \\   /  \\\n",
    "        10  40 60  80\n",
    "        \n",
    "        \n",
    "**Problems**\n",
    "\n",
    "1. [Search Element in Binary Search Tree](#Search-Element-in-Binary-Search-Tree)\n",
    "1. [Insert Elements in Binary Search Tree](#Insert-Elements-in-Binary-Search-Tree)"
   ]
  },
  {
   "cell_type": "code",
   "execution_count": 2,
   "id": "5055c2f1",
   "metadata": {},
   "outputs": [],
   "source": [
    "class Node:\n",
    "    def __init__(self,data):\n",
    "        self.data = data\n",
    "        self.left = None\n",
    "        self.right = None"
   ]
  },
  {
   "cell_type": "code",
   "execution_count": 3,
   "id": "4b274329",
   "metadata": {},
   "outputs": [],
   "source": [
    "root = Node(50)\n",
    "root.left = Node(30)\n",
    "root.right = Node(70)\n",
    "root.left.left = Node(10)\n",
    "root.left.right = Node(40)\n",
    "root.right.left = Node(60)\n",
    "root.right.right = Node(80)"
   ]
  },
  {
   "cell_type": "markdown",
   "id": "9cb96dc8",
   "metadata": {},
   "source": [
    "#### Search Element in Binary Search Tree"
   ]
  },
  {
   "cell_type": "markdown",
   "id": "36af1fa3-cd29-4d21-8c0f-19abbd6070ba",
   "metadata": {},
   "source": [
    "###### Recursive Solution"
   ]
  },
  {
   "cell_type": "code",
   "execution_count": 4,
   "id": "4984d5f3",
   "metadata": {},
   "outputs": [],
   "source": [
    "def searchBST(root,x):\n",
    "    if root is None:\n",
    "        return False\n",
    "    elif root.data == x:\n",
    "        return x\n",
    "    elif root.data > x:\n",
    "        return searchBST(root.left, x)\n",
    "    else:\n",
    "        return searchBST(root.right, x)\n",
    "        "
   ]
  },
  {
   "cell_type": "code",
   "execution_count": 5,
   "id": "b082ba4e",
   "metadata": {},
   "outputs": [
    {
     "name": "stdout",
     "output_type": "stream",
     "text": [
      "70\n"
     ]
    }
   ],
   "source": [
    "print(searchBST(root, 70))"
   ]
  },
  {
   "cell_type": "markdown",
   "id": "52aca180-f58f-4932-a2ed-09ae7b968b05",
   "metadata": {},
   "source": [
    "###### Iterative Solution"
   ]
  },
  {
   "cell_type": "code",
   "execution_count": 6,
   "id": "76a82ae9-3909-42e1-8904-4cd97e35cb4b",
   "metadata": {},
   "outputs": [],
   "source": [
    "def searchBST(root, key):\n",
    "    while root != None:\n",
    "        if root.data == key:\n",
    "            return root.data\n",
    "        elif root.data > key:\n",
    "            root = root.left\n",
    "        else:\n",
    "            root = root.right\n",
    "    return -1"
   ]
  },
  {
   "cell_type": "code",
   "execution_count": 7,
   "id": "e44a19d5-7a8d-4b5e-b26f-15cf225ad3bb",
   "metadata": {},
   "outputs": [
    {
     "data": {
      "text/plain": [
       "70"
      ]
     },
     "execution_count": 7,
     "metadata": {},
     "output_type": "execute_result"
    }
   ],
   "source": [
    "searchBST(root, 70)"
   ]
  },
  {
   "cell_type": "code",
   "execution_count": 8,
   "id": "cbad2453-7b19-4ca3-9cbf-65942d16ad61",
   "metadata": {},
   "outputs": [
    {
     "name": "stdout",
     "output_type": "stream",
     "text": [
      "Successfully added to the comment list\n"
     ]
    }
   ],
   "source": [
    "z.new(\"Insert Elements in Binary Search Tree\")"
   ]
  },
  {
   "cell_type": "markdown",
   "id": "926ca2a0",
   "metadata": {},
   "source": [
    "#### Insert Elements in Binary Search Tree"
   ]
  },
  {
   "cell_type": "markdown",
   "id": "6cbe7747",
   "metadata": {},
   "source": [
    "The root taken as\n",
    "\n",
    "        10\n",
    "       /  \\\n",
    "      5   20\n",
    "          / \\\n",
    "         15 30\n",
    "\n",
    "Let's see the flow of procedure\n",
    "\n",
    "```python\n",
    "    insertBST(10, 7)\n",
    "    The root is 10\n",
    "        - insertBST(5, 7)\n",
    "        The root is 5\n",
    "            - insertBST(None, 7)\n",
    "            - return Node(7)\n",
    "        link that node to root.right as the root is 5 now so right of 5 node we will insert 7\n",
    "```"
   ]
  },
  {
   "cell_type": "markdown",
   "id": "1ac3bc03",
   "metadata": {},
   "source": [
    "###### Recursive Solution"
   ]
  },
  {
   "cell_type": "code",
   "execution_count": 45,
   "id": "d6bca754",
   "metadata": {},
   "outputs": [],
   "source": [
    "root = Node(10)\n",
    "root.left = Node(5)\n",
    "root.right = Node(20)\n",
    "root.right.left = Node(15)\n",
    "root.right.right = Node(30)"
   ]
  },
  {
   "cell_type": "code",
   "execution_count": 46,
   "id": "94582e2e",
   "metadata": {},
   "outputs": [],
   "source": [
    "def insertBST(root, x):\n",
    "    if root == None:\n",
    "        return Node(x)\n",
    "    elif root.data == x:\n",
    "        return root\n",
    "    elif root.data > x:\n",
    "        if insertBST(root.left, x) != None:\n",
    "            root.left = insertBST(root.left , x)\n",
    "    else:\n",
    "        if insertBST(root.right, x) != None:\n",
    "            root.right = insertBST(root.right, x)"
   ]
  },
  {
   "cell_type": "code",
   "execution_count": 47,
   "id": "0f4ac608",
   "metadata": {},
   "outputs": [],
   "source": [
    "insertBST(root, 7)"
   ]
  },
  {
   "cell_type": "code",
   "execution_count": 49,
   "id": "0ce4f3e5",
   "metadata": {},
   "outputs": [
    {
     "data": {
      "text/plain": [
       "7"
      ]
     },
     "execution_count": 49,
     "metadata": {},
     "output_type": "execute_result"
    }
   ],
   "source": [
    "root.left.right.data"
   ]
  },
  {
   "cell_type": "markdown",
   "id": "eab284e2",
   "metadata": {},
   "source": [
    "###### Iterative Solution"
   ]
  },
  {
   "cell_type": "code",
   "execution_count": 53,
   "id": "a4ab91cd",
   "metadata": {},
   "outputs": [],
   "source": [
    "root = Node(10)\n",
    "root.left = Node(5)\n",
    "root.right = Node(20)\n",
    "root.right.left = Node(15)\n",
    "root.right.right = Node(30)"
   ]
  },
  {
   "cell_type": "code",
   "execution_count": 54,
   "id": "e3e93743",
   "metadata": {},
   "outputs": [],
   "source": [
    "def insertBST(root, x):\n",
    "    if root == None:\n",
    "        return Node(key)\n",
    "    parent = None\n",
    "    curr = root\n",
    "    while curr != None:\n",
    "        parent = curr\n",
    "        if curr.data == x:\n",
    "            return root\n",
    "        elif curr.data > x:\n",
    "            if curr.left != None:\n",
    "                curr = curr.left\n",
    "        else:\n",
    "            if curr.right != None:\n",
    "                curr = curr.right\n",
    "    if parent.data > x:\n",
    "        parent.left = Node(x)\n",
    "    else:\n",
    "        parent.right = Node(x)"
   ]
  },
  {
   "cell_type": "code",
   "execution_count": 55,
   "id": "7bd56340",
   "metadata": {},
   "outputs": [
    {
     "data": {
      "text/plain": [
       "<__main__.Node at 0x7f98e849f8b0>"
      ]
     },
     "execution_count": 55,
     "metadata": {},
     "output_type": "execute_result"
    }
   ],
   "source": [
    "insertBST(root, 30)"
   ]
  },
  {
   "cell_type": "code",
   "execution_count": 56,
   "id": "17042808",
   "metadata": {},
   "outputs": [
    {
     "data": {
      "text/plain": [
       "5"
      ]
     },
     "execution_count": 56,
     "metadata": {},
     "output_type": "execute_result"
    }
   ],
   "source": [
    "root.left.data"
   ]
  },
  {
   "cell_type": "code",
   "execution_count": 57,
   "id": "e758b849",
   "metadata": {},
   "outputs": [
    {
     "data": {
      "text/plain": [
       "20"
      ]
     },
     "execution_count": 57,
     "metadata": {},
     "output_type": "execute_result"
    }
   ],
   "source": [
    "root.right.data"
   ]
  },
  {
   "cell_type": "code",
   "execution_count": 58,
   "id": "01b079d5",
   "metadata": {},
   "outputs": [
    {
     "data": {
      "text/plain": [
       "30"
      ]
     },
     "execution_count": 58,
     "metadata": {},
     "output_type": "execute_result"
    }
   ],
   "source": [
    "root.right.right.data"
   ]
  },
  {
   "cell_type": "code",
   "execution_count": 59,
   "id": "69ceb764",
   "metadata": {},
   "outputs": [
    {
     "name": "stdout",
     "output_type": "stream",
     "text": [
      "1. [Insert Elements in Binary Search Tree](#Insert-Elements-in-Binary-Search-Tree)\n"
     ]
    }
   ],
   "source": [
    "z.printArr()"
   ]
  },
  {
   "cell_type": "code",
   "execution_count": null,
   "id": "fec33de5",
   "metadata": {},
   "outputs": [],
   "source": []
  }
 ],
 "metadata": {
  "kernelspec": {
   "display_name": "Python 3 (ipykernel)",
   "language": "python",
   "name": "python3"
  },
  "language_info": {
   "codemirror_mode": {
    "name": "ipython",
    "version": 3
   },
   "file_extension": ".py",
   "mimetype": "text/x-python",
   "name": "python",
   "nbconvert_exporter": "python",
   "pygments_lexer": "ipython3",
   "version": "3.10.8"
  }
 },
 "nbformat": 4,
 "nbformat_minor": 5
}

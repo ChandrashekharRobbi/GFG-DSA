{
 "cells": [
  {
   "cell_type": "code",
   "execution_count": 7,
   "id": "e9ac36fe",
   "metadata": {},
   "outputs": [],
   "source": [
    "from imp_personal import MyFunction\n",
    "z = MyFunction()"
   ]
  },
  {
   "cell_type": "markdown",
   "id": "bd249f72",
   "metadata": {},
   "source": [
    "# Binary Search Tree \n",
    "\n",
    "Time complexity as compared to other data structures\n",
    "\n",
    "| Operations | Array(Unsorted) | Array (Sorted) | LinkedList | BST(Balanced) | Hash Table |\n",
    "| ------     | ------          | -------------- | ---------- | ------------- | ---------- |\n",
    "| Search | O(n) | O(log n) | O(n) | O(log n) | O(1) |\n",
    "| Insert | O(1) | O(n) | O(1) | O(log n) | O(1) |\n",
    "| Delete | O(n) | O(n) | O(n) | O(log n) | O(1) |\n",
    "| Find Closest | O(n) | O(log n) | O(n) | O(log n) | O(n) |\n",
    "| Sorted Traversal | O(nlogn) | O(n) | O(n logn) | O(n) | O(nlogn) |\n"
   ]
  },
  {
   "cell_type": "markdown",
   "id": "7c6777ba",
   "metadata": {},
   "source": [
    "# Binary Search Tree\n",
    "\n",
    "* For every node data in left side are smaller and data in right side are greater\n",
    "* All data are typically considered as distinct\n",
    "* Like LinkedList it is a linked data structure\n",
    "\n",
    "\n",
    "             50\n",
    "           /    \\\n",
    "          30    70\n",
    "         /  \\   /  \\\n",
    "        10  40 60  80\n",
    "        \n",
    "        \n",
    "**Problems**\n",
    "\n",
    "1. [Search Element in Binary Search Tree](#Search-Element-in-Binary-Search-Tree)\n",
    "1. [Insert Elements in Binary Search Tree](#Insert-Elements-in-Binary-Search-Tree)\n",
    "1. [Deletion in Binary Search Tree](#Deletion-in-Binary-Search-Tree)"
   ]
  },
  {
   "cell_type": "code",
   "execution_count": 8,
   "id": "5055c2f1",
   "metadata": {},
   "outputs": [],
   "source": [
    "class Node:\n",
    "    def __init__(self,key):\n",
    "        self.key = key\n",
    "        self.left = None\n",
    "        self.right = None"
   ]
  },
  {
   "cell_type": "code",
   "execution_count": 9,
   "id": "4b274329",
   "metadata": {},
   "outputs": [],
   "source": [
    "root = Node(50)\n",
    "root.left = Node(30)\n",
    "root.right = Node(70)\n",
    "root.left.left = Node(10)\n",
    "root.left.right = Node(40)\n",
    "root.right.left = Node(60)\n",
    "root.right.right = Node(80)"
   ]
  },
  {
   "cell_type": "markdown",
   "id": "9cb96dc8",
   "metadata": {},
   "source": [
    "#### Search Element in Binary Search Tree"
   ]
  },
  {
   "cell_type": "markdown",
   "id": "36af1fa3-cd29-4d21-8c0f-19abbd6070ba",
   "metadata": {},
   "source": [
    "###### Recursive Solution"
   ]
  },
  {
   "cell_type": "code",
   "execution_count": 10,
   "id": "4984d5f3",
   "metadata": {},
   "outputs": [],
   "source": [
    "def searchBST(root,x):\n",
    "    if root is None:\n",
    "        return False\n",
    "    elif root.key == x:\n",
    "        return x\n",
    "    elif root.key > x:\n",
    "        return searchBST(root.left, x)\n",
    "    else:\n",
    "        return searchBST(root.right, x)\n",
    "        "
   ]
  },
  {
   "cell_type": "code",
   "execution_count": 11,
   "id": "b082ba4e",
   "metadata": {},
   "outputs": [
    {
     "name": "stdout",
     "output_type": "stream",
     "text": [
      "70\n"
     ]
    }
   ],
   "source": [
    "print(searchBST(root, 70))"
   ]
  },
  {
   "cell_type": "markdown",
   "id": "52aca180-f58f-4932-a2ed-09ae7b968b05",
   "metadata": {},
   "source": [
    "###### Iterative Solution"
   ]
  },
  {
   "cell_type": "code",
   "execution_count": 12,
   "id": "76a82ae9-3909-42e1-8904-4cd97e35cb4b",
   "metadata": {},
   "outputs": [],
   "source": [
    "def searchBST(root, key):\n",
    "    while root != None:\n",
    "        if root.key == key:\n",
    "            return root.key\n",
    "        elif root.key > key:\n",
    "            root = root.left\n",
    "        else:\n",
    "            root = root.right\n",
    "    return -1"
   ]
  },
  {
   "cell_type": "code",
   "execution_count": 13,
   "id": "e44a19d5-7a8d-4b5e-b26f-15cf225ad3bb",
   "metadata": {},
   "outputs": [
    {
     "data": {
      "text/plain": [
       "70"
      ]
     },
     "execution_count": 13,
     "metadata": {},
     "output_type": "execute_result"
    }
   ],
   "source": [
    "searchBST(root, 70)"
   ]
  },
  {
   "cell_type": "markdown",
   "id": "926ca2a0",
   "metadata": {},
   "source": [
    "#### Insert Elements in Binary Search Tree"
   ]
  },
  {
   "cell_type": "markdown",
   "id": "6cbe7747",
   "metadata": {},
   "source": [
    "The root taken as\n",
    "\n",
    "        10\n",
    "       /  \\\n",
    "      5   20\n",
    "          / \\\n",
    "         15 30\n",
    "\n",
    "Let's see the flow of procedure\n",
    "\n",
    "```python\n",
    "    insertBST(10, 7)\n",
    "    The root is 10\n",
    "        - insertBST(5, 7)\n",
    "        The root is 5\n",
    "            - insertBST(None, 7)\n",
    "            - return Node(7)\n",
    "        link that node to root.right as the root is 5 now so right of 5 node we will insert 7\n",
    "```"
   ]
  },
  {
   "cell_type": "markdown",
   "id": "1ac3bc03",
   "metadata": {},
   "source": [
    "###### Recursive Solution"
   ]
  },
  {
   "cell_type": "code",
   "execution_count": 14,
   "id": "e3483512",
   "metadata": {},
   "outputs": [],
   "source": [
    "root = Node(10)\n",
    "root.left = Node(5)\n",
    "root.right = Node(20)\n",
    "root.right.left = Node(15)\n",
    "root.right.right = Node(30)"
   ]
  },
  {
   "cell_type": "code",
   "execution_count": 15,
   "id": "94582e2e",
   "metadata": {},
   "outputs": [],
   "source": [
    "def insertBST(root, key):\n",
    "    if root == None:\n",
    "        return Node(key)\n",
    "    elif root.key == key:\n",
    "        return root\n",
    "    elif root.key > key:\n",
    "        if insertBST(root.left, key) != None:\n",
    "            root.left = insertBST(root.left , key)\n",
    "    else:\n",
    "        if insertBST(root.right, key) != None:\n",
    "            root.right = insertBST(root.right, key)"
   ]
  },
  {
   "cell_type": "code",
   "execution_count": 16,
   "id": "0f4ac608",
   "metadata": {},
   "outputs": [],
   "source": [
    "insertBST(root, 7)"
   ]
  },
  {
   "cell_type": "code",
   "execution_count": 17,
   "id": "ea5dd417",
   "metadata": {},
   "outputs": [
    {
     "data": {
      "text/plain": [
       "7"
      ]
     },
     "execution_count": 17,
     "metadata": {},
     "output_type": "execute_result"
    }
   ],
   "source": [
    "root.left.right.key"
   ]
  },
  {
   "cell_type": "markdown",
   "id": "eab284e2",
   "metadata": {},
   "source": [
    "###### Iterative Solution"
   ]
  },
  {
   "cell_type": "code",
   "execution_count": 18,
   "id": "fbbaf8ad",
   "metadata": {},
   "outputs": [],
   "source": [
    "root = Node(10)\n",
    "root.left = Node(5)\n",
    "root.right = Node(20)\n",
    "root.right.left = Node(15)\n",
    "root.right.right = Node(30)"
   ]
  },
  {
   "cell_type": "code",
   "execution_count": 19,
   "id": "e3e93743",
   "metadata": {},
   "outputs": [],
   "source": [
    "def insertBST(root, x):\n",
    "    if root == None:\n",
    "        return Node(key)\n",
    "    parent = None\n",
    "    curr = root\n",
    "    while curr != None:\n",
    "        parent = curr\n",
    "        if curr.key == x:\n",
    "            return root\n",
    "        elif curr.key > x:\n",
    "            if curr.left != None:\n",
    "                curr = curr.left\n",
    "        else:\n",
    "            if curr.right != None:\n",
    "                curr = curr.right\n",
    "    if parent.key > x:\n",
    "        parent.left = Node(x)\n",
    "    else:\n",
    "        parent.right = Node(x)"
   ]
  },
  {
   "cell_type": "code",
   "execution_count": 20,
   "id": "7bd56340",
   "metadata": {},
   "outputs": [
    {
     "data": {
      "text/plain": [
       "<__main__.Node at 0x22d05684c70>"
      ]
     },
     "execution_count": 20,
     "metadata": {},
     "output_type": "execute_result"
    }
   ],
   "source": [
    "insertBST(root, 30)"
   ]
  },
  {
   "cell_type": "code",
   "execution_count": 21,
   "id": "17042808",
   "metadata": {},
   "outputs": [
    {
     "data": {
      "text/plain": [
       "5"
      ]
     },
     "execution_count": 21,
     "metadata": {},
     "output_type": "execute_result"
    }
   ],
   "source": [
    "root.left.key"
   ]
  },
  {
   "cell_type": "code",
   "execution_count": 22,
   "id": "82a7698e",
   "metadata": {},
   "outputs": [
    {
     "data": {
      "text/plain": [
       "20"
      ]
     },
     "execution_count": 22,
     "metadata": {},
     "output_type": "execute_result"
    }
   ],
   "source": [
    "root.right.key"
   ]
  },
  {
   "cell_type": "code",
   "execution_count": 23,
   "id": "3a4de392",
   "metadata": {},
   "outputs": [
    {
     "data": {
      "text/plain": [
       "30"
      ]
     },
     "execution_count": 23,
     "metadata": {},
     "output_type": "execute_result"
    }
   ],
   "source": [
    "root.right.right.key"
   ]
  },
  {
   "cell_type": "markdown",
   "id": "b10c1edb",
   "metadata": {},
   "source": [
    "#### Deletion in Binary Search Tree"
   ]
  },
  {
   "cell_type": "code",
   "execution_count": 24,
   "id": "9a0743e9",
   "metadata": {},
   "outputs": [],
   "source": [
    "def getSucc(curr, key):\n",
    "    while curr.left != None:\n",
    "        curr = curr.left\n",
    "    return curr.key\n",
    "\n",
    "def DeleteBST(root, key):\n",
    "    if root == None:\n",
    "        return \n",
    "    if root.key > key:\n",
    "        root.left = DeleteBST(root.left, key)\n",
    "        if root.left == None and root.right == None:\n",
    "            return None\n",
    "    elif root.key < key:\n",
    "        root.right = DeleteBST(root.right, key)\n",
    "    else:\n",
    "        if root.left == None:\n",
    "            return root.right\n",
    "        elif root.right == None:\n",
    "            return root.left\n",
    "        else:\n",
    "            succ = getSucc(root.right, key) # inorder successor to replace the deleted root node\n",
    "            root.key = succ\n",
    "            root.right = DeleteBST(root.right, key)\n",
    "    return root\n",
    "        "
   ]
  },
  {
   "cell_type": "markdown",
   "id": "2471e8ca",
   "metadata": {},
   "source": [
    "        10\n",
    "       /  \\\n",
    "      5   20\n",
    "          / \\\n",
    "         15 30"
   ]
  },
  {
   "cell_type": "code",
   "execution_count": 25,
   "id": "050185a2",
   "metadata": {},
   "outputs": [],
   "source": [
    "root = Node(10)\n",
    "root.left = Node(5)\n",
    "root.right = Node(20)\n",
    "root.right.left = Node(15)\n",
    "root.right.right = Node(30)"
   ]
  },
  {
   "cell_type": "code",
   "execution_count": 26,
   "id": "ca40c821",
   "metadata": {},
   "outputs": [
    {
     "data": {
      "text/plain": [
       "<__main__.Node at 0x22d05696830>"
      ]
     },
     "execution_count": 26,
     "metadata": {},
     "output_type": "execute_result"
    }
   ],
   "source": [
    "DeleteBST(root, 20)"
   ]
  },
  {
   "cell_type": "code",
   "execution_count": 27,
   "id": "173e9e8e",
   "metadata": {},
   "outputs": [
    {
     "data": {
      "text/plain": [
       "5"
      ]
     },
     "execution_count": 27,
     "metadata": {},
     "output_type": "execute_result"
    }
   ],
   "source": [
    "root.left.key"
   ]
  },
  {
   "cell_type": "code",
   "execution_count": 28,
   "id": "7174b111",
   "metadata": {},
   "outputs": [
    {
     "data": {
      "text/plain": [
       "30"
      ]
     },
     "execution_count": 28,
     "metadata": {},
     "output_type": "execute_result"
    }
   ],
   "source": [
    "root.right.key"
   ]
  },
  {
   "cell_type": "code",
   "execution_count": 29,
   "id": "613792d2",
   "metadata": {},
   "outputs": [
    {
     "data": {
      "text/plain": [
       "15"
      ]
     },
     "execution_count": 29,
     "metadata": {},
     "output_type": "execute_result"
    }
   ],
   "source": [
    "root.right.left.key"
   ]
  },
  {
   "cell_type": "code",
   "execution_count": 30,
   "id": "a1ed74e2",
   "metadata": {},
   "outputs": [],
   "source": [
    "root = Node(10)\n",
    "root.left = Node(5)\n",
    "root.left.left = Node(2)\n",
    "root.right = Node(20)\n",
    "root.right.left = Node(18)\n",
    "root.right.right = Node(100)"
   ]
  },
  {
   "cell_type": "markdown",
   "id": "8a413c64",
   "metadata": {},
   "source": [
    "        10\n",
    "       /  \\\n",
    "      5   20\n",
    "     /   /  \\\n",
    "    2   18  100"
   ]
  },
  {
   "cell_type": "code",
   "execution_count": 31,
   "id": "79d0c80b",
   "metadata": {},
   "outputs": [
    {
     "data": {
      "text/plain": [
       "<__main__.Node at 0x22d05697a90>"
      ]
     },
     "execution_count": 31,
     "metadata": {},
     "output_type": "execute_result"
    }
   ],
   "source": [
    "DeleteBST(root, 10)"
   ]
  },
  {
   "cell_type": "code",
   "execution_count": 32,
   "id": "e2a7930b",
   "metadata": {},
   "outputs": [
    {
     "data": {
      "text/plain": [
       "18"
      ]
     },
     "execution_count": 32,
     "metadata": {},
     "output_type": "execute_result"
    }
   ],
   "source": [
    "root.key"
   ]
  },
  {
   "cell_type": "code",
   "execution_count": 33,
   "id": "335502b6",
   "metadata": {},
   "outputs": [
    {
     "data": {
      "text/plain": [
       "5"
      ]
     },
     "execution_count": 33,
     "metadata": {},
     "output_type": "execute_result"
    }
   ],
   "source": [
    "root.left.key"
   ]
  },
  {
   "cell_type": "code",
   "execution_count": 34,
   "id": "473fb8e5",
   "metadata": {},
   "outputs": [
    {
     "data": {
      "text/plain": [
       "20"
      ]
     },
     "execution_count": 34,
     "metadata": {},
     "output_type": "execute_result"
    }
   ],
   "source": [
    "root.right.key"
   ]
  },
  {
   "cell_type": "code",
   "execution_count": 35,
   "id": "067db7dc",
   "metadata": {},
   "outputs": [
    {
     "data": {
      "text/plain": [
       "\"\\nAttributeError                            Traceback (most recent call last)\\nCell In[353], line 2\\n      1 # it will throw error because the node is deleted we have selected as the inorder successor\\n----> 2 root.right.left.key\\n\\nAttributeError: 'NoneType' object has no attribute 'key'\\n\""
      ]
     },
     "execution_count": 35,
     "metadata": {},
     "output_type": "execute_result"
    }
   ],
   "source": [
    "#it will throw error because the node is deleted we have selected as the inorder successor\n",
    "#root.right.left.key \n",
    "'''\n",
    "AttributeError                            Traceback (most recent call last)\n",
    "Cell In[353], line 2\n",
    "      1 # it will throw error because the node is deleted we have selected as the inorder successor\n",
    "----> 2 root.right.left.key\n",
    "\n",
    "AttributeError: 'NoneType' object has no attribute 'key'\n",
    "'''"
   ]
  }
 ],
 "metadata": {
  "kernelspec": {
   "display_name": "Python 3 (ipykernel)",
   "language": "python",
   "name": "python3"
  },
  "language_info": {
   "codemirror_mode": {
    "name": "ipython",
    "version": 3
   },
   "file_extension": ".py",
   "mimetype": "text/x-python",
   "name": "python",
   "nbconvert_exporter": "python",
   "pygments_lexer": "ipython3",
   "version": "3.10.9"
  }
 },
 "nbformat": 4,
 "nbformat_minor": 5
}

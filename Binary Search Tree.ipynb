{
 "cells": [
  {
   "cell_type": "markdown",
   "id": "ac837aa3",
   "metadata": {},
   "source": [
    "# Binary Search Tree"
   ]
  },
  {
   "cell_type": "markdown",
   "id": "ed486267",
   "metadata": {},
   "source": [
    "| Operations | Array(Unsorted) | Array (Sorted) | LinkedList | BST(Balanced) | Hash Table |\n",
    "| ------     | ------          | -------------- | ---------- | ------------- | ---------- |\n",
    "| Search | O(n) | O(log n) | O(n) | O(log n) | O(1)"
   ]
  },
  {
   "cell_type": "code",
   "execution_count": null,
   "id": "b8669a99",
   "metadata": {},
   "outputs": [],
   "source": []
  }
 ],
 "metadata": {
  "kernelspec": {
   "display_name": "Python 3 (ipykernel)",
   "language": "python",
   "name": "python3"
  },
  "language_info": {
   "codemirror_mode": {
    "name": "ipython",
    "version": 3
   },
   "file_extension": ".py",
   "mimetype": "text/x-python",
   "name": "python",
   "nbconvert_exporter": "python",
   "pygments_lexer": "ipython3",
   "version": "3.10.8"
  }
 },
 "nbformat": 4,
 "nbformat_minor": 5
}

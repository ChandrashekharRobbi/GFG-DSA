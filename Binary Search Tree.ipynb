{
 "cells": [
  {
   "cell_type": "code",
   "execution_count": 235,
   "id": "e9ac36fe",
   "metadata": {},
   "outputs": [],
   "source": [
    "from imp_personal import MyFunction\n",
    "z = MyFunction()"
   ]
  },
  {
   "cell_type": "markdown",
   "id": "bd249f72",
   "metadata": {},
   "source": [
    "# Binary Search Tree \n",
    "\n",
    "Time complexity as compared to other data structures\n",
    "\n",
    "| Operations | Array(Unsorted) | Array (Sorted) | LinkedList | BST(Balanced) | Hash Table |\n",
    "| ------     | ------          | -------------- | ---------- | ------------- | ---------- |\n",
    "| Search | O(n) | O(log n) | O(n) | O(log n) | O(1) |\n",
    "| Insert | O(1) | O(n) | O(1) | O(log n) | O(1) |\n",
    "| Delete | O(n) | O(n) | O(n) | O(log n) | O(1) |\n",
    "| Find Closest | O(n) | O(log n) | O(n) | O(log n) | O(n) |\n",
    "| Sorted Traversal | O(nlogn) | O(n) | O(n logn) | O(n) | O(nlogn) |\n"
   ]
  },
  {
   "cell_type": "markdown",
   "id": "7c6777ba",
   "metadata": {},
   "source": [
    "# Binary Search Tree\n",
    "\n",
    "* For every node data in left side are smaller and data in right side are greater\n",
    "* All data are typically considered as distinct\n",
    "* Like LinkedList it is a linked data structure\n",
    "\n",
    "\n",
    "             50\n",
    "           /    \\\n",
    "          30    70\n",
    "         /  \\   /  \\\n",
    "        10  40 60  80\n",
    "        \n",
    "        \n",
    "**Problems**\n",
    "\n",
    "1. [Search Element in Binary Search Tree](#Search-Element-in-Binary-Search-Tree)\n",
    "1. [Insert Elements in Binary Search Tree](#Insert-Elements-in-Binary-Search-Tree)"
   ]
  },
  {
   "cell_type": "code",
   "execution_count": 236,
   "id": "5055c2f1",
   "metadata": {},
   "outputs": [],
   "source": [
    "class Node:\n",
    "    def __init__(self,key):\n",
    "        self.key = key\n",
    "        self.left = None\n",
    "        self.right = None"
   ]
  },
  {
   "cell_type": "code",
   "execution_count": 237,
   "id": "4b274329",
   "metadata": {},
   "outputs": [],
   "source": [
    "root = Node(50)\n",
    "root.left = Node(30)\n",
    "root.right = Node(70)\n",
    "root.left.left = Node(10)\n",
    "root.left.right = Node(40)\n",
    "root.right.left = Node(60)\n",
    "root.right.right = Node(80)"
   ]
  },
  {
   "cell_type": "markdown",
   "id": "9cb96dc8",
   "metadata": {},
   "source": [
    "#### Search Element in Binary Search Tree"
   ]
  },
  {
   "cell_type": "markdown",
   "id": "36af1fa3-cd29-4d21-8c0f-19abbd6070ba",
   "metadata": {},
   "source": [
    "###### Recursive Solution"
   ]
  },
  {
   "cell_type": "code",
   "execution_count": 238,
   "id": "4984d5f3",
   "metadata": {},
   "outputs": [],
   "source": [
    "def searchBST(root,x):\n",
    "    if root is None:\n",
    "        return False\n",
    "    elif root.key == x:\n",
    "        return x\n",
    "    elif root.key > x:\n",
    "        return searchBST(root.left, x)\n",
    "    else:\n",
    "        return searchBST(root.right, x)\n",
    "        "
   ]
  },
  {
   "cell_type": "code",
   "execution_count": 239,
   "id": "b082ba4e",
   "metadata": {},
   "outputs": [
    {
     "name": "stdout",
     "output_type": "stream",
     "text": [
      "70\n"
     ]
    }
   ],
   "source": [
    "print(searchBST(root, 70))"
   ]
  },
  {
   "cell_type": "markdown",
   "id": "52aca180-f58f-4932-a2ed-09ae7b968b05",
   "metadata": {},
   "source": [
    "###### Iterative Solution"
   ]
  },
  {
   "cell_type": "code",
   "execution_count": 240,
   "id": "76a82ae9-3909-42e1-8904-4cd97e35cb4b",
   "metadata": {},
   "outputs": [],
   "source": [
    "def searchBST(root, key):\n",
    "    while root != None:\n",
    "        if root.key == key:\n",
    "            return root.key\n",
    "        elif root.key > key:\n",
    "            root = root.left\n",
    "        else:\n",
    "            root = root.right\n",
    "    return -1"
   ]
  },
  {
   "cell_type": "code",
   "execution_count": 241,
   "id": "e44a19d5-7a8d-4b5e-b26f-15cf225ad3bb",
   "metadata": {},
   "outputs": [
    {
     "data": {
      "text/plain": [
       "70"
      ]
     },
     "execution_count": 241,
     "metadata": {},
     "output_type": "execute_result"
    }
   ],
   "source": [
    "searchBST(root, 70)"
   ]
  },
  {
   "cell_type": "markdown",
   "id": "926ca2a0",
   "metadata": {},
   "source": [
    "#### Insert Elements in Binary Search Tree"
   ]
  },
  {
   "cell_type": "markdown",
   "id": "6cbe7747",
   "metadata": {},
   "source": [
    "The root taken as\n",
    "\n",
    "        10\n",
    "       /  \\\n",
    "      5   20\n",
    "          / \\\n",
    "         15 30\n",
    "\n",
    "Let's see the flow of procedure\n",
    "\n",
    "```python\n",
    "    insertBST(10, 7)\n",
    "    The root is 10\n",
    "        - insertBST(5, 7)\n",
    "        The root is 5\n",
    "            - insertBST(None, 7)\n",
    "            - return Node(7)\n",
    "        link that node to root.right as the root is 5 now so right of 5 node we will insert 7\n",
    "```"
   ]
  },
  {
   "cell_type": "markdown",
   "id": "1ac3bc03",
   "metadata": {},
   "source": [
    "###### Recursive Solution"
   ]
  },
  {
   "cell_type": "code",
   "execution_count": 242,
   "id": "5f4a8677",
   "metadata": {},
   "outputs": [],
   "source": [
    "root = Node(10)\n",
    "root.left = Node(5)\n",
    "root.right = Node(20)\n",
    "root.right.left = Node(15)\n",
    "root.right.right = Node(30)"
   ]
  },
  {
   "cell_type": "code",
   "execution_count": 243,
   "id": "94582e2e",
   "metadata": {},
   "outputs": [],
   "source": [
    "def insertBST(root, key):\n",
    "    if root == None:\n",
    "        return Node(key)\n",
    "    elif root.key == key:\n",
    "        return root\n",
    "    elif root.key > key:\n",
    "        if insertBST(root.left, key) != None:\n",
    "            root.left = insertBST(root.left , key)\n",
    "    else:\n",
    "        if insertBST(root.right, key) != None:\n",
    "            root.right = insertBST(root.right, key)"
   ]
  },
  {
   "cell_type": "code",
   "execution_count": 244,
   "id": "0f4ac608",
   "metadata": {},
   "outputs": [],
   "source": [
    "insertBST(root, 7)"
   ]
  },
  {
   "cell_type": "code",
   "execution_count": 245,
   "id": "ab5e58c6",
   "metadata": {},
   "outputs": [
    {
     "data": {
      "text/plain": [
       "7"
      ]
     },
     "execution_count": 245,
     "metadata": {},
     "output_type": "execute_result"
    }
   ],
   "source": [
    "root.left.right.key"
   ]
  },
  {
   "cell_type": "markdown",
   "id": "eab284e2",
   "metadata": {},
   "source": [
    "###### Iterative Solution"
   ]
  },
  {
   "cell_type": "code",
   "execution_count": 246,
   "id": "4315971b",
   "metadata": {},
   "outputs": [],
   "source": [
    "root = Node(10)\n",
    "root.left = Node(5)\n",
    "root.right = Node(20)\n",
    "root.right.left = Node(15)\n",
    "root.right.right = Node(30)"
   ]
  },
  {
   "cell_type": "code",
   "execution_count": 247,
   "id": "e3e93743",
   "metadata": {},
   "outputs": [],
   "source": [
    "def insertBST(root, x):\n",
    "    if root == None:\n",
    "        return Node(key)\n",
    "    parent = None\n",
    "    curr = root\n",
    "    while curr != None:\n",
    "        parent = curr\n",
    "        if curr.key == x:\n",
    "            return root\n",
    "        elif curr.key > x:\n",
    "            if curr.left != None:\n",
    "                curr = curr.left\n",
    "        else:\n",
    "            if curr.right != None:\n",
    "                curr = curr.right\n",
    "    if parent.key > x:\n",
    "        parent.left = Node(x)\n",
    "    else:\n",
    "        parent.right = Node(x)"
   ]
  },
  {
   "cell_type": "code",
   "execution_count": 248,
   "id": "7bd56340",
   "metadata": {},
   "outputs": [
    {
     "data": {
      "text/plain": [
       "<__main__.Node at 0x7f98ca835120>"
      ]
     },
     "execution_count": 248,
     "metadata": {},
     "output_type": "execute_result"
    }
   ],
   "source": [
    "insertBST(root, 30)"
   ]
  },
  {
   "cell_type": "code",
   "execution_count": 249,
   "id": "17042808",
   "metadata": {},
   "outputs": [
    {
     "data": {
      "text/plain": [
       "5"
      ]
     },
     "execution_count": 249,
     "metadata": {},
     "output_type": "execute_result"
    }
   ],
   "source": [
    "root.left.key"
   ]
  },
  {
   "cell_type": "code",
   "execution_count": 250,
   "id": "b24c3efe",
   "metadata": {},
   "outputs": [
    {
     "data": {
      "text/plain": [
       "20"
      ]
     },
     "execution_count": 250,
     "metadata": {},
     "output_type": "execute_result"
    }
   ],
   "source": [
    "root.right.key"
   ]
  },
  {
   "cell_type": "code",
   "execution_count": 251,
   "id": "ed013f05",
   "metadata": {},
   "outputs": [
    {
     "data": {
      "text/plain": [
       "30"
      ]
     },
     "execution_count": 251,
     "metadata": {},
     "output_type": "execute_result"
    }
   ],
   "source": [
    "root.right.right.key"
   ]
  },
  {
   "cell_type": "code",
   "execution_count": 252,
   "id": "d34016d3",
   "metadata": {},
   "outputs": [
    {
     "name": "stdout",
     "output_type": "stream",
     "text": [
      "Successfully added to the comment list\n"
     ]
    }
   ],
   "source": [
    "z.new(\"Deletion in Binary Search Tree\")"
   ]
  },
  {
   "cell_type": "markdown",
   "id": "8da157d5",
   "metadata": {},
   "source": [
    "#### Deletion in Binary Search Tree"
   ]
  },
  {
   "cell_type": "code",
   "execution_count": 263,
   "id": "b5c8fde8",
   "metadata": {},
   "outputs": [],
   "source": [
    "root = Node(10)\n",
    "root.left = Node(5)\n",
    "root.right = Node(20)\n",
    "root.right.left = Node(15)\n",
    "root.right.right = Node(30)"
   ]
  },
  {
   "cell_type": "code",
   "execution_count": 269,
   "id": "67473f7b",
   "metadata": {},
   "outputs": [],
   "source": [
    "def getSucc(curr, key):\n",
    "    while curr.left != None:\n",
    "        print(curr.key)\n",
    "        curr = curr.left\n",
    "    return curr.key\n",
    "\n",
    "def DeleteBST(root, x):\n",
    "    if root == None:\n",
    "        return \n",
    "    if root.key > x:\n",
    "        root.left = DeleteBST(root.left, x)\n",
    "    elif root.key < x:\n",
    "        root.right = DeleteBST(root.right, x)\n",
    "    else:\n",
    "        if root.left == None:\n",
    "            return root.right\n",
    "        elif root.right == None:\n",
    "            return root.left\n",
    "        else:\n",
    "            succ = getSucc(root.right, x)\n",
    "            root.key = succ\n",
    "            root.right = DeleteBST(root.right, x)\n",
    "    return root\n",
    "        "
   ]
  },
  {
   "cell_type": "code",
   "execution_count": null,
   "id": "98990449",
   "metadata": {},
   "outputs": [],
   "source": [
    "root = Node(10)\n",
    "root.left = Node(5)\n",
    "root.right = Node(20)\n",
    "root.right.left = Node(15)\n",
    "root.right.right = Node(30)"
   ]
  },
  {
   "cell_type": "code",
   "execution_count": 270,
   "id": "8aac12ea",
   "metadata": {},
   "outputs": [
    {
     "data": {
      "text/plain": [
       "<__main__.Node at 0x7f98ca5307f0>"
      ]
     },
     "execution_count": 270,
     "metadata": {},
     "output_type": "execute_result"
    }
   ],
   "source": [
    "DeleteBST(root, 20)"
   ]
  },
  {
   "cell_type": "code",
   "execution_count": 271,
   "id": "2ef8affc",
   "metadata": {},
   "outputs": [
    {
     "data": {
      "text/plain": [
       "5"
      ]
     },
     "execution_count": 271,
     "metadata": {},
     "output_type": "execute_result"
    }
   ],
   "source": [
    "root.left.key"
   ]
  },
  {
   "cell_type": "code",
   "execution_count": 272,
   "id": "b64aa223",
   "metadata": {},
   "outputs": [
    {
     "data": {
      "text/plain": [
       "30"
      ]
     },
     "execution_count": 272,
     "metadata": {},
     "output_type": "execute_result"
    }
   ],
   "source": [
    "root.right.key"
   ]
  },
  {
   "cell_type": "code",
   "execution_count": null,
   "id": "f1bed7e4",
   "metadata": {},
   "outputs": [],
   "source": []
  }
 ],
 "metadata": {
  "kernelspec": {
   "display_name": "Python 3 (ipykernel)",
   "language": "python",
   "name": "python3"
  },
  "language_info": {
   "codemirror_mode": {
    "name": "ipython",
    "version": 3
   },
   "file_extension": ".py",
   "mimetype": "text/x-python",
   "name": "python",
   "nbconvert_exporter": "python",
   "pygments_lexer": "ipython3",
   "version": "3.10.8"
  }
 },
 "nbformat": 4,
 "nbformat_minor": 5
}

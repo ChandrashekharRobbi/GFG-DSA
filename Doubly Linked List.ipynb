{
 "cells": [
  {
   "cell_type": "code",
   "execution_count": 3,
   "id": "075ecc7e",
   "metadata": {},
   "outputs": [],
   "source": [
    "from imp_personal import *\n",
    "c = MyFunction()"
   ]
  },
  {
   "cell_type": "markdown",
   "id": "30f2eac5",
   "metadata": {},
   "source": [
    "# Doubly Linked List"
   ]
  },
  {
   "cell_type": "code",
   "execution_count": null,
   "id": "1f3f8b58",
   "metadata": {},
   "outputs": [],
   "source": [
    "c.new"
   ]
  },
  {
   "cell_type": "code",
   "execution_count": 8,
   "id": "e94ee613",
   "metadata": {},
   "outputs": [],
   "source": [
    "class Node:\n",
    "    def __init__(self, data):\n",
    "        self.data = data\n",
    "        self.prev = None\n",
    "        self.next = None"
   ]
  },
  {
   "cell_type": "code",
   "execution_count": 9,
   "id": "9d457f4f",
   "metadata": {},
   "outputs": [],
   "source": [
    "head = Node(18)"
   ]
  },
  {
   "cell_type": "code",
   "execution_count": 10,
   "id": "8a4d2a4d",
   "metadata": {},
   "outputs": [],
   "source": [
    "temp1 = Node(20)"
   ]
  },
  {
   "cell_type": "code",
   "execution_count": 11,
   "id": "a72eb006",
   "metadata": {},
   "outputs": [],
   "source": [
    "temp2 = Node(25)"
   ]
  },
  {
   "cell_type": "code",
   "execution_count": 12,
   "id": "58715a38",
   "metadata": {},
   "outputs": [],
   "source": [
    "head.next = temp1"
   ]
  },
  {
   "cell_type": "code",
   "execution_count": 13,
   "id": "7b1dc330",
   "metadata": {},
   "outputs": [],
   "source": [
    "temp1.prev = head"
   ]
  },
  {
   "cell_type": "code",
   "execution_count": 14,
   "id": "166be6ea",
   "metadata": {},
   "outputs": [],
   "source": [
    "temp1.next = temp2"
   ]
  },
  {
   "cell_type": "code",
   "execution_count": 15,
   "id": "fbf6bea3",
   "metadata": {},
   "outputs": [],
   "source": [
    "temp2.prev = temp1"
   ]
  },
  {
   "cell_type": "code",
   "execution_count": null,
   "id": "8b7ab833",
   "metadata": {},
   "outputs": [],
   "source": []
  }
 ],
 "metadata": {
  "kernelspec": {
   "display_name": "Python 3 (ipykernel)",
   "language": "python",
   "name": "python3"
  },
  "language_info": {
   "codemirror_mode": {
    "name": "ipython",
    "version": 3
   },
   "file_extension": ".py",
   "mimetype": "text/x-python",
   "name": "python",
   "nbconvert_exporter": "python",
   "pygments_lexer": "ipython3",
   "version": "3.10.6"
  }
 },
 "nbformat": 4,
 "nbformat_minor": 5
}

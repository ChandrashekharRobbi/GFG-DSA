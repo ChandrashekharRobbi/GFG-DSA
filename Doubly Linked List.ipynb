{
 "cells": [
  {
   "cell_type": "code",
   "execution_count": 2,
   "id": "5f0cc1af",
   "metadata": {},
   "outputs": [],
   "source": [
    "from imp_personal import *\n",
    "c = MyFunction()"
   ]
  },
  {
   "cell_type": "markdown",
   "id": "712e0edb",
   "metadata": {},
   "source": [
    "# Doubly Linked List\n",
    "\n",
    "**Problems**\n",
    "\n",
    "1. [Create Doubly Linked List](#Create-Doubly-Linked-List)\n",
    "7. [Iterative method for creating Doubly Linked List](#Iterative-method-for-creating-Doubly-Linked-List)\n",
    "7. [Insert at the Beginning ](#Insert-at-the-Beginning-)\n",
    "7. [Print the contents of Doubly Linked List](#Print-the-contents-of-Doubly-Linked-List)\n",
    "7. [Insert at the End ](#Insert-at-the-End-)\n",
    "7. [Delete Head of A Doubly Linked List](#Delete-Head-of-A-Doubly-Linked-List)\n",
    "7. [Delte Last Node](#Delte-Last-Node)\n",
    "7. [Reverse a Doubly Linked List](#Reverse-a-Doubly-Linked-List)"
   ]
  },
  {
   "cell_type": "markdown",
   "id": "71849a3b",
   "metadata": {},
   "source": [
    "#### Create Doubly Linked List"
   ]
  },
  {
   "cell_type": "code",
   "execution_count": 4,
   "id": "bad2f687",
   "metadata": {},
   "outputs": [],
   "source": [
    "class Node:\n",
    "    def __init__(self, key):\n",
    "        self.key = key\n",
    "        self.prev = None\n",
    "        self.next = None"
   ]
  },
  {
   "cell_type": "code",
   "execution_count": 5,
   "id": "f1bedb21",
   "metadata": {},
   "outputs": [],
   "source": [
    "head = Node(18)"
   ]
  },
  {
   "cell_type": "code",
   "execution_count": 6,
   "id": "0623a7af",
   "metadata": {},
   "outputs": [],
   "source": [
    "temp1 = Node(20)"
   ]
  },
  {
   "cell_type": "code",
   "execution_count": 7,
   "id": "59711033",
   "metadata": {},
   "outputs": [],
   "source": [
    "temp2 = Node(25)"
   ]
  },
  {
   "cell_type": "code",
   "execution_count": 8,
   "id": "3a717b72",
   "metadata": {},
   "outputs": [],
   "source": [
    "head.next = temp1"
   ]
  },
  {
   "cell_type": "code",
   "execution_count": 9,
   "id": "3bbfa125",
   "metadata": {},
   "outputs": [],
   "source": [
    "temp1.prev = head"
   ]
  },
  {
   "cell_type": "code",
   "execution_count": 10,
   "id": "6e7956d8",
   "metadata": {},
   "outputs": [],
   "source": [
    "temp1.next = temp2"
   ]
  },
  {
   "cell_type": "code",
   "execution_count": 11,
   "id": "d4d71d1a",
   "metadata": {},
   "outputs": [],
   "source": [
    "temp2.prev = temp1"
   ]
  },
  {
   "cell_type": "markdown",
   "id": "31e69135",
   "metadata": {},
   "source": [
    "#### Iterative method for creating Doubly Linked List"
   ]
  },
  {
   "cell_type": "code",
   "execution_count": 15,
   "id": "03a696aa",
   "metadata": {},
   "outputs": [],
   "source": [
    "def createNode(arr):\n",
    "    n = len(arr)\n",
    "    name = Node(arr[0])\n",
    "    curr = name\n",
    "    for i in range(1, n):\n",
    "        curr.next = Node(arr[i])\n",
    "        curr.next.prev = curr\n",
    "        curr = curr.next\n",
    "    printList(name)\n",
    "    return name"
   ]
  },
  {
   "cell_type": "markdown",
   "id": "e4f4f332",
   "metadata": {},
   "source": [
    "#### Print the contents of Doubly Linked List"
   ]
  },
  {
   "cell_type": "code",
   "execution_count": 16,
   "id": "73215050",
   "metadata": {},
   "outputs": [],
   "source": [
    "def printList(head):\n",
    "    curr = head\n",
    "    while curr != None:\n",
    "        print(curr.key,end=\" \")\n",
    "        curr = curr.next"
   ]
  },
  {
   "cell_type": "markdown",
   "id": "053ebfb7",
   "metadata": {},
   "source": [
    "#### Insert at the Beginning "
   ]
  },
  {
   "cell_type": "code",
   "execution_count": 17,
   "id": "3461d1bd",
   "metadata": {},
   "outputs": [],
   "source": [
    "def insertBegin(head, key):\n",
    "    temp = Node(key)\n",
    "    if head != None:\n",
    "        head.prev = temp\n",
    "    temp.next = head\n",
    "    return temp"
   ]
  },
  {
   "cell_type": "code",
   "execution_count": 18,
   "id": "34a1524a",
   "metadata": {},
   "outputs": [],
   "source": [
    "head = None"
   ]
  },
  {
   "cell_type": "code",
   "execution_count": 19,
   "id": "0296ac78",
   "metadata": {},
   "outputs": [
    {
     "name": "stdout",
     "output_type": "stream",
     "text": [
      "20 "
     ]
    }
   ],
   "source": [
    "head = insertBegin(head, 20)\n",
    "printList(head)"
   ]
  },
  {
   "cell_type": "code",
   "execution_count": 20,
   "id": "a8f15376",
   "metadata": {},
   "outputs": [
    {
     "name": "stdout",
     "output_type": "stream",
     "text": [
      "70 20 "
     ]
    }
   ],
   "source": [
    "head = insertBegin(head,70)\n",
    "printList(head)"
   ]
  },
  {
   "cell_type": "code",
   "execution_count": 21,
   "id": "0b257891",
   "metadata": {},
   "outputs": [
    {
     "name": "stdout",
     "output_type": "stream",
     "text": [
      "100 70 20 "
     ]
    }
   ],
   "source": [
    "head = insertBegin(head,100)\n",
    "printList(head)"
   ]
  },
  {
   "cell_type": "markdown",
   "id": "89bfd245",
   "metadata": {},
   "source": [
    "#### Insert at the End "
   ]
  },
  {
   "cell_type": "code",
   "execution_count": 23,
   "id": "ceb6a726",
   "metadata": {},
   "outputs": [
    {
     "name": "stdout",
     "output_type": "stream",
     "text": [
      "5 10 15 20 25 "
     ]
    }
   ],
   "source": [
    "head = createNode([5,10,15,20,25])"
   ]
  },
  {
   "cell_type": "code",
   "execution_count": 24,
   "id": "439ebeea",
   "metadata": {},
   "outputs": [],
   "source": [
    "def insertEnd(head, data):\n",
    "    temp = Node(data)\n",
    "    if head == None:\n",
    "        return temp\n",
    "    curr = head\n",
    "    while curr.next != None:\n",
    "        curr = curr.next\n",
    "    curr.next = temp\n",
    "    temp.prev = curr\n",
    "    return head"
   ]
  },
  {
   "cell_type": "code",
   "execution_count": 25,
   "id": "d4499fd1",
   "metadata": {},
   "outputs": [],
   "source": [
    "head = None"
   ]
  },
  {
   "cell_type": "code",
   "execution_count": 26,
   "id": "26f55719",
   "metadata": {},
   "outputs": [
    {
     "name": "stdout",
     "output_type": "stream",
     "text": [
      "20 "
     ]
    }
   ],
   "source": [
    "head = insertEnd(head, 20)\n",
    "printList(head)"
   ]
  },
  {
   "cell_type": "code",
   "execution_count": 27,
   "id": "3af5802a",
   "metadata": {},
   "outputs": [
    {
     "name": "stdout",
     "output_type": "stream",
     "text": [
      "20 40 "
     ]
    }
   ],
   "source": [
    "head = insertEnd(head, 40)\n",
    "printList(head)"
   ]
  },
  {
   "cell_type": "code",
   "execution_count": 28,
   "id": "42b8cada",
   "metadata": {},
   "outputs": [
    {
     "name": "stdout",
     "output_type": "stream",
     "text": [
      "20 40 50 "
     ]
    }
   ],
   "source": [
    "head = insertEnd(head, 50)\n",
    "printList(head)"
   ]
  },
  {
   "cell_type": "markdown",
   "id": "ada067c1",
   "metadata": {},
   "source": [
    "#### Delete Head of A Doubly Linked List"
   ]
  },
  {
   "cell_type": "code",
   "execution_count": 30,
   "id": "3fc250d9",
   "metadata": {},
   "outputs": [],
   "source": [
    "def DeleteHead1(head):\n",
    "    curr = head\n",
    "    if curr == None:\n",
    "        return head\n",
    "    else:\n",
    "        return head.next"
   ]
  },
  {
   "cell_type": "code",
   "execution_count": 31,
   "id": "f6a26ceb",
   "metadata": {},
   "outputs": [],
   "source": [
    "def DeleteHead2(head):\n",
    "    if head == None:\n",
    "        return None\n",
    "    if head.next == None:\n",
    "        return None\n",
    "    else:\n",
    "        head = head.next\n",
    "        head.prev = None\n",
    "        return head"
   ]
  },
  {
   "cell_type": "code",
   "execution_count": 32,
   "id": "73478abf",
   "metadata": {},
   "outputs": [
    {
     "name": "stdout",
     "output_type": "stream",
     "text": [
      "20 40 50 "
     ]
    }
   ],
   "source": [
    "printList(head)"
   ]
  },
  {
   "cell_type": "code",
   "execution_count": 33,
   "id": "594c1353",
   "metadata": {},
   "outputs": [
    {
     "name": "stdout",
     "output_type": "stream",
     "text": [
      "40 50 "
     ]
    }
   ],
   "source": [
    "head = DeleteHead2(head)\n",
    "printList(head)"
   ]
  },
  {
   "cell_type": "code",
   "execution_count": 34,
   "id": "95da91d6",
   "metadata": {},
   "outputs": [
    {
     "name": "stdout",
     "output_type": "stream",
     "text": [
      "50 "
     ]
    }
   ],
   "source": [
    "head = DeleteHead2(head)\n",
    "printList(head)"
   ]
  },
  {
   "cell_type": "code",
   "execution_count": 35,
   "id": "fb44eb93",
   "metadata": {},
   "outputs": [],
   "source": [
    "c.makeNullArr()"
   ]
  },
  {
   "cell_type": "code",
   "execution_count": 36,
   "id": "5e3aecef",
   "metadata": {},
   "outputs": [],
   "source": [
    "c.printArr()"
   ]
  },
  {
   "cell_type": "markdown",
   "id": "508fd9c8",
   "metadata": {},
   "source": [
    "#### Delte Last Node"
   ]
  },
  {
   "cell_type": "code",
   "execution_count": 38,
   "id": "95bdd5df",
   "metadata": {},
   "outputs": [],
   "source": [
    "def DelteLastNode(head):\n",
    "    if head == None:\n",
    "        return None\n",
    "    if head.next == None:\n",
    "        return None\n",
    "    curr = head\n",
    "    while curr.next.next != None:\n",
    "        curr = curr.next\n",
    "        \n",
    "    curr.next.prev = None\n",
    "    curr.next = None\n",
    "    return head"
   ]
  },
  {
   "cell_type": "code",
   "execution_count": 39,
   "id": "982f390a",
   "metadata": {},
   "outputs": [
    {
     "name": "stdout",
     "output_type": "stream",
     "text": [
      "10 20 30 40 50 60 70 80 90 100 "
     ]
    }
   ],
   "source": [
    "head = createNode([10,20,30,40,50,60,70,80,90,100])"
   ]
  },
  {
   "cell_type": "code",
   "execution_count": 40,
   "id": "8ec6fe90",
   "metadata": {},
   "outputs": [
    {
     "name": "stdout",
     "output_type": "stream",
     "text": [
      "10 20 30 40 50 60 70 80 90 "
     ]
    }
   ],
   "source": [
    "head = DelteLastNode(head)\n",
    "printList(head)"
   ]
  },
  {
   "cell_type": "code",
   "execution_count": 41,
   "id": "c30df38d",
   "metadata": {},
   "outputs": [
    {
     "name": "stdout",
     "output_type": "stream",
     "text": [
      "10 20 30 40 50 60 70 80 "
     ]
    }
   ],
   "source": [
    "head = DelteLastNode(head)\n",
    "printList(head)"
   ]
  },
  {
   "cell_type": "code",
   "execution_count": 42,
   "id": "a3b5b5dd",
   "metadata": {},
   "outputs": [
    {
     "name": "stdout",
     "output_type": "stream",
     "text": [
      "10 20 30 40 50 60 70 "
     ]
    }
   ],
   "source": [
    "head = DelteLastNode(head)\n",
    "printList(head)"
   ]
  },
  {
   "cell_type": "code",
   "execution_count": 43,
   "id": "df91d140",
   "metadata": {},
   "outputs": [
    {
     "name": "stdout",
     "output_type": "stream",
     "text": [
      "10 20 30 40 50 60 "
     ]
    }
   ],
   "source": [
    "head = DelteLastNode(head)\n",
    "printList(head)"
   ]
  },
  {
   "cell_type": "markdown",
   "id": "53ebd4c5",
   "metadata": {},
   "source": [
    "#### Reverse a Doubly Linked List"
   ]
  },
  {
   "cell_type": "code",
   "execution_count": 45,
   "id": "67eeae74",
   "metadata": {},
   "outputs": [],
   "source": [
    "def revDoubleLL(head):\n",
    "    if head == None:\n",
    "        return None\n",
    "    if head.next == None:\n",
    "        return head\n",
    "    curr = head\n",
    "    prev = None\n",
    "    while curr != None:\n",
    "        prev = curr\n",
    "        curr.next , curr.prev = curr.prev, curr.next\n",
    "        curr = curr.prev\n",
    "    return prev"
   ]
  },
  {
   "cell_type": "code",
   "execution_count": 46,
   "id": "e871250c",
   "metadata": {},
   "outputs": [
    {
     "name": "stdout",
     "output_type": "stream",
     "text": [
      "10 20 30 40 50 60 "
     ]
    }
   ],
   "source": [
    "printList(head)"
   ]
  },
  {
   "cell_type": "code",
   "execution_count": 47,
   "id": "2137b4ef",
   "metadata": {},
   "outputs": [
    {
     "name": "stdout",
     "output_type": "stream",
     "text": [
      "60 50 40 30 20 10 "
     ]
    }
   ],
   "source": [
    "printList(revDoubleLL(head))"
   ]
  },
  {
   "cell_type": "code",
   "execution_count": 49,
   "id": "348fb6c5",
   "metadata": {},
   "outputs": [],
   "source": [
    "c.makeNullArr()"
   ]
  },
  {
   "cell_type": "code",
   "execution_count": null,
   "id": "4eb2143d",
   "metadata": {},
   "outputs": [],
   "source": []
  }
 ],
 "metadata": {
  "kernelspec": {
   "display_name": "Python 3 (ipykernel)",
   "language": "python",
   "name": "python3"
  },
  "language_info": {
   "codemirror_mode": {
    "name": "ipython",
    "version": 3
   },
   "file_extension": ".py",
   "mimetype": "text/x-python",
   "name": "python",
   "nbconvert_exporter": "python",
   "pygments_lexer": "ipython3",
   "version": "3.10.8"
  }
 },
 "nbformat": 4,
 "nbformat_minor": 5
}

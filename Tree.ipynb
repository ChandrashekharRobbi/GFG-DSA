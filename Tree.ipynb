{
 "cells": [
  {
   "cell_type": "code",
   "execution_count": 20,
   "id": "4842d6bf",
   "metadata": {},
   "outputs": [],
   "source": [
    "from imp_personal import MyFunction\n",
    "z = MyFunction()"
   ]
  },
  {
   "cell_type": "markdown",
   "id": "f4641c0c",
   "metadata": {},
   "source": [
    "# Tree\n",
    "<img src=\"https://miro.medium.com/max/1400/1*YMqkwxqb1KhEAkwymNFnbA.png\" align=\"left\" width=\"700px\"/>\n",
    "\n",
    "\n",
    "\n",
    "* Tree is a non-linear data structure\n",
    "* It stores the data in the form of Heirarchy\n",
    "* Root Node (degree = 0 )\n",
    "* Leaf Node\n",
    "* Parent Node\n",
    "* It is recursive in nature\n",
    "* It contains sub-trees\n",
    "* descendants\n",
    "* ancestors\n",
    "* degree\n",
    "* internal nodes"
   ]
  },
  {
   "cell_type": "code",
   "execution_count": 21,
   "id": "183337a3",
   "metadata": {},
   "outputs": [
    {
     "name": "stdout",
     "output_type": "stream",
     "text": [
      "Successfully added to the comment list\n"
     ]
    }
   ],
   "source": [
    "z.new(\"Binary Search Tree\")"
   ]
  },
  {
   "cell_type": "markdown",
   "id": "45c8ad77",
   "metadata": {},
   "source": [
    "## Binary Search Tree\n",
    "\n",
    "* At most it contains two childrens or we can say atmost it can have 2 degree at any node\n",
    "* If root is None then binary tree is empty"
   ]
  },
  {
   "cell_type": "markdown",
   "id": "6c443a6c",
   "metadata": {},
   "source": [
    "### Using Linked List"
   ]
  },
  {
   "cell_type": "code",
   "execution_count": 25,
   "id": "f611bcfe",
   "metadata": {},
   "outputs": [],
   "source": [
    "class Node:\n",
    "    def __init__(self,k):\n",
    "        self.left = None\n",
    "        self.right = None\n",
    "        self.key = k"
   ]
  },
  {
   "cell_type": "markdown",
   "id": "4c7788ba",
   "metadata": {},
   "source": [
    "<img src=\"https://static.javatpoint.com/ds/images/binary-tree.png\" align=\"right\" width=\"200px\" height=\"100px\"/>\n",
    "\n",
    "```python\n",
    "bt_root = Node(1)\n",
    "bt_root.left = Node(2)\n",
    "bt_root.right = Node(3)\n",
    "bt_root.left.left = Node(5)\n",
    "bt_root.left.right = Node(6)\n",
    "```"
   ]
  },
  {
   "cell_type": "code",
   "execution_count": 29,
   "id": "7519b279",
   "metadata": {},
   "outputs": [
    {
     "name": "stdout",
     "output_type": "stream",
     "text": [
      "Successfully added to the comment list\n"
     ]
    }
   ],
   "source": [
    "z.new(\"Tree Traversal\")"
   ]
  },
  {
   "cell_type": "markdown",
   "id": "60cff47a",
   "metadata": {},
   "source": [
    "### Tree Traversal\n",
    "<img src=\"https://media.geeksforgeeks.org/wp-content/cdn-uploads/Preorder-from-Inorder-and-Postorder-traversals.jpg\"/>\n",
    "\n",
    "\n",
    "\n",
    "\n",
    "1. Breadth First (Level Order)\n",
    "2. Depth First\n",
    "    * Inorder (Left Root Right)\n",
    "    * Preorder (Root Left Right)\n",
    "    * Postorder (Left Right Root)"
   ]
  },
  {
   "cell_type": "code",
   "execution_count": 31,
   "id": "66dde492",
   "metadata": {},
   "outputs": [
    {
     "name": "stdout",
     "output_type": "stream",
     "text": [
      "Successfully added to the comment list\n"
     ]
    }
   ],
   "source": [
    "z.new(\"Inorder Traversal\")"
   ]
  },
  {
   "cell_type": "markdown",
   "id": "e503d6e7",
   "metadata": {},
   "source": [
    "#### Inorder Traversal\n",
    "\n",
    "Left , Root , Right"
   ]
  },
  {
   "cell_type": "markdown",
   "id": "6cd9b74a",
   "metadata": {},
   "source": [
    "\n",
    "<img src=\"img/Tree-binary-graph-for-inorder.png\" width=\"500px\" height=\"200px\" align=\"right\"/>\n",
    "\n",
    "```python\n",
    "root = Node(10)\n",
    "root.left = Node(20)\n",
    "root.right = Node(30)\n",
    "root.right.left = Node(40)\n",
    "root.right.right = Node(50)\n",
    "```\n"
   ]
  },
  {
   "cell_type": "code",
   "execution_count": 35,
   "id": "0b735a09",
   "metadata": {},
   "outputs": [],
   "source": [
    "root = Node(10)\n",
    "root.left = Node(20)\n",
    "root.right = Node(30)\n",
    "root.right.left = Node(40)\n",
    "root.right.right = Node(50)"
   ]
  },
  {
   "cell_type": "code",
   "execution_count": 36,
   "id": "71c17eb6",
   "metadata": {},
   "outputs": [],
   "source": [
    "def inorder(root):\n",
    "    if root != None:\n",
    "        inorder(root.left)\n",
    "        print(root.key)\n",
    "        inorder(root.right)"
   ]
  },
  {
   "cell_type": "markdown",
   "id": "79b8d244",
   "metadata": {},
   "source": [
    "<img src=\"img/recursive-inorder-flow.png\" width=\"500px\" height=\"200px\" align=\"right\"/>\n",
    "\n",
    "```python\n",
    "def inorder(root):\n",
    "    if root != None:\n",
    "        inorder(root.left)\n",
    "        print(root.key)\n",
    "        inorder(root.right)\n",
    "root = Node(10)\n",
    "root.left = Node(20)\n",
    "root.right = Node(30)\n",
    "root.right.left = Node(40)\n",
    "root.right.right = Node(50)\n",
    "\n",
    "inorder(root)\n",
    "```\n",
    "**OUTPUT**\n",
    "\n",
    "```\n",
    "20\n",
    "10\n",
    "40\n",
    "30\n",
    "50\n",
    "```\n",
    "\n"
   ]
  },
  {
   "cell_type": "code",
   "execution_count": 38,
   "id": "5d9be81c",
   "metadata": {},
   "outputs": [
    {
     "name": "stdout",
     "output_type": "stream",
     "text": [
      "20\n",
      "10\n",
      "40\n",
      "30\n",
      "50\n"
     ]
    }
   ],
   "source": [
    "inorder(root)"
   ]
  },
  {
   "cell_type": "code",
   "execution_count": 43,
   "id": "e0748d20",
   "metadata": {},
   "outputs": [
    {
     "name": "stdout",
     "output_type": "stream",
     "text": [
      "Successfully added to the comment list\n"
     ]
    }
   ],
   "source": [
    "z.new(\"preorder Traversal\")"
   ]
  },
  {
   "cell_type": "markdown",
   "id": "54dba4c9",
   "metadata": {},
   "source": [
    "#### preorder Traversal\n",
    "Root Left Right"
   ]
  },
  {
   "cell_type": "code",
   "execution_count": 41,
   "id": "9e35e14f",
   "metadata": {},
   "outputs": [],
   "source": [
    "def preorder(root):\n",
    "    if root != None:\n",
    "        print(root.key)\n",
    "        preorder(root.left)\n",
    "        preorder(root.right)"
   ]
  },
  {
   "cell_type": "markdown",
   "id": "959bb1ce",
   "metadata": {},
   "source": [
    "<img src=\"img/recursive-preorder-flow.png\" width=\"500px\" height=\"200px\" align=\"right\"/>\n",
    "\n",
    "```python\n",
    "def preorder(root):\n",
    "    if root != None:\n",
    "        print(root.key)\n",
    "        preorder(root.left)\n",
    "        preorder(root.right)\n",
    "root = Node(10)\n",
    "root.left = Node(20)\n",
    "root.right = Node(30)\n",
    "root.right.left = Node(40)\n",
    "root.right.right = Node(50)\n",
    "\n",
    "preorder(root)\n",
    "```\n",
    "**OUTPUT**\n",
    "\n",
    "```\n",
    "10\n",
    "20\n",
    "30\n",
    "40\n",
    "50\n",
    "```\n",
    "\n"
   ]
  },
  {
   "cell_type": "code",
   "execution_count": 42,
   "id": "9e04bb89",
   "metadata": {},
   "outputs": [
    {
     "name": "stdout",
     "output_type": "stream",
     "text": [
      "10\n",
      "20\n",
      "30\n",
      "40\n",
      "50\n"
     ]
    }
   ],
   "source": [
    "preorder(root)"
   ]
  },
  {
   "cell_type": "code",
   "execution_count": 48,
   "id": "152ea6c6",
   "metadata": {},
   "outputs": [
    {
     "name": "stdout",
     "output_type": "stream",
     "text": [
      "Successfully added to the comment list\n"
     ]
    }
   ],
   "source": [
    "z.new(\"PostOrder Traversal\")"
   ]
  },
  {
   "cell_type": "markdown",
   "id": "c6f19f7f",
   "metadata": {},
   "source": [
    "#### Postorder Traversal"
   ]
  },
  {
   "cell_type": "code",
   "execution_count": 46,
   "id": "420100dd",
   "metadata": {},
   "outputs": [],
   "source": [
    "def postorder(root):\n",
    "    if root != None:\n",
    "        postorder(root.left)\n",
    "        postorder(root.right)\n",
    "        print(root.key)"
   ]
  },
  {
   "cell_type": "markdown",
   "id": "2ba5fd44",
   "metadata": {},
   "source": [
    "<img src=\"img/recursive-postorder-flow.png\" width=\"500px\" height=\"200px\" align=\"right\"/>\n",
    "\n",
    "```python\n",
    "def postorder(root):\n",
    "    if root != None:\n",
    "        postorder(root.left)\n",
    "        postorder(root.right)\n",
    "        print(root.key)\n",
    "root = Node(10)\n",
    "root.left = Node(20)\n",
    "root.right = Node(30)\n",
    "root.right.left = Node(40)\n",
    "root.right.right = Node(50)\n",
    "\n",
    "postorder(root)\n",
    "```\n",
    "**OUTPUT**\n",
    "\n",
    "```\n",
    "20\n",
    "40\n",
    "50\n",
    "30\n",
    "10\n",
    "```\n",
    "\n"
   ]
  },
  {
   "cell_type": "code",
   "execution_count": 47,
   "id": "32eb0a4d",
   "metadata": {},
   "outputs": [
    {
     "name": "stdout",
     "output_type": "stream",
     "text": [
      "20\n",
      "40\n",
      "50\n",
      "30\n",
      "10\n"
     ]
    }
   ],
   "source": [
    "postorder(root)"
   ]
  },
  {
   "cell_type": "code",
   "execution_count": 50,
   "id": "29252625",
   "metadata": {},
   "outputs": [
    {
     "name": "stdout",
     "output_type": "stream",
     "text": [
      "Successfully added to the comment list\n"
     ]
    }
   ],
   "source": [
    "z.new(\"Height of Binary Tree\")"
   ]
  },
  {
   "cell_type": "markdown",
   "id": "6572df55",
   "metadata": {},
   "source": [
    "#### Height of Binary Tree\n",
    "\n",
    "It can be solved using two convention\n",
    "1. No of nodes from root node to leaf node\n",
    "2. maximum number of edges from root to leaf node"
   ]
  },
  {
   "cell_type": "code",
   "execution_count": 51,
   "id": "fe6d5108",
   "metadata": {},
   "outputs": [],
   "source": [
    "def height(root):\n",
    "    if root == None:\n",
    "        return 0\n",
    "    else:\n",
    "        lh = height(root.left)\n",
    "        rh = height(root.right)\n",
    "        return max(lh,rh) + 1"
   ]
  },
  {
   "cell_type": "markdown",
   "id": "5bf4d3d3",
   "metadata": {},
   "source": [
    "<img src=\"img/recursive-height-flow.png\" width=\"500px\" height=\"200px\" align=\"right\"/>\n",
    "\n",
    "```python\n",
    "def height(root):\n",
    "    if root == None:\n",
    "        return 0\n",
    "    else:\n",
    "        lh = height(root.left)\n",
    "        rh = height(root.right)\n",
    "        return max(lh,rh) + 1\n",
    "root = Node(10)\n",
    "root.left = Node(20)\n",
    "root.right = Node(30)\n",
    "root.right.left = Node(40)\n",
    "root.right.right = Node(50)\n",
    "\n",
    "height(root)\n",
    "```\n",
    "**OUTPUT**\n",
    "\n",
    "```\n",
    "3\n",
    "```\n",
    "\n"
   ]
  },
  {
   "cell_type": "code",
   "execution_count": 52,
   "id": "81e232b9",
   "metadata": {},
   "outputs": [
    {
     "data": {
      "text/plain": [
       "3"
      ]
     },
     "execution_count": 52,
     "metadata": {},
     "output_type": "execute_result"
    }
   ],
   "source": [
    "height(root)"
   ]
  },
  {
   "cell_type": "code",
   "execution_count": null,
   "id": "1f943e61",
   "metadata": {},
   "outputs": [],
   "source": []
  }
 ],
 "metadata": {
  "kernelspec": {
   "display_name": "Python 3 (ipykernel)",
   "language": "python",
   "name": "python3"
  },
  "language_info": {
   "codemirror_mode": {
    "name": "ipython",
    "version": 3
   },
   "file_extension": ".py",
   "mimetype": "text/x-python",
   "name": "python",
   "nbconvert_exporter": "python",
   "pygments_lexer": "ipython3",
   "version": "3.10.9"
  }
 },
 "nbformat": 4,
 "nbformat_minor": 5
}

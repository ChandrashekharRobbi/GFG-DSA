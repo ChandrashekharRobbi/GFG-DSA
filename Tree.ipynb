{
 "cells": [
  {
   "cell_type": "markdown",
   "id": "587a35d7-dadf-48e6-9c28-49cb2d284504",
   "metadata": {},
   "source": [
    "# Tree\n",
    "\n",
    "\n",
    "* Tree is a non-linear data structure\n",
    "* It stores the data in the form of Heirarchy\n",
    "* Root Node (degree = 0 )\n",
    "* Leaf Node\n",
    "* Parent Node\n",
    "* It is recursive in nature\n",
    "* It contains sub-trees\n",
    "* descendants\n",
    "* ancestors\n",
    "* degree\n",
    "* internal nodes\n",
    "\n",
    "**Problems**\n",
    "\n",
    "Make the below links workable??\n",
    "[Click Me](https://nbviewer.org/github/ChandrashekharRobbi/GFG-DSA/blob/main/Tree.ipynb?flush_cache=true)\n",
    "\n",
    "1. [Binary Search Tree](#Binary-Search-Tree)\n",
    "7. [Tree Traversal](#Tree-Traversal)\n",
    "7. [Inorder Traversal](#Inorder-Traversal)\n",
    "7. [preorder Traversal](#preorder-Traversal)\n",
    "7. [PostOrder Traversal](#PostOrder-Traversal)\n",
    "7. [Height of Binary Tree](#Height-of-Binary-Tree)\n",
    "1. [Print the nodes at distance K](#Print-the-nodes-at-distance-K)\n",
    "1. [Level Order Traversal](#Level-Order-Traversal)\n",
    "1. [Size of Binary Tree](#Size-of-Binary-Tree)\n",
    "1. [Maximum in Binary Tree](#Maximum-in-Binary-Tree)\n",
    "1. [Determine if Two Trees are identical](#Determine-if-Two-Trees-are-identical)\n",
    "1. [Check for Balanced Tree](#Check-for-Balanced-Tree)\n",
    "1. [Level Order Traversal print in same way which is traversed ](#Level-Order-Traversal-print-in-same-way-which-is-traversed-)"
   ]
  },
  {
   "cell_type": "code",
   "execution_count": 1,
   "id": "bb1c57ed",
   "metadata": {},
   "outputs": [
    {
     "name": "stdout",
     "output_type": "stream",
     "text": [
      "Note that after executing new function your next cell will automatically converted to markdown cell :)\n"
     ]
    }
   ],
   "source": [
    "%run imp_personal.py\n",
    "z = MyFunction()"
   ]
  },
  {
   "cell_type": "markdown",
   "id": "f9444519",
   "metadata": {
    "tags": []
   },
   "source": [
    "\n",
    "<img src=\"https://miro.medium.com/max/1400/1*YMqkwxqb1KhEAkwymNFnbA.png\" align=\"left\" width=\"700px\"/>\n",
    "\n",
    "\n"
   ]
  },
  {
   "cell_type": "markdown",
   "id": "b71bab8b",
   "metadata": {
    "tags": []
   },
   "source": [
    "## Binary Search Tree\n",
    "\n",
    "* At most it contains two childrens or we can say atmost it can have 2 degree at any node\n",
    "* If root is None then binary tree is empty"
   ]
  },
  {
   "cell_type": "markdown",
   "id": "be9c000a",
   "metadata": {
    "tags": []
   },
   "source": [
    "### Using Linked List"
   ]
  },
  {
   "cell_type": "code",
   "execution_count": 2,
   "id": "73f7f192",
   "metadata": {},
   "outputs": [],
   "source": [
    "class Node:\n",
    "    def __init__(self,k):\n",
    "        self.left = None\n",
    "        self.right = None\n",
    "        self.key = k"
   ]
  },
  {
   "cell_type": "markdown",
   "id": "2566ef7b",
   "metadata": {},
   "source": [
    "<img src=\"https://static.javatpoint.com/ds/images/binary-tree.png\" align=\"right\" width=\"200px\" height=\"100px\"/>\n",
    "\n",
    "```python\n",
    "bt_root = Node(1)\n",
    "bt_root.left = Node(2)\n",
    "bt_root.right = Node(3)\n",
    "bt_root.left.left = Node(5)\n",
    "bt_root.left.right = Node(6)\n",
    "```"
   ]
  },
  {
   "cell_type": "markdown",
   "id": "5f8a113c",
   "metadata": {
    "tags": []
   },
   "source": [
    "### Tree Traversal\n",
    "<img src=\"https://media.geeksforgeeks.org/wp-content/cdn-uploads/Preorder-from-Inorder-and-Postorder-traversals.jpg\"/>\n",
    "\n",
    "\n",
    "\n",
    "\n",
    "1. Breadth First (Level Order)\n",
    "2. Depth First\n",
    "    * Inorder (Left Root Right)\n",
    "    * Preorder (Root Left Right)\n",
    "    * Postorder (Left Right Root)"
   ]
  },
  {
   "cell_type": "markdown",
   "id": "5b6a587f",
   "metadata": {
    "tags": []
   },
   "source": [
    "#### Inorder Traversal\n",
    "\n",
    "Left , Root , Right"
   ]
  },
  {
   "cell_type": "markdown",
   "id": "d18e334d",
   "metadata": {},
   "source": [
    "\n",
    "<img src=\"img/Tree-binary-graph-for-inorder.png\" width=\"500px\" height=\"200px\" align=\"right\"/>\n",
    "\n",
    "```python\n",
    "root = Node(10)\n",
    "root.left = Node(20)\n",
    "root.right = Node(30)\n",
    "root.right.left = Node(40)\n",
    "root.right.right = Node(50)\n",
    "```\n"
   ]
  },
  {
   "cell_type": "code",
   "execution_count": 3,
   "id": "249c9ddb",
   "metadata": {},
   "outputs": [],
   "source": [
    "root = Node(10)\n",
    "root.left = Node(20)\n",
    "root.right = Node(30)\n",
    "root.right.left = Node(40)\n",
    "root.right.right = Node(50)"
   ]
  },
  {
   "cell_type": "code",
   "execution_count": 4,
   "id": "656d4bd9",
   "metadata": {},
   "outputs": [],
   "source": [
    "def inorder(root):\n",
    "    if root != None:\n",
    "        inorder(root.left)\n",
    "        print(root.key)\n",
    "        inorder(root.right)"
   ]
  },
  {
   "cell_type": "markdown",
   "id": "330e2c2c",
   "metadata": {},
   "source": [
    "<img src=\"img/recursive-inorder-flow.png\" width=\"500px\" height=\"200px\" align=\"right\"/>\n",
    "\n",
    "```python\n",
    "def inorder(root):\n",
    "    if root != None:\n",
    "        inorder(root.left)\n",
    "        print(root.key)\n",
    "        inorder(root.right)\n",
    "root = Node(10)\n",
    "root.left = Node(20)\n",
    "root.right = Node(30)\n",
    "root.right.left = Node(40)\n",
    "root.right.right = Node(50)\n",
    "\n",
    "inorder(root)\n",
    "```\n",
    "**OUTPUT**\n",
    "\n",
    "```\n",
    "20\n",
    "10\n",
    "40\n",
    "30\n",
    "50\n",
    "```\n",
    "\n"
   ]
  },
  {
   "cell_type": "code",
   "execution_count": 5,
   "id": "b201f6ca",
   "metadata": {},
   "outputs": [
    {
     "name": "stdout",
     "output_type": "stream",
     "text": [
      "20\n",
      "10\n",
      "40\n",
      "30\n",
      "50\n"
     ]
    }
   ],
   "source": [
    "inorder(root)"
   ]
  },
  {
   "cell_type": "markdown",
   "id": "3dc10282",
   "metadata": {
    "tags": []
   },
   "source": [
    "#### preorder Traversal\n",
    "Root Left Right"
   ]
  },
  {
   "cell_type": "code",
   "execution_count": 6,
   "id": "17d48b8b",
   "metadata": {},
   "outputs": [],
   "source": [
    "def preorder(root):\n",
    "    if root != None:\n",
    "        print(root.key)\n",
    "        preorder(root.left)\n",
    "        preorder(root.right)"
   ]
  },
  {
   "cell_type": "markdown",
   "id": "8a49f9ff",
   "metadata": {},
   "source": [
    "<img src=\"img/recursive-preorder-flow.png\" width=\"500px\" height=\"200px\" align=\"right\"/>\n",
    "\n",
    "```python\n",
    "def preorder(root):\n",
    "    if root != None:\n",
    "        print(root.key)\n",
    "        preorder(root.left)\n",
    "        preorder(root.right)\n",
    "root = Node(10)\n",
    "root.left = Node(20)\n",
    "root.right = Node(30)\n",
    "root.right.left = Node(40)\n",
    "root.right.right = Node(50)\n",
    "\n",
    "preorder(root)\n",
    "```\n",
    "**OUTPUT**\n",
    "\n",
    "```\n",
    "10\n",
    "20\n",
    "30\n",
    "40\n",
    "50\n",
    "```\n",
    "\n"
   ]
  },
  {
   "cell_type": "code",
   "execution_count": 7,
   "id": "8ca44b86",
   "metadata": {},
   "outputs": [
    {
     "name": "stdout",
     "output_type": "stream",
     "text": [
      "10\n",
      "20\n",
      "30\n",
      "40\n",
      "50\n"
     ]
    }
   ],
   "source": [
    "preorder(root)"
   ]
  },
  {
   "cell_type": "markdown",
   "id": "20997bc6",
   "metadata": {
    "tags": []
   },
   "source": [
    "#### Postorder Traversal"
   ]
  },
  {
   "cell_type": "code",
   "execution_count": 8,
   "id": "35a1b07d",
   "metadata": {},
   "outputs": [],
   "source": [
    "def postorder(root):\n",
    "    if root != None:\n",
    "        postorder(root.left)\n",
    "        postorder(root.right)\n",
    "        print(root.key)"
   ]
  },
  {
   "cell_type": "markdown",
   "id": "7483cb53",
   "metadata": {},
   "source": [
    "<img src=\"img/recursive-postorder-flow.png\" width=\"500px\" height=\"200px\" align=\"right\"/>\n",
    "\n",
    "```python\n",
    "def postorder(root):\n",
    "    if root != None:\n",
    "        postorder(root.left)\n",
    "        postorder(root.right)\n",
    "        print(root.key)\n",
    "root = Node(10)\n",
    "root.left = Node(20)\n",
    "root.right = Node(30)\n",
    "root.right.left = Node(40)\n",
    "root.right.right = Node(50)\n",
    "\n",
    "postorder(root)\n",
    "```\n",
    "**OUTPUT**\n",
    "\n",
    "```\n",
    "20\n",
    "40\n",
    "50\n",
    "30\n",
    "10\n",
    "```\n",
    "\n"
   ]
  },
  {
   "cell_type": "code",
   "execution_count": 9,
   "id": "fc36d76e",
   "metadata": {},
   "outputs": [
    {
     "name": "stdout",
     "output_type": "stream",
     "text": [
      "20\n",
      "40\n",
      "50\n",
      "30\n",
      "10\n"
     ]
    }
   ],
   "source": [
    "postorder(root)"
   ]
  },
  {
   "cell_type": "markdown",
   "id": "612f1ef6",
   "metadata": {
    "tags": []
   },
   "source": [
    "#### Height of Binary Tree\n",
    "\n",
    "It can be solved using two convention\n",
    "1. No of nodes from root node to leaf node\n",
    "2. maximum number of edges from root to leaf node"
   ]
  },
  {
   "cell_type": "code",
   "execution_count": 10,
   "id": "9b1d68d7",
   "metadata": {},
   "outputs": [],
   "source": [
    "def height(root):\n",
    "    if root == None:\n",
    "        return 0\n",
    "    else:\n",
    "        lh = height(root.left) # left height\n",
    "        rh = height(root.right) # right height\n",
    "        return max(lh,rh) + 1"
   ]
  },
  {
   "cell_type": "markdown",
   "id": "f3998417",
   "metadata": {},
   "source": [
    "<img src=\"img/recursive-height-flow.png\" width=\"500px\" height=\"200px\" align=\"right\"/>\n",
    "\n",
    "```python\n",
    "def height(root):\n",
    "    if root == None:\n",
    "        return 0\n",
    "    else:\n",
    "        lh = height(root.left) # left height\n",
    "        rh = height(root.right) # right height\n",
    "        return max(lh,rh) + 1\n",
    "root = Node(10)\n",
    "root.left = Node(20)\n",
    "root.right = Node(30)\n",
    "root.right.left = Node(40)\n",
    "root.right.right = Node(50)\n",
    "\n",
    "height(root)\n",
    "```\n",
    "**OUTPUT**\n",
    "\n",
    "```\n",
    "3\n",
    "```\n",
    "\n"
   ]
  },
  {
   "cell_type": "code",
   "execution_count": 11,
   "id": "a8d7df7b",
   "metadata": {},
   "outputs": [
    {
     "data": {
      "text/plain": [
       "3"
      ]
     },
     "execution_count": 11,
     "metadata": {},
     "output_type": "execute_result"
    }
   ],
   "source": [
    "height(root)"
   ]
  },
  {
   "cell_type": "markdown",
   "id": "58b2312b-62d5-4ac8-9d5e-35d595241535",
   "metadata": {
    "tags": []
   },
   "source": [
    "#### Print the nodes at distance K"
   ]
  },
  {
   "cell_type": "code",
   "execution_count": 12,
   "id": "1b748d86-186d-4201-9811-0e7fb242eb18",
   "metadata": {},
   "outputs": [],
   "source": [
    "def distance_till_k(root, K):\n",
    "    if root is None:\n",
    "        return\n",
    "    if K == 0:\n",
    "        print(root.key, end=\" \")\n",
    "    else:\n",
    "        distance_till_k(root.left, K - 1)\n",
    "        distance_till_k(root.right, K - 1)"
   ]
  },
  {
   "cell_type": "markdown",
   "id": "e9030f4e-7526-47e1-8059-379f9f8fca44",
   "metadata": {},
   "source": [
    "<img src=\"img/Tree-binary-graph-for-inorder.png\" width=\"600px\"  />"
   ]
  },
  {
   "cell_type": "markdown",
   "id": "3b9c7191-a3d0-40db-9ca8-d61564b3bfbf",
   "metadata": {},
   "source": [
    "**Time Complexity** :- O(n)\n",
    "\n",
    "\n",
    "**Space Complexity** :- O(n)"
   ]
  },
  {
   "cell_type": "code",
   "execution_count": 13,
   "id": "27a90baf-80eb-46d0-af8d-a4a84ba8a917",
   "metadata": {},
   "outputs": [
    {
     "name": "stdout",
     "output_type": "stream",
     "text": [
      "40 50 "
     ]
    }
   ],
   "source": [
    "distance_till_k(root,2)"
   ]
  },
  {
   "cell_type": "markdown",
   "id": "de7ef565-c93d-45d7-8734-a1f01c79ba00",
   "metadata": {
    "tags": []
   },
   "source": [
    "#### Level Order Traversal"
   ]
  },
  {
   "cell_type": "markdown",
   "id": "a096ce24-214e-4a4b-871d-c0a5e9e58e50",
   "metadata": {},
   "source": [
    "##### naive approach\n",
    "\n",
    "It takes `O(n + nh)` Time Complexity "
   ]
  },
  {
   "cell_type": "code",
   "execution_count": 14,
   "id": "468889fb-0732-43ce-9099-0fc94e1ac14c",
   "metadata": {},
   "outputs": [],
   "source": [
    "def Level_order_traversal_naive(root):\n",
    "    h = height(root)\n",
    "    for k in range(h):\n",
    "        distance_till_k(root, k)"
   ]
  },
  {
   "cell_type": "code",
   "execution_count": 15,
   "id": "e1bdfdcb-6352-4db3-8201-36ef0464c0af",
   "metadata": {},
   "outputs": [
    {
     "name": "stdout",
     "output_type": "stream",
     "text": [
      "10 20 30 40 50 "
     ]
    }
   ],
   "source": [
    "Level_order_traversal_naive(root)"
   ]
  },
  {
   "cell_type": "markdown",
   "id": "0bee554d-3ece-4c4d-95be-eb09d634918e",
   "metadata": {},
   "source": [
    "##### Let's find the solution which takes Linear time\n",
    "\n",
    "We are going to use `queue` data structure and iterative solution \n",
    "\n",
    "Because as recursive we are unable to shift to next node instantly we have to look for entire subtree and then we can switch which will be required unnecessary call stack"
   ]
  },
  {
   "cell_type": "markdown",
   "id": "bd7961e8-fb01-4127-8576-a8359d85beb4",
   "metadata": {},
   "source": [
    "<img src=\"img/tree-binary-graph.png\" />"
   ]
  },
  {
   "cell_type": "code",
   "execution_count": 16,
   "id": "4abac0be-7a07-4b97-98b9-0411bc13d2b3",
   "metadata": {},
   "outputs": [],
   "source": [
    "root = Node(10)\n",
    "root.left = Node(20)\n",
    "root.right = Node(30)\n",
    "root.left.left = Node(40)\n",
    "root.left.right = Node(50)\n",
    "root.right.right = Node(70)\n",
    "root.right.left = Node(60)\n",
    "root.left.right.left = Node(80)\n",
    "root.right.left.right = Node(90)\n"
   ]
  },
  {
   "cell_type": "markdown",
   "id": "d394d7ea-00c4-4aaa-bdbd-0936e5ff701f",
   "metadata": {},
   "source": [
    "**Time Complexity**\n",
    "\n",
    "O(n)\n",
    "\n",
    "**Space Complexity**\n",
    "\n",
    "O(n)"
   ]
  },
  {
   "cell_type": "code",
   "execution_count": 17,
   "id": "d8b8f782-9392-4d75-9d67-ca4c56774714",
   "metadata": {},
   "outputs": [],
   "source": [
    "from collections import deque\n",
    "def Level_order_traversal(root):\n",
    "    if root == None:\n",
    "        return\n",
    "    q = deque()\n",
    "    q.append(root)\n",
    "    while len(q) > 0:\n",
    "        node = q.popleft()\n",
    "        print(node.key)\n",
    "        \n",
    "        if node.left != None:\n",
    "            q.append(node.left)\n",
    "        if node.right != None:\n",
    "            q.append(node.right)\n",
    "        "
   ]
  },
  {
   "cell_type": "code",
   "execution_count": 18,
   "id": "73c5e8f0-7bf6-4a1b-b2b4-fe9945b75e44",
   "metadata": {},
   "outputs": [
    {
     "name": "stdout",
     "output_type": "stream",
     "text": [
      "10\n",
      "20\n",
      "30\n",
      "40\n",
      "50\n",
      "60\n",
      "70\n",
      "80\n",
      "90\n"
     ]
    }
   ],
   "source": [
    "Level_order_traversal(root)"
   ]
  },
  {
   "cell_type": "markdown",
   "id": "ebc65a12-39b8-47fd-a8b0-52e2d7aaadd8",
   "metadata": {
    "tags": []
   },
   "source": [
    "#### Size of Binary Tree\n"
   ]
  },
  {
   "cell_type": "code",
   "execution_count": 19,
   "id": "ebb22e3c-e07c-441d-9e05-9d6a53d2a342",
   "metadata": {},
   "outputs": [],
   "source": [
    "def size_binary_tree(root):\n",
    "    if root == None:\n",
    "        return 0\n",
    "    else:\n",
    "        ld = size_binary_tree(root.left)\n",
    "        rd = size_binary_tree(root.right)\n",
    "        return ld + rd + 1"
   ]
  },
  {
   "cell_type": "code",
   "execution_count": 20,
   "id": "70d840de-c4db-41fa-9ba0-f102a95ca51a",
   "metadata": {},
   "outputs": [
    {
     "data": {
      "text/plain": [
       "9"
      ]
     },
     "execution_count": 20,
     "metadata": {},
     "output_type": "execute_result"
    }
   ],
   "source": [
    "size_binary_tree(root)"
   ]
  },
  {
   "cell_type": "markdown",
   "id": "79523a56-c103-45b3-91a1-baf89f09ee9c",
   "metadata": {
    "tags": []
   },
   "source": [
    "#### Maximum in Binary Tree"
   ]
  },
  {
   "cell_type": "code",
   "execution_count": 21,
   "id": "a007630e-5c4b-44cf-98f5-4d3f8ddb31fb",
   "metadata": {},
   "outputs": [],
   "source": [
    "import math\n",
    "def maxBinaryTree(root):\n",
    "    if root == None:\n",
    "        return -math.inf\n",
    "    else:\n",
    "        leftMax = maxBinaryTree(root.left)\n",
    "        rightMax = maxBinaryTree(root.right)\n",
    "        return max(leftMax, rightMax, root.key)"
   ]
  },
  {
   "cell_type": "code",
   "execution_count": 22,
   "id": "8eccd59c-3da4-49fc-84e3-b48656622686",
   "metadata": {},
   "outputs": [
    {
     "data": {
      "text/plain": [
       "90"
      ]
     },
     "execution_count": 22,
     "metadata": {},
     "output_type": "execute_result"
    }
   ],
   "source": [
    "maxBinaryTree(root)"
   ]
  },
  {
   "cell_type": "markdown",
   "id": "7ffec509",
   "metadata": {},
   "source": [
    "#### Determine if Two Trees are identical"
   ]
  },
  {
   "cell_type": "code",
   "execution_count": 23,
   "id": "933f42fe",
   "metadata": {},
   "outputs": [],
   "source": [
    "def isIdentical(root1, root2):\n",
    "    if root1 == None and root2 == None:\n",
    "        return True\n",
    "    if root1 != None and root2 != None:\n",
    "        return ((root1.data == root2.data) and \n",
    "                isIdentical(root1.left, root2.left) and \n",
    "                isIdentical(root1.right, root2.right))"
   ]
  },
  {
   "cell_type": "markdown",
   "id": "35951435",
   "metadata": {},
   "source": [
    "#### Check for Balanced Tree"
   ]
  },
  {
   "cell_type": "code",
   "execution_count": 24,
   "id": "60042d51",
   "metadata": {},
   "outputs": [],
   "source": [
    "def isBalanced1(root):\n",
    "    if root == None:\n",
    "        return True\n",
    "    lh = isBalanced(root.left)\n",
    "    \n",
    "    if lh == 0:\n",
    "        return 0\n",
    "    \n",
    "    rh = isBalanced(root.right)\n",
    "    \n",
    "    if rh == 0:\n",
    "        return 0\n",
    "    \n",
    "    if abs(lh - rh) > 1:\n",
    "        return 0\n",
    "    else:\n",
    "        return max(lh, rh) + 1"
   ]
  },
  {
   "cell_type": "code",
   "execution_count": 25,
   "id": "8cb92438",
   "metadata": {},
   "outputs": [],
   "source": [
    "def isBalanced2(root):\n",
    "    if root == None:\n",
    "        return True\n",
    "    lh = height(root.left)\n",
    "    rh = height(root.right)\n",
    "    return abs(lh - rh) <= 1 and \\\n",
    "            isBalanced2(root.left) and \\\n",
    "            isBalanced2(root.right)"
   ]
  },
  {
   "cell_type": "code",
   "execution_count": 26,
   "id": "27a22b6a",
   "metadata": {},
   "outputs": [
    {
     "data": {
      "text/plain": [
       "True"
      ]
     },
     "execution_count": 26,
     "metadata": {},
     "output_type": "execute_result"
    }
   ],
   "source": [
    "isBalanced2(root)"
   ]
  },
  {
   "cell_type": "code",
   "execution_count": 27,
   "id": "806dc4a1",
   "metadata": {},
   "outputs": [],
   "source": [
    "def isBalanced3(root):\n",
    "    if root == None:\n",
    "        return 0\n",
    "    lh = isBalanced3(root.left)\n",
    "    if lh == -1:\n",
    "        return -1\n",
    "    rh = isBalanced3(root.right)\n",
    "    if rh == -1:\n",
    "        return -1 \n",
    "    if abs(rh - lh) > 1:\n",
    "        return -1\n",
    "    return max(lh, rh) + 1"
   ]
  },
  {
   "cell_type": "code",
   "execution_count": 28,
   "id": "7e6d203e",
   "metadata": {},
   "outputs": [],
   "source": [
    "def isBalancedMain(root):\n",
    "    if isBalanced3(root) == -1:\n",
    "        return False\n",
    "    return True"
   ]
  },
  {
   "cell_type": "code",
   "execution_count": 29,
   "id": "f8c2883f",
   "metadata": {},
   "outputs": [
    {
     "data": {
      "text/plain": [
       "True"
      ]
     },
     "execution_count": 29,
     "metadata": {},
     "output_type": "execute_result"
    }
   ],
   "source": [
    "isBalancedMain(root)"
   ]
  },
  {
   "cell_type": "markdown",
   "id": "1285344b",
   "metadata": {},
   "source": [
    "## Level Order Traversal print in same way which is traversed "
   ]
  },
  {
   "cell_type": "code",
   "execution_count": 30,
   "id": "a625599a",
   "metadata": {},
   "outputs": [
    {
     "name": "stdout",
     "output_type": "stream",
     "text": [
      "40\n",
      "20\n",
      "80\n",
      "50\n",
      "10\n",
      "60\n",
      "90\n",
      "30\n",
      "70\n"
     ]
    }
   ],
   "source": [
    "inorder(root)"
   ]
  },
  {
   "cell_type": "code",
   "execution_count": 31,
   "id": "46e74b0c",
   "metadata": {},
   "outputs": [],
   "source": [
    "from collections import deque\n",
    "def levelOrderTraversal1(root):\n",
    "    # if root is None\n",
    "    if root is None:\n",
    "        return\n",
    "    # create queue for storing the values\n",
    "    q = deque()\n",
    "    # append the first root node\n",
    "    q.append(root)\n",
    "    # also append the None so that we will know that one step is completed\n",
    "    q.append(None)\n",
    "    while len(q) > 1:\n",
    "        # pop the left most value and store it\n",
    "        curr = q.popleft()\n",
    "        # if curr is None then that means we have completed the step\n",
    "        if curr == None:\n",
    "            print()\n",
    "            # append the None to already inserted node values\n",
    "            q.append(None)\n",
    "            continue\n",
    "        print(curr.key, end= \" \")\n",
    "        # If current left node is not null, then Append\n",
    "        if curr.left != None:\n",
    "            q.append(curr.left)\n",
    "        # If current right node is not null, then append.\n",
    "        if curr.right != None:\n",
    "            q.append(curr.right)"
   ]
  },
  {
   "cell_type": "code",
   "execution_count": 32,
   "id": "456d6f3c",
   "metadata": {},
   "outputs": [
    {
     "name": "stdout",
     "output_type": "stream",
     "text": [
      "10 \n",
      "20 30 \n",
      "40 50 60 70 \n",
      "80 90 "
     ]
    }
   ],
   "source": [
    "levelOrderTraversal1(root)"
   ]
  },
  {
   "cell_type": "code",
   "execution_count": 33,
   "id": "2c10f9a0",
   "metadata": {},
   "outputs": [],
   "source": [
    "def levelOrderTraversal2(root):\n",
    "    if root == None:\n",
    "        return\n",
    "    q = deque()\n",
    "    q.append(root)\n",
    "    while len(q) > 0:\n",
    "        count = len(q)\n",
    "        for i in range(count):\n",
    "            curr = q.popleft()\n",
    "            print(curr.key, end= \" \")\n",
    "            if curr.left != None:\n",
    "                q.append(curr.left)\n",
    "            if curr.right != None:\n",
    "                q.append(curr.right)\n",
    "        print()"
   ]
  },
  {
   "cell_type": "code",
   "execution_count": 34,
   "id": "8ba431bf",
   "metadata": {},
   "outputs": [
    {
     "name": "stdout",
     "output_type": "stream",
     "text": [
      "10 \n",
      "20 30 \n",
      "40 50 60 70 \n",
      "80 90 \n"
     ]
    }
   ],
   "source": [
    "levelOrderTraversal2(root)"
   ]
  },
  {
   "cell_type": "markdown",
   "id": "181dc037",
   "metadata": {},
   "source": [
    "## Vertical Level Traversal\n",
    "\n",
    "![](https://media.geeksforgeeks.org/wp-content/cdn-uploads/print-binary-tree-in-vertical-order.png)"
   ]
  },
  {
   "cell_type": "code",
   "execution_count": null,
   "id": "53d22eb7",
   "metadata": {},
   "outputs": [],
   "source": [
    "# first find the Minimum and Maximum Horizontal Distance\n",
    "def findMinMax()"
   ]
  }
 ],
 "metadata": {
  "kernelspec": {
   "display_name": "Python 3 (ipykernel)",
   "language": "python",
   "name": "python3"
  },
  "language_info": {
   "codemirror_mode": {
    "name": "ipython",
    "version": 3
   },
   "file_extension": ".py",
   "mimetype": "text/x-python",
   "name": "python",
   "nbconvert_exporter": "python",
   "pygments_lexer": "ipython3",
   "version": "3.10.10"
  },
  "toc-autonumbering": false,
  "toc-showcode": false,
  "toc-showmarkdowntxt": false
 },
 "nbformat": 4,
 "nbformat_minor": 5
}

{
 "cells": [
  {
   "cell_type": "code",
   "execution_count": 20,
   "id": "6dafb4f1",
   "metadata": {},
   "outputs": [],
   "source": [
    "from imp_personal import MyFunction\n",
    "z = MyFunction()"
   ]
  },
  {
   "cell_type": "markdown",
   "id": "5762ca96",
   "metadata": {},
   "source": [
    "# Tree\n",
    "<img src=\"https://miro.medium.com/max/1400/1*YMqkwxqb1KhEAkwymNFnbA.png\" align=\"left\" width=\"700px\"/>\n",
    "\n",
    "\n",
    "\n",
    "* Tree is a non-linear data structure\n",
    "* It stores the data in the form of Heirarchy\n",
    "* Root Node (degree = 0 )\n",
    "* Leaf Node\n",
    "* Parent Node\n",
    "* It is recursive in nature\n",
    "* It contains sub-trees\n",
    "* descendants\n",
    "* ancestors\n",
    "* degree\n",
    "* internal nodes"
   ]
  },
  {
   "cell_type": "code",
   "execution_count": 21,
   "id": "97ae92d2",
   "metadata": {},
   "outputs": [
    {
     "name": "stdout",
     "output_type": "stream",
     "text": [
      "Successfully added to the comment list\n"
     ]
    }
   ],
   "source": [
    "z.new(\"Binary Search Tree\")"
   ]
  },
  {
   "cell_type": "markdown",
   "id": "e290ad08",
   "metadata": {},
   "source": [
    "## Binary Search Tree\n",
    "\n",
    "* At most it contains two childrens or we can say atmost it can have 2 degree at any node\n",
    "* If root is None then binary tree is empty"
   ]
  },
  {
   "cell_type": "markdown",
   "id": "8b484cff",
   "metadata": {},
   "source": [
    "### Using Linked List"
   ]
  },
  {
   "cell_type": "code",
   "execution_count": 25,
   "id": "748a28be",
   "metadata": {},
   "outputs": [],
   "source": [
    "class Node:\n",
    "    def __init__(self,k):\n",
    "        self.left = None\n",
    "        self.right = None\n",
    "        self.key = k"
   ]
  },
  {
   "cell_type": "markdown",
   "id": "063b282c",
   "metadata": {},
   "source": [
    "<img src=\"https://static.javatpoint.com/ds/images/binary-tree.png\" align=\"right\" width=\"200px\" height=\"100px\"/>\n",
    "\n",
    "```python\n",
    "bt_root = Node(1)\n",
    "bt_root.left = Node(2)\n",
    "bt_root.right = Node(3)\n",
    "bt_root.left.left = Node(5)\n",
    "bt_root.left.right = Node(6)\n",
    "```"
   ]
  },
  {
   "cell_type": "code",
   "execution_count": 29,
   "id": "769d124f",
   "metadata": {},
   "outputs": [
    {
     "name": "stdout",
     "output_type": "stream",
     "text": [
      "Successfully added to the comment list\n"
     ]
    }
   ],
   "source": [
    "z.new(\"Tree Traversal\")"
   ]
  },
  {
   "cell_type": "markdown",
   "id": "d2cbf36f",
   "metadata": {},
   "source": [
    "### Tree Traversal\n",
    "\n",
    "1. Breadth First (Level Order)\n",
    "2. Depth First\n",
    "    * Inorder\n",
    "    * Preorder\n",
    "    * Postorder"
   ]
  },
  {
   "cell_type": "code",
   "execution_count": null,
   "id": "90d16075",
   "metadata": {},
   "outputs": [],
   "source": []
  }
 ],
 "metadata": {
  "kernelspec": {
   "display_name": "Python 3 (ipykernel)",
   "language": "python",
   "name": "python3"
  },
  "language_info": {
   "codemirror_mode": {
    "name": "ipython",
    "version": 3
   },
   "file_extension": ".py",
   "mimetype": "text/x-python",
   "name": "python",
   "nbconvert_exporter": "python",
   "pygments_lexer": "ipython3",
   "version": "3.10.9"
  }
 },
 "nbformat": 4,
 "nbformat_minor": 5
}

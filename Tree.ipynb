{
 "cells": [
  {
   "cell_type": "code",
   "execution_count": 2,
   "id": "a815e1a9",
   "metadata": {},
   "outputs": [],
   "source": [
    "from imp_personal import MyFunction\n",
    "z = MyFunction()"
   ]
  },
  {
   "cell_type": "markdown",
   "id": "587a35d7-dadf-48e6-9c28-49cb2d284504",
   "metadata": {},
   "source": [
    "1. [Binary Search Tree](#Binary-Search-Tree)\n",
    "7. [Tree Traversal](#Tree-Traversal)\n",
    "7. [Inorder Traversal](#Inorder-Traversal)\n",
    "7. [preorder Traversal](#preorder-Traversal)\n",
    "7. [PostOrder Traversal](#PostOrder-Traversal)\n",
    "7. [Height of Binary Tree](#Height-of-Binary-Tree)"
   ]
  },
  {
   "cell_type": "markdown",
   "id": "f9444519",
   "metadata": {
    "tags": []
   },
   "source": [
    "# Tree\n",
    "<img src=\"https://miro.medium.com/max/1400/1*YMqkwxqb1KhEAkwymNFnbA.png\" align=\"left\" width=\"700px\"/>\n",
    "\n",
    "\n",
    "\n",
    "* Tree is a non-linear data structure\n",
    "* It stores the data in the form of Heirarchy\n",
    "* Root Node (degree = 0 )\n",
    "* Leaf Node\n",
    "* Parent Node\n",
    "* It is recursive in nature\n",
    "* It contains sub-trees\n",
    "* descendants\n",
    "* ancestors\n",
    "* degree\n",
    "* internal nodes"
   ]
  },
  {
   "cell_type": "code",
   "execution_count": 3,
   "id": "ff21ea20",
   "metadata": {},
   "outputs": [
    {
     "name": "stdout",
     "output_type": "stream",
     "text": [
      "Successfully added to the comment list\n"
     ]
    }
   ],
   "source": [
    "z.new(\"Binary Search Tree\")"
   ]
  },
  {
   "cell_type": "markdown",
   "id": "b71bab8b",
   "metadata": {},
   "source": [
    "## Binary Search Tree\n",
    "\n",
    "* At most it contains two childrens or we can say atmost it can have 2 degree at any node\n",
    "* If root is None then binary tree is empty"
   ]
  },
  {
   "cell_type": "markdown",
   "id": "be9c000a",
   "metadata": {},
   "source": [
    "### Using Linked List"
   ]
  },
  {
   "cell_type": "code",
   "execution_count": 4,
   "id": "73f7f192",
   "metadata": {},
   "outputs": [],
   "source": [
    "class Node:\n",
    "    def __init__(self,k):\n",
    "        self.left = None\n",
    "        self.right = None\n",
    "        self.key = k"
   ]
  },
  {
   "cell_type": "markdown",
   "id": "2566ef7b",
   "metadata": {},
   "source": [
    "<img src=\"https://static.javatpoint.com/ds/images/binary-tree.png\" align=\"right\" width=\"200px\" height=\"100px\"/>\n",
    "\n",
    "```python\n",
    "bt_root = Node(1)\n",
    "bt_root.left = Node(2)\n",
    "bt_root.right = Node(3)\n",
    "bt_root.left.left = Node(5)\n",
    "bt_root.left.right = Node(6)\n",
    "```"
   ]
  },
  {
   "cell_type": "code",
   "execution_count": 5,
   "id": "fadc7be8",
   "metadata": {},
   "outputs": [
    {
     "name": "stdout",
     "output_type": "stream",
     "text": [
      "Successfully added to the comment list\n"
     ]
    }
   ],
   "source": [
    "z.new(\"Tree Traversal\")"
   ]
  },
  {
   "cell_type": "markdown",
   "id": "5f8a113c",
   "metadata": {},
   "source": [
    "### Tree Traversal\n",
    "<img src=\"https://media.geeksforgeeks.org/wp-content/cdn-uploads/Preorder-from-Inorder-and-Postorder-traversals.jpg\"/>\n",
    "\n",
    "\n",
    "\n",
    "\n",
    "1. Breadth First (Level Order)\n",
    "2. Depth First\n",
    "    * Inorder (Left Root Right)\n",
    "    * Preorder (Root Left Right)\n",
    "    * Postorder (Left Right Root)"
   ]
  },
  {
   "cell_type": "code",
   "execution_count": 6,
   "id": "515a082a",
   "metadata": {},
   "outputs": [
    {
     "name": "stdout",
     "output_type": "stream",
     "text": [
      "Successfully added to the comment list\n"
     ]
    }
   ],
   "source": [
    "z.new(\"Inorder Traversal\")"
   ]
  },
  {
   "cell_type": "markdown",
   "id": "5b6a587f",
   "metadata": {},
   "source": [
    "#### Inorder Traversal\n",
    "\n",
    "Left , Root , Right"
   ]
  },
  {
   "cell_type": "markdown",
   "id": "d18e334d",
   "metadata": {},
   "source": [
    "\n",
    "<img src=\"img/Tree-binary-graph-for-inorder.png\" width=\"500px\" height=\"200px\" align=\"right\"/>\n",
    "\n",
    "```python\n",
    "root = Node(10)\n",
    "root.left = Node(20)\n",
    "root.right = Node(30)\n",
    "root.right.left = Node(40)\n",
    "root.right.right = Node(50)\n",
    "```\n"
   ]
  },
  {
   "cell_type": "code",
   "execution_count": 7,
   "id": "249c9ddb",
   "metadata": {},
   "outputs": [],
   "source": [
    "root = Node(10)\n",
    "root.left = Node(20)\n",
    "root.right = Node(30)\n",
    "root.right.left = Node(40)\n",
    "root.right.right = Node(50)"
   ]
  },
  {
   "cell_type": "code",
   "execution_count": 8,
   "id": "656d4bd9",
   "metadata": {},
   "outputs": [],
   "source": [
    "def inorder(root):\n",
    "    if root != None:\n",
    "        inorder(root.left)\n",
    "        print(root.key)\n",
    "        inorder(root.right)"
   ]
  },
  {
   "cell_type": "markdown",
   "id": "330e2c2c",
   "metadata": {},
   "source": [
    "<img src=\"img/recursive-inorder-flow.png\" width=\"500px\" height=\"200px\" align=\"right\"/>\n",
    "\n",
    "```python\n",
    "def inorder(root):\n",
    "    if root != None:\n",
    "        inorder(root.left)\n",
    "        print(root.key)\n",
    "        inorder(root.right)\n",
    "root = Node(10)\n",
    "root.left = Node(20)\n",
    "root.right = Node(30)\n",
    "root.right.left = Node(40)\n",
    "root.right.right = Node(50)\n",
    "\n",
    "inorder(root)\n",
    "```\n",
    "**OUTPUT**\n",
    "\n",
    "```\n",
    "20\n",
    "10\n",
    "40\n",
    "30\n",
    "50\n",
    "```\n",
    "\n"
   ]
  },
  {
   "cell_type": "code",
   "execution_count": 9,
   "id": "b201f6ca",
   "metadata": {},
   "outputs": [
    {
     "name": "stdout",
     "output_type": "stream",
     "text": [
      "20\n",
      "10\n",
      "40\n",
      "30\n",
      "50\n"
     ]
    }
   ],
   "source": [
    "inorder(root)"
   ]
  },
  {
   "cell_type": "code",
   "execution_count": 10,
   "id": "6d45cfd8",
   "metadata": {},
   "outputs": [
    {
     "name": "stdout",
     "output_type": "stream",
     "text": [
      "Successfully added to the comment list\n"
     ]
    }
   ],
   "source": [
    "z.new(\"preorder Traversal\")"
   ]
  },
  {
   "cell_type": "markdown",
   "id": "3dc10282",
   "metadata": {},
   "source": [
    "#### preorder Traversal\n",
    "Root Left Right"
   ]
  },
  {
   "cell_type": "code",
   "execution_count": 11,
   "id": "17d48b8b",
   "metadata": {},
   "outputs": [],
   "source": [
    "def preorder(root):\n",
    "    if root != None:\n",
    "        print(root.key)\n",
    "        preorder(root.left)\n",
    "        preorder(root.right)"
   ]
  },
  {
   "cell_type": "markdown",
   "id": "8a49f9ff",
   "metadata": {},
   "source": [
    "<img src=\"img/recursive-preorder-flow.png\" width=\"500px\" height=\"200px\" align=\"right\"/>\n",
    "\n",
    "```python\n",
    "def preorder(root):\n",
    "    if root != None:\n",
    "        print(root.key)\n",
    "        preorder(root.left)\n",
    "        preorder(root.right)\n",
    "root = Node(10)\n",
    "root.left = Node(20)\n",
    "root.right = Node(30)\n",
    "root.right.left = Node(40)\n",
    "root.right.right = Node(50)\n",
    "\n",
    "preorder(root)\n",
    "```\n",
    "**OUTPUT**\n",
    "\n",
    "```\n",
    "10\n",
    "20\n",
    "30\n",
    "40\n",
    "50\n",
    "```\n",
    "\n"
   ]
  },
  {
   "cell_type": "code",
   "execution_count": 12,
   "id": "8ca44b86",
   "metadata": {},
   "outputs": [
    {
     "name": "stdout",
     "output_type": "stream",
     "text": [
      "10\n",
      "20\n",
      "30\n",
      "40\n",
      "50\n"
     ]
    }
   ],
   "source": [
    "preorder(root)"
   ]
  },
  {
   "cell_type": "code",
   "execution_count": 13,
   "id": "a9bf1664",
   "metadata": {},
   "outputs": [
    {
     "name": "stdout",
     "output_type": "stream",
     "text": [
      "Successfully added to the comment list\n"
     ]
    }
   ],
   "source": [
    "z.new(\"PostOrder Traversal\")"
   ]
  },
  {
   "cell_type": "markdown",
   "id": "20997bc6",
   "metadata": {},
   "source": [
    "#### Postorder Traversal"
   ]
  },
  {
   "cell_type": "code",
   "execution_count": 14,
   "id": "35a1b07d",
   "metadata": {},
   "outputs": [],
   "source": [
    "def postorder(root):\n",
    "    if root != None:\n",
    "        postorder(root.left)\n",
    "        postorder(root.right)\n",
    "        print(root.key)"
   ]
  },
  {
   "cell_type": "markdown",
   "id": "7483cb53",
   "metadata": {},
   "source": [
    "<img src=\"img/recursive-postorder-flow.png\" width=\"500px\" height=\"200px\" align=\"right\"/>\n",
    "\n",
    "```python\n",
    "def postorder(root):\n",
    "    if root != None:\n",
    "        postorder(root.left)\n",
    "        postorder(root.right)\n",
    "        print(root.key)\n",
    "root = Node(10)\n",
    "root.left = Node(20)\n",
    "root.right = Node(30)\n",
    "root.right.left = Node(40)\n",
    "root.right.right = Node(50)\n",
    "\n",
    "postorder(root)\n",
    "```\n",
    "**OUTPUT**\n",
    "\n",
    "```\n",
    "20\n",
    "40\n",
    "50\n",
    "30\n",
    "10\n",
    "```\n",
    "\n"
   ]
  },
  {
   "cell_type": "code",
   "execution_count": 15,
   "id": "fc36d76e",
   "metadata": {},
   "outputs": [
    {
     "name": "stdout",
     "output_type": "stream",
     "text": [
      "20\n",
      "40\n",
      "50\n",
      "30\n",
      "10\n"
     ]
    }
   ],
   "source": [
    "postorder(root)"
   ]
  },
  {
   "cell_type": "code",
   "execution_count": 16,
   "id": "a6a42131",
   "metadata": {},
   "outputs": [
    {
     "name": "stdout",
     "output_type": "stream",
     "text": [
      "Successfully added to the comment list\n"
     ]
    }
   ],
   "source": [
    "z.new(\"Height of Binary Tree\")"
   ]
  },
  {
   "cell_type": "markdown",
   "id": "612f1ef6",
   "metadata": {
    "tags": []
   },
   "source": [
    "#### Height of Binary Tree\n",
    "\n",
    "It can be solved using two convention\n",
    "1. No of nodes from root node to leaf node\n",
    "2. maximum number of edges from root to leaf node"
   ]
  },
  {
   "cell_type": "code",
   "execution_count": 17,
   "id": "9b1d68d7",
   "metadata": {},
   "outputs": [],
   "source": [
    "def height(root):\n",
    "    if root == None:\n",
    "        return 0\n",
    "    else:\n",
    "        lh = height(root.left) # left height\n",
    "        rh = height(root.right) # right height\n",
    "        return max(lh,rh) + 1"
   ]
  },
  {
   "cell_type": "markdown",
   "id": "f3998417",
   "metadata": {},
   "source": [
    "<img src=\"img/recursive-height-flow.png\" width=\"500px\" height=\"200px\" align=\"right\"/>\n",
    "\n",
    "```python\n",
    "def height(root):\n",
    "    if root == None:\n",
    "        return 0\n",
    "    else:\n",
    "        lh = height(root.left) # left height\n",
    "        rh = height(root.right) # right height\n",
    "        return max(lh,rh) + 1\n",
    "root = Node(10)\n",
    "root.left = Node(20)\n",
    "root.right = Node(30)\n",
    "root.right.left = Node(40)\n",
    "root.right.right = Node(50)\n",
    "\n",
    "height(root)\n",
    "```\n",
    "**OUTPUT**\n",
    "\n",
    "```\n",
    "3\n",
    "```\n",
    "\n"
   ]
  },
  {
   "cell_type": "code",
   "execution_count": 20,
   "id": "a8d7df7b",
   "metadata": {},
   "outputs": [
    {
     "data": {
      "text/plain": [
       "3"
      ]
     },
     "execution_count": 20,
     "metadata": {},
     "output_type": "execute_result"
    }
   ],
   "source": [
    "height(root)"
   ]
  },
  {
   "cell_type": "code",
   "execution_count": 22,
   "id": "64038239-37fb-4796-9f20-535deb805298",
   "metadata": {},
   "outputs": [],
   "source": [
    "z.makeNullArr()"
   ]
  },
  {
   "cell_type": "code",
   "execution_count": 23,
   "id": "950f477d-7234-49a0-9e87-bffddbc5479c",
   "metadata": {},
   "outputs": [
    {
     "name": "stdout",
     "output_type": "stream",
     "text": [
      "Successfully added to the comment list\n"
     ]
    }
   ],
   "source": [
    "z.new(\"Print the nodes at distance K\")"
   ]
  },
  {
   "cell_type": "markdown",
   "id": "58b2312b-62d5-4ac8-9d5e-35d595241535",
   "metadata": {},
   "source": [
    "#### Print the nodes at distance K"
   ]
  },
  {
   "cell_type": "code",
   "execution_count": 24,
   "id": "1b748d86-186d-4201-9811-0e7fb242eb18",
   "metadata": {},
   "outputs": [],
   "source": [
    "def distance_till_k(root, K):\n",
    "    if root is None:\n",
    "        return\n",
    "    if K == 0:\n",
    "        print(root.key, end=\" \")\n",
    "    else:\n",
    "        distance_till_k(root.left, K - 1)\n",
    "        distance_till_k(root.right, K - 1)"
   ]
  },
  {
   "cell_type": "markdown",
   "id": "e9030f4e-7526-47e1-8059-379f9f8fca44",
   "metadata": {},
   "source": [
    "<img src=\"img/Tree-binary-graph-for-inorder.png\" width=\"600px\"  />"
   ]
  },
  {
   "cell_type": "markdown",
   "id": "3b9c7191-a3d0-40db-9ca8-d61564b3bfbf",
   "metadata": {},
   "source": [
    "**Time Complexity** :- O(n)\n",
    "\n",
    "\n",
    "**Space Complexity** :- O(n)"
   ]
  },
  {
   "cell_type": "code",
   "execution_count": 32,
   "id": "27a90baf-80eb-46d0-af8d-a4a84ba8a917",
   "metadata": {},
   "outputs": [
    {
     "name": "stdout",
     "output_type": "stream",
     "text": [
      "40 50 "
     ]
    }
   ],
   "source": [
    "distance_till_k(root,2)"
   ]
  },
  {
   "cell_type": "code",
   "execution_count": 36,
   "id": "52d7c019-7451-4781-962b-41eefc988416",
   "metadata": {},
   "outputs": [
    {
     "name": "stdout",
     "output_type": "stream",
     "text": [
      "Successfully added to the comment list\n"
     ]
    }
   ],
   "source": [
    "z.new(\"Level Order Traversal\")"
   ]
  },
  {
   "cell_type": "markdown",
   "id": "de7ef565-c93d-45d7-8734-a1f01c79ba00",
   "metadata": {},
   "source": [
    "#### Level Order Traversal"
   ]
  },
  {
   "cell_type": "markdown",
   "id": "a096ce24-214e-4a4b-871d-c0a5e9e58e50",
   "metadata": {},
   "source": [
    "##### naive approach\n",
    "\n",
    "It takes `O(n + nh)` Time Complexity "
   ]
  },
  {
   "cell_type": "code",
   "execution_count": 37,
   "id": "468889fb-0732-43ce-9099-0fc94e1ac14c",
   "metadata": {},
   "outputs": [],
   "source": [
    "def Level_order_traversal_naive(root):\n",
    "    h = height(root)\n",
    "    for k in range(h):\n",
    "        distance_till_k(root, k)"
   ]
  },
  {
   "cell_type": "code",
   "execution_count": 40,
   "id": "e1bdfdcb-6352-4db3-8201-36ef0464c0af",
   "metadata": {},
   "outputs": [
    {
     "name": "stdout",
     "output_type": "stream",
     "text": [
      "10 20 30 40 50 "
     ]
    }
   ],
   "source": [
    "Level_order_traversal_naive(root)"
   ]
  },
  {
   "cell_type": "markdown",
   "id": "0bee554d-3ece-4c4d-95be-eb09d634918e",
   "metadata": {},
   "source": [
    "##### Let's find the solution which takes Linear time\n",
    "\n",
    "We are going to use `queue` data structure and iterative solution \n",
    "\n",
    "Because as recursive we are unable to shift to next node instantly we have to look for entire subtree and then we can switch which will be required unnecessary call stack"
   ]
  },
  {
   "cell_type": "markdown",
   "id": "bd7961e8-fb01-4127-8576-a8359d85beb4",
   "metadata": {},
   "source": [
    "<img src=\"img/tree-binary-graph.png\" />"
   ]
  },
  {
   "cell_type": "code",
   "execution_count": 47,
   "id": "4abac0be-7a07-4b97-98b9-0411bc13d2b3",
   "metadata": {},
   "outputs": [],
   "source": [
    "root = Node(10)\n",
    "root.left = Node(20)\n",
    "root.right = Node(30)\n",
    "root.left.left = Node(40)\n",
    "root.left.right = Node(50)\n",
    "root.right.right = Node(70)\n",
    "root.right.left = Node(60)\n",
    "root.left.right.left = Node(80)\n",
    "root.right.left.right = Node(90)\n"
   ]
  },
  {
   "cell_type": "code",
   "execution_count": 50,
   "id": "d8b8f782-9392-4d75-9d67-ca4c56774714",
   "metadata": {},
   "outputs": [],
   "source": [
    "from collections import deque\n",
    "def Level_order_traversal(root):\n",
    "    if root == None:\n",
    "        return\n",
    "    q = deque()\n",
    "    q.append(root)\n",
    "    while len(q) > 0:\n",
    "        node = q.popleft()\n",
    "        print(node.key)\n",
    "        \n",
    "        if node.left != None:\n",
    "            q.append(node.left)\n",
    "        if node.right != None:\n",
    "            q.append(node.right)\n",
    "        "
   ]
  },
  {
   "cell_type": "code",
   "execution_count": null,
   "id": "73c5e8f0-7bf6-4a1b-b2b4-fe9945b75e44",
   "metadata": {},
   "outputs": [],
   "source": [
    "Level_order_traversal(root)"
   ]
  },
  {
   "cell_type": "code",
   "execution_count": null,
   "id": "c938bb35-0789-40db-ba5e-4405b515e56e",
   "metadata": {},
   "outputs": [],
   "source": []
  }
 ],
 "metadata": {
  "kernelspec": {
   "display_name": "Python 3 (ipykernel)",
   "language": "python",
   "name": "python3"
  },
  "language_info": {
   "codemirror_mode": {
    "name": "ipython",
    "version": 3
   },
   "file_extension": ".py",
   "mimetype": "text/x-python",
   "name": "python",
   "nbconvert_exporter": "python",
   "pygments_lexer": "ipython3",
   "version": "3.10.9"
  }
 },
 "nbformat": 4,
 "nbformat_minor": 5
}

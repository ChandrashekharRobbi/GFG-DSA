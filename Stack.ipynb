{
 "cells": [
  {
   "cell_type": "code",
   "execution_count": 12,
   "id": "1f6b0bb1",
   "metadata": {},
   "outputs": [],
   "source": [
    "from imp import convertinotlink"
   ]
  },
  {
   "cell_type": "markdown",
   "id": "5f2856d7",
   "metadata": {},
   "source": [
    "# Stack\n",
    "\n",
    "Stack is a linear data structure that follows a particular order in which the operations are performed. The order may be *LIFO(Last In First Out)* or *FILO(First In Last Out)*.\n",
    "\n",
    "\n",
    "#### we can implement stack in 4 ways:\n",
    "\n",
    "1. Using List\n",
    "2. Using Collections.dequeue\n",
    "3. Using queue.LIFOqueue\n",
    "4. Using our own implementation"
   ]
  },
  {
   "cell_type": "markdown",
   "id": "9bf7ad7c",
   "metadata": {},
   "source": [
    "### Implementation of Stack"
   ]
  },
  {
   "cell_type": "markdown",
   "id": "94ee35d7",
   "metadata": {},
   "source": [
    "#### 1. Using List"
   ]
  },
  {
   "cell_type": "code",
   "execution_count": 19,
   "id": "10d92cd3",
   "metadata": {},
   "outputs": [
    {
     "name": "stdout",
     "output_type": "stream",
     "text": [
      "Stack is  [40, 60, 70]\n",
      "The item popped is  70\n",
      "Stack is  [40, 60]\n",
      "The top element is  60\n",
      "The size of the stack is  2\n",
      "isEmpty = False\n"
     ]
    }
   ],
   "source": [
    "stack = []\n",
    "\n",
    "stack.append(40)\n",
    "stack.append(60)\n",
    "stack.append(70)\n",
    "\n",
    "print(\"Stack is \",stack)\n",
    "\n",
    "print(\"The item popped is \",stack.pop())\n",
    "\n",
    "top = stack[-1]\n",
    "\n",
    "print(\"Stack is \",stack)\n",
    "\n",
    "print(\"The top element is \",top)\n",
    "\n",
    "size = len(stack)\n",
    "\n",
    "print(\"The size of the stack is \",size)\n",
    "\n",
    "if stack == []:\n",
    "    print('isEmpty = True')\n",
    "else:\n",
    "    print('isEmpty = False')"
   ]
  },
  {
   "cell_type": "code",
   "execution_count": null,
   "id": "f3618f79",
   "metadata": {},
   "outputs": [],
   "source": []
  },
  {
   "cell_type": "code",
   "execution_count": null,
   "id": "901cd27b",
   "metadata": {},
   "outputs": [],
   "source": []
  }
 ],
 "metadata": {
  "kernelspec": {
   "display_name": "Python 3 (ipykernel)",
   "language": "python",
   "name": "python3"
  },
  "language_info": {
   "codemirror_mode": {
    "name": "ipython",
    "version": 3
   },
   "file_extension": ".py",
   "mimetype": "text/x-python",
   "name": "python",
   "nbconvert_exporter": "python",
   "pygments_lexer": "ipython3",
   "version": "3.10.6"
  }
 },
 "nbformat": 4,
 "nbformat_minor": 5
}

{
 "cells": [
  {
   "cell_type": "code",
   "execution_count": 15,
   "id": "f82c156f",
   "metadata": {},
   "outputs": [],
   "source": [
    "from imp_personal import *\n",
    "c = MyFunction()"
   ]
  },
  {
   "cell_type": "markdown",
   "id": "5f2856d7",
   "metadata": {},
   "source": [
    "# Stack\n",
    "\n",
    "Stack is a linear data structure that follows a particular order in which the operations are performed. The order may be *LIFO(Last In First Out)* or *FILO(First In Last Out)*.\n",
    "\n",
    "\n",
    "#### we can implement stack in 4 ways:\n",
    "\n",
    "1. Using List\n",
    "2. Using Collections.dequeue\n",
    "3. Using our own implementation"
   ]
  },
  {
   "cell_type": "markdown",
   "id": "0e31e6c1",
   "metadata": {},
   "source": [
    "### Implementation of Stack"
   ]
  },
  {
   "cell_type": "markdown",
   "id": "5702eb8d",
   "metadata": {},
   "source": [
    "#### 1. Using List\n",
    "\n",
    "* Cache friendly"
   ]
  },
  {
   "cell_type": "code",
   "execution_count": 16,
   "id": "10d92cd3",
   "metadata": {},
   "outputs": [
    {
     "name": "stdout",
     "output_type": "stream",
     "text": [
      "Stack is  [40, 60, 70]\n",
      "The item popped is  70\n",
      "Stack is  [40, 60]\n",
      "The top element is  60\n",
      "The size of the stack is  2\n",
      "isEmpty = False\n"
     ]
    }
   ],
   "source": [
    "stack = []\n",
    "\n",
    "stack.append(40)\n",
    "stack.append(60)\n",
    "stack.append(70)\n",
    "\n",
    "print(\"Stack is \",stack)\n",
    "\n",
    "print(\"The item popped is \",stack.pop())\n",
    "\n",
    "top = stack[-1]\n",
    "\n",
    "print(\"Stack is \",stack)\n",
    "\n",
    "print(\"The top element is \",top)\n",
    "\n",
    "size = len(stack)\n",
    "\n",
    "print(\"The size of the stack is \",size)\n",
    "\n",
    "if stack == []:\n",
    "    print('isEmpty = True')\n",
    "else:\n",
    "    print('isEmpty = False')"
   ]
  },
  {
   "cell_type": "markdown",
   "id": "3b21928e",
   "metadata": {},
   "source": [
    "#### 2. Using Collections.deque\n",
    "\n",
    "* Not Cache friendly"
   ]
  },
  {
   "cell_type": "code",
   "execution_count": 17,
   "id": "d24570cf",
   "metadata": {},
   "outputs": [],
   "source": [
    "from collections import deque"
   ]
  },
  {
   "cell_type": "code",
   "execution_count": 18,
   "id": "5eeefeb9",
   "metadata": {},
   "outputs": [
    {
     "name": "stdout",
     "output_type": "stream",
     "text": [
      "Stack is  deque([40, 60, 70])\n",
      "The item popped is  70\n",
      "Stack is  deque([40, 60])\n",
      "The top element is  60\n",
      "The size of the stack is  2\n",
      "isEmpty = False\n"
     ]
    }
   ],
   "source": [
    "stack = deque()\n",
    "\n",
    "stack.append(40)\n",
    "stack.append(60)\n",
    "stack.append(70)\n",
    "\n",
    "print(\"Stack is \",stack)\n",
    "\n",
    "print(\"The item popped is \",stack.pop())\n",
    "\n",
    "top = stack[-1]\n",
    "\n",
    "print(\"Stack is \",stack)\n",
    "\n",
    "print(\"The top element is \",top)\n",
    "\n",
    "size = len(stack)\n",
    "\n",
    "print(\"The size of the stack is \",size)\n",
    "\n",
    "if stack == []:\n",
    "    print('isEmpty = True')\n",
    "else:\n",
    "    print('isEmpty = False')"
   ]
  },
  {
   "cell_type": "markdown",
   "id": "ea7be938",
   "metadata": {},
   "source": [
    "3. Using our own implementation\n",
    "\n",
    "\n",
    "We are going to implement stack using `Singly Linked List`"
   ]
  },
  {
   "cell_type": "code",
   "execution_count": 19,
   "id": "0c482564",
   "metadata": {},
   "outputs": [],
   "source": [
    "class Node:\n",
    "    def __init__(self, data):\n",
    "        self.data = data\n",
    "        self.next = None"
   ]
  },
  {
   "cell_type": "code",
   "execution_count": 20,
   "id": "d62cb2a9",
   "metadata": {},
   "outputs": [],
   "source": [
    "import math\n",
    "class MyStack:\n",
    "    def __init__(self):\n",
    "        self.head = None\n",
    "        self.sz = 0\n",
    "    def push(self, data):\n",
    "        temp = Node(data)\n",
    "        temp.next = self.head\n",
    "        self.head = temp\n",
    "        self.sz += 1\n",
    "    def peek(self):\n",
    "        if self.head == None:\n",
    "            return math.inf\n",
    "        return self.head.data\n",
    "    def pop(self):\n",
    "        if self.head == None:\n",
    "            return math.inf\n",
    "        res = self.head.data\n",
    "        self.head = self.head.next\n",
    "        self.sz -= 1\n",
    "        return res"
   ]
  },
  {
   "cell_type": "code",
   "execution_count": 21,
   "id": "870e6d5d",
   "metadata": {},
   "outputs": [],
   "source": [
    "s = MyStack()"
   ]
  },
  {
   "cell_type": "code",
   "execution_count": 22,
   "id": "5eef8a77",
   "metadata": {},
   "outputs": [],
   "source": [
    "s.push(20)"
   ]
  },
  {
   "cell_type": "code",
   "execution_count": 23,
   "id": "9df487a3",
   "metadata": {},
   "outputs": [
    {
     "data": {
      "text/plain": [
       "20"
      ]
     },
     "execution_count": 23,
     "metadata": {},
     "output_type": "execute_result"
    }
   ],
   "source": [
    "s.peek()"
   ]
  },
  {
   "cell_type": "code",
   "execution_count": 24,
   "id": "c4119f12",
   "metadata": {},
   "outputs": [
    {
     "name": "stdout",
     "output_type": "stream",
     "text": [
      "Check for Balanced Parenthesis\n",
      "7. [Check for Balanced Parenthesis](#Check-for-Balanced-Parenthesis)\n",
      "#### Check for Balanced Parenthesis\n",
      "Successfully added to the comment list\n"
     ]
    }
   ],
   "source": [
    "c.new('Check for Balanced Parenthesis')"
   ]
  },
  {
   "cell_type": "markdown",
   "id": "f47dad89",
   "metadata": {},
   "source": [
    "#### Check for Balanced Parenthesis"
   ]
  },
  {
   "cell_type": "code",
   "execution_count": 25,
   "id": "9e6d2081",
   "metadata": {},
   "outputs": [],
   "source": [
    "def isMatching(a,b):\n",
    "    if (a == '(' and b == ')') or (a == '{' and b == '}') or (a == '[' and b == ']'):\n",
    "        return True\n",
    "    else:\n",
    "        return False"
   ]
  },
  {
   "cell_type": "code",
   "execution_count": 26,
   "id": "56d184a7",
   "metadata": {},
   "outputs": [],
   "source": [
    "def isBalance(s):\n",
    "    stack = []\n",
    "    for x in s:\n",
    "        if x in ('(','{','['):\n",
    "            stack.append(x)\n",
    "        else:\n",
    "            if not stack:\n",
    "                return False\n",
    "            elif isMatching(stack[-1], x) == False:\n",
    "                return False\n",
    "            else:\n",
    "                stack.pop()\n",
    "    if stack:\n",
    "        return False\n",
    "    else:\n",
    "        return True"
   ]
  },
  {
   "cell_type": "code",
   "execution_count": 27,
   "id": "1e706417",
   "metadata": {},
   "outputs": [
    {
     "data": {
      "text/plain": [
       "True"
      ]
     },
     "execution_count": 27,
     "metadata": {},
     "output_type": "execute_result"
    }
   ],
   "source": [
    "isBalance('({[]})')"
   ]
  },
  {
   "cell_type": "code",
   "execution_count": 28,
   "id": "8d368df4",
   "metadata": {},
   "outputs": [
    {
     "data": {
      "text/plain": [
       "False"
      ]
     },
     "execution_count": 28,
     "metadata": {},
     "output_type": "execute_result"
    }
   ],
   "source": [
    "isBalance('{(}')"
   ]
  }
 ],
 "metadata": {
  "kernelspec": {
   "display_name": "Python 3 (ipykernel)",
   "language": "python",
   "name": "python3"
  },
  "language_info": {
   "codemirror_mode": {
    "name": "ipython",
    "version": 3
   },
   "file_extension": ".py",
   "mimetype": "text/x-python",
   "name": "python",
   "nbconvert_exporter": "python",
   "pygments_lexer": "ipython3",
   "version": "3.10.6"
  }
 },
 "nbformat": 4,
 "nbformat_minor": 5
}
